{
 "cells": [
  {
   "cell_type": "code",
   "execution_count": null,
   "id": "08708697",
   "metadata": {},
   "outputs": [],
   "source": []
  },
  {
   "cell_type": "code",
   "execution_count": 2,
   "id": "06ee4635",
   "metadata": {},
   "outputs": [],
   "source": [
    "import re\n",
    "import numpy as np\n",
    "import random\n",
    "from numpy.random import randint as rri"
   ]
  },
  {
   "cell_type": "code",
   "execution_count": 3,
   "id": "b4218af0",
   "metadata": {},
   "outputs": [],
   "source": [
    "import warnings\n",
    "warnings.filterwarnings('ignore')"
   ]
  },
  {
   "cell_type": "raw",
   "id": "438247e9",
   "metadata": {},
   "source": [
    "이거 쓰면 길게 안나온다고 함"
   ]
  },
  {
   "cell_type": "code",
   "execution_count": 4,
   "id": "11ca9e17",
   "metadata": {},
   "outputs": [],
   "source": [
    "#dep_arr = [(0515, 0749), (0945,1252), (1200, 1441), (1604, 1920), (2050, 2358)]\n",
    "# 얘는 time/datetime 객체로 바꾸면 좋을듯 #시, 분을 나눠야 함"
   ]
  },
  {
   "cell_type": "markdown",
   "id": "66b079fe",
   "metadata": {},
   "source": [
    "## 사용 모듈"
   ]
  },
  {
   "cell_type": "markdown",
   "id": "d688596b",
   "metadata": {},
   "source": [
    "### re"
   ]
  },
  {
   "cell_type": "markdown",
   "id": "1d3056fc",
   "metadata": {},
   "source": [
    "```\n",
    " - 패턴 객체를 list에 넣어서 for 문 돌리기\n",
    " - 띄어쓰기 포함 미포함\n",
    " - match, search, findall, finditer의 반환값 확인\n",
    " - match객체의 함수 확인\n",
    "```"
   ]
  },
  {
   "cell_type": "code",
   "execution_count": 5,
   "id": "5462ac0f",
   "metadata": {},
   "outputs": [],
   "source": [
    "s = 'dhjsfsdfiorrrasbieurfharrbbswrrr'\n",
    "p = re.compile('[r]+')"
   ]
  },
  {
   "cell_type": "code",
   "execution_count": 6,
   "id": "945f3955",
   "metadata": {},
   "outputs": [
    {
     "name": "stdout",
     "output_type": "stream",
     "text": [
      "<re.Match object; span=(10, 13), match='rrr'>\n",
      "<class 're.Match'> (10, 13) rrr\n",
      "<re.Match object; span=(19, 20), match='r'>\n",
      "<class 're.Match'> (19, 20) r\n",
      "<re.Match object; span=(23, 25), match='rr'>\n",
      "<class 're.Match'> (23, 25) rr\n",
      "<re.Match object; span=(29, 32), match='rrr'>\n",
      "<class 're.Match'> (29, 32) rrr\n"
     ]
    }
   ],
   "source": [
    "fi = p.finditer(s)\n",
    "li_fi = list(fi)\n",
    "for i in li_fi:\n",
    "    print(i)\n",
    "    print(type(i), i.span(), i.group())"
   ]
  },
  {
   "cell_type": "code",
   "execution_count": 7,
   "id": "09164974",
   "metadata": {},
   "outputs": [
    {
     "name": "stdout",
     "output_type": "stream",
     "text": [
      "<re.Match object; span=(10, 13), match='rrr'>\n",
      "<re.Match object; span=(19, 20), match='r'>\n",
      "<re.Match object; span=(23, 25), match='rr'>\n",
      "<re.Match object; span=(29, 32), match='rrr'>\n",
      "\n"
     ]
    }
   ],
   "source": [
    "test_fi = p.finditer(s)\n",
    "for m in test_fi:\n",
    "    print(m)\n",
    "print()\n",
    "for m in test_fi:\n",
    "    print(m)"
   ]
  },
  {
   "cell_type": "code",
   "execution_count": 8,
   "id": "08a2ee1f",
   "metadata": {},
   "outputs": [
    {
     "data": {
      "text/plain": [
       "(['rrr', 'r', 'rr', 'rrr'], list)"
      ]
     },
     "execution_count": 8,
     "metadata": {},
     "output_type": "execute_result"
    }
   ],
   "source": [
    "test_fa = p.findall(s)\n",
    "test_fa, type(test_fa)"
   ]
  },
  {
   "cell_type": "code",
   "execution_count": null,
   "id": "6828a624",
   "metadata": {},
   "outputs": [],
   "source": []
  },
  {
   "cell_type": "code",
   "execution_count": null,
   "id": "640fecf6",
   "metadata": {},
   "outputs": [],
   "source": []
  },
  {
   "cell_type": "markdown",
   "id": "835ee2a4",
   "metadata": {},
   "source": [
    "### str"
   ]
  },
  {
   "cell_type": "markdown",
   "id": "df0023fa",
   "metadata": {},
   "source": [
    "```\n",
    " - 문자열 찾고 index 반환하기 기능 확인, 없으면 만들고\n",
    "```"
   ]
  },
  {
   "cell_type": "code",
   "execution_count": 9,
   "id": "d9b0f798",
   "metadata": {},
   "outputs": [],
   "source": [
    "s = \"아버지가 방에 들어 가신다.\""
   ]
  },
  {
   "cell_type": "code",
   "execution_count": 10,
   "id": "5ef20e27",
   "metadata": {},
   "outputs": [
    {
     "data": {
      "text/plain": [
       "3"
      ]
     },
     "execution_count": 10,
     "metadata": {},
     "output_type": "execute_result"
    }
   ],
   "source": [
    "s.find(\"가\")"
   ]
  },
  {
   "cell_type": "code",
   "execution_count": 11,
   "id": "7cc5e633",
   "metadata": {},
   "outputs": [
    {
     "data": {
      "text/plain": [
       "7"
      ]
     },
     "execution_count": 11,
     "metadata": {},
     "output_type": "execute_result"
    }
   ],
   "source": [
    "s[4:].find(\"가\")"
   ]
  },
  {
   "cell_type": "code",
   "execution_count": 12,
   "id": "2cdbd548",
   "metadata": {},
   "outputs": [
    {
     "data": {
      "text/plain": [
       "-1"
      ]
     },
     "execution_count": 12,
     "metadata": {},
     "output_type": "execute_result"
    }
   ],
   "source": [
    "s[7+4+1:].find(\"가\")"
   ]
  },
  {
   "cell_type": "raw",
   "id": "b5966fdb",
   "metadata": {},
   "source": [
    "만약 관련 함수를 만든다면 index가 OutOfRange일때나 find 값이 음수 나올때 확인하면 될듯."
   ]
  },
  {
   "cell_type": "markdown",
   "id": "09300c29",
   "metadata": {},
   "source": [
    "### date/ time"
   ]
  },
  {
   "cell_type": "code",
   "execution_count": 13,
   "id": "517ccc7a",
   "metadata": {},
   "outputs": [],
   "source": [
    "from datetime import datetime, date, time, timedelta"
   ]
  },
  {
   "cell_type": "code",
   "execution_count": 14,
   "id": "09c3af83",
   "metadata": {},
   "outputs": [
    {
     "data": {
      "text/plain": [
       "datetime.datetime(2022, 7, 30, 0, 0)"
      ]
     },
     "execution_count": 14,
     "metadata": {},
     "output_type": "execute_result"
    }
   ],
   "source": [
    "d = datetime(2022, 7, 30)\n",
    "d"
   ]
  },
  {
   "cell_type": "code",
   "execution_count": 15,
   "id": "f2599642",
   "metadata": {},
   "outputs": [
    {
     "data": {
      "text/plain": [
       "datetime.timedelta(days=2)"
      ]
     },
     "execution_count": 15,
     "metadata": {},
     "output_type": "execute_result"
    }
   ],
   "source": [
    "td = timedelta(2)\n",
    "td"
   ]
  },
  {
   "cell_type": "code",
   "execution_count": 16,
   "id": "b80a7118",
   "metadata": {},
   "outputs": [
    {
     "data": {
      "text/plain": [
       "datetime.datetime(2022, 8, 1, 0, 0)"
      ]
     },
     "execution_count": 16,
     "metadata": {},
     "output_type": "execute_result"
    }
   ],
   "source": [
    "d + td"
   ]
  },
  {
   "cell_type": "code",
   "execution_count": 17,
   "id": "faa6c413",
   "metadata": {},
   "outputs": [
    {
     "data": {
      "text/plain": [
       "datetime.time(7, 51)"
      ]
     },
     "execution_count": 17,
     "metadata": {},
     "output_type": "execute_result"
    }
   ],
   "source": [
    "t1 = time(7,51)\n",
    "t1"
   ]
  },
  {
   "cell_type": "code",
   "execution_count": 18,
   "id": "da662e72",
   "metadata": {},
   "outputs": [
    {
     "data": {
      "text/plain": [
       "datetime.time(8, 3)"
      ]
     },
     "execution_count": 18,
     "metadata": {},
     "output_type": "execute_result"
    }
   ],
   "source": [
    "t2 = time(8,3)\n",
    "t2"
   ]
  },
  {
   "cell_type": "code",
   "execution_count": 19,
   "id": "b6bebb77",
   "metadata": {},
   "outputs": [
    {
     "data": {
      "text/plain": [
       "False"
      ]
     },
     "execution_count": 19,
     "metadata": {},
     "output_type": "execute_result"
    }
   ],
   "source": [
    "t2 < t1"
   ]
  },
  {
   "cell_type": "code",
   "execution_count": 20,
   "id": "aeadbb77",
   "metadata": {},
   "outputs": [
    {
     "data": {
      "text/plain": [
       "(2022, 7, 30, 0, 0, 0)"
      ]
     },
     "execution_count": 20,
     "metadata": {},
     "output_type": "execute_result"
    }
   ],
   "source": [
    "d.year, d.month, d.day, d.hour, d.minute, d.second"
   ]
  },
  {
   "cell_type": "code",
   "execution_count": 21,
   "id": "fb904e4e",
   "metadata": {},
   "outputs": [
    {
     "data": {
      "text/plain": [
       "(2, 0, 0, 172800.0)"
      ]
     },
     "execution_count": 21,
     "metadata": {},
     "output_type": "execute_result"
    }
   ],
   "source": [
    "td.days, td.seconds, td.microseconds, td.total_seconds()"
   ]
  },
  {
   "cell_type": "code",
   "execution_count": 22,
   "id": "030c7e50",
   "metadata": {},
   "outputs": [
    {
     "data": {
      "text/plain": [
       "(7, 51, 0)"
      ]
     },
     "execution_count": 22,
     "metadata": {},
     "output_type": "execute_result"
    }
   ],
   "source": [
    "t1.hour, t1.minute, t1.second"
   ]
  },
  {
   "cell_type": "code",
   "execution_count": 23,
   "id": "292e0ba8",
   "metadata": {},
   "outputs": [
    {
     "data": {
      "text/plain": [
       "'2022/07/30'"
      ]
     },
     "execution_count": 23,
     "metadata": {},
     "output_type": "execute_result"
    }
   ],
   "source": [
    "d.strftime('%Y/%m/%d')"
   ]
  },
  {
   "cell_type": "code",
   "execution_count": 24,
   "id": "5db39d83",
   "metadata": {},
   "outputs": [
    {
     "data": {
      "text/plain": [
       "'07:51'"
      ]
     },
     "execution_count": 24,
     "metadata": {},
     "output_type": "execute_result"
    }
   ],
   "source": [
    "t1.strftime('%H:%M')"
   ]
  },
  {
   "cell_type": "code",
   "execution_count": 25,
   "id": "501e726e",
   "metadata": {},
   "outputs": [
    {
     "data": {
      "text/plain": [
       "datetime.date(2022, 5, 3)"
      ]
     },
     "execution_count": 25,
     "metadata": {},
     "output_type": "execute_result"
    }
   ],
   "source": [
    "d_test = date(2022, 5, 3)\n",
    "d_test"
   ]
  },
  {
   "cell_type": "code",
   "execution_count": 26,
   "id": "2f9b63ed",
   "metadata": {},
   "outputs": [
    {
     "data": {
      "text/plain": [
       "(2022, 5, 3)"
      ]
     },
     "execution_count": 26,
     "metadata": {},
     "output_type": "execute_result"
    }
   ],
   "source": [
    "d_test.year, d_test.month, d_test.day"
   ]
  },
  {
   "cell_type": "code",
   "execution_count": 27,
   "id": "32d49138",
   "metadata": {},
   "outputs": [
    {
     "data": {
      "text/plain": [
       "'2022-05-03'"
      ]
     },
     "execution_count": 27,
     "metadata": {},
     "output_type": "execute_result"
    }
   ],
   "source": [
    "d_test.strftime('%Y-%m-%d')"
   ]
  },
  {
   "cell_type": "code",
   "execution_count": 28,
   "id": "38d293d6",
   "metadata": {},
   "outputs": [
    {
     "data": {
      "text/plain": [
       "(datetime.time(8, 3), datetime.time(7, 51))"
      ]
     },
     "execution_count": 28,
     "metadata": {},
     "output_type": "execute_result"
    }
   ],
   "source": [
    "t2, t1"
   ]
  },
  {
   "cell_type": "code",
   "execution_count": 29,
   "id": "5f08d4c8",
   "metadata": {},
   "outputs": [
    {
     "data": {
      "text/plain": [
       "datetime.datetime(2022, 5, 3, 8, 3)"
      ]
     },
     "execution_count": 29,
     "metadata": {},
     "output_type": "execute_result"
    }
   ],
   "source": [
    "datetime(d_test.year, d_test.month, d_test.day,\n",
    "        t2.hour, t2.minute)"
   ]
  },
  {
   "cell_type": "code",
   "execution_count": 30,
   "id": "73e9a552",
   "metadata": {},
   "outputs": [
    {
     "data": {
      "text/plain": [
       "datetime.date(2022, 2, 3)"
      ]
     },
     "execution_count": 30,
     "metadata": {},
     "output_type": "execute_result"
    }
   ],
   "source": [
    "dt = date(2022, 2, 3)\n",
    "dt"
   ]
  },
  {
   "cell_type": "code",
   "execution_count": 31,
   "id": "421fa3ed",
   "metadata": {},
   "outputs": [
    {
     "data": {
      "text/plain": [
       "datetime.timedelta(days=2)"
      ]
     },
     "execution_count": 31,
     "metadata": {},
     "output_type": "execute_result"
    }
   ],
   "source": [
    "td"
   ]
  },
  {
   "cell_type": "code",
   "execution_count": 32,
   "id": "e48f31d7",
   "metadata": {},
   "outputs": [
    {
     "data": {
      "text/plain": [
       "datetime.date(2022, 1, 30)"
      ]
     },
     "execution_count": 32,
     "metadata": {},
     "output_type": "execute_result"
    }
   ],
   "source": [
    "dt-td*2"
   ]
  },
  {
   "cell_type": "code",
   "execution_count": 33,
   "id": "4746ef93",
   "metadata": {},
   "outputs": [
    {
     "data": {
      "text/plain": [
       "5"
      ]
     },
     "execution_count": 33,
     "metadata": {},
     "output_type": "execute_result"
    }
   ],
   "source": [
    "d.weekday()"
   ]
  },
  {
   "cell_type": "code",
   "execution_count": 34,
   "id": "3b37e461",
   "metadata": {},
   "outputs": [
    {
     "data": {
      "text/plain": [
       "3"
      ]
     },
     "execution_count": 34,
     "metadata": {},
     "output_type": "execute_result"
    }
   ],
   "source": [
    "dt.weekday()"
   ]
  },
  {
   "cell_type": "code",
   "execution_count": 35,
   "id": "41ba2a16",
   "metadata": {},
   "outputs": [
    {
     "data": {
      "text/plain": [
       "datetime.date(2022, 7, 4)"
      ]
     },
     "execution_count": 35,
     "metadata": {},
     "output_type": "execute_result"
    }
   ],
   "source": [
    "datetime.now().date()"
   ]
  },
  {
   "cell_type": "code",
   "execution_count": null,
   "id": "f8c12594",
   "metadata": {},
   "outputs": [],
   "source": []
  },
  {
   "cell_type": "markdown",
   "id": "cb8a2fe0",
   "metadata": {},
   "source": [
    "# list_station을 채운다."
   ]
  },
  {
   "cell_type": "code",
   "execution_count": 63,
   "id": "bed58f78",
   "metadata": {},
   "outputs": [
    {
     "data": {
      "text/html": [
       "<div>\n",
       "<style scoped>\n",
       "    .dataframe tbody tr th:only-of-type {\n",
       "        vertical-align: middle;\n",
       "    }\n",
       "\n",
       "    .dataframe tbody tr th {\n",
       "        vertical-align: top;\n",
       "    }\n",
       "\n",
       "    .dataframe thead th {\n",
       "        text-align: right;\n",
       "    }\n",
       "</style>\n",
       "<table border=\"1\" class=\"dataframe\">\n",
       "  <thead>\n",
       "    <tr style=\"text-align: right;\">\n",
       "      <th></th>\n",
       "      <th>시발역</th>\n",
       "      <th>종착역</th>\n",
       "      <th>열차번호</th>\n",
       "      <th>급행</th>\n",
       "      <th>광운대</th>\n",
       "      <th>청량리</th>\n",
       "      <th>회기</th>\n",
       "      <th>중랑</th>\n",
       "      <th>상봉</th>\n",
       "      <th>망우</th>\n",
       "      <th>...</th>\n",
       "      <th>대성리</th>\n",
       "      <th>청평</th>\n",
       "      <th>상천</th>\n",
       "      <th>가평</th>\n",
       "      <th>굴봉산</th>\n",
       "      <th>백양리</th>\n",
       "      <th>강촌</th>\n",
       "      <th>김유정</th>\n",
       "      <th>남춘천</th>\n",
       "      <th>춘천</th>\n",
       "    </tr>\n",
       "  </thead>\n",
       "  <tbody>\n",
       "    <tr>\n",
       "      <th>0</th>\n",
       "      <td>평내호</td>\n",
       "      <td>춘천</td>\n",
       "      <td>K8001</td>\n",
       "      <td></td>\n",
       "      <td>NaN</td>\n",
       "      <td>NaN</td>\n",
       "      <td>NaN</td>\n",
       "      <td>NaN</td>\n",
       "      <td>NaN</td>\n",
       "      <td>NaN</td>\n",
       "      <td>...</td>\n",
       "      <td>5:22:30</td>\n",
       "      <td>5:29:00</td>\n",
       "      <td>5:33:30</td>\n",
       "      <td>5:39:30</td>\n",
       "      <td>5:44:00</td>\n",
       "      <td>5:47:30</td>\n",
       "      <td>5:52:30</td>\n",
       "      <td>5:58:30</td>\n",
       "      <td>6:04:00</td>\n",
       "      <td>6:07:00</td>\n",
       "    </tr>\n",
       "    <tr>\n",
       "      <th>1</th>\n",
       "      <td>상봉</td>\n",
       "      <td>춘천</td>\n",
       "      <td>K8003</td>\n",
       "      <td></td>\n",
       "      <td>NaN</td>\n",
       "      <td>NaN</td>\n",
       "      <td>NaN</td>\n",
       "      <td>NaN</td>\n",
       "      <td>5:10:00</td>\n",
       "      <td>5:12:00</td>\n",
       "      <td>...</td>\n",
       "      <td>5:46:30</td>\n",
       "      <td>5:53:00</td>\n",
       "      <td>5:57:30</td>\n",
       "      <td>6:03:30</td>\n",
       "      <td>6:08:00</td>\n",
       "      <td>6:11:30</td>\n",
       "      <td>6:16:30</td>\n",
       "      <td>6:22:30</td>\n",
       "      <td>6:28:00</td>\n",
       "      <td>6:31:00</td>\n",
       "    </tr>\n",
       "    <tr>\n",
       "      <th>2</th>\n",
       "      <td>상봉</td>\n",
       "      <td>춘천</td>\n",
       "      <td>K8005</td>\n",
       "      <td></td>\n",
       "      <td>NaN</td>\n",
       "      <td>NaN</td>\n",
       "      <td>NaN</td>\n",
       "      <td>NaN</td>\n",
       "      <td>5:29:00</td>\n",
       "      <td>5:31:00</td>\n",
       "      <td>...</td>\n",
       "      <td>6:05:30</td>\n",
       "      <td>6:12:00</td>\n",
       "      <td>6:16:30</td>\n",
       "      <td>6:22:30</td>\n",
       "      <td>6:27:00</td>\n",
       "      <td>6:30:30</td>\n",
       "      <td>6:35:30</td>\n",
       "      <td>6:41:30</td>\n",
       "      <td>6:47:00</td>\n",
       "      <td>6:50:00</td>\n",
       "    </tr>\n",
       "    <tr>\n",
       "      <th>3</th>\n",
       "      <td>상봉</td>\n",
       "      <td>춘천</td>\n",
       "      <td>K8007</td>\n",
       "      <td></td>\n",
       "      <td>NaN</td>\n",
       "      <td>NaN</td>\n",
       "      <td>NaN</td>\n",
       "      <td>NaN</td>\n",
       "      <td>5:47:00</td>\n",
       "      <td>5:49:00</td>\n",
       "      <td>...</td>\n",
       "      <td>6:23:30</td>\n",
       "      <td>6:30:00</td>\n",
       "      <td>6:34:30</td>\n",
       "      <td>6:40:30</td>\n",
       "      <td>6:45:00</td>\n",
       "      <td>6:48:30</td>\n",
       "      <td>6:53:30</td>\n",
       "      <td>6:59:30</td>\n",
       "      <td>7:05:00</td>\n",
       "      <td>7:08:00</td>\n",
       "    </tr>\n",
       "    <tr>\n",
       "      <th>4</th>\n",
       "      <td>상봉</td>\n",
       "      <td>춘천</td>\n",
       "      <td>K8009</td>\n",
       "      <td></td>\n",
       "      <td>NaN</td>\n",
       "      <td>NaN</td>\n",
       "      <td>NaN</td>\n",
       "      <td>NaN</td>\n",
       "      <td>6:05:00</td>\n",
       "      <td>6:07:00</td>\n",
       "      <td>...</td>\n",
       "      <td>6:41:30</td>\n",
       "      <td>6:51:30</td>\n",
       "      <td>6:56:00</td>\n",
       "      <td>7:02:00</td>\n",
       "      <td>7:06:30</td>\n",
       "      <td>7:10:00</td>\n",
       "      <td>7:15:00</td>\n",
       "      <td>7:21:00</td>\n",
       "      <td>7:26:30</td>\n",
       "      <td>7:29:30</td>\n",
       "    </tr>\n",
       "  </tbody>\n",
       "</table>\n",
       "<p>5 rows × 29 columns</p>\n",
       "</div>"
      ],
      "text/plain": [
       "   시발역 종착역   열차번호        급행  광운대  청량리   회기   중랑       상봉       망우  ...  \\\n",
       "0  평내호  춘천  K8001            NaN  NaN  NaN  NaN      NaN      NaN  ...   \n",
       "1   상봉  춘천  K8003            NaN  NaN  NaN  NaN  5:10:00  5:12:00  ...   \n",
       "2   상봉  춘천  K8005            NaN  NaN  NaN  NaN  5:29:00  5:31:00  ...   \n",
       "3   상봉  춘천  K8007            NaN  NaN  NaN  NaN  5:47:00  5:49:00  ...   \n",
       "4   상봉  춘천  K8009            NaN  NaN  NaN  NaN  6:05:00  6:07:00  ...   \n",
       "\n",
       "       대성리       청평       상천       가평      굴봉산      백양리       강촌      김유정  \\\n",
       "0  5:22:30  5:29:00  5:33:30  5:39:30  5:44:00  5:47:30  5:52:30  5:58:30   \n",
       "1  5:46:30  5:53:00  5:57:30  6:03:30  6:08:00  6:11:30  6:16:30  6:22:30   \n",
       "2  6:05:30  6:12:00  6:16:30  6:22:30  6:27:00  6:30:30  6:35:30  6:41:30   \n",
       "3  6:23:30  6:30:00  6:34:30  6:40:30  6:45:00  6:48:30  6:53:30  6:59:30   \n",
       "4  6:41:30  6:51:30  6:56:00  7:02:00  7:06:30  7:10:00  7:15:00  7:21:00   \n",
       "\n",
       "       남춘천       춘천  \n",
       "0  6:04:00  6:07:00  \n",
       "1  6:28:00  6:31:00  \n",
       "2  6:47:00  6:50:00  \n",
       "3  7:05:00  7:08:00  \n",
       "4  7:26:30  7:29:30  \n",
       "\n",
       "[5 rows x 29 columns]"
      ]
     },
     "execution_count": 63,
     "metadata": {},
     "output_type": "execute_result"
    }
   ],
   "source": [
    "import pandas as pd\n",
    "trains = pd.read_csv('./dataset/time_table.CSV', encoding='CP949')\n",
    "trains.head()"
   ]
  },
  {
   "cell_type": "code",
   "execution_count": 67,
   "id": "4836a43d",
   "metadata": {},
   "outputs": [],
   "source": [
    "list_station = list(trains.columns)"
   ]
  },
  {
   "cell_type": "code",
   "execution_count": 68,
   "id": "d5e6d646",
   "metadata": {},
   "outputs": [],
   "source": [
    "list_station.remove('시발역')\n",
    "list_station.remove('종착역')\n",
    "list_station.remove('열차번호')\n",
    "list_station.remove('급행')"
   ]
  },
  {
   "cell_type": "code",
   "execution_count": 70,
   "id": "dac08d7c",
   "metadata": {},
   "outputs": [
    {
     "name": "stdout",
     "output_type": "stream",
     "text": [
      "광운대/ 청량리/ 회기/ 중랑/ 상봉/ 망우/ 신내/ 갈매/ 별내/ 퇴계원/ 사릉/ 금곡/ 평내호/ 천마산/ 마석/ 대성리/ 청평/ 상천/ 가평/ 굴봉산/ 백양리/ 강촌/ 김유정/ 남춘천/ 춘천/ "
     ]
    }
   ],
   "source": [
    "for i in list_station:\n",
    "    print(i, end = '/ ')"
   ]
  },
  {
   "cell_type": "code",
   "execution_count": null,
   "id": "4dbd41b9",
   "metadata": {},
   "outputs": [],
   "source": []
  },
  {
   "cell_type": "code",
   "execution_count": null,
   "id": "bbc930dd",
   "metadata": {},
   "outputs": [],
   "source": []
  },
  {
   "cell_type": "code",
   "execution_count": null,
   "id": "91e600f3",
   "metadata": {},
   "outputs": [],
   "source": []
  },
  {
   "cell_type": "markdown",
   "id": "df1141f9",
   "metadata": {},
   "source": [
    "# 키워드 추출"
   ]
  },
  {
   "cell_type": "markdown",
   "id": "716c2ed0",
   "metadata": {},
   "source": [
    "## 인원수pp"
   ]
  },
  {
   "cell_type": "code",
   "execution_count": 37,
   "id": "24cc6700",
   "metadata": {},
   "outputs": [],
   "source": [
    "li_int = [1, 2, 3, 4, 5, 6, 7, 8, 9]\n",
    "count_kor = {'한':1, '두':2, '세':3, '네':4, '다섯':5, \n",
    "             '여섯':6, '일곱': 7, '여덟':8, '아홉': 9 }\n",
    "li_kor = ['한', '두', '세', '네', '다섯', '여섯', '일곱', '여덟', '아홉']\n",
    "key_pp = ['명', '사람']"
   ]
  },
  {
   "cell_type": "markdown",
   "id": "bb0670c8",
   "metadata": {},
   "source": [
    "### test_str_pp\n",
    "- 테스트용 문자열을 만드는 함수 입니다."
   ]
  },
  {
   "cell_type": "code",
   "execution_count": 38,
   "id": "18642955",
   "metadata": {},
   "outputs": [],
   "source": [
    "def test_str_pp():\n",
    "    if rri(2):\n",
    "        s = str(li_int[rri(9)])\n",
    "        if rri(2):\n",
    "            s += ' '\n",
    "        s += key_pp[0]\n",
    "    else:\n",
    "        s = li_kor[rri(9)]\n",
    "        if rri(2):\n",
    "            s += ' '\n",
    "        s += key_pp[rri(2)]\n",
    "    return s"
   ]
  },
  {
   "cell_type": "code",
   "execution_count": 39,
   "id": "a1ee5d11",
   "metadata": {},
   "outputs": [
    {
     "name": "stdout",
     "output_type": "stream",
     "text": [
      "5명/ 6 명/ 4명/ 네 명/ 네명/ 1 명/ 5 명/ 네 명/ 6 명/ 일곱 명/ 한 명/ 4명/ 2 명/ 4명/ 1 명/ 5명/ 1명/ 3 명/ 두 명/ 7명/ 세 명/ 세 명/ 일곱사람/ 여섯 명/ 일곱명/ 두명/ 여덟명/ 6명/ 9명/ 한 명/ 6 명/ 6명/ 일곱 명/ 두명/ 여섯사람/ 다섯사람/ 5 명/ 7명/ 두명/ 6명/ 세 명/ 7 명/ 9 명/ 세사람/ 세사람/ 8 명/ 1 명/ 두명/ 세명/ 9명/ 1명/ 여덟명/ 9명/ 세 명/ 한사람/ 한사람/ 9명/ 3 명/ 6명/ 2명/ 두명/ 9 명/ 4명/ 4명/ 5명/ 9 명/ 4명/ 8 명/ 여덟사람/ 여섯명/ 일곱사람/ 2명/ 한사람/ 8 명/ 다섯 명/ 여섯 사람/ 다섯 사람/ 여덟 명/ 7 명/ 여섯명/ 5 명/ 세사람/ 네명/ 여섯사람/ 1 명/ 4명/ 1 명/ 여섯 명/ 8 명/ 여섯명/ 5 명/ 세사람/ 세 사람/ 8 명/ 8 명/ 2명/ 한 명/ 5 명/ 여덟사람/ 다섯 명/ "
     ]
    }
   ],
   "source": [
    "for i in range(100):\n",
    "    print(test_str_pp(), end = '/ ')"
   ]
  },
  {
   "cell_type": "markdown",
   "id": "bc1e73a3",
   "metadata": {},
   "source": [
    "### get_info_pp\n",
    "- 명, 사람 키워드로 1개의 숫자 얻을 수 있으면 (val, start, end, str_found)반환\n",
    "- 그 이외의 경우 그냥 재질문 np.nan 반환"
   ]
  },
  {
   "cell_type": "code",
   "execution_count": 40,
   "id": "495235cf",
   "metadata": {},
   "outputs": [],
   "source": [
    "def get_info_pp(s):\n",
    "    \n",
    "    list_p_r = ['(\\d+)\\s*'+key_pp[0],\n",
    "                '([가-힣]+)\\s*'+key_pp[0], \n",
    "                '([가-힣]+)\\s*'+key_pp[1]]\n",
    "    list_pattern = []\n",
    "    \n",
    "    for i in list_p_r:\n",
    "        p = re.compile(i)\n",
    "        list_pattern.append(p)\n",
    "\n",
    "    for pt in list_pattern:      \n",
    "        fi = pt.finditer(s)\n",
    "        list_fi = list(fi)\n",
    "        \n",
    "        if len(list_fi) == 1:\n",
    "            fi = list_fi[0]\n",
    "            val_r = fi.group(1)\n",
    "            \n",
    "            try:\n",
    "                val = int(val_r)\n",
    "            except ValueError:\n",
    "                if val_r in li_kor:\n",
    "                    val = count_kor[val_r]\n",
    "                else:\n",
    "                    return\n",
    "                \n",
    "            start, end = fi.span()\n",
    "            str_found = fi.group()\n",
    "            \n",
    "            return str(val), (start, end), str_found\n",
    "    if ('나' in s) or ('혼자' in s):\n",
    "        return '1', None, None\n",
    "    return"
   ]
  },
  {
   "cell_type": "code",
   "execution_count": 41,
   "id": "54b9f009",
   "metadata": {},
   "outputs": [
    {
     "name": "stdout",
     "output_type": "stream",
     "text": [
      "input =  두명 \t\t\t ext =  ('2', (0, 2), '두명')\n",
      "input =  8 명 \t\t\t ext =  ('8', (0, 3), '8 명')\n",
      "input =  세 사람 \t\t\t ext =  ('3', (0, 4), '세 사람')\n",
      "input =  네 사람 \t\t\t ext =  ('4', (0, 4), '네 사람')\n",
      "input =  여덟명 \t\t\t ext =  ('8', (0, 3), '여덟명')\n",
      "input =  2 명 \t\t\t ext =  ('2', (0, 3), '2 명')\n",
      "input =  네 사람 \t\t\t ext =  ('4', (0, 4), '네 사람')\n",
      "input =  8명 \t\t\t ext =  ('8', (0, 2), '8명')\n",
      "input =  두사람 \t\t\t ext =  ('2', (0, 3), '두사람')\n",
      "input =  일곱사람 \t\t\t ext =  ('7', (0, 4), '일곱사람')\n",
      "\n"
     ]
    }
   ],
   "source": [
    "for i in range(10):\n",
    "    s = test_str_pp()\n",
    "    print('input = ', s, '\\t\\t\\t', 'ext = ', get_info_pp(s))\n",
    "print()"
   ]
  },
  {
   "cell_type": "code",
   "execution_count": 42,
   "id": "4691534b",
   "metadata": {},
   "outputs": [
    {
     "name": "stdout",
     "output_type": "stream",
     "text": [
      "input =  강아지 \t\t\t ext =  None\n",
      "input =  멍명이 \t\t\t ext =  None\n",
      "input =  뭔사람 \t\t\t ext =  None\n",
      "input =     \t\t\t ext =  None\n"
     ]
    }
   ],
   "source": [
    "s = ['강아지',\n",
    "    '멍명이',\n",
    "    '뭔사람',\n",
    "    '  ']\n",
    "for i in s:\n",
    "    print('input = ', i, '\\t\\t\\t', 'ext = ', get_info_pp(i))\n"
   ]
  },
  {
   "cell_type": "code",
   "execution_count": null,
   "id": "e7c8a2a5",
   "metadata": {},
   "outputs": [],
   "source": []
  },
  {
   "cell_type": "markdown",
   "id": "c63559d6",
   "metadata": {},
   "source": [
    "## 출발역과 도착역 from/to"
   ]
  },
  {
   "cell_type": "raw",
   "id": "1c83c054",
   "metadata": {},
   "source": [
    "역이름 리스트 만든다. list_station\n",
    "키워드를 만든다. key_from, key_to"
   ]
  },
  {
   "cell_type": "code",
   "execution_count": 43,
   "id": "c04d38dd",
   "metadata": {},
   "outputs": [],
   "source": [
    "#list_station = ['용산', '행신', '광명', '천안아산', '오송'] #호남선 일부\n",
    "key_from = ['에서', '출발']\n",
    "key_to = ['까지', '로', '으로', '에 ', #에서와의 혼동을 피하기 위해 space를 붙임\n",
    "          '가', '갈'] "
   ]
  },
  {
   "cell_type": "raw",
   "id": "c05ea62d",
   "metadata": {},
   "source": [
    "랜덤함수를 사용하여 test_str_from, test_str_to 작성"
   ]
  },
  {
   "cell_type": "code",
   "execution_count": 44,
   "id": "81159938",
   "metadata": {},
   "outputs": [],
   "source": [
    "import re\n",
    "import numpy as np\n",
    "from numpy.random import randint as rri"
   ]
  },
  {
   "cell_type": "markdown",
   "id": "36fd8a00",
   "metadata": {},
   "source": [
    "### test_str_from"
   ]
  },
  {
   "cell_type": "code",
   "execution_count": 45,
   "id": "f0462fc0",
   "metadata": {},
   "outputs": [],
   "source": [
    "def test_str_from():\n",
    "    s = list_station[rri(len(list_station))]\n",
    "    if rri(2):\n",
    "        s += ' '    \n",
    "    if rri(2):\n",
    "        s += '역'\n",
    "    if rri(2):\n",
    "        s += ' '\n",
    "    s += key_from[rri(len(key_from))]\n",
    "    return s"
   ]
  },
  {
   "cell_type": "code",
   "execution_count": 46,
   "id": "e5d62870",
   "metadata": {},
   "outputs": [
    {
     "name": "stdout",
     "output_type": "stream",
     "text": [
      "행신  에서/ 용산역 에서/ 용산 에서/ 용산  에서/ 용산역에서/ 행신 에서/ 오송 출발/ 오송에서/ 행신 역 출발/ 오송 출발/ 오송 출발/ 천안아산출발/ 천안아산 에서/ 행신 에서/ 천안아산 역 에서/ 천안아산  에서/ 용산 출발/ 광명역 에서/ 행신역에서/ 천안아산역 에서/ 행신 출발/ 행신 에서/ 천안아산역출발/ 광명역에서/ 천안아산 역 에서/ 오송역 출발/ 천안아산출발/ 오송출발/ 행신에서/ 행신에서/ 광명 출발/ 광명출발/ 행신역출발/ 광명  출발/ 행신  출발/ 광명 에서/ 천안아산역출발/ 행신 출발/ 행신에서/ 용산 역 에서/ 천안아산  에서/ 천안아산역 출발/ 용산 역 출발/ 광명 역에서/ 오송 역에서/ 용산 역에서/ 용산역출발/ 용산 역 에서/ 천안아산 에서/ 행신 에서/ 광명역 출발/ 행신 출발/ 오송역 출발/ 행신 출발/ 광명역 출발/ 행신 역 에서/ 용산역출발/ 천안아산  출발/ 광명 에서/ 천안아산 역출발/ 용산에서/ 용산역 출발/ 광명 출발/ 용산 역 에서/ 용산 출발/ 천안아산역에서/ 오송 역에서/ 천안아산에서/ 천안아산 출발/ 용산역출발/ 용산  에서/ 오송 출발/ 오송역 에서/ 광명에서/ 광명 에서/ 천안아산역에서/ 오송역에서/ 오송역 출발/ 용산 역에서/ 광명  출발/ 용산  에서/ 오송역 출발/ 용산역 에서/ 광명 출발/ 용산에서/ 용산  에서/ 천안아산역 출발/ 오송역출발/ 천안아산에서/ 용산  출발/ 행신 출발/ 오송 출발/ 광명 에서/ 오송역 에서/ 광명  에서/ 행신 역 에서/ 천안아산역에서/ 오송역 출발/ 용산 역 출발/ 천안아산  에서/ "
     ]
    }
   ],
   "source": [
    "for i in range(100):\n",
    "    print(test_str_from(), end = '/ ')"
   ]
  },
  {
   "cell_type": "raw",
   "id": "fb5606b0",
   "metadata": {},
   "source": [
    "get_info_from/ get_info_to\n",
    "\n",
    "리스트 키워드를 사용하여 컴파일용 문자열 담는다. list_p_r\n",
    "\n",
    "패턴을 compile해서 각각 리스트에 담는다.  list_pattern\n",
    "\n",
    "finditer하고 list로 변경해서 len == 1 인것을 뽑는다. list_fi\n",
    "\n",
    "group index를 사용하여 역이름 val를 뽑는다.\n",
    "val in list_station 으로 있으면 return 값은 val, start, end, str_found\n",
    "                                            없으면 return 값은 np.nan"
   ]
  },
  {
   "cell_type": "markdown",
   "id": "c47b00ed",
   "metadata": {},
   "source": [
    "### get_info_from"
   ]
  },
  {
   "cell_type": "code",
   "execution_count": 47,
   "id": "5a636bd3",
   "metadata": {},
   "outputs": [],
   "source": [
    "def get_info_from(s):\n",
    "    \n",
    "    if s[:5] == 'again':\n",
    "        result = get_info_station(s[5:])\n",
    "        if result:\n",
    "            return result\n",
    "        s = s[5:]\n",
    "        \n",
    "        \n",
    "    # 문장 대답\n",
    "    list_p_r = [\n",
    "        '([가-힣]+)\\s*'+key_from[0],\n",
    "        '([가-힣]+)\\s*'+key_from[1],\n",
    "       '([가-힣]+)\\s*[역]\\s*'+key_from[0],\n",
    "        '([가-힣]+)\\s*[역]\\s*'+key_from[1]\n",
    "    ]\n",
    "    list_pattern = []\n",
    "    for p_r in list_p_r:\n",
    "        p = re.compile(p_r)\n",
    "        list_pattern.append(p)\n",
    "        \n",
    "    for pt in list_pattern:\n",
    "        fi = pt.finditer(s)\n",
    "        list_fi = list(fi)\n",
    "#         print('****pt = ', pt)\n",
    "#         print('****list_fi = ', list_fi)\n",
    "        \n",
    "        if len(list_fi) == 1:\n",
    "            fi = list_fi[0]\n",
    "            val = fi.group(1)\n",
    "#             print('****val = ', val)\n",
    "            if val in list_station:\n",
    "                start, end = fi.span()\n",
    "                str_found = fi.group()\n",
    "                return val, (start, end), str_found\n",
    "    return"
   ]
  },
  {
   "cell_type": "code",
   "execution_count": 48,
   "id": "3247cfeb",
   "metadata": {},
   "outputs": [
    {
     "name": "stdout",
     "output_type": "stream",
     "text": [
      "input_str =  천안아산 출발 \t\t\t ('천안아산', (0, 7), '천안아산 출발')\n",
      "input_str =  광명 역 에서 \t\t\t ('광명', (0, 7), '광명 역 에서')\n",
      "input_str =  오송 출발 \t\t\t ('오송', (0, 5), '오송 출발')\n",
      "input_str =  행신역 에서 \t\t\t ('행신', (0, 6), '행신역 에서')\n",
      "input_str =  광명에서 \t\t\t ('광명', (0, 4), '광명에서')\n",
      "input_str =  광명 역 출발 \t\t\t ('광명', (0, 7), '광명 역 출발')\n",
      "input_str =  광명역 출발 \t\t\t ('광명', (0, 6), '광명역 출발')\n",
      "input_str =  오송 에서 \t\t\t ('오송', (0, 5), '오송 에서')\n",
      "input_str =  광명출발 \t\t\t ('광명', (0, 4), '광명출발')\n",
      "input_str =  천안아산  출발 \t\t\t ('천안아산', (0, 8), '천안아산  출발')\n"
     ]
    }
   ],
   "source": [
    "for i in range(10):\n",
    "    s = test_str_from()\n",
    "    print('input_str = ', s, '\\t\\t\\t', get_info_from(s))"
   ]
  },
  {
   "cell_type": "code",
   "execution_count": 49,
   "id": "df143e85",
   "metadata": {},
   "outputs": [
    {
     "name": "stdout",
     "output_type": "stream",
     "text": [
      "input_str =  가아아악여여역 \t\t\t None\n",
      "input_str =  ㅍㅍㅍ  \t\t\t None\n",
      "input_str =  뭔역이더라 \t\t\t None\n",
      "input_str =  용산역에  \t\t\t None\n",
      "input_str =  머시기역에서 \t\t\t None\n",
      "input_str =  용산 역 에서 \t\t\t ('용산', (0, 7), '용산 역 에서')\n"
     ]
    }
   ],
   "source": [
    "s = [\n",
    "    '가아아악여여역',\n",
    "    'ㅍㅍㅍ ',\n",
    "    '뭔역이더라',\n",
    "    '용산역에 ',\n",
    "    '머시기역에서',\n",
    "    '용산 역 에서'\n",
    "]\n",
    "for i in s:\n",
    "        print('input_str = ', i, '\\t\\t\\t', get_info_from(i))"
   ]
  },
  {
   "cell_type": "markdown",
   "id": "66357f89",
   "metadata": {},
   "source": [
    "### test_str_to"
   ]
  },
  {
   "cell_type": "code",
   "execution_count": 50,
   "id": "c585ce8d",
   "metadata": {},
   "outputs": [],
   "source": [
    "def test_str_to():\n",
    "    s = list_station[rri(len(list_station))]\n",
    "    include_yeok = False\n",
    "    first_space = False\n",
    "    if rri(2):\n",
    "        s += ' '  \n",
    "        first_space = True\n",
    "    if rri(2):\n",
    "        s += '역'\n",
    "        include_yeok = True\n",
    "    if rri(2):\n",
    "        if first_space and include_yeok == False:\n",
    "            pass\n",
    "        else:\n",
    "            s += ' '\n",
    "    tmp = key_to[rri(len(key_to))]\n",
    "    if include_yeok and tmp == '로': #'OO역로' 라는 말이 되지 않게\n",
    "        tmp = '으로'\n",
    "    s += tmp\n",
    "    return s"
   ]
  },
  {
   "cell_type": "code",
   "execution_count": 51,
   "id": "5fb69d23",
   "metadata": {},
   "outputs": [
    {
     "name": "stdout",
     "output_type": "stream",
     "text": [
      "행신 가/ 천안아산가/ 광명 역 갈/ 광명역 으로/ 오송 역까지/ 천안아산역으로/ 광명 역가/ 광명 역가/ 오송 에 / 행신역 갈/ 행신가/ 오송 역 으로/ 오송 까지/ 천안아산까지/ 용산역에 / 천안아산 갈/ 오송역 갈/ 천안아산 역 으로/ 용산 로/ 오송역에 / 행신 갈/ 용산 역에 / 오송 에 / 천안아산역 까지/ 천안아산 갈/ 오송에 / 광명 에 / 천안아산 가/ 천안아산역 으로/ 광명 갈/ 오송 로/ 천안아산까지/ 광명역까지/ 행신 역 에 / 천안아산역가/ 천안아산 역 에 / 용산에 / 오송역 갈/ 광명로/ 오송 역 가/ 행신 로/ 용산 가/ 광명 에 / 광명 역 으로/ 오송 역 으로/ 광명역가/ 행신 으로/ 오송역 으로/ 천안아산 에 / 천안아산 으로/ 용산 으로/ 행신 역 에 / 천안아산가/ 용산 역에 / 천안아산에 / 오송 까지/ 용산 역가/ 광명 역 갈/ 광명역 가/ 오송 갈/ 광명 역으로/ 용산역 으로/ 광명 역 에 / 광명 역 까지/ 천안아산 으로/ 천안아산으로/ 오송 에 / 천안아산 역 에 / 천안아산 역 갈/ 광명 으로/ 용산 역 갈/ 행신 역까지/ 광명역 으로/ 오송역 갈/ 행신로/ 용산 가/ 천안아산 갈/ 광명갈/ 천안아산 갈/ 광명 역 까지/ 행신 역갈/ 광명역 가/ 행신 역 에 / 광명까지/ 천안아산 역으로/ 오송 가/ 광명 역 에 / 용산 로/ 용산 까지/ 광명 역 으로/ 광명역으로/ 천안아산 역에 / 오송 가/ 행신 갈/ 천안아산 로/ 천안아산 갈/ 행신역 으로/ 용산 역으로/ 오송 역으로/ 천안아산으로/ "
     ]
    }
   ],
   "source": [
    "for i in range(100):\n",
    "    print(test_str_to(), end = '/ ')"
   ]
  },
  {
   "cell_type": "markdown",
   "id": "9c7570d0",
   "metadata": {},
   "source": [
    "```\n",
    "list_station = ['용산', '행신', '광명', '천안아산', '오송'] #호남선 일부\n",
    "key_from = ['에서', '출발']\n",
    "key_to = ['까지', '로', '으로', '에 ', #에서와의 혼동을 피하기 위해 space를 붙임\n",
    "          '가'] \n",
    "```"
   ]
  },
  {
   "cell_type": "raw",
   "id": "73a02db2",
   "metadata": {},
   "source": [
    "get_info_from/ get_info_to\n",
    "\n",
    "리스트 키워드를 사용하여 컴파일용 문자열 담는다. list_p_r\n",
    "\n",
    "패턴을 compile해서 각각 리스트에 담는다.  list_pattern\n",
    "\n",
    "finditer하고 list로 변경해서 len == 1 인것을 뽑는다. list_fi\n",
    "\n",
    "group index를 사용하여 역이름 val를 뽑는다.\n",
    "val in list_station 으로 있으면 return 값은 val, start, end, str_found\n",
    "                                            없으면 return 값은 np.nan"
   ]
  },
  {
   "cell_type": "markdown",
   "id": "b6e8b75e",
   "metadata": {},
   "source": [
    "### get_info_to"
   ]
  },
  {
   "cell_type": "code",
   "execution_count": 52,
   "id": "425d07a4",
   "metadata": {},
   "outputs": [],
   "source": [
    "def get_info_to(s):\n",
    "    \n",
    "    if s[:5] == 'again':\n",
    "        result = get_info_station(s[5:])\n",
    "        if result:\n",
    "            return result\n",
    "        s = s[5:]\n",
    "    \n",
    "    list_p_r = [\n",
    "        '([가-힣]+)\\s*'+key_to[0],\n",
    "        '([가-힣]+)\\s*'+key_to[1],\n",
    "        '([가-힣]+)\\s*'+key_to[2],\n",
    "        '([가-힣]+)\\s*'+key_to[3],\n",
    "        '([가-힣]+)\\s*'+key_to[4],\n",
    "        '([가-힣]+)\\s*'+key_to[5],\n",
    "\n",
    "        '([가-힣]+)\\s*[역]\\s*'+key_to[0],\n",
    "        '([가-힣]+)\\s*[역]\\s*'+key_to[2],\n",
    "        '([가-힣]+)\\s*[역]\\s*'+key_to[3],\n",
    "        '([가-힣]+)\\s*[역]\\s*'+key_to[4],\n",
    "        '([가-힣]+)\\s*[역]\\s*'+key_to[5]\n",
    "    ]\n",
    "    list_pattern = []\n",
    "    for p_r in list_p_r:\n",
    "        p = re.compile(p_r)\n",
    "        list_pattern.append(p)\n",
    "        \n",
    "    for pt in list_pattern:\n",
    "        fi = pt.finditer(s)\n",
    "        list_fi = list(fi)\n",
    "#         print('****pt = ', pt)\n",
    "#         print('****list_fi = ', list_fi)\n",
    "        \n",
    "        if len(list_fi) == 1:\n",
    "            fi = list_fi[0]\n",
    "            val = fi.group(1)\n",
    "#             print('****val = ', val)\n",
    "            if val in list_station:\n",
    "                start, end = fi.span()\n",
    "                str_found = fi.group()\n",
    "                return val, (start, end), str_found\n",
    "    return"
   ]
  },
  {
   "cell_type": "code",
   "execution_count": 53,
   "id": "cd758279",
   "metadata": {
    "scrolled": true
   },
   "outputs": [
    {
     "name": "stdout",
     "output_type": "stream",
     "text": [
      "input_str =  행신역 까지 \t\t\t ('행신', (0, 6), '행신역 까지')\n",
      "input_str =  천안아산역갈 \t\t\t ('천안아산', (0, 6), '천안아산역갈')\n",
      "input_str =  용산 역 으로 \t\t\t ('용산', (0, 7), '용산 역 으로')\n",
      "input_str =  용산 로 \t\t\t ('용산', (0, 4), '용산 로')\n",
      "input_str =  오송으로 \t\t\t ('오송', (0, 4), '오송으로')\n",
      "input_str =  용산갈 \t\t\t ('용산', (0, 3), '용산갈')\n",
      "input_str =  광명가 \t\t\t ('광명', (0, 3), '광명가')\n",
      "input_str =  행신역까지 \t\t\t ('행신', (0, 5), '행신역까지')\n",
      "input_str =  천안아산 에  \t\t\t ('천안아산', (0, 7), '천안아산 에 ')\n",
      "input_str =  용산역으로 \t\t\t ('용산', (0, 5), '용산역으로')\n"
     ]
    }
   ],
   "source": [
    "for i in range(10):\n",
    "    s = test_str_to()\n",
    "    print('input_str = ', s, '\\t\\t\\t', get_info_to(s))"
   ]
  },
  {
   "cell_type": "code",
   "execution_count": 54,
   "id": "744730f5",
   "metadata": {},
   "outputs": [
    {
     "name": "stdout",
     "output_type": "stream",
     "text": [
      "input_str =  가아아악여여역 \t\t\t None\n",
      "input_str =  ㅍㅍㅍ  \t\t\t None\n",
      "input_str =  뭔역이더라 \t\t\t None\n",
      "input_str =  용산역에  \t\t\t ('용산', (0, 5), '용산역에 ')\n",
      "input_str =  머시기역가는 \t\t\t None\n",
      "input_str =  용산 역 에서 \t\t\t None\n",
      "input_str =  용산 가는 \t\t\t ('용산', (0, 4), '용산 가')\n"
     ]
    }
   ],
   "source": [
    "s = [\n",
    "    '가아아악여여역',\n",
    "    'ㅍㅍㅍ ',\n",
    "    '뭔역이더라',\n",
    "    '용산역에 ',\n",
    "    '머시기역가는',\n",
    "    '용산 역 에서',\n",
    "    '용산 가는'\n",
    "]\n",
    "for i in s:\n",
    "        print('input_str = ', i, '\\t\\t\\t', get_info_to(i))"
   ]
  },
  {
   "cell_type": "markdown",
   "id": "3789956e",
   "metadata": {},
   "source": [
    "### get_info_station"
   ]
  },
  {
   "cell_type": "code",
   "execution_count": 85,
   "id": "bc256d00",
   "metadata": {},
   "outputs": [],
   "source": [
    "def get_info_station(s):\n",
    "    if s in list_station:\n",
    "        return s, None, s\n",
    "    \n",
    "    p = re.compile('\\w+')\n",
    "    fa = p.finditer(s)\n",
    "    for m in fa:\n",
    "        val = m.group()\n",
    "        if val in list_station:\n",
    "            return val, None, val\n",
    "    \n",
    "    p = re.compile('(\\w+)\\s*[역]')\n",
    "    f = p.search(s)\n",
    "    if f:\n",
    "        val = f.group(1)\n",
    "        if val in list_station:\n",
    "            return val, f.span(), f.group()\n",
    "    return\n",
    "get_info_station('용산')"
   ]
  },
  {
   "cell_type": "markdown",
   "id": "980a30ee",
   "metadata": {},
   "source": [
    "## 출발일"
   ]
  },
  {
   "cell_type": "markdown",
   "id": "5ce58d78",
   "metadata": {},
   "source": [
    "### test_str_date"
   ]
  },
  {
   "cell_type": "markdown",
   "id": "c54fa100",
   "metadata": {},
   "source": [
    "### get_info_date"
   ]
  },
  {
   "cell_type": "code",
   "execution_count": 56,
   "id": "16107a95",
   "metadata": {},
   "outputs": [],
   "source": [
    "dic_tmrr = {'모레':2, '내일':1, '낼':1, '오늘':0}\n",
    "dic_week = {'이번':0, '다음':7,'다다음':14}\n",
    "dic_day = {'월':0, '화':1, '수':2, '목':3, '금':4, '토':5, '일':6}"
   ]
  },
  {
   "cell_type": "code",
   "execution_count": 57,
   "id": "e9eb2b08",
   "metadata": {},
   "outputs": [],
   "source": [
    "from datetime import datetime, date, time, timedelta"
   ]
  },
  {
   "cell_type": "code",
   "execution_count": 58,
   "id": "1efa04e9",
   "metadata": {},
   "outputs": [
    {
     "data": {
      "text/plain": [
       "('08월 05일', (10, 15), '8 / 5')"
      ]
     },
     "execution_count": 58,
     "metadata": {},
     "output_type": "execute_result"
    }
   ],
   "source": [
    "def get_info_date(s): #datetime.date, start, end, str_found를 반환\n",
    "    today = datetime.now().date()\n",
    "    tdd = today.weekday()\n",
    "\n",
    "    \n",
    "    # 모레 -> 내일 -> return\n",
    "    for k, v in dic_tmrr.items():\n",
    "        p = re.compile(k)\n",
    "        list_fi = list(p.finditer(s))\n",
    "        if len(list_fi) == 1:\n",
    "            m = list_fi[0]\n",
    "            dep_date = today + timedelta(days = v)\n",
    "            return dep_date.strftime('%m월 %d일'), (m.start(), m.end()), m.group()\n",
    " \n",
    "    # '주'를 중심으로 week, day 얻어 dic에 있는 값이면 날짜 계산해서 return\n",
    "    p = re.compile('(\\w+)\\s*[주]\\s*(\\w{1})\\s*(요일|욜)')\n",
    "    list_fi = list(p.finditer(s))\n",
    "    if len(list_fi) == 1:\n",
    "        m = list_fi[0]\n",
    "        try:\n",
    "            ww = dic_week[m.group(1)]\n",
    "            dd = dic_day[m.group(2)]\n",
    "            deltime = ww + dd - tdd\n",
    "            if deltime < 0:\n",
    "                return\n",
    "            deltime = timedelta(deltime)\n",
    "            dep_date = today + deltime\n",
    "            return dep_date.strftime('%m월 %d일'), (m.start(), m.end()), m.group()\n",
    "        except KeyError:\n",
    "            pass\n",
    "    \n",
    "    # '요일'을 중심으로 day 얻어 내일요일~일요일 사이에 있으면 계산해서 return\n",
    "    p = re.compile('(\\w{1})\\s*(요일|욜)')\n",
    "    list_fi = list(p.finditer(s))\n",
    "    if len(list_fi) == 1:\n",
    "        m = list_fi[0]\n",
    "        try:\n",
    "            dd = dic_day[m.group(1)]\n",
    "            if dd > tdd:\n",
    "                dep_date = today + timedelta(dd-tdd)\n",
    "                return dep_date.strftime('%m월 %d일'), (m.start(), m.end()), m.group()\n",
    "        except KeyError:\n",
    "            pass\n",
    "\n",
    "    # 00월 00일 00/00 정규식으로 찾아보고, 날짜가 되는 숫자면 return\n",
    "    list_p = [re.compile('(\\d+)\\s*월\\s*(\\d+)\\s*일'), re.compile('(\\d+)\\s*/\\s*(\\d+)')]\n",
    "    for p in list_p:\n",
    "        list_fi = list(p.finditer(s))\n",
    "        if len(list_fi) == 1:\n",
    "            m = list_fi[0]\n",
    "            try:\n",
    "                dep_date = date(2022, int(m.group(1)), int(m.group(2)))\n",
    "                return dep_date.strftime('%m월 %d일'), (m.start(), m.end()), m.group()\n",
    "            except (ValueError, TypeError):\n",
    "                pass\n",
    "    \n",
    "    return\n",
    "    \n",
    "get_info_date('이번주 토요m일아님  아님 아님 다다음s주수욜에 가자.')   \n",
    "get_info_date('이번주 토요m일아님8 / 5 일 아님 아님 다다음s주수ㄹ욜에 가자.')    "
   ]
  },
  {
   "cell_type": "markdown",
   "id": "655c385a",
   "metadata": {},
   "source": [
    "```\n",
    "광운대/ 청량리/ 회기/ 중랑/ 상봉/ 망우/ \n",
    "신내/ 갈매/ 별내/ 퇴계원/ 사릉/ 금곡/ 평내호/\n",
    "천마산/ 마석/ 대성리/ 청평/ 상천/ 가평/\n",
    "굴봉산/ 백양리/ 강촌/ 김유정/ 남춘천/ 춘천/ \n",
    "```"
   ]
  },
  {
   "cell_type": "markdown",
   "id": "d1fc9a26",
   "metadata": {},
   "source": [
    "# 일단 조립"
   ]
  },
  {
   "cell_type": "code",
   "execution_count": 91,
   "id": "b1301914",
   "metadata": {},
   "outputs": [
    {
     "name": "stdout",
     "output_type": "stream",
     "text": [
      "\n",
      "********** <승차권 예매 프로그램> **********\n",
      "\n",
      "\\\\(@'o'@)// 어떤 기차표 예매 도와드릴까요?>\n",
      "\t\t\t\t\t\t\t\t\t\t\t\t청량리갈꺼야\n",
      "\\\\(@'o'@)//어디에서 출발하시나요?> \n",
      "\t\t\t\t\t\t\t\t\t\t\t\t춘천\n",
      "\\\\(@'o'@)//언제 가시나요?> \n",
      "\t\t\t\t\t\t\t\t\t\t\t\t내일\n",
      "\\\\(@'o'@)//몇분이서 가시나요?> \n",
      "\t\t\t\t\t\t\t\t\t\t\t\t4명\n",
      "to \t 청량리\n",
      "from \t 춘천\n",
      "date \t 07월 05일\n",
      "pp \t 4\n"
     ]
    }
   ],
   "source": [
    "print()\n",
    "print('*'*10 + \" <승차권 예매 프로그램> \" + '*'*10)\n",
    "print()\n",
    "\n",
    "tabs = '\\n'+'\\t'*12\n",
    "input_str = input(\"\\\\\\\\(@'o'@)// 어떤 기차표 예매 도와드릴까요?>\"+tabs)\n",
    "\n",
    "frm = get_info_from(input_str)\n",
    "to = get_info_to(input_str)\n",
    "date = get_info_date(input_str)\n",
    "pp = get_info_pp(input_str)\n",
    "\n",
    "list_info = [frm, to, date, pp]\n",
    "key_info = ['from', 'to', 'date', 'pp']\n",
    "dic_info = {}\n",
    "\n",
    "for i, key in enumerate(key_info):\n",
    "    if list_info[i]:\n",
    "        dic_info[key] = list_info[i]\n",
    "\n",
    "ask_again = {'from':\"\\\\\\\\(@'o'@)//어디에서 출발하시나요?> \"+tabs, \n",
    "             'to':\"\\\\\\\\(@'o'@)//어디로 가세요?> \"+tabs, \n",
    "             'date':\"\\\\\\\\(@'o'@)//언제 가시나요?> \"+tabs,\n",
    "             'pp':\"\\\\\\\\(@'o'@)//몇분이서 가시나요?> \"+tabs}\n",
    "funcs = {'from':get_info_from, 'to':get_info_to,\n",
    "         'date': get_info_date, 'pp':get_info_pp}\n",
    "\n",
    "for key in key_info:\n",
    "    while key not in dic_info:\n",
    "        input_again = \"again\" + input(ask_again[key])\n",
    "        if input_again == 'again':\n",
    "            break\n",
    "        s = funcs[key](input_again)\n",
    "\n",
    "        if s:\n",
    "            try:\n",
    "                if (key == 'from' and s[0] == dic_info['to'][0])\\\n",
    "                or (key == 'to' and s[0] == dic_info['from'][0]):\n",
    "                    print(\"****출발역과 도착역이 같아요.\")\n",
    "                    s = None\n",
    "            except KeyError:\n",
    "                pass\n",
    "        if s:\n",
    "            dic_info[key] = s\n",
    "\n",
    "for k, v in dic_info.items():\n",
    "    print(k, '\\t',v[0])"
   ]
  },
  {
   "cell_type": "code",
   "execution_count": null,
   "id": "20c2cfce",
   "metadata": {},
   "outputs": [],
   "source": [
    "\n"
   ]
  },
  {
   "cell_type": "code",
   "execution_count": null,
   "id": "7ac74e66",
   "metadata": {},
   "outputs": [],
   "source": []
  },
  {
   "cell_type": "code",
   "execution_count": null,
   "id": "df4999b9",
   "metadata": {},
   "outputs": [],
   "source": []
  },
  {
   "cell_type": "code",
   "execution_count": null,
   "id": "97f3874e",
   "metadata": {},
   "outputs": [],
   "source": []
  },
  {
   "cell_type": "code",
   "execution_count": null,
   "id": "1f178ce2",
   "metadata": {},
   "outputs": [],
   "source": []
  },
  {
   "cell_type": "code",
   "execution_count": null,
   "id": "28adc9f0",
   "metadata": {},
   "outputs": [],
   "source": []
  },
  {
   "cell_type": "code",
   "execution_count": null,
   "id": "729b36a1",
   "metadata": {},
   "outputs": [],
   "source": []
  }
 ],
 "metadata": {
  "kernelspec": {
   "display_name": "Python 3 (ipykernel)",
   "language": "python",
   "name": "python3"
  },
  "language_info": {
   "codemirror_mode": {
    "name": "ipython",
    "version": 3
   },
   "file_extension": ".py",
   "mimetype": "text/x-python",
   "name": "python",
   "nbconvert_exporter": "python",
   "pygments_lexer": "ipython3",
   "version": "3.8.13"
  },
  "toc": {
   "base_numbering": 1,
   "nav_menu": {},
   "number_sections": true,
   "sideBar": true,
   "skip_h1_title": false,
   "title_cell": "Table of Contents",
   "title_sidebar": "Contents",
   "toc_cell": false,
   "toc_position": {
    "height": "calc(100% - 180px)",
    "left": "10px",
    "top": "150px",
    "width": "235.547px"
   },
   "toc_section_display": true,
   "toc_window_display": true
  }
 },
 "nbformat": 4,
 "nbformat_minor": 5
}
