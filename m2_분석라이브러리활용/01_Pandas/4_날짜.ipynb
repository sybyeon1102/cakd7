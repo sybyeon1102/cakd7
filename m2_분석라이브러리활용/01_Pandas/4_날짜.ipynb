{
 "cells": [
  {
   "cell_type": "code",
   "execution_count": 1,
   "id": "0ce18fc6",
   "metadata": {},
   "outputs": [],
   "source": [
    "import warnings\n",
    "warnings.filterwarnings('ignore')"
   ]
  },
  {
   "cell_type": "markdown",
   "id": "ec40b2e5",
   "metadata": {},
   "source": [
    "python, numpy, pandas 날짜 타입 비교 및 정리\n",
    "\n",
    "- datetime은 python 설치 시 기본적으로 내장된 라이브러리로, 날짜를 쓸 것인지, 시간을 쓸 것인지, 날짜시간을 합쳐쓸 것인지에 따라 클래스가 분화되어 있는 것이 특징. 예를들어 '2021-3-16'을 표시하고 싶으면 date 클래스를 사용하고, '2021-3-16 12:34:21'를 표시하고 싶으면 'datetime' 클래스를 사용합니다. \n",
    "- 반면 datetime64나 Timestamp는 각각 numpy, pandas 라이브러리에서 새로 정의한 날짜시간 클래스입니다. 이 둘은 numpy, pandas를 설치해야만 이용할 수 있고, 한 클래스로 날짜, 시간, 날짜시간을 모두 정의할 수 있는 것이 특징\n",
    "- 날짜, 시간 타입은 일반적인 정수, 실수끼리 연산할 때와 달리 단위를 가지고 있는 점 때문에 시간의 차이를 저장하는 별도의 클래스가 있다는 특징. 이를 timedelta(타임델타)라고 하는데, 날짜, 시간은 특정 시점의 시각을 표시하는 용도이고(2021년 3월 16일), 타임델타는 기간 또는 시간 차이를 표시하는 용도(5일)\n",
    "\n",
    "- https://ellun.tistory.com/320\n",
    "\n",
    "<img src='dataset/날짜타입.jpg' STYLE='width:500px;'>"
   ]
  },
  {
   "cell_type": "code",
   "execution_count": null,
   "id": "34fe3ede",
   "metadata": {},
   "outputs": [],
   "source": []
  },
  {
   "cell_type": "markdown",
   "id": "c2d89363",
   "metadata": {},
   "source": [
    "# 파이썬 날짜, 시간"
   ]
  },
  {
   "cell_type": "markdown",
   "id": "4e2bdb4d",
   "metadata": {},
   "source": [
    "## timestamp -> str"
   ]
  },
  {
   "cell_type": "code",
   "execution_count": 2,
   "id": "6d9d18b1",
   "metadata": {},
   "outputs": [
    {
     "name": "stdout",
     "output_type": "stream",
     "text": [
      "1657181654.0899084 <class 'float'>\n",
      "1657181654.0899084 <class 'str'>\n"
     ]
    }
   ],
   "source": [
    "import time\n",
    "\n",
    "t = time.time()\n",
    "print(t, type(t))\n",
    "\n",
    "s = str(time.time())\n",
    "print(s, type(s))"
   ]
  },
  {
   "cell_type": "markdown",
   "id": "a973bb4a",
   "metadata": {},
   "source": [
    "```\n",
    "Epoch 70년 1월 1일 부터 지난 초\n",
    "```"
   ]
  },
  {
   "cell_type": "markdown",
   "id": "744366fb",
   "metadata": {},
   "source": [
    "## datetime -> str"
   ]
  },
  {
   "cell_type": "code",
   "execution_count": 3,
   "id": "c3fc3674",
   "metadata": {},
   "outputs": [
    {
     "name": "stdout",
     "output_type": "stream",
     "text": [
      "2022-07-07 17:14:14.174014 <class 'datetime.datetime'>\n",
      "2022-07-07 17: 14: 14 <class 'str'>\n"
     ]
    }
   ],
   "source": [
    "from datetime import datetime\n",
    "s = datetime.now()\n",
    "print(s, type(s))\n",
    "s1 = s.strftime('%Y-%m-%d %H: %M: %S')\n",
    "print(s1, type(s1))"
   ]
  },
  {
   "cell_type": "raw",
   "id": "0bd8a269",
   "metadata": {},
   "source": [
    "strftime 이거 string from time 인가?"
   ]
  },
  {
   "cell_type": "markdown",
   "id": "9fee0e3b",
   "metadata": {},
   "source": [
    "## str -> datetime"
   ]
  },
  {
   "cell_type": "code",
   "execution_count": 4,
   "id": "1ee2be37",
   "metadata": {},
   "outputs": [
    {
     "name": "stdout",
     "output_type": "stream",
     "text": [
      "2021-07-20 11:13:58 <class 'str'>\n",
      "2021-07-20 11:13:58 <class 'datetime.datetime'>\n"
     ]
    }
   ],
   "source": [
    "from datetime import datetime\n",
    "s = '2021-07-20 11:13:58'\n",
    "print(s, type(s))\n",
    "d = datetime.strptime(s, '%Y-%m-%d %H:%M:%S')\n",
    "print(d, type(d))"
   ]
  },
  {
   "cell_type": "markdown",
   "id": "2361498a",
   "metadata": {},
   "source": [
    "## str -> datetime -> timestamp"
   ]
  },
  {
   "cell_type": "code",
   "execution_count": 45,
   "id": "1b363fce",
   "metadata": {},
   "outputs": [],
   "source": [
    "s = '2021-07-20 11:13:58'"
   ]
  },
  {
   "cell_type": "code",
   "execution_count": 50,
   "id": "0c439533",
   "metadata": {},
   "outputs": [
    {
     "data": {
      "text/plain": [
       "(datetime.datetime(2021, 7, 20, 11, 13, 58), datetime.datetime)"
      ]
     },
     "execution_count": 50,
     "metadata": {},
     "output_type": "execute_result"
    }
   ],
   "source": [
    "from datetime import datetime\n",
    "dt_spt = datetime.strptime(s, '%Y-%m-%d %H:%M:%S')\n",
    "dt_spt, type(dt_spt)"
   ]
  },
  {
   "cell_type": "code",
   "execution_count": 53,
   "id": "35da3ee3",
   "metadata": {},
   "outputs": [
    {
     "data": {
      "text/plain": [
       "(time.struct_time(tm_year=2021, tm_mon=7, tm_mday=20, tm_hour=11, tm_min=13, tm_sec=58, tm_wday=1, tm_yday=201, tm_isdst=-1),\n",
       " time.struct_time)"
      ]
     },
     "execution_count": 53,
     "metadata": {},
     "output_type": "execute_result"
    }
   ],
   "source": [
    "t_tuple = dt_spt.timetuple() #datetime.timetuple()  -> time.struct_time\n",
    "t_tuple, type(t_tuple)"
   ]
  },
  {
   "cell_type": "code",
   "execution_count": 54,
   "id": "0ed51ddd",
   "metadata": {},
   "outputs": [
    {
     "name": "stdout",
     "output_type": "stream",
     "text": [
      "1626747238.0 <class 'float'>\n"
     ]
    }
   ],
   "source": [
    "timestamp = time.mktime(t_tuple)\n",
    "print(timestamp, type(timestamp))"
   ]
  },
  {
   "cell_type": "markdown",
   "id": "d9ae83a7",
   "metadata": {},
   "source": [
    "## datetime -> timestamp"
   ]
  },
  {
   "cell_type": "code",
   "execution_count": 6,
   "id": "bc600bad",
   "metadata": {},
   "outputs": [
    {
     "name": "stdout",
     "output_type": "stream",
     "text": [
      "2022-07-07 17:14:14.481184 <class 'datetime.datetime'>\n"
     ]
    }
   ],
   "source": [
    "d = datetime.today()\n",
    "print(d, type(d))"
   ]
  },
  {
   "cell_type": "code",
   "execution_count": 7,
   "id": "b3de9466",
   "metadata": {
    "scrolled": true
   },
   "outputs": [
    {
     "name": "stdout",
     "output_type": "stream",
     "text": [
      "1657181654.0 <class 'float'>\n"
     ]
    }
   ],
   "source": [
    "ts = time.mktime(d.timetuple())\n",
    "print(ts, type(ts))"
   ]
  },
  {
   "cell_type": "markdown",
   "id": "5d78eac3",
   "metadata": {},
   "source": [
    "## timestamp -> datetime"
   ]
  },
  {
   "cell_type": "code",
   "execution_count": 55,
   "id": "36efe2c4",
   "metadata": {},
   "outputs": [
    {
     "name": "stdout",
     "output_type": "stream",
     "text": [
      "1657181989.308394 <class 'float'>\n",
      "2022-07-07 17:19:49.308394 <class 'datetime.datetime'>\n"
     ]
    }
   ],
   "source": [
    "t = time.time()\n",
    "print(t, type(t))\n",
    "d = datetime.fromtimestamp(t)\n",
    "print(d,type(d))"
   ]
  },
  {
   "cell_type": "code",
   "execution_count": null,
   "id": "2482c79f",
   "metadata": {},
   "outputs": [],
   "source": []
  },
  {
   "cell_type": "markdown",
   "id": "b70184f7",
   "metadata": {},
   "source": [
    "## (Done)과제 6/30 Thu (1)\n",
    "- 현재시간을 timestamp로 블러와서 datetime, str로 타입변경한 후 다시 time stamp로 변경하세요\n",
    "- 원하는 날짜+시간을 5개 str로 만든 후 datetime, timestamp 타입으로 변경하세요"
   ]
  },
  {
   "cell_type": "markdown",
   "id": "0ff80d71",
   "metadata": {},
   "source": [
    "### 현재시간을 timestamp로 블러와서 datetime, str로 타입변경한 후 다시 time stamp로 변경하세요"
   ]
  },
  {
   "cell_type": "code",
   "execution_count": 9,
   "id": "1bc0bfa7",
   "metadata": {},
   "outputs": [
    {
     "name": "stdout",
     "output_type": "stream",
     "text": [
      "1657181654.7736897 <class 'float'>\n"
     ]
    }
   ],
   "source": [
    "# 현재 시간을 timestamp로 불러오기\n",
    "\n",
    "import time\n",
    "t_now = time.time()\n",
    "print(t_now, type(t_now))"
   ]
  },
  {
   "cell_type": "code",
   "execution_count": 10,
   "id": "14942608",
   "metadata": {},
   "outputs": [
    {
     "name": "stdout",
     "output_type": "stream",
     "text": [
      "2022-07-07 17:14:14.773690 <class 'datetime.datetime'>\n"
     ]
    }
   ],
   "source": [
    "# timestamp를 datetime으로 변경\n",
    "\n",
    "from datetime import datetime\n",
    "d = datetime.fromtimestamp(t_now)\n",
    "print(d, type(d))"
   ]
  },
  {
   "cell_type": "code",
   "execution_count": null,
   "id": "4a306978",
   "metadata": {},
   "outputs": [],
   "source": []
  },
  {
   "cell_type": "code",
   "execution_count": 56,
   "id": "10f8b923",
   "metadata": {},
   "outputs": [],
   "source": [
    "#1년 ->초\n",
    "year_sec=float(365*24*60*60)"
   ]
  },
  {
   "cell_type": "code",
   "execution_count": 57,
   "id": "3421df07",
   "metadata": {},
   "outputs": [
    {
     "data": {
      "text/plain": [
       "datetime.datetime(1971, 1, 1, 9, 0)"
      ]
     },
     "execution_count": 57,
     "metadata": {},
     "output_type": "execute_result"
    }
   ],
   "source": [
    "datetime.fromtimestamp(year_sec)"
   ]
  },
  {
   "cell_type": "code",
   "execution_count": null,
   "id": "34f1fd0e",
   "metadata": {},
   "outputs": [],
   "source": []
  },
  {
   "cell_type": "code",
   "execution_count": 11,
   "id": "b56951c6",
   "metadata": {},
   "outputs": [
    {
     "name": "stdout",
     "output_type": "stream",
     "text": [
      "1657181654.77369 <class 'float'>\n"
     ]
    }
   ],
   "source": [
    "# datetime을 다시 timestamp로 변경\n",
    "\n",
    "t = d.timestamp()\n",
    "print(t, type(t))"
   ]
  },
  {
   "cell_type": "code",
   "execution_count": 12,
   "id": "be55c28e",
   "metadata": {},
   "outputs": [
    {
     "name": "stdout",
     "output_type": "stream",
     "text": [
      "1657181654.7736897 <class 'str'>\n"
     ]
    }
   ],
   "source": [
    "# timestamp를 str으로 변경\n",
    "\n",
    "s = str(t_now)\n",
    "print(s, type(s))\n"
   ]
  },
  {
   "cell_type": "code",
   "execution_count": 13,
   "id": "2062e448",
   "metadata": {},
   "outputs": [
    {
     "name": "stdout",
     "output_type": "stream",
     "text": [
      "1657181654.7736897 <class 'float'>\n"
     ]
    }
   ],
   "source": [
    "# str을 다시 timestamp로 변경\n",
    "\n",
    "t_f = float(s)\n",
    "print(t_f, type(t_f))"
   ]
  },
  {
   "cell_type": "markdown",
   "id": "0c7cbe05",
   "metadata": {},
   "source": [
    "### 원하는 날짜+시간을 5개 str로 만든 후 datetime, timestamp 타입으로 변경하세요"
   ]
  },
  {
   "cell_type": "code",
   "execution_count": 14,
   "id": "feaf6985",
   "metadata": {},
   "outputs": [
    {
     "name": "stdout",
     "output_type": "stream",
     "text": [
      "20210604122241 <class 'str'>\n",
      "2021-06-04 12:22:41 <class 'datetime.datetime'>\n"
     ]
    }
   ],
   "source": [
    "s = '20210604122241'\n",
    "print(s, type(s))\n",
    "d = datetime.strptime(s, '%Y%m%d%H%M%S')\n",
    "print(d, type(d))"
   ]
  },
  {
   "cell_type": "code",
   "execution_count": 15,
   "id": "1d9018a7",
   "metadata": {},
   "outputs": [
    {
     "name": "stdout",
     "output_type": "stream",
     "text": [
      "2021/6/25 12:22:41 <class 'str'>\n",
      "2021-06-25 12:22:41 <class 'datetime.datetime'>\n"
     ]
    }
   ],
   "source": [
    "s = '2021/6/25 12:22:41'\n",
    "print(s, type(s))\n",
    "d = datetime.strptime(s, '%Y/%m/%d %H:%M:%S')\n",
    "print(d, type(d))"
   ]
  },
  {
   "cell_type": "code",
   "execution_count": 16,
   "id": "41a4aa0f",
   "metadata": {},
   "outputs": [
    {
     "name": "stdout",
     "output_type": "stream",
     "text": [
      "2011년 3월 25일 12시 22분 41초 <class 'str'>\n",
      "2011-03-25 12:22:41 <class 'datetime.datetime'>\n"
     ]
    }
   ],
   "source": [
    "s = '2011년 3월 25일 12시 22분 41초'\n",
    "print(s, type(s))\n",
    "d = datetime.strptime(s, '%Y년 %m월 %d일 %H시 %M분 %S초')\n",
    "print(d, type(d))"
   ]
  },
  {
   "cell_type": "code",
   "execution_count": 17,
   "id": "b5d8ed97",
   "metadata": {},
   "outputs": [
    {
     "name": "stdout",
     "output_type": "stream",
     "text": [
      "2065/4/1 12:59 <class 'str'>\n",
      "2065-04-01 12:59:00 <class 'datetime.datetime'>\n"
     ]
    }
   ],
   "source": [
    "s = '2065/4/1 12:59'\n",
    "print(s, type(s))\n",
    "d = datetime.strptime(s, '%Y/%m/%d %H:%M')\n",
    "print(d, type(d))"
   ]
  },
  {
   "cell_type": "code",
   "execution_count": 18,
   "id": "f1d23da2",
   "metadata": {},
   "outputs": [
    {
     "name": "stdout",
     "output_type": "stream",
     "text": [
      "10/25/1998 1:3:5 <class 'str'>\n",
      "1998-10-25 01:03:05 <class 'datetime.datetime'>\n"
     ]
    }
   ],
   "source": [
    "s = '10/25/1998 1:3:5'\n",
    "print(s, type(s))\n",
    "d = datetime.strptime(s, '%m/%d/%Y %H:%M:%S')\n",
    "print(d, type(d))"
   ]
  },
  {
   "cell_type": "markdown",
   "id": "d09b2327",
   "metadata": {},
   "source": [
    "## practice"
   ]
  },
  {
   "cell_type": "markdown",
   "id": "45ea798f",
   "metadata": {},
   "source": [
    "### 1년전 datetime 값"
   ]
  },
  {
   "cell_type": "code",
   "execution_count": 19,
   "id": "19aeece2",
   "metadata": {},
   "outputs": [
    {
     "name": "stdout",
     "output_type": "stream",
     "text": [
      "2022-07-07 17:14:15.748507\n",
      "-365 days, 0:00:00\n"
     ]
    },
    {
     "data": {
      "text/plain": [
       "datetime.datetime(2021, 7, 7, 17, 14, 15, 748507)"
      ]
     },
     "execution_count": 19,
     "metadata": {},
     "output_type": "execute_result"
    }
   ],
   "source": [
    "from datetime import timedelta\n",
    "import time\n",
    "\n",
    "datetime_now = datetime.now()\n",
    "print(datetime_now)\n",
    "delta_datetime = timedelta(days = -365)\n",
    "print(delta_datetime)\n",
    "datetime_now + delta_datetime"
   ]
  },
  {
   "cell_type": "markdown",
   "id": "6007c5c7",
   "metadata": {},
   "source": [
    "### 두 날짜간의 일수 구하기"
   ]
  },
  {
   "cell_type": "code",
   "execution_count": 58,
   "id": "fede3e7a",
   "metadata": {},
   "outputs": [],
   "source": [
    "# parse : 문자열에서 뽑아내는거"
   ]
  },
  {
   "cell_type": "code",
   "execution_count": 59,
   "id": "1d226290",
   "metadata": {},
   "outputs": [
    {
     "name": "stdout",
     "output_type": "stream",
     "text": [
      "2018-03-01 00:00:00\n",
      "2018-03-31 00:00:00\n",
      "30 days, 0:00:00\n"
     ]
    }
   ],
   "source": [
    "since_timestamp = datetime.strptime('20180301', '%Y%m%d')\n",
    "until_timestamp = datetime.strptime('20180331', '%Y%m%d')\n",
    "print(since_timestamp)\n",
    "print(until_timestamp)\n",
    "result = until_timestamp - since_timestamp\n",
    "print(result)"
   ]
  },
  {
   "cell_type": "code",
   "execution_count": null,
   "id": "8e39d165",
   "metadata": {},
   "outputs": [],
   "source": []
  },
  {
   "cell_type": "markdown",
   "id": "c7a2cc6e",
   "metadata": {},
   "source": [
    "### 특정요일 구하기"
   ]
  },
  {
   "cell_type": "code",
   "execution_count": 62,
   "id": "2d4d9dc9",
   "metadata": {},
   "outputs": [
    {
     "data": {
      "text/plain": [
       "'Fri'"
      ]
     },
     "execution_count": 62,
     "metadata": {},
     "output_type": "execute_result"
    }
   ],
   "source": [
    "import datetime\n",
    "def get_yoil(y, m, d):\n",
    "    days = ['Mon', 'Tue', 'Wed', 'Thu', 'Fri', 'Sat', 'Sun']\n",
    "    return days[datetime.date(y,m,d).weekday()]\n",
    "get_yoil(2022,7, 8)"
   ]
  },
  {
   "cell_type": "code",
   "execution_count": null,
   "id": "659c93fe",
   "metadata": {},
   "outputs": [],
   "source": []
  },
  {
   "cell_type": "markdown",
   "id": "1419773a",
   "metadata": {},
   "source": [
    "# 판다스 to_datetime\n",
    "\n",
    " - 판다스에서는 파이썬의 datetime을 timestamp라고 함"
   ]
  },
  {
   "cell_type": "code",
   "execution_count": 63,
   "id": "cb4b97cf",
   "metadata": {},
   "outputs": [
    {
     "data": {
      "text/plain": [
       "Timestamp('2022-06-30 00:49:18.745654784')"
      ]
     },
     "execution_count": 63,
     "metadata": {},
     "output_type": "execute_result"
    }
   ],
   "source": [
    "import pandas as pd\n",
    "pd.to_datetime(1656550158.7456548, unit='s' )"
   ]
  },
  {
   "cell_type": "code",
   "execution_count": 65,
   "id": "4396584b",
   "metadata": {},
   "outputs": [
    {
     "data": {
      "text/plain": [
       "1657182327.65305"
      ]
     },
     "execution_count": 65,
     "metadata": {},
     "output_type": "execute_result"
    }
   ],
   "source": [
    "t =  time.time()\n",
    "t"
   ]
  },
  {
   "cell_type": "code",
   "execution_count": 66,
   "id": "8d93c55f",
   "metadata": {},
   "outputs": [
    {
     "name": "stdout",
     "output_type": "stream",
     "text": [
      "2022-07-07 17:25:27.653049946+09:00 <class 'pandas._libs.tslibs.timestamps.Timestamp'>\n"
     ]
    }
   ],
   "source": [
    "date = pd.Timestamp(t, unit = 's',  tz = 'Asia/Seoul')\n",
    "print(date, type(date))"
   ]
  },
  {
   "cell_type": "code",
   "execution_count": null,
   "id": "f079a4ff",
   "metadata": {},
   "outputs": [],
   "source": []
  },
  {
   "cell_type": "markdown",
   "id": "f91cf167",
   "metadata": {},
   "source": [
    "# Dataframe에"
   ]
  },
  {
   "cell_type": "code",
   "execution_count": 78,
   "id": "ecaea15a",
   "metadata": {},
   "outputs": [
    {
     "data": {
      "text/html": [
       "<div>\n",
       "<style scoped>\n",
       "    .dataframe tbody tr th:only-of-type {\n",
       "        vertical-align: middle;\n",
       "    }\n",
       "\n",
       "    .dataframe tbody tr th {\n",
       "        vertical-align: top;\n",
       "    }\n",
       "\n",
       "    .dataframe thead th {\n",
       "        text-align: right;\n",
       "    }\n",
       "</style>\n",
       "<table border=\"1\" class=\"dataframe\">\n",
       "  <thead>\n",
       "    <tr style=\"text-align: right;\">\n",
       "      <th></th>\n",
       "      <th>Date</th>\n",
       "      <th>Close</th>\n",
       "      <th>Start</th>\n",
       "      <th>High</th>\n",
       "      <th>Low</th>\n",
       "      <th>Volume</th>\n",
       "    </tr>\n",
       "  </thead>\n",
       "  <tbody>\n",
       "    <tr>\n",
       "      <th>0</th>\n",
       "      <td>2018-07-02</td>\n",
       "      <td>10100</td>\n",
       "      <td>10850</td>\n",
       "      <td>10900</td>\n",
       "      <td>10000</td>\n",
       "      <td>137977</td>\n",
       "    </tr>\n",
       "    <tr>\n",
       "      <th>1</th>\n",
       "      <td>2018-06-29</td>\n",
       "      <td>10700</td>\n",
       "      <td>10550</td>\n",
       "      <td>10900</td>\n",
       "      <td>9990</td>\n",
       "      <td>170253</td>\n",
       "    </tr>\n",
       "    <tr>\n",
       "      <th>2</th>\n",
       "      <td>2018-06-28</td>\n",
       "      <td>10400</td>\n",
       "      <td>10900</td>\n",
       "      <td>10950</td>\n",
       "      <td>10150</td>\n",
       "      <td>155769</td>\n",
       "    </tr>\n",
       "    <tr>\n",
       "      <th>3</th>\n",
       "      <td>2018-06-27</td>\n",
       "      <td>10900</td>\n",
       "      <td>10800</td>\n",
       "      <td>11050</td>\n",
       "      <td>10500</td>\n",
       "      <td>133548</td>\n",
       "    </tr>\n",
       "    <tr>\n",
       "      <th>4</th>\n",
       "      <td>2018-06-26</td>\n",
       "      <td>10800</td>\n",
       "      <td>10900</td>\n",
       "      <td>11000</td>\n",
       "      <td>10700</td>\n",
       "      <td>63039</td>\n",
       "    </tr>\n",
       "  </tbody>\n",
       "</table>\n",
       "</div>"
      ],
      "text/plain": [
       "         Date  Close  Start   High    Low  Volume\n",
       "0  2018-07-02  10100  10850  10900  10000  137977\n",
       "1  2018-06-29  10700  10550  10900   9990  170253\n",
       "2  2018-06-28  10400  10900  10950  10150  155769\n",
       "3  2018-06-27  10900  10800  11050  10500  133548\n",
       "4  2018-06-26  10800  10900  11000  10700   63039"
      ]
     },
     "execution_count": 78,
     "metadata": {},
     "output_type": "execute_result"
    }
   ],
   "source": [
    "df = pd.read_csv('dataset/stock-data.csv')\n",
    "df.head()"
   ]
  },
  {
   "cell_type": "code",
   "execution_count": 79,
   "id": "9741ab2d",
   "metadata": {},
   "outputs": [
    {
     "name": "stdout",
     "output_type": "stream",
     "text": [
      "<class 'pandas.core.frame.DataFrame'>\n",
      "RangeIndex: 20 entries, 0 to 19\n",
      "Data columns (total 6 columns):\n",
      " #   Column  Non-Null Count  Dtype \n",
      "---  ------  --------------  ----- \n",
      " 0   Date    20 non-null     object\n",
      " 1   Close   20 non-null     int64 \n",
      " 2   Start   20 non-null     int64 \n",
      " 3   High    20 non-null     int64 \n",
      " 4   Low     20 non-null     int64 \n",
      " 5   Volume  20 non-null     int64 \n",
      "dtypes: int64(5), object(1)\n",
      "memory usage: 1.1+ KB\n"
     ]
    }
   ],
   "source": [
    "df.info()"
   ]
  },
  {
   "cell_type": "code",
   "execution_count": 80,
   "id": "c4dedbd8",
   "metadata": {},
   "outputs": [
    {
     "name": "stdout",
     "output_type": "stream",
     "text": [
      "<class 'pandas.core.frame.DataFrame'>\n",
      "RangeIndex: 20 entries, 0 to 19\n",
      "Data columns (total 7 columns):\n",
      " #   Column    Non-Null Count  Dtype         \n",
      "---  ------    --------------  -----         \n",
      " 0   Date      20 non-null     object        \n",
      " 1   Close     20 non-null     int64         \n",
      " 2   Start     20 non-null     int64         \n",
      " 3   High      20 non-null     int64         \n",
      " 4   Low       20 non-null     int64         \n",
      " 5   Volume    20 non-null     int64         \n",
      " 6   New_Date  20 non-null     datetime64[ns]\n",
      "dtypes: datetime64[ns](1), int64(5), object(1)\n",
      "memory usage: 1.2+ KB\n"
     ]
    }
   ],
   "source": [
    "df['New_Date'] = pd.to_datetime(df['Date'])\n",
    "df.info()"
   ]
  },
  {
   "cell_type": "code",
   "execution_count": 81,
   "id": "eff59177",
   "metadata": {},
   "outputs": [
    {
     "data": {
      "text/html": [
       "<div>\n",
       "<style scoped>\n",
       "    .dataframe tbody tr th:only-of-type {\n",
       "        vertical-align: middle;\n",
       "    }\n",
       "\n",
       "    .dataframe tbody tr th {\n",
       "        vertical-align: top;\n",
       "    }\n",
       "\n",
       "    .dataframe thead th {\n",
       "        text-align: right;\n",
       "    }\n",
       "</style>\n",
       "<table border=\"1\" class=\"dataframe\">\n",
       "  <thead>\n",
       "    <tr style=\"text-align: right;\">\n",
       "      <th></th>\n",
       "      <th>Close</th>\n",
       "      <th>Start</th>\n",
       "      <th>High</th>\n",
       "      <th>Low</th>\n",
       "      <th>Volume</th>\n",
       "      <th>New_Date</th>\n",
       "      <th>year</th>\n",
       "      <th>month</th>\n",
       "      <th>day</th>\n",
       "    </tr>\n",
       "  </thead>\n",
       "  <tbody>\n",
       "    <tr>\n",
       "      <th>0</th>\n",
       "      <td>10100</td>\n",
       "      <td>10850</td>\n",
       "      <td>10900</td>\n",
       "      <td>10000</td>\n",
       "      <td>137977</td>\n",
       "      <td>2018-07-02</td>\n",
       "      <td>2018</td>\n",
       "      <td>7</td>\n",
       "      <td>2</td>\n",
       "    </tr>\n",
       "    <tr>\n",
       "      <th>1</th>\n",
       "      <td>10700</td>\n",
       "      <td>10550</td>\n",
       "      <td>10900</td>\n",
       "      <td>9990</td>\n",
       "      <td>170253</td>\n",
       "      <td>2018-06-29</td>\n",
       "      <td>2018</td>\n",
       "      <td>6</td>\n",
       "      <td>29</td>\n",
       "    </tr>\n",
       "    <tr>\n",
       "      <th>2</th>\n",
       "      <td>10400</td>\n",
       "      <td>10900</td>\n",
       "      <td>10950</td>\n",
       "      <td>10150</td>\n",
       "      <td>155769</td>\n",
       "      <td>2018-06-28</td>\n",
       "      <td>2018</td>\n",
       "      <td>6</td>\n",
       "      <td>28</td>\n",
       "    </tr>\n",
       "    <tr>\n",
       "      <th>3</th>\n",
       "      <td>10900</td>\n",
       "      <td>10800</td>\n",
       "      <td>11050</td>\n",
       "      <td>10500</td>\n",
       "      <td>133548</td>\n",
       "      <td>2018-06-27</td>\n",
       "      <td>2018</td>\n",
       "      <td>6</td>\n",
       "      <td>27</td>\n",
       "    </tr>\n",
       "    <tr>\n",
       "      <th>4</th>\n",
       "      <td>10800</td>\n",
       "      <td>10900</td>\n",
       "      <td>11000</td>\n",
       "      <td>10700</td>\n",
       "      <td>63039</td>\n",
       "      <td>2018-06-26</td>\n",
       "      <td>2018</td>\n",
       "      <td>6</td>\n",
       "      <td>26</td>\n",
       "    </tr>\n",
       "  </tbody>\n",
       "</table>\n",
       "</div>"
      ],
      "text/plain": [
       "   Close  Start   High    Low  Volume   New_Date  year  month  day\n",
       "0  10100  10850  10900  10000  137977 2018-07-02  2018      7    2\n",
       "1  10700  10550  10900   9990  170253 2018-06-29  2018      6   29\n",
       "2  10400  10900  10950  10150  155769 2018-06-28  2018      6   28\n",
       "3  10900  10800  11050  10500  133548 2018-06-27  2018      6   27\n",
       "4  10800  10900  11000  10700   63039 2018-06-26  2018      6   26"
      ]
     },
     "execution_count": 81,
     "metadata": {},
     "output_type": "execute_result"
    }
   ],
   "source": [
    "df.drop('Date', axis = 1, inplace = True)\n",
    "df['year'] = df['New_Date'].dt.year\n",
    "df['month'] = df['New_Date'].dt.month\n",
    "df['day'] = df['New_Date'].dt.day\n",
    "df.head()"
   ]
  },
  {
   "cell_type": "markdown",
   "id": "8c68a466",
   "metadata": {},
   "source": [
    "- Series.dt\n",
    "- Accessor object for datetimelike properties of the Series values."
   ]
  },
  {
   "cell_type": "markdown",
   "id": "83b98d28",
   "metadata": {},
   "source": [
    "## index를 설정"
   ]
  },
  {
   "cell_type": "code",
   "execution_count": 82,
   "id": "82302176",
   "metadata": {},
   "outputs": [
    {
     "data": {
      "text/html": [
       "<div>\n",
       "<style scoped>\n",
       "    .dataframe tbody tr th:only-of-type {\n",
       "        vertical-align: middle;\n",
       "    }\n",
       "\n",
       "    .dataframe tbody tr th {\n",
       "        vertical-align: top;\n",
       "    }\n",
       "\n",
       "    .dataframe thead th {\n",
       "        text-align: right;\n",
       "    }\n",
       "</style>\n",
       "<table border=\"1\" class=\"dataframe\">\n",
       "  <thead>\n",
       "    <tr style=\"text-align: right;\">\n",
       "      <th></th>\n",
       "      <th>Close</th>\n",
       "      <th>Start</th>\n",
       "      <th>High</th>\n",
       "      <th>Low</th>\n",
       "      <th>Volume</th>\n",
       "      <th>year</th>\n",
       "      <th>month</th>\n",
       "      <th>day</th>\n",
       "    </tr>\n",
       "    <tr>\n",
       "      <th>New_Date</th>\n",
       "      <th></th>\n",
       "      <th></th>\n",
       "      <th></th>\n",
       "      <th></th>\n",
       "      <th></th>\n",
       "      <th></th>\n",
       "      <th></th>\n",
       "      <th></th>\n",
       "    </tr>\n",
       "  </thead>\n",
       "  <tbody>\n",
       "    <tr>\n",
       "      <th>2018-07-02</th>\n",
       "      <td>10100</td>\n",
       "      <td>10850</td>\n",
       "      <td>10900</td>\n",
       "      <td>10000</td>\n",
       "      <td>137977</td>\n",
       "      <td>2018</td>\n",
       "      <td>7</td>\n",
       "      <td>2</td>\n",
       "    </tr>\n",
       "    <tr>\n",
       "      <th>2018-06-29</th>\n",
       "      <td>10700</td>\n",
       "      <td>10550</td>\n",
       "      <td>10900</td>\n",
       "      <td>9990</td>\n",
       "      <td>170253</td>\n",
       "      <td>2018</td>\n",
       "      <td>6</td>\n",
       "      <td>29</td>\n",
       "    </tr>\n",
       "    <tr>\n",
       "      <th>2018-06-28</th>\n",
       "      <td>10400</td>\n",
       "      <td>10900</td>\n",
       "      <td>10950</td>\n",
       "      <td>10150</td>\n",
       "      <td>155769</td>\n",
       "      <td>2018</td>\n",
       "      <td>6</td>\n",
       "      <td>28</td>\n",
       "    </tr>\n",
       "    <tr>\n",
       "      <th>2018-06-27</th>\n",
       "      <td>10900</td>\n",
       "      <td>10800</td>\n",
       "      <td>11050</td>\n",
       "      <td>10500</td>\n",
       "      <td>133548</td>\n",
       "      <td>2018</td>\n",
       "      <td>6</td>\n",
       "      <td>27</td>\n",
       "    </tr>\n",
       "    <tr>\n",
       "      <th>2018-06-26</th>\n",
       "      <td>10800</td>\n",
       "      <td>10900</td>\n",
       "      <td>11000</td>\n",
       "      <td>10700</td>\n",
       "      <td>63039</td>\n",
       "      <td>2018</td>\n",
       "      <td>6</td>\n",
       "      <td>26</td>\n",
       "    </tr>\n",
       "  </tbody>\n",
       "</table>\n",
       "</div>"
      ],
      "text/plain": [
       "            Close  Start   High    Low  Volume  year  month  day\n",
       "New_Date                                                        \n",
       "2018-07-02  10100  10850  10900  10000  137977  2018      7    2\n",
       "2018-06-29  10700  10550  10900   9990  170253  2018      6   29\n",
       "2018-06-28  10400  10900  10950  10150  155769  2018      6   28\n",
       "2018-06-27  10900  10800  11050  10500  133548  2018      6   27\n",
       "2018-06-26  10800  10900  11000  10700   63039  2018      6   26"
      ]
     },
     "execution_count": 82,
     "metadata": {},
     "output_type": "execute_result"
    }
   ],
   "source": [
    "df1 = df.copy()\n",
    "df1.set_index('New_Date', inplace = True)\n",
    "df1.head()"
   ]
  },
  {
   "cell_type": "code",
   "execution_count": 83,
   "id": "c14260f4",
   "metadata": {},
   "outputs": [
    {
     "data": {
      "text/plain": [
       "DatetimeIndex(['2018-07-02', '2018-06-29', '2018-06-28', '2018-06-27',\n",
       "               '2018-06-26', '2018-06-25', '2018-06-22', '2018-06-21',\n",
       "               '2018-06-20', '2018-06-19', '2018-06-18', '2018-06-15',\n",
       "               '2018-06-14', '2018-06-12', '2018-06-11', '2018-06-08',\n",
       "               '2018-06-07', '2018-06-05', '2018-06-04', '2018-06-01'],\n",
       "              dtype='datetime64[ns]', name='New_Date', freq=None)"
      ]
     },
     "execution_count": 83,
     "metadata": {},
     "output_type": "execute_result"
    }
   ],
   "source": [
    "df1.index"
   ]
  },
  {
   "cell_type": "code",
   "execution_count": 84,
   "id": "15da36a7",
   "metadata": {},
   "outputs": [
    {
     "data": {
      "text/html": [
       "<div>\n",
       "<style scoped>\n",
       "    .dataframe tbody tr th:only-of-type {\n",
       "        vertical-align: middle;\n",
       "    }\n",
       "\n",
       "    .dataframe tbody tr th {\n",
       "        vertical-align: top;\n",
       "    }\n",
       "\n",
       "    .dataframe thead th {\n",
       "        text-align: right;\n",
       "    }\n",
       "</style>\n",
       "<table border=\"1\" class=\"dataframe\">\n",
       "  <thead>\n",
       "    <tr style=\"text-align: right;\">\n",
       "      <th></th>\n",
       "      <th>Start</th>\n",
       "      <th>High</th>\n",
       "      <th>Low</th>\n",
       "    </tr>\n",
       "    <tr>\n",
       "      <th>New_Date</th>\n",
       "      <th></th>\n",
       "      <th></th>\n",
       "      <th></th>\n",
       "    </tr>\n",
       "  </thead>\n",
       "  <tbody>\n",
       "    <tr>\n",
       "      <th>2018-07-02</th>\n",
       "      <td>10850</td>\n",
       "      <td>10900</td>\n",
       "      <td>10000</td>\n",
       "    </tr>\n",
       "  </tbody>\n",
       "</table>\n",
       "</div>"
      ],
      "text/plain": [
       "            Start   High    Low\n",
       "New_Date                       \n",
       "2018-07-02  10850  10900  10000"
      ]
     },
     "execution_count": 84,
     "metadata": {},
     "output_type": "execute_result"
    }
   ],
   "source": [
    "df1_ym = df1.loc['2018-07', 'Start' : 'Low']\n",
    "df1_ym"
   ]
  },
  {
   "cell_type": "code",
   "execution_count": null,
   "id": "13e3196f",
   "metadata": {},
   "outputs": [],
   "source": []
  },
  {
   "cell_type": "markdown",
   "id": "5b781a0c",
   "metadata": {},
   "source": [
    "## index를 생성"
   ]
  },
  {
   "cell_type": "code",
   "execution_count": 85,
   "id": "794cd7ee",
   "metadata": {},
   "outputs": [
    {
     "name": "stdout",
     "output_type": "stream",
     "text": [
      "DatetimeIndex(['2020-10-01 00:00:00', '2020-10-05 18:00:00',\n",
      "               '2020-10-10 12:00:00', '2020-10-15 06:00:00',\n",
      "               '2020-10-20 00:00:00'],\n",
      "              dtype='datetime64[ns]', freq=None) <class 'pandas.core.indexes.datetimes.DatetimeIndex'>\n"
     ]
    }
   ],
   "source": [
    "what = pd.date_range(start = '2020-10-01', end = '2020-10-20', periods=5) #period 는 갯수\n",
    "print(what, type(what))"
   ]
  },
  {
   "cell_type": "code",
   "execution_count": 86,
   "id": "91309882",
   "metadata": {},
   "outputs": [
    {
     "name": "stdout",
     "output_type": "stream",
     "text": [
      "DatetimeIndex(['2000-01-05', '2000-01-12', '2000-01-19', '2000-01-26',\n",
      "               '2000-02-02', '2000-02-09', '2000-02-16', '2000-02-23',\n",
      "               '2000-03-01', '2000-03-08', '2000-03-15', '2000-03-22',\n",
      "               '2000-03-29', '2000-04-05', '2000-04-12', '2000-04-19',\n",
      "               '2000-04-26', '2000-05-03', '2000-05-10', '2000-05-17',\n",
      "               '2000-05-24', '2000-05-31', '2000-06-07', '2000-06-14',\n",
      "               '2000-06-21', '2000-06-28', '2000-07-05', '2000-07-12',\n",
      "               '2000-07-19', '2000-07-26', '2000-08-02', '2000-08-09',\n",
      "               '2000-08-16', '2000-08-23', '2000-08-30', '2000-09-06',\n",
      "               '2000-09-13', '2000-09-20', '2000-09-27', '2000-10-04',\n",
      "               '2000-10-11', '2000-10-18', '2000-10-25', '2000-11-01',\n",
      "               '2000-11-08', '2000-11-15', '2000-11-22', '2000-11-29',\n",
      "               '2000-12-06', '2000-12-13', '2000-12-20', '2000-12-27',\n",
      "               '2001-01-03', '2001-01-10', '2001-01-17', '2001-01-24',\n",
      "               '2001-01-31', '2001-02-07', '2001-02-14', '2001-02-21',\n",
      "               '2001-02-28', '2001-03-07', '2001-03-14', '2001-03-21',\n",
      "               '2001-03-28', '2001-04-04', '2001-04-11', '2001-04-18',\n",
      "               '2001-04-25', '2001-05-02', '2001-05-09', '2001-05-16',\n",
      "               '2001-05-23', '2001-05-30', '2001-06-06', '2001-06-13',\n",
      "               '2001-06-20', '2001-06-27', '2001-07-04', '2001-07-11',\n",
      "               '2001-07-18', '2001-07-25', '2001-08-01', '2001-08-08',\n",
      "               '2001-08-15', '2001-08-22', '2001-08-29', '2001-09-05',\n",
      "               '2001-09-12', '2001-09-19', '2001-09-26', '2001-10-03',\n",
      "               '2001-10-10', '2001-10-17', '2001-10-24', '2001-10-31',\n",
      "               '2001-11-07', '2001-11-14', '2001-11-21', '2001-11-28'],\n",
      "              dtype='datetime64[ns]', freq='W-WED')\n"
     ]
    }
   ],
   "source": [
    "dates = pd.date_range('1/1/2000', periods=100, freq='W-WED')\n",
    "print(dates)"
   ]
  },
  {
   "cell_type": "code",
   "execution_count": 87,
   "id": "6a2c0457",
   "metadata": {},
   "outputs": [
    {
     "data": {
      "text/plain": [
       "DatetimeIndex(['2000-01-01 00:00:00', '2000-01-01 04:00:00',\n",
       "               '2000-01-01 08:00:00', '2000-01-01 12:00:00',\n",
       "               '2000-01-01 16:00:00', '2000-01-01 20:00:00',\n",
       "               '2000-01-02 00:00:00', '2000-01-02 04:00:00',\n",
       "               '2000-01-02 08:00:00', '2000-01-02 12:00:00',\n",
       "               '2000-01-02 16:00:00', '2000-01-02 20:00:00',\n",
       "               '2000-01-03 00:00:00', '2000-01-03 04:00:00',\n",
       "               '2000-01-03 08:00:00', '2000-01-03 12:00:00',\n",
       "               '2000-01-03 16:00:00', '2000-01-03 20:00:00'],\n",
       "              dtype='datetime64[ns]', freq='4H')"
      ]
     },
     "execution_count": 87,
     "metadata": {},
     "output_type": "execute_result"
    }
   ],
   "source": [
    "pd.date_range('2000-01-01', '2000-01-03 23:59', freq='4h')"
   ]
  },
  {
   "cell_type": "markdown",
   "id": "61168c8a",
   "metadata": {},
   "source": [
    "# 뭔가를 보충"
   ]
  },
  {
   "cell_type": "code",
   "execution_count": 88,
   "id": "8d3bb7eb",
   "metadata": {},
   "outputs": [
    {
     "data": {
      "text/plain": [
       "'C:\\\\cakd7\\\\m2_분석라이브러리활용\\\\01_Pandas'"
      ]
     },
     "execution_count": 88,
     "metadata": {},
     "output_type": "execute_result"
    }
   ],
   "source": [
    "%pwd"
   ]
  },
  {
   "cell_type": "code",
   "execution_count": 89,
   "id": "d8ab17c1",
   "metadata": {},
   "outputs": [
    {
     "data": {
      "text/html": [
       "<div>\n",
       "<style scoped>\n",
       "    .dataframe tbody tr th:only-of-type {\n",
       "        vertical-align: middle;\n",
       "    }\n",
       "\n",
       "    .dataframe tbody tr th {\n",
       "        vertical-align: top;\n",
       "    }\n",
       "\n",
       "    .dataframe thead th {\n",
       "        text-align: right;\n",
       "    }\n",
       "</style>\n",
       "<table border=\"1\" class=\"dataframe\">\n",
       "  <thead>\n",
       "    <tr style=\"text-align: right;\">\n",
       "      <th></th>\n",
       "      <th>Date</th>\n",
       "      <th>Close</th>\n",
       "      <th>Start</th>\n",
       "      <th>High</th>\n",
       "      <th>Low</th>\n",
       "      <th>Volume</th>\n",
       "    </tr>\n",
       "  </thead>\n",
       "  <tbody>\n",
       "    <tr>\n",
       "      <th>0</th>\n",
       "      <td>2018-07-02</td>\n",
       "      <td>10100</td>\n",
       "      <td>10850</td>\n",
       "      <td>10900</td>\n",
       "      <td>10000</td>\n",
       "      <td>137977</td>\n",
       "    </tr>\n",
       "    <tr>\n",
       "      <th>1</th>\n",
       "      <td>2018-06-29</td>\n",
       "      <td>10700</td>\n",
       "      <td>10550</td>\n",
       "      <td>10900</td>\n",
       "      <td>9990</td>\n",
       "      <td>170253</td>\n",
       "    </tr>\n",
       "    <tr>\n",
       "      <th>2</th>\n",
       "      <td>2018-06-28</td>\n",
       "      <td>10400</td>\n",
       "      <td>10900</td>\n",
       "      <td>10950</td>\n",
       "      <td>10150</td>\n",
       "      <td>155769</td>\n",
       "    </tr>\n",
       "    <tr>\n",
       "      <th>3</th>\n",
       "      <td>2018-06-27</td>\n",
       "      <td>10900</td>\n",
       "      <td>10800</td>\n",
       "      <td>11050</td>\n",
       "      <td>10500</td>\n",
       "      <td>133548</td>\n",
       "    </tr>\n",
       "    <tr>\n",
       "      <th>4</th>\n",
       "      <td>2018-06-26</td>\n",
       "      <td>10800</td>\n",
       "      <td>10900</td>\n",
       "      <td>11000</td>\n",
       "      <td>10700</td>\n",
       "      <td>63039</td>\n",
       "    </tr>\n",
       "  </tbody>\n",
       "</table>\n",
       "</div>"
      ],
      "text/plain": [
       "         Date  Close  Start   High    Low  Volume\n",
       "0  2018-07-02  10100  10850  10900  10000  137977\n",
       "1  2018-06-29  10700  10550  10900   9990  170253\n",
       "2  2018-06-28  10400  10900  10950  10150  155769\n",
       "3  2018-06-27  10900  10800  11050  10500  133548\n",
       "4  2018-06-26  10800  10900  11000  10700   63039"
      ]
     },
     "execution_count": 89,
     "metadata": {},
     "output_type": "execute_result"
    }
   ],
   "source": [
    "import pandas as pd\n",
    "df = pd.read_csv('./dataset/stock-data.csv')# ./헤도 되고 생략도 되고\n",
    "df.head()"
   ]
  },
  {
   "cell_type": "code",
   "execution_count": 90,
   "id": "fd9111e0",
   "metadata": {},
   "outputs": [
    {
     "name": "stdout",
     "output_type": "stream",
     "text": [
      "<class 'pandas.core.frame.DataFrame'>\n",
      "RangeIndex: 20 entries, 0 to 19\n",
      "Data columns (total 7 columns):\n",
      " #   Column    Non-Null Count  Dtype         \n",
      "---  ------    --------------  -----         \n",
      " 0   Date      20 non-null     object        \n",
      " 1   Close     20 non-null     int64         \n",
      " 2   Start     20 non-null     int64         \n",
      " 3   High      20 non-null     int64         \n",
      " 4   Low       20 non-null     int64         \n",
      " 5   Volume    20 non-null     int64         \n",
      " 6   New_Date  20 non-null     datetime64[ns]\n",
      "dtypes: datetime64[ns](1), int64(5), object(1)\n",
      "memory usage: 1.2+ KB\n"
     ]
    }
   ],
   "source": [
    "df['New_Date'] = pd.to_datetime(df.Date)\n",
    "df.info()"
   ]
  },
  {
   "cell_type": "code",
   "execution_count": 91,
   "id": "4252e33b",
   "metadata": {},
   "outputs": [],
   "source": [
    "# pandas.to_datetime( args)\n",
    "# args  : int, float, str, datetime, list, tuple, 1-d array, Series, DataFrame/dict-like"
   ]
  },
  {
   "cell_type": "code",
   "execution_count": 94,
   "id": "1382f18a",
   "metadata": {},
   "outputs": [
    {
     "data": {
      "text/html": [
       "<div>\n",
       "<style scoped>\n",
       "    .dataframe tbody tr th:only-of-type {\n",
       "        vertical-align: middle;\n",
       "    }\n",
       "\n",
       "    .dataframe tbody tr th {\n",
       "        vertical-align: top;\n",
       "    }\n",
       "\n",
       "    .dataframe thead th {\n",
       "        text-align: right;\n",
       "    }\n",
       "</style>\n",
       "<table border=\"1\" class=\"dataframe\">\n",
       "  <thead>\n",
       "    <tr style=\"text-align: right;\">\n",
       "      <th></th>\n",
       "      <th>Close</th>\n",
       "      <th>Start</th>\n",
       "      <th>High</th>\n",
       "      <th>Low</th>\n",
       "      <th>Volume</th>\n",
       "    </tr>\n",
       "    <tr>\n",
       "      <th>New_Date</th>\n",
       "      <th></th>\n",
       "      <th></th>\n",
       "      <th></th>\n",
       "      <th></th>\n",
       "      <th></th>\n",
       "    </tr>\n",
       "  </thead>\n",
       "  <tbody>\n",
       "    <tr>\n",
       "      <th>2018-07-02</th>\n",
       "      <td>10100</td>\n",
       "      <td>10850</td>\n",
       "      <td>10900</td>\n",
       "      <td>10000</td>\n",
       "      <td>137977</td>\n",
       "    </tr>\n",
       "    <tr>\n",
       "      <th>2018-06-29</th>\n",
       "      <td>10700</td>\n",
       "      <td>10550</td>\n",
       "      <td>10900</td>\n",
       "      <td>9990</td>\n",
       "      <td>170253</td>\n",
       "    </tr>\n",
       "    <tr>\n",
       "      <th>2018-06-28</th>\n",
       "      <td>10400</td>\n",
       "      <td>10900</td>\n",
       "      <td>10950</td>\n",
       "      <td>10150</td>\n",
       "      <td>155769</td>\n",
       "    </tr>\n",
       "    <tr>\n",
       "      <th>2018-06-27</th>\n",
       "      <td>10900</td>\n",
       "      <td>10800</td>\n",
       "      <td>11050</td>\n",
       "      <td>10500</td>\n",
       "      <td>133548</td>\n",
       "    </tr>\n",
       "    <tr>\n",
       "      <th>2018-06-26</th>\n",
       "      <td>10800</td>\n",
       "      <td>10900</td>\n",
       "      <td>11000</td>\n",
       "      <td>10700</td>\n",
       "      <td>63039</td>\n",
       "    </tr>\n",
       "  </tbody>\n",
       "</table>\n",
       "</div>"
      ],
      "text/plain": [
       "            Close  Start   High    Low  Volume\n",
       "New_Date                                      \n",
       "2018-07-02  10100  10850  10900  10000  137977\n",
       "2018-06-29  10700  10550  10900   9990  170253\n",
       "2018-06-28  10400  10900  10950  10150  155769\n",
       "2018-06-27  10900  10800  11050  10500  133548\n",
       "2018-06-26  10800  10900  11000  10700   63039"
      ]
     },
     "execution_count": 94,
     "metadata": {},
     "output_type": "execute_result"
    }
   ],
   "source": [
    "df1 = df.copy()\n",
    "df1.set_index('New_Date', inplace=True)\n",
    "df1.drop('Date', axis=1, inplace=True) # columns 를 drop할때는 꼭 축을 명시\n",
    "df1.head()"
   ]
  },
  {
   "cell_type": "markdown",
   "id": "22f837b3",
   "metadata": {},
   "source": [
    "## index를 리셋"
   ]
  },
  {
   "cell_type": "code",
   "execution_count": 95,
   "id": "b1503dda",
   "metadata": {},
   "outputs": [
    {
     "data": {
      "text/html": [
       "<div>\n",
       "<style scoped>\n",
       "    .dataframe tbody tr th:only-of-type {\n",
       "        vertical-align: middle;\n",
       "    }\n",
       "\n",
       "    .dataframe tbody tr th {\n",
       "        vertical-align: top;\n",
       "    }\n",
       "\n",
       "    .dataframe thead th {\n",
       "        text-align: right;\n",
       "    }\n",
       "</style>\n",
       "<table border=\"1\" class=\"dataframe\">\n",
       "  <thead>\n",
       "    <tr style=\"text-align: right;\">\n",
       "      <th></th>\n",
       "      <th>New_Date</th>\n",
       "      <th>Close</th>\n",
       "      <th>Start</th>\n",
       "      <th>High</th>\n",
       "      <th>Low</th>\n",
       "      <th>Volume</th>\n",
       "    </tr>\n",
       "  </thead>\n",
       "  <tbody>\n",
       "    <tr>\n",
       "      <th>0</th>\n",
       "      <td>2018-07-02</td>\n",
       "      <td>10100</td>\n",
       "      <td>10850</td>\n",
       "      <td>10900</td>\n",
       "      <td>10000</td>\n",
       "      <td>137977</td>\n",
       "    </tr>\n",
       "    <tr>\n",
       "      <th>1</th>\n",
       "      <td>2018-06-29</td>\n",
       "      <td>10700</td>\n",
       "      <td>10550</td>\n",
       "      <td>10900</td>\n",
       "      <td>9990</td>\n",
       "      <td>170253</td>\n",
       "    </tr>\n",
       "    <tr>\n",
       "      <th>2</th>\n",
       "      <td>2018-06-28</td>\n",
       "      <td>10400</td>\n",
       "      <td>10900</td>\n",
       "      <td>10950</td>\n",
       "      <td>10150</td>\n",
       "      <td>155769</td>\n",
       "    </tr>\n",
       "    <tr>\n",
       "      <th>3</th>\n",
       "      <td>2018-06-27</td>\n",
       "      <td>10900</td>\n",
       "      <td>10800</td>\n",
       "      <td>11050</td>\n",
       "      <td>10500</td>\n",
       "      <td>133548</td>\n",
       "    </tr>\n",
       "    <tr>\n",
       "      <th>4</th>\n",
       "      <td>2018-06-26</td>\n",
       "      <td>10800</td>\n",
       "      <td>10900</td>\n",
       "      <td>11000</td>\n",
       "      <td>10700</td>\n",
       "      <td>63039</td>\n",
       "    </tr>\n",
       "  </tbody>\n",
       "</table>\n",
       "</div>"
      ],
      "text/plain": [
       "    New_Date  Close  Start   High    Low  Volume\n",
       "0 2018-07-02  10100  10850  10900  10000  137977\n",
       "1 2018-06-29  10700  10550  10900   9990  170253\n",
       "2 2018-06-28  10400  10900  10950  10150  155769\n",
       "3 2018-06-27  10900  10800  11050  10500  133548\n",
       "4 2018-06-26  10800  10900  11000  10700   63039"
      ]
     },
     "execution_count": 95,
     "metadata": {},
     "output_type": "execute_result"
    }
   ],
   "source": [
    "df1 = df1.reset_index()\n",
    "df1.head()"
   ]
  },
  {
   "cell_type": "code",
   "execution_count": 96,
   "id": "b9b13ab2",
   "metadata": {},
   "outputs": [
    {
     "data": {
      "text/html": [
       "<div>\n",
       "<style scoped>\n",
       "    .dataframe tbody tr th:only-of-type {\n",
       "        vertical-align: middle;\n",
       "    }\n",
       "\n",
       "    .dataframe tbody tr th {\n",
       "        vertical-align: top;\n",
       "    }\n",
       "\n",
       "    .dataframe thead th {\n",
       "        text-align: right;\n",
       "    }\n",
       "</style>\n",
       "<table border=\"1\" class=\"dataframe\">\n",
       "  <thead>\n",
       "    <tr style=\"text-align: right;\">\n",
       "      <th></th>\n",
       "      <th>New_Date</th>\n",
       "      <th>Close</th>\n",
       "      <th>Start</th>\n",
       "      <th>High</th>\n",
       "      <th>Low</th>\n",
       "      <th>Volume</th>\n",
       "      <th>Month</th>\n",
       "    </tr>\n",
       "  </thead>\n",
       "  <tbody>\n",
       "    <tr>\n",
       "      <th>0</th>\n",
       "      <td>2018-07-02</td>\n",
       "      <td>10100</td>\n",
       "      <td>10850</td>\n",
       "      <td>10900</td>\n",
       "      <td>10000</td>\n",
       "      <td>137977</td>\n",
       "      <td>7</td>\n",
       "    </tr>\n",
       "    <tr>\n",
       "      <th>1</th>\n",
       "      <td>2018-06-29</td>\n",
       "      <td>10700</td>\n",
       "      <td>10550</td>\n",
       "      <td>10900</td>\n",
       "      <td>9990</td>\n",
       "      <td>170253</td>\n",
       "      <td>6</td>\n",
       "    </tr>\n",
       "    <tr>\n",
       "      <th>2</th>\n",
       "      <td>2018-06-28</td>\n",
       "      <td>10400</td>\n",
       "      <td>10900</td>\n",
       "      <td>10950</td>\n",
       "      <td>10150</td>\n",
       "      <td>155769</td>\n",
       "      <td>6</td>\n",
       "    </tr>\n",
       "    <tr>\n",
       "      <th>3</th>\n",
       "      <td>2018-06-27</td>\n",
       "      <td>10900</td>\n",
       "      <td>10800</td>\n",
       "      <td>11050</td>\n",
       "      <td>10500</td>\n",
       "      <td>133548</td>\n",
       "      <td>6</td>\n",
       "    </tr>\n",
       "    <tr>\n",
       "      <th>4</th>\n",
       "      <td>2018-06-26</td>\n",
       "      <td>10800</td>\n",
       "      <td>10900</td>\n",
       "      <td>11000</td>\n",
       "      <td>10700</td>\n",
       "      <td>63039</td>\n",
       "      <td>6</td>\n",
       "    </tr>\n",
       "  </tbody>\n",
       "</table>\n",
       "</div>"
      ],
      "text/plain": [
       "    New_Date  Close  Start   High    Low  Volume  Month\n",
       "0 2018-07-02  10100  10850  10900  10000  137977      7\n",
       "1 2018-06-29  10700  10550  10900   9990  170253      6\n",
       "2 2018-06-28  10400  10900  10950  10150  155769      6\n",
       "3 2018-06-27  10900  10800  11050  10500  133548      6\n",
       "4 2018-06-26  10800  10900  11000  10700   63039      6"
      ]
     },
     "execution_count": 96,
     "metadata": {},
     "output_type": "execute_result"
    }
   ],
   "source": [
    "df1['Month'] = df1.New_Date.dt.month\n",
    "df1.head()"
   ]
  },
  {
   "cell_type": "code",
   "execution_count": 97,
   "id": "898d8979",
   "metadata": {},
   "outputs": [
    {
     "data": {
      "text/html": [
       "<div>\n",
       "<style scoped>\n",
       "    .dataframe tbody tr th:only-of-type {\n",
       "        vertical-align: middle;\n",
       "    }\n",
       "\n",
       "    .dataframe tbody tr th {\n",
       "        vertical-align: top;\n",
       "    }\n",
       "\n",
       "    .dataframe thead th {\n",
       "        text-align: right;\n",
       "    }\n",
       "</style>\n",
       "<table border=\"1\" class=\"dataframe\">\n",
       "  <thead>\n",
       "    <tr style=\"text-align: right;\">\n",
       "      <th></th>\n",
       "      <th>New_Date</th>\n",
       "      <th>Close</th>\n",
       "      <th>Start</th>\n",
       "      <th>High</th>\n",
       "      <th>Low</th>\n",
       "      <th>Volume</th>\n",
       "    </tr>\n",
       "    <tr>\n",
       "      <th>Month</th>\n",
       "      <th></th>\n",
       "      <th></th>\n",
       "      <th></th>\n",
       "      <th></th>\n",
       "      <th></th>\n",
       "      <th></th>\n",
       "    </tr>\n",
       "  </thead>\n",
       "  <tbody>\n",
       "    <tr>\n",
       "      <th>7</th>\n",
       "      <td>2018-07-02</td>\n",
       "      <td>10100</td>\n",
       "      <td>10850</td>\n",
       "      <td>10900</td>\n",
       "      <td>10000</td>\n",
       "      <td>137977</td>\n",
       "    </tr>\n",
       "    <tr>\n",
       "      <th>6</th>\n",
       "      <td>2018-06-29</td>\n",
       "      <td>10700</td>\n",
       "      <td>10550</td>\n",
       "      <td>10900</td>\n",
       "      <td>9990</td>\n",
       "      <td>170253</td>\n",
       "    </tr>\n",
       "    <tr>\n",
       "      <th>6</th>\n",
       "      <td>2018-06-28</td>\n",
       "      <td>10400</td>\n",
       "      <td>10900</td>\n",
       "      <td>10950</td>\n",
       "      <td>10150</td>\n",
       "      <td>155769</td>\n",
       "    </tr>\n",
       "    <tr>\n",
       "      <th>6</th>\n",
       "      <td>2018-06-27</td>\n",
       "      <td>10900</td>\n",
       "      <td>10800</td>\n",
       "      <td>11050</td>\n",
       "      <td>10500</td>\n",
       "      <td>133548</td>\n",
       "    </tr>\n",
       "    <tr>\n",
       "      <th>6</th>\n",
       "      <td>2018-06-26</td>\n",
       "      <td>10800</td>\n",
       "      <td>10900</td>\n",
       "      <td>11000</td>\n",
       "      <td>10700</td>\n",
       "      <td>63039</td>\n",
       "    </tr>\n",
       "  </tbody>\n",
       "</table>\n",
       "</div>"
      ],
      "text/plain": [
       "        New_Date  Close  Start   High    Low  Volume\n",
       "Month                                               \n",
       "7     2018-07-02  10100  10850  10900  10000  137977\n",
       "6     2018-06-29  10700  10550  10900   9990  170253\n",
       "6     2018-06-28  10400  10900  10950  10150  155769\n",
       "6     2018-06-27  10900  10800  11050  10500  133548\n",
       "6     2018-06-26  10800  10900  11000  10700   63039"
      ]
     },
     "execution_count": 97,
     "metadata": {},
     "output_type": "execute_result"
    }
   ],
   "source": [
    "df1 = df1.set_index('Month')\n",
    "df1.head()"
   ]
  },
  {
   "cell_type": "code",
   "execution_count": 98,
   "id": "ee012480",
   "metadata": {},
   "outputs": [
    {
     "data": {
      "text/html": [
       "<div>\n",
       "<style scoped>\n",
       "    .dataframe tbody tr th:only-of-type {\n",
       "        vertical-align: middle;\n",
       "    }\n",
       "\n",
       "    .dataframe tbody tr th {\n",
       "        vertical-align: top;\n",
       "    }\n",
       "\n",
       "    .dataframe thead th {\n",
       "        text-align: right;\n",
       "    }\n",
       "</style>\n",
       "<table border=\"1\" class=\"dataframe\">\n",
       "  <thead>\n",
       "    <tr style=\"text-align: right;\">\n",
       "      <th></th>\n",
       "      <th>Month</th>\n",
       "      <th>New_Date</th>\n",
       "      <th>Close</th>\n",
       "      <th>Start</th>\n",
       "      <th>High</th>\n",
       "      <th>Low</th>\n",
       "      <th>Volume</th>\n",
       "    </tr>\n",
       "  </thead>\n",
       "  <tbody>\n",
       "    <tr>\n",
       "      <th>0</th>\n",
       "      <td>7</td>\n",
       "      <td>2018-07-02</td>\n",
       "      <td>10100</td>\n",
       "      <td>10850</td>\n",
       "      <td>10900</td>\n",
       "      <td>10000</td>\n",
       "      <td>137977</td>\n",
       "    </tr>\n",
       "    <tr>\n",
       "      <th>1</th>\n",
       "      <td>6</td>\n",
       "      <td>2018-06-29</td>\n",
       "      <td>10700</td>\n",
       "      <td>10550</td>\n",
       "      <td>10900</td>\n",
       "      <td>9990</td>\n",
       "      <td>170253</td>\n",
       "    </tr>\n",
       "    <tr>\n",
       "      <th>2</th>\n",
       "      <td>6</td>\n",
       "      <td>2018-06-28</td>\n",
       "      <td>10400</td>\n",
       "      <td>10900</td>\n",
       "      <td>10950</td>\n",
       "      <td>10150</td>\n",
       "      <td>155769</td>\n",
       "    </tr>\n",
       "    <tr>\n",
       "      <th>3</th>\n",
       "      <td>6</td>\n",
       "      <td>2018-06-27</td>\n",
       "      <td>10900</td>\n",
       "      <td>10800</td>\n",
       "      <td>11050</td>\n",
       "      <td>10500</td>\n",
       "      <td>133548</td>\n",
       "    </tr>\n",
       "    <tr>\n",
       "      <th>4</th>\n",
       "      <td>6</td>\n",
       "      <td>2018-06-26</td>\n",
       "      <td>10800</td>\n",
       "      <td>10900</td>\n",
       "      <td>11000</td>\n",
       "      <td>10700</td>\n",
       "      <td>63039</td>\n",
       "    </tr>\n",
       "  </tbody>\n",
       "</table>\n",
       "</div>"
      ],
      "text/plain": [
       "   Month   New_Date  Close  Start   High    Low  Volume\n",
       "0      7 2018-07-02  10100  10850  10900  10000  137977\n",
       "1      6 2018-06-29  10700  10550  10900   9990  170253\n",
       "2      6 2018-06-28  10400  10900  10950  10150  155769\n",
       "3      6 2018-06-27  10900  10800  11050  10500  133548\n",
       "4      6 2018-06-26  10800  10900  11000  10700   63039"
      ]
     },
     "execution_count": 98,
     "metadata": {},
     "output_type": "execute_result"
    }
   ],
   "source": [
    "df1 = df1.reset_index()\n",
    "df1.head()"
   ]
  },
  {
   "cell_type": "code",
   "execution_count": 99,
   "id": "71180745",
   "metadata": {},
   "outputs": [
    {
     "data": {
      "text/plain": [
       "<AxesSubplot:>"
      ]
     },
     "execution_count": 99,
     "metadata": {},
     "output_type": "execute_result"
    },
    {
     "data": {
      "image/png": "[encoded data removed]",
      "text/plain": [
       "<Figure size 432x288 with 1 Axes>"
      ]
     },
     "metadata": {
      "needs_background": "light"
     },
     "output_type": "display_data"
    }
   ],
   "source": [
    "df_g = df1[['Close']]\n",
    "df_g.plot()"
   ]
  },
  {
   "cell_type": "code",
   "execution_count": 100,
   "id": "db101a8e",
   "metadata": {},
   "outputs": [
    {
     "data": {
      "text/plain": [
       "<AxesSubplot:>"
      ]
     },
     "execution_count": 100,
     "metadata": {},
     "output_type": "execute_result"
    },
    {
     "data": {
      "image/png": "[encoded data removed]",
      "text/plain": [
       "<Figure size 432x288 with 1 Axes>"
      ]
     },
     "metadata": {
      "needs_background": "light"
     },
     "output_type": "display_data"
    }
   ],
   "source": [
    "df1.Volume.plot()"
   ]
  },
  {
   "cell_type": "code",
   "execution_count": null,
   "id": "ec4bf344",
   "metadata": {},
   "outputs": [],
   "source": []
  },
  {
   "cell_type": "code",
   "execution_count": null,
   "id": "7be2a7fc",
   "metadata": {},
   "outputs": [],
   "source": []
  },
  {
   "cell_type": "code",
   "execution_count": null,
   "id": "eaf69915",
   "metadata": {},
   "outputs": [],
   "source": []
  },
  {
   "cell_type": "code",
   "execution_count": null,
   "id": "7aa844f6",
   "metadata": {},
   "outputs": [],
   "source": []
  },
  {
   "cell_type": "code",
   "execution_count": null,
   "id": "475106f7",
   "metadata": {},
   "outputs": [],
   "source": []
  },
  {
   "cell_type": "code",
   "execution_count": null,
   "id": "98c14574",
   "metadata": {},
   "outputs": [],
   "source": []
  }
 ],
 "metadata": {
  "kernelspec": {
   "display_name": "Python 3 (ipykernel)",
   "language": "python",
   "name": "python3"
  },
  "language_info": {
   "codemirror_mode": {
    "name": "ipython",
    "version": 3
   },
   "file_extension": ".py",
   "mimetype": "text/x-python",
   "name": "python",
   "nbconvert_exporter": "python",
   "pygments_lexer": "ipython3",
   "version": "3.8.13"
  },
  "toc": {
   "base_numbering": 1,
   "nav_menu": {},
   "number_sections": true,
   "sideBar": true,
   "skip_h1_title": false,
   "title_cell": "Table of Contents",
   "title_sidebar": "Contents",
   "toc_cell": false,
   "toc_position": {
    "height": "calc(100% - 180px)",
    "left": "10px",
    "top": "150px",
    "width": "311.594px"
   },
   "toc_section_display": true,
   "toc_window_display": true
  }
 },
 "nbformat": 4,
 "nbformat_minor": 5
}
