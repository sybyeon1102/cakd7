{
 "cells": [
  {
   "cell_type": "code",
   "execution_count": 1,
   "id": "e7d4fb13",
   "metadata": {},
   "outputs": [],
   "source": [
    "import warnings\n",
    "warnings.filterwarnings('ignore')"
   ]
  },
  {
   "cell_type": "markdown",
   "id": "88aacbfb",
   "metadata": {},
   "source": [
    "# 정리된 해야할 것"
   ]
  },
  {
   "cell_type": "markdown",
   "id": "80ab2936",
   "metadata": {},
   "source": [
    "## 1천건의 '고객 데이터' 생성\n",
    "\n",
    "    - cusno : 고객번호 1000개 : 0~999\n",
    "    - gender : 0,1 정수 난수 생성 : 0 male, 1 female\n",
    "    - age : 17 ~ 89사이 정수 난수 생성\n",
    "    - region : 0, 1, 2 정수 난수 생성 : 0 cityA, 1 cityB, 2 cityC\n",
    "    - "
   ]
  },
  {
   "cell_type": "code",
   "execution_count": 2,
   "id": "f3706771",
   "metadata": {},
   "outputs": [],
   "source": [
    "import numpy as np\n",
    "import pandas as pd\n",
    "from numpy.random import randint as randint\n",
    "from datetime import datetime, date, time, timedelta"
   ]
  },
  {
   "cell_type": "code",
   "execution_count": 3,
   "id": "40e58076",
   "metadata": {},
   "outputs": [],
   "source": [
    "cusno = np.arange(1000)\n",
    "sr_cusno = pd.Series(cusno)\n",
    "\n",
    "gender = randint(2, size=1000)\n",
    "sr_gender = pd.Series(gender)\n",
    "\n",
    "age = randint(17, 90, size=1000)\n",
    "sr_age = pd.Series(age)\n",
    "\n",
    "region = randint(3, size=1000)\n",
    "sr_region = pd.Series(region)"
   ]
  },
  {
   "cell_type": "code",
   "execution_count": 4,
   "id": "6cf05c9a",
   "metadata": {},
   "outputs": [
    {
     "data": {
      "text/html": [
       "<div>\n",
       "<style scoped>\n",
       "    .dataframe tbody tr th:only-of-type {\n",
       "        vertical-align: middle;\n",
       "    }\n",
       "\n",
       "    .dataframe tbody tr th {\n",
       "        vertical-align: top;\n",
       "    }\n",
       "\n",
       "    .dataframe thead th {\n",
       "        text-align: right;\n",
       "    }\n",
       "</style>\n",
       "<table border=\"1\" class=\"dataframe\">\n",
       "  <thead>\n",
       "    <tr style=\"text-align: right;\">\n",
       "      <th></th>\n",
       "      <th>cusno</th>\n",
       "      <th>gender</th>\n",
       "      <th>age</th>\n",
       "      <th>region</th>\n",
       "    </tr>\n",
       "  </thead>\n",
       "  <tbody>\n",
       "    <tr>\n",
       "      <th>0</th>\n",
       "      <td>0</td>\n",
       "      <td>1</td>\n",
       "      <td>27</td>\n",
       "      <td>2</td>\n",
       "    </tr>\n",
       "    <tr>\n",
       "      <th>1</th>\n",
       "      <td>1</td>\n",
       "      <td>0</td>\n",
       "      <td>58</td>\n",
       "      <td>0</td>\n",
       "    </tr>\n",
       "    <tr>\n",
       "      <th>2</th>\n",
       "      <td>2</td>\n",
       "      <td>1</td>\n",
       "      <td>17</td>\n",
       "      <td>1</td>\n",
       "    </tr>\n",
       "    <tr>\n",
       "      <th>3</th>\n",
       "      <td>3</td>\n",
       "      <td>0</td>\n",
       "      <td>66</td>\n",
       "      <td>2</td>\n",
       "    </tr>\n",
       "    <tr>\n",
       "      <th>4</th>\n",
       "      <td>4</td>\n",
       "      <td>1</td>\n",
       "      <td>81</td>\n",
       "      <td>0</td>\n",
       "    </tr>\n",
       "  </tbody>\n",
       "</table>\n",
       "</div>"
      ],
      "text/plain": [
       "   cusno  gender  age  region\n",
       "0      0       1   27       2\n",
       "1      1       0   58       0\n",
       "2      2       1   17       1\n",
       "3      3       0   66       2\n",
       "4      4       1   81       0"
      ]
     },
     "execution_count": 4,
     "metadata": {},
     "output_type": "execute_result"
    }
   ],
   "source": [
    "df_cus = pd.concat([sr_cusno, sr_gender, sr_age, sr_region], axis=1)#, columns=['cusno', 'gender', 'age', 'region'])\n",
    "df_cus.rename(columns={0:'cusno', 1:'gender',2: 'age', 3:'region'}, inplace=True)\n",
    "df_cus.head()"
   ]
  },
  {
   "cell_type": "markdown",
   "id": "41e44ed5",
   "metadata": {},
   "source": [
    "## 1만건의 '거래 데이터' 생성\n",
    "\n",
    "    - 거래 no. :  0~9999\n",
    "    - date : '2020-01-01' ~ '2021-12-31' 기간으로\n",
    "    - day : 'Mon', ... , 'Sun'\n",
    "    - time : '00:00' ~ '23:59'\n",
    "    - 고객 id : 0 ~ 999\n",
    "    - product : 10:고가, 20: 중가, 30: 저가\n",
    "    - price : 1000~50000, 1원단위 사용하지 않는 정수\n",
    "    - quantity : 1~100\n",
    "    - amount: price * quantity"
   ]
  },
  {
   "cell_type": "code",
   "execution_count": 5,
   "id": "5156e1d8",
   "metadata": {},
   "outputs": [
    {
     "data": {
      "text/html": [
       "<div>\n",
       "<style scoped>\n",
       "    .dataframe tbody tr th:only-of-type {\n",
       "        vertical-align: middle;\n",
       "    }\n",
       "\n",
       "    .dataframe tbody tr th {\n",
       "        vertical-align: top;\n",
       "    }\n",
       "\n",
       "    .dataframe thead th {\n",
       "        text-align: right;\n",
       "    }\n",
       "</style>\n",
       "<table border=\"1\" class=\"dataframe\">\n",
       "  <thead>\n",
       "    <tr style=\"text-align: right;\">\n",
       "      <th></th>\n",
       "      <th>orderno</th>\n",
       "      <th>date</th>\n",
       "      <th>day</th>\n",
       "      <th>time</th>\n",
       "      <th>cus_id</th>\n",
       "      <th>product</th>\n",
       "      <th>price</th>\n",
       "      <th>quantity</th>\n",
       "      <th>amount</th>\n",
       "    </tr>\n",
       "  </thead>\n",
       "  <tbody>\n",
       "    <tr>\n",
       "      <th>0</th>\n",
       "      <td>NaN</td>\n",
       "      <td>2020-03-22</td>\n",
       "      <td>Sun</td>\n",
       "      <td>12:39:00</td>\n",
       "      <td>945</td>\n",
       "      <td>20</td>\n",
       "      <td>19050</td>\n",
       "      <td>36</td>\n",
       "      <td>685800</td>\n",
       "    </tr>\n",
       "    <tr>\n",
       "      <th>1</th>\n",
       "      <td>NaN</td>\n",
       "      <td>2021-01-13</td>\n",
       "      <td>Wed</td>\n",
       "      <td>03:11:13</td>\n",
       "      <td>750</td>\n",
       "      <td>10</td>\n",
       "      <td>36490</td>\n",
       "      <td>79</td>\n",
       "      <td>2882710</td>\n",
       "    </tr>\n",
       "    <tr>\n",
       "      <th>2</th>\n",
       "      <td>NaN</td>\n",
       "      <td>2020-08-07</td>\n",
       "      <td>Fri</td>\n",
       "      <td>08:02:58</td>\n",
       "      <td>671</td>\n",
       "      <td>20</td>\n",
       "      <td>13750</td>\n",
       "      <td>17</td>\n",
       "      <td>233750</td>\n",
       "    </tr>\n",
       "    <tr>\n",
       "      <th>3</th>\n",
       "      <td>NaN</td>\n",
       "      <td>2021-03-27</td>\n",
       "      <td>Sat</td>\n",
       "      <td>18:13:38</td>\n",
       "      <td>988</td>\n",
       "      <td>10</td>\n",
       "      <td>35870</td>\n",
       "      <td>95</td>\n",
       "      <td>3407650</td>\n",
       "    </tr>\n",
       "    <tr>\n",
       "      <th>4</th>\n",
       "      <td>NaN</td>\n",
       "      <td>2021-09-28</td>\n",
       "      <td>Tue</td>\n",
       "      <td>14:47:40</td>\n",
       "      <td>878</td>\n",
       "      <td>30</td>\n",
       "      <td>9560</td>\n",
       "      <td>57</td>\n",
       "      <td>544920</td>\n",
       "    </tr>\n",
       "  </tbody>\n",
       "</table>\n",
       "</div>"
      ],
      "text/plain": [
       "   orderno       date  day      time  cus_id product  price  quantity   amount\n",
       "0      NaN 2020-03-22  Sun  12:39:00     945      20  19050        36   685800\n",
       "1      NaN 2021-01-13  Wed  03:11:13     750      10  36490        79  2882710\n",
       "2      NaN 2020-08-07  Fri  08:02:58     671      20  13750        17   233750\n",
       "3      NaN 2021-03-27  Sat  18:13:38     988      10  35870        95  3407650\n",
       "4      NaN 2021-09-28  Tue  14:47:40     878      30   9560        57   544920"
      ]
     },
     "execution_count": 5,
     "metadata": {},
     "output_type": "execute_result"
    }
   ],
   "source": [
    "orderno = np.empty(10000).fill(np.nan)\n",
    "orderno = pd.Series(orderno)\n",
    "\n",
    "date_list=list(pd.date_range('2020-01-01','2021-12-31',freq='D')) #랜덤 선택을 위한 date 리스트\n",
    "date = np.random.choice(date_list, size=10000)\n",
    "date = pd.Series(date)\n",
    "#need to sort by date, time\n",
    "\n",
    "day = date.apply(lambda date : date.weekday())\n",
    "day.replace(np.arange(7), ['Mon', 'Tue', 'Wed', 'Thu', 'Fri', 'Sat', 'Sun'], inplace=True)\n",
    "day = pd.Series(day)\n",
    "\n",
    "time_=[]\n",
    "for i in range(10000) : time_.append(time(randint(24), randint(60), randint(60)))\n",
    "time_ = pd.Series(time_)\n",
    "\n",
    "cus_id = randint(1000, size=10000)\n",
    "cus_id = pd.Series(cus_id)\n",
    "\n",
    "price = randint(100, 5001, size=10000)*10\n",
    "price = pd.Series(price)\n",
    "\n",
    "product =pd.cut(x = price, #데이터 배열\n",
    "                         bins=[0, 10000, 30000, 50000], # 경계값 리스트\n",
    "                         labels=[30, 20, 10], #bin 이름\n",
    "                         include_lowest=True) #첫 경계값 포함\n",
    "\n",
    "quantity = randint(1, 101, size=10000)\n",
    "quantity = pd.Series(quantity)\n",
    "\n",
    "amount = price*quantity\n",
    "\n",
    "df_purchase = pd.DataFrame({ 'orderno':orderno,\n",
    "                           'date':date,\n",
    "                           'day': day,\n",
    "                           'time': time_,\n",
    "                            'cus_id': cus_id,\n",
    "                            'product':product,\n",
    "                            'price':price,\n",
    "                            'quantity': quantity,\n",
    "                            'amount': amount    \n",
    "                           })\n",
    "\n",
    "df_purchase.head()"
   ]
  },
  {
   "cell_type": "code",
   "execution_count": 6,
   "id": "d1120d35",
   "metadata": {
    "scrolled": true
   },
   "outputs": [
    {
     "data": {
      "text/html": [
       "<div>\n",
       "<style scoped>\n",
       "    .dataframe tbody tr th:only-of-type {\n",
       "        vertical-align: middle;\n",
       "    }\n",
       "\n",
       "    .dataframe tbody tr th {\n",
       "        vertical-align: top;\n",
       "    }\n",
       "\n",
       "    .dataframe thead th {\n",
       "        text-align: right;\n",
       "    }\n",
       "</style>\n",
       "<table border=\"1\" class=\"dataframe\">\n",
       "  <thead>\n",
       "    <tr style=\"text-align: right;\">\n",
       "      <th></th>\n",
       "      <th>orderno</th>\n",
       "      <th>date</th>\n",
       "      <th>day</th>\n",
       "      <th>time</th>\n",
       "      <th>cus_id</th>\n",
       "      <th>product</th>\n",
       "      <th>price</th>\n",
       "      <th>quantity</th>\n",
       "      <th>amount</th>\n",
       "    </tr>\n",
       "  </thead>\n",
       "  <tbody>\n",
       "    <tr>\n",
       "      <th>0</th>\n",
       "      <td>0</td>\n",
       "      <td>2020-01-01</td>\n",
       "      <td>Wed</td>\n",
       "      <td>01:22:29</td>\n",
       "      <td>284</td>\n",
       "      <td>10</td>\n",
       "      <td>38830</td>\n",
       "      <td>52</td>\n",
       "      <td>2019160</td>\n",
       "    </tr>\n",
       "    <tr>\n",
       "      <th>1</th>\n",
       "      <td>1</td>\n",
       "      <td>2020-01-01</td>\n",
       "      <td>Wed</td>\n",
       "      <td>03:23:07</td>\n",
       "      <td>332</td>\n",
       "      <td>10</td>\n",
       "      <td>41410</td>\n",
       "      <td>33</td>\n",
       "      <td>1366530</td>\n",
       "    </tr>\n",
       "    <tr>\n",
       "      <th>2</th>\n",
       "      <td>2</td>\n",
       "      <td>2020-01-01</td>\n",
       "      <td>Wed</td>\n",
       "      <td>03:49:01</td>\n",
       "      <td>911</td>\n",
       "      <td>20</td>\n",
       "      <td>26880</td>\n",
       "      <td>55</td>\n",
       "      <td>1478400</td>\n",
       "    </tr>\n",
       "    <tr>\n",
       "      <th>3</th>\n",
       "      <td>3</td>\n",
       "      <td>2020-01-01</td>\n",
       "      <td>Wed</td>\n",
       "      <td>05:40:19</td>\n",
       "      <td>747</td>\n",
       "      <td>10</td>\n",
       "      <td>37460</td>\n",
       "      <td>87</td>\n",
       "      <td>3259020</td>\n",
       "    </tr>\n",
       "    <tr>\n",
       "      <th>4</th>\n",
       "      <td>4</td>\n",
       "      <td>2020-01-01</td>\n",
       "      <td>Wed</td>\n",
       "      <td>06:07:32</td>\n",
       "      <td>30</td>\n",
       "      <td>20</td>\n",
       "      <td>10400</td>\n",
       "      <td>29</td>\n",
       "      <td>301600</td>\n",
       "    </tr>\n",
       "  </tbody>\n",
       "</table>\n",
       "</div>"
      ],
      "text/plain": [
       "   orderno       date  day      time  cus_id product  price  quantity   amount\n",
       "0        0 2020-01-01  Wed  01:22:29     284      10  38830        52  2019160\n",
       "1        1 2020-01-01  Wed  03:23:07     332      10  41410        33  1366530\n",
       "2        2 2020-01-01  Wed  03:49:01     911      20  26880        55  1478400\n",
       "3        3 2020-01-01  Wed  05:40:19     747      10  37460        87  3259020\n",
       "4        4 2020-01-01  Wed  06:07:32      30      20  10400        29   301600"
      ]
     },
     "execution_count": 6,
     "metadata": {},
     "output_type": "execute_result"
    }
   ],
   "source": [
    "df_purchase.sort_values(by=['date', 'time'], inplace=True)\n",
    "df_purchase.orderno = np.arange(10000)\n",
    "df_purchase.reset_index(drop=True, inplace=True) #drop= : 기존 인덱스를 추가하지 않음\n",
    "df_purchase.head()"
   ]
  },
  {
   "cell_type": "markdown",
   "id": "12116cbb",
   "metadata": {},
   "source": [
    "- 이 랜덤하게 만든 데이터를 요약해서 살펴보고, 인사이트 뭐넣을지 생각하지\n",
    "- 랜덤 데이터를 왜 들여다 모르겠지만 일단 그렇게 하라고.?.?"
   ]
  },
  {
   "cell_type": "markdown",
   "id": "8ecc796f",
   "metadata": {},
   "source": [
    "    \n",
    "## 위 두개를 합쳐서(???) '통합 데이터 ' 생성\n",
    "- 이 두개를 단순히 customer no. 로 join하는거?? 같은데???\n",
    "    \n",
    "    - 거래 no. :  0~9999\n",
    "    - date : '2020-01-01' ~ '2021-12-31' 기간으로\n",
    "    - day : 'Mon', ... , 'Sun'\n",
    "    - time : '00:00' ~ '23:59'\n",
    "    - 고객 id : 0 ~ 999\n",
    "    - product : 10:고가, 20: 중가, 30: 저가\n",
    "    - price : 1000~50000, 1원단위 사용하지 않는 정수\n",
    "    - quantity : 1~100\n",
    "    - amount: price * quantity\n",
    "    \n",
    "\n",
    "    - cusno : 고객번호 1000개\n",
    "    - gender : 0,1 정수 난수 생성\n",
    "    - age : 0 ~ 80사이 정수 난수 생성\n",
    "    - region : 1 ~ 10 사이 정수 난수 생성\n",
    "\n"
   ]
  },
  {
   "cell_type": "code",
   "execution_count": 7,
   "id": "139669e3",
   "metadata": {},
   "outputs": [
    {
     "data": {
      "text/html": [
       "<div>\n",
       "<style scoped>\n",
       "    .dataframe tbody tr th:only-of-type {\n",
       "        vertical-align: middle;\n",
       "    }\n",
       "\n",
       "    .dataframe tbody tr th {\n",
       "        vertical-align: top;\n",
       "    }\n",
       "\n",
       "    .dataframe thead th {\n",
       "        text-align: right;\n",
       "    }\n",
       "</style>\n",
       "<table border=\"1\" class=\"dataframe\">\n",
       "  <thead>\n",
       "    <tr style=\"text-align: right;\">\n",
       "      <th></th>\n",
       "      <th>cus_id</th>\n",
       "      <th>gender</th>\n",
       "      <th>age</th>\n",
       "      <th>region</th>\n",
       "    </tr>\n",
       "  </thead>\n",
       "  <tbody>\n",
       "    <tr>\n",
       "      <th>0</th>\n",
       "      <td>0</td>\n",
       "      <td>1</td>\n",
       "      <td>27</td>\n",
       "      <td>2</td>\n",
       "    </tr>\n",
       "    <tr>\n",
       "      <th>1</th>\n",
       "      <td>1</td>\n",
       "      <td>0</td>\n",
       "      <td>58</td>\n",
       "      <td>0</td>\n",
       "    </tr>\n",
       "    <tr>\n",
       "      <th>2</th>\n",
       "      <td>2</td>\n",
       "      <td>1</td>\n",
       "      <td>17</td>\n",
       "      <td>1</td>\n",
       "    </tr>\n",
       "    <tr>\n",
       "      <th>3</th>\n",
       "      <td>3</td>\n",
       "      <td>0</td>\n",
       "      <td>66</td>\n",
       "      <td>2</td>\n",
       "    </tr>\n",
       "    <tr>\n",
       "      <th>4</th>\n",
       "      <td>4</td>\n",
       "      <td>1</td>\n",
       "      <td>81</td>\n",
       "      <td>0</td>\n",
       "    </tr>\n",
       "  </tbody>\n",
       "</table>\n",
       "</div>"
      ],
      "text/plain": [
       "   cus_id  gender  age  region\n",
       "0       0       1   27       2\n",
       "1       1       0   58       0\n",
       "2       2       1   17       1\n",
       "3       3       0   66       2\n",
       "4       4       1   81       0"
      ]
     },
     "execution_count": 7,
     "metadata": {},
     "output_type": "execute_result"
    }
   ],
   "source": [
    "df_cus.rename({'cusno':'cus_id'}, inplace=True, axis=1)\n",
    "df_cus.head()"
   ]
  },
  {
   "cell_type": "code",
   "execution_count": 8,
   "id": "e14d696b",
   "metadata": {},
   "outputs": [
    {
     "data": {
      "text/html": [
       "<div>\n",
       "<style scoped>\n",
       "    .dataframe tbody tr th:only-of-type {\n",
       "        vertical-align: middle;\n",
       "    }\n",
       "\n",
       "    .dataframe tbody tr th {\n",
       "        vertical-align: top;\n",
       "    }\n",
       "\n",
       "    .dataframe thead th {\n",
       "        text-align: right;\n",
       "    }\n",
       "</style>\n",
       "<table border=\"1\" class=\"dataframe\">\n",
       "  <thead>\n",
       "    <tr style=\"text-align: right;\">\n",
       "      <th></th>\n",
       "      <th>orderno</th>\n",
       "      <th>date</th>\n",
       "      <th>day</th>\n",
       "      <th>time</th>\n",
       "      <th>cus_id</th>\n",
       "      <th>product</th>\n",
       "      <th>price</th>\n",
       "      <th>quantity</th>\n",
       "      <th>amount</th>\n",
       "    </tr>\n",
       "  </thead>\n",
       "  <tbody>\n",
       "    <tr>\n",
       "      <th>0</th>\n",
       "      <td>0</td>\n",
       "      <td>2020-01-01</td>\n",
       "      <td>Wed</td>\n",
       "      <td>01:22:29</td>\n",
       "      <td>284</td>\n",
       "      <td>10</td>\n",
       "      <td>38830</td>\n",
       "      <td>52</td>\n",
       "      <td>2019160</td>\n",
       "    </tr>\n",
       "    <tr>\n",
       "      <th>1</th>\n",
       "      <td>1</td>\n",
       "      <td>2020-01-01</td>\n",
       "      <td>Wed</td>\n",
       "      <td>03:23:07</td>\n",
       "      <td>332</td>\n",
       "      <td>10</td>\n",
       "      <td>41410</td>\n",
       "      <td>33</td>\n",
       "      <td>1366530</td>\n",
       "    </tr>\n",
       "    <tr>\n",
       "      <th>2</th>\n",
       "      <td>2</td>\n",
       "      <td>2020-01-01</td>\n",
       "      <td>Wed</td>\n",
       "      <td>03:49:01</td>\n",
       "      <td>911</td>\n",
       "      <td>20</td>\n",
       "      <td>26880</td>\n",
       "      <td>55</td>\n",
       "      <td>1478400</td>\n",
       "    </tr>\n",
       "    <tr>\n",
       "      <th>3</th>\n",
       "      <td>3</td>\n",
       "      <td>2020-01-01</td>\n",
       "      <td>Wed</td>\n",
       "      <td>05:40:19</td>\n",
       "      <td>747</td>\n",
       "      <td>10</td>\n",
       "      <td>37460</td>\n",
       "      <td>87</td>\n",
       "      <td>3259020</td>\n",
       "    </tr>\n",
       "    <tr>\n",
       "      <th>4</th>\n",
       "      <td>4</td>\n",
       "      <td>2020-01-01</td>\n",
       "      <td>Wed</td>\n",
       "      <td>06:07:32</td>\n",
       "      <td>30</td>\n",
       "      <td>20</td>\n",
       "      <td>10400</td>\n",
       "      <td>29</td>\n",
       "      <td>301600</td>\n",
       "    </tr>\n",
       "  </tbody>\n",
       "</table>\n",
       "</div>"
      ],
      "text/plain": [
       "   orderno       date  day      time  cus_id product  price  quantity   amount\n",
       "0        0 2020-01-01  Wed  01:22:29     284      10  38830        52  2019160\n",
       "1        1 2020-01-01  Wed  03:23:07     332      10  41410        33  1366530\n",
       "2        2 2020-01-01  Wed  03:49:01     911      20  26880        55  1478400\n",
       "3        3 2020-01-01  Wed  05:40:19     747      10  37460        87  3259020\n",
       "4        4 2020-01-01  Wed  06:07:32      30      20  10400        29   301600"
      ]
     },
     "execution_count": 8,
     "metadata": {},
     "output_type": "execute_result"
    }
   ],
   "source": [
    "df_purchase.head()"
   ]
  },
  {
   "cell_type": "code",
   "execution_count": 9,
   "id": "6347f61c",
   "metadata": {},
   "outputs": [
    {
     "data": {
      "text/html": [
       "<div>\n",
       "<style scoped>\n",
       "    .dataframe tbody tr th:only-of-type {\n",
       "        vertical-align: middle;\n",
       "    }\n",
       "\n",
       "    .dataframe tbody tr th {\n",
       "        vertical-align: top;\n",
       "    }\n",
       "\n",
       "    .dataframe thead th {\n",
       "        text-align: right;\n",
       "    }\n",
       "</style>\n",
       "<table border=\"1\" class=\"dataframe\">\n",
       "  <thead>\n",
       "    <tr style=\"text-align: right;\">\n",
       "      <th></th>\n",
       "      <th>orderno</th>\n",
       "      <th>date</th>\n",
       "      <th>day</th>\n",
       "      <th>time</th>\n",
       "      <th>cus_id</th>\n",
       "      <th>product</th>\n",
       "      <th>price</th>\n",
       "      <th>quantity</th>\n",
       "      <th>amount</th>\n",
       "      <th>gender</th>\n",
       "      <th>age</th>\n",
       "      <th>region</th>\n",
       "    </tr>\n",
       "  </thead>\n",
       "  <tbody>\n",
       "    <tr>\n",
       "      <th>0</th>\n",
       "      <td>0</td>\n",
       "      <td>2020-01-01</td>\n",
       "      <td>Wed</td>\n",
       "      <td>01:22:29</td>\n",
       "      <td>284</td>\n",
       "      <td>10</td>\n",
       "      <td>38830</td>\n",
       "      <td>52</td>\n",
       "      <td>2019160</td>\n",
       "      <td>1</td>\n",
       "      <td>87</td>\n",
       "      <td>0</td>\n",
       "    </tr>\n",
       "    <tr>\n",
       "      <th>1</th>\n",
       "      <td>1</td>\n",
       "      <td>2020-01-01</td>\n",
       "      <td>Wed</td>\n",
       "      <td>03:23:07</td>\n",
       "      <td>332</td>\n",
       "      <td>10</td>\n",
       "      <td>41410</td>\n",
       "      <td>33</td>\n",
       "      <td>1366530</td>\n",
       "      <td>0</td>\n",
       "      <td>22</td>\n",
       "      <td>0</td>\n",
       "    </tr>\n",
       "    <tr>\n",
       "      <th>2</th>\n",
       "      <td>2</td>\n",
       "      <td>2020-01-01</td>\n",
       "      <td>Wed</td>\n",
       "      <td>03:49:01</td>\n",
       "      <td>911</td>\n",
       "      <td>20</td>\n",
       "      <td>26880</td>\n",
       "      <td>55</td>\n",
       "      <td>1478400</td>\n",
       "      <td>1</td>\n",
       "      <td>72</td>\n",
       "      <td>2</td>\n",
       "    </tr>\n",
       "    <tr>\n",
       "      <th>3</th>\n",
       "      <td>3</td>\n",
       "      <td>2020-01-01</td>\n",
       "      <td>Wed</td>\n",
       "      <td>05:40:19</td>\n",
       "      <td>747</td>\n",
       "      <td>10</td>\n",
       "      <td>37460</td>\n",
       "      <td>87</td>\n",
       "      <td>3259020</td>\n",
       "      <td>0</td>\n",
       "      <td>18</td>\n",
       "      <td>2</td>\n",
       "    </tr>\n",
       "    <tr>\n",
       "      <th>4</th>\n",
       "      <td>4</td>\n",
       "      <td>2020-01-01</td>\n",
       "      <td>Wed</td>\n",
       "      <td>06:07:32</td>\n",
       "      <td>30</td>\n",
       "      <td>20</td>\n",
       "      <td>10400</td>\n",
       "      <td>29</td>\n",
       "      <td>301600</td>\n",
       "      <td>1</td>\n",
       "      <td>84</td>\n",
       "      <td>0</td>\n",
       "    </tr>\n",
       "  </tbody>\n",
       "</table>\n",
       "</div>"
      ],
      "text/plain": [
       "   orderno       date  day      time  cus_id product  price  quantity  \\\n",
       "0        0 2020-01-01  Wed  01:22:29     284      10  38830        52   \n",
       "1        1 2020-01-01  Wed  03:23:07     332      10  41410        33   \n",
       "2        2 2020-01-01  Wed  03:49:01     911      20  26880        55   \n",
       "3        3 2020-01-01  Wed  05:40:19     747      10  37460        87   \n",
       "4        4 2020-01-01  Wed  06:07:32      30      20  10400        29   \n",
       "\n",
       "    amount  gender  age  region  \n",
       "0  2019160       1   87       0  \n",
       "1  1366530       0   22       0  \n",
       "2  1478400       1   72       2  \n",
       "3  3259020       0   18       2  \n",
       "4   301600       1   84       0  "
      ]
     },
     "execution_count": 9,
     "metadata": {},
     "output_type": "execute_result"
    }
   ],
   "source": [
    "df_integrated = pd.merge(df_purchase, df_cus, on='cus_id', how='left')\n",
    "df_integrated.head()"
   ]
  },
  {
   "cell_type": "markdown",
   "id": "ef971532",
   "metadata": {},
   "source": [
    "## 인사이트를 정한다\n",
    "    - ex) 코로나로 남성보다 외출 쇼핑 많이 하는 여성 매출 대폭 감소\n",
    "        - 독립변수 - 성별/  종속변수 - 매출증감여부 / + alpha : 이유를 추측 (이 과제에서는 자기가 story를 만든다?)\n",
    "    - 만든 탐색적 분석 후 인사이트를 정한다."
   ]
  },
  {
   "cell_type": "markdown",
   "id": "93133dba",
   "metadata": {},
   "source": [
    "### 생성된 데이터 분석"
   ]
  },
  {
   "cell_type": "code",
   "execution_count": 10,
   "id": "29ef6424",
   "metadata": {},
   "outputs": [],
   "source": [
    "df_explore= pd.read_pickle('./dataset/integrated_purchase.pkl')\n",
    "df_cus = pd.read_pickle('./dataset/customers.pkl')"
   ]
  },
  {
   "cell_type": "code",
   "execution_count": 11,
   "id": "cd6a7dff",
   "metadata": {},
   "outputs": [
    {
     "data": {
      "text/html": [
       "<div>\n",
       "<style scoped>\n",
       "    .dataframe tbody tr th:only-of-type {\n",
       "        vertical-align: middle;\n",
       "    }\n",
       "\n",
       "    .dataframe tbody tr th {\n",
       "        vertical-align: top;\n",
       "    }\n",
       "\n",
       "    .dataframe thead th {\n",
       "        text-align: right;\n",
       "    }\n",
       "</style>\n",
       "<table border=\"1\" class=\"dataframe\">\n",
       "  <thead>\n",
       "    <tr style=\"text-align: right;\">\n",
       "      <th></th>\n",
       "      <th>orderno</th>\n",
       "      <th>date</th>\n",
       "      <th>day</th>\n",
       "      <th>time</th>\n",
       "      <th>cus_id</th>\n",
       "      <th>product</th>\n",
       "      <th>price</th>\n",
       "      <th>quantity</th>\n",
       "      <th>amount</th>\n",
       "      <th>gender</th>\n",
       "      <th>age</th>\n",
       "      <th>region</th>\n",
       "    </tr>\n",
       "  </thead>\n",
       "  <tbody>\n",
       "    <tr>\n",
       "      <th>0</th>\n",
       "      <td>0</td>\n",
       "      <td>2020-01-01</td>\n",
       "      <td>Wed</td>\n",
       "      <td>03:35:15</td>\n",
       "      <td>733</td>\n",
       "      <td>20</td>\n",
       "      <td>14440</td>\n",
       "      <td>56</td>\n",
       "      <td>808640</td>\n",
       "      <td>0</td>\n",
       "      <td>72</td>\n",
       "      <td>0</td>\n",
       "    </tr>\n",
       "    <tr>\n",
       "      <th>1</th>\n",
       "      <td>1</td>\n",
       "      <td>2020-01-01</td>\n",
       "      <td>Wed</td>\n",
       "      <td>06:46:52</td>\n",
       "      <td>692</td>\n",
       "      <td>10</td>\n",
       "      <td>40740</td>\n",
       "      <td>49</td>\n",
       "      <td>1996260</td>\n",
       "      <td>1</td>\n",
       "      <td>63</td>\n",
       "      <td>2</td>\n",
       "    </tr>\n",
       "    <tr>\n",
       "      <th>2</th>\n",
       "      <td>2</td>\n",
       "      <td>2020-01-01</td>\n",
       "      <td>Wed</td>\n",
       "      <td>07:54:42</td>\n",
       "      <td>764</td>\n",
       "      <td>30</td>\n",
       "      <td>5520</td>\n",
       "      <td>2</td>\n",
       "      <td>11040</td>\n",
       "      <td>0</td>\n",
       "      <td>76</td>\n",
       "      <td>1</td>\n",
       "    </tr>\n",
       "    <tr>\n",
       "      <th>3</th>\n",
       "      <td>3</td>\n",
       "      <td>2020-01-01</td>\n",
       "      <td>Wed</td>\n",
       "      <td>09:10:55</td>\n",
       "      <td>459</td>\n",
       "      <td>30</td>\n",
       "      <td>8630</td>\n",
       "      <td>4</td>\n",
       "      <td>34520</td>\n",
       "      <td>1</td>\n",
       "      <td>31</td>\n",
       "      <td>0</td>\n",
       "    </tr>\n",
       "    <tr>\n",
       "      <th>4</th>\n",
       "      <td>4</td>\n",
       "      <td>2020-01-01</td>\n",
       "      <td>Wed</td>\n",
       "      <td>13:30:43</td>\n",
       "      <td>760</td>\n",
       "      <td>20</td>\n",
       "      <td>19970</td>\n",
       "      <td>6</td>\n",
       "      <td>119820</td>\n",
       "      <td>0</td>\n",
       "      <td>89</td>\n",
       "      <td>0</td>\n",
       "    </tr>\n",
       "  </tbody>\n",
       "</table>\n",
       "</div>"
      ],
      "text/plain": [
       "   orderno       date  day      time  cus_id product  price  quantity  \\\n",
       "0        0 2020-01-01  Wed  03:35:15     733      20  14440        56   \n",
       "1        1 2020-01-01  Wed  06:46:52     692      10  40740        49   \n",
       "2        2 2020-01-01  Wed  07:54:42     764      30   5520         2   \n",
       "3        3 2020-01-01  Wed  09:10:55     459      30   8630         4   \n",
       "4        4 2020-01-01  Wed  13:30:43     760      20  19970         6   \n",
       "\n",
       "    amount  gender  age  region  \n",
       "0   808640       0   72       0  \n",
       "1  1996260       1   63       2  \n",
       "2    11040       0   76       1  \n",
       "3    34520       1   31       0  \n",
       "4   119820       0   89       0  "
      ]
     },
     "execution_count": 11,
     "metadata": {},
     "output_type": "execute_result"
    }
   ],
   "source": [
    "df_explore.head()"
   ]
  },
  {
   "cell_type": "markdown",
   "id": "de3db54f",
   "metadata": {},
   "source": [
    "- 매출 증감, 정리해서 보려면 cus_id, amount_20, amount_21, sales면 된다."
   ]
  },
  {
   "cell_type": "code",
   "execution_count": 12,
   "id": "4f53f7b1",
   "metadata": {},
   "outputs": [
    {
     "data": {
      "text/plain": [
       "(6573776770, 6437186650, -136590120)"
      ]
     },
     "execution_count": 12,
     "metadata": {},
     "output_type": "execute_result"
    }
   ],
   "source": [
    "# 2020매출, 2021매출\n",
    "total_amount_20 = df_explore.amount[df_explore.date.dt.year == 2020].sum()\n",
    "total_amount_21 = df_explore.amount[df_explore.date.dt.year == 2021].sum()\n",
    "total_amount_20, total_amount_21, total_amount_21 - total_amount_20 # 20년 대비 21년 매출 감소 확인"
   ]
  },
  {
   "cell_type": "markdown",
   "id": "a92e3d4b",
   "metadata": {},
   "source": [
    "#### 요약 데이터 생성 by customer"
   ]
  },
  {
   "cell_type": "code",
   "execution_count": 13,
   "id": "8e8dd11f",
   "metadata": {},
   "outputs": [],
   "source": [
    "# 각 customer에 대해 \n",
    "# df_cus[cus_id, gender, age, region] amount_20, amount_21, sales"
   ]
  },
  {
   "cell_type": "code",
   "execution_count": 14,
   "id": "79c1761c",
   "metadata": {},
   "outputs": [
    {
     "data": {
      "text/plain": [
       "9331190"
      ]
     },
     "execution_count": 14,
     "metadata": {},
     "output_type": "execute_result"
    }
   ],
   "source": [
    "df_explore.amount[df_explore.cus_id == 733].sum()"
   ]
  },
  {
   "cell_type": "code",
   "execution_count": 15,
   "id": "13b7110b",
   "metadata": {},
   "outputs": [],
   "source": [
    "cus_amount_20 = []\n",
    "cus_amount_21 = []\n",
    "for id_ in df_cus.cus_id:\n",
    "    amount_20 = df_explore.amount[(df_explore.cus_id == id_) & (df_explore.date.dt.year == 2020)].sum()\n",
    "    amount_21 = df_explore.amount[(df_explore.cus_id == id_) & (df_explore.date.dt.year == 2021)].sum()\n",
    "    cus_amount_20.append(amount_20)\n",
    "    cus_amount_21.append(amount_21)"
   ]
  },
  {
   "cell_type": "code",
   "execution_count": 16,
   "id": "c8a52b84",
   "metadata": {},
   "outputs": [],
   "source": [
    "df_cus['amount_20'] = cus_amount_20\n",
    "df_cus['amount_21'] = cus_amount_21\n",
    "df_cus['sales'] = np.where(df_cus.amount_20<df_cus.amount_21, 1, 0)"
   ]
  },
  {
   "cell_type": "code",
   "execution_count": 17,
   "id": "5dd36738",
   "metadata": {},
   "outputs": [],
   "source": [
    "df_cus.gender.replace({0:'male', 1: 'female'}, inplace=True)\n",
    "df_cus.gender = df_cus.gender.astype('category')"
   ]
  },
  {
   "cell_type": "code",
   "execution_count": 18,
   "id": "42e6e10c",
   "metadata": {},
   "outputs": [],
   "source": [
    "df_cus.age = pd.cut(x = age, #데이터 배열\n",
    "                         bins=[17, 20, 40, 60, 89], # 경계값 리스트\n",
    "                         labels=['teenager', 'young_adult', 'adult', 'senior'], #bin 이름\n",
    "                         include_lowest=True) #첫 경계값 포함"
   ]
  },
  {
   "cell_type": "code",
   "execution_count": 19,
   "id": "6ee5542d",
   "metadata": {},
   "outputs": [],
   "source": [
    "df_cus.region.replace({0:'cityA', 1: 'cityB', 2:'cityC'}, inplace=True)\n",
    "df_cus.region = df_cus.region.astype('category')"
   ]
  },
  {
   "cell_type": "code",
   "execution_count": 20,
   "id": "15b90da6",
   "metadata": {},
   "outputs": [],
   "source": [
    "df_cus.amount_20 = (df_cus.amount_20/10000).round().astype('int')\n",
    "df_cus.amount_21 = (df_cus.amount_21/10000).round().astype('int')"
   ]
  },
  {
   "cell_type": "code",
   "execution_count": 21,
   "id": "2c8fbd81",
   "metadata": {
    "scrolled": true
   },
   "outputs": [
    {
     "data": {
      "text/html": [
       "<div>\n",
       "<style scoped>\n",
       "    .dataframe tbody tr th:only-of-type {\n",
       "        vertical-align: middle;\n",
       "    }\n",
       "\n",
       "    .dataframe tbody tr th {\n",
       "        vertical-align: top;\n",
       "    }\n",
       "\n",
       "    .dataframe thead th {\n",
       "        text-align: right;\n",
       "    }\n",
       "</style>\n",
       "<table border=\"1\" class=\"dataframe\">\n",
       "  <thead>\n",
       "    <tr style=\"text-align: right;\">\n",
       "      <th></th>\n",
       "      <th>cus_id</th>\n",
       "      <th>gender</th>\n",
       "      <th>age</th>\n",
       "      <th>region</th>\n",
       "      <th>amount_20</th>\n",
       "      <th>amount_21</th>\n",
       "      <th>sales</th>\n",
       "    </tr>\n",
       "  </thead>\n",
       "  <tbody>\n",
       "    <tr>\n",
       "      <th>0</th>\n",
       "      <td>0</td>\n",
       "      <td>male</td>\n",
       "      <td>young_adult</td>\n",
       "      <td>cityA</td>\n",
       "      <td>805</td>\n",
       "      <td>0</td>\n",
       "      <td>0</td>\n",
       "    </tr>\n",
       "    <tr>\n",
       "      <th>1</th>\n",
       "      <td>1</td>\n",
       "      <td>male</td>\n",
       "      <td>adult</td>\n",
       "      <td>cityC</td>\n",
       "      <td>689</td>\n",
       "      <td>1075</td>\n",
       "      <td>1</td>\n",
       "    </tr>\n",
       "    <tr>\n",
       "      <th>2</th>\n",
       "      <td>2</td>\n",
       "      <td>female</td>\n",
       "      <td>teenager</td>\n",
       "      <td>cityC</td>\n",
       "      <td>226</td>\n",
       "      <td>216</td>\n",
       "      <td>0</td>\n",
       "    </tr>\n",
       "    <tr>\n",
       "      <th>3</th>\n",
       "      <td>3</td>\n",
       "      <td>male</td>\n",
       "      <td>senior</td>\n",
       "      <td>cityC</td>\n",
       "      <td>691</td>\n",
       "      <td>1010</td>\n",
       "      <td>1</td>\n",
       "    </tr>\n",
       "    <tr>\n",
       "      <th>4</th>\n",
       "      <td>4</td>\n",
       "      <td>male</td>\n",
       "      <td>senior</td>\n",
       "      <td>cityB</td>\n",
       "      <td>402</td>\n",
       "      <td>437</td>\n",
       "      <td>1</td>\n",
       "    </tr>\n",
       "  </tbody>\n",
       "</table>\n",
       "</div>"
      ],
      "text/plain": [
       "   cus_id  gender          age region  amount_20  amount_21  sales\n",
       "0       0    male  young_adult  cityA        805          0      0\n",
       "1       1    male        adult  cityC        689       1075      1\n",
       "2       2  female     teenager  cityC        226        216      0\n",
       "3       3    male       senior  cityC        691       1010      1\n",
       "4       4    male       senior  cityB        402        437      1"
      ]
     },
     "execution_count": 21,
     "metadata": {},
     "output_type": "execute_result"
    }
   ],
   "source": [
    "df_cus.head()"
   ]
  },
  {
   "cell_type": "markdown",
   "id": "0e53cf29",
   "metadata": {},
   "source": [
    "#### 요약데이터 분석"
   ]
  },
  {
   "cell_type": "code",
   "execution_count": 22,
   "id": "53a02600",
   "metadata": {
    "scrolled": true
   },
   "outputs": [
    {
     "data": {
      "text/html": [
       "<div>\n",
       "<style scoped>\n",
       "    .dataframe tbody tr th:only-of-type {\n",
       "        vertical-align: middle;\n",
       "    }\n",
       "\n",
       "    .dataframe tbody tr th {\n",
       "        vertical-align: top;\n",
       "    }\n",
       "\n",
       "    .dataframe thead th {\n",
       "        text-align: right;\n",
       "    }\n",
       "</style>\n",
       "<table border=\"1\" class=\"dataframe\">\n",
       "  <thead>\n",
       "    <tr style=\"text-align: right;\">\n",
       "      <th></th>\n",
       "      <th>cus_id</th>\n",
       "      <th>gender</th>\n",
       "      <th>age</th>\n",
       "      <th>region</th>\n",
       "      <th>amount_20</th>\n",
       "      <th>amount_21</th>\n",
       "      <th>sales</th>\n",
       "    </tr>\n",
       "  </thead>\n",
       "  <tbody>\n",
       "    <tr>\n",
       "      <th>0</th>\n",
       "      <td>0</td>\n",
       "      <td>male</td>\n",
       "      <td>senior</td>\n",
       "      <td>cityA</td>\n",
       "      <td>805</td>\n",
       "      <td>0</td>\n",
       "      <td>0</td>\n",
       "    </tr>\n",
       "    <tr>\n",
       "      <th>1</th>\n",
       "      <td>1</td>\n",
       "      <td>male</td>\n",
       "      <td>young_adult</td>\n",
       "      <td>cityC</td>\n",
       "      <td>689</td>\n",
       "      <td>1075</td>\n",
       "      <td>1</td>\n",
       "    </tr>\n",
       "    <tr>\n",
       "      <th>2</th>\n",
       "      <td>2</td>\n",
       "      <td>female</td>\n",
       "      <td>adult</td>\n",
       "      <td>cityC</td>\n",
       "      <td>226</td>\n",
       "      <td>216</td>\n",
       "      <td>0</td>\n",
       "    </tr>\n",
       "    <tr>\n",
       "      <th>3</th>\n",
       "      <td>3</td>\n",
       "      <td>male</td>\n",
       "      <td>young_adult</td>\n",
       "      <td>cityC</td>\n",
       "      <td>691</td>\n",
       "      <td>1010</td>\n",
       "      <td>1</td>\n",
       "    </tr>\n",
       "    <tr>\n",
       "      <th>4</th>\n",
       "      <td>4</td>\n",
       "      <td>male</td>\n",
       "      <td>adult</td>\n",
       "      <td>cityB</td>\n",
       "      <td>402</td>\n",
       "      <td>437</td>\n",
       "      <td>1</td>\n",
       "    </tr>\n",
       "  </tbody>\n",
       "</table>\n",
       "</div>"
      ],
      "text/plain": [
       "   cus_id  gender          age region  amount_20  amount_21  sales\n",
       "0       0    male       senior  cityA        805          0      0\n",
       "1       1    male  young_adult  cityC        689       1075      1\n",
       "2       2  female        adult  cityC        226        216      0\n",
       "3       3    male  young_adult  cityC        691       1010      1\n",
       "4       4    male        adult  cityB        402        437      1"
      ]
     },
     "execution_count": 22,
     "metadata": {},
     "output_type": "execute_result"
    }
   ],
   "source": [
    "df_sum = pd.read_pickle('./dataset/sales_by_costomer.pkl')\n",
    "df_sum.head()"
   ]
  },
  {
   "cell_type": "markdown",
   "id": "718e7c9d",
   "metadata": {},
   "source": [
    "- 성별 gender"
   ]
  },
  {
   "cell_type": "code",
   "execution_count": 23,
   "id": "19440f5c",
   "metadata": {},
   "outputs": [
    {
     "name": "stdout",
     "output_type": "stream",
     "text": [
      "0.47\n",
      "0.52\n"
     ]
    }
   ],
   "source": [
    "grouped_gender = df_sum.groupby(['gender'])\n",
    "print(round(grouped_gender.get_group('female').sales.mean(), 2))\n",
    "print(round(grouped_gender.get_group('male').sales.mean(), 2))"
   ]
  },
  {
   "cell_type": "code",
   "execution_count": 24,
   "id": "05bdb4df",
   "metadata": {},
   "outputs": [
    {
     "data": {
      "text/html": [
       "<div>\n",
       "<style scoped>\n",
       "    .dataframe tbody tr th:only-of-type {\n",
       "        vertical-align: middle;\n",
       "    }\n",
       "\n",
       "    .dataframe tbody tr th {\n",
       "        vertical-align: top;\n",
       "    }\n",
       "\n",
       "    .dataframe thead th {\n",
       "        text-align: right;\n",
       "    }\n",
       "</style>\n",
       "<table border=\"1\" class=\"dataframe\">\n",
       "  <thead>\n",
       "    <tr style=\"text-align: right;\">\n",
       "      <th></th>\n",
       "      <th>amount_20</th>\n",
       "      <th>amount_21</th>\n",
       "    </tr>\n",
       "    <tr>\n",
       "      <th>gender</th>\n",
       "      <th></th>\n",
       "      <th></th>\n",
       "    </tr>\n",
       "  </thead>\n",
       "  <tbody>\n",
       "    <tr>\n",
       "      <th>female</th>\n",
       "      <td>329911</td>\n",
       "      <td>310274</td>\n",
       "    </tr>\n",
       "    <tr>\n",
       "      <th>male</th>\n",
       "      <td>327448</td>\n",
       "      <td>333437</td>\n",
       "    </tr>\n",
       "  </tbody>\n",
       "</table>\n",
       "</div>"
      ],
      "text/plain": [
       "        amount_20  amount_21\n",
       "gender                      \n",
       "female     329911     310274\n",
       "male       327448     333437"
      ]
     },
     "execution_count": 24,
     "metadata": {},
     "output_type": "execute_result"
    }
   ],
   "source": [
    "agg_gender = grouped_gender.agg({'amount_20': 'sum', 'amount_21':'sum'})\n",
    "agg_gender"
   ]
  },
  {
   "cell_type": "code",
   "execution_count": 25,
   "id": "6503b2d6",
   "metadata": {},
   "outputs": [
    {
     "data": {
      "text/plain": [
       "<AxesSubplot:xlabel='gender'>"
      ]
     },
     "execution_count": 25,
     "metadata": {},
     "output_type": "execute_result"
    },
    {
     "data": {
      "image/png": "[encoded data removed]",
      "text/plain": [
       "<Figure size 432x288 with 1 Axes>"
      ]
     },
     "metadata": {
      "needs_background": "light"
     },
     "output_type": "display_data"
    }
   ],
   "source": [
    "agg_gender.plot(kind = 'bar')"
   ]
  },
  {
   "cell_type": "code",
   "execution_count": null,
   "id": "b2a9195a",
   "metadata": {},
   "outputs": [],
   "source": []
  },
  {
   "cell_type": "markdown",
   "id": "ca062a9d",
   "metadata": {},
   "source": [
    "- 나이 age"
   ]
  },
  {
   "cell_type": "code",
   "execution_count": 26,
   "id": "7ba90f96",
   "metadata": {},
   "outputs": [],
   "source": [
    "grouped_age = df_sum.groupby('age')"
   ]
  },
  {
   "cell_type": "code",
   "execution_count": 27,
   "id": "8bb5962a",
   "metadata": {},
   "outputs": [
    {
     "data": {
      "text/html": [
       "<div>\n",
       "<style scoped>\n",
       "    .dataframe tbody tr th:only-of-type {\n",
       "        vertical-align: middle;\n",
       "    }\n",
       "\n",
       "    .dataframe tbody tr th {\n",
       "        vertical-align: top;\n",
       "    }\n",
       "\n",
       "    .dataframe thead th {\n",
       "        text-align: right;\n",
       "    }\n",
       "</style>\n",
       "<table border=\"1\" class=\"dataframe\">\n",
       "  <thead>\n",
       "    <tr style=\"text-align: right;\">\n",
       "      <th></th>\n",
       "      <th>amount_20</th>\n",
       "      <th>amount_21</th>\n",
       "    </tr>\n",
       "    <tr>\n",
       "      <th>age</th>\n",
       "      <th></th>\n",
       "      <th></th>\n",
       "    </tr>\n",
       "  </thead>\n",
       "  <tbody>\n",
       "    <tr>\n",
       "      <th>teenager</th>\n",
       "      <td>42148</td>\n",
       "      <td>42891</td>\n",
       "    </tr>\n",
       "    <tr>\n",
       "      <th>young_adult</th>\n",
       "      <td>173547</td>\n",
       "      <td>172089</td>\n",
       "    </tr>\n",
       "    <tr>\n",
       "      <th>adult</th>\n",
       "      <td>190320</td>\n",
       "      <td>172909</td>\n",
       "    </tr>\n",
       "    <tr>\n",
       "      <th>senior</th>\n",
       "      <td>251344</td>\n",
       "      <td>255822</td>\n",
       "    </tr>\n",
       "  </tbody>\n",
       "</table>\n",
       "</div>"
      ],
      "text/plain": [
       "             amount_20  amount_21\n",
       "age                              \n",
       "teenager         42148      42891\n",
       "young_adult     173547     172089\n",
       "adult           190320     172909\n",
       "senior          251344     255822"
      ]
     },
     "execution_count": 27,
     "metadata": {},
     "output_type": "execute_result"
    }
   ],
   "source": [
    "age_agg = grouped_age.agg({'amount_20': 'sum', 'amount_21':'sum'})\n",
    "age_agg"
   ]
  },
  {
   "cell_type": "code",
   "execution_count": 28,
   "id": "5a2d2b25",
   "metadata": {},
   "outputs": [
    {
     "data": {
      "text/plain": [
       "<AxesSubplot:xlabel='age'>"
      ]
     },
     "execution_count": 28,
     "metadata": {},
     "output_type": "execute_result"
    },
    {
     "data": {
      "image/png": "[encoded data removed]",
      "text/plain": [
       "<Figure size 432x288 with 1 Axes>"
      ]
     },
     "metadata": {
      "needs_background": "light"
     },
     "output_type": "display_data"
    }
   ],
   "source": [
    "age_agg.plot(kind='bar')"
   ]
  },
  {
   "cell_type": "code",
   "execution_count": null,
   "id": "beb03836",
   "metadata": {},
   "outputs": [],
   "source": []
  },
  {
   "cell_type": "markdown",
   "id": "d159f619",
   "metadata": {},
   "source": [
    "- 지역 regioin"
   ]
  },
  {
   "cell_type": "code",
   "execution_count": 29,
   "id": "cfc48e67",
   "metadata": {},
   "outputs": [
    {
     "data": {
      "text/html": [
       "<div>\n",
       "<style scoped>\n",
       "    .dataframe tbody tr th:only-of-type {\n",
       "        vertical-align: middle;\n",
       "    }\n",
       "\n",
       "    .dataframe tbody tr th {\n",
       "        vertical-align: top;\n",
       "    }\n",
       "\n",
       "    .dataframe thead th {\n",
       "        text-align: right;\n",
       "    }\n",
       "</style>\n",
       "<table border=\"1\" class=\"dataframe\">\n",
       "  <thead>\n",
       "    <tr style=\"text-align: right;\">\n",
       "      <th></th>\n",
       "      <th>amount_20</th>\n",
       "      <th>amount_21</th>\n",
       "    </tr>\n",
       "    <tr>\n",
       "      <th>region</th>\n",
       "      <th></th>\n",
       "      <th></th>\n",
       "    </tr>\n",
       "  </thead>\n",
       "  <tbody>\n",
       "    <tr>\n",
       "      <th>cityA</th>\n",
       "      <td>206493</td>\n",
       "      <td>199928</td>\n",
       "    </tr>\n",
       "    <tr>\n",
       "      <th>cityB</th>\n",
       "      <td>234789</td>\n",
       "      <td>224300</td>\n",
       "    </tr>\n",
       "    <tr>\n",
       "      <th>cityC</th>\n",
       "      <td>216077</td>\n",
       "      <td>219483</td>\n",
       "    </tr>\n",
       "  </tbody>\n",
       "</table>\n",
       "</div>"
      ],
      "text/plain": [
       "        amount_20  amount_21\n",
       "region                      \n",
       "cityA      206493     199928\n",
       "cityB      234789     224300\n",
       "cityC      216077     219483"
      ]
     },
     "execution_count": 29,
     "metadata": {},
     "output_type": "execute_result"
    }
   ],
   "source": [
    "grouped_region = df_sum.groupby('region')\n",
    "region_agg = grouped_region.agg({'amount_20': 'sum', 'amount_21':'sum'})\n",
    "region_agg"
   ]
  },
  {
   "cell_type": "code",
   "execution_count": 30,
   "id": "287625c2",
   "metadata": {},
   "outputs": [
    {
     "data": {
      "text/plain": [
       "<AxesSubplot:xlabel='region'>"
      ]
     },
     "execution_count": 30,
     "metadata": {},
     "output_type": "execute_result"
    },
    {
     "data": {
      "image/png": "[encoded data removed]",
      "text/plain": [
       "<Figure size 432x288 with 1 Axes>"
      ]
     },
     "metadata": {
      "needs_background": "light"
     },
     "output_type": "display_data"
    }
   ],
   "source": [
    "region_agg.plot(kind='bar')"
   ]
  },
  {
   "cell_type": "markdown",
   "id": "065d0663",
   "metadata": {},
   "source": [
    "### 결정된 인사이트\n",
    "- female, young_adult, cityB 의 구매를 더 감소시킴\n",
    "- 실직/ 수입감소"
   ]
  },
  {
   "cell_type": "markdown",
   "id": "f61481e6",
   "metadata": {},
   "source": [
    "## 인사이트가 나오도록 데이터 조작\n",
    "    - 여기에서 어떤 데이터를 조작해서 인사이트를 도출할 수 있도록 만드나?\n",
    "        - 통합데이터를 조작\n"
   ]
  },
  {
   "cell_type": "code",
   "execution_count": 117,
   "id": "84d2056b",
   "metadata": {},
   "outputs": [
    {
     "data": {
      "text/html": [
       "<div>\n",
       "<style scoped>\n",
       "    .dataframe tbody tr th:only-of-type {\n",
       "        vertical-align: middle;\n",
       "    }\n",
       "\n",
       "    .dataframe tbody tr th {\n",
       "        vertical-align: top;\n",
       "    }\n",
       "\n",
       "    .dataframe thead th {\n",
       "        text-align: right;\n",
       "    }\n",
       "</style>\n",
       "<table border=\"1\" class=\"dataframe\">\n",
       "  <thead>\n",
       "    <tr style=\"text-align: right;\">\n",
       "      <th></th>\n",
       "      <th>orderno</th>\n",
       "      <th>date</th>\n",
       "      <th>day</th>\n",
       "      <th>time</th>\n",
       "      <th>cus_id</th>\n",
       "      <th>product</th>\n",
       "      <th>price</th>\n",
       "      <th>quantity</th>\n",
       "      <th>amount</th>\n",
       "      <th>gender</th>\n",
       "      <th>age</th>\n",
       "      <th>region</th>\n",
       "    </tr>\n",
       "  </thead>\n",
       "  <tbody>\n",
       "    <tr>\n",
       "      <th>0</th>\n",
       "      <td>0</td>\n",
       "      <td>2020-01-01</td>\n",
       "      <td>Wed</td>\n",
       "      <td>03:35:15</td>\n",
       "      <td>733</td>\n",
       "      <td>20</td>\n",
       "      <td>14440</td>\n",
       "      <td>56</td>\n",
       "      <td>808640</td>\n",
       "      <td>0</td>\n",
       "      <td>72</td>\n",
       "      <td>0</td>\n",
       "    </tr>\n",
       "    <tr>\n",
       "      <th>1</th>\n",
       "      <td>1</td>\n",
       "      <td>2020-01-01</td>\n",
       "      <td>Wed</td>\n",
       "      <td>06:46:52</td>\n",
       "      <td>692</td>\n",
       "      <td>10</td>\n",
       "      <td>40740</td>\n",
       "      <td>49</td>\n",
       "      <td>1996260</td>\n",
       "      <td>1</td>\n",
       "      <td>63</td>\n",
       "      <td>2</td>\n",
       "    </tr>\n",
       "    <tr>\n",
       "      <th>2</th>\n",
       "      <td>2</td>\n",
       "      <td>2020-01-01</td>\n",
       "      <td>Wed</td>\n",
       "      <td>07:54:42</td>\n",
       "      <td>764</td>\n",
       "      <td>30</td>\n",
       "      <td>5520</td>\n",
       "      <td>2</td>\n",
       "      <td>11040</td>\n",
       "      <td>0</td>\n",
       "      <td>76</td>\n",
       "      <td>1</td>\n",
       "    </tr>\n",
       "    <tr>\n",
       "      <th>3</th>\n",
       "      <td>3</td>\n",
       "      <td>2020-01-01</td>\n",
       "      <td>Wed</td>\n",
       "      <td>09:10:55</td>\n",
       "      <td>459</td>\n",
       "      <td>30</td>\n",
       "      <td>8630</td>\n",
       "      <td>4</td>\n",
       "      <td>34520</td>\n",
       "      <td>1</td>\n",
       "      <td>31</td>\n",
       "      <td>0</td>\n",
       "    </tr>\n",
       "    <tr>\n",
       "      <th>4</th>\n",
       "      <td>4</td>\n",
       "      <td>2020-01-01</td>\n",
       "      <td>Wed</td>\n",
       "      <td>13:30:43</td>\n",
       "      <td>760</td>\n",
       "      <td>20</td>\n",
       "      <td>19970</td>\n",
       "      <td>6</td>\n",
       "      <td>119820</td>\n",
       "      <td>0</td>\n",
       "      <td>89</td>\n",
       "      <td>0</td>\n",
       "    </tr>\n",
       "  </tbody>\n",
       "</table>\n",
       "</div>"
      ],
      "text/plain": [
       "   orderno       date  day      time  cus_id product  price  quantity  \\\n",
       "0        0 2020-01-01  Wed  03:35:15     733      20  14440        56   \n",
       "1        1 2020-01-01  Wed  06:46:52     692      10  40740        49   \n",
       "2        2 2020-01-01  Wed  07:54:42     764      30   5520         2   \n",
       "3        3 2020-01-01  Wed  09:10:55     459      30   8630         4   \n",
       "4        4 2020-01-01  Wed  13:30:43     760      20  19970         6   \n",
       "\n",
       "    amount  gender  age  region  \n",
       "0   808640       0   72       0  \n",
       "1  1996260       1   63       2  \n",
       "2    11040       0   76       1  \n",
       "3    34520       1   31       0  \n",
       "4   119820       0   89       0  "
      ]
     },
     "execution_count": 117,
     "metadata": {},
     "output_type": "execute_result"
    }
   ],
   "source": [
    "df_raw= pd.read_pickle('./dataset/integrated_purchase.pkl')\n",
    "df_raw.head()"
   ]
  },
  {
   "cell_type": "markdown",
   "id": "4c030c4f",
   "metadata": {},
   "source": [
    "- 감소 조건\n",
    "    - gender : 1\n",
    "    - region : 1\n",
    "    - age : 20~39"
   ]
  },
  {
   "cell_type": "code",
   "execution_count": 118,
   "id": "62035e6f",
   "metadata": {},
   "outputs": [
    {
     "data": {
      "text/html": [
       "<div>\n",
       "<style scoped>\n",
       "    .dataframe tbody tr th:only-of-type {\n",
       "        vertical-align: middle;\n",
       "    }\n",
       "\n",
       "    .dataframe tbody tr th {\n",
       "        vertical-align: top;\n",
       "    }\n",
       "\n",
       "    .dataframe thead th {\n",
       "        text-align: right;\n",
       "    }\n",
       "</style>\n",
       "<table border=\"1\" class=\"dataframe\">\n",
       "  <thead>\n",
       "    <tr style=\"text-align: right;\">\n",
       "      <th></th>\n",
       "      <th>orderno</th>\n",
       "      <th>date</th>\n",
       "      <th>day</th>\n",
       "      <th>time</th>\n",
       "      <th>cus_id</th>\n",
       "      <th>product</th>\n",
       "      <th>price</th>\n",
       "      <th>quantity</th>\n",
       "      <th>amount</th>\n",
       "      <th>gender</th>\n",
       "      <th>age</th>\n",
       "      <th>region</th>\n",
       "    </tr>\n",
       "  </thead>\n",
       "  <tbody>\n",
       "    <tr>\n",
       "      <th>1</th>\n",
       "      <td>1</td>\n",
       "      <td>2020-01-01</td>\n",
       "      <td>Wed</td>\n",
       "      <td>06:46:52</td>\n",
       "      <td>692</td>\n",
       "      <td>10</td>\n",
       "      <td>40740</td>\n",
       "      <td>49</td>\n",
       "      <td>1996260</td>\n",
       "      <td>1</td>\n",
       "      <td>63</td>\n",
       "      <td>2</td>\n",
       "    </tr>\n",
       "    <tr>\n",
       "      <th>2</th>\n",
       "      <td>2</td>\n",
       "      <td>2020-01-01</td>\n",
       "      <td>Wed</td>\n",
       "      <td>07:54:42</td>\n",
       "      <td>764</td>\n",
       "      <td>30</td>\n",
       "      <td>5520</td>\n",
       "      <td>2</td>\n",
       "      <td>11040</td>\n",
       "      <td>0</td>\n",
       "      <td>76</td>\n",
       "      <td>1</td>\n",
       "    </tr>\n",
       "    <tr>\n",
       "      <th>3</th>\n",
       "      <td>3</td>\n",
       "      <td>2020-01-01</td>\n",
       "      <td>Wed</td>\n",
       "      <td>09:10:55</td>\n",
       "      <td>459</td>\n",
       "      <td>30</td>\n",
       "      <td>8630</td>\n",
       "      <td>4</td>\n",
       "      <td>34520</td>\n",
       "      <td>1</td>\n",
       "      <td>31</td>\n",
       "      <td>0</td>\n",
       "    </tr>\n",
       "    <tr>\n",
       "      <th>5</th>\n",
       "      <td>5</td>\n",
       "      <td>2020-01-01</td>\n",
       "      <td>Wed</td>\n",
       "      <td>19:00:42</td>\n",
       "      <td>992</td>\n",
       "      <td>10</td>\n",
       "      <td>39220</td>\n",
       "      <td>86</td>\n",
       "      <td>3372920</td>\n",
       "      <td>1</td>\n",
       "      <td>55</td>\n",
       "      <td>0</td>\n",
       "    </tr>\n",
       "    <tr>\n",
       "      <th>6</th>\n",
       "      <td>6</td>\n",
       "      <td>2020-01-01</td>\n",
       "      <td>Wed</td>\n",
       "      <td>19:57:17</td>\n",
       "      <td>60</td>\n",
       "      <td>20</td>\n",
       "      <td>16410</td>\n",
       "      <td>84</td>\n",
       "      <td>1378440</td>\n",
       "      <td>1</td>\n",
       "      <td>77</td>\n",
       "      <td>2</td>\n",
       "    </tr>\n",
       "    <tr>\n",
       "      <th>...</th>\n",
       "      <td>...</td>\n",
       "      <td>...</td>\n",
       "      <td>...</td>\n",
       "      <td>...</td>\n",
       "      <td>...</td>\n",
       "      <td>...</td>\n",
       "      <td>...</td>\n",
       "      <td>...</td>\n",
       "      <td>...</td>\n",
       "      <td>...</td>\n",
       "      <td>...</td>\n",
       "      <td>...</td>\n",
       "    </tr>\n",
       "    <tr>\n",
       "      <th>9994</th>\n",
       "      <td>9994</td>\n",
       "      <td>2021-12-30</td>\n",
       "      <td>Thu</td>\n",
       "      <td>23:01:56</td>\n",
       "      <td>731</td>\n",
       "      <td>20</td>\n",
       "      <td>28750</td>\n",
       "      <td>18</td>\n",
       "      <td>517500</td>\n",
       "      <td>1</td>\n",
       "      <td>80</td>\n",
       "      <td>1</td>\n",
       "    </tr>\n",
       "    <tr>\n",
       "      <th>9995</th>\n",
       "      <td>9995</td>\n",
       "      <td>2021-12-31</td>\n",
       "      <td>Fri</td>\n",
       "      <td>04:16:40</td>\n",
       "      <td>89</td>\n",
       "      <td>20</td>\n",
       "      <td>28610</td>\n",
       "      <td>38</td>\n",
       "      <td>1087180</td>\n",
       "      <td>1</td>\n",
       "      <td>76</td>\n",
       "      <td>2</td>\n",
       "    </tr>\n",
       "    <tr>\n",
       "      <th>9996</th>\n",
       "      <td>9996</td>\n",
       "      <td>2021-12-31</td>\n",
       "      <td>Fri</td>\n",
       "      <td>11:57:21</td>\n",
       "      <td>837</td>\n",
       "      <td>30</td>\n",
       "      <td>9700</td>\n",
       "      <td>2</td>\n",
       "      <td>19400</td>\n",
       "      <td>1</td>\n",
       "      <td>38</td>\n",
       "      <td>1</td>\n",
       "    </tr>\n",
       "    <tr>\n",
       "      <th>9997</th>\n",
       "      <td>9997</td>\n",
       "      <td>2021-12-31</td>\n",
       "      <td>Fri</td>\n",
       "      <td>16:04:58</td>\n",
       "      <td>228</td>\n",
       "      <td>20</td>\n",
       "      <td>27980</td>\n",
       "      <td>89</td>\n",
       "      <td>2490220</td>\n",
       "      <td>1</td>\n",
       "      <td>64</td>\n",
       "      <td>2</td>\n",
       "    </tr>\n",
       "    <tr>\n",
       "      <th>9999</th>\n",
       "      <td>9999</td>\n",
       "      <td>2021-12-31</td>\n",
       "      <td>Fri</td>\n",
       "      <td>23:08:46</td>\n",
       "      <td>127</td>\n",
       "      <td>30</td>\n",
       "      <td>6760</td>\n",
       "      <td>41</td>\n",
       "      <td>277160</td>\n",
       "      <td>0</td>\n",
       "      <td>79</td>\n",
       "      <td>1</td>\n",
       "    </tr>\n",
       "  </tbody>\n",
       "</table>\n",
       "<p>7589 rows × 12 columns</p>\n",
       "</div>"
      ],
      "text/plain": [
       "      orderno       date  day      time  cus_id product  price  quantity  \\\n",
       "1           1 2020-01-01  Wed  06:46:52     692      10  40740        49   \n",
       "2           2 2020-01-01  Wed  07:54:42     764      30   5520         2   \n",
       "3           3 2020-01-01  Wed  09:10:55     459      30   8630         4   \n",
       "5           5 2020-01-01  Wed  19:00:42     992      10  39220        86   \n",
       "6           6 2020-01-01  Wed  19:57:17      60      20  16410        84   \n",
       "...       ...        ...  ...       ...     ...     ...    ...       ...   \n",
       "9994     9994 2021-12-30  Thu  23:01:56     731      20  28750        18   \n",
       "9995     9995 2021-12-31  Fri  04:16:40      89      20  28610        38   \n",
       "9996     9996 2021-12-31  Fri  11:57:21     837      30   9700         2   \n",
       "9997     9997 2021-12-31  Fri  16:04:58     228      20  27980        89   \n",
       "9999     9999 2021-12-31  Fri  23:08:46     127      30   6760        41   \n",
       "\n",
       "       amount  gender  age  region  \n",
       "1     1996260       1   63       2  \n",
       "2       11040       0   76       1  \n",
       "3       34520       1   31       0  \n",
       "5     3372920       1   55       0  \n",
       "6     1378440       1   77       2  \n",
       "...       ...     ...  ...     ...  \n",
       "9994   517500       1   80       1  \n",
       "9995  1087180       1   76       2  \n",
       "9996    19400       1   38       1  \n",
       "9997  2490220       1   64       2  \n",
       "9999   277160       0   79       1  \n",
       "\n",
       "[7589 rows x 12 columns]"
      ]
     },
     "execution_count": 118,
     "metadata": {},
     "output_type": "execute_result"
    }
   ],
   "source": [
    "idx_dec = ((df_raw.gender == 1) | (df_raw.region == 1) | ((df_raw.age >= 20) & (df_raw.age < 40)))\n",
    "df_raw[idx_dec]"
   ]
  },
  {
   "cell_type": "markdown",
   "id": "baadcd3c",
   "metadata": {},
   "source": [
    "#  감소시킬 raw를 boolean series 로 indexing"
   ]
  },
  {
   "cell_type": "code",
   "execution_count": 119,
   "id": "ea7fd795",
   "metadata": {},
   "outputs": [
    {
     "name": "stdout",
     "output_type": "stream",
     "text": [
      "0.707\n",
      "0.775\n",
      "0.729\n",
      "0.716\n",
      "0.725\n",
      "1.0\n",
      "0.757\n",
      "1.0\n",
      "1.0\n",
      "0.733\n"
     ]
    }
   ],
   "source": [
    "def decrease_by_for(by, for_): # for_ % 만큼의 값들에게 by %만큼감소 적용\n",
    "    if randint(100) > for_: \n",
    "        return 1.0\n",
    "    else:\n",
    "        mul = ((100-by)/100) + np.random.uniform(0.0, 0.1)\n",
    "        return round(mul, 3)\n",
    "for  i in range(10):\n",
    "    print(decrease_by_for(30, 70))"
   ]
  },
  {
   "cell_type": "code",
   "execution_count": 120,
   "id": "d2ec16e8",
   "metadata": {},
   "outputs": [],
   "source": [
    "idx_female = (df_raw.gender == 1) & (df_raw.date.dt.year == 2021)\n",
    "idx_cityB = (df_raw.region == 1 ) & (df_raw.date.dt.year == 2021)\n",
    "idx_yAdult = ((df_raw.age >=20)&(df_raw.age<40)) & (df_raw.date.dt.year == 2021)"
   ]
  },
  {
   "cell_type": "code",
   "execution_count": 121,
   "id": "06b1e915",
   "metadata": {},
   "outputs": [],
   "source": [
    "df_raw.price[idx_female] = (df_raw.price[idx_female]*decrease_by_for(40, 70)).round(-1)\n",
    "df_raw.price[idx_cityB] = (df_raw.price[idx_cityB]*decrease_by_for(40, 70)).round(-1)\n",
    "df_raw.price[idx_yAdult] = (df_raw.price[idx_yAdult]*decrease_by_for(40, 70)).round(-1)"
   ]
  },
  {
   "cell_type": "markdown",
   "id": "a1090d05",
   "metadata": {},
   "source": [
    "- product, amount도 price에 맞게 변경"
   ]
  },
  {
   "cell_type": "code",
   "execution_count": 122,
   "id": "1e316c52",
   "metadata": {},
   "outputs": [],
   "source": [
    "df_raw.product =pd.cut(x = df_raw.price, #데이터 배열\n",
    "                         bins=[0, 10000, 30000, 50000], # 경계값 리스트\n",
    "                         labels=[30, 20, 10], #bin 이름\n",
    "                         include_lowest=True) #첫 경계값 포함"
   ]
  },
  {
   "cell_type": "code",
   "execution_count": 123,
   "id": "4bbde6e2",
   "metadata": {},
   "outputs": [
    {
     "data": {
      "text/html": [
       "<div>\n",
       "<style scoped>\n",
       "    .dataframe tbody tr th:only-of-type {\n",
       "        vertical-align: middle;\n",
       "    }\n",
       "\n",
       "    .dataframe tbody tr th {\n",
       "        vertical-align: top;\n",
       "    }\n",
       "\n",
       "    .dataframe thead th {\n",
       "        text-align: right;\n",
       "    }\n",
       "</style>\n",
       "<table border=\"1\" class=\"dataframe\">\n",
       "  <thead>\n",
       "    <tr style=\"text-align: right;\">\n",
       "      <th></th>\n",
       "      <th>price</th>\n",
       "      <th>quantity</th>\n",
       "      <th>amount</th>\n",
       "    </tr>\n",
       "  </thead>\n",
       "  <tbody>\n",
       "    <tr>\n",
       "      <th>0</th>\n",
       "      <td>14440</td>\n",
       "      <td>56</td>\n",
       "      <td>808640</td>\n",
       "    </tr>\n",
       "    <tr>\n",
       "      <th>1</th>\n",
       "      <td>40740</td>\n",
       "      <td>49</td>\n",
       "      <td>1996260</td>\n",
       "    </tr>\n",
       "    <tr>\n",
       "      <th>2</th>\n",
       "      <td>5520</td>\n",
       "      <td>2</td>\n",
       "      <td>11040</td>\n",
       "    </tr>\n",
       "    <tr>\n",
       "      <th>3</th>\n",
       "      <td>8630</td>\n",
       "      <td>4</td>\n",
       "      <td>34520</td>\n",
       "    </tr>\n",
       "    <tr>\n",
       "      <th>4</th>\n",
       "      <td>19970</td>\n",
       "      <td>6</td>\n",
       "      <td>119820</td>\n",
       "    </tr>\n",
       "  </tbody>\n",
       "</table>\n",
       "</div>"
      ],
      "text/plain": [
       "   price  quantity   amount\n",
       "0  14440        56   808640\n",
       "1  40740        49  1996260\n",
       "2   5520         2    11040\n",
       "3   8630         4    34520\n",
       "4  19970         6   119820"
      ]
     },
     "execution_count": 123,
     "metadata": {},
     "output_type": "execute_result"
    }
   ],
   "source": [
    "df_raw.amount = df_raw.price*df_raw.quantity\n",
    "df_raw.loc[:,['price', 'quantity', 'amount']].head()"
   ]
  },
  {
   "cell_type": "code",
   "execution_count": 124,
   "id": "4b13037b",
   "metadata": {},
   "outputs": [
    {
     "data": {
      "text/html": [
       "<div>\n",
       "<style scoped>\n",
       "    .dataframe tbody tr th:only-of-type {\n",
       "        vertical-align: middle;\n",
       "    }\n",
       "\n",
       "    .dataframe tbody tr th {\n",
       "        vertical-align: top;\n",
       "    }\n",
       "\n",
       "    .dataframe thead th {\n",
       "        text-align: right;\n",
       "    }\n",
       "</style>\n",
       "<table border=\"1\" class=\"dataframe\">\n",
       "  <thead>\n",
       "    <tr style=\"text-align: right;\">\n",
       "      <th></th>\n",
       "      <th>orderno</th>\n",
       "      <th>date</th>\n",
       "      <th>day</th>\n",
       "      <th>time</th>\n",
       "      <th>cus_id</th>\n",
       "      <th>product</th>\n",
       "      <th>price</th>\n",
       "      <th>quantity</th>\n",
       "      <th>amount</th>\n",
       "      <th>gender</th>\n",
       "      <th>age</th>\n",
       "      <th>region</th>\n",
       "    </tr>\n",
       "  </thead>\n",
       "  <tbody>\n",
       "    <tr>\n",
       "      <th>0</th>\n",
       "      <td>0</td>\n",
       "      <td>2020-01-01</td>\n",
       "      <td>Wed</td>\n",
       "      <td>03:35:15</td>\n",
       "      <td>733</td>\n",
       "      <td>20</td>\n",
       "      <td>14440</td>\n",
       "      <td>56</td>\n",
       "      <td>808640</td>\n",
       "      <td>0</td>\n",
       "      <td>72</td>\n",
       "      <td>0</td>\n",
       "    </tr>\n",
       "    <tr>\n",
       "      <th>1</th>\n",
       "      <td>1</td>\n",
       "      <td>2020-01-01</td>\n",
       "      <td>Wed</td>\n",
       "      <td>06:46:52</td>\n",
       "      <td>692</td>\n",
       "      <td>10</td>\n",
       "      <td>40740</td>\n",
       "      <td>49</td>\n",
       "      <td>1996260</td>\n",
       "      <td>1</td>\n",
       "      <td>63</td>\n",
       "      <td>2</td>\n",
       "    </tr>\n",
       "    <tr>\n",
       "      <th>2</th>\n",
       "      <td>2</td>\n",
       "      <td>2020-01-01</td>\n",
       "      <td>Wed</td>\n",
       "      <td>07:54:42</td>\n",
       "      <td>764</td>\n",
       "      <td>30</td>\n",
       "      <td>5520</td>\n",
       "      <td>2</td>\n",
       "      <td>11040</td>\n",
       "      <td>0</td>\n",
       "      <td>76</td>\n",
       "      <td>1</td>\n",
       "    </tr>\n",
       "    <tr>\n",
       "      <th>3</th>\n",
       "      <td>3</td>\n",
       "      <td>2020-01-01</td>\n",
       "      <td>Wed</td>\n",
       "      <td>09:10:55</td>\n",
       "      <td>459</td>\n",
       "      <td>30</td>\n",
       "      <td>8630</td>\n",
       "      <td>4</td>\n",
       "      <td>34520</td>\n",
       "      <td>1</td>\n",
       "      <td>31</td>\n",
       "      <td>0</td>\n",
       "    </tr>\n",
       "    <tr>\n",
       "      <th>4</th>\n",
       "      <td>4</td>\n",
       "      <td>2020-01-01</td>\n",
       "      <td>Wed</td>\n",
       "      <td>13:30:43</td>\n",
       "      <td>760</td>\n",
       "      <td>20</td>\n",
       "      <td>19970</td>\n",
       "      <td>6</td>\n",
       "      <td>119820</td>\n",
       "      <td>0</td>\n",
       "      <td>89</td>\n",
       "      <td>0</td>\n",
       "    </tr>\n",
       "  </tbody>\n",
       "</table>\n",
       "</div>"
      ],
      "text/plain": [
       "   orderno       date  day      time  cus_id product  price  quantity  \\\n",
       "0        0 2020-01-01  Wed  03:35:15     733      20  14440        56   \n",
       "1        1 2020-01-01  Wed  06:46:52     692      10  40740        49   \n",
       "2        2 2020-01-01  Wed  07:54:42     764      30   5520         2   \n",
       "3        3 2020-01-01  Wed  09:10:55     459      30   8630         4   \n",
       "4        4 2020-01-01  Wed  13:30:43     760      20  19970         6   \n",
       "\n",
       "    amount  gender  age  region  \n",
       "0   808640       0   72       0  \n",
       "1  1996260       1   63       2  \n",
       "2    11040       0   76       1  \n",
       "3    34520       1   31       0  \n",
       "4   119820       0   89       0  "
      ]
     },
     "execution_count": 124,
     "metadata": {},
     "output_type": "execute_result"
    }
   ],
   "source": [
    "df_raw.head()"
   ]
  },
  {
   "cell_type": "markdown",
   "id": "b6519d4d",
   "metadata": {},
   "source": [
    "## 정한 인사이트가 반영 되었는지 확인"
   ]
  },
  {
   "cell_type": "markdown",
   "id": "ea6b0bc8",
   "metadata": {},
   "source": [
    "### 요약 데이터 생성"
   ]
  },
  {
   "cell_type": "code",
   "execution_count": 126,
   "id": "f70e0287",
   "metadata": {},
   "outputs": [
    {
     "data": {
      "text/html": [
       "<div>\n",
       "<style scoped>\n",
       "    .dataframe tbody tr th:only-of-type {\n",
       "        vertical-align: middle;\n",
       "    }\n",
       "\n",
       "    .dataframe tbody tr th {\n",
       "        vertical-align: top;\n",
       "    }\n",
       "\n",
       "    .dataframe thead th {\n",
       "        text-align: right;\n",
       "    }\n",
       "</style>\n",
       "<table border=\"1\" class=\"dataframe\">\n",
       "  <thead>\n",
       "    <tr style=\"text-align: right;\">\n",
       "      <th></th>\n",
       "      <th>cus_id</th>\n",
       "      <th>gender</th>\n",
       "      <th>age</th>\n",
       "      <th>region</th>\n",
       "    </tr>\n",
       "  </thead>\n",
       "  <tbody>\n",
       "    <tr>\n",
       "      <th>0</th>\n",
       "      <td>0</td>\n",
       "      <td>0</td>\n",
       "      <td>38</td>\n",
       "      <td>0</td>\n",
       "    </tr>\n",
       "    <tr>\n",
       "      <th>1</th>\n",
       "      <td>1</td>\n",
       "      <td>0</td>\n",
       "      <td>61</td>\n",
       "      <td>2</td>\n",
       "    </tr>\n",
       "    <tr>\n",
       "      <th>2</th>\n",
       "      <td>2</td>\n",
       "      <td>1</td>\n",
       "      <td>38</td>\n",
       "      <td>2</td>\n",
       "    </tr>\n",
       "    <tr>\n",
       "      <th>3</th>\n",
       "      <td>3</td>\n",
       "      <td>0</td>\n",
       "      <td>30</td>\n",
       "      <td>2</td>\n",
       "    </tr>\n",
       "    <tr>\n",
       "      <th>4</th>\n",
       "      <td>4</td>\n",
       "      <td>0</td>\n",
       "      <td>49</td>\n",
       "      <td>1</td>\n",
       "    </tr>\n",
       "  </tbody>\n",
       "</table>\n",
       "</div>"
      ],
      "text/plain": [
       "   cus_id  gender  age  region\n",
       "0       0       0   38       0\n",
       "1       1       0   61       2\n",
       "2       2       1   38       2\n",
       "3       3       0   30       2\n",
       "4       4       0   49       1"
      ]
     },
     "execution_count": 126,
     "metadata": {},
     "output_type": "execute_result"
    }
   ],
   "source": [
    "df_cus = pd.read_pickle(\"./dataset/customers.pkl\")\n",
    "df_cus.head()"
   ]
  },
  {
   "cell_type": "code",
   "execution_count": 127,
   "id": "98788c51",
   "metadata": {},
   "outputs": [
    {
     "data": {
      "text/html": [
       "<div>\n",
       "<style scoped>\n",
       "    .dataframe tbody tr th:only-of-type {\n",
       "        vertical-align: middle;\n",
       "    }\n",
       "\n",
       "    .dataframe tbody tr th {\n",
       "        vertical-align: top;\n",
       "    }\n",
       "\n",
       "    .dataframe thead th {\n",
       "        text-align: right;\n",
       "    }\n",
       "</style>\n",
       "<table border=\"1\" class=\"dataframe\">\n",
       "  <thead>\n",
       "    <tr style=\"text-align: right;\">\n",
       "      <th></th>\n",
       "      <th>orderno</th>\n",
       "      <th>date</th>\n",
       "      <th>day</th>\n",
       "      <th>time</th>\n",
       "      <th>cus_id</th>\n",
       "      <th>product</th>\n",
       "      <th>price</th>\n",
       "      <th>quantity</th>\n",
       "      <th>amount</th>\n",
       "      <th>gender</th>\n",
       "      <th>age</th>\n",
       "      <th>region</th>\n",
       "    </tr>\n",
       "  </thead>\n",
       "  <tbody>\n",
       "    <tr>\n",
       "      <th>0</th>\n",
       "      <td>0</td>\n",
       "      <td>2020-01-01</td>\n",
       "      <td>Wed</td>\n",
       "      <td>03:35:15</td>\n",
       "      <td>733</td>\n",
       "      <td>20</td>\n",
       "      <td>14440</td>\n",
       "      <td>56</td>\n",
       "      <td>808640</td>\n",
       "      <td>0</td>\n",
       "      <td>72</td>\n",
       "      <td>0</td>\n",
       "    </tr>\n",
       "    <tr>\n",
       "      <th>1</th>\n",
       "      <td>1</td>\n",
       "      <td>2020-01-01</td>\n",
       "      <td>Wed</td>\n",
       "      <td>06:46:52</td>\n",
       "      <td>692</td>\n",
       "      <td>10</td>\n",
       "      <td>40740</td>\n",
       "      <td>49</td>\n",
       "      <td>1996260</td>\n",
       "      <td>1</td>\n",
       "      <td>63</td>\n",
       "      <td>2</td>\n",
       "    </tr>\n",
       "    <tr>\n",
       "      <th>2</th>\n",
       "      <td>2</td>\n",
       "      <td>2020-01-01</td>\n",
       "      <td>Wed</td>\n",
       "      <td>07:54:42</td>\n",
       "      <td>764</td>\n",
       "      <td>30</td>\n",
       "      <td>5520</td>\n",
       "      <td>2</td>\n",
       "      <td>11040</td>\n",
       "      <td>0</td>\n",
       "      <td>76</td>\n",
       "      <td>1</td>\n",
       "    </tr>\n",
       "    <tr>\n",
       "      <th>3</th>\n",
       "      <td>3</td>\n",
       "      <td>2020-01-01</td>\n",
       "      <td>Wed</td>\n",
       "      <td>09:10:55</td>\n",
       "      <td>459</td>\n",
       "      <td>30</td>\n",
       "      <td>8630</td>\n",
       "      <td>4</td>\n",
       "      <td>34520</td>\n",
       "      <td>1</td>\n",
       "      <td>31</td>\n",
       "      <td>0</td>\n",
       "    </tr>\n",
       "    <tr>\n",
       "      <th>4</th>\n",
       "      <td>4</td>\n",
       "      <td>2020-01-01</td>\n",
       "      <td>Wed</td>\n",
       "      <td>13:30:43</td>\n",
       "      <td>760</td>\n",
       "      <td>20</td>\n",
       "      <td>19970</td>\n",
       "      <td>6</td>\n",
       "      <td>119820</td>\n",
       "      <td>0</td>\n",
       "      <td>89</td>\n",
       "      <td>0</td>\n",
       "    </tr>\n",
       "  </tbody>\n",
       "</table>\n",
       "</div>"
      ],
      "text/plain": [
       "   orderno       date  day      time  cus_id product  price  quantity  \\\n",
       "0        0 2020-01-01  Wed  03:35:15     733      20  14440        56   \n",
       "1        1 2020-01-01  Wed  06:46:52     692      10  40740        49   \n",
       "2        2 2020-01-01  Wed  07:54:42     764      30   5520         2   \n",
       "3        3 2020-01-01  Wed  09:10:55     459      30   8630         4   \n",
       "4        4 2020-01-01  Wed  13:30:43     760      20  19970         6   \n",
       "\n",
       "    amount  gender  age  region  \n",
       "0   808640       0   72       0  \n",
       "1  1996260       1   63       2  \n",
       "2    11040       0   76       1  \n",
       "3    34520       1   31       0  \n",
       "4   119820       0   89       0  "
      ]
     },
     "execution_count": 127,
     "metadata": {},
     "output_type": "execute_result"
    }
   ],
   "source": [
    "df_moddata = pd.read_pickle('./dataset/modified_raw_data.pkl')\n",
    "df_moddata.head()"
   ]
  },
  {
   "cell_type": "code",
   "execution_count": 128,
   "id": "576fc2a5",
   "metadata": {},
   "outputs": [],
   "source": [
    "cus_amount_20 = []\n",
    "cus_amount_21 = []\n",
    "for id_ in df_cus.cus_id:\n",
    "    amount_20 = df_moddata.amount[(df_moddata.cus_id == id_) & (df_moddata.date.dt.year == 2020)].sum()\n",
    "    amount_21 = df_moddata.amount[(df_moddata.cus_id == id_) & (df_moddata.date.dt.year == 2021)].sum()\n",
    "    cus_amount_20.append(amount_20)\n",
    "    cus_amount_21.append(amount_21)"
   ]
  },
  {
   "cell_type": "code",
   "execution_count": 129,
   "id": "0b6069ef",
   "metadata": {},
   "outputs": [],
   "source": [
    "df_cus['amount_20'] = cus_amount_20\n",
    "df_cus['amount_21'] = cus_amount_21\n",
    "df_cus['sales'] = np.where(df_cus.amount_20<df_cus.amount_21, 1, 0)"
   ]
  },
  {
   "cell_type": "code",
   "execution_count": 130,
   "id": "13ea5f38",
   "metadata": {},
   "outputs": [],
   "source": [
    "df_cus.gender.replace({0:'male', 1: 'female'}, inplace=True)\n",
    "df_cus.gender = df_cus.gender.astype('category')"
   ]
  },
  {
   "cell_type": "code",
   "execution_count": 138,
   "id": "2ce6e6c3",
   "metadata": {},
   "outputs": [],
   "source": [
    "df_cus['age_cat'] = pd.cut(x = df_cus.age, #데이터 배열\n",
    "                         bins=[17, 20, 40, 60, 89], # 경계값 리스트\n",
    "                         labels=['teenager', 'young_adult', 'adult', 'senior'], #bin 이름\n",
    "                         include_lowest=True) #첫 경계값 포함"
   ]
  },
  {
   "cell_type": "code",
   "execution_count": 132,
   "id": "4cee0bbc",
   "metadata": {},
   "outputs": [],
   "source": [
    "df_cus.region.replace({0:'cityA', 1: 'cityB', 2:'cityC'}, inplace=True)\n",
    "df_cus.region = df_cus.region.astype('category')"
   ]
  },
  {
   "cell_type": "code",
   "execution_count": 133,
   "id": "4f80e079",
   "metadata": {},
   "outputs": [],
   "source": [
    "df_cus.amount_20 = (df_cus.amount_20/10000).round().astype('int')\n",
    "df_cus.amount_21 = (df_cus.amount_21/10000).round().astype('int')"
   ]
  },
  {
   "cell_type": "code",
   "execution_count": 134,
   "id": "fd12c7e9",
   "metadata": {
    "scrolled": true
   },
   "outputs": [
    {
     "data": {
      "text/html": [
       "<div>\n",
       "<style scoped>\n",
       "    .dataframe tbody tr th:only-of-type {\n",
       "        vertical-align: middle;\n",
       "    }\n",
       "\n",
       "    .dataframe tbody tr th {\n",
       "        vertical-align: top;\n",
       "    }\n",
       "\n",
       "    .dataframe thead th {\n",
       "        text-align: right;\n",
       "    }\n",
       "</style>\n",
       "<table border=\"1\" class=\"dataframe\">\n",
       "  <thead>\n",
       "    <tr style=\"text-align: right;\">\n",
       "      <th></th>\n",
       "      <th>cus_id</th>\n",
       "      <th>gender</th>\n",
       "      <th>age</th>\n",
       "      <th>region</th>\n",
       "      <th>amount_20</th>\n",
       "      <th>amount_21</th>\n",
       "      <th>sales</th>\n",
       "      <th>age_cat</th>\n",
       "    </tr>\n",
       "  </thead>\n",
       "  <tbody>\n",
       "    <tr>\n",
       "      <th>0</th>\n",
       "      <td>0</td>\n",
       "      <td>male</td>\n",
       "      <td>38</td>\n",
       "      <td>cityA</td>\n",
       "      <td>805</td>\n",
       "      <td>0</td>\n",
       "      <td>0</td>\n",
       "      <td>young_adult</td>\n",
       "    </tr>\n",
       "    <tr>\n",
       "      <th>1</th>\n",
       "      <td>1</td>\n",
       "      <td>male</td>\n",
       "      <td>61</td>\n",
       "      <td>cityC</td>\n",
       "      <td>689</td>\n",
       "      <td>1075</td>\n",
       "      <td>1</td>\n",
       "      <td>adult</td>\n",
       "    </tr>\n",
       "    <tr>\n",
       "      <th>2</th>\n",
       "      <td>2</td>\n",
       "      <td>female</td>\n",
       "      <td>38</td>\n",
       "      <td>cityC</td>\n",
       "      <td>226</td>\n",
       "      <td>147</td>\n",
       "      <td>0</td>\n",
       "      <td>teenager</td>\n",
       "    </tr>\n",
       "    <tr>\n",
       "      <th>3</th>\n",
       "      <td>3</td>\n",
       "      <td>male</td>\n",
       "      <td>30</td>\n",
       "      <td>cityC</td>\n",
       "      <td>691</td>\n",
       "      <td>687</td>\n",
       "      <td>0</td>\n",
       "      <td>senior</td>\n",
       "    </tr>\n",
       "    <tr>\n",
       "      <th>4</th>\n",
       "      <td>4</td>\n",
       "      <td>male</td>\n",
       "      <td>49</td>\n",
       "      <td>cityB</td>\n",
       "      <td>402</td>\n",
       "      <td>297</td>\n",
       "      <td>0</td>\n",
       "      <td>senior</td>\n",
       "    </tr>\n",
       "  </tbody>\n",
       "</table>\n",
       "</div>"
      ],
      "text/plain": [
       "   cus_id  gender  age region  amount_20  amount_21  sales      age_cat\n",
       "0       0    male   38  cityA        805          0      0  young_adult\n",
       "1       1    male   61  cityC        689       1075      1        adult\n",
       "2       2  female   38  cityC        226        147      0     teenager\n",
       "3       3    male   30  cityC        691        687      0       senior\n",
       "4       4    male   49  cityB        402        297      0       senior"
      ]
     },
     "execution_count": 134,
     "metadata": {},
     "output_type": "execute_result"
    }
   ],
   "source": [
    "df_cus.head()"
   ]
  },
  {
   "cell_type": "code",
   "execution_count": 139,
   "id": "f4bfad9a",
   "metadata": {},
   "outputs": [
    {
     "data": {
      "text/plain": [
       "count    292.000000\n",
       "mean      30.986301\n",
       "std        5.735267\n",
       "min       21.000000\n",
       "25%       26.000000\n",
       "50%       31.000000\n",
       "75%       36.000000\n",
       "max       40.000000\n",
       "Name: age, dtype: float64"
      ]
     },
     "execution_count": 139,
     "metadata": {},
     "output_type": "execute_result"
    }
   ],
   "source": [
    "df_cus.age[df_cus.age_cat == 'young_adult'].describe()"
   ]
  },
  {
   "cell_type": "code",
   "execution_count": null,
   "id": "e1b411e2",
   "metadata": {},
   "outputs": [],
   "source": []
  },
  {
   "cell_type": "code",
   "execution_count": null,
   "id": "20e3d235",
   "metadata": {},
   "outputs": [],
   "source": []
  },
  {
   "cell_type": "markdown",
   "id": "0e4a61da",
   "metadata": {},
   "source": [
    "### 요약 데이터 분석"
   ]
  },
  {
   "cell_type": "code",
   "execution_count": 160,
   "id": "4c17bcf0",
   "metadata": {
    "scrolled": true
   },
   "outputs": [
    {
     "data": {
      "text/html": [
       "<div>\n",
       "<style scoped>\n",
       "    .dataframe tbody tr th:only-of-type {\n",
       "        vertical-align: middle;\n",
       "    }\n",
       "\n",
       "    .dataframe tbody tr th {\n",
       "        vertical-align: top;\n",
       "    }\n",
       "\n",
       "    .dataframe thead th {\n",
       "        text-align: right;\n",
       "    }\n",
       "</style>\n",
       "<table border=\"1\" class=\"dataframe\">\n",
       "  <thead>\n",
       "    <tr style=\"text-align: right;\">\n",
       "      <th></th>\n",
       "      <th>cus_id</th>\n",
       "      <th>gender</th>\n",
       "      <th>age</th>\n",
       "      <th>region</th>\n",
       "      <th>amount_20</th>\n",
       "      <th>amount_21</th>\n",
       "      <th>sales</th>\n",
       "      <th>age_cat</th>\n",
       "    </tr>\n",
       "  </thead>\n",
       "  <tbody>\n",
       "    <tr>\n",
       "      <th>0</th>\n",
       "      <td>0</td>\n",
       "      <td>male</td>\n",
       "      <td>38</td>\n",
       "      <td>cityA</td>\n",
       "      <td>805</td>\n",
       "      <td>0</td>\n",
       "      <td>0</td>\n",
       "      <td>young_adult</td>\n",
       "    </tr>\n",
       "    <tr>\n",
       "      <th>1</th>\n",
       "      <td>1</td>\n",
       "      <td>male</td>\n",
       "      <td>61</td>\n",
       "      <td>cityC</td>\n",
       "      <td>689</td>\n",
       "      <td>1075</td>\n",
       "      <td>1</td>\n",
       "      <td>senior</td>\n",
       "    </tr>\n",
       "    <tr>\n",
       "      <th>2</th>\n",
       "      <td>2</td>\n",
       "      <td>female</td>\n",
       "      <td>38</td>\n",
       "      <td>cityC</td>\n",
       "      <td>226</td>\n",
       "      <td>147</td>\n",
       "      <td>0</td>\n",
       "      <td>young_adult</td>\n",
       "    </tr>\n",
       "    <tr>\n",
       "      <th>3</th>\n",
       "      <td>3</td>\n",
       "      <td>male</td>\n",
       "      <td>30</td>\n",
       "      <td>cityC</td>\n",
       "      <td>691</td>\n",
       "      <td>687</td>\n",
       "      <td>0</td>\n",
       "      <td>young_adult</td>\n",
       "    </tr>\n",
       "    <tr>\n",
       "      <th>4</th>\n",
       "      <td>4</td>\n",
       "      <td>male</td>\n",
       "      <td>49</td>\n",
       "      <td>cityB</td>\n",
       "      <td>402</td>\n",
       "      <td>297</td>\n",
       "      <td>0</td>\n",
       "      <td>adult</td>\n",
       "    </tr>\n",
       "  </tbody>\n",
       "</table>\n",
       "</div>"
      ],
      "text/plain": [
       "   cus_id  gender  age region  amount_20  amount_21  sales      age_cat\n",
       "0       0    male   38  cityA        805          0      0  young_adult\n",
       "1       1    male   61  cityC        689       1075      1       senior\n",
       "2       2  female   38  cityC        226        147      0  young_adult\n",
       "3       3    male   30  cityC        691        687      0  young_adult\n",
       "4       4    male   49  cityB        402        297      0        adult"
      ]
     },
     "execution_count": 160,
     "metadata": {},
     "output_type": "execute_result"
    }
   ],
   "source": [
    "df_sum = pd.read_pickle('./dataset/mod_sales_by_custom.pkl')\n",
    "df_sum.head()"
   ]
  },
  {
   "cell_type": "markdown",
   "id": "4012e1b6",
   "metadata": {},
   "source": [
    "- 성별 gender"
   ]
  },
  {
   "cell_type": "code",
   "execution_count": 161,
   "id": "65112b4f",
   "metadata": {},
   "outputs": [
    {
     "name": "stdout",
     "output_type": "stream",
     "text": [
      "0.38\n",
      "0.42\n"
     ]
    }
   ],
   "source": [
    "grouped_gender = df_sum.groupby(['gender'])\n",
    "print(round(grouped_gender.get_group('female').sales.mean(), 2))\n",
    "print(round(grouped_gender.get_group('male').sales.mean(), 2))"
   ]
  },
  {
   "cell_type": "code",
   "execution_count": 162,
   "id": "389dc999",
   "metadata": {},
   "outputs": [
    {
     "data": {
      "text/html": [
       "<div>\n",
       "<style scoped>\n",
       "    .dataframe tbody tr th:only-of-type {\n",
       "        vertical-align: middle;\n",
       "    }\n",
       "\n",
       "    .dataframe tbody tr th {\n",
       "        vertical-align: top;\n",
       "    }\n",
       "\n",
       "    .dataframe thead th {\n",
       "        text-align: right;\n",
       "    }\n",
       "</style>\n",
       "<table border=\"1\" class=\"dataframe\">\n",
       "  <thead>\n",
       "    <tr style=\"text-align: right;\">\n",
       "      <th></th>\n",
       "      <th>amount_20</th>\n",
       "      <th>amount_21</th>\n",
       "    </tr>\n",
       "    <tr>\n",
       "      <th>gender</th>\n",
       "      <th></th>\n",
       "      <th></th>\n",
       "    </tr>\n",
       "  </thead>\n",
       "  <tbody>\n",
       "    <tr>\n",
       "      <th>female</th>\n",
       "      <td>329911</td>\n",
       "      <td>245549</td>\n",
       "    </tr>\n",
       "    <tr>\n",
       "      <th>male</th>\n",
       "      <td>327448</td>\n",
       "      <td>271983</td>\n",
       "    </tr>\n",
       "  </tbody>\n",
       "</table>\n",
       "</div>"
      ],
      "text/plain": [
       "        amount_20  amount_21\n",
       "gender                      \n",
       "female     329911     245549\n",
       "male       327448     271983"
      ]
     },
     "execution_count": 162,
     "metadata": {},
     "output_type": "execute_result"
    }
   ],
   "source": [
    "agg_gender = grouped_gender.agg({'amount_20': 'sum', 'amount_21':'sum'})\n",
    "agg_gender"
   ]
  },
  {
   "cell_type": "code",
   "execution_count": 163,
   "id": "89466843",
   "metadata": {},
   "outputs": [
    {
     "data": {
      "text/plain": [
       "<AxesSubplot:xlabel='gender'>"
      ]
     },
     "execution_count": 163,
     "metadata": {},
     "output_type": "execute_result"
    },
    {
     "data": {
      "image/png": "[encoded data removed]",
      "text/plain": [
       "<Figure size 432x288 with 1 Axes>"
      ]
     },
     "metadata": {
      "needs_background": "light"
     },
     "output_type": "display_data"
    }
   ],
   "source": [
    "agg_gender.plot(kind = 'bar')"
   ]
  },
  {
   "cell_type": "markdown",
   "id": "6ed2f58a",
   "metadata": {},
   "source": [
    "- 나이 age"
   ]
  },
  {
   "cell_type": "code",
   "execution_count": 170,
   "id": "29978cdc",
   "metadata": {},
   "outputs": [],
   "source": [
    "grouped_agecat = df_sum.groupby('age_cat')"
   ]
  },
  {
   "cell_type": "code",
   "execution_count": 171,
   "id": "cfce2a9f",
   "metadata": {},
   "outputs": [
    {
     "data": {
      "text/html": [
       "<div>\n",
       "<style scoped>\n",
       "    .dataframe tbody tr th:only-of-type {\n",
       "        vertical-align: middle;\n",
       "    }\n",
       "\n",
       "    .dataframe tbody tr th {\n",
       "        vertical-align: top;\n",
       "    }\n",
       "\n",
       "    .dataframe thead th {\n",
       "        text-align: right;\n",
       "    }\n",
       "</style>\n",
       "<table border=\"1\" class=\"dataframe\">\n",
       "  <thead>\n",
       "    <tr style=\"text-align: right;\">\n",
       "      <th></th>\n",
       "      <th>amount_20</th>\n",
       "      <th>amount_21</th>\n",
       "    </tr>\n",
       "    <tr>\n",
       "      <th>age_cat</th>\n",
       "      <th></th>\n",
       "      <th></th>\n",
       "    </tr>\n",
       "  </thead>\n",
       "  <tbody>\n",
       "    <tr>\n",
       "      <th>teenager</th>\n",
       "      <td>39168</td>\n",
       "      <td>33058</td>\n",
       "    </tr>\n",
       "    <tr>\n",
       "      <th>young_adult</th>\n",
       "      <td>201558</td>\n",
       "      <td>115141</td>\n",
       "    </tr>\n",
       "    <tr>\n",
       "      <th>adult</th>\n",
       "      <td>162520</td>\n",
       "      <td>135948</td>\n",
       "    </tr>\n",
       "    <tr>\n",
       "      <th>senior</th>\n",
       "      <td>254113</td>\n",
       "      <td>233385</td>\n",
       "    </tr>\n",
       "  </tbody>\n",
       "</table>\n",
       "</div>"
      ],
      "text/plain": [
       "             amount_20  amount_21\n",
       "age_cat                          \n",
       "teenager         39168      33058\n",
       "young_adult     201558     115141\n",
       "adult           162520     135948\n",
       "senior          254113     233385"
      ]
     },
     "execution_count": 171,
     "metadata": {},
     "output_type": "execute_result"
    }
   ],
   "source": [
    "agecat_agg = grouped_agecat.agg({'amount_20': 'sum', 'amount_21':'sum'})\n",
    "agecat_agg"
   ]
  },
  {
   "cell_type": "code",
   "execution_count": 172,
   "id": "13acf31f",
   "metadata": {},
   "outputs": [
    {
     "data": {
      "text/plain": [
       "<AxesSubplot:xlabel='age_cat'>"
      ]
     },
     "execution_count": 172,
     "metadata": {},
     "output_type": "execute_result"
    },
    {
     "data": {
      "image/png": "[encoded data removed]",
      "text/plain": [
       "<Figure size 432x288 with 1 Axes>"
      ]
     },
     "metadata": {
      "needs_background": "light"
     },
     "output_type": "display_data"
    }
   ],
   "source": [
    "agecat_agg.plot(kind='bar')"
   ]
  },
  {
   "cell_type": "markdown",
   "id": "75dd733b",
   "metadata": {},
   "source": [
    "- 지역 regioin"
   ]
  },
  {
   "cell_type": "code",
   "execution_count": 173,
   "id": "ceea5c7d",
   "metadata": {},
   "outputs": [
    {
     "data": {
      "text/html": [
       "<div>\n",
       "<style scoped>\n",
       "    .dataframe tbody tr th:only-of-type {\n",
       "        vertical-align: middle;\n",
       "    }\n",
       "\n",
       "    .dataframe tbody tr th {\n",
       "        vertical-align: top;\n",
       "    }\n",
       "\n",
       "    .dataframe thead th {\n",
       "        text-align: right;\n",
       "    }\n",
       "</style>\n",
       "<table border=\"1\" class=\"dataframe\">\n",
       "  <thead>\n",
       "    <tr style=\"text-align: right;\">\n",
       "      <th></th>\n",
       "      <th>amount_20</th>\n",
       "      <th>amount_21</th>\n",
       "    </tr>\n",
       "    <tr>\n",
       "      <th>region</th>\n",
       "      <th></th>\n",
       "      <th></th>\n",
       "    </tr>\n",
       "  </thead>\n",
       "  <tbody>\n",
       "    <tr>\n",
       "      <th>cityA</th>\n",
       "      <td>206493</td>\n",
       "      <td>179588</td>\n",
       "    </tr>\n",
       "    <tr>\n",
       "      <th>cityB</th>\n",
       "      <td>234789</td>\n",
       "      <td>139198</td>\n",
       "    </tr>\n",
       "    <tr>\n",
       "      <th>cityC</th>\n",
       "      <td>216077</td>\n",
       "      <td>198746</td>\n",
       "    </tr>\n",
       "  </tbody>\n",
       "</table>\n",
       "</div>"
      ],
      "text/plain": [
       "        amount_20  amount_21\n",
       "region                      \n",
       "cityA      206493     179588\n",
       "cityB      234789     139198\n",
       "cityC      216077     198746"
      ]
     },
     "execution_count": 173,
     "metadata": {},
     "output_type": "execute_result"
    }
   ],
   "source": [
    "grouped_region = df_sum.groupby('region')\n",
    "region_agg = grouped_region.agg({'amount_20': 'sum', 'amount_21':'sum'})\n",
    "region_agg"
   ]
  },
  {
   "cell_type": "code",
   "execution_count": 174,
   "id": "ae96b578",
   "metadata": {
    "scrolled": true
   },
   "outputs": [
    {
     "data": {
      "text/plain": [
       "<AxesSubplot:xlabel='region'>"
      ]
     },
     "execution_count": 174,
     "metadata": {},
     "output_type": "execute_result"
    },
    {
     "data": {
      "image/png": "[encoded data removed]",
      "text/plain": [
       "<Figure size 432x288 with 1 Axes>"
      ]
     },
     "metadata": {
      "needs_background": "light"
     },
     "output_type": "display_data"
    }
   ],
   "source": [
    "region_agg.plot(kind='bar')"
   ]
  },
  {
   "cell_type": "markdown",
   "id": "96c0a01b",
   "metadata": {},
   "source": [
    "- 의도대로 cityB가 감소하였다."
   ]
  },
  {
   "cell_type": "markdown",
   "id": "5814cf36",
   "metadata": {},
   "source": [
    "# 0714"
   ]
  },
  {
   "cell_type": "markdown",
   "id": "fa23fda6",
   "metadata": {},
   "source": [
    "- 뭔 비지니스 하는지 정하기\n",
    "- 비지니스에 맞게 고객층도 정하기\n",
    "- 80%학습 20% 평가\n",
    "- 발표는 월요일 오후, 모두 발표"
   ]
  },
  {
   "cell_type": "code",
   "execution_count": null,
   "id": "8119c128",
   "metadata": {},
   "outputs": [],
   "source": []
  },
  {
   "cell_type": "code",
   "execution_count": null,
   "id": "f8b02514",
   "metadata": {},
   "outputs": [],
   "source": []
  }
 ],
 "metadata": {
  "kernelspec": {
   "display_name": "Python 3 (ipykernel)",
   "language": "python",
   "name": "python3"
  },
  "language_info": {
   "codemirror_mode": {
    "name": "ipython",
    "version": 3
   },
   "file_extension": ".py",
   "mimetype": "text/x-python",
   "name": "python",
   "nbconvert_exporter": "python",
   "pygments_lexer": "ipython3",
   "version": "3.10.4"
  },
  "toc": {
   "base_numbering": 1,
   "nav_menu": {},
   "number_sections": true,
   "sideBar": true,
   "skip_h1_title": false,
   "title_cell": "Table of Contents",
   "title_sidebar": "Contents",
   "toc_cell": false,
   "toc_position": {
    "height": "calc(100% - 180px)",
    "left": "10px",
    "top": "150px",
    "width": "314.188px"
   },
   "toc_section_display": true,
   "toc_window_display": false
  }
 },
 "nbformat": 4,
 "nbformat_minor": 5
}
