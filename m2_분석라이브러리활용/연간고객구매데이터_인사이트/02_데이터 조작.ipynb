{
 "cells": [
  {
   "cell_type": "code",
   "execution_count": 1,
   "id": "cd8a0f1e",
   "metadata": {},
   "outputs": [],
   "source": [
    "import warnings\n",
    "warnings.filterwarnings('ignore')"
   ]
  },
  {
   "cell_type": "code",
   "execution_count": 2,
   "id": "41b3ddc3",
   "metadata": {},
   "outputs": [],
   "source": [
    "import pandas as pd\n",
    "import numpy as np\n",
    "import matplotlib.pyplot as plt\n",
    "import random\n",
    "import math"
   ]
  },
  {
   "cell_type": "markdown",
   "id": "4485f481",
   "metadata": {},
   "source": [
    "# raw 데이터 조작"
   ]
  },
  {
   "cell_type": "code",
   "execution_count": 3,
   "id": "0ebeab85",
   "metadata": {
    "scrolled": false
   },
   "outputs": [
    {
     "name": "stdout",
     "output_type": "stream",
     "text": [
      "<class 'pandas.core.frame.DataFrame'>\n",
      "Int64Index: 10000 entries, 0 to 9999\n",
      "Data columns (total 10 columns):\n",
      " #   Column    Non-Null Count  Dtype         \n",
      "---  ------    --------------  -----         \n",
      " 0   date      10000 non-null  datetime64[ns]\n",
      " 1   time      10000 non-null  object        \n",
      " 2   cusno     10000 non-null  int32         \n",
      " 3   gender    10000 non-null  object        \n",
      " 4   age       10000 non-null  object        \n",
      " 5   region    10000 non-null  object        \n",
      " 6   product_  10000 non-null  int64         \n",
      " 7   price     10000 non-null  int32         \n",
      " 8   quantity  10000 non-null  int32         \n",
      " 9   amount    10000 non-null  int32         \n",
      "dtypes: datetime64[ns](1), int32(4), int64(1), object(4)\n",
      "memory usage: 703.1+ KB\n"
     ]
    },
    {
     "data": {
      "text/html": [
       "<div>\n",
       "<style scoped>\n",
       "    .dataframe tbody tr th:only-of-type {\n",
       "        vertical-align: middle;\n",
       "    }\n",
       "\n",
       "    .dataframe tbody tr th {\n",
       "        vertical-align: top;\n",
       "    }\n",
       "\n",
       "    .dataframe thead th {\n",
       "        text-align: right;\n",
       "    }\n",
       "</style>\n",
       "<table border=\"1\" class=\"dataframe\">\n",
       "  <thead>\n",
       "    <tr style=\"text-align: right;\">\n",
       "      <th></th>\n",
       "      <th>date</th>\n",
       "      <th>time</th>\n",
       "      <th>cusno</th>\n",
       "      <th>gender</th>\n",
       "      <th>age</th>\n",
       "      <th>region</th>\n",
       "      <th>product_</th>\n",
       "      <th>price</th>\n",
       "      <th>quantity</th>\n",
       "      <th>amount</th>\n",
       "    </tr>\n",
       "    <tr>\n",
       "      <th>orderno</th>\n",
       "      <th></th>\n",
       "      <th></th>\n",
       "      <th></th>\n",
       "      <th></th>\n",
       "      <th></th>\n",
       "      <th></th>\n",
       "      <th></th>\n",
       "      <th></th>\n",
       "      <th></th>\n",
       "      <th></th>\n",
       "    </tr>\n",
       "  </thead>\n",
       "  <tbody>\n",
       "    <tr>\n",
       "      <th>0</th>\n",
       "      <td>2020-01-01</td>\n",
       "      <td>01:21:44</td>\n",
       "      <td>555</td>\n",
       "      <td>1</td>\n",
       "      <td>40</td>\n",
       "      <td>1</td>\n",
       "      <td>20</td>\n",
       "      <td>200</td>\n",
       "      <td>15</td>\n",
       "      <td>3000</td>\n",
       "    </tr>\n",
       "    <tr>\n",
       "      <th>1</th>\n",
       "      <td>2020-01-01</td>\n",
       "      <td>01:31:06</td>\n",
       "      <td>505</td>\n",
       "      <td>1</td>\n",
       "      <td>40</td>\n",
       "      <td>0</td>\n",
       "      <td>20</td>\n",
       "      <td>119</td>\n",
       "      <td>10</td>\n",
       "      <td>1190</td>\n",
       "    </tr>\n",
       "    <tr>\n",
       "      <th>2</th>\n",
       "      <td>2020-01-01</td>\n",
       "      <td>01:56:52</td>\n",
       "      <td>736</td>\n",
       "      <td>1</td>\n",
       "      <td>40</td>\n",
       "      <td>2</td>\n",
       "      <td>20</td>\n",
       "      <td>177</td>\n",
       "      <td>9</td>\n",
       "      <td>1593</td>\n",
       "    </tr>\n",
       "    <tr>\n",
       "      <th>3</th>\n",
       "      <td>2020-01-01</td>\n",
       "      <td>06:04:44</td>\n",
       "      <td>445</td>\n",
       "      <td>1</td>\n",
       "      <td>50</td>\n",
       "      <td>1</td>\n",
       "      <td>10</td>\n",
       "      <td>243</td>\n",
       "      <td>5</td>\n",
       "      <td>1215</td>\n",
       "    </tr>\n",
       "    <tr>\n",
       "      <th>4</th>\n",
       "      <td>2020-01-01</td>\n",
       "      <td>06:20:57</td>\n",
       "      <td>72</td>\n",
       "      <td>0</td>\n",
       "      <td>30</td>\n",
       "      <td>0</td>\n",
       "      <td>10</td>\n",
       "      <td>201</td>\n",
       "      <td>1</td>\n",
       "      <td>201</td>\n",
       "    </tr>\n",
       "  </tbody>\n",
       "</table>\n",
       "</div>"
      ],
      "text/plain": [
       "              date      time  cusno gender age region  product_  price  \\\n",
       "orderno                                                                  \n",
       "0       2020-01-01  01:21:44    555      1  40      1        20    200   \n",
       "1       2020-01-01  01:31:06    505      1  40      0        20    119   \n",
       "2       2020-01-01  01:56:52    736      1  40      2        20    177   \n",
       "3       2020-01-01  06:04:44    445      1  50      1        10    243   \n",
       "4       2020-01-01  06:20:57     72      0  30      0        10    201   \n",
       "\n",
       "         quantity  amount  \n",
       "orderno                    \n",
       "0              15    3000  \n",
       "1              10    1190  \n",
       "2               9    1593  \n",
       "3               5    1215  \n",
       "4               1     201  "
      ]
     },
     "execution_count": 3,
     "metadata": {},
     "output_type": "execute_result"
    }
   ],
   "source": [
    "df = pd.read_pickle('./dataset/data1.pkl')\n",
    "df.info()\n",
    "df.head()"
   ]
  },
  {
   "cell_type": "markdown",
   "id": "89cd34ff",
   "metadata": {},
   "source": [
    "## 반영할 인사이트"
   ]
  },
  {
   "cell_type": "markdown",
   "id": "2e00ea3a",
   "metadata": {},
   "source": [
    "### 사용자 정의 함수"
   ]
  },
  {
   "cell_type": "code",
   "execution_count": 4,
   "id": "7a454d23",
   "metadata": {},
   "outputs": [],
   "source": [
    "def decrease_by_for(by, for_): # for_ % 만큼의 값들에게 by %만큼감소 적용\n",
    "    if np.random.randint(100) < for_: \n",
    "        return 1.0\n",
    "    else:\n",
    "        mul = ((100-by)/100) + np.random.uniform(0.0, 0.1)\n",
    "        return round(mul, 3)"
   ]
  },
  {
   "cell_type": "code",
   "execution_count": 5,
   "id": "ceb19919",
   "metadata": {},
   "outputs": [],
   "source": [
    "def increase_by_for(by, for_): # for_ % 만큼의 값들에게 by %만큼증가 적용\n",
    "    if np.random.randint(100) < for_: \n",
    "        return 1.0\n",
    "    else:\n",
    "        mul = ((100+by)/100) + np.random.uniform(0.0, 0.1)\n",
    "        return round(mul, 3)"
   ]
  },
  {
   "cell_type": "markdown",
   "id": "543b17a9",
   "metadata": {},
   "source": [
    "### 남성, 30-50대, 고가 -> 매출 증가"
   ]
  },
  {
   "cell_type": "markdown",
   "id": "9a0355e2",
   "metadata": {},
   "source": [
    "- 조작 전 매출 확인"
   ]
  },
  {
   "cell_type": "code",
   "execution_count": 6,
   "id": "e7c354ea",
   "metadata": {},
   "outputs": [
    {
     "name": "stdout",
     "output_type": "stream",
     "text": [
      "*****columns = Index(['date', 'time', 'cusno', 'gender', 'age', 'region', 'product_', 'price',\n",
      "       'quantity', 'amount'],\n",
      "      dtype='object')\n",
      "\n",
      "//**********info**********//\n",
      "<class 'pandas.core.frame.DataFrame'>\n",
      "Int64Index: 10000 entries, 0 to 9999\n",
      "Data columns (total 10 columns):\n",
      " #   Column    Non-Null Count  Dtype         \n",
      "---  ------    --------------  -----         \n",
      " 0   date      10000 non-null  datetime64[ns]\n",
      " 1   time      10000 non-null  object        \n",
      " 2   cusno     10000 non-null  int32         \n",
      " 3   gender    10000 non-null  object        \n",
      " 4   age       10000 non-null  object        \n",
      " 5   region    10000 non-null  object        \n",
      " 6   product_  10000 non-null  int64         \n",
      " 7   price     10000 non-null  int32         \n",
      " 8   quantity  10000 non-null  int32         \n",
      " 9   amount    10000 non-null  int32         \n",
      "dtypes: datetime64[ns](1), int32(4), int64(1), object(4)\n",
      "memory usage: 703.1+ KB\n",
      "\n",
      "\n",
      "*****1만개 중  745 개 해당\n",
      "\n",
      "//**********조작전**********//\n",
      "*****2020년 매출 101.59 만원\n",
      "*****2021년 매출 94.32 만원\n",
      "\n",
      "*****2020년 물건 갯수 4.1  천개\n",
      "*****2021년 물건 갯수 3.8  천개\n"
     ]
    }
   ],
   "source": [
    "df1 = df.copy()\n",
    "\n",
    "print(f'*****columns = {df1.columns}')\n",
    "\n",
    "print('\\n//**********info**********//')\n",
    "df1.info()\n",
    "print('\\n')\n",
    "\n",
    "df1.rename({'product':'product_'}, axis=1, inplace=True)\n",
    "\n",
    "condition1 = (df1.gender == 0)&((df1.age >= 30)&(df1.age < 60))&(df1.product_ == 10 )\n",
    "print('*****1만개 중 ', condition1.sum(), '개 해당')\n",
    "\n",
    "print('\\n//**********조작전**********//')\n",
    "print('*****2020년 매출', round(df1.amount[condition1 & (df1.date.dt.year == 2020)].sum()/10**4, 2), '만원')\n",
    "print('*****2021년 매출', round(df1.amount[condition1 & (df1.date.dt.year == 2021)].sum()/10**4, 2), '만원')\n",
    "\n",
    "print('\\n*****2020년 물건 갯수', round(df1.quantity[condition1 & (df1.date.dt.year == 2020)].sum()/10**3, 1), ' 천개')\n",
    "print('*****2021년 물건 갯수', round(df1.quantity[condition1 & (df1.date.dt.year == 2021)].sum()/10**3, 1), ' 천개')"
   ]
  },
  {
   "cell_type": "markdown",
   "id": "dde3ab03",
   "metadata": {},
   "source": [
    "- 조작 하기\n",
    "- quantity, amount 수정"
   ]
  },
  {
   "cell_type": "code",
   "execution_count": 7,
   "id": "9e4d7273",
   "metadata": {},
   "outputs": [
    {
     "name": "stdout",
     "output_type": "stream",
     "text": [
      "\n"
     ]
    }
   ],
   "source": [
    "sr_q = df1.quantity[condition1 & (df1.date.dt.year == 2021)]\n",
    "\n",
    "sr_q = sr_q.apply(lambda x : x*increase_by_for(50, 50))\n",
    "\n",
    "df1.quantity[condition1 & (df1.date.dt.year == 2021)] = sr_q.apply(lambda x : math.ceil(x))\n",
    "\n",
    "df1.quantity.astype('int')\n",
    "print()"
   ]
  },
  {
   "cell_type": "code",
   "execution_count": 8,
   "id": "fa966092",
   "metadata": {},
   "outputs": [],
   "source": [
    "df1.amount = df1.price*df1.quantity"
   ]
  },
  {
   "cell_type": "code",
   "execution_count": 9,
   "id": "c9d51e4b",
   "metadata": {
    "scrolled": true
   },
   "outputs": [
    {
     "name": "stdout",
     "output_type": "stream",
     "text": [
      "\n",
      "//**********조작후**********//\n",
      "*****2020년 매출 101.59 만원\n",
      "*****2021년 매출 122.12 만원\n",
      "\n",
      "*****2020년 물건 갯수 4.1 천개\n",
      "*****2021년 물건 갯수 4.9 천개\n"
     ]
    }
   ],
   "source": [
    "print('\\n//**********조작후**********//')\n",
    "\n",
    "print('*****2020년 매출', round(df1.amount[condition1 & (df1.date.dt.year == 2020)].sum()/10**4, 2), '만원')\n",
    "print('*****2021년 매출', round(df1.amount[condition1 & (df1.date.dt.year == 2021)].sum()/10**4, 2), '만원')\n",
    "\n",
    "print('\\n*****2020년 물건 갯수', round(df1.quantity[condition1 & (df1.date.dt.year == 2020)].sum()/10**3, 1), '천개')\n",
    "print('*****2021년 물건 갯수', round(df1.quantity[condition1 & (df1.date.dt.year == 2021)].sum()/10**3, 1), '천개')"
   ]
  },
  {
   "cell_type": "markdown",
   "id": "aacd1fc0",
   "metadata": {},
   "source": [
    "- 50%에 대한 50%니까 25% 증가"
   ]
  },
  {
   "cell_type": "markdown",
   "id": "f0300f9d",
   "metadata": {},
   "source": [
    "### 여성, 20-40대, 저가 -> 매출 증가"
   ]
  },
  {
   "cell_type": "markdown",
   "id": "b68387fb",
   "metadata": {},
   "source": [
    "- 조작 전 매출 확인"
   ]
  },
  {
   "cell_type": "code",
   "execution_count": 10,
   "id": "ccd45d76",
   "metadata": {},
   "outputs": [
    {
     "name": "stdout",
     "output_type": "stream",
     "text": [
      "*****columns = Index(['date', 'time', 'cusno', 'gender', 'age', 'region', 'product_', 'price',\n",
      "       'quantity', 'amount'],\n",
      "      dtype='object')\n",
      "\n",
      "//**********info**********//\n",
      "<class 'pandas.core.frame.DataFrame'>\n",
      "Int64Index: 10000 entries, 0 to 9999\n",
      "Data columns (total 10 columns):\n",
      " #   Column    Non-Null Count  Dtype         \n",
      "---  ------    --------------  -----         \n",
      " 0   date      10000 non-null  datetime64[ns]\n",
      " 1   time      10000 non-null  object        \n",
      " 2   cusno     10000 non-null  int32         \n",
      " 3   gender    10000 non-null  object        \n",
      " 4   age       10000 non-null  object        \n",
      " 5   region    10000 non-null  object        \n",
      " 6   product_  10000 non-null  int64         \n",
      " 7   price     10000 non-null  int32         \n",
      " 8   quantity  10000 non-null  int32         \n",
      " 9   amount    10000 non-null  int32         \n",
      "dtypes: datetime64[ns](1), int32(4), int64(1), object(4)\n",
      "memory usage: 961.2+ KB\n",
      "\n",
      "\n",
      "*****1만개 중  1524 개 해당\n",
      "\n",
      "//**********조작전**********//\n",
      "*****2020년 매출 43.44 만원\n",
      "*****2021년 매출 39.61 만원\n",
      "\n",
      "*****2020년 물건 갯수 8.3 천개\n",
      "*****2021년 물건 갯수 7.9 천개\n"
     ]
    }
   ],
   "source": [
    "df2 = df1.copy()\n",
    "\n",
    "print(f'*****columns = {df2.columns}')\n",
    "\n",
    "print('\\n//**********info**********//')\n",
    "df2.info()\n",
    "print('\\n')\n",
    "\n",
    "df2.rename({'product':'product_'}, axis=1, inplace=True)\n",
    "\n",
    "condition2 = (df2.gender == 1)&((df2.age >= 20)&(df2.age < 50))&(df2.product_ == 30 )\n",
    "print('*****1만개 중 ', condition2.sum(), '개 해당')\n",
    "\n",
    "print('\\n//**********조작전**********//')\n",
    "print('*****2020년 매출', round(df2.amount[condition2 & (df2.date.dt.year == 2020)].sum()/10**4, 2), '만원')\n",
    "print('*****2021년 매출', round(df2.amount[condition2 & (df2.date.dt.year == 2021)].sum()/10**4, 2), '만원')\n",
    "\n",
    "print('\\n*****2020년 물건 갯수', round(df2.quantity[condition2 & (df2.date.dt.year == 2020)].sum()/10**3, 1), '천개')\n",
    "print('*****2021년 물건 갯수', round(df2.quantity[condition2 & (df2.date.dt.year == 2021)].sum()/10**3, 1), '천개')"
   ]
  },
  {
   "cell_type": "markdown",
   "id": "62de8e56",
   "metadata": {},
   "source": [
    "- 조작 하기\n",
    "- quantity, amount 수정"
   ]
  },
  {
   "cell_type": "code",
   "execution_count": 11,
   "id": "f520189d",
   "metadata": {},
   "outputs": [
    {
     "name": "stdout",
     "output_type": "stream",
     "text": [
      "\n"
     ]
    }
   ],
   "source": [
    "sr_q = df2.quantity[condition2 & (df2.date.dt.year == 2021)]\n",
    "\n",
    "sr_q = sr_q.apply(lambda x : x*increase_by_for(50, 50))\n",
    "\n",
    "df2.quantity[condition2 & (df2.date.dt.year == 2021)] = sr_q.apply(lambda x : math.ceil(x))\n",
    "\n",
    "df2.quantity.astype('int')\n",
    "print()"
   ]
  },
  {
   "cell_type": "code",
   "execution_count": 12,
   "id": "acb6a499",
   "metadata": {},
   "outputs": [],
   "source": [
    "df2.amount = df2.price*df2.quantity"
   ]
  },
  {
   "cell_type": "code",
   "execution_count": 13,
   "id": "d48c7fd2",
   "metadata": {
    "scrolled": true
   },
   "outputs": [
    {
     "name": "stdout",
     "output_type": "stream",
     "text": [
      "\n",
      "//**********조작후**********//\n",
      "*****2020년 매출 43.44 만원\n",
      "*****2021년 매출 51.62 만원\n",
      "\n",
      "*****2020년 물건 갯수 8.3 천개\n",
      "*****2021년 물건 갯수 10.4 천개\n"
     ]
    }
   ],
   "source": [
    "print('\\n//**********조작후**********//')\n",
    "\n",
    "print('*****2020년 매출', round(df2.amount[condition2 & (df2.date.dt.year == 2020)].sum()/10**4, 2), '만원')\n",
    "print('*****2021년 매출', round(df2.amount[condition2 & (df2.date.dt.year == 2021)].sum()/10**4, 2), '만원')\n",
    "\n",
    "print('\\n*****2020년 물건 갯수', round(df2.quantity[condition2 & (df2.date.dt.year == 2020)].sum()/10**3, 1), '천개')\n",
    "print('*****2021년 물건 갯수', round(df2.quantity[condition2 & (df2.date.dt.year == 2021)].sum()/10**3, 1), '천개')"
   ]
  },
  {
   "cell_type": "markdown",
   "id": "c976fb8b",
   "metadata": {},
   "source": [
    "### 여성, 20-40대, 중&고가 -> 매출 감소"
   ]
  },
  {
   "cell_type": "code",
   "execution_count": 14,
   "id": "a45e1e32",
   "metadata": {},
   "outputs": [
    {
     "name": "stdout",
     "output_type": "stream",
     "text": [
      "*****columns = Index(['date', 'time', 'cusno', 'gender', 'age', 'region', 'product_', 'price',\n",
      "       'quantity', 'amount'],\n",
      "      dtype='object')\n",
      "\n",
      "//**********info**********//\n",
      "<class 'pandas.core.frame.DataFrame'>\n",
      "Int64Index: 10000 entries, 0 to 9999\n",
      "Data columns (total 10 columns):\n",
      " #   Column    Non-Null Count  Dtype         \n",
      "---  ------    --------------  -----         \n",
      " 0   date      10000 non-null  datetime64[ns]\n",
      " 1   time      10000 non-null  object        \n",
      " 2   cusno     10000 non-null  int32         \n",
      " 3   gender    10000 non-null  object        \n",
      " 4   age       10000 non-null  object        \n",
      " 5   region    10000 non-null  object        \n",
      " 6   product_  10000 non-null  int64         \n",
      " 7   price     10000 non-null  int32         \n",
      " 8   quantity  10000 non-null  int32         \n",
      " 9   amount    10000 non-null  int32         \n",
      "dtypes: datetime64[ns](1), int32(4), int64(1), object(4)\n",
      "memory usage: 961.2+ KB\n",
      "\n",
      "\n",
      "*****1만개 중  2984 개 해당\n",
      "\n",
      "//**********조작전**********//\n",
      "*****2020년 매출 329.6 만원\n",
      "*****2021년 매출 305.42 만원\n",
      "\n",
      "*****2020년 물건 갯수 16.4 천개\n",
      "*****2021년 물건 갯수 15.3 천개\n"
     ]
    }
   ],
   "source": [
    "df3 = df2.copy()\n",
    "\n",
    "print(f'*****columns = {df3.columns}')\n",
    "\n",
    "print('\\n//**********info**********//')\n",
    "df3.info()\n",
    "print('\\n')\n",
    "\n",
    "df3.rename({'product':'product_'}, axis=1, inplace=True)\n",
    "\n",
    "condition3 = (df3.gender == 1)&((df3.age >= 20)&(df3.age < 50))&((df3.product_ == 10 ) | (df3.product_ == 20 ))\n",
    "print('*****1만개 중 ', condition3.sum(), '개 해당')\n",
    "\n",
    "print('\\n//**********조작전**********//')\n",
    "print('*****2020년 매출', round(df3.amount[condition3 & (df3.date.dt.year == 2020)].sum()/10**4, 2), '만원')\n",
    "print('*****2021년 매출', round(df3.amount[condition3 & (df3.date.dt.year == 2021)].sum()/10**4, 2), '만원')\n",
    "\n",
    "print('\\n*****2020년 물건 갯수', round(df3.quantity[condition3 & (df3.date.dt.year == 2020)].sum()/10**3, 1), '천개')\n",
    "print('*****2021년 물건 갯수', round(df3.quantity[condition3 & (df3.date.dt.year == 2021)].sum()/10**3, 1), '천개')"
   ]
  },
  {
   "cell_type": "markdown",
   "id": "b9cddd37",
   "metadata": {},
   "source": [
    "- 조작 하기\n",
    "- quantity, amount 수정"
   ]
  },
  {
   "cell_type": "code",
   "execution_count": 15,
   "id": "efed8c5f",
   "metadata": {},
   "outputs": [
    {
     "name": "stdout",
     "output_type": "stream",
     "text": [
      "\n"
     ]
    }
   ],
   "source": [
    "sr_q = df3.quantity[condition3 & (df3.date.dt.year == 2021)]\n",
    "\n",
    "sr_q = sr_q.apply(lambda x : x*decrease_by_for(50, 80))\n",
    "\n",
    "df3.quantity[condition3 & (df3.date.dt.year == 2021)] = sr_q.apply(lambda x : math.ceil(x))\n",
    "\n",
    "df3.quantity.astype('int')\n",
    "print()"
   ]
  },
  {
   "cell_type": "code",
   "execution_count": 16,
   "id": "759459b7",
   "metadata": {},
   "outputs": [],
   "source": [
    "df3.amount = df3.price*df3.quantity"
   ]
  },
  {
   "cell_type": "code",
   "execution_count": 17,
   "id": "f51482d3",
   "metadata": {
    "scrolled": true
   },
   "outputs": [
    {
     "name": "stdout",
     "output_type": "stream",
     "text": [
      "\n",
      "//**********조작후**********//\n",
      "*****2020년 매출 329.6 만원\n",
      "*****2021년 매출 278.57 만원\n",
      "\n",
      "*****2020년 물건 갯수 16.4 천개\n",
      "*****2021년 물건 갯수 13.9 천개\n"
     ]
    }
   ],
   "source": [
    "print('\\n//**********조작후**********//')\n",
    "\n",
    "print('*****2020년 매출', round(df3.amount[condition3 & (df3.date.dt.year == 2020)].sum()/10**4, 2), '만원')\n",
    "print('*****2021년 매출', round(df3.amount[condition3 & (df3.date.dt.year == 2021)].sum()/10**4, 2), '만원')\n",
    "\n",
    "print('\\n*****2020년 물건 갯수', round(df3.quantity[condition3 & (df3.date.dt.year == 2020)].sum()/10**3, 1), '천개')\n",
    "print('*****2021년 물건 갯수', round(df3.quantity[condition3 & (df3.date.dt.year == 2021)].sum()/10**3, 1), '천개')"
   ]
  },
  {
   "cell_type": "code",
   "execution_count": null,
   "id": "31721e61",
   "metadata": {},
   "outputs": [],
   "source": []
  },
  {
   "cell_type": "code",
   "execution_count": null,
   "id": "b1542c9a",
   "metadata": {},
   "outputs": [],
   "source": []
  },
  {
   "cell_type": "code",
   "execution_count": null,
   "id": "7afe6f06",
   "metadata": {},
   "outputs": [],
   "source": []
  },
  {
   "cell_type": "markdown",
   "id": "e8f68e07",
   "metadata": {},
   "source": [
    "### C도시, 저가 -> 일부 고객 2021 매출 0원으로"
   ]
  },
  {
   "cell_type": "code",
   "execution_count": 18,
   "id": "d2860dfc",
   "metadata": {},
   "outputs": [
    {
     "data": {
      "text/plain": [
       "array([1, 0, 2], dtype=object)"
      ]
     },
     "execution_count": 18,
     "metadata": {},
     "output_type": "execute_result"
    }
   ],
   "source": [
    "df3.region.unique()"
   ]
  },
  {
   "cell_type": "code",
   "execution_count": 19,
   "id": "d6f9da07",
   "metadata": {},
   "outputs": [
    {
     "data": {
      "text/html": [
       "<div>\n",
       "<style scoped>\n",
       "    .dataframe tbody tr th:only-of-type {\n",
       "        vertical-align: middle;\n",
       "    }\n",
       "\n",
       "    .dataframe tbody tr th {\n",
       "        vertical-align: top;\n",
       "    }\n",
       "\n",
       "    .dataframe thead th {\n",
       "        text-align: right;\n",
       "    }\n",
       "</style>\n",
       "<table border=\"1\" class=\"dataframe\">\n",
       "  <thead>\n",
       "    <tr style=\"text-align: right;\">\n",
       "      <th></th>\n",
       "      <th>date</th>\n",
       "      <th>time</th>\n",
       "      <th>cusno</th>\n",
       "      <th>gender</th>\n",
       "      <th>age</th>\n",
       "      <th>region</th>\n",
       "      <th>product_</th>\n",
       "      <th>price</th>\n",
       "      <th>quantity</th>\n",
       "      <th>amount</th>\n",
       "    </tr>\n",
       "    <tr>\n",
       "      <th>orderno</th>\n",
       "      <th></th>\n",
       "      <th></th>\n",
       "      <th></th>\n",
       "      <th></th>\n",
       "      <th></th>\n",
       "      <th></th>\n",
       "      <th></th>\n",
       "      <th></th>\n",
       "      <th></th>\n",
       "      <th></th>\n",
       "    </tr>\n",
       "  </thead>\n",
       "  <tbody>\n",
       "    <tr>\n",
       "      <th>0</th>\n",
       "      <td>2020-01-01</td>\n",
       "      <td>01:21:44</td>\n",
       "      <td>555</td>\n",
       "      <td>1</td>\n",
       "      <td>40</td>\n",
       "      <td>1</td>\n",
       "      <td>20</td>\n",
       "      <td>200</td>\n",
       "      <td>15</td>\n",
       "      <td>3000</td>\n",
       "    </tr>\n",
       "    <tr>\n",
       "      <th>1</th>\n",
       "      <td>2020-01-01</td>\n",
       "      <td>01:31:06</td>\n",
       "      <td>505</td>\n",
       "      <td>1</td>\n",
       "      <td>40</td>\n",
       "      <td>0</td>\n",
       "      <td>20</td>\n",
       "      <td>119</td>\n",
       "      <td>10</td>\n",
       "      <td>1190</td>\n",
       "    </tr>\n",
       "    <tr>\n",
       "      <th>2</th>\n",
       "      <td>2020-01-01</td>\n",
       "      <td>01:56:52</td>\n",
       "      <td>736</td>\n",
       "      <td>1</td>\n",
       "      <td>40</td>\n",
       "      <td>2</td>\n",
       "      <td>20</td>\n",
       "      <td>177</td>\n",
       "      <td>9</td>\n",
       "      <td>1593</td>\n",
       "    </tr>\n",
       "    <tr>\n",
       "      <th>3</th>\n",
       "      <td>2020-01-01</td>\n",
       "      <td>06:04:44</td>\n",
       "      <td>445</td>\n",
       "      <td>1</td>\n",
       "      <td>50</td>\n",
       "      <td>1</td>\n",
       "      <td>10</td>\n",
       "      <td>243</td>\n",
       "      <td>5</td>\n",
       "      <td>1215</td>\n",
       "    </tr>\n",
       "    <tr>\n",
       "      <th>4</th>\n",
       "      <td>2020-01-01</td>\n",
       "      <td>06:20:57</td>\n",
       "      <td>72</td>\n",
       "      <td>0</td>\n",
       "      <td>30</td>\n",
       "      <td>0</td>\n",
       "      <td>10</td>\n",
       "      <td>201</td>\n",
       "      <td>1</td>\n",
       "      <td>201</td>\n",
       "    </tr>\n",
       "  </tbody>\n",
       "</table>\n",
       "</div>"
      ],
      "text/plain": [
       "              date      time  cusno gender age region  product_  price  \\\n",
       "orderno                                                                  \n",
       "0       2020-01-01  01:21:44    555      1  40      1        20    200   \n",
       "1       2020-01-01  01:31:06    505      1  40      0        20    119   \n",
       "2       2020-01-01  01:56:52    736      1  40      2        20    177   \n",
       "3       2020-01-01  06:04:44    445      1  50      1        10    243   \n",
       "4       2020-01-01  06:20:57     72      0  30      0        10    201   \n",
       "\n",
       "         quantity  amount  \n",
       "orderno                    \n",
       "0              15    3000  \n",
       "1              10    1190  \n",
       "2               9    1593  \n",
       "3               5    1215  \n",
       "4               1     201  "
      ]
     },
     "execution_count": 19,
     "metadata": {},
     "output_type": "execute_result"
    }
   ],
   "source": [
    "df3.head()"
   ]
  },
  {
   "cell_type": "code",
   "execution_count": 20,
   "id": "e61d9ae7",
   "metadata": {},
   "outputs": [
    {
     "name": "stdout",
     "output_type": "stream",
     "text": [
      "*****columns = Index(['date', 'time', 'cusno', 'gender', 'age', 'region', 'product_', 'price',\n",
      "       'quantity', 'amount'],\n",
      "      dtype='object')\n",
      "\n",
      "//**********info**********//\n",
      "<class 'pandas.core.frame.DataFrame'>\n",
      "Int64Index: 10000 entries, 0 to 9999\n",
      "Data columns (total 10 columns):\n",
      " #   Column    Non-Null Count  Dtype         \n",
      "---  ------    --------------  -----         \n",
      " 0   date      10000 non-null  datetime64[ns]\n",
      " 1   time      10000 non-null  object        \n",
      " 2   cusno     10000 non-null  int32         \n",
      " 3   gender    10000 non-null  object        \n",
      " 4   age       10000 non-null  object        \n",
      " 5   region    10000 non-null  object        \n",
      " 6   product_  10000 non-null  int64         \n",
      " 7   price     10000 non-null  int32         \n",
      " 8   quantity  10000 non-null  int32         \n",
      " 9   amount    10000 non-null  int32         \n",
      "dtypes: datetime64[ns](1), int32(4), int64(1), object(4)\n",
      "memory usage: 961.2+ KB\n",
      "\n",
      "\n",
      "*****1만개 중  666 개 해당\n",
      "\n",
      "//**********조작전**********//\n",
      "*****2020년 매출 80.2 만원\n",
      "*****2021년 매출 100.84 만원\n",
      "\n",
      "*****2020년 물건 갯수 3.2 천개\n",
      "*****2021년 물건 갯수 4.0 천개\n"
     ]
    }
   ],
   "source": [
    "df4 = df3.copy()\n",
    "\n",
    "print(f'*****columns = {df4.columns}')\n",
    "\n",
    "print('\\n//**********info**********//')\n",
    "df4.info()\n",
    "print('\\n')\n",
    "\n",
    "df4.rename({'product':'product_'}, axis=1, inplace=True)\n",
    "\n",
    "condition4 = (df4.region == 2)&(df4.product_ == 10 )\n",
    "print('*****1만개 중 ', condition4.sum(), '개 해당')\n",
    "\n",
    "print('\\n//**********조작전**********//')\n",
    "print('*****2020년 매출', round(df4.amount[condition4 & (df4.date.dt.year == 2020)].sum()/10**4, 2), '만원')\n",
    "print('*****2021년 매출', round(df4.amount[condition4 & (df4.date.dt.year == 2021)].sum()/10**4, 2), '만원')\n",
    "\n",
    "print('\\n*****2020년 물건 갯수', round(df4.quantity[condition4 & (df4.date.dt.year == 2020)].sum()/10**3, 1), '천개')\n",
    "print('*****2021년 물건 갯수', round(df4.quantity[condition4 & (df4.date.dt.year == 2021)].sum()/10**3, 1), '천개')"
   ]
  },
  {
   "cell_type": "markdown",
   "id": "bee57169",
   "metadata": {},
   "source": [
    "- 조작 하기\n",
    "- quantity, amount 수정"
   ]
  },
  {
   "cell_type": "markdown",
   "id": "9199abca",
   "metadata": {},
   "source": [
    "#### C도시 조작 함수"
   ]
  },
  {
   "cell_type": "code",
   "execution_count": 21,
   "id": "0ed0b1c8",
   "metadata": {},
   "outputs": [],
   "source": [
    "def delete_and_decrease(del_for, dec_by, dec_for):\n",
    "    if np.random.randint(100) < del_for: \n",
    "        return 0.0\n",
    "    else:\n",
    "        if np.random.randint(100) < dec_for:\n",
    "            return 1.0\n",
    "        else:\n",
    "            mul = ((100-dec_by)/100) + np.random.uniform(0.0, 0.1)\n",
    "            return round(mul, 3)"
   ]
  },
  {
   "cell_type": "code",
   "execution_count": 22,
   "id": "0d52031a",
   "metadata": {},
   "outputs": [
    {
     "name": "stdout",
     "output_type": "stream",
     "text": [
      "\n"
     ]
    }
   ],
   "source": [
    "sr_q = df4.quantity[condition4 & (df4.date.dt.year == 2021)]\n",
    "\n",
    "sr_q = sr_q.apply(lambda x : x*delete_and_decrease(50, 0, 0))\n",
    "\n",
    "df4.quantity[condition4 & (df4.date.dt.year == 2021)] = sr_q.apply(lambda x : math.ceil(x))\n",
    "\n",
    "df4.quantity.astype('int')\n",
    "print()"
   ]
  },
  {
   "cell_type": "code",
   "execution_count": 23,
   "id": "bdabe991",
   "metadata": {},
   "outputs": [],
   "source": [
    "df4.amount = df4.price*df4.quantity"
   ]
  },
  {
   "cell_type": "code",
   "execution_count": 24,
   "id": "2f367818",
   "metadata": {
    "scrolled": false
   },
   "outputs": [
    {
     "name": "stdout",
     "output_type": "stream",
     "text": [
      "\n",
      "//**********조작후**********//\n",
      "*****2020년 매출 80.2 만원\n",
      "*****2021년 매출 54.43 만원\n",
      "\n",
      "*****2020년 물건 갯수 3.2 천개\n",
      "*****2021년 물건 갯수 2.1 천개\n"
     ]
    }
   ],
   "source": [
    "print('\\n//**********조작후**********//')\n",
    "\n",
    "print('*****2020년 매출', round(df4.amount[condition4 & (df4.date.dt.year == 2020)].sum()/10**4, 2), '만원')\n",
    "print('*****2021년 매출', round(df4.amount[condition4 & (df4.date.dt.year == 2021)].sum()/10**4, 2), '만원')\n",
    "\n",
    "print('\\n*****2020년 물건 갯수', round(df4.quantity[condition4 & (df4.date.dt.year == 2020)].sum()/10**3, 1), '천개')\n",
    "print('*****2021년 물건 갯수', round(df4.quantity[condition4 & (df4.date.dt.year == 2021)].sum()/10**3, 1), '천개')"
   ]
  },
  {
   "cell_type": "markdown",
   "id": "f631f80c",
   "metadata": {},
   "source": [
    "#### 새 함수가 잘 적용되었는지 확인"
   ]
  },
  {
   "cell_type": "code",
   "execution_count": 25,
   "id": "4a4694c6",
   "metadata": {
    "scrolled": true
   },
   "outputs": [
    {
     "data": {
      "text/html": [
       "<div>\n",
       "<style scoped>\n",
       "    .dataframe tbody tr th:only-of-type {\n",
       "        vertical-align: middle;\n",
       "    }\n",
       "\n",
       "    .dataframe tbody tr th {\n",
       "        vertical-align: top;\n",
       "    }\n",
       "\n",
       "    .dataframe thead th {\n",
       "        text-align: right;\n",
       "    }\n",
       "</style>\n",
       "<table border=\"1\" class=\"dataframe\">\n",
       "  <thead>\n",
       "    <tr style=\"text-align: right;\">\n",
       "      <th></th>\n",
       "      <th>date</th>\n",
       "      <th>time</th>\n",
       "      <th>cusno</th>\n",
       "      <th>gender</th>\n",
       "      <th>age</th>\n",
       "      <th>region</th>\n",
       "      <th>product_</th>\n",
       "      <th>price</th>\n",
       "      <th>quantity</th>\n",
       "      <th>amount</th>\n",
       "    </tr>\n",
       "    <tr>\n",
       "      <th>orderno</th>\n",
       "      <th></th>\n",
       "      <th></th>\n",
       "      <th></th>\n",
       "      <th></th>\n",
       "      <th></th>\n",
       "      <th></th>\n",
       "      <th></th>\n",
       "      <th></th>\n",
       "      <th></th>\n",
       "      <th></th>\n",
       "    </tr>\n",
       "  </thead>\n",
       "  <tbody>\n",
       "    <tr>\n",
       "      <th>0</th>\n",
       "      <td>2020-01-01</td>\n",
       "      <td>01:21:44</td>\n",
       "      <td>555</td>\n",
       "      <td>1</td>\n",
       "      <td>40</td>\n",
       "      <td>1</td>\n",
       "      <td>20</td>\n",
       "      <td>200</td>\n",
       "      <td>15</td>\n",
       "      <td>3000</td>\n",
       "    </tr>\n",
       "    <tr>\n",
       "      <th>1</th>\n",
       "      <td>2020-01-01</td>\n",
       "      <td>01:31:06</td>\n",
       "      <td>505</td>\n",
       "      <td>1</td>\n",
       "      <td>40</td>\n",
       "      <td>0</td>\n",
       "      <td>20</td>\n",
       "      <td>119</td>\n",
       "      <td>10</td>\n",
       "      <td>1190</td>\n",
       "    </tr>\n",
       "    <tr>\n",
       "      <th>2</th>\n",
       "      <td>2020-01-01</td>\n",
       "      <td>01:56:52</td>\n",
       "      <td>736</td>\n",
       "      <td>1</td>\n",
       "      <td>40</td>\n",
       "      <td>2</td>\n",
       "      <td>20</td>\n",
       "      <td>177</td>\n",
       "      <td>9</td>\n",
       "      <td>1593</td>\n",
       "    </tr>\n",
       "    <tr>\n",
       "      <th>3</th>\n",
       "      <td>2020-01-01</td>\n",
       "      <td>06:04:44</td>\n",
       "      <td>445</td>\n",
       "      <td>1</td>\n",
       "      <td>50</td>\n",
       "      <td>1</td>\n",
       "      <td>10</td>\n",
       "      <td>243</td>\n",
       "      <td>5</td>\n",
       "      <td>1215</td>\n",
       "    </tr>\n",
       "    <tr>\n",
       "      <th>4</th>\n",
       "      <td>2020-01-01</td>\n",
       "      <td>06:20:57</td>\n",
       "      <td>72</td>\n",
       "      <td>0</td>\n",
       "      <td>30</td>\n",
       "      <td>0</td>\n",
       "      <td>10</td>\n",
       "      <td>201</td>\n",
       "      <td>1</td>\n",
       "      <td>201</td>\n",
       "    </tr>\n",
       "  </tbody>\n",
       "</table>\n",
       "</div>"
      ],
      "text/plain": [
       "              date      time  cusno gender age region  product_  price  \\\n",
       "orderno                                                                  \n",
       "0       2020-01-01  01:21:44    555      1  40      1        20    200   \n",
       "1       2020-01-01  01:31:06    505      1  40      0        20    119   \n",
       "2       2020-01-01  01:56:52    736      1  40      2        20    177   \n",
       "3       2020-01-01  06:04:44    445      1  50      1        10    243   \n",
       "4       2020-01-01  06:20:57     72      0  30      0        10    201   \n",
       "\n",
       "         quantity  amount  \n",
       "orderno                    \n",
       "0              15    3000  \n",
       "1              10    1190  \n",
       "2               9    1593  \n",
       "3               5    1215  \n",
       "4               1     201  "
      ]
     },
     "execution_count": 25,
     "metadata": {},
     "output_type": "execute_result"
    }
   ],
   "source": [
    "df4_1 = df4.copy()\n",
    "df4_1.head()"
   ]
  },
  {
   "cell_type": "code",
   "execution_count": 26,
   "id": "6d53f25a",
   "metadata": {},
   "outputs": [
    {
     "data": {
      "text/plain": [
       "(354, '조건에 해당되는 행의 전체 갯수')"
      ]
     },
     "execution_count": 26,
     "metadata": {},
     "output_type": "execute_result"
    }
   ],
   "source": [
    "df4_1[condition4 & (df4.date.dt.year == 2021)].quantity.count(), '조건에 해당되는 행의 전체 갯수'"
   ]
  },
  {
   "cell_type": "code",
   "execution_count": 27,
   "id": "6217f5e9",
   "metadata": {},
   "outputs": [
    {
     "data": {
      "text/plain": [
       "(176, '0이 들어간 행의 갯수')"
      ]
     },
     "execution_count": 27,
     "metadata": {},
     "output_type": "execute_result"
    }
   ],
   "source": [
    "df4_1[condition4 & (df4.date.dt.year == 2021) & (df4_1.quantity == 0)].quantity.count(), '0이 들어간 행의 갯수'"
   ]
  },
  {
   "cell_type": "code",
   "execution_count": 28,
   "id": "6c7b94ad",
   "metadata": {
    "scrolled": true
   },
   "outputs": [
    {
     "data": {
      "text/plain": [
       "(176, 'nan이 들어간 행의 갯수')"
      ]
     },
     "execution_count": 28,
     "metadata": {},
     "output_type": "execute_result"
    }
   ],
   "source": [
    "df4_1.quantity.replace(0, np.nan, inplace=True)\n",
    "df4_1.quantity.isna().sum(), 'nan이 들어간 행의 갯수'"
   ]
  },
  {
   "cell_type": "code",
   "execution_count": 29,
   "id": "6b57baee",
   "metadata": {},
   "outputs": [],
   "source": [
    "df4_2 = df4_1.dropna()"
   ]
  },
  {
   "cell_type": "code",
   "execution_count": 30,
   "id": "c116bd5e",
   "metadata": {
    "scrolled": true
   },
   "outputs": [
    {
     "data": {
      "text/plain": [
       "(9824, '남은 행')"
      ]
     },
     "execution_count": 30,
     "metadata": {},
     "output_type": "execute_result"
    }
   ],
   "source": [
    "df4_2.quantity.count(), '남은 행'"
   ]
  },
  {
   "cell_type": "code",
   "execution_count": 31,
   "id": "7f4bb7ec",
   "metadata": {},
   "outputs": [
    {
     "data": {
      "text/html": [
       "<div>\n",
       "<style scoped>\n",
       "    .dataframe tbody tr th:only-of-type {\n",
       "        vertical-align: middle;\n",
       "    }\n",
       "\n",
       "    .dataframe tbody tr th {\n",
       "        vertical-align: top;\n",
       "    }\n",
       "\n",
       "    .dataframe thead th {\n",
       "        text-align: right;\n",
       "    }\n",
       "</style>\n",
       "<table border=\"1\" class=\"dataframe\">\n",
       "  <thead>\n",
       "    <tr style=\"text-align: right;\">\n",
       "      <th></th>\n",
       "      <th>date</th>\n",
       "      <th>time</th>\n",
       "      <th>cusno</th>\n",
       "      <th>gender</th>\n",
       "      <th>age</th>\n",
       "      <th>region</th>\n",
       "      <th>product_</th>\n",
       "      <th>price</th>\n",
       "      <th>quantity</th>\n",
       "      <th>amount</th>\n",
       "    </tr>\n",
       "    <tr>\n",
       "      <th>orderno</th>\n",
       "      <th></th>\n",
       "      <th></th>\n",
       "      <th></th>\n",
       "      <th></th>\n",
       "      <th></th>\n",
       "      <th></th>\n",
       "      <th></th>\n",
       "      <th></th>\n",
       "      <th></th>\n",
       "      <th></th>\n",
       "    </tr>\n",
       "  </thead>\n",
       "  <tbody>\n",
       "    <tr>\n",
       "      <th>0</th>\n",
       "      <td>2020-01-01</td>\n",
       "      <td>01:21:44</td>\n",
       "      <td>555</td>\n",
       "      <td>1</td>\n",
       "      <td>40</td>\n",
       "      <td>1</td>\n",
       "      <td>20</td>\n",
       "      <td>200</td>\n",
       "      <td>15.0</td>\n",
       "      <td>3000</td>\n",
       "    </tr>\n",
       "    <tr>\n",
       "      <th>1</th>\n",
       "      <td>2020-01-01</td>\n",
       "      <td>01:31:06</td>\n",
       "      <td>505</td>\n",
       "      <td>1</td>\n",
       "      <td>40</td>\n",
       "      <td>0</td>\n",
       "      <td>20</td>\n",
       "      <td>119</td>\n",
       "      <td>10.0</td>\n",
       "      <td>1190</td>\n",
       "    </tr>\n",
       "    <tr>\n",
       "      <th>2</th>\n",
       "      <td>2020-01-01</td>\n",
       "      <td>01:56:52</td>\n",
       "      <td>736</td>\n",
       "      <td>1</td>\n",
       "      <td>40</td>\n",
       "      <td>2</td>\n",
       "      <td>20</td>\n",
       "      <td>177</td>\n",
       "      <td>9.0</td>\n",
       "      <td>1593</td>\n",
       "    </tr>\n",
       "    <tr>\n",
       "      <th>3</th>\n",
       "      <td>2020-01-01</td>\n",
       "      <td>06:04:44</td>\n",
       "      <td>445</td>\n",
       "      <td>1</td>\n",
       "      <td>50</td>\n",
       "      <td>1</td>\n",
       "      <td>10</td>\n",
       "      <td>243</td>\n",
       "      <td>5.0</td>\n",
       "      <td>1215</td>\n",
       "    </tr>\n",
       "    <tr>\n",
       "      <th>4</th>\n",
       "      <td>2020-01-01</td>\n",
       "      <td>06:20:57</td>\n",
       "      <td>72</td>\n",
       "      <td>0</td>\n",
       "      <td>30</td>\n",
       "      <td>0</td>\n",
       "      <td>10</td>\n",
       "      <td>201</td>\n",
       "      <td>1.0</td>\n",
       "      <td>201</td>\n",
       "    </tr>\n",
       "    <tr>\n",
       "      <th>5</th>\n",
       "      <td>2020-01-01</td>\n",
       "      <td>06:29:55</td>\n",
       "      <td>246</td>\n",
       "      <td>0</td>\n",
       "      <td>50</td>\n",
       "      <td>0</td>\n",
       "      <td>30</td>\n",
       "      <td>78</td>\n",
       "      <td>7.0</td>\n",
       "      <td>546</td>\n",
       "    </tr>\n",
       "    <tr>\n",
       "      <th>6</th>\n",
       "      <td>2020-01-01</td>\n",
       "      <td>08:26:29</td>\n",
       "      <td>44</td>\n",
       "      <td>0</td>\n",
       "      <td>20</td>\n",
       "      <td>1</td>\n",
       "      <td>30</td>\n",
       "      <td>14</td>\n",
       "      <td>6.0</td>\n",
       "      <td>84</td>\n",
       "    </tr>\n",
       "    <tr>\n",
       "      <th>7</th>\n",
       "      <td>2020-01-01</td>\n",
       "      <td>09:58:33</td>\n",
       "      <td>116</td>\n",
       "      <td>0</td>\n",
       "      <td>50</td>\n",
       "      <td>1</td>\n",
       "      <td>10</td>\n",
       "      <td>227</td>\n",
       "      <td>13.0</td>\n",
       "      <td>2951</td>\n",
       "    </tr>\n",
       "    <tr>\n",
       "      <th>8</th>\n",
       "      <td>2020-01-01</td>\n",
       "      <td>11:31:00</td>\n",
       "      <td>72</td>\n",
       "      <td>0</td>\n",
       "      <td>30</td>\n",
       "      <td>0</td>\n",
       "      <td>30</td>\n",
       "      <td>85</td>\n",
       "      <td>5.0</td>\n",
       "      <td>425</td>\n",
       "    </tr>\n",
       "    <tr>\n",
       "      <th>9</th>\n",
       "      <td>2020-01-01</td>\n",
       "      <td>17:07:35</td>\n",
       "      <td>382</td>\n",
       "      <td>1</td>\n",
       "      <td>40</td>\n",
       "      <td>0</td>\n",
       "      <td>10</td>\n",
       "      <td>274</td>\n",
       "      <td>14.0</td>\n",
       "      <td>3836</td>\n",
       "    </tr>\n",
       "  </tbody>\n",
       "</table>\n",
       "</div>"
      ],
      "text/plain": [
       "              date      time  cusno gender age region  product_  price  \\\n",
       "orderno                                                                  \n",
       "0       2020-01-01  01:21:44    555      1  40      1        20    200   \n",
       "1       2020-01-01  01:31:06    505      1  40      0        20    119   \n",
       "2       2020-01-01  01:56:52    736      1  40      2        20    177   \n",
       "3       2020-01-01  06:04:44    445      1  50      1        10    243   \n",
       "4       2020-01-01  06:20:57     72      0  30      0        10    201   \n",
       "5       2020-01-01  06:29:55    246      0  50      0        30     78   \n",
       "6       2020-01-01  08:26:29     44      0  20      1        30     14   \n",
       "7       2020-01-01  09:58:33    116      0  50      1        10    227   \n",
       "8       2020-01-01  11:31:00     72      0  30      0        30     85   \n",
       "9       2020-01-01  17:07:35    382      1  40      0        10    274   \n",
       "\n",
       "         quantity  amount  \n",
       "orderno                    \n",
       "0            15.0    3000  \n",
       "1            10.0    1190  \n",
       "2             9.0    1593  \n",
       "3             5.0    1215  \n",
       "4             1.0     201  \n",
       "5             7.0     546  \n",
       "6             6.0      84  \n",
       "7            13.0    2951  \n",
       "8             5.0     425  \n",
       "9            14.0    3836  "
      ]
     },
     "execution_count": 31,
     "metadata": {},
     "output_type": "execute_result"
    }
   ],
   "source": [
    "df4_2.head(10)"
   ]
  }
 ],
 "metadata": {
  "kernelspec": {
   "display_name": "Python 3 (ipykernel)",
   "language": "python",
   "name": "python3"
  },
  "language_info": {
   "codemirror_mode": {
    "name": "ipython",
    "version": 3
   },
   "file_extension": ".py",
   "mimetype": "text/x-python",
   "name": "python",
   "nbconvert_exporter": "python",
   "pygments_lexer": "ipython3",
   "version": "3.8.13"
  },
  "toc": {
   "base_numbering": 1,
   "nav_menu": {},
   "number_sections": true,
   "sideBar": true,
   "skip_h1_title": false,
   "title_cell": "Table of Contents",
   "title_sidebar": "Contents",
   "toc_cell": false,
   "toc_position": {
    "height": "calc(100% - 180px)",
    "left": "10px",
    "top": "150px",
    "width": "165px"
   },
   "toc_section_display": true,
   "toc_window_display": false
  }
 },
 "nbformat": 4,
 "nbformat_minor": 5
}
