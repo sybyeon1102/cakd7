{
 "cells": [
  {
   "cell_type": "code",
   "execution_count": 321,
   "id": "cd8a0f1e",
   "metadata": {},
   "outputs": [],
   "source": [
    "import warnings\n",
    "warnings.filterwarnings('ignore')"
   ]
  },
  {
   "cell_type": "code",
   "execution_count": 322,
   "id": "41b3ddc3",
   "metadata": {},
   "outputs": [],
   "source": [
    "import pandas as pd\n",
    "import numpy as np\n",
    "import matplotlib.pyplot as plt\n",
    "import random\n",
    "import math"
   ]
  },
  {
   "cell_type": "markdown",
   "id": "4485f481",
   "metadata": {},
   "source": [
    "# raw 데이터 조작"
   ]
  },
  {
   "cell_type": "code",
   "execution_count": 323,
   "id": "0ebeab85",
   "metadata": {},
   "outputs": [
    {
     "name": "stdout",
     "output_type": "stream",
     "text": [
      "<class 'pandas.core.frame.DataFrame'>\n",
      "Int64Index: 10000 entries, 0 to 9999\n",
      "Data columns (total 12 columns):\n",
      " #   Column    Non-Null Count  Dtype         \n",
      "---  ------    --------------  -----         \n",
      " 0   orderno   10000 non-null  int32         \n",
      " 1   date      10000 non-null  datetime64[ns]\n",
      " 2   day       10000 non-null  object        \n",
      " 3   time      10000 non-null  object        \n",
      " 4   cus_id    10000 non-null  int32         \n",
      " 5   product   10000 non-null  category      \n",
      " 6   price     10000 non-null  int32         \n",
      " 7   quantity  10000 non-null  int32         \n",
      " 8   amount    10000 non-null  int32         \n",
      " 9   gender    10000 non-null  int32         \n",
      " 10  age       10000 non-null  int32         \n",
      " 11  region    10000 non-null  int32         \n",
      "dtypes: category(1), datetime64[ns](1), int32(8), object(2)\n",
      "memory usage: 634.8+ KB\n"
     ]
    },
    {
     "data": {
      "text/html": [
       "<div>\n",
       "<style scoped>\n",
       "    .dataframe tbody tr th:only-of-type {\n",
       "        vertical-align: middle;\n",
       "    }\n",
       "\n",
       "    .dataframe tbody tr th {\n",
       "        vertical-align: top;\n",
       "    }\n",
       "\n",
       "    .dataframe thead th {\n",
       "        text-align: right;\n",
       "    }\n",
       "</style>\n",
       "<table border=\"1\" class=\"dataframe\">\n",
       "  <thead>\n",
       "    <tr style=\"text-align: right;\">\n",
       "      <th></th>\n",
       "      <th>orderno</th>\n",
       "      <th>date</th>\n",
       "      <th>day</th>\n",
       "      <th>time</th>\n",
       "      <th>cus_id</th>\n",
       "      <th>product</th>\n",
       "      <th>price</th>\n",
       "      <th>quantity</th>\n",
       "      <th>amount</th>\n",
       "      <th>gender</th>\n",
       "      <th>age</th>\n",
       "      <th>region</th>\n",
       "    </tr>\n",
       "  </thead>\n",
       "  <tbody>\n",
       "    <tr>\n",
       "      <th>0</th>\n",
       "      <td>0</td>\n",
       "      <td>2020-01-01</td>\n",
       "      <td>Wed</td>\n",
       "      <td>03:35:15</td>\n",
       "      <td>733</td>\n",
       "      <td>20</td>\n",
       "      <td>14440</td>\n",
       "      <td>56</td>\n",
       "      <td>808640</td>\n",
       "      <td>0</td>\n",
       "      <td>72</td>\n",
       "      <td>0</td>\n",
       "    </tr>\n",
       "    <tr>\n",
       "      <th>1</th>\n",
       "      <td>1</td>\n",
       "      <td>2020-01-01</td>\n",
       "      <td>Wed</td>\n",
       "      <td>06:46:52</td>\n",
       "      <td>692</td>\n",
       "      <td>10</td>\n",
       "      <td>40740</td>\n",
       "      <td>49</td>\n",
       "      <td>1996260</td>\n",
       "      <td>1</td>\n",
       "      <td>63</td>\n",
       "      <td>2</td>\n",
       "    </tr>\n",
       "    <tr>\n",
       "      <th>2</th>\n",
       "      <td>2</td>\n",
       "      <td>2020-01-01</td>\n",
       "      <td>Wed</td>\n",
       "      <td>07:54:42</td>\n",
       "      <td>764</td>\n",
       "      <td>30</td>\n",
       "      <td>5520</td>\n",
       "      <td>2</td>\n",
       "      <td>11040</td>\n",
       "      <td>0</td>\n",
       "      <td>76</td>\n",
       "      <td>1</td>\n",
       "    </tr>\n",
       "    <tr>\n",
       "      <th>3</th>\n",
       "      <td>3</td>\n",
       "      <td>2020-01-01</td>\n",
       "      <td>Wed</td>\n",
       "      <td>09:10:55</td>\n",
       "      <td>459</td>\n",
       "      <td>30</td>\n",
       "      <td>8630</td>\n",
       "      <td>4</td>\n",
       "      <td>34520</td>\n",
       "      <td>1</td>\n",
       "      <td>31</td>\n",
       "      <td>0</td>\n",
       "    </tr>\n",
       "    <tr>\n",
       "      <th>4</th>\n",
       "      <td>4</td>\n",
       "      <td>2020-01-01</td>\n",
       "      <td>Wed</td>\n",
       "      <td>13:30:43</td>\n",
       "      <td>760</td>\n",
       "      <td>20</td>\n",
       "      <td>19970</td>\n",
       "      <td>6</td>\n",
       "      <td>119820</td>\n",
       "      <td>0</td>\n",
       "      <td>89</td>\n",
       "      <td>0</td>\n",
       "    </tr>\n",
       "  </tbody>\n",
       "</table>\n",
       "</div>"
      ],
      "text/plain": [
       "   orderno       date  day      time  cus_id product  price  quantity  \\\n",
       "0        0 2020-01-01  Wed  03:35:15     733      20  14440        56   \n",
       "1        1 2020-01-01  Wed  06:46:52     692      10  40740        49   \n",
       "2        2 2020-01-01  Wed  07:54:42     764      30   5520         2   \n",
       "3        3 2020-01-01  Wed  09:10:55     459      30   8630         4   \n",
       "4        4 2020-01-01  Wed  13:30:43     760      20  19970         6   \n",
       "\n",
       "    amount  gender  age  region  \n",
       "0   808640       0   72       0  \n",
       "1  1996260       1   63       2  \n",
       "2    11040       0   76       1  \n",
       "3    34520       1   31       0  \n",
       "4   119820       0   89       0  "
      ]
     },
     "execution_count": 323,
     "metadata": {},
     "output_type": "execute_result"
    }
   ],
   "source": [
    "df = pd.read_pickle('./dataset/integrated_purchase.pkl')\n",
    "df.info()\n",
    "df.head()"
   ]
  },
  {
   "cell_type": "markdown",
   "id": "89cd34ff",
   "metadata": {},
   "source": [
    "## 반영할 인사이트"
   ]
  },
  {
   "cell_type": "markdown",
   "id": "2e00ea3a",
   "metadata": {},
   "source": [
    "### 사용자 정의 함수"
   ]
  },
  {
   "cell_type": "code",
   "execution_count": 324,
   "id": "7a454d23",
   "metadata": {},
   "outputs": [
    {
     "name": "stdout",
     "output_type": "stream",
     "text": [
      "0.537\n",
      "0.565\n",
      "0.546\n",
      "0.512\n",
      "0.591\n",
      "1.0\n",
      "0.512\n",
      "0.535\n",
      "1.0\n",
      "1.0\n"
     ]
    }
   ],
   "source": [
    "def decrease_by_for(by, for_): # for_ % 만큼의 값들에게 by %만큼감소 적용\n",
    "    if np.random.randint(100) > for_: \n",
    "        return 1.0\n",
    "    else:\n",
    "        mul = ((100-by)/100) + np.random.uniform(0.0, 0.1)\n",
    "        return round(mul, 3)\n",
    "for i in range(10):\n",
    "    print(decrease_by_for(50, 50))"
   ]
  },
  {
   "cell_type": "code",
   "execution_count": 325,
   "id": "ceb19919",
   "metadata": {},
   "outputs": [],
   "source": [
    "def increase_by_for(by, for_): # for_ % 만큼의 값들에게 by %만큼증가 적용\n",
    "    if np.random.randint(100) > for_: \n",
    "        return 1.0\n",
    "    else:\n",
    "        mul = ((100+by)/100) + np.random.uniform(0.0, 0.1)\n",
    "        return round(mul, 3)"
   ]
  },
  {
   "cell_type": "markdown",
   "id": "543b17a9",
   "metadata": {},
   "source": [
    "### 남성, 30-50대, 고가 -> 매출 증가"
   ]
  },
  {
   "cell_type": "markdown",
   "id": "9a0355e2",
   "metadata": {},
   "source": [
    "- 조작 전 매출 확인"
   ]
  },
  {
   "cell_type": "code",
   "execution_count": 326,
   "id": "e7c354ea",
   "metadata": {},
   "outputs": [
    {
     "name": "stdout",
     "output_type": "stream",
     "text": [
      "*****columns = Index(['orderno', 'date', 'day', 'time', 'cus_id', 'product', 'price',\n",
      "       'quantity', 'amount', 'gender', 'age', 'region'],\n",
      "      dtype='object')\n",
      "\n",
      "//**********info**********//\n",
      "<class 'pandas.core.frame.DataFrame'>\n",
      "Int64Index: 10000 entries, 0 to 9999\n",
      "Data columns (total 12 columns):\n",
      " #   Column    Non-Null Count  Dtype         \n",
      "---  ------    --------------  -----         \n",
      " 0   orderno   10000 non-null  int32         \n",
      " 1   date      10000 non-null  datetime64[ns]\n",
      " 2   day       10000 non-null  object        \n",
      " 3   time      10000 non-null  object        \n",
      " 4   cus_id    10000 non-null  int32         \n",
      " 5   product   10000 non-null  category      \n",
      " 6   price     10000 non-null  int32         \n",
      " 7   quantity  10000 non-null  int32         \n",
      " 8   amount    10000 non-null  int32         \n",
      " 9   gender    10000 non-null  int32         \n",
      " 10  age       10000 non-null  int32         \n",
      " 11  region    10000 non-null  int32         \n",
      "dtypes: category(1), datetime64[ns](1), int32(8), object(2)\n",
      "memory usage: 634.8+ KB\n",
      "\n",
      "\n",
      "*****1만개 중  852 개 해당\n",
      "\n",
      "//**********조작전**********//\n",
      "*****2020년 매출 8.76 천만원\n",
      "*****2021년 매출 8.63 천만원\n",
      "\n",
      "*****2020년 물건 갯수 2.2 만개\n",
      "*****2021년 물건 갯수 2.2 만개\n"
     ]
    }
   ],
   "source": [
    "df1 = df.copy()\n",
    "\n",
    "print(f'*****columns = {df1.columns}')\n",
    "\n",
    "print('\\n//**********info**********//')\n",
    "df1.info()\n",
    "print('\\n')\n",
    "\n",
    "df1.rename({'product':'product_'}, axis=1, inplace=True)\n",
    "\n",
    "condition1 = (df1.gender == 0)&((df1.age >=30)&(df1.age < 60))&(df1.product_ == 10 )\n",
    "print('*****1만개 중 ', condition1.sum(), '개 해당')\n",
    "\n",
    "print('\\n//**********조작전**********//')\n",
    "print('*****2020년 매출', round(df1.amount[condition1 & (df1.date.dt.year == 2020)].sum()/10**8, 2), '천만원')\n",
    "print('*****2021년 매출', round(df1.amount[condition1 & (df1.date.dt.year == 2021)].sum()/10**8, 2), '천만원')\n",
    "\n",
    "print('\\n*****2020년 물건 갯수', round(df1.quantity[condition1 & (df1.date.dt.year == 2020)].sum()/10**4, 1), '만개')\n",
    "print('*****2021년 물건 갯수', round(df1.quantity[condition1 & (df1.date.dt.year == 2021)].sum()/10**4, 1), '만개')"
   ]
  },
  {
   "cell_type": "markdown",
   "id": "dde3ab03",
   "metadata": {},
   "source": [
    "- 조작 하기\n",
    "- quantity, amount 수정"
   ]
  },
  {
   "cell_type": "code",
   "execution_count": 327,
   "id": "9e4d7273",
   "metadata": {},
   "outputs": [
    {
     "name": "stdout",
     "output_type": "stream",
     "text": [
      "\n"
     ]
    }
   ],
   "source": [
    "sr_q = df1.quantity[condition1 & (df1.date.dt.year == 2021)]\n",
    "\n",
    "sr_q = sr_q.apply(lambda x : x*increase_by_for(50, 50))\n",
    "\n",
    "df1.quantity[condition1 & (df1.date.dt.year == 2021)] = sr_q.apply(lambda x : math.ceil(x))\n",
    "\n",
    "df1.quantity.astype('int')\n",
    "print()"
   ]
  },
  {
   "cell_type": "code",
   "execution_count": 328,
   "id": "fa966092",
   "metadata": {},
   "outputs": [],
   "source": [
    "df1.amount = df1.price*df1.quantity"
   ]
  },
  {
   "cell_type": "code",
   "execution_count": 329,
   "id": "c9d51e4b",
   "metadata": {
    "scrolled": true
   },
   "outputs": [
    {
     "name": "stdout",
     "output_type": "stream",
     "text": [
      "\n",
      "//**********조작후**********//\n",
      "*****2020년 매출 8.76 천만원\n",
      "*****2021년 매출 10.89 천만원\n",
      "\n",
      "*****2020년 물건 갯수 2.2 만개\n",
      "*****2021년 물건 갯수 2.7 만개\n"
     ]
    }
   ],
   "source": [
    "print('\\n//**********조작후**********//')\n",
    "\n",
    "print('*****2020년 매출', round(df1.amount[condition1 & (df1.date.dt.year == 2020)].sum()/10**8, 2), '천만원')\n",
    "print('*****2021년 매출', round(df1.amount[condition1 & (df1.date.dt.year == 2021)].sum()/10**8, 2), '천만원')\n",
    "\n",
    "print('\\n*****2020년 물건 갯수', round(df1.quantity[condition1 & (df1.date.dt.year == 2020)].sum()/10**4, 1), '만개')\n",
    "print('*****2021년 물건 갯수', round(df1.quantity[condition1 & (df1.date.dt.year == 2021)].sum()/10**4, 1), '만개')"
   ]
  },
  {
   "cell_type": "markdown",
   "id": "aacd1fc0",
   "metadata": {},
   "source": [
    "- 50%에 대한 50%니까 25% 증가"
   ]
  },
  {
   "cell_type": "markdown",
   "id": "f0300f9d",
   "metadata": {},
   "source": [
    "### 여성, 20-40대, 저가 -> 매출 증가"
   ]
  },
  {
   "cell_type": "markdown",
   "id": "b68387fb",
   "metadata": {},
   "source": [
    "- 조작 전 매출 확인"
   ]
  },
  {
   "cell_type": "code",
   "execution_count": 330,
   "id": "ccd45d76",
   "metadata": {},
   "outputs": [
    {
     "name": "stdout",
     "output_type": "stream",
     "text": [
      "*****columns = Index(['orderno', 'date', 'day', 'time', 'cus_id', 'product_', 'price',\n",
      "       'quantity', 'amount', 'gender', 'age', 'region'],\n",
      "      dtype='object')\n",
      "\n",
      "//**********info**********//\n",
      "<class 'pandas.core.frame.DataFrame'>\n",
      "Int64Index: 10000 entries, 0 to 9999\n",
      "Data columns (total 12 columns):\n",
      " #   Column    Non-Null Count  Dtype         \n",
      "---  ------    --------------  -----         \n",
      " 0   orderno   10000 non-null  int32         \n",
      " 1   date      10000 non-null  datetime64[ns]\n",
      " 2   day       10000 non-null  object        \n",
      " 3   time      10000 non-null  object        \n",
      " 4   cus_id    10000 non-null  int32         \n",
      " 5   product_  10000 non-null  category      \n",
      " 6   price     10000 non-null  int32         \n",
      " 7   quantity  10000 non-null  int32         \n",
      " 8   amount    10000 non-null  int32         \n",
      " 9   gender    10000 non-null  int32         \n",
      " 10  age       10000 non-null  int32         \n",
      " 11  region    10000 non-null  int32         \n",
      "dtypes: category(1), datetime64[ns](1), int32(8), object(2)\n",
      "memory usage: 892.9+ KB\n",
      "\n",
      "\n",
      "*****1만개 중  400 개 해당\n",
      "\n",
      "//**********조작전**********//\n",
      "*****2020년 매출 0.6 천만원\n",
      "*****2021년 매출 0.52 천만원\n",
      "\n",
      "*****2020년 물건 갯수 1.1 만개\n",
      "*****2021년 물건 갯수 0.9 만개\n"
     ]
    }
   ],
   "source": [
    "df2 = df1.copy()\n",
    "\n",
    "print(f'*****columns = {df2.columns}')\n",
    "\n",
    "print('\\n//**********info**********//')\n",
    "df2.info()\n",
    "print('\\n')\n",
    "\n",
    "df2.rename({'product':'product_'}, axis=1, inplace=True)\n",
    "\n",
    "condition2 = (df2.gender == 1)&((df2.age >=20)&(df2.age < 50))&(df2.product_ == 30 )\n",
    "print('*****1만개 중 ', condition2.sum(), '개 해당')\n",
    "\n",
    "print('\\n//**********조작전**********//')\n",
    "print('*****2020년 매출', round(df2.amount[condition2 & (df2.date.dt.year == 2020)].sum()/10**8, 2), '천만원')\n",
    "print('*****2021년 매출', round(df2.amount[condition2 & (df2.date.dt.year == 2021)].sum()/10**8, 2), '천만원')\n",
    "\n",
    "print('\\n*****2020년 물건 갯수', round(df2.quantity[condition2 & (df2.date.dt.year == 2020)].sum()/10**4, 1), '만개')\n",
    "print('*****2021년 물건 갯수', round(df2.quantity[condition2 & (df2.date.dt.year == 2021)].sum()/10**4, 1), '만개')"
   ]
  },
  {
   "cell_type": "markdown",
   "id": "62de8e56",
   "metadata": {},
   "source": [
    "- 조작 하기\n",
    "- quantity, amount 수정"
   ]
  },
  {
   "cell_type": "code",
   "execution_count": 331,
   "id": "f520189d",
   "metadata": {},
   "outputs": [
    {
     "name": "stdout",
     "output_type": "stream",
     "text": [
      "\n"
     ]
    }
   ],
   "source": [
    "sr_q = df2.quantity[condition2 & (df2.date.dt.year == 2021)]\n",
    "\n",
    "sr_q = sr_q.apply(lambda x : x*increase_by_for(50, 50))\n",
    "\n",
    "df2.quantity[condition2 & (df2.date.dt.year == 2021)] = sr_q.apply(lambda x : math.ceil(x))\n",
    "\n",
    "df2.quantity.astype('int')\n",
    "print()"
   ]
  },
  {
   "cell_type": "code",
   "execution_count": 332,
   "id": "acb6a499",
   "metadata": {},
   "outputs": [],
   "source": [
    "df2.amount = df2.price*df2.quantity"
   ]
  },
  {
   "cell_type": "code",
   "execution_count": 333,
   "id": "d48c7fd2",
   "metadata": {
    "scrolled": true
   },
   "outputs": [
    {
     "name": "stdout",
     "output_type": "stream",
     "text": [
      "\n",
      "//**********조작후**********//\n",
      "*****2020년 매출 0.6 천만원\n",
      "*****2021년 매출 0.69 천만원\n",
      "\n",
      "*****2020년 물건 갯수 1.1 만개\n",
      "*****2021년 물건 갯수 1.2 만개\n"
     ]
    }
   ],
   "source": [
    "print('\\n//**********조작후**********//')\n",
    "\n",
    "print('*****2020년 매출', round(df2.amount[condition2 & (df2.date.dt.year == 2020)].sum()/10**8, 2), '천만원')\n",
    "print('*****2021년 매출', round(df2.amount[condition2 & (df2.date.dt.year == 2021)].sum()/10**8, 2), '천만원')\n",
    "\n",
    "print('\\n*****2020년 물건 갯수', round(df2.quantity[condition2 & (df2.date.dt.year == 2020)].sum()/10**4, 1), '만개')\n",
    "print('*****2021년 물건 갯수', round(df2.quantity[condition2 & (df2.date.dt.year == 2021)].sum()/10**4, 1), '만개')"
   ]
  },
  {
   "cell_type": "markdown",
   "id": "c976fb8b",
   "metadata": {},
   "source": [
    "### 여성, 20-40대, 중&고가 -> 매출 감소"
   ]
  },
  {
   "cell_type": "code",
   "execution_count": 334,
   "id": "a45e1e32",
   "metadata": {},
   "outputs": [
    {
     "name": "stdout",
     "output_type": "stream",
     "text": [
      "*****columns = Index(['orderno', 'date', 'day', 'time', 'cus_id', 'product_', 'price',\n",
      "       'quantity', 'amount', 'gender', 'age', 'region'],\n",
      "      dtype='object')\n",
      "\n",
      "//**********info**********//\n",
      "<class 'pandas.core.frame.DataFrame'>\n",
      "Int64Index: 10000 entries, 0 to 9999\n",
      "Data columns (total 12 columns):\n",
      " #   Column    Non-Null Count  Dtype         \n",
      "---  ------    --------------  -----         \n",
      " 0   orderno   10000 non-null  int32         \n",
      " 1   date      10000 non-null  datetime64[ns]\n",
      " 2   day       10000 non-null  object        \n",
      " 3   time      10000 non-null  object        \n",
      " 4   cus_id    10000 non-null  int32         \n",
      " 5   product_  10000 non-null  category      \n",
      " 6   price     10000 non-null  int32         \n",
      " 7   quantity  10000 non-null  int32         \n",
      " 8   amount    10000 non-null  int32         \n",
      " 9   gender    10000 non-null  int32         \n",
      " 10  age       10000 non-null  int32         \n",
      " 11  region    10000 non-null  int32         \n",
      "dtypes: category(1), datetime64[ns](1), int32(8), object(2)\n",
      "memory usage: 892.9+ KB\n",
      "\n",
      "\n",
      "*****1만개 중  1838 개 해당\n",
      "\n",
      "//**********조작전**********//\n",
      "*****2020년 매출 14.14 천만원\n",
      "*****2021년 매출 13.45 천만원\n",
      "\n",
      "*****2020년 물건 갯수 4.7 만개\n",
      "*****2021년 물건 갯수 4.5 만개\n"
     ]
    }
   ],
   "source": [
    "df3 = df2.copy()\n",
    "\n",
    "print(f'*****columns = {df3.columns}')\n",
    "\n",
    "print('\\n//**********info**********//')\n",
    "df3.info()\n",
    "print('\\n')\n",
    "\n",
    "df3.rename({'product':'product_'}, axis=1, inplace=True)\n",
    "\n",
    "condition3 = (df3.gender == 1)&((df3.age >=20)&(df3.age < 50))&((df3.product_ == 10 ) | (df3.product_ == 20 ))\n",
    "print('*****1만개 중 ', condition3.sum(), '개 해당')\n",
    "\n",
    "print('\\n//**********조작전**********//')\n",
    "print('*****2020년 매출', round(df3.amount[condition3 & (df3.date.dt.year == 2020)].sum()/10**8, 2), '천만원')\n",
    "print('*****2021년 매출', round(df3.amount[condition3 & (df3.date.dt.year == 2021)].sum()/10**8, 2), '천만원')\n",
    "\n",
    "print('\\n*****2020년 물건 갯수', round(df3.quantity[condition3 & (df3.date.dt.year == 2020)].sum()/10**4, 1), '만개')\n",
    "print('*****2021년 물건 갯수', round(df3.quantity[condition3 & (df3.date.dt.year == 2021)].sum()/10**4, 1), '만개')"
   ]
  },
  {
   "cell_type": "markdown",
   "id": "b9cddd37",
   "metadata": {},
   "source": [
    "- 조작 하기\n",
    "- quantity, amount 수정"
   ]
  },
  {
   "cell_type": "code",
   "execution_count": 335,
   "id": "efed8c5f",
   "metadata": {},
   "outputs": [
    {
     "name": "stdout",
     "output_type": "stream",
     "text": [
      "\n"
     ]
    }
   ],
   "source": [
    "sr_q = df3.quantity[condition3 & (df3.date.dt.year == 2021)]\n",
    "\n",
    "sr_q = sr_q.apply(lambda x : x*decrease_by_for(50, 80))\n",
    "\n",
    "df3.quantity[condition3 & (df3.date.dt.year == 2021)] = sr_q.apply(lambda x : math.ceil(x))\n",
    "\n",
    "df3.quantity.astype('int')\n",
    "print()"
   ]
  },
  {
   "cell_type": "code",
   "execution_count": 336,
   "id": "759459b7",
   "metadata": {},
   "outputs": [],
   "source": [
    "df3.amount = df3.price*df3.quantity"
   ]
  },
  {
   "cell_type": "code",
   "execution_count": 337,
   "id": "f51482d3",
   "metadata": {
    "scrolled": true
   },
   "outputs": [
    {
     "name": "stdout",
     "output_type": "stream",
     "text": [
      "\n",
      "//**********조작후**********//\n",
      "*****2020년 매출 14.14 천만원\n",
      "*****2021년 매출 8.56 천만원\n",
      "\n",
      "*****2020년 물건 갯수 4.7 만개\n",
      "*****2021년 물건 갯수 2.9 만개\n"
     ]
    }
   ],
   "source": [
    "print('\\n//**********조작후**********//')\n",
    "\n",
    "print('*****2020년 매출', round(df3.amount[condition3 & (df3.date.dt.year == 2020)].sum()/10**8, 2), '천만원')\n",
    "print('*****2021년 매출', round(df3.amount[condition3 & (df3.date.dt.year == 2021)].sum()/10**8, 2), '천만원')\n",
    "\n",
    "print('\\n*****2020년 물건 갯수', round(df3.quantity[condition3 & (df3.date.dt.year == 2020)].sum()/10**4, 1), '만개')\n",
    "print('*****2021년 물건 갯수', round(df3.quantity[condition3 & (df3.date.dt.year == 2021)].sum()/10**4, 1), '만개')"
   ]
  },
  {
   "cell_type": "code",
   "execution_count": null,
   "id": "31721e61",
   "metadata": {},
   "outputs": [],
   "source": []
  },
  {
   "cell_type": "code",
   "execution_count": null,
   "id": "b1542c9a",
   "metadata": {},
   "outputs": [],
   "source": []
  },
  {
   "cell_type": "code",
   "execution_count": null,
   "id": "7afe6f06",
   "metadata": {},
   "outputs": [],
   "source": []
  },
  {
   "cell_type": "markdown",
   "id": "e8f68e07",
   "metadata": {},
   "source": [
    "### D도시, 저가 -> 매출 감소\n",
    "- 인데 지금 데이터에는 D도시가 없어서 B도시(region = 1)로"
   ]
  },
  {
   "cell_type": "code",
   "execution_count": 338,
   "id": "d2860dfc",
   "metadata": {},
   "outputs": [
    {
     "data": {
      "text/plain": [
       "array([0, 2, 1])"
      ]
     },
     "execution_count": 338,
     "metadata": {},
     "output_type": "execute_result"
    }
   ],
   "source": [
    "df3.region.unique()"
   ]
  },
  {
   "cell_type": "code",
   "execution_count": 339,
   "id": "e61d9ae7",
   "metadata": {},
   "outputs": [
    {
     "name": "stdout",
     "output_type": "stream",
     "text": [
      "*****columns = Index(['orderno', 'date', 'day', 'time', 'cus_id', 'product_', 'price',\n",
      "       'quantity', 'amount', 'gender', 'age', 'region'],\n",
      "      dtype='object')\n",
      "\n",
      "//**********info**********//\n",
      "<class 'pandas.core.frame.DataFrame'>\n",
      "Int64Index: 10000 entries, 0 to 9999\n",
      "Data columns (total 12 columns):\n",
      " #   Column    Non-Null Count  Dtype         \n",
      "---  ------    --------------  -----         \n",
      " 0   orderno   10000 non-null  int32         \n",
      " 1   date      10000 non-null  datetime64[ns]\n",
      " 2   day       10000 non-null  object        \n",
      " 3   time      10000 non-null  object        \n",
      " 4   cus_id    10000 non-null  int32         \n",
      " 5   product_  10000 non-null  category      \n",
      " 6   price     10000 non-null  int32         \n",
      " 7   quantity  10000 non-null  int32         \n",
      " 8   amount    10000 non-null  int32         \n",
      " 9   gender    10000 non-null  int32         \n",
      " 10  age       10000 non-null  int32         \n",
      " 11  region    10000 non-null  int32         \n",
      "dtypes: category(1), datetime64[ns](1), int32(8), object(2)\n",
      "memory usage: 892.9+ KB\n",
      "\n",
      "\n",
      "*****1만개 중  1838 개 해당\n",
      "\n",
      "//**********조작전**********//\n",
      "*****2020년 매출 14.14 천만원\n",
      "*****2021년 매출 8.56 천만원\n",
      "\n",
      "*****2020년 물건 갯수 4.7 만개\n",
      "*****2021년 물건 갯수 2.9 만개\n"
     ]
    }
   ],
   "source": [
    "df4 = df3.copy()\n",
    "\n",
    "print(f'*****columns = {df4.columns}')\n",
    "\n",
    "print('\\n//**********info**********//')\n",
    "df4.info()\n",
    "print('\\n')\n",
    "\n",
    "df4.rename({'product':'product_'}, axis=1, inplace=True)\n",
    "\n",
    "condition4 = (df4.gender == 1)&((df4.age >=20)&(df4.age < 50))&((df4.product_ == 10 ) | (df4.product_ == 20 ))\n",
    "print('*****1만개 중 ', condition4.sum(), '개 해당')\n",
    "\n",
    "print('\\n//**********조작전**********//')\n",
    "print('*****2020년 매출', round(df4.amount[condition4 & (df4.date.dt.year == 2020)].sum()/10**8, 2), '천만원')\n",
    "print('*****2021년 매출', round(df4.amount[condition4 & (df4.date.dt.year == 2021)].sum()/10**8, 2), '천만원')\n",
    "\n",
    "print('\\n*****2020년 물건 갯수', round(df4.quantity[condition4 & (df4.date.dt.year == 2020)].sum()/10**4, 1), '만개')\n",
    "print('*****2021년 물건 갯수', round(df4.quantity[condition4 & (df4.date.dt.year == 2021)].sum()/10**4, 1), '만개')"
   ]
  },
  {
   "cell_type": "markdown",
   "id": "bee57169",
   "metadata": {},
   "source": [
    "- 조작 하기\n",
    "- quantity, amount 수정"
   ]
  },
  {
   "cell_type": "code",
   "execution_count": 340,
   "id": "0d52031a",
   "metadata": {},
   "outputs": [
    {
     "name": "stdout",
     "output_type": "stream",
     "text": [
      "\n"
     ]
    }
   ],
   "source": [
    "sr_q = df4.quantity[condition4 & (df4.date.dt.year == 2021)]\n",
    "\n",
    "sr_q = sr_q.apply(lambda x : x*decrease_by_for(50, 80))\n",
    "\n",
    "df4.quantity[condition4 & (df4.date.dt.year == 2021)] = sr_q.apply(lambda x : math.ceil(x))\n",
    "\n",
    "df4.quantity.astype('int')\n",
    "print()"
   ]
  },
  {
   "cell_type": "code",
   "execution_count": 341,
   "id": "bdabe991",
   "metadata": {},
   "outputs": [],
   "source": [
    "df4.amount = df4.price*df4.quantity"
   ]
  },
  {
   "cell_type": "code",
   "execution_count": 342,
   "id": "2f367818",
   "metadata": {
    "scrolled": true
   },
   "outputs": [
    {
     "name": "stdout",
     "output_type": "stream",
     "text": [
      "\n",
      "//**********조작후**********//\n",
      "*****2020년 매출 14.14 천만원\n",
      "*****2021년 매출 5.61 천만원\n",
      "\n",
      "*****2020년 물건 갯수 4.7 만개\n",
      "*****2021년 물건 갯수 1.9 만개\n"
     ]
    }
   ],
   "source": [
    "print('\\n//**********조작후**********//')\n",
    "\n",
    "print('*****2020년 매출', round(df4.amount[condition4 & (df4.date.dt.year == 2020)].sum()/10**8, 2), '천만원')\n",
    "print('*****2021년 매출', round(df4.amount[condition4 & (df4.date.dt.year == 2021)].sum()/10**8, 2), '천만원')\n",
    "\n",
    "print('\\n*****2020년 물건 갯수', round(df4.quantity[condition4 & (df4.date.dt.year == 2020)].sum()/10**4, 1), '만개')\n",
    "print('*****2021년 물건 갯수', round(df4.quantity[condition4 & (df4.date.dt.year == 2021)].sum()/10**4, 1), '만개')"
   ]
  },
  {
   "cell_type": "markdown",
   "id": "5dda2df1",
   "metadata": {},
   "source": [
    "# 요약 데이터 생성"
   ]
  },
  {
   "cell_type": "code",
   "execution_count": 373,
   "id": "65f8922a",
   "metadata": {},
   "outputs": [],
   "source": [
    "df_c = pd.read_pickle('./dataset/customers.pkl')"
   ]
  },
  {
   "cell_type": "markdown",
   "id": "b2c1d35f",
   "metadata": {},
   "source": [
    "## 조작된 dataset의 요약 데이터 - df4(조작된 raw데이타)를 종합해서 df_c에 붙임"
   ]
  },
  {
   "cell_type": "code",
   "execution_count": 343,
   "id": "8678486c",
   "metadata": {
    "scrolled": false
   },
   "outputs": [
    {
     "data": {
      "text/html": [
       "<div>\n",
       "<style scoped>\n",
       "    .dataframe tbody tr th:only-of-type {\n",
       "        vertical-align: middle;\n",
       "    }\n",
       "\n",
       "    .dataframe tbody tr th {\n",
       "        vertical-align: top;\n",
       "    }\n",
       "\n",
       "    .dataframe thead th {\n",
       "        text-align: right;\n",
       "    }\n",
       "</style>\n",
       "<table border=\"1\" class=\"dataframe\">\n",
       "  <thead>\n",
       "    <tr style=\"text-align: right;\">\n",
       "      <th></th>\n",
       "      <th>cus_id</th>\n",
       "      <th>gender</th>\n",
       "      <th>age</th>\n",
       "      <th>region</th>\n",
       "    </tr>\n",
       "  </thead>\n",
       "  <tbody>\n",
       "    <tr>\n",
       "      <th>0</th>\n",
       "      <td>0</td>\n",
       "      <td>0</td>\n",
       "      <td>38</td>\n",
       "      <td>0</td>\n",
       "    </tr>\n",
       "    <tr>\n",
       "      <th>1</th>\n",
       "      <td>1</td>\n",
       "      <td>0</td>\n",
       "      <td>61</td>\n",
       "      <td>2</td>\n",
       "    </tr>\n",
       "    <tr>\n",
       "      <th>2</th>\n",
       "      <td>2</td>\n",
       "      <td>1</td>\n",
       "      <td>38</td>\n",
       "      <td>2</td>\n",
       "    </tr>\n",
       "    <tr>\n",
       "      <th>3</th>\n",
       "      <td>3</td>\n",
       "      <td>0</td>\n",
       "      <td>30</td>\n",
       "      <td>2</td>\n",
       "    </tr>\n",
       "    <tr>\n",
       "      <th>4</th>\n",
       "      <td>4</td>\n",
       "      <td>0</td>\n",
       "      <td>49</td>\n",
       "      <td>1</td>\n",
       "    </tr>\n",
       "  </tbody>\n",
       "</table>\n",
       "</div>"
      ],
      "text/plain": [
       "   cus_id  gender  age  region\n",
       "0       0       0   38       0\n",
       "1       1       0   61       2\n",
       "2       2       1   38       2\n",
       "3       3       0   30       2\n",
       "4       4       0   49       1"
      ]
     },
     "execution_count": 343,
     "metadata": {},
     "output_type": "execute_result"
    }
   ],
   "source": [
    "df_cus = df_c.copy()\n",
    "df_cus.head()"
   ]
  },
  {
   "cell_type": "code",
   "execution_count": 374,
   "id": "aa7660eb",
   "metadata": {},
   "outputs": [
    {
     "data": {
      "text/html": [
       "<div>\n",
       "<style scoped>\n",
       "    .dataframe tbody tr th:only-of-type {\n",
       "        vertical-align: middle;\n",
       "    }\n",
       "\n",
       "    .dataframe tbody tr th {\n",
       "        vertical-align: top;\n",
       "    }\n",
       "\n",
       "    .dataframe thead th {\n",
       "        text-align: right;\n",
       "    }\n",
       "</style>\n",
       "<table border=\"1\" class=\"dataframe\">\n",
       "  <thead>\n",
       "    <tr style=\"text-align: right;\">\n",
       "      <th></th>\n",
       "      <th>orderno</th>\n",
       "      <th>date</th>\n",
       "      <th>day</th>\n",
       "      <th>time</th>\n",
       "      <th>cus_id</th>\n",
       "      <th>product_</th>\n",
       "      <th>price</th>\n",
       "      <th>quantity</th>\n",
       "      <th>amount</th>\n",
       "      <th>gender</th>\n",
       "      <th>age</th>\n",
       "      <th>region</th>\n",
       "    </tr>\n",
       "  </thead>\n",
       "  <tbody>\n",
       "    <tr>\n",
       "      <th>0</th>\n",
       "      <td>0</td>\n",
       "      <td>2020-01-01</td>\n",
       "      <td>Wed</td>\n",
       "      <td>03:35:15</td>\n",
       "      <td>733</td>\n",
       "      <td>20</td>\n",
       "      <td>14440</td>\n",
       "      <td>56</td>\n",
       "      <td>808640</td>\n",
       "      <td>0</td>\n",
       "      <td>72</td>\n",
       "      <td>0</td>\n",
       "    </tr>\n",
       "    <tr>\n",
       "      <th>1</th>\n",
       "      <td>1</td>\n",
       "      <td>2020-01-01</td>\n",
       "      <td>Wed</td>\n",
       "      <td>06:46:52</td>\n",
       "      <td>692</td>\n",
       "      <td>10</td>\n",
       "      <td>40740</td>\n",
       "      <td>49</td>\n",
       "      <td>1996260</td>\n",
       "      <td>1</td>\n",
       "      <td>63</td>\n",
       "      <td>2</td>\n",
       "    </tr>\n",
       "    <tr>\n",
       "      <th>2</th>\n",
       "      <td>2</td>\n",
       "      <td>2020-01-01</td>\n",
       "      <td>Wed</td>\n",
       "      <td>07:54:42</td>\n",
       "      <td>764</td>\n",
       "      <td>30</td>\n",
       "      <td>5520</td>\n",
       "      <td>2</td>\n",
       "      <td>11040</td>\n",
       "      <td>0</td>\n",
       "      <td>76</td>\n",
       "      <td>1</td>\n",
       "    </tr>\n",
       "    <tr>\n",
       "      <th>3</th>\n",
       "      <td>3</td>\n",
       "      <td>2020-01-01</td>\n",
       "      <td>Wed</td>\n",
       "      <td>09:10:55</td>\n",
       "      <td>459</td>\n",
       "      <td>30</td>\n",
       "      <td>8630</td>\n",
       "      <td>4</td>\n",
       "      <td>34520</td>\n",
       "      <td>1</td>\n",
       "      <td>31</td>\n",
       "      <td>0</td>\n",
       "    </tr>\n",
       "    <tr>\n",
       "      <th>4</th>\n",
       "      <td>4</td>\n",
       "      <td>2020-01-01</td>\n",
       "      <td>Wed</td>\n",
       "      <td>13:30:43</td>\n",
       "      <td>760</td>\n",
       "      <td>20</td>\n",
       "      <td>19970</td>\n",
       "      <td>6</td>\n",
       "      <td>119820</td>\n",
       "      <td>0</td>\n",
       "      <td>89</td>\n",
       "      <td>0</td>\n",
       "    </tr>\n",
       "  </tbody>\n",
       "</table>\n",
       "</div>"
      ],
      "text/plain": [
       "   orderno       date  day      time  cus_id product_  price  quantity  \\\n",
       "0        0 2020-01-01  Wed  03:35:15     733       20  14440        56   \n",
       "1        1 2020-01-01  Wed  06:46:52     692       10  40740        49   \n",
       "2        2 2020-01-01  Wed  07:54:42     764       30   5520         2   \n",
       "3        3 2020-01-01  Wed  09:10:55     459       30   8630         4   \n",
       "4        4 2020-01-01  Wed  13:30:43     760       20  19970         6   \n",
       "\n",
       "    amount  gender  age  region  \n",
       "0   808640       0   72       0  \n",
       "1  1996260       1   63       2  \n",
       "2    11040       0   76       1  \n",
       "3    34520       1   31       0  \n",
       "4   119820       0   89       0  "
      ]
     },
     "execution_count": 374,
     "metadata": {},
     "output_type": "execute_result"
    }
   ],
   "source": [
    "df4.head()"
   ]
  },
  {
   "cell_type": "code",
   "execution_count": 344,
   "id": "4515798a",
   "metadata": {},
   "outputs": [],
   "source": [
    "df5 = df4.copy()\n",
    "\n",
    "cus_amount_20p10 = []\n",
    "cus_amount_21p10 = []\n",
    "cus_amount_20p20 = []\n",
    "cus_amount_21p20 = []\n",
    "cus_amount_20p30 = []\n",
    "cus_amount_21p30 = []"
   ]
  },
  {
   "cell_type": "code",
   "execution_count": 345,
   "id": "6bccd6d4",
   "metadata": {},
   "outputs": [],
   "source": [
    "for id_ in df_cus.cus_id:\n",
    "    amount_20p10 = df5.amount[(df5.cus_id == id_) & (df5.date.dt.year == 2020)\n",
    "                             &(df5.product_ == 10)].sum()\n",
    "    amount_20p20 =  df5.amount[(df5.cus_id == id_) & (df5.date.dt.year == 2020)\n",
    "                             &(df5.product_ == 20)].sum()\n",
    "    amount_20p30 =  df5.amount[(df5.cus_id == id_) & (df5.date.dt.year == 2020)\n",
    "                             &(df5.product_ == 30)].sum()\n",
    "    \n",
    "    amount_21p10 = df5.amount[(df5.cus_id == id_) & (df5.date.dt.year == 2021)\n",
    "                         &(df5.product_ == 10)].sum()\n",
    "    amount_21p20 =  df5.amount[(df5.cus_id == id_) & (df5.date.dt.year == 2021)\n",
    "                         &(df5.product_ == 20)].sum()\n",
    "    amount_21p30 =  df5.amount[(df5.cus_id == id_) & (df5.date.dt.year == 2021)\n",
    "                         &(df5.product_ == 30)].sum()\n",
    "    \n",
    "    cus_amount_20p10.append(amount_20p10)\n",
    "    cus_amount_20p20.append(amount_20p20)\n",
    "    cus_amount_20p30.append(amount_20p30)\n",
    "\n",
    "    cus_amount_21p10.append(amount_21p10)\n",
    "    cus_amount_21p20.append(amount_21p20)\n",
    "    cus_amount_21p30.append(amount_21p30)"
   ]
  },
  {
   "cell_type": "code",
   "execution_count": 346,
   "id": "1dc014e6",
   "metadata": {},
   "outputs": [],
   "source": [
    "df_cus['amount_20p10'] = cus_amount_20p10\n",
    "df_cus['amount_20p20'] = cus_amount_20p20\n",
    "df_cus['amount_20p30'] = cus_amount_20p30\n",
    "\n",
    "df_cus['amount_21p10'] = cus_amount_21p10\n",
    "df_cus['amount_21p20'] = cus_amount_21p20\n",
    "df_cus['amount_21p30'] = cus_amount_21p30"
   ]
  },
  {
   "cell_type": "code",
   "execution_count": 347,
   "id": "612971fa",
   "metadata": {},
   "outputs": [
    {
     "data": {
      "text/html": [
       "<div>\n",
       "<style scoped>\n",
       "    .dataframe tbody tr th:only-of-type {\n",
       "        vertical-align: middle;\n",
       "    }\n",
       "\n",
       "    .dataframe tbody tr th {\n",
       "        vertical-align: top;\n",
       "    }\n",
       "\n",
       "    .dataframe thead th {\n",
       "        text-align: right;\n",
       "    }\n",
       "</style>\n",
       "<table border=\"1\" class=\"dataframe\">\n",
       "  <thead>\n",
       "    <tr style=\"text-align: right;\">\n",
       "      <th></th>\n",
       "      <th>cus_id</th>\n",
       "      <th>gender</th>\n",
       "      <th>age</th>\n",
       "      <th>region</th>\n",
       "      <th>amount_20p10</th>\n",
       "      <th>amount_20p20</th>\n",
       "      <th>amount_20p30</th>\n",
       "      <th>amount_21p10</th>\n",
       "      <th>amount_21p20</th>\n",
       "      <th>amount_21p30</th>\n",
       "    </tr>\n",
       "  </thead>\n",
       "  <tbody>\n",
       "    <tr>\n",
       "      <th>0</th>\n",
       "      <td>0</td>\n",
       "      <td>0</td>\n",
       "      <td>38</td>\n",
       "      <td>0</td>\n",
       "      <td>6597700</td>\n",
       "      <td>1449630</td>\n",
       "      <td>0</td>\n",
       "      <td>0</td>\n",
       "      <td>0</td>\n",
       "      <td>0</td>\n",
       "    </tr>\n",
       "    <tr>\n",
       "      <th>1</th>\n",
       "      <td>1</td>\n",
       "      <td>0</td>\n",
       "      <td>61</td>\n",
       "      <td>2</td>\n",
       "      <td>2229310</td>\n",
       "      <td>4665570</td>\n",
       "      <td>0</td>\n",
       "      <td>9094380</td>\n",
       "      <td>1660070</td>\n",
       "      <td>0</td>\n",
       "    </tr>\n",
       "    <tr>\n",
       "      <th>2</th>\n",
       "      <td>2</td>\n",
       "      <td>1</td>\n",
       "      <td>38</td>\n",
       "      <td>2</td>\n",
       "      <td>1817720</td>\n",
       "      <td>0</td>\n",
       "      <td>445600</td>\n",
       "      <td>0</td>\n",
       "      <td>669830</td>\n",
       "      <td>0</td>\n",
       "    </tr>\n",
       "    <tr>\n",
       "      <th>3</th>\n",
       "      <td>3</td>\n",
       "      <td>0</td>\n",
       "      <td>30</td>\n",
       "      <td>2</td>\n",
       "      <td>2232160</td>\n",
       "      <td>4153600</td>\n",
       "      <td>521460</td>\n",
       "      <td>6392570</td>\n",
       "      <td>3205930</td>\n",
       "      <td>502110</td>\n",
       "    </tr>\n",
       "    <tr>\n",
       "      <th>4</th>\n",
       "      <td>4</td>\n",
       "      <td>0</td>\n",
       "      <td>49</td>\n",
       "      <td>1</td>\n",
       "      <td>3016800</td>\n",
       "      <td>977200</td>\n",
       "      <td>27360</td>\n",
       "      <td>1184400</td>\n",
       "      <td>2578420</td>\n",
       "      <td>608720</td>\n",
       "    </tr>\n",
       "  </tbody>\n",
       "</table>\n",
       "</div>"
      ],
      "text/plain": [
       "   cus_id  gender  age  region  amount_20p10  amount_20p20  amount_20p30  \\\n",
       "0       0       0   38       0       6597700       1449630             0   \n",
       "1       1       0   61       2       2229310       4665570             0   \n",
       "2       2       1   38       2       1817720             0        445600   \n",
       "3       3       0   30       2       2232160       4153600        521460   \n",
       "4       4       0   49       1       3016800        977200         27360   \n",
       "\n",
       "   amount_21p10  amount_21p20  amount_21p30  \n",
       "0             0             0             0  \n",
       "1       9094380       1660070             0  \n",
       "2             0        669830             0  \n",
       "3       6392570       3205930        502110  \n",
       "4       1184400       2578420        608720  "
      ]
     },
     "execution_count": 347,
     "metadata": {},
     "output_type": "execute_result"
    }
   ],
   "source": [
    "df_cus.head()"
   ]
  },
  {
   "cell_type": "code",
   "execution_count": 348,
   "id": "70983bdd",
   "metadata": {},
   "outputs": [],
   "source": [
    "# amount 가 세개로 찢어지는데 sales에 뭔 의미가 있을까?\n",
    "# df_cus['sales'] = np.where(df_cus.amount_20<df_cus.amount_21, 1, 0)"
   ]
  },
  {
   "cell_type": "code",
   "execution_count": 349,
   "id": "e299184c",
   "metadata": {},
   "outputs": [],
   "source": [
    "df_cus.gender.replace({0:'male', 1: 'female'}, inplace=True)\n",
    "df_cus.gender = df_cus.gender.astype('category')"
   ]
  },
  {
   "cell_type": "code",
   "execution_count": 350,
   "id": "867049a9",
   "metadata": {},
   "outputs": [],
   "source": [
    "df_cus.age = pd.cut(x = df_cus.age, #데이터 배열\n",
    "                         bins=[17, 20, 30, 40, 50, 60, 70, 80, 89], # 경계값 리스트\n",
    "                         labels=['10s', '20s', '30s', '40s', '50s', '60s', '70s', '80s'], #bin 이름\n",
    "                         include_lowest=True) #첫 경계값 포함"
   ]
  },
  {
   "cell_type": "code",
   "execution_count": 351,
   "id": "35735905",
   "metadata": {},
   "outputs": [],
   "source": [
    "df_cus.region.replace({0:'cityA', 1: 'cityB', 2:'cityC'}, inplace=True)\n",
    "df_cus.region = df_cus.region.astype('category')"
   ]
  },
  {
   "cell_type": "code",
   "execution_count": 352,
   "id": "47ac0181",
   "metadata": {},
   "outputs": [
    {
     "data": {
      "text/html": [
       "<div>\n",
       "<style scoped>\n",
       "    .dataframe tbody tr th:only-of-type {\n",
       "        vertical-align: middle;\n",
       "    }\n",
       "\n",
       "    .dataframe tbody tr th {\n",
       "        vertical-align: top;\n",
       "    }\n",
       "\n",
       "    .dataframe thead th {\n",
       "        text-align: right;\n",
       "    }\n",
       "</style>\n",
       "<table border=\"1\" class=\"dataframe\">\n",
       "  <thead>\n",
       "    <tr style=\"text-align: right;\">\n",
       "      <th></th>\n",
       "      <th>cus_id</th>\n",
       "      <th>gender</th>\n",
       "      <th>age</th>\n",
       "      <th>region</th>\n",
       "      <th>amount_20p10</th>\n",
       "      <th>amount_20p20</th>\n",
       "      <th>amount_20p30</th>\n",
       "      <th>amount_21p10</th>\n",
       "      <th>amount_21p20</th>\n",
       "      <th>amount_21p30</th>\n",
       "    </tr>\n",
       "  </thead>\n",
       "  <tbody>\n",
       "    <tr>\n",
       "      <th>0</th>\n",
       "      <td>0</td>\n",
       "      <td>male</td>\n",
       "      <td>30s</td>\n",
       "      <td>cityA</td>\n",
       "      <td>660</td>\n",
       "      <td>145</td>\n",
       "      <td>0</td>\n",
       "      <td>0</td>\n",
       "      <td>0</td>\n",
       "      <td>0</td>\n",
       "    </tr>\n",
       "    <tr>\n",
       "      <th>1</th>\n",
       "      <td>1</td>\n",
       "      <td>male</td>\n",
       "      <td>60s</td>\n",
       "      <td>cityC</td>\n",
       "      <td>223</td>\n",
       "      <td>467</td>\n",
       "      <td>0</td>\n",
       "      <td>909</td>\n",
       "      <td>166</td>\n",
       "      <td>0</td>\n",
       "    </tr>\n",
       "    <tr>\n",
       "      <th>2</th>\n",
       "      <td>2</td>\n",
       "      <td>female</td>\n",
       "      <td>30s</td>\n",
       "      <td>cityC</td>\n",
       "      <td>182</td>\n",
       "      <td>0</td>\n",
       "      <td>45</td>\n",
       "      <td>0</td>\n",
       "      <td>67</td>\n",
       "      <td>0</td>\n",
       "    </tr>\n",
       "    <tr>\n",
       "      <th>3</th>\n",
       "      <td>3</td>\n",
       "      <td>male</td>\n",
       "      <td>20s</td>\n",
       "      <td>cityC</td>\n",
       "      <td>223</td>\n",
       "      <td>415</td>\n",
       "      <td>52</td>\n",
       "      <td>639</td>\n",
       "      <td>321</td>\n",
       "      <td>50</td>\n",
       "    </tr>\n",
       "    <tr>\n",
       "      <th>4</th>\n",
       "      <td>4</td>\n",
       "      <td>male</td>\n",
       "      <td>40s</td>\n",
       "      <td>cityB</td>\n",
       "      <td>302</td>\n",
       "      <td>98</td>\n",
       "      <td>3</td>\n",
       "      <td>118</td>\n",
       "      <td>258</td>\n",
       "      <td>61</td>\n",
       "    </tr>\n",
       "  </tbody>\n",
       "</table>\n",
       "</div>"
      ],
      "text/plain": [
       "   cus_id  gender  age region  amount_20p10  amount_20p20  amount_20p30  \\\n",
       "0       0    male  30s  cityA           660           145             0   \n",
       "1       1    male  60s  cityC           223           467             0   \n",
       "2       2  female  30s  cityC           182             0            45   \n",
       "3       3    male  20s  cityC           223           415            52   \n",
       "4       4    male  40s  cityB           302            98             3   \n",
       "\n",
       "   amount_21p10  amount_21p20  amount_21p30  \n",
       "0             0             0             0  \n",
       "1           909           166             0  \n",
       "2             0            67             0  \n",
       "3           639           321            50  \n",
       "4           118           258            61  "
      ]
     },
     "execution_count": 352,
     "metadata": {},
     "output_type": "execute_result"
    }
   ],
   "source": [
    "df_cus.amount_20p10 = (df_cus.amount_20p10/10**4).round().astype('int')\n",
    "df_cus.amount_20p20 = (df_cus.amount_20p20/10**4).round().astype('int')\n",
    "df_cus.amount_20p30 = (df_cus.amount_20p30/10**4).round().astype('int')\n",
    "df_cus.amount_21p10 = (df_cus.amount_21p10/10**4).round().astype('int')\n",
    "df_cus.amount_21p20 = (df_cus.amount_21p20/10**4).round().astype('int')\n",
    "df_cus.amount_21p30 = (df_cus.amount_21p30/10**4).round().astype('int')\n",
    "\n",
    "df_cus.head()"
   ]
  },
  {
   "cell_type": "markdown",
   "id": "f02cbed5",
   "metadata": {},
   "source": [
    "## 원래 dataset의 요약 데이터 - df(원래 raw데이타)를 종합해서 df_c에 붙임"
   ]
  },
  {
   "cell_type": "code",
   "execution_count": 375,
   "id": "8e2f47cc",
   "metadata": {
    "scrolled": false
   },
   "outputs": [
    {
     "data": {
      "text/html": [
       "<div>\n",
       "<style scoped>\n",
       "    .dataframe tbody tr th:only-of-type {\n",
       "        vertical-align: middle;\n",
       "    }\n",
       "\n",
       "    .dataframe tbody tr th {\n",
       "        vertical-align: top;\n",
       "    }\n",
       "\n",
       "    .dataframe thead th {\n",
       "        text-align: right;\n",
       "    }\n",
       "</style>\n",
       "<table border=\"1\" class=\"dataframe\">\n",
       "  <thead>\n",
       "    <tr style=\"text-align: right;\">\n",
       "      <th></th>\n",
       "      <th>cus_id</th>\n",
       "      <th>gender</th>\n",
       "      <th>age</th>\n",
       "      <th>region</th>\n",
       "    </tr>\n",
       "  </thead>\n",
       "  <tbody>\n",
       "    <tr>\n",
       "      <th>0</th>\n",
       "      <td>0</td>\n",
       "      <td>0</td>\n",
       "      <td>38</td>\n",
       "      <td>0</td>\n",
       "    </tr>\n",
       "    <tr>\n",
       "      <th>1</th>\n",
       "      <td>1</td>\n",
       "      <td>0</td>\n",
       "      <td>61</td>\n",
       "      <td>2</td>\n",
       "    </tr>\n",
       "    <tr>\n",
       "      <th>2</th>\n",
       "      <td>2</td>\n",
       "      <td>1</td>\n",
       "      <td>38</td>\n",
       "      <td>2</td>\n",
       "    </tr>\n",
       "    <tr>\n",
       "      <th>3</th>\n",
       "      <td>3</td>\n",
       "      <td>0</td>\n",
       "      <td>30</td>\n",
       "      <td>2</td>\n",
       "    </tr>\n",
       "    <tr>\n",
       "      <th>4</th>\n",
       "      <td>4</td>\n",
       "      <td>0</td>\n",
       "      <td>49</td>\n",
       "      <td>1</td>\n",
       "    </tr>\n",
       "  </tbody>\n",
       "</table>\n",
       "</div>"
      ],
      "text/plain": [
       "   cus_id  gender  age  region\n",
       "0       0       0   38       0\n",
       "1       1       0   61       2\n",
       "2       2       1   38       2\n",
       "3       3       0   30       2\n",
       "4       4       0   49       1"
      ]
     },
     "execution_count": 375,
     "metadata": {},
     "output_type": "execute_result"
    }
   ],
   "source": [
    "df_c1 = df_c.copy()\n",
    "df_c1.head()"
   ]
  },
  {
   "cell_type": "code",
   "execution_count": 378,
   "id": "9a51288f",
   "metadata": {},
   "outputs": [],
   "source": [
    "df_r = df.copy()\n",
    "\n",
    "cus_amount_20p10 = []\n",
    "cus_amount_21p10 = []\n",
    "cus_amount_20p20 = []\n",
    "cus_amount_21p20 = []\n",
    "cus_amount_20p30 = []\n",
    "cus_amount_21p30 = []"
   ]
  },
  {
   "cell_type": "code",
   "execution_count": 379,
   "id": "c218a409",
   "metadata": {},
   "outputs": [],
   "source": [
    "for id_ in df_c1.cus_id:\n",
    "    amount_20p10 = df_r.amount[(df_r.cus_id == id_) & (df_r.date.dt.year == 2020)\n",
    "                             &(df_r.product_ == 10)].sum()\n",
    "    amount_20p20 =  df_r.amount[(df5.cus_id == id_) & (df5.date.dt.year == 2020)\n",
    "                             &(df5.product_ == 20)].sum()\n",
    "    amount_20p30 =  df5.amount[(df5.cus_id == id_) & (df_r.date.dt.year == 2020)\n",
    "                             &(df_r.product_ == 30)].sum()\n",
    "    \n",
    "    amount_21p10 = df_r.amount[(df_r.cus_id == id_) & (df_r.date.dt.year == 2021)\n",
    "                         &(df_r.product_ == 10)].sum()\n",
    "    amount_21p20 =  df_r.amount[(df_r.cus_id == id_) & (df_r.date.dt.year == 2021)\n",
    "                         &(df_r.product_ == 20)].sum()\n",
    "    amount_21p30 =  df_r.amount[(df_r.cus_id == id_) & (df_r.date.dt.year == 2021)\n",
    "                         &(df_r.product_ == 30)].sum()\n",
    "    \n",
    "    cus_amount_20p10.append(amount_20p10)\n",
    "    cus_amount_20p20.append(amount_20p20)\n",
    "    cus_amount_20p30.append(amount_20p30)\n",
    "\n",
    "    cus_amount_21p10.append(amount_21p10)\n",
    "    cus_amount_21p20.append(amount_21p20)\n",
    "    cus_amount_21p30.append(amount_21p30)"
   ]
  },
  {
   "cell_type": "code",
   "execution_count": 380,
   "id": "66a1a865",
   "metadata": {},
   "outputs": [],
   "source": [
    "df_c1['amount_20p10'] = cus_amount_20p10\n",
    "df_c1['amount_20p20'] = cus_amount_20p20\n",
    "df_c1['amount_20p30'] = cus_amount_20p30\n",
    "\n",
    "df_c1['amount_21p10'] = cus_amount_21p10\n",
    "df_c1['amount_21p20'] = cus_amount_21p20\n",
    "df_c1['amount_21p30'] = cus_amount_21p30"
   ]
  },
  {
   "cell_type": "code",
   "execution_count": 381,
   "id": "2cc08b2c",
   "metadata": {},
   "outputs": [
    {
     "data": {
      "text/html": [
       "<div>\n",
       "<style scoped>\n",
       "    .dataframe tbody tr th:only-of-type {\n",
       "        vertical-align: middle;\n",
       "    }\n",
       "\n",
       "    .dataframe tbody tr th {\n",
       "        vertical-align: top;\n",
       "    }\n",
       "\n",
       "    .dataframe thead th {\n",
       "        text-align: right;\n",
       "    }\n",
       "</style>\n",
       "<table border=\"1\" class=\"dataframe\">\n",
       "  <thead>\n",
       "    <tr style=\"text-align: right;\">\n",
       "      <th></th>\n",
       "      <th>cus_id</th>\n",
       "      <th>gender</th>\n",
       "      <th>age</th>\n",
       "      <th>region</th>\n",
       "      <th>amount_20p10</th>\n",
       "      <th>amount_20p20</th>\n",
       "      <th>amount_20p30</th>\n",
       "      <th>amount_21p10</th>\n",
       "      <th>amount_21p20</th>\n",
       "      <th>amount_21p30</th>\n",
       "    </tr>\n",
       "  </thead>\n",
       "  <tbody>\n",
       "    <tr>\n",
       "      <th>0</th>\n",
       "      <td>0</td>\n",
       "      <td>0</td>\n",
       "      <td>38</td>\n",
       "      <td>0</td>\n",
       "      <td>6597700</td>\n",
       "      <td>1449630</td>\n",
       "      <td>0</td>\n",
       "      <td>0</td>\n",
       "      <td>0</td>\n",
       "      <td>0</td>\n",
       "    </tr>\n",
       "    <tr>\n",
       "      <th>1</th>\n",
       "      <td>1</td>\n",
       "      <td>0</td>\n",
       "      <td>61</td>\n",
       "      <td>2</td>\n",
       "      <td>2229310</td>\n",
       "      <td>4665570</td>\n",
       "      <td>0</td>\n",
       "      <td>9094380</td>\n",
       "      <td>1660070</td>\n",
       "      <td>0</td>\n",
       "    </tr>\n",
       "    <tr>\n",
       "      <th>2</th>\n",
       "      <td>2</td>\n",
       "      <td>1</td>\n",
       "      <td>38</td>\n",
       "      <td>2</td>\n",
       "      <td>1817720</td>\n",
       "      <td>0</td>\n",
       "      <td>445600</td>\n",
       "      <td>0</td>\n",
       "      <td>2157200</td>\n",
       "      <td>0</td>\n",
       "    </tr>\n",
       "    <tr>\n",
       "      <th>3</th>\n",
       "      <td>3</td>\n",
       "      <td>0</td>\n",
       "      <td>30</td>\n",
       "      <td>2</td>\n",
       "      <td>2232160</td>\n",
       "      <td>4153600</td>\n",
       "      <td>521460</td>\n",
       "      <td>6392570</td>\n",
       "      <td>3205930</td>\n",
       "      <td>502110</td>\n",
       "    </tr>\n",
       "    <tr>\n",
       "      <th>4</th>\n",
       "      <td>4</td>\n",
       "      <td>0</td>\n",
       "      <td>49</td>\n",
       "      <td>1</td>\n",
       "      <td>3016800</td>\n",
       "      <td>977200</td>\n",
       "      <td>27360</td>\n",
       "      <td>1184400</td>\n",
       "      <td>2578420</td>\n",
       "      <td>608720</td>\n",
       "    </tr>\n",
       "  </tbody>\n",
       "</table>\n",
       "</div>"
      ],
      "text/plain": [
       "   cus_id  gender  age  region  amount_20p10  amount_20p20  amount_20p30  \\\n",
       "0       0       0   38       0       6597700       1449630             0   \n",
       "1       1       0   61       2       2229310       4665570             0   \n",
       "2       2       1   38       2       1817720             0        445600   \n",
       "3       3       0   30       2       2232160       4153600        521460   \n",
       "4       4       0   49       1       3016800        977200         27360   \n",
       "\n",
       "   amount_21p10  amount_21p20  amount_21p30  \n",
       "0             0             0             0  \n",
       "1       9094380       1660070             0  \n",
       "2             0       2157200             0  \n",
       "3       6392570       3205930        502110  \n",
       "4       1184400       2578420        608720  "
      ]
     },
     "execution_count": 381,
     "metadata": {},
     "output_type": "execute_result"
    }
   ],
   "source": [
    "df_c1.head()"
   ]
  },
  {
   "cell_type": "code",
   "execution_count": 382,
   "id": "518e05a1",
   "metadata": {},
   "outputs": [],
   "source": [
    "# amount 가 세개로 찢어지는데 sales에 뭔 의미가 있을까?\n",
    "# df_cus['sales'] = np.where(df_cus.amount_20<df_cus.amount_21, 1, 0)"
   ]
  },
  {
   "cell_type": "code",
   "execution_count": 383,
   "id": "ba074182",
   "metadata": {},
   "outputs": [],
   "source": [
    "df_c1.gender.replace({0:'male', 1: 'female'}, inplace=True)\n",
    "df_c1.gender = df_cus.gender.astype('category')"
   ]
  },
  {
   "cell_type": "code",
   "execution_count": 384,
   "id": "341998eb",
   "metadata": {},
   "outputs": [],
   "source": [
    "df_c1.age = pd.cut(x = df_c1.age, #데이터 배열\n",
    "                         bins=[17, 20, 30, 40, 50, 60, 70, 80, 89], # 경계값 리스트\n",
    "                         labels=['10s', '20s', '30s', '40s', '50s', '60s', '70s', '80s'], #bin 이름\n",
    "                         include_lowest=True) #첫 경계값 포함"
   ]
  },
  {
   "cell_type": "code",
   "execution_count": 385,
   "id": "e5e466bb",
   "metadata": {},
   "outputs": [],
   "source": [
    "df_c1.region.replace({0:'cityA', 1: 'cityB', 2:'cityC'}, inplace=True)\n",
    "df_c1.region = df_c1.region.astype('category')"
   ]
  },
  {
   "cell_type": "code",
   "execution_count": 386,
   "id": "b35d1a17",
   "metadata": {},
   "outputs": [
    {
     "data": {
      "text/html": [
       "<div>\n",
       "<style scoped>\n",
       "    .dataframe tbody tr th:only-of-type {\n",
       "        vertical-align: middle;\n",
       "    }\n",
       "\n",
       "    .dataframe tbody tr th {\n",
       "        vertical-align: top;\n",
       "    }\n",
       "\n",
       "    .dataframe thead th {\n",
       "        text-align: right;\n",
       "    }\n",
       "</style>\n",
       "<table border=\"1\" class=\"dataframe\">\n",
       "  <thead>\n",
       "    <tr style=\"text-align: right;\">\n",
       "      <th></th>\n",
       "      <th>cus_id</th>\n",
       "      <th>gender</th>\n",
       "      <th>age</th>\n",
       "      <th>region</th>\n",
       "      <th>amount_20p10</th>\n",
       "      <th>amount_20p20</th>\n",
       "      <th>amount_20p30</th>\n",
       "      <th>amount_21p10</th>\n",
       "      <th>amount_21p20</th>\n",
       "      <th>amount_21p30</th>\n",
       "    </tr>\n",
       "  </thead>\n",
       "  <tbody>\n",
       "    <tr>\n",
       "      <th>0</th>\n",
       "      <td>0</td>\n",
       "      <td>male</td>\n",
       "      <td>30s</td>\n",
       "      <td>cityA</td>\n",
       "      <td>660</td>\n",
       "      <td>145</td>\n",
       "      <td>0</td>\n",
       "      <td>0</td>\n",
       "      <td>0</td>\n",
       "      <td>0</td>\n",
       "    </tr>\n",
       "    <tr>\n",
       "      <th>1</th>\n",
       "      <td>1</td>\n",
       "      <td>male</td>\n",
       "      <td>60s</td>\n",
       "      <td>cityC</td>\n",
       "      <td>223</td>\n",
       "      <td>467</td>\n",
       "      <td>0</td>\n",
       "      <td>909</td>\n",
       "      <td>166</td>\n",
       "      <td>0</td>\n",
       "    </tr>\n",
       "    <tr>\n",
       "      <th>2</th>\n",
       "      <td>2</td>\n",
       "      <td>female</td>\n",
       "      <td>30s</td>\n",
       "      <td>cityC</td>\n",
       "      <td>182</td>\n",
       "      <td>0</td>\n",
       "      <td>45</td>\n",
       "      <td>0</td>\n",
       "      <td>216</td>\n",
       "      <td>0</td>\n",
       "    </tr>\n",
       "    <tr>\n",
       "      <th>3</th>\n",
       "      <td>3</td>\n",
       "      <td>male</td>\n",
       "      <td>20s</td>\n",
       "      <td>cityC</td>\n",
       "      <td>223</td>\n",
       "      <td>415</td>\n",
       "      <td>52</td>\n",
       "      <td>639</td>\n",
       "      <td>321</td>\n",
       "      <td>50</td>\n",
       "    </tr>\n",
       "    <tr>\n",
       "      <th>4</th>\n",
       "      <td>4</td>\n",
       "      <td>male</td>\n",
       "      <td>40s</td>\n",
       "      <td>cityB</td>\n",
       "      <td>302</td>\n",
       "      <td>98</td>\n",
       "      <td>3</td>\n",
       "      <td>118</td>\n",
       "      <td>258</td>\n",
       "      <td>61</td>\n",
       "    </tr>\n",
       "  </tbody>\n",
       "</table>\n",
       "</div>"
      ],
      "text/plain": [
       "   cus_id  gender  age region  amount_20p10  amount_20p20  amount_20p30  \\\n",
       "0       0    male  30s  cityA           660           145             0   \n",
       "1       1    male  60s  cityC           223           467             0   \n",
       "2       2  female  30s  cityC           182             0            45   \n",
       "3       3    male  20s  cityC           223           415            52   \n",
       "4       4    male  40s  cityB           302            98             3   \n",
       "\n",
       "   amount_21p10  amount_21p20  amount_21p30  \n",
       "0             0             0             0  \n",
       "1           909           166             0  \n",
       "2             0           216             0  \n",
       "3           639           321            50  \n",
       "4           118           258            61  "
      ]
     },
     "execution_count": 386,
     "metadata": {},
     "output_type": "execute_result"
    }
   ],
   "source": [
    "df_c1.amount_20p10 = (df_c1.amount_20p10/10**4).round().astype('int')\n",
    "df_c1.amount_20p20 = (df_c1.amount_20p20/10**4).round().astype('int')\n",
    "df_c1.amount_20p30 = (df_c1.amount_20p30/10**4).round().astype('int')\n",
    "df_c1.amount_21p10 = (df_c1.amount_21p10/10**4).round().astype('int')\n",
    "df_c1.amount_21p20 = (df_c1.amount_21p20/10**4).round().astype('int')\n",
    "df_c1.amount_21p30 = (df_c1.amount_21p30/10**4).round().astype('int')\n",
    "\n",
    "df_c1.head()"
   ]
  },
  {
   "cell_type": "markdown",
   "id": "6c1f8149",
   "metadata": {},
   "source": [
    "## 이것을 또 검증 - 완료"
   ]
  },
  {
   "cell_type": "markdown",
   "id": "ba0c0009",
   "metadata": {},
   "source": [
    "- 조작후) male, 50s, p10, 2021 의 amount합계"
   ]
  },
  {
   "cell_type": "code",
   "execution_count": 353,
   "id": "a9d64575",
   "metadata": {},
   "outputs": [
    {
     "data": {
      "text/plain": [
       "amount_21p10    25482\n",
       "dtype: int64"
      ]
     },
     "execution_count": 353,
     "metadata": {},
     "output_type": "execute_result"
    }
   ],
   "source": [
    "df_cus[(df_cus.gender == 'male') & (df_cus.age == '50s')][['amount_21p10']].sum()"
   ]
  },
  {
   "cell_type": "markdown",
   "id": "29b45df4",
   "metadata": {},
   "source": [
    "- 조작전) male, 50s, p10, 2021의 amount 합계"
   ]
  },
  {
   "cell_type": "code",
   "execution_count": 354,
   "id": "c9c2746a",
   "metadata": {},
   "outputs": [
    {
     "data": {
      "text/html": [
       "<div>\n",
       "<style scoped>\n",
       "    .dataframe tbody tr th:only-of-type {\n",
       "        vertical-align: middle;\n",
       "    }\n",
       "\n",
       "    .dataframe tbody tr th {\n",
       "        vertical-align: top;\n",
       "    }\n",
       "\n",
       "    .dataframe thead th {\n",
       "        text-align: right;\n",
       "    }\n",
       "</style>\n",
       "<table border=\"1\" class=\"dataframe\">\n",
       "  <thead>\n",
       "    <tr style=\"text-align: right;\">\n",
       "      <th></th>\n",
       "      <th>orderno</th>\n",
       "      <th>date</th>\n",
       "      <th>day</th>\n",
       "      <th>time</th>\n",
       "      <th>cus_id</th>\n",
       "      <th>product</th>\n",
       "      <th>price</th>\n",
       "      <th>quantity</th>\n",
       "      <th>amount</th>\n",
       "      <th>gender</th>\n",
       "      <th>age</th>\n",
       "      <th>region</th>\n",
       "    </tr>\n",
       "  </thead>\n",
       "  <tbody>\n",
       "    <tr>\n",
       "      <th>0</th>\n",
       "      <td>0</td>\n",
       "      <td>2020-01-01</td>\n",
       "      <td>Wed</td>\n",
       "      <td>03:35:15</td>\n",
       "      <td>733</td>\n",
       "      <td>20</td>\n",
       "      <td>14440</td>\n",
       "      <td>56</td>\n",
       "      <td>808640</td>\n",
       "      <td>0</td>\n",
       "      <td>72</td>\n",
       "      <td>0</td>\n",
       "    </tr>\n",
       "    <tr>\n",
       "      <th>1</th>\n",
       "      <td>1</td>\n",
       "      <td>2020-01-01</td>\n",
       "      <td>Wed</td>\n",
       "      <td>06:46:52</td>\n",
       "      <td>692</td>\n",
       "      <td>10</td>\n",
       "      <td>40740</td>\n",
       "      <td>49</td>\n",
       "      <td>1996260</td>\n",
       "      <td>1</td>\n",
       "      <td>63</td>\n",
       "      <td>2</td>\n",
       "    </tr>\n",
       "    <tr>\n",
       "      <th>2</th>\n",
       "      <td>2</td>\n",
       "      <td>2020-01-01</td>\n",
       "      <td>Wed</td>\n",
       "      <td>07:54:42</td>\n",
       "      <td>764</td>\n",
       "      <td>30</td>\n",
       "      <td>5520</td>\n",
       "      <td>2</td>\n",
       "      <td>11040</td>\n",
       "      <td>0</td>\n",
       "      <td>76</td>\n",
       "      <td>1</td>\n",
       "    </tr>\n",
       "    <tr>\n",
       "      <th>3</th>\n",
       "      <td>3</td>\n",
       "      <td>2020-01-01</td>\n",
       "      <td>Wed</td>\n",
       "      <td>09:10:55</td>\n",
       "      <td>459</td>\n",
       "      <td>30</td>\n",
       "      <td>8630</td>\n",
       "      <td>4</td>\n",
       "      <td>34520</td>\n",
       "      <td>1</td>\n",
       "      <td>31</td>\n",
       "      <td>0</td>\n",
       "    </tr>\n",
       "    <tr>\n",
       "      <th>4</th>\n",
       "      <td>4</td>\n",
       "      <td>2020-01-01</td>\n",
       "      <td>Wed</td>\n",
       "      <td>13:30:43</td>\n",
       "      <td>760</td>\n",
       "      <td>20</td>\n",
       "      <td>19970</td>\n",
       "      <td>6</td>\n",
       "      <td>119820</td>\n",
       "      <td>0</td>\n",
       "      <td>89</td>\n",
       "      <td>0</td>\n",
       "    </tr>\n",
       "  </tbody>\n",
       "</table>\n",
       "</div>"
      ],
      "text/plain": [
       "   orderno       date  day      time  cus_id product  price  quantity  \\\n",
       "0        0 2020-01-01  Wed  03:35:15     733      20  14440        56   \n",
       "1        1 2020-01-01  Wed  06:46:52     692      10  40740        49   \n",
       "2        2 2020-01-01  Wed  07:54:42     764      30   5520         2   \n",
       "3        3 2020-01-01  Wed  09:10:55     459      30   8630         4   \n",
       "4        4 2020-01-01  Wed  13:30:43     760      20  19970         6   \n",
       "\n",
       "    amount  gender  age  region  \n",
       "0   808640       0   72       0  \n",
       "1  1996260       1   63       2  \n",
       "2    11040       0   76       1  \n",
       "3    34520       1   31       0  \n",
       "4   119820       0   89       0  "
      ]
     },
     "execution_count": 354,
     "metadata": {},
     "output_type": "execute_result"
    }
   ],
   "source": [
    "df.head()"
   ]
  },
  {
   "cell_type": "code",
   "execution_count": 357,
   "id": "fd620701",
   "metadata": {
    "scrolled": true
   },
   "outputs": [
    {
     "data": {
      "text/html": [
       "<div>\n",
       "<style scoped>\n",
       "    .dataframe tbody tr th:only-of-type {\n",
       "        vertical-align: middle;\n",
       "    }\n",
       "\n",
       "    .dataframe tbody tr th {\n",
       "        vertical-align: top;\n",
       "    }\n",
       "\n",
       "    .dataframe thead th {\n",
       "        text-align: right;\n",
       "    }\n",
       "</style>\n",
       "<table border=\"1\" class=\"dataframe\">\n",
       "  <thead>\n",
       "    <tr style=\"text-align: right;\">\n",
       "      <th></th>\n",
       "      <th>orderno</th>\n",
       "      <th>date</th>\n",
       "      <th>day</th>\n",
       "      <th>time</th>\n",
       "      <th>cus_id</th>\n",
       "      <th>product_</th>\n",
       "      <th>price</th>\n",
       "      <th>quantity</th>\n",
       "      <th>amount</th>\n",
       "      <th>gender</th>\n",
       "      <th>age</th>\n",
       "      <th>region</th>\n",
       "    </tr>\n",
       "  </thead>\n",
       "  <tbody>\n",
       "    <tr>\n",
       "      <th>5045</th>\n",
       "      <td>5045</td>\n",
       "      <td>2021-01-01</td>\n",
       "      <td>Fri</td>\n",
       "      <td>05:25:01</td>\n",
       "      <td>123</td>\n",
       "      <td>10</td>\n",
       "      <td>43590</td>\n",
       "      <td>53</td>\n",
       "      <td>2310270</td>\n",
       "      <td>0</td>\n",
       "      <td>51</td>\n",
       "      <td>0</td>\n",
       "    </tr>\n",
       "    <tr>\n",
       "      <th>5089</th>\n",
       "      <td>5089</td>\n",
       "      <td>2021-01-04</td>\n",
       "      <td>Mon</td>\n",
       "      <td>09:31:24</td>\n",
       "      <td>614</td>\n",
       "      <td>10</td>\n",
       "      <td>32760</td>\n",
       "      <td>76</td>\n",
       "      <td>2489760</td>\n",
       "      <td>0</td>\n",
       "      <td>57</td>\n",
       "      <td>1</td>\n",
       "    </tr>\n",
       "    <tr>\n",
       "      <th>5132</th>\n",
       "      <td>5132</td>\n",
       "      <td>2021-01-07</td>\n",
       "      <td>Thu</td>\n",
       "      <td>08:29:03</td>\n",
       "      <td>320</td>\n",
       "      <td>10</td>\n",
       "      <td>49380</td>\n",
       "      <td>60</td>\n",
       "      <td>2962800</td>\n",
       "      <td>0</td>\n",
       "      <td>53</td>\n",
       "      <td>0</td>\n",
       "    </tr>\n",
       "    <tr>\n",
       "      <th>5197</th>\n",
       "      <td>5197</td>\n",
       "      <td>2021-01-13</td>\n",
       "      <td>Wed</td>\n",
       "      <td>12:43:10</td>\n",
       "      <td>353</td>\n",
       "      <td>10</td>\n",
       "      <td>33890</td>\n",
       "      <td>95</td>\n",
       "      <td>3219550</td>\n",
       "      <td>0</td>\n",
       "      <td>52</td>\n",
       "      <td>2</td>\n",
       "    </tr>\n",
       "    <tr>\n",
       "      <th>5347</th>\n",
       "      <td>5347</td>\n",
       "      <td>2021-01-23</td>\n",
       "      <td>Sat</td>\n",
       "      <td>20:06:03</td>\n",
       "      <td>348</td>\n",
       "      <td>10</td>\n",
       "      <td>33230</td>\n",
       "      <td>24</td>\n",
       "      <td>797520</td>\n",
       "      <td>0</td>\n",
       "      <td>58</td>\n",
       "      <td>0</td>\n",
       "    </tr>\n",
       "  </tbody>\n",
       "</table>\n",
       "</div>"
      ],
      "text/plain": [
       "      orderno       date  day      time  cus_id product_  price  quantity  \\\n",
       "5045     5045 2021-01-01  Fri  05:25:01     123       10  43590        53   \n",
       "5089     5089 2021-01-04  Mon  09:31:24     614       10  32760        76   \n",
       "5132     5132 2021-01-07  Thu  08:29:03     320       10  49380        60   \n",
       "5197     5197 2021-01-13  Wed  12:43:10     353       10  33890        95   \n",
       "5347     5347 2021-01-23  Sat  20:06:03     348       10  33230        24   \n",
       "\n",
       "       amount  gender  age  region  \n",
       "5045  2310270       0   51       0  \n",
       "5089  2489760       0   57       1  \n",
       "5132  2962800       0   53       0  \n",
       "5197  3219550       0   52       2  \n",
       "5347   797520       0   58       0  "
      ]
     },
     "execution_count": 357,
     "metadata": {},
     "output_type": "execute_result"
    }
   ],
   "source": [
    "df_ext = df[(df.gender == 0 )&((df.age >= 50)&(df.age < 60))&(df.product_ == 10)&(df.date.dt.year == 2021)]\n",
    "df_ext.head()"
   ]
  },
  {
   "cell_type": "code",
   "execution_count": 358,
   "id": "6b59be70",
   "metadata": {},
   "outputs": [
    {
     "data": {
      "text/plain": [
       "(20174.348, '만원')"
      ]
     },
     "execution_count": 358,
     "metadata": {},
     "output_type": "execute_result"
    }
   ],
   "source": [
    "df_ext.amount.sum()/10**4, '만원'"
   ]
  },
  {
   "cell_type": "code",
   "execution_count": null,
   "id": "c61f3157",
   "metadata": {},
   "outputs": [],
   "source": []
  },
  {
   "cell_type": "code",
   "execution_count": null,
   "id": "e72baa86",
   "metadata": {},
   "outputs": [],
   "source": []
  },
  {
   "cell_type": "markdown",
   "id": "04a1e20e",
   "metadata": {},
   "source": [
    "# 검증"
   ]
  },
  {
   "cell_type": "markdown",
   "id": "d7ab6501",
   "metadata": {},
   "source": [
    "### 남성, 30-50대, 고가 -> 매출 증가 : 조작된 데이터"
   ]
  },
  {
   "cell_type": "markdown",
   "id": "07eb3658",
   "metadata": {},
   "source": [
    "- 남성, 고가를 뽑고, 나이별로 본다."
   ]
  },
  {
   "cell_type": "code",
   "execution_count": 359,
   "id": "7c769eee",
   "metadata": {
    "scrolled": false
   },
   "outputs": [
    {
     "name": "stdout",
     "output_type": "stream",
     "text": [
      "['male']\n",
      "Categories (2, object): ['female', 'male']\n"
     ]
    },
    {
     "data": {
      "text/plain": [
       "<AxesSubplot:xlabel='age'>"
      ]
     },
     "execution_count": 359,
     "metadata": {},
     "output_type": "execute_result"
    },
    {
     "data": {
      "image/png": "[encoded data removed]",
      "text/plain": [
       "<Figure size 432x288 with 1 Axes>"
      ]
     },
     "metadata": {
      "needs_background": "light"
     },
     "output_type": "display_data"
    },
    {
     "data": {
      "image/png": "[encoded data removed]",
      "text/plain": [
       "<Figure size 432x288 with 1 Axes>"
      ]
     },
     "metadata": {
      "needs_background": "light"
     },
     "output_type": "display_data"
    }
   ],
   "source": [
    "df6 = df_cus.copy()\n",
    "df7 = df6[(df6.gender == 'male')].loc[:,['gender', 'age', 'amount_20p10', 'amount_21p10']]\n",
    "\n",
    "print(df7.gender.unique())\n",
    "df7.drop(columns=['gender'], inplace=True)\n",
    "g_age = df7.groupby('age')\n",
    "g_age.agg({'amount_20p10': 'sum', 'amount_21p10': 'sum'}).plot(kind='bar')\n",
    "\n",
    "\n",
    "g_age.agg({'amount_20p10': 'mean', 'amount_21p10': 'mean'}).plot(kind='bar')"
   ]
  },
  {
   "cell_type": "code",
   "execution_count": 360,
   "id": "45c98a14",
   "metadata": {},
   "outputs": [
    {
     "data": {
      "text/plain": [
       "[<matplotlib.lines.Line2D at 0x2bdb7c5ce80>]"
      ]
     },
     "execution_count": 360,
     "metadata": {},
     "output_type": "execute_result"
    },
    {
     "data": {
      "image/png": "[encoded data removed]",
      "text/plain": [
       "<Figure size 432x288 with 1 Axes>"
      ]
     },
     "metadata": {
      "needs_background": "light"
     },
     "output_type": "display_data"
    }
   ],
   "source": [
    "df7.replace({'10s':10, '20s':20, '30s':30, '40s':40, '50s':50, '60s':60, '70s':70,  '80s':80}, inplace=True)\n",
    "list_agesum = []\n",
    "for i in range(10, 90, 10):\n",
    "    list_agesum.append((df7.age == i).sum())\n",
    "plt.plot(list(range(10, 90, 10)), list_agesum, 'bo-')"
   ]
  },
  {
   "cell_type": "markdown",
   "id": "7bc91a60",
   "metadata": {},
   "source": [
    "#### 50대가 말을 안듣는다. 왜 말을 안듣지?\n",
    "- male, 50s, product == 10"
   ]
  },
  {
   "cell_type": "code",
   "execution_count": 361,
   "id": "8c3531d0",
   "metadata": {
    "scrolled": true
   },
   "outputs": [
    {
     "data": {
      "text/html": [
       "<div>\n",
       "<style scoped>\n",
       "    .dataframe tbody tr th:only-of-type {\n",
       "        vertical-align: middle;\n",
       "    }\n",
       "\n",
       "    .dataframe tbody tr th {\n",
       "        vertical-align: top;\n",
       "    }\n",
       "\n",
       "    .dataframe thead th {\n",
       "        text-align: right;\n",
       "    }\n",
       "</style>\n",
       "<table border=\"1\" class=\"dataframe\">\n",
       "  <thead>\n",
       "    <tr style=\"text-align: right;\">\n",
       "      <th></th>\n",
       "      <th>orderno</th>\n",
       "      <th>date</th>\n",
       "      <th>day</th>\n",
       "      <th>time</th>\n",
       "      <th>cus_id</th>\n",
       "      <th>product_</th>\n",
       "      <th>price</th>\n",
       "      <th>quantity</th>\n",
       "      <th>amount</th>\n",
       "      <th>gender</th>\n",
       "      <th>age</th>\n",
       "      <th>region</th>\n",
       "    </tr>\n",
       "  </thead>\n",
       "  <tbody>\n",
       "    <tr>\n",
       "      <th>0</th>\n",
       "      <td>0</td>\n",
       "      <td>2020-01-01</td>\n",
       "      <td>Wed</td>\n",
       "      <td>03:35:15</td>\n",
       "      <td>733</td>\n",
       "      <td>20</td>\n",
       "      <td>14440</td>\n",
       "      <td>56</td>\n",
       "      <td>808640</td>\n",
       "      <td>0</td>\n",
       "      <td>72</td>\n",
       "      <td>0</td>\n",
       "    </tr>\n",
       "    <tr>\n",
       "      <th>1</th>\n",
       "      <td>1</td>\n",
       "      <td>2020-01-01</td>\n",
       "      <td>Wed</td>\n",
       "      <td>06:46:52</td>\n",
       "      <td>692</td>\n",
       "      <td>10</td>\n",
       "      <td>40740</td>\n",
       "      <td>49</td>\n",
       "      <td>1996260</td>\n",
       "      <td>1</td>\n",
       "      <td>63</td>\n",
       "      <td>2</td>\n",
       "    </tr>\n",
       "    <tr>\n",
       "      <th>2</th>\n",
       "      <td>2</td>\n",
       "      <td>2020-01-01</td>\n",
       "      <td>Wed</td>\n",
       "      <td>07:54:42</td>\n",
       "      <td>764</td>\n",
       "      <td>30</td>\n",
       "      <td>5520</td>\n",
       "      <td>2</td>\n",
       "      <td>11040</td>\n",
       "      <td>0</td>\n",
       "      <td>76</td>\n",
       "      <td>1</td>\n",
       "    </tr>\n",
       "    <tr>\n",
       "      <th>3</th>\n",
       "      <td>3</td>\n",
       "      <td>2020-01-01</td>\n",
       "      <td>Wed</td>\n",
       "      <td>09:10:55</td>\n",
       "      <td>459</td>\n",
       "      <td>30</td>\n",
       "      <td>8630</td>\n",
       "      <td>4</td>\n",
       "      <td>34520</td>\n",
       "      <td>1</td>\n",
       "      <td>31</td>\n",
       "      <td>0</td>\n",
       "    </tr>\n",
       "    <tr>\n",
       "      <th>4</th>\n",
       "      <td>4</td>\n",
       "      <td>2020-01-01</td>\n",
       "      <td>Wed</td>\n",
       "      <td>13:30:43</td>\n",
       "      <td>760</td>\n",
       "      <td>20</td>\n",
       "      <td>19970</td>\n",
       "      <td>6</td>\n",
       "      <td>119820</td>\n",
       "      <td>0</td>\n",
       "      <td>89</td>\n",
       "      <td>0</td>\n",
       "    </tr>\n",
       "  </tbody>\n",
       "</table>\n",
       "</div>"
      ],
      "text/plain": [
       "   orderno       date  day      time  cus_id product_  price  quantity  \\\n",
       "0        0 2020-01-01  Wed  03:35:15     733       20  14440        56   \n",
       "1        1 2020-01-01  Wed  06:46:52     692       10  40740        49   \n",
       "2        2 2020-01-01  Wed  07:54:42     764       30   5520         2   \n",
       "3        3 2020-01-01  Wed  09:10:55     459       30   8630         4   \n",
       "4        4 2020-01-01  Wed  13:30:43     760       20  19970         6   \n",
       "\n",
       "    amount  gender  age  region  \n",
       "0   808640       0   72       0  \n",
       "1  1996260       1   63       2  \n",
       "2    11040       0   76       1  \n",
       "3    34520       1   31       0  \n",
       "4   119820       0   89       0  "
      ]
     },
     "execution_count": 361,
     "metadata": {},
     "output_type": "execute_result"
    }
   ],
   "source": [
    "df.rename({'product':'product_'}, inplace=True, axis=1)\n",
    "df.head() # 조작전"
   ]
  },
  {
   "cell_type": "code",
   "execution_count": 362,
   "id": "a32ee0fe",
   "metadata": {},
   "outputs": [
    {
     "data": {
      "text/html": [
       "<div>\n",
       "<style scoped>\n",
       "    .dataframe tbody tr th:only-of-type {\n",
       "        vertical-align: middle;\n",
       "    }\n",
       "\n",
       "    .dataframe tbody tr th {\n",
       "        vertical-align: top;\n",
       "    }\n",
       "\n",
       "    .dataframe thead th {\n",
       "        text-align: right;\n",
       "    }\n",
       "</style>\n",
       "<table border=\"1\" class=\"dataframe\">\n",
       "  <thead>\n",
       "    <tr style=\"text-align: right;\">\n",
       "      <th></th>\n",
       "      <th>orderno</th>\n",
       "      <th>date</th>\n",
       "      <th>day</th>\n",
       "      <th>time</th>\n",
       "      <th>cus_id</th>\n",
       "      <th>product_</th>\n",
       "      <th>price</th>\n",
       "      <th>quantity</th>\n",
       "      <th>amount</th>\n",
       "      <th>gender</th>\n",
       "      <th>age</th>\n",
       "      <th>region</th>\n",
       "    </tr>\n",
       "  </thead>\n",
       "  <tbody>\n",
       "    <tr>\n",
       "      <th>0</th>\n",
       "      <td>0</td>\n",
       "      <td>2020-01-01</td>\n",
       "      <td>Wed</td>\n",
       "      <td>03:35:15</td>\n",
       "      <td>733</td>\n",
       "      <td>20</td>\n",
       "      <td>14440</td>\n",
       "      <td>56</td>\n",
       "      <td>808640</td>\n",
       "      <td>0</td>\n",
       "      <td>72</td>\n",
       "      <td>0</td>\n",
       "    </tr>\n",
       "    <tr>\n",
       "      <th>1</th>\n",
       "      <td>1</td>\n",
       "      <td>2020-01-01</td>\n",
       "      <td>Wed</td>\n",
       "      <td>06:46:52</td>\n",
       "      <td>692</td>\n",
       "      <td>10</td>\n",
       "      <td>40740</td>\n",
       "      <td>49</td>\n",
       "      <td>1996260</td>\n",
       "      <td>1</td>\n",
       "      <td>63</td>\n",
       "      <td>2</td>\n",
       "    </tr>\n",
       "    <tr>\n",
       "      <th>2</th>\n",
       "      <td>2</td>\n",
       "      <td>2020-01-01</td>\n",
       "      <td>Wed</td>\n",
       "      <td>07:54:42</td>\n",
       "      <td>764</td>\n",
       "      <td>30</td>\n",
       "      <td>5520</td>\n",
       "      <td>2</td>\n",
       "      <td>11040</td>\n",
       "      <td>0</td>\n",
       "      <td>76</td>\n",
       "      <td>1</td>\n",
       "    </tr>\n",
       "    <tr>\n",
       "      <th>3</th>\n",
       "      <td>3</td>\n",
       "      <td>2020-01-01</td>\n",
       "      <td>Wed</td>\n",
       "      <td>09:10:55</td>\n",
       "      <td>459</td>\n",
       "      <td>30</td>\n",
       "      <td>8630</td>\n",
       "      <td>4</td>\n",
       "      <td>34520</td>\n",
       "      <td>1</td>\n",
       "      <td>31</td>\n",
       "      <td>0</td>\n",
       "    </tr>\n",
       "    <tr>\n",
       "      <th>4</th>\n",
       "      <td>4</td>\n",
       "      <td>2020-01-01</td>\n",
       "      <td>Wed</td>\n",
       "      <td>13:30:43</td>\n",
       "      <td>760</td>\n",
       "      <td>20</td>\n",
       "      <td>19970</td>\n",
       "      <td>6</td>\n",
       "      <td>119820</td>\n",
       "      <td>0</td>\n",
       "      <td>89</td>\n",
       "      <td>0</td>\n",
       "    </tr>\n",
       "  </tbody>\n",
       "</table>\n",
       "</div>"
      ],
      "text/plain": [
       "   orderno       date  day      time  cus_id product_  price  quantity  \\\n",
       "0        0 2020-01-01  Wed  03:35:15     733       20  14440        56   \n",
       "1        1 2020-01-01  Wed  06:46:52     692       10  40740        49   \n",
       "2        2 2020-01-01  Wed  07:54:42     764       30   5520         2   \n",
       "3        3 2020-01-01  Wed  09:10:55     459       30   8630         4   \n",
       "4        4 2020-01-01  Wed  13:30:43     760       20  19970         6   \n",
       "\n",
       "    amount  gender  age  region  \n",
       "0   808640       0   72       0  \n",
       "1  1996260       1   63       2  \n",
       "2    11040       0   76       1  \n",
       "3    34520       1   31       0  \n",
       "4   119820       0   89       0  "
      ]
     },
     "execution_count": 362,
     "metadata": {},
     "output_type": "execute_result"
    }
   ],
   "source": [
    "df_mod = df4.copy()\n",
    "df_mod.head() # 조작후"
   ]
  },
  {
   "cell_type": "markdown",
   "id": "46dc3174",
   "metadata": {},
   "source": [
    "- 2021년, male, 50s, p10 조건으로 조작전/조작후 quentity, amount 줄었는지 확인. .. . ..."
   ]
  },
  {
   "cell_type": "code",
   "execution_count": 363,
   "id": "8f99e842",
   "metadata": {},
   "outputs": [
    {
     "data": {
      "text/html": [
       "<div>\n",
       "<style scoped>\n",
       "    .dataframe tbody tr th:only-of-type {\n",
       "        vertical-align: middle;\n",
       "    }\n",
       "\n",
       "    .dataframe tbody tr th {\n",
       "        vertical-align: top;\n",
       "    }\n",
       "\n",
       "    .dataframe thead th {\n",
       "        text-align: right;\n",
       "    }\n",
       "</style>\n",
       "<table border=\"1\" class=\"dataframe\">\n",
       "  <thead>\n",
       "    <tr style=\"text-align: right;\">\n",
       "      <th></th>\n",
       "      <th>orderno</th>\n",
       "      <th>date</th>\n",
       "      <th>day</th>\n",
       "      <th>time</th>\n",
       "      <th>cus_id</th>\n",
       "      <th>product_</th>\n",
       "      <th>price</th>\n",
       "      <th>quantity</th>\n",
       "      <th>amount</th>\n",
       "      <th>gender</th>\n",
       "      <th>age</th>\n",
       "      <th>region</th>\n",
       "    </tr>\n",
       "  </thead>\n",
       "  <tbody>\n",
       "    <tr>\n",
       "      <th>5045</th>\n",
       "      <td>5045</td>\n",
       "      <td>2021-01-01</td>\n",
       "      <td>Fri</td>\n",
       "      <td>05:25:01</td>\n",
       "      <td>123</td>\n",
       "      <td>10</td>\n",
       "      <td>43590</td>\n",
       "      <td>53</td>\n",
       "      <td>2310270</td>\n",
       "      <td>0</td>\n",
       "      <td>51</td>\n",
       "      <td>0</td>\n",
       "    </tr>\n",
       "    <tr>\n",
       "      <th>5089</th>\n",
       "      <td>5089</td>\n",
       "      <td>2021-01-04</td>\n",
       "      <td>Mon</td>\n",
       "      <td>09:31:24</td>\n",
       "      <td>614</td>\n",
       "      <td>10</td>\n",
       "      <td>32760</td>\n",
       "      <td>76</td>\n",
       "      <td>2489760</td>\n",
       "      <td>0</td>\n",
       "      <td>57</td>\n",
       "      <td>1</td>\n",
       "    </tr>\n",
       "    <tr>\n",
       "      <th>5132</th>\n",
       "      <td>5132</td>\n",
       "      <td>2021-01-07</td>\n",
       "      <td>Thu</td>\n",
       "      <td>08:29:03</td>\n",
       "      <td>320</td>\n",
       "      <td>10</td>\n",
       "      <td>49380</td>\n",
       "      <td>60</td>\n",
       "      <td>2962800</td>\n",
       "      <td>0</td>\n",
       "      <td>53</td>\n",
       "      <td>0</td>\n",
       "    </tr>\n",
       "    <tr>\n",
       "      <th>5197</th>\n",
       "      <td>5197</td>\n",
       "      <td>2021-01-13</td>\n",
       "      <td>Wed</td>\n",
       "      <td>12:43:10</td>\n",
       "      <td>353</td>\n",
       "      <td>10</td>\n",
       "      <td>33890</td>\n",
       "      <td>95</td>\n",
       "      <td>3219550</td>\n",
       "      <td>0</td>\n",
       "      <td>52</td>\n",
       "      <td>2</td>\n",
       "    </tr>\n",
       "    <tr>\n",
       "      <th>5347</th>\n",
       "      <td>5347</td>\n",
       "      <td>2021-01-23</td>\n",
       "      <td>Sat</td>\n",
       "      <td>20:06:03</td>\n",
       "      <td>348</td>\n",
       "      <td>10</td>\n",
       "      <td>33230</td>\n",
       "      <td>24</td>\n",
       "      <td>797520</td>\n",
       "      <td>0</td>\n",
       "      <td>58</td>\n",
       "      <td>0</td>\n",
       "    </tr>\n",
       "  </tbody>\n",
       "</table>\n",
       "</div>"
      ],
      "text/plain": [
       "      orderno       date  day      time  cus_id product_  price  quantity  \\\n",
       "5045     5045 2021-01-01  Fri  05:25:01     123       10  43590        53   \n",
       "5089     5089 2021-01-04  Mon  09:31:24     614       10  32760        76   \n",
       "5132     5132 2021-01-07  Thu  08:29:03     320       10  49380        60   \n",
       "5197     5197 2021-01-13  Wed  12:43:10     353       10  33890        95   \n",
       "5347     5347 2021-01-23  Sat  20:06:03     348       10  33230        24   \n",
       "\n",
       "       amount  gender  age  region  \n",
       "5045  2310270       0   51       0  \n",
       "5089  2489760       0   57       1  \n",
       "5132  2962800       0   53       0  \n",
       "5197  3219550       0   52       2  \n",
       "5347   797520       0   58       0  "
      ]
     },
     "execution_count": 363,
     "metadata": {},
     "output_type": "execute_result"
    }
   ],
   "source": [
    "condition5 = (df.date.dt.year == 2021)&(df.gender == 0)&((df.age >= 50)&(df.age < 60))&(df.product_ == 10)\n",
    "df_bm = df[condition5]\n",
    "df_bm.head()"
   ]
  },
  {
   "cell_type": "code",
   "execution_count": 364,
   "id": "a24523a6",
   "metadata": {
    "scrolled": true
   },
   "outputs": [
    {
     "data": {
      "text/html": [
       "<div>\n",
       "<style scoped>\n",
       "    .dataframe tbody tr th:only-of-type {\n",
       "        vertical-align: middle;\n",
       "    }\n",
       "\n",
       "    .dataframe tbody tr th {\n",
       "        vertical-align: top;\n",
       "    }\n",
       "\n",
       "    .dataframe thead th {\n",
       "        text-align: right;\n",
       "    }\n",
       "</style>\n",
       "<table border=\"1\" class=\"dataframe\">\n",
       "  <thead>\n",
       "    <tr style=\"text-align: right;\">\n",
       "      <th></th>\n",
       "      <th>orderno</th>\n",
       "      <th>date</th>\n",
       "      <th>day</th>\n",
       "      <th>time</th>\n",
       "      <th>cus_id</th>\n",
       "      <th>product_</th>\n",
       "      <th>price</th>\n",
       "      <th>quantity</th>\n",
       "      <th>amount</th>\n",
       "      <th>gender</th>\n",
       "      <th>age</th>\n",
       "      <th>region</th>\n",
       "    </tr>\n",
       "  </thead>\n",
       "  <tbody>\n",
       "    <tr>\n",
       "      <th>5045</th>\n",
       "      <td>5045</td>\n",
       "      <td>2021-01-01</td>\n",
       "      <td>Fri</td>\n",
       "      <td>05:25:01</td>\n",
       "      <td>123</td>\n",
       "      <td>10</td>\n",
       "      <td>43590</td>\n",
       "      <td>84</td>\n",
       "      <td>3661560</td>\n",
       "      <td>0</td>\n",
       "      <td>51</td>\n",
       "      <td>0</td>\n",
       "    </tr>\n",
       "    <tr>\n",
       "      <th>5089</th>\n",
       "      <td>5089</td>\n",
       "      <td>2021-01-04</td>\n",
       "      <td>Mon</td>\n",
       "      <td>09:31:24</td>\n",
       "      <td>614</td>\n",
       "      <td>10</td>\n",
       "      <td>32760</td>\n",
       "      <td>121</td>\n",
       "      <td>3963960</td>\n",
       "      <td>0</td>\n",
       "      <td>57</td>\n",
       "      <td>1</td>\n",
       "    </tr>\n",
       "    <tr>\n",
       "      <th>5132</th>\n",
       "      <td>5132</td>\n",
       "      <td>2021-01-07</td>\n",
       "      <td>Thu</td>\n",
       "      <td>08:29:03</td>\n",
       "      <td>320</td>\n",
       "      <td>10</td>\n",
       "      <td>49380</td>\n",
       "      <td>60</td>\n",
       "      <td>2962800</td>\n",
       "      <td>0</td>\n",
       "      <td>53</td>\n",
       "      <td>0</td>\n",
       "    </tr>\n",
       "    <tr>\n",
       "      <th>5197</th>\n",
       "      <td>5197</td>\n",
       "      <td>2021-01-13</td>\n",
       "      <td>Wed</td>\n",
       "      <td>12:43:10</td>\n",
       "      <td>353</td>\n",
       "      <td>10</td>\n",
       "      <td>33890</td>\n",
       "      <td>95</td>\n",
       "      <td>3219550</td>\n",
       "      <td>0</td>\n",
       "      <td>52</td>\n",
       "      <td>2</td>\n",
       "    </tr>\n",
       "    <tr>\n",
       "      <th>5347</th>\n",
       "      <td>5347</td>\n",
       "      <td>2021-01-23</td>\n",
       "      <td>Sat</td>\n",
       "      <td>20:06:03</td>\n",
       "      <td>348</td>\n",
       "      <td>10</td>\n",
       "      <td>33230</td>\n",
       "      <td>24</td>\n",
       "      <td>797520</td>\n",
       "      <td>0</td>\n",
       "      <td>58</td>\n",
       "      <td>0</td>\n",
       "    </tr>\n",
       "  </tbody>\n",
       "</table>\n",
       "</div>"
      ],
      "text/plain": [
       "      orderno       date  day      time  cus_id product_  price  quantity  \\\n",
       "5045     5045 2021-01-01  Fri  05:25:01     123       10  43590        84   \n",
       "5089     5089 2021-01-04  Mon  09:31:24     614       10  32760       121   \n",
       "5132     5132 2021-01-07  Thu  08:29:03     320       10  49380        60   \n",
       "5197     5197 2021-01-13  Wed  12:43:10     353       10  33890        95   \n",
       "5347     5347 2021-01-23  Sat  20:06:03     348       10  33230        24   \n",
       "\n",
       "       amount  gender  age  region  \n",
       "5045  3661560       0   51       0  \n",
       "5089  3963960       0   57       1  \n",
       "5132  2962800       0   53       0  \n",
       "5197  3219550       0   52       2  \n",
       "5347   797520       0   58       0  "
      ]
     },
     "execution_count": 364,
     "metadata": {},
     "output_type": "execute_result"
    }
   ],
   "source": [
    "df_am = df_mod[condition5]\n",
    "df_am.head()"
   ]
  },
  {
   "cell_type": "code",
   "execution_count": 365,
   "id": "3a81e843",
   "metadata": {},
   "outputs": [
    {
     "data": {
      "text/plain": [
       "1196"
      ]
     },
     "execution_count": 365,
     "metadata": {},
     "output_type": "execute_result"
    }
   ],
   "source": [
    "df_qdif = df_am.quantity - df_bm.quantity\n",
    "df_qdif.sum()"
   ]
  },
  {
   "cell_type": "code",
   "execution_count": 366,
   "id": "958c4e62",
   "metadata": {},
   "outputs": [
    {
     "data": {
      "text/plain": [
       "(56, 46)"
      ]
     },
     "execution_count": 366,
     "metadata": {},
     "output_type": "execute_result"
    }
   ],
   "source": [
    "(df_qdif == 0).sum(), (df_qdif != 0).sum()"
   ]
  },
  {
   "cell_type": "code",
   "execution_count": 367,
   "id": "b8c16160",
   "metadata": {},
   "outputs": [
    {
     "data": {
      "text/plain": [
       "(4.9, '천만원')"
      ]
     },
     "execution_count": 367,
     "metadata": {},
     "output_type": "execute_result"
    }
   ],
   "source": [
    "df_amdif = df_am.amount - df_bm.amount\n",
    "round(df_amdif.sum()/10**7, 1), '천만원'"
   ]
  },
  {
   "cell_type": "code",
   "execution_count": 368,
   "id": "27749dcc",
   "metadata": {},
   "outputs": [
    {
     "data": {
      "text/plain": [
       "(20.2, '천만원 -> ', 25.0, '천만원')"
      ]
     },
     "execution_count": 368,
     "metadata": {},
     "output_type": "execute_result"
    }
   ],
   "source": [
    "round(df_bm.amount.sum()/10**7, 1), '천만원 -> ', round(df_am.amount.sum()/10**7, 1), '천만원'"
   ]
  },
  {
   "cell_type": "markdown",
   "id": "4b81eb4c",
   "metadata": {},
   "source": [
    "- 분명 늘었다, 그렇다면 1. 요약 OR 2. 시각화에서 잘못됨."
   ]
  },
  {
   "cell_type": "markdown",
   "id": "09d2e140",
   "metadata": {},
   "source": [
    "- 1.요약은 문제 없음~~.."
   ]
  },
  {
   "cell_type": "markdown",
   "id": "c52e396f",
   "metadata": {},
   "source": [
    "#### 조작전(df_c1)/ 조작후(df_cus) 비교 시각화\n",
    "- 남성, 고가,,, 나이로 보기"
   ]
  },
  {
   "cell_type": "code",
   "execution_count": 509,
   "id": "c84f16d9",
   "metadata": {
    "scrolled": false
   },
   "outputs": [
    {
     "data": {
      "text/html": [
       "<div>\n",
       "<style scoped>\n",
       "    .dataframe tbody tr th:only-of-type {\n",
       "        vertical-align: middle;\n",
       "    }\n",
       "\n",
       "    .dataframe tbody tr th {\n",
       "        vertical-align: top;\n",
       "    }\n",
       "\n",
       "    .dataframe thead th {\n",
       "        text-align: right;\n",
       "    }\n",
       "</style>\n",
       "<table border=\"1\" class=\"dataframe\">\n",
       "  <thead>\n",
       "    <tr style=\"text-align: right;\">\n",
       "      <th></th>\n",
       "      <th>cus_id</th>\n",
       "      <th>gender</th>\n",
       "      <th>age</th>\n",
       "      <th>region</th>\n",
       "      <th>amount_20p10</th>\n",
       "      <th>amount_20p20</th>\n",
       "      <th>amount_20p30</th>\n",
       "      <th>amount_21p10</th>\n",
       "      <th>amount_21p20</th>\n",
       "      <th>amount_21p30</th>\n",
       "    </tr>\n",
       "  </thead>\n",
       "  <tbody>\n",
       "    <tr>\n",
       "      <th>0</th>\n",
       "      <td>0</td>\n",
       "      <td>male</td>\n",
       "      <td>30s</td>\n",
       "      <td>cityA</td>\n",
       "      <td>660</td>\n",
       "      <td>145</td>\n",
       "      <td>0</td>\n",
       "      <td>0</td>\n",
       "      <td>0</td>\n",
       "      <td>0</td>\n",
       "    </tr>\n",
       "    <tr>\n",
       "      <th>1</th>\n",
       "      <td>1</td>\n",
       "      <td>male</td>\n",
       "      <td>60s</td>\n",
       "      <td>cityC</td>\n",
       "      <td>223</td>\n",
       "      <td>467</td>\n",
       "      <td>0</td>\n",
       "      <td>909</td>\n",
       "      <td>166</td>\n",
       "      <td>0</td>\n",
       "    </tr>\n",
       "    <tr>\n",
       "      <th>2</th>\n",
       "      <td>2</td>\n",
       "      <td>female</td>\n",
       "      <td>30s</td>\n",
       "      <td>cityC</td>\n",
       "      <td>182</td>\n",
       "      <td>0</td>\n",
       "      <td>45</td>\n",
       "      <td>0</td>\n",
       "      <td>67</td>\n",
       "      <td>0</td>\n",
       "    </tr>\n",
       "    <tr>\n",
       "      <th>3</th>\n",
       "      <td>3</td>\n",
       "      <td>male</td>\n",
       "      <td>20s</td>\n",
       "      <td>cityC</td>\n",
       "      <td>223</td>\n",
       "      <td>415</td>\n",
       "      <td>52</td>\n",
       "      <td>639</td>\n",
       "      <td>321</td>\n",
       "      <td>50</td>\n",
       "    </tr>\n",
       "    <tr>\n",
       "      <th>4</th>\n",
       "      <td>4</td>\n",
       "      <td>male</td>\n",
       "      <td>40s</td>\n",
       "      <td>cityB</td>\n",
       "      <td>302</td>\n",
       "      <td>98</td>\n",
       "      <td>3</td>\n",
       "      <td>118</td>\n",
       "      <td>258</td>\n",
       "      <td>61</td>\n",
       "    </tr>\n",
       "  </tbody>\n",
       "</table>\n",
       "</div>"
      ],
      "text/plain": [
       "   cus_id  gender  age region  amount_20p10  amount_20p20  amount_20p30  \\\n",
       "0       0    male  30s  cityA           660           145             0   \n",
       "1       1    male  60s  cityC           223           467             0   \n",
       "2       2  female  30s  cityC           182             0            45   \n",
       "3       3    male  20s  cityC           223           415            52   \n",
       "4       4    male  40s  cityB           302            98             3   \n",
       "\n",
       "   amount_21p10  amount_21p20  amount_21p30  \n",
       "0             0             0             0  \n",
       "1           909           166             0  \n",
       "2             0            67             0  \n",
       "3           639           321            50  \n",
       "4           118           258            61  "
      ]
     },
     "execution_count": 509,
     "metadata": {},
     "output_type": "execute_result"
    }
   ],
   "source": [
    "df_cus1 = df_cus.copy()\n",
    "df_cus1.head()"
   ]
  },
  {
   "cell_type": "code",
   "execution_count": 510,
   "id": "e92b287d",
   "metadata": {},
   "outputs": [],
   "source": [
    "df_cus2 = df_cus1[(df_cus1.gender == 'male')]\n",
    "g_male = df_cus2.groupby(['age'])"
   ]
  },
  {
   "cell_type": "code",
   "execution_count": 511,
   "id": "119f2b36",
   "metadata": {
    "scrolled": false
   },
   "outputs": [
    {
     "data": {
      "text/html": [
       "<div>\n",
       "<style scoped>\n",
       "    .dataframe tbody tr th:only-of-type {\n",
       "        vertical-align: middle;\n",
       "    }\n",
       "\n",
       "    .dataframe tbody tr th {\n",
       "        vertical-align: top;\n",
       "    }\n",
       "\n",
       "    .dataframe thead th {\n",
       "        text-align: right;\n",
       "    }\n",
       "</style>\n",
       "<table border=\"1\" class=\"dataframe\">\n",
       "  <thead>\n",
       "    <tr style=\"text-align: right;\">\n",
       "      <th></th>\n",
       "      <th>amount_21p10</th>\n",
       "    </tr>\n",
       "    <tr>\n",
       "      <th>age</th>\n",
       "      <th></th>\n",
       "    </tr>\n",
       "  </thead>\n",
       "  <tbody>\n",
       "    <tr>\n",
       "      <th>10s</th>\n",
       "      <td>14458</td>\n",
       "    </tr>\n",
       "    <tr>\n",
       "      <th>20s</th>\n",
       "      <td>21141</td>\n",
       "    </tr>\n",
       "    <tr>\n",
       "      <th>30s</th>\n",
       "      <td>43650</td>\n",
       "    </tr>\n",
       "    <tr>\n",
       "      <th>40s</th>\n",
       "      <td>37562</td>\n",
       "    </tr>\n",
       "    <tr>\n",
       "      <th>50s</th>\n",
       "      <td>25482</td>\n",
       "    </tr>\n",
       "    <tr>\n",
       "      <th>60s</th>\n",
       "      <td>30840</td>\n",
       "    </tr>\n",
       "    <tr>\n",
       "      <th>70s</th>\n",
       "      <td>36510</td>\n",
       "    </tr>\n",
       "    <tr>\n",
       "      <th>80s</th>\n",
       "      <td>29182</td>\n",
       "    </tr>\n",
       "  </tbody>\n",
       "</table>\n",
       "</div>"
      ],
      "text/plain": [
       "     amount_21p10\n",
       "age              \n",
       "10s         14458\n",
       "20s         21141\n",
       "30s         43650\n",
       "40s         37562\n",
       "50s         25482\n",
       "60s         30840\n",
       "70s         36510\n",
       "80s         29182"
      ]
     },
     "execution_count": 511,
     "metadata": {},
     "output_type": "execute_result"
    }
   ],
   "source": [
    "sss = g_male.agg({'amount_21p10': 'sum'})\n",
    "sss"
   ]
  },
  {
   "cell_type": "code",
   "execution_count": null,
   "id": "4f73d79b",
   "metadata": {},
   "outputs": [],
   "source": []
  },
  {
   "cell_type": "code",
   "execution_count": null,
   "id": "d5b1aab4",
   "metadata": {},
   "outputs": [],
   "source": []
  },
  {
   "cell_type": "code",
   "execution_count": 512,
   "id": "60c1d7a0",
   "metadata": {
    "scrolled": false
   },
   "outputs": [
    {
     "data": {
      "text/html": [
       "<div>\n",
       "<style scoped>\n",
       "    .dataframe tbody tr th:only-of-type {\n",
       "        vertical-align: middle;\n",
       "    }\n",
       "\n",
       "    .dataframe tbody tr th {\n",
       "        vertical-align: top;\n",
       "    }\n",
       "\n",
       "    .dataframe thead th {\n",
       "        text-align: right;\n",
       "    }\n",
       "</style>\n",
       "<table border=\"1\" class=\"dataframe\">\n",
       "  <thead>\n",
       "    <tr style=\"text-align: right;\">\n",
       "      <th></th>\n",
       "      <th>cus_id</th>\n",
       "      <th>gender</th>\n",
       "      <th>age</th>\n",
       "      <th>region</th>\n",
       "      <th>amount_20p10</th>\n",
       "      <th>amount_20p20</th>\n",
       "      <th>amount_20p30</th>\n",
       "      <th>amount_21p10</th>\n",
       "      <th>amount_21p20</th>\n",
       "      <th>amount_21p30</th>\n",
       "    </tr>\n",
       "  </thead>\n",
       "  <tbody>\n",
       "    <tr>\n",
       "      <th>0</th>\n",
       "      <td>0</td>\n",
       "      <td>male</td>\n",
       "      <td>30s</td>\n",
       "      <td>cityA</td>\n",
       "      <td>660</td>\n",
       "      <td>145</td>\n",
       "      <td>0</td>\n",
       "      <td>0</td>\n",
       "      <td>0</td>\n",
       "      <td>0</td>\n",
       "    </tr>\n",
       "    <tr>\n",
       "      <th>1</th>\n",
       "      <td>1</td>\n",
       "      <td>male</td>\n",
       "      <td>60s</td>\n",
       "      <td>cityC</td>\n",
       "      <td>223</td>\n",
       "      <td>467</td>\n",
       "      <td>0</td>\n",
       "      <td>909</td>\n",
       "      <td>166</td>\n",
       "      <td>0</td>\n",
       "    </tr>\n",
       "    <tr>\n",
       "      <th>2</th>\n",
       "      <td>2</td>\n",
       "      <td>female</td>\n",
       "      <td>30s</td>\n",
       "      <td>cityC</td>\n",
       "      <td>182</td>\n",
       "      <td>0</td>\n",
       "      <td>45</td>\n",
       "      <td>0</td>\n",
       "      <td>216</td>\n",
       "      <td>0</td>\n",
       "    </tr>\n",
       "    <tr>\n",
       "      <th>3</th>\n",
       "      <td>3</td>\n",
       "      <td>male</td>\n",
       "      <td>20s</td>\n",
       "      <td>cityC</td>\n",
       "      <td>223</td>\n",
       "      <td>415</td>\n",
       "      <td>52</td>\n",
       "      <td>639</td>\n",
       "      <td>321</td>\n",
       "      <td>50</td>\n",
       "    </tr>\n",
       "    <tr>\n",
       "      <th>4</th>\n",
       "      <td>4</td>\n",
       "      <td>male</td>\n",
       "      <td>40s</td>\n",
       "      <td>cityB</td>\n",
       "      <td>302</td>\n",
       "      <td>98</td>\n",
       "      <td>3</td>\n",
       "      <td>118</td>\n",
       "      <td>258</td>\n",
       "      <td>61</td>\n",
       "    </tr>\n",
       "  </tbody>\n",
       "</table>\n",
       "</div>"
      ],
      "text/plain": [
       "   cus_id  gender  age region  amount_20p10  amount_20p20  amount_20p30  \\\n",
       "0       0    male  30s  cityA           660           145             0   \n",
       "1       1    male  60s  cityC           223           467             0   \n",
       "2       2  female  30s  cityC           182             0            45   \n",
       "3       3    male  20s  cityC           223           415            52   \n",
       "4       4    male  40s  cityB           302            98             3   \n",
       "\n",
       "   amount_21p10  amount_21p20  amount_21p30  \n",
       "0             0             0             0  \n",
       "1           909           166             0  \n",
       "2             0           216             0  \n",
       "3           639           321            50  \n",
       "4           118           258            61  "
      ]
     },
     "execution_count": 512,
     "metadata": {},
     "output_type": "execute_result"
    }
   ],
   "source": [
    "df_c2 = df_c1.copy()\n",
    "df_c2.head()"
   ]
  },
  {
   "cell_type": "code",
   "execution_count": 513,
   "id": "89551912",
   "metadata": {
    "scrolled": false
   },
   "outputs": [],
   "source": [
    "df_c2 = df_c2[(df_c2.gender == 'male')]\n",
    "g_male_2 = df_c2.groupby(['age'])\n",
    "ssss = g_male_2.agg({'amount_21p10': 'sum'})\n",
    "\n",
    "\n",
    "df_c2 = df_c2[(df_c2.gender == 'male')]\n",
    "g_male_3 = df_c2.groupby(['age'])\n",
    "sssss = g_male_3.agg({'amount_20p10': 'sum'})"
   ]
  },
  {
   "cell_type": "code",
   "execution_count": 514,
   "id": "62f85ebf",
   "metadata": {},
   "outputs": [
    {
     "data": {
      "text/plain": [
       "({'10s': 12720,\n",
       "  '20s': 21000,\n",
       "  '30s': 38069,\n",
       "  '40s': 21864,\n",
       "  '50s': 26566,\n",
       "  '60s': 27842,\n",
       "  '70s': 28760,\n",
       "  '80s': 30451},\n",
       " {'10s': 14458,\n",
       "  '20s': 20310,\n",
       "  '30s': 34478,\n",
       "  '40s': 29588,\n",
       "  '50s': 20879,\n",
       "  '60s': 30840,\n",
       "  '70s': 36510,\n",
       "  '80s': 29182},\n",
       " {'10s': 14458,\n",
       "  '20s': 21141,\n",
       "  '30s': 43650,\n",
       "  '40s': 37562,\n",
       "  '50s': 25482,\n",
       "  '60s': 30840,\n",
       "  '70s': 36510,\n",
       "  '80s': 29182})"
      ]
     },
     "execution_count": 514,
     "metadata": {},
     "output_type": "execute_result"
    }
   ],
   "source": [
    "after = sss.amount_21p10.to_dict()\n",
    "before = ssss.amount_21p10.to_dict()\n",
    "twenty0 = sssss.amount_20p10.to_dict()\n",
    "twenty0, before, after"
   ]
  },
  {
   "cell_type": "code",
   "execution_count": 515,
   "id": "b592279b",
   "metadata": {},
   "outputs": [],
   "source": [
    "ages = pd.Series(list(before))"
   ]
  },
  {
   "cell_type": "code",
   "execution_count": 516,
   "id": "2536a5c6",
   "metadata": {},
   "outputs": [],
   "source": [
    "before = pd.Series(list(before.values()))"
   ]
  },
  {
   "cell_type": "code",
   "execution_count": 517,
   "id": "7b39f0fe",
   "metadata": {},
   "outputs": [],
   "source": [
    "after = pd.Series(list(after.values()))"
   ]
  },
  {
   "cell_type": "code",
   "execution_count": 518,
   "id": "915fc6c7",
   "metadata": {},
   "outputs": [],
   "source": [
    "twenty0 = pd.Series(list(twenty0.values()))"
   ]
  },
  {
   "cell_type": "code",
   "execution_count": 519,
   "id": "34de8adc",
   "metadata": {},
   "outputs": [
    {
     "data": {
      "text/plain": [
       "0    12720\n",
       "1    21000\n",
       "2    38069\n",
       "3    21864\n",
       "4    26566\n",
       "5    27842\n",
       "6    28760\n",
       "7    30451\n",
       "dtype: int64"
      ]
     },
     "execution_count": 519,
     "metadata": {},
     "output_type": "execute_result"
    }
   ],
   "source": [
    "twenty0"
   ]
  },
  {
   "cell_type": "code",
   "execution_count": 520,
   "id": "01097eda",
   "metadata": {},
   "outputs": [],
   "source": [
    "df_dtd = pd.concat([ages, twenty0, before], axis=1)\n",
    "df_dtd.rename({0: 'ages', 1: 'twenty0', 2:'before'}, inplace=True, axis=1)\n",
    "\n",
    "df_dtd2 = pd.concat([ages, twenty0, after], axis=1)\n",
    "df_dtd2.rename({0: 'ages', 1: 'twenty0', 2:'after'}, inplace=True, axis=1)"
   ]
  },
  {
   "cell_type": "code",
   "execution_count": 521,
   "id": "1ed6146e",
   "metadata": {},
   "outputs": [
    {
     "data": {
      "text/plain": [
       "<AxesSubplot:xlabel='ages'>"
      ]
     },
     "execution_count": 521,
     "metadata": {},
     "output_type": "execute_result"
    },
    {
     "data": {
      "image/png": "[encoded data removed]",
      "text/plain": [
       "<Figure size 432x288 with 1 Axes>"
      ]
     },
     "metadata": {
      "needs_background": "light"
     },
     "output_type": "display_data"
    },
    {
     "data": {
      "image/png": "[encoded data removed]",
      "text/plain": [
       "<Figure size 432x288 with 1 Axes>"
      ]
     },
     "metadata": {
      "needs_background": "light"
     },
     "output_type": "display_data"
    }
   ],
   "source": [
    "df_dtd.set_index('ages', inplace=True)\n",
    "df_dtd2.set_index('ages', inplace=True)\n",
    "\n",
    "df_dtd.plot.bar()\n",
    "df_dtd2.plot.bar()"
   ]
  },
  {
   "cell_type": "code",
   "execution_count": 507,
   "id": "6bb6f37f",
   "metadata": {},
   "outputs": [
    {
     "data": {
      "text/html": [
       "<div>\n",
       "<style scoped>\n",
       "    .dataframe tbody tr th:only-of-type {\n",
       "        vertical-align: middle;\n",
       "    }\n",
       "\n",
       "    .dataframe tbody tr th {\n",
       "        vertical-align: top;\n",
       "    }\n",
       "\n",
       "    .dataframe thead th {\n",
       "        text-align: right;\n",
       "    }\n",
       "</style>\n",
       "<table border=\"1\" class=\"dataframe\">\n",
       "  <thead>\n",
       "    <tr style=\"text-align: right;\">\n",
       "      <th></th>\n",
       "      <th>twenty0</th>\n",
       "      <th>before</th>\n",
       "    </tr>\n",
       "    <tr>\n",
       "      <th>ages</th>\n",
       "      <th></th>\n",
       "      <th></th>\n",
       "    </tr>\n",
       "  </thead>\n",
       "  <tbody>\n",
       "    <tr>\n",
       "      <th>10s</th>\n",
       "      <td>12720</td>\n",
       "      <td>14458</td>\n",
       "    </tr>\n",
       "    <tr>\n",
       "      <th>20s</th>\n",
       "      <td>21000</td>\n",
       "      <td>20310</td>\n",
       "    </tr>\n",
       "    <tr>\n",
       "      <th>30s</th>\n",
       "      <td>38069</td>\n",
       "      <td>34478</td>\n",
       "    </tr>\n",
       "    <tr>\n",
       "      <th>40s</th>\n",
       "      <td>21864</td>\n",
       "      <td>29588</td>\n",
       "    </tr>\n",
       "    <tr>\n",
       "      <th>50s</th>\n",
       "      <td>26566</td>\n",
       "      <td>20879</td>\n",
       "    </tr>\n",
       "    <tr>\n",
       "      <th>60s</th>\n",
       "      <td>27842</td>\n",
       "      <td>30840</td>\n",
       "    </tr>\n",
       "    <tr>\n",
       "      <th>70s</th>\n",
       "      <td>28760</td>\n",
       "      <td>36510</td>\n",
       "    </tr>\n",
       "    <tr>\n",
       "      <th>80s</th>\n",
       "      <td>30451</td>\n",
       "      <td>29182</td>\n",
       "    </tr>\n",
       "  </tbody>\n",
       "</table>\n",
       "</div>"
      ],
      "text/plain": [
       "      twenty0  before\n",
       "ages                 \n",
       "10s     12720   14458\n",
       "20s     21000   20310\n",
       "30s     38069   34478\n",
       "40s     21864   29588\n",
       "50s     26566   20879\n",
       "60s     27842   30840\n",
       "70s     28760   36510\n",
       "80s     30451   29182"
      ]
     },
     "execution_count": 507,
     "metadata": {},
     "output_type": "execute_result"
    }
   ],
   "source": [
    "df_dtd"
   ]
  },
  {
   "cell_type": "code",
   "execution_count": null,
   "id": "fcd096ec",
   "metadata": {},
   "outputs": [],
   "source": []
  },
  {
   "cell_type": "markdown",
   "id": "b504bc5d",
   "metadata": {},
   "source": [
    "### 여성, 20-40대, 저가 -> 매출 증가"
   ]
  },
  {
   "cell_type": "markdown",
   "id": "37d126ef",
   "metadata": {},
   "source": [
    "- 여성, 저가 뽑아서 나이별 확인"
   ]
  },
  {
   "cell_type": "code",
   "execution_count": 369,
   "id": "4eb7589a",
   "metadata": {
    "scrolled": false
   },
   "outputs": [
    {
     "name": "stdout",
     "output_type": "stream",
     "text": [
      "['female']\n",
      "Categories (2, object): ['female', 'male']\n"
     ]
    },
    {
     "data": {
      "text/plain": [
       "<AxesSubplot:xlabel='age'>"
      ]
     },
     "execution_count": 369,
     "metadata": {},
     "output_type": "execute_result"
    },
    {
     "data": {
      "image/png": "[encoded data removed]",
      "text/plain": [
       "<Figure size 432x288 with 1 Axes>"
      ]
     },
     "metadata": {
      "needs_background": "light"
     },
     "output_type": "display_data"
    },
    {
     "data": {
      "image/png": "[encoded data removed]",
      "text/plain": [
       "<Figure size 432x288 with 1 Axes>"
      ]
     },
     "metadata": {
      "needs_background": "light"
     },
     "output_type": "display_data"
    }
   ],
   "source": [
    "df8 = df_cus.copy()\n",
    "df9 = df8[(df8.gender == 'female')].loc[:,['gender', 'age', 'amount_20p30', 'amount_21p30']]\n",
    "\n",
    "print(df9.gender.unique())\n",
    "df9.drop(columns=['gender'], inplace=True)\n",
    "g_age = df9.groupby('age')\n",
    "g_age.agg({'amount_20p30': 'sum', 'amount_21p30': 'sum'}).plot(kind='bar')\n",
    "g_age.agg({'amount_20p30': 'mean', 'amount_21p30': 'mean'}).plot(kind='bar')"
   ]
  },
  {
   "cell_type": "code",
   "execution_count": 370,
   "id": "5d00d196",
   "metadata": {},
   "outputs": [
    {
     "data": {
      "text/plain": [
       "[<matplotlib.lines.Line2D at 0x2bdb7e75370>]"
      ]
     },
     "execution_count": 370,
     "metadata": {},
     "output_type": "execute_result"
    },
    {
     "data": {
      "image/png": "[encoded data removed]",
      "text/plain": [
       "<Figure size 432x288 with 1 Axes>"
      ]
     },
     "metadata": {
      "needs_background": "light"
     },
     "output_type": "display_data"
    }
   ],
   "source": [
    "df9.replace({'10s':10, '20s':20, '30s':30, '40s':40, '50s':50, '60s':60, '70s':70,  '80s':80}, inplace=True)\n",
    "list_agesum = []\n",
    "for i in range(10, 90, 10):\n",
    "    list_agesum.append((df9.age == i).sum())\n",
    "plt.plot(list(range(10, 90, 10)), list_agesum, 'bo-')"
   ]
  },
  {
   "cell_type": "code",
   "execution_count": null,
   "id": "0cf9cbc9",
   "metadata": {},
   "outputs": [],
   "source": []
  },
  {
   "cell_type": "code",
   "execution_count": null,
   "id": "c87797a9",
   "metadata": {},
   "outputs": [],
   "source": []
  },
  {
   "cell_type": "code",
   "execution_count": null,
   "id": "3ce990b8",
   "metadata": {},
   "outputs": [],
   "source": []
  },
  {
   "cell_type": "code",
   "execution_count": null,
   "id": "9093d8e2",
   "metadata": {},
   "outputs": [],
   "source": []
  },
  {
   "cell_type": "markdown",
   "id": "71fb07d0",
   "metadata": {},
   "source": [
    "### 여성, 20-40대, 중&고가 -> 매출 감소"
   ]
  },
  {
   "cell_type": "markdown",
   "id": "6a82e552",
   "metadata": {},
   "source": [
    "### D도시, 저가 -> 매출 감소\n",
    "- 인데 지금 데이터에는 D도시가 없어서 B도시(region = 1)로 조작했음"
   ]
  },
  {
   "cell_type": "code",
   "execution_count": null,
   "id": "6b1239e2",
   "metadata": {},
   "outputs": [],
   "source": []
  },
  {
   "cell_type": "code",
   "execution_count": null,
   "id": "4a4694c6",
   "metadata": {},
   "outputs": [],
   "source": []
  },
  {
   "cell_type": "code",
   "execution_count": null,
   "id": "6d53f25a",
   "metadata": {},
   "outputs": [],
   "source": []
  },
  {
   "cell_type": "code",
   "execution_count": null,
   "id": "6217f5e9",
   "metadata": {},
   "outputs": [],
   "source": []
  },
  {
   "cell_type": "code",
   "execution_count": null,
   "id": "6c7b94ad",
   "metadata": {},
   "outputs": [],
   "source": []
  },
  {
   "cell_type": "code",
   "execution_count": null,
   "id": "6b57baee",
   "metadata": {},
   "outputs": [],
   "source": []
  }
 ],
 "metadata": {
  "kernelspec": {
   "display_name": "Python 3 (ipykernel)",
   "language": "python",
   "name": "python3"
  },
  "language_info": {
   "codemirror_mode": {
    "name": "ipython",
    "version": 3
   },
   "file_extension": ".py",
   "mimetype": "text/x-python",
   "name": "python",
   "nbconvert_exporter": "python",
   "pygments_lexer": "ipython3",
   "version": "3.8.13"
  },
  "toc": {
   "base_numbering": 1,
   "nav_menu": {},
   "number_sections": true,
   "sideBar": true,
   "skip_h1_title": false,
   "title_cell": "Table of Contents",
   "title_sidebar": "Contents",
   "toc_cell": false,
   "toc_position": {
    "height": "calc(100% - 180px)",
    "left": "10px",
    "top": "150px",
    "width": "453px"
   },
   "toc_section_display": true,
   "toc_window_display": true
  }
 },
 "nbformat": 4,
 "nbformat_minor": 5
}
