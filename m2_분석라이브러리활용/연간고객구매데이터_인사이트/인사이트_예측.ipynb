{
 "cells": [
  {
   "cell_type": "markdown",
   "id": "1d8e2f66",
   "metadata": {},
   "source": [
    "# 연간고객구매데이터_인사이트\n",
    ": 아래 가이드에 따라서 고객별 연간 구매데이터를 생성하고 아래사항을 수행하세요(관측치 1000개)\n",
    "\n",
    "## Q1. 고객 속성(id, 성별, 연령, 거주지역) 데이터와 거래 데이터를 통합한 데이터 프레임 df를 생성하세요.\n",
    "\n",
    "거래 번호\n",
    "- id : 1 ~ 1000번 일련번호 - 개시 후 1천 건의 거래가 있었고 걍 거기에 넘버링한 거라고 이해해보자\n",
    "\n",
    "고객별 속성 데이터\n",
    "- cusno : 고객번호 1000개 랜덤\n",
    "- gender : 0,1 정수 난수 생성\n",
    "- age : 0 ~ 80사이 정수 난수 생성\n",
    "- region : 1 ~ 10 사이 정수 난수 생성\n",
    "\n",
    "거래 데이터\n",
    "\n",
    "- product_20 : 고가제품(10), 중가제품(20), 저가제품(30)로 구분제품코드 10,20,30\n",
    "- product_21 : 고가제품(10), 중가제품(20), 저가제품(30)로 구분제품코드 10,20,30\n",
    "- price_20 : 1000 ~ 50000 사이 실수 난수 생성\n",
    "- price_21 : 1000 ~ 50000 사이 실수 난수 생성\n",
    "- quantity_20 : 1 ~ 100 사이 정수 난수 생성\n",
    "- quantity_21 : 1 ~ 100 사이 정수 난수 생성\n",
    "\n",
    "- amount_20 : price_20 * quantity_20\n",
    "- amount_21 : price_21 * quantity_21\n",
    "- sales : 20년 대비 21년구매금액이 증가면 1, 감소면 0"
   ]
  },
  {
   "cell_type": "code",
   "execution_count": 57,
   "id": "22190ea9",
   "metadata": {},
   "outputs": [],
   "source": [
    "from numpy.random import randint as rri\n",
    "\n",
    "id_ = np.array(range(1, 1001))\n",
    "\n",
    "cusno = rri(1000, size = 1000)\n",
    "\n",
    "gender = rri(2, size = 1000)\n",
    "age = rri(81, size = 1000)\n",
    "region = rri(1, 11, size = 1000)"
   ]
  },
  {
   "cell_type": "code",
   "execution_count": 58,
   "id": "d2cbfb0f",
   "metadata": {},
   "outputs": [],
   "source": [
    "product_20 = (rri(1, 4, size = 1000))*10\n",
    "product_21 = (rri(1, 4, size=1000))*10\n",
    "price_20 = np.random.uniform(1000.0, 50000.0, size=1000)\n",
    "price_21 = np.random.uniform(1000.0, 50000.0, size=1000)\n",
    "quantity_20 = rri(1, 101, size=1000)\n",
    "quantity_21 = rri(1, 101, size=1000)"
   ]
  },
  {
   "cell_type": "code",
   "execution_count": 59,
   "id": "3d3b315f",
   "metadata": {},
   "outputs": [],
   "source": [
    "amount_20 = price_20*quantity_20\n",
    "amount_21 = price_21*quantity_21\n",
    "\n",
    "sales =np.where((amount_20 < amount_21), 1, 0)"
   ]
  },
  {
   "cell_type": "code",
   "execution_count": 60,
   "id": "0dcee19d",
   "metadata": {},
   "outputs": [
    {
     "data": {
      "text/plain": [
       "(list, pandas.core.series.Series)"
      ]
     },
     "execution_count": 60,
     "metadata": {},
     "output_type": "execute_result"
    }
   ],
   "source": [
    "data = [id_, cusno, gender, age, region, \n",
    "        product_20, product_21,price_20, price_21, quantity_20, quantity_21,\n",
    "       amount_20, amount_21, sales]\n",
    "sr_list = []\n",
    "for i in data:\n",
    "    i = pd.Series(i)\n",
    "    sr_list.append(i)\n",
    "type(sr_list), type(sr_list[0])"
   ]
  },
  {
   "cell_type": "code",
   "execution_count": 61,
   "id": "dc2e18ef",
   "metadata": {
    "scrolled": true
   },
   "outputs": [
    {
     "data": {
      "text/html": [
       "<div>\n",
       "<style scoped>\n",
       "    .dataframe tbody tr th:only-of-type {\n",
       "        vertical-align: middle;\n",
       "    }\n",
       "\n",
       "    .dataframe tbody tr th {\n",
       "        vertical-align: top;\n",
       "    }\n",
       "\n",
       "    .dataframe thead th {\n",
       "        text-align: right;\n",
       "    }\n",
       "</style>\n",
       "<table border=\"1\" class=\"dataframe\">\n",
       "  <thead>\n",
       "    <tr style=\"text-align: right;\">\n",
       "      <th></th>\n",
       "      <th>id_</th>\n",
       "      <th>cusno</th>\n",
       "      <th>gender</th>\n",
       "      <th>age</th>\n",
       "      <th>region</th>\n",
       "      <th>product_20</th>\n",
       "      <th>product_21</th>\n",
       "      <th>price_20</th>\n",
       "      <th>price_21</th>\n",
       "      <th>quantity_20</th>\n",
       "      <th>quantity_21</th>\n",
       "      <th>amount_20</th>\n",
       "      <th>amount_21</th>\n",
       "      <th>sales</th>\n",
       "    </tr>\n",
       "  </thead>\n",
       "  <tbody>\n",
       "    <tr>\n",
       "      <th>0</th>\n",
       "      <td>1</td>\n",
       "      <td>260</td>\n",
       "      <td>1</td>\n",
       "      <td>51</td>\n",
       "      <td>5</td>\n",
       "      <td>20</td>\n",
       "      <td>20</td>\n",
       "      <td>47535.012293</td>\n",
       "      <td>46056.742900</td>\n",
       "      <td>24</td>\n",
       "      <td>26</td>\n",
       "      <td>1.140840e+06</td>\n",
       "      <td>1.197475e+06</td>\n",
       "      <td>1</td>\n",
       "    </tr>\n",
       "    <tr>\n",
       "      <th>1</th>\n",
       "      <td>2</td>\n",
       "      <td>680</td>\n",
       "      <td>1</td>\n",
       "      <td>14</td>\n",
       "      <td>6</td>\n",
       "      <td>10</td>\n",
       "      <td>30</td>\n",
       "      <td>13035.189253</td>\n",
       "      <td>15966.202594</td>\n",
       "      <td>62</td>\n",
       "      <td>10</td>\n",
       "      <td>8.081817e+05</td>\n",
       "      <td>1.596620e+05</td>\n",
       "      <td>0</td>\n",
       "    </tr>\n",
       "    <tr>\n",
       "      <th>2</th>\n",
       "      <td>3</td>\n",
       "      <td>961</td>\n",
       "      <td>0</td>\n",
       "      <td>80</td>\n",
       "      <td>9</td>\n",
       "      <td>10</td>\n",
       "      <td>10</td>\n",
       "      <td>26324.126659</td>\n",
       "      <td>20975.558691</td>\n",
       "      <td>38</td>\n",
       "      <td>6</td>\n",
       "      <td>1.000317e+06</td>\n",
       "      <td>1.258534e+05</td>\n",
       "      <td>0</td>\n",
       "    </tr>\n",
       "    <tr>\n",
       "      <th>3</th>\n",
       "      <td>4</td>\n",
       "      <td>685</td>\n",
       "      <td>1</td>\n",
       "      <td>17</td>\n",
       "      <td>8</td>\n",
       "      <td>10</td>\n",
       "      <td>20</td>\n",
       "      <td>22813.065746</td>\n",
       "      <td>13610.844233</td>\n",
       "      <td>7</td>\n",
       "      <td>34</td>\n",
       "      <td>1.596915e+05</td>\n",
       "      <td>4.627687e+05</td>\n",
       "      <td>1</td>\n",
       "    </tr>\n",
       "    <tr>\n",
       "      <th>4</th>\n",
       "      <td>5</td>\n",
       "      <td>754</td>\n",
       "      <td>1</td>\n",
       "      <td>33</td>\n",
       "      <td>4</td>\n",
       "      <td>10</td>\n",
       "      <td>10</td>\n",
       "      <td>45240.472765</td>\n",
       "      <td>46142.577851</td>\n",
       "      <td>5</td>\n",
       "      <td>34</td>\n",
       "      <td>2.262024e+05</td>\n",
       "      <td>1.568848e+06</td>\n",
       "      <td>1</td>\n",
       "    </tr>\n",
       "  </tbody>\n",
       "</table>\n",
       "</div>"
      ],
      "text/plain": [
       "   id_  cusno  gender  age  region  product_20  product_21      price_20  \\\n",
       "0    1    260       1   51       5          20          20  47535.012293   \n",
       "1    2    680       1   14       6          10          30  13035.189253   \n",
       "2    3    961       0   80       9          10          10  26324.126659   \n",
       "3    4    685       1   17       8          10          20  22813.065746   \n",
       "4    5    754       1   33       4          10          10  45240.472765   \n",
       "\n",
       "       price_21  quantity_20  quantity_21     amount_20     amount_21  sales  \n",
       "0  46056.742900           24           26  1.140840e+06  1.197475e+06      1  \n",
       "1  15966.202594           62           10  8.081817e+05  1.596620e+05      0  \n",
       "2  20975.558691           38            6  1.000317e+06  1.258534e+05      0  \n",
       "3  13610.844233            7           34  1.596915e+05  4.627687e+05      1  \n",
       "4  46142.577851            5           34  2.262024e+05  1.568848e+06      1  "
      ]
     },
     "execution_count": 61,
     "metadata": {},
     "output_type": "execute_result"
    }
   ],
   "source": [
    "df = pd.concat(sr_list, axis=1)\n",
    "list_col = ['id_', 'cusno', 'gender', 'age', 'region', \n",
    "        'product_20', 'product_21', 'price_20', 'price_21', 'quantity_20', 'quantity_21',\n",
    "       'amount_20', 'amount_21', 'sales']\n",
    "dict_col = {}\n",
    "for i in range(len(list_col)):\n",
    "    dict_col[i] = list_col[i]\n",
    "df.rename(columns = dict_col, inplace=True)\n",
    "df.head()"
   ]
  },
  {
   "cell_type": "code",
   "execution_count": 62,
   "id": "8ad38860",
   "metadata": {
    "scrolled": true
   },
   "outputs": [
    {
     "data": {
      "text/plain": [
       "636"
      ]
     },
     "execution_count": 62,
     "metadata": {},
     "output_type": "execute_result"
    }
   ],
   "source": [
    "len(set(cusno))"
   ]
  },
  {
   "cell_type": "markdown",
   "id": "0cdba7ec",
   "metadata": {},
   "source": [
    "## Q2. df를 수정하여 3가지 이상의 인사이트를 포함한 데이터 셋으로 변환하세요"
   ]
  },
  {
   "cell_type": "markdown",
   "id": "28f293d1",
   "metadata": {},
   "source": [
    "### 일단 말이되는 데이터 만들기\n",
    "\n",
    "- age는 17 ~ 89로 하고 age_cat을 만들어서 categorize : 10대/20대/.../70대/80대, 00 decades로 하자\n",
    "- region도 분류에 의미부여\n",
    "    - 1안: 서울/ 경기/ 대전/ 광주/ 부산/ 춘천 ...충청도 전라도 경상도 강원도...\n",
    "    - 2안: 도시/ 시골 같은...\n",
    "    - 3안: 가상의 도시 cityA, B, C 생성 (\n",
    "        - 인구수 각 6만/3만/1만으로 상정, 각각 대도시, 부촌, 농촌 같은 느낌으로 생각\n",
    "- price는 1원단위 사용X, 정수형/ 10원~50000원\n",
    "- price에 따라 product를 결정 \n",
    "    - 구간 30 : ~10000/20 : ~30000/10:  ~50000\n",
    "- price가 변경되었으니 amount도 변경"
   ]
  },
  {
   "cell_type": "code",
   "execution_count": null,
   "id": "b7a9a7b9",
   "metadata": {},
   "outputs": [],
   "source": []
  },
  {
   "cell_type": "markdown",
   "id": "0676896b",
   "metadata": {},
   "source": [
    "### 전처리\n",
    "\n",
    "- grade_20, grade_21 항목 추가 : 'A', 'B', 'C'/  \n",
    "    - amount_20, amount_21로 각각 100만 이상/ 30만 이상/ 30만 미만\n",
    "- amount_inc: amount_21-amount_20/\n",
    "    - 증가시 +, 감소시 -, sales 항목과 다른 점은 증감한 매출을 알 수 있다는 점"
   ]
  },
  {
   "cell_type": "markdown",
   "id": "88aacbfb",
   "metadata": {},
   "source": [
    "# 해야할 것이 이게 맞는지 확인 받기"
   ]
  },
  {
   "cell_type": "markdown",
   "id": "80ab2936",
   "metadata": {},
   "source": [
    "## 1천건의 '고객 데이터' 생성\n",
    "\n",
    "    - cusno : 고객번호 1000개\n",
    "    - gender : 0,1 정수 난수 생성\n",
    "    - age : 0 ~ 80사이 정수 난수 생성\n",
    "    - region : 1 ~ 10 사이 정수 난수 생성\n",
    "    - "
   ]
  },
  {
   "cell_type": "markdown",
   "id": "41e44ed5",
   "metadata": {},
   "source": [
    "## 1만건의 '거래 데이터' 생성\n",
    "\n",
    "    - 거래 no. :  0~9999\n",
    "    - date : '2020-01-01' ~ '2021-12-31' 기간으로\n",
    "    - day : 'Mon', ... , 'Sun'\n",
    "    - time : '00:00' ~ '23:59'\n",
    "    - 고객 id : 0 ~ 999\n",
    "    - product : 10:고가, 20: 중가, 30: 저가\n",
    "    - price : 1000~50000, 1원단위 사용하지 않는 정수\n",
    "    - quantity : 1~100\n",
    "    - amount: price * quantity"
   ]
  },
  {
   "cell_type": "markdown",
   "id": "1222f902",
   "metadata": {},
   "source": [
    "- 이 랜덤하게 만든 데이터를 요약해서 살펴보고, 인사이트 뭐넣을지 생각하지\n",
    "- 랜덤 데이터를 왜 들여다 모르겠지만 일단 그렇게 하라고.?.?"
   ]
  },
  {
   "cell_type": "markdown",
   "id": "8ecc796f",
   "metadata": {},
   "source": [
    "    \n",
    "## 위 두개를 합쳐서(???) '통합 데이터 ' 생성\n",
    "- 이 두개를 단순히 customer no. 로 join하는거?? 같은데???\n",
    "    \n",
    "    - 거래 no. :  0~9999\n",
    "    - date : '2020-01-01' ~ '2021-12-31' 기간으로\n",
    "    - day : 'Mon', ... , 'Sun'\n",
    "    - time : '00:00' ~ '23:59'\n",
    "    - 고객 id : 0 ~ 999\n",
    "    - product : 10:고가, 20: 중가, 30: 저가\n",
    "    - price : 1000~50000, 1원단위 사용하지 않는 정수\n",
    "    - quantity : 1~100\n",
    "    - amount: price * quantity\n",
    "    \n",
    "\n",
    "    - cusno : 고객번호 1000개\n",
    "    - gender : 0,1 정수 난수 생성\n",
    "    - age : 0 ~ 80사이 정수 난수 생성\n",
    "    - region : 1 ~ 10 사이 정수 난수 생성\n",
    "\n"
   ]
  },
  {
   "cell_type": "markdown",
   "id": "ef971532",
   "metadata": {},
   "source": [
    "## 인사이트를 정한다\n",
    "    - ex) 코로나로 남성보다 외출 쇼핑 많이 하는 여성 매출 대폭 감소\n",
    "    - 독립변수 - 성별/  종속변수 - 매출증감여부 / + alpha : 이유를 추측 (이 과제에서는 자기가 story를 만든다?)"
   ]
  },
  {
   "cell_type": "markdown",
   "id": "f61481e6",
   "metadata": {},
   "source": [
    "## 인사이트가 나오도록 데이터 조작\n",
    "    - 여기에서 어떤 데이터를 조작해서 인사이트를 도출할 수 있도록 만드나?\n",
    "        - 통합데이터를 조작해서 이걸로 나중에 만들 고객별 거래데이터가 조작된 상태로 나오도록 조작하라는 것? -> 이거 아주 어려울텐데\n"
   ]
  },
  {
   "cell_type": "raw",
   "id": "7fd0028d",
   "metadata": {},
   "source": [
    "두가지를 합쳐서 고객 별 데이터를 만든다. 처음에 만들었던 데이터 _2020, _2021\n",
    "\n",
    "\n",
    "나중에,\n",
    "\n",
    "70%를 떼어온다\n",
    "독립변수 종속변수를 정한다.\n",
    "학습을 시킨다.\n",
    "결과를 도출 어떠한 요소가 어떠한 결과(구매감소, 증가)를 만듬"
   ]
  },
  {
   "cell_type": "markdown",
   "id": "28952680",
   "metadata": {},
   "source": [
    "### 인사이트 3개 정하기"
   ]
  },
  {
   "cell_type": "markdown",
   "id": "3cffcebd",
   "metadata": {},
   "source": [
    "- 각 도시에서의 매출 변화 : B 도시 매출이 감소\n",
    "    - 50% 정도의 B도시 사람들의 매출을 30% 감소 시키자.\n",
    "- grade_20 = 'A' 였던 그룹의  매출 감소, \n",
    "    - 해당 그룹의 70%의 사람들의 매출이 30% 정도 감소\n",
    "    - 21년 매출이 아예 없어지는 항목도 유의미한 정도로 추가\n",
    "    - 해당 그룹 사람들의 60%는 B 도시에 살도록\n",
    "    - "
   ]
  },
  {
   "cell_type": "markdown",
   "id": "e0c22bfa",
   "metadata": {},
   "source": [
    "### 인사이트에 맞게 조작"
   ]
  },
  {
   "cell_type": "code",
   "execution_count": null,
   "id": "c69f6fb0",
   "metadata": {},
   "outputs": [],
   "source": []
  },
  {
   "cell_type": "markdown",
   "id": "0245420d",
   "metadata": {},
   "source": [
    "## Q3. df 를 탐색적 분석을 통하여 인사이트를 도출하세요."
   ]
  },
  {
   "cell_type": "code",
   "execution_count": null,
   "id": "bfdd0842",
   "metadata": {},
   "outputs": [],
   "source": []
  },
  {
   "cell_type": "code",
   "execution_count": null,
   "id": "eb0c1820",
   "metadata": {},
   "outputs": [],
   "source": []
  },
  {
   "cell_type": "code",
   "execution_count": null,
   "id": "187e84a6",
   "metadata": {},
   "outputs": [],
   "source": []
  },
  {
   "cell_type": "code",
   "execution_count": null,
   "id": "ae2d8862",
   "metadata": {},
   "outputs": [],
   "source": []
  },
  {
   "cell_type": "code",
   "execution_count": null,
   "id": "7ae16c01",
   "metadata": {},
   "outputs": [],
   "source": []
  },
  {
   "cell_type": "markdown",
   "id": "510178dd",
   "metadata": {},
   "source": [
    "# 구매감소고객예측"
   ]
  },
  {
   "cell_type": "markdown",
   "id": "0af67531",
   "metadata": {},
   "source": [
    "- 1만건의 거래 데이터\n",
    "    - 거래 no. :  1~10000\n",
    "    - date : '2022-01-01' ~ '2022-06-30' 기간으로\n",
    "    - day : 'Mon', ... , 'Sun'\n",
    "    - time : '00:00' ~ '23:59'\n",
    "    - 고객 id : 0 ~ 999\n",
    "    - (product : 10:고가, 20: 중가, 30: 저가)\n",
    "    - price : 10~50000, 1원단위 사용하지 않는 정수\n",
    "    - quantity : 1~100\n",
    "    - amount: price * quantity"
   ]
  },
  {
   "cell_type": "code",
   "execution_count": null,
   "id": "84d2056b",
   "metadata": {},
   "outputs": [],
   "source": []
  },
  {
   "cell_type": "code",
   "execution_count": null,
   "id": "6a6a8260",
   "metadata": {},
   "outputs": [],
   "source": []
  },
  {
   "cell_type": "code",
   "execution_count": null,
   "id": "1ae7049a",
   "metadata": {},
   "outputs": [],
   "source": []
  },
  {
   "cell_type": "code",
   "execution_count": null,
   "id": "1ca1ab05",
   "metadata": {},
   "outputs": [],
   "source": []
  },
  {
   "cell_type": "code",
   "execution_count": null,
   "id": "53d5feee",
   "metadata": {},
   "outputs": [],
   "source": []
  },
  {
   "cell_type": "code",
   "execution_count": null,
   "id": "d09695ef",
   "metadata": {},
   "outputs": [],
   "source": []
  },
  {
   "cell_type": "code",
   "execution_count": null,
   "id": "5b37f484",
   "metadata": {},
   "outputs": [],
   "source": []
  },
  {
   "cell_type": "code",
   "execution_count": null,
   "id": "428d5801",
   "metadata": {},
   "outputs": [],
   "source": []
  },
  {
   "cell_type": "code",
   "execution_count": null,
   "id": "13df36d8",
   "metadata": {},
   "outputs": [],
   "source": []
  }
 ],
 "metadata": {
  "kernelspec": {
   "display_name": "Python 3 (ipykernel)",
   "language": "python",
   "name": "python3"
  },
  "language_info": {
   "codemirror_mode": {
    "name": "ipython",
    "version": 3
   },
   "file_extension": ".py",
   "mimetype": "text/x-python",
   "name": "python",
   "nbconvert_exporter": "python",
   "pygments_lexer": "ipython3",
   "version": "3.8.13"
  },
  "toc": {
   "base_numbering": 1,
   "nav_menu": {},
   "number_sections": true,
   "sideBar": true,
   "skip_h1_title": false,
   "title_cell": "Table of Contents",
   "title_sidebar": "Contents",
   "toc_cell": false,
   "toc_position": {
    "height": "calc(100% - 180px)",
    "left": "10px",
    "top": "150px",
    "width": "271.193px"
   },
   "toc_section_display": true,
   "toc_window_display": false
  }
 },
 "nbformat": 4,
 "nbformat_minor": 5
}
