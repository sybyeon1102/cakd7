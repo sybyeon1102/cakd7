{
 "cells": [
  {
   "cell_type": "markdown",
   "id": "413eae5f",
   "metadata": {},
   "source": [
    "# Numpy\n",
    "NumPy는 “Numerical Python“의 약자로 대규모 다차원 배열과 행렬 연산에 필요한 다양한 함수를 제공\n",
    "* Numerical Python을 의미하는 NumPy는 파이썬에서 선형대수 기반의 프로그램을 쉽게 만들 수 있도록 지원하는 대표적인 패키지\n",
    "* 많은 머신러닝 알고리즘이 넘파이 기반으로 작성돼 있으며 알고리즘의 입출력 데이터를 넘파이 배열 타입으로 사용함\n",
    "* 넘파이의 기본 데이터 타입은 ndarray. ndarray를 이용해 넘파이에서 다차원 배열을 쉽게 생성하고 다양한 연산 수행\n",
    "\n",
    "NumPy 특징\n",
    "\n",
    "- 강력한 N 차원 배열 객체\n",
    "- 정교한 브로드케스팅(Broadcast) 기능\n",
    "- C/C ++ 및 포트란 코드 통합 도구\n",
    "- 유용한 선형 대수학, 푸리에 변환 및 난수 기능\n",
    "- 푸리에 변환(Fourier transform, FT)은 시간이나 공간에 대한 함수를 시간 또는 공간 주파수 성분으로 분해하는 변환\n",
    "- 범용적 데이터 처리에 사용 가능한 다차원 컨테이너\n",
    "\n",
    "Numpy Documentation  \n",
    "\n",
    "https://numpy.org/doc/1.21/index.html\n"
   ]
  },
  {
   "cell_type": "code",
   "execution_count": 131,
   "id": "c683105b",
   "metadata": {},
   "outputs": [],
   "source": [
    "import numpy as np\n",
    "import pandas as pd"
   ]
  },
  {
   "cell_type": "code",
   "execution_count": 132,
   "id": "b303fec2",
   "metadata": {},
   "outputs": [
    {
     "name": "stdout",
     "output_type": "stream",
     "text": [
      "40 bytes\n"
     ]
    }
   ],
   "source": [
    "z = np.arange(10)\n",
    "print(f'{z.size*z.itemsize} bytes')"
   ]
  },
  {
   "cell_type": "markdown",
   "id": "1187482c",
   "metadata": {},
   "source": [
    "# list와 연산 시간 비교"
   ]
  },
  {
   "cell_type": "code",
   "execution_count": 133,
   "id": "db8e4f1a",
   "metadata": {},
   "outputs": [],
   "source": [
    "# Numpy는 내부적으로 데이터를 다른 내장 파이썬 객체와 구분괸 연속된 메모리 블록에 저장"
   ]
  },
  {
   "cell_type": "code",
   "execution_count": 134,
   "id": "39f47ae9",
   "metadata": {},
   "outputs": [],
   "source": [
    "my_arr = np.arange(1000000)\n",
    "my_list = list(range(1000000))"
   ]
  },
  {
   "cell_type": "code",
   "execution_count": 135,
   "id": "07d5950f",
   "metadata": {},
   "outputs": [],
   "source": [
    "# '_' 은 값을 무시하고 싶은 경우 사용( 여기선 인덱스 무시)"
   ]
  },
  {
   "cell_type": "code",
   "execution_count": 136,
   "id": "92c39ec2",
   "metadata": {},
   "outputs": [
    {
     "name": "stdout",
     "output_type": "stream",
     "text": [
      "CPU times: total: 46.9 ms\n",
      "Wall time: 18.1 ms\n"
     ]
    }
   ],
   "source": [
    "%time for _ in range(10): my_array2 = my_arr*2"
   ]
  },
  {
   "cell_type": "code",
   "execution_count": 137,
   "id": "10afb135",
   "metadata": {},
   "outputs": [
    {
     "name": "stdout",
     "output_type": "stream",
     "text": [
      "CPU times: total: 156 ms\n",
      "Wall time: 184 ms\n"
     ]
    }
   ],
   "source": [
    "%time for _ in range(10): my_list2 = my_list*2"
   ]
  },
  {
   "cell_type": "markdown",
   "id": "5a6b1a62",
   "metadata": {},
   "source": [
    "# 배열 연산"
   ]
  },
  {
   "cell_type": "code",
   "execution_count": 138,
   "id": "ab8fcbf8",
   "metadata": {},
   "outputs": [
    {
     "name": "stdout",
     "output_type": "stream",
     "text": [
      "[[-0.36326702 -0.01234481  0.04212149]\n",
      " [ 1.95929589 -0.1984257   0.33053441]] \n",
      "\n",
      "[[-3.6326702  -0.12344813  0.4212149 ]\n",
      " [19.59295891 -1.98425696  3.30534406]] \n",
      "\n",
      "[[-0.72653404 -0.02468963  0.08424298]\n",
      " [ 3.91859178 -0.39685139  0.66106881]]\n"
     ]
    }
   ],
   "source": [
    "data = np.random.randn(2, 3) #normal distribution\n",
    "print(data, '\\n')\n",
    "print(data*10, '\\n')\n",
    "print(data+data)"
   ]
  },
  {
   "cell_type": "code",
   "execution_count": 141,
   "id": "58073a37",
   "metadata": {},
   "outputs": [
    {
     "name": "stdout",
     "output_type": "stream",
     "text": [
      "(2, 3) float64 2\n"
     ]
    }
   ],
   "source": [
    "print(data.shape, data.dtype, data.ndim)"
   ]
  },
  {
   "cell_type": "code",
   "execution_count": 142,
   "id": "17cd3a7e",
   "metadata": {},
   "outputs": [
    {
     "name": "stdout",
     "output_type": "stream",
     "text": [
      "<class 'float'> <class 'numpy.float64'>\n"
     ]
    }
   ],
   "source": [
    "print(type(1.1), type(data[0][0]))"
   ]
  },
  {
   "cell_type": "markdown",
   "id": "4c088f35",
   "metadata": {},
   "source": [
    "# 다차원 배열\n",
    "\n",
    "<img src = './dataset/numpy차원.jpg' STYLE='width:700px;'>"
   ]
  },
  {
   "cell_type": "code",
   "execution_count": 143,
   "id": "328bc53d",
   "metadata": {},
   "outputs": [
    {
     "data": {
      "text/plain": [
       "array([[1, 2, 3, 4],\n",
       "       [5, 6, 7, 8]])"
      ]
     },
     "execution_count": 143,
     "metadata": {},
     "output_type": "execute_result"
    }
   ],
   "source": [
    "# 다차원 배열\n",
    "data2  = [[1, 2, 3, 4], [5, 6, 7, 8]]\n",
    "arr2 = np.array(data2)\n",
    "arr2"
   ]
  },
  {
   "cell_type": "code",
   "execution_count": 144,
   "id": "3bb0a305",
   "metadata": {},
   "outputs": [
    {
     "data": {
      "text/plain": [
       "2"
      ]
     },
     "execution_count": 144,
     "metadata": {},
     "output_type": "execute_result"
    }
   ],
   "source": [
    "arr2.ndim"
   ]
  },
  {
   "cell_type": "code",
   "execution_count": 146,
   "id": "17d69597",
   "metadata": {},
   "outputs": [
    {
     "data": {
      "text/plain": [
       "(2, 4)"
      ]
     },
     "execution_count": 146,
     "metadata": {},
     "output_type": "execute_result"
    }
   ],
   "source": [
    "arr2.shape"
   ]
  },
  {
   "cell_type": "code",
   "execution_count": 147,
   "id": "ec63fdaa",
   "metadata": {},
   "outputs": [
    {
     "data": {
      "text/plain": [
       "(8, int)"
      ]
     },
     "execution_count": 147,
     "metadata": {},
     "output_type": "execute_result"
    }
   ],
   "source": [
    "arr2.size, type(arr2.size)"
   ]
  },
  {
   "cell_type": "code",
   "execution_count": 148,
   "id": "eecda47c",
   "metadata": {},
   "outputs": [],
   "source": [
    "# 1차원 배열로 3개의 데이터"
   ]
  },
  {
   "cell_type": "code",
   "execution_count": 149,
   "id": "59f41c19",
   "metadata": {},
   "outputs": [
    {
     "name": "stdout",
     "output_type": "stream",
     "text": [
      "[1 2 3] <class 'numpy.ndarray'>\n",
      "(3,) <class 'tuple'>\n"
     ]
    }
   ],
   "source": [
    "arr1 = np.array([1, 2, 3])\n",
    "print(arr1, type(arr1))  \n",
    "print(arr1.shape, type(arr1.shape))"
   ]
  },
  {
   "cell_type": "markdown",
   "id": "73631670",
   "metadata": {},
   "source": [
    "## 배열 생성 및 초기화\n",
    "- Numpy는 우너하는 shape로 배열을 설정하고 각 요소를 특정 값으로 초기화하는 zeros, ones, fill, eye함수 제공\n",
    "-파라미터로 입력한 배열과 같은 shape의 배열을 만드는 zeros_like, ones_like, full_like 함수도 제공"
   ]
  },
  {
   "cell_type": "code",
   "execution_count": 150,
   "id": "08defe99",
   "metadata": {},
   "outputs": [
    {
     "name": "stdout",
     "output_type": "stream",
     "text": [
      "[0. 0. 0. 0. 0. 0. 0. 0. 0. 0.] \n",
      "\n",
      "[[0. 0. 0. 0. 0. 0.]\n",
      " [0. 0. 0. 0. 0. 0.]\n",
      " [0. 0. 0. 0. 0. 0.]] \n",
      "\n",
      "[[[0. 0. 0. 0.]\n",
      "  [0. 0. 0. 0.]\n",
      "  [0. 0. 0. 0.]]\n",
      "\n",
      " [[0. 0. 0. 0.]\n",
      "  [0. 0. 0. 0.]\n",
      "  [0. 0. 0. 0.]]]\n"
     ]
    }
   ],
   "source": [
    "print(np.zeros(10), '\\n')\n",
    "print(np.zeros((3,6)), '\\n')\n",
    "print(np.zeros((2,3,4)))"
   ]
  },
  {
   "cell_type": "code",
   "execution_count": 151,
   "id": "21a9707c",
   "metadata": {},
   "outputs": [
    {
     "data": {
      "text/plain": [
       "array([[[1., 1., 1., 1.],\n",
       "        [1., 1., 1., 1.],\n",
       "        [1., 1., 1., 1.]],\n",
       "\n",
       "       [[1., 1., 1., 1.],\n",
       "        [1., 1., 1., 1.],\n",
       "        [1., 1., 1., 1.]]])"
      ]
     },
     "execution_count": 151,
     "metadata": {},
     "output_type": "execute_result"
    }
   ],
   "source": [
    "np.ones((2, 3, 4))"
   ]
  },
  {
   "cell_type": "code",
   "execution_count": 152,
   "id": "9c2435f4",
   "metadata": {},
   "outputs": [
    {
     "data": {
      "text/plain": [
       "(array([[0, 1, 2, 3, 4],\n",
       "        [5, 6, 7, 8, 9]]),\n",
       " array([[0, 0, 0, 0, 0],\n",
       "        [0, 0, 0, 0, 0]]),\n",
       " array([[1, 1, 1, 1, 1],\n",
       "        [1, 1, 1, 1, 1]]),\n",
       " array([[5, 5, 5, 5, 5],\n",
       "        [5, 5, 5, 5, 5]]))"
      ]
     },
     "execution_count": 152,
     "metadata": {},
     "output_type": "execute_result"
    }
   ],
   "source": [
    "a = np.arange(10).reshape(2, 5)\n",
    "z = np.zeros_like(a)\n",
    "o = np.ones_like(a)\n",
    "f = np.full_like(a, 5)\n",
    "\n",
    "a, z, o, f"
   ]
  },
  {
   "cell_type": "code",
   "execution_count": 153,
   "id": "089d5530",
   "metadata": {},
   "outputs": [
    {
     "data": {
      "text/plain": [
       "array([0, 1, 2, 3, 4, 5, 6, 7, 8, 9])"
      ]
     },
     "execution_count": 153,
     "metadata": {},
     "output_type": "execute_result"
    }
   ],
   "source": [
    "np.arange(10, like=a)"
   ]
  },
  {
   "cell_type": "code",
   "execution_count": 155,
   "id": "46b5e500",
   "metadata": {},
   "outputs": [
    {
     "name": "stdout",
     "output_type": "stream",
     "text": [
      "[ 0  1  2  3  4  5  6  7  8  9 10 11 12 13 14 15 16 17 18 19 20 21 22 23\n",
      " 24 25 26 27 28 29] \n",
      "\n"
     ]
    },
    {
     "data": {
      "text/plain": [
       "(array([[ 0,  1,  2,  3,  4,  5],\n",
       "        [ 6,  7,  8,  9, 10, 11],\n",
       "        [12, 13, 14, 15, 16, 17],\n",
       "        [18, 19, 20, 21, 22, 23],\n",
       "        [24, 25, 26, 27, 28, 29]]),\n",
       " array([[[ 0,  1,  2,  3,  4],\n",
       "         [ 5,  6,  7,  8,  9],\n",
       "         [10, 11, 12, 13, 14]],\n",
       " \n",
       "        [[15, 16, 17, 18, 19],\n",
       "         [20, 21, 22, 23, 24],\n",
       "         [25, 26, 27, 28, 29]]]),\n",
       " array([ 0,  1,  2,  3,  4,  5,  6,  7,  8,  9, 10, 11, 12, 13, 14, 15, 16,\n",
       "        17, 18, 19, 20, 21, 22, 23, 24, 25, 26, 27, 28, 29]))"
      ]
     },
     "execution_count": 155,
     "metadata": {},
     "output_type": "execute_result"
    }
   ],
   "source": [
    "ar = np.arange(30)\n",
    "ar1 = ar\n",
    "print(ar1, '\\n')\n",
    "ar2 = ar.reshape(5, 6)\n",
    "ar3=ar.reshape(2, 3, 5)\n",
    "\n",
    "ar2, ar3, ar"
   ]
  },
  {
   "cell_type": "markdown",
   "id": "837852e7-0060-4a55-86e1-44b4f2ef366a",
   "metadata": {},
   "source": [
    "# 차원변경"
   ]
  },
  {
   "cell_type": "code",
   "execution_count": 157,
   "id": "536550ee-c981-4b12-a115-7f7162582677",
   "metadata": {},
   "outputs": [],
   "source": [
    "# reshape(-1, -1) 이용, 차원변경"
   ]
  },
  {
   "cell_type": "code",
   "execution_count": 158,
   "id": "ae559938",
   "metadata": {},
   "outputs": [
    {
     "name": "stdout",
     "output_type": "stream",
     "text": [
      "[ 0  1  2  3  4  5  6  7  8  9 10 11 12 13 14 15 16 17 18 19 20 21 22 23\n",
      " 24 25 26 27 28 29]\n"
     ]
    }
   ],
   "source": [
    "print(ar1)"
   ]
  },
  {
   "cell_type": "code",
   "execution_count": 159,
   "id": "fbafa94b",
   "metadata": {
    "scrolled": true
   },
   "outputs": [
    {
     "data": {
      "text/plain": [
       "(array([[ 0,  1,  2,  3,  4,  5,  6,  7,  8,  9, 10, 11, 12, 13, 14, 15,\n",
       "         16, 17, 18, 19, 20, 21, 22, 23, 24, 25, 26, 27, 28, 29]]),\n",
       " array([[[ 0,  1],\n",
       "         [ 2,  3],\n",
       "         [ 4,  5]],\n",
       " \n",
       "        [[ 6,  7],\n",
       "         [ 8,  9],\n",
       "         [10, 11]],\n",
       " \n",
       "        [[12, 13],\n",
       "         [14, 15],\n",
       "         [16, 17]],\n",
       " \n",
       "        [[18, 19],\n",
       "         [20, 21],\n",
       "         [22, 23]],\n",
       " \n",
       "        [[24, 25],\n",
       "         [26, 27],\n",
       "         [28, 29]]]))"
      ]
     },
     "execution_count": 159,
     "metadata": {},
     "output_type": "execute_result"
    }
   ],
   "source": [
    "ar.reshape(-1, 30), ar.reshape(-1, 3, 2)"
   ]
  },
  {
   "cell_type": "code",
   "execution_count": 160,
   "id": "e057ad77",
   "metadata": {},
   "outputs": [
    {
     "data": {
      "text/plain": [
       "array([ 0,  1,  2,  3,  4,  5,  6,  7,  8,  9, 10, 11, 12, 13, 14, 15, 16,\n",
       "       17, 18, 19, 20, 21, 22, 23, 24, 25, 26, 27, 28, 29])"
      ]
     },
     "execution_count": 160,
     "metadata": {},
     "output_type": "execute_result"
    }
   ],
   "source": [
    "ar"
   ]
  },
  {
   "cell_type": "markdown",
   "id": "d6211a3e",
   "metadata": {},
   "source": [
    "## (Done) 과제#2 Tue 0705\n",
    "- 2차원을 1, 3 차원으로 변경하여 출력하세요.\n",
    "- 3차원을 1, 2차원으로 변경하여 출력하세요."
   ]
  },
  {
   "cell_type": "code",
   "execution_count": 161,
   "id": "9a530dd7",
   "metadata": {},
   "outputs": [
    {
     "data": {
      "text/plain": [
       "array([[4, 1, 2, 9, 1],\n",
       "       [4, 6, 8, 2, 3],\n",
       "       [0, 0, 6, 0, 6],\n",
       "       [3, 3, 8, 8, 8],\n",
       "       [2, 3, 2, 0, 8],\n",
       "       [8, 3, 8, 2, 8],\n",
       "       [4, 3, 0, 4, 3],\n",
       "       [6, 9, 8, 0, 8],\n",
       "       [5, 9, 0, 9, 6],\n",
       "       [5, 3, 1, 8, 0],\n",
       "       [4, 9, 6, 5, 7],\n",
       "       [8, 8, 9, 2, 8]])"
      ]
     },
     "execution_count": 161,
     "metadata": {},
     "output_type": "execute_result"
    }
   ],
   "source": [
    "arr2_1 = np.random.randint(10, size=(12, 5))\n",
    "arr2_1"
   ]
  },
  {
   "cell_type": "code",
   "execution_count": 162,
   "id": "7a9bb832",
   "metadata": {},
   "outputs": [
    {
     "data": {
      "text/plain": [
       "array([4, 1, 2, 9, 1, 4, 6, 8, 2, 3, 0, 0, 6, 0, 6, 3, 3, 8, 8, 8, 2, 3,\n",
       "       2, 0, 8, 8, 3, 8, 2, 8, 4, 3, 0, 4, 3, 6, 9, 8, 0, 8, 5, 9, 0, 9,\n",
       "       6, 5, 3, 1, 8, 0, 4, 9, 6, 5, 7, 8, 8, 9, 2, 8])"
      ]
     },
     "execution_count": 162,
     "metadata": {},
     "output_type": "execute_result"
    }
   ],
   "source": [
    "#2 -> 1 차원\n",
    "arr2_2 = arr2_1.copy()\n",
    "arr2_2 = arr2_2.reshape(-1)\n",
    "arr2_2"
   ]
  },
  {
   "cell_type": "code",
   "execution_count": 164,
   "id": "70492ecc",
   "metadata": {},
   "outputs": [
    {
     "data": {
      "text/plain": [
       "array([[[4, 1, 2, 9, 1],\n",
       "        [4, 6, 8, 2, 3],\n",
       "        [0, 0, 6, 0, 6]],\n",
       "\n",
       "       [[3, 3, 8, 8, 8],\n",
       "        [2, 3, 2, 0, 8],\n",
       "        [8, 3, 8, 2, 8]],\n",
       "\n",
       "       [[4, 3, 0, 4, 3],\n",
       "        [6, 9, 8, 0, 8],\n",
       "        [5, 9, 0, 9, 6]],\n",
       "\n",
       "       [[5, 3, 1, 8, 0],\n",
       "        [4, 9, 6, 5, 7],\n",
       "        [8, 8, 9, 2, 8]]])"
      ]
     },
     "execution_count": 164,
     "metadata": {},
     "output_type": "execute_result"
    }
   ],
   "source": [
    "# 2->3차원\n",
    "arr2_3 = arr2_1.copy()\n",
    "arr2_3 = arr2_3.reshape(-1, 3, 5)\n",
    "arr2_3"
   ]
  },
  {
   "cell_type": "code",
   "execution_count": 165,
   "id": "2e032433",
   "metadata": {},
   "outputs": [
    {
     "data": {
      "text/plain": [
       "array([[[6, 6, 9, 1],\n",
       "        [6, 8, 8, 3],\n",
       "        [2, 3, 6, 3]],\n",
       "\n",
       "       [[6, 5, 7, 0],\n",
       "        [8, 4, 6, 5],\n",
       "        [8, 2, 3, 9]]])"
      ]
     },
     "execution_count": 165,
     "metadata": {},
     "output_type": "execute_result"
    }
   ],
   "source": [
    "arr2_4 = np.random.randint(10, size=(2, 3, 4))\n",
    "arr2_4"
   ]
  },
  {
   "cell_type": "code",
   "execution_count": 169,
   "id": "d39b0668",
   "metadata": {},
   "outputs": [
    {
     "data": {
      "text/plain": [
       "array([6, 6, 9, 1, 6, 8, 8, 3, 2, 3, 6, 3, 6, 5, 7, 0, 8, 4, 6, 5, 8, 2,\n",
       "       3, 9])"
      ]
     },
     "execution_count": 169,
     "metadata": {},
     "output_type": "execute_result"
    }
   ],
   "source": [
    "# 3 -> 1차원\n",
    "arr2_5 = arr2_4.copy()\n",
    "arr2_5 = arr2_5.reshape(-1)\n",
    "arr2_5"
   ]
  },
  {
   "cell_type": "code",
   "execution_count": 170,
   "id": "e1f1778e",
   "metadata": {},
   "outputs": [
    {
     "data": {
      "text/plain": [
       "array([[6, 6, 9],\n",
       "       [1, 6, 8],\n",
       "       [8, 3, 2],\n",
       "       [3, 6, 3],\n",
       "       [6, 5, 7],\n",
       "       [0, 8, 4],\n",
       "       [6, 5, 8],\n",
       "       [2, 3, 9]])"
      ]
     },
     "execution_count": 170,
     "metadata": {},
     "output_type": "execute_result"
    }
   ],
   "source": [
    "# 3 -> 2 차원\n",
    "arr2_6 = arr2_4.copy()\n",
    "arr2_6 = arr2_6.reshape(8, -1) # 8 대신 5를 넣으면 ValueError가 난다.\n",
    "arr2_6"
   ]
  },
  {
   "cell_type": "code",
   "execution_count": null,
   "id": "fe43485b-7633-4d1d-b390-85ec0a454650",
   "metadata": {},
   "outputs": [],
   "source": []
  },
  {
   "cell_type": "markdown",
   "id": "b2d8d746",
   "metadata": {},
   "source": [
    "# 행렬의 종류\n",
    "\n",
    "https://math-development-geometry.tistory.com/52\n",
    "\n",
    "- 정방행렬은 행과 열의 수가 같은 행렬\n",
    "- 대각행렬은 주대각선 원소를 제외한 모든 원소들이 0인 정방행렬\n",
    "- 삼각행렬은 주대각선 원소를 기준으로 위 또는 아래에 있는 성분이 모두 0인 정방행렬, 주대각선 원소는 0일 필요 없음\n",
    "- 항등행렬은 행렬 곱셈 연산에 항등원으로 작용하는 행렬, 주대각선 원소 모두 1인 대각 행렬\n",
    "- 영행렬은 모든 원소가 0인 행렬로 곱셈 연산에서 영원으로 작용하는 행렬\n",
    "- 전치행렬은 주대각선 원소를 기준으로 행과 열을 바꿔주는 행렬\n",
    "- 직교행렬은 행렬 A의 역행렬이 A의 전치행렬이고 A의 전치행렬과 A 행렬을 곱하였을때 항등행렬이 나오는 행렬\n"
   ]
  },
  {
   "cell_type": "markdown",
   "id": "005c3136",
   "metadata": {},
   "source": [
    "## 정방행렬"
   ]
  },
  {
   "cell_type": "code",
   "execution_count": 171,
   "id": "7ded18f1",
   "metadata": {},
   "outputs": [
    {
     "data": {
      "text/plain": [
       "array([[7, 7],\n",
       "       [7, 7]])"
      ]
     },
     "execution_count": 171,
     "metadata": {},
     "output_type": "execute_result"
    }
   ],
   "source": [
    "a = np.full((2, 2), 7)\n",
    "a"
   ]
  },
  {
   "cell_type": "markdown",
   "id": "44fc7f83",
   "metadata": {},
   "source": [
    "## 항등행렬, 단위행렬"
   ]
  },
  {
   "cell_type": "code",
   "execution_count": 172,
   "id": "6ed71b79",
   "metadata": {},
   "outputs": [
    {
     "data": {
      "text/plain": [
       "array([[1., 0., 0.],\n",
       "       [0., 1., 0.],\n",
       "       [0., 0., 1.]])"
      ]
     },
     "execution_count": 172,
     "metadata": {},
     "output_type": "execute_result"
    }
   ],
   "source": [
    "arr = np.eye(3)\n",
    "arr"
   ]
  },
  {
   "cell_type": "markdown",
   "id": "f864c0ce-4459-4d5a-9578-a39f7cd9cd3a",
   "metadata": {},
   "source": [
    "# linspace & logspace"
   ]
  },
  {
   "cell_type": "code",
   "execution_count": 173,
   "id": "ff2271a9",
   "metadata": {},
   "outputs": [
    {
     "data": {
      "text/plain": [
       "array([ 0.        ,  0.20408163,  0.40816327,  0.6122449 ,  0.81632653,\n",
       "        1.02040816,  1.2244898 ,  1.42857143,  1.63265306,  1.83673469,\n",
       "        2.04081633,  2.24489796,  2.44897959,  2.65306122,  2.85714286,\n",
       "        3.06122449,  3.26530612,  3.46938776,  3.67346939,  3.87755102,\n",
       "        4.08163265,  4.28571429,  4.48979592,  4.69387755,  4.89795918,\n",
       "        5.10204082,  5.30612245,  5.51020408,  5.71428571,  5.91836735,\n",
       "        6.12244898,  6.32653061,  6.53061224,  6.73469388,  6.93877551,\n",
       "        7.14285714,  7.34693878,  7.55102041,  7.75510204,  7.95918367,\n",
       "        8.16326531,  8.36734694,  8.57142857,  8.7755102 ,  8.97959184,\n",
       "        9.18367347,  9.3877551 ,  9.59183673,  9.79591837, 10.        ])"
      ]
     },
     "execution_count": 173,
     "metadata": {},
     "output_type": "execute_result"
    }
   ],
   "source": [
    "# 0 ~ 10을 균등하게 50개로 나누기\n",
    "np.linspace(0, 10)\n",
    "# num=50이 default"
   ]
  },
  {
   "cell_type": "code",
   "execution_count": 174,
   "id": "1fb278f0",
   "metadata": {},
   "outputs": [
    {
     "data": {
      "text/plain": [
       "((array([0.  , 0.25, 0.5 , 0.75, 1.  ]), 0.25), tuple)"
      ]
     },
     "execution_count": 174,
     "metadata": {},
     "output_type": "execute_result"
    }
   ],
   "source": [
    "r = np.linspace(0, 1, num=5, retstep=True )\n",
    "r, type(r)"
   ]
  },
  {
   "cell_type": "code",
   "execution_count": 175,
   "id": "dd43457f",
   "metadata": {},
   "outputs": [],
   "source": [
    "import matplotlib.pyplot as plt"
   ]
  },
  {
   "cell_type": "code",
   "execution_count": 176,
   "id": "ded24cc8",
   "metadata": {},
   "outputs": [
    {
     "data": {
      "text/plain": [
       "[<matplotlib.lines.Line2D at 0x1af849c2c40>]"
      ]
     },
     "execution_count": 176,
     "metadata": {},
     "output_type": "execute_result"
    },
    {
     "data": {
      "image/png": "[encoded data removed]",
      "text/plain": [
       "<Figure size 432x288 with 1 Axes>"
      ]
     },
     "metadata": {
      "needs_background": "light"
     },
     "output_type": "display_data"
    }
   ],
   "source": [
    "x = np.linspace(0, 1)\n",
    "y = np.linspace(0, 50)\n",
    "plt.plot(x, y, 'o')"
   ]
  },
  {
   "cell_type": "code",
   "execution_count": 177,
   "id": "553c311d",
   "metadata": {},
   "outputs": [
    {
     "data": {
      "text/plain": [
       "[<matplotlib.lines.Line2D at 0x1af84963c40>]"
      ]
     },
     "execution_count": 177,
     "metadata": {},
     "output_type": "execute_result"
    },
    {
     "data": {
      "image/png": "[encoded data removed]",
      "text/plain": [
       "<Figure size 432x288 with 1 Axes>"
      ]
     },
     "metadata": {
      "needs_background": "light"
     },
     "output_type": "display_data"
    }
   ],
   "source": [
    "x = np.linspace(0, 20, 20)\n",
    "y = np.linspace(0.2, 1, 20)\n",
    "plt.plot(x, y, 'o')"
   ]
  },
  {
   "cell_type": "code",
   "execution_count": null,
   "id": "ec232f5a",
   "metadata": {},
   "outputs": [],
   "source": []
  },
  {
   "cell_type": "code",
   "execution_count": 178,
   "id": "cbdda1f1",
   "metadata": {},
   "outputs": [
    {
     "name": "stdout",
     "output_type": "stream",
     "text": [
      "0.09304516029008023 \t 1.0\n"
     ]
    },
    {
     "data": {
      "text/plain": [
       "array([ 1.25892541,  1.40400425,  1.565802  ,  1.74624535,  1.94748304,\n",
       "        2.1719114 ,  2.42220294,  2.70133812,  3.0126409 ,  3.35981829,\n",
       "        3.74700446,  4.17881006,  4.66037703,  5.19743987,  5.79639395,\n",
       "        6.46437163,  7.2093272 ,  8.04013161,  8.9666781 , 10.        ])"
      ]
     },
     "execution_count": 178,
     "metadata": {},
     "output_type": "execute_result"
    }
   ],
   "source": [
    "print(np.log10(1.23892541), '\\t',np.log10(10))\n",
    "np.logspace(0.1, 1, num=20)"
   ]
  },
  {
   "cell_type": "code",
   "execution_count": 179,
   "id": "287e358d",
   "metadata": {},
   "outputs": [
    {
     "data": {
      "text/plain": [
       "[<matplotlib.lines.Line2D at 0x1af84aa7af0>]"
      ]
     },
     "execution_count": 179,
     "metadata": {},
     "output_type": "execute_result"
    },
    {
     "data": {
      "image/png": "[encoded data removed]",
      "text/plain": [
       "<Figure size 432x288 with 1 Axes>"
      ]
     },
     "metadata": {
      "needs_background": "light"
     },
     "output_type": "display_data"
    }
   ],
   "source": [
    "x = np.linspace(0, 20, num=20)\n",
    "y = np.logspace(0.1, 1, num = 20)\n",
    "plt.plot(x, y, 'o')"
   ]
  },
  {
   "cell_type": "markdown",
   "id": "77f71032",
   "metadata": {},
   "source": [
    "# ndarray type 지정 및 변경"
   ]
  },
  {
   "cell_type": "markdown",
   "id": "2811ef31",
   "metadata": {},
   "source": [
    "<img src = './dataset/데이터형태.jpg' STYLE='width:600px;'>"
   ]
  },
  {
   "cell_type": "code",
   "execution_count": null,
   "id": "d142d612",
   "metadata": {},
   "outputs": [],
   "source": []
  },
  {
   "cell_type": "code",
   "execution_count": 180,
   "id": "1fe26a4a",
   "metadata": {},
   "outputs": [
    {
     "name": "stdout",
     "output_type": "stream",
     "text": [
      "int32\n"
     ]
    },
    {
     "data": {
      "text/plain": [
       "dtype('float64')"
      ]
     },
     "execution_count": 180,
     "metadata": {},
     "output_type": "execute_result"
    }
   ],
   "source": [
    "arr =np.array([1, 2, 3, 4, 5])\n",
    "print(arr.dtype)\n",
    "float_arr = arr.astype(np.float64)\n",
    "float_arr.dtype"
   ]
  },
  {
   "cell_type": "code",
   "execution_count": 181,
   "id": "fd65459c",
   "metadata": {},
   "outputs": [
    {
     "data": {
      "text/plain": [
       "8"
      ]
     },
     "execution_count": 181,
     "metadata": {},
     "output_type": "execute_result"
    }
   ],
   "source": [
    "float_arr[0].itemsize"
   ]
  },
  {
   "cell_type": "code",
   "execution_count": 182,
   "id": "4bed172b",
   "metadata": {},
   "outputs": [
    {
     "data": {
      "text/plain": [
       "(dtype('float16'), 2)"
      ]
     },
     "execution_count": 182,
     "metadata": {},
     "output_type": "execute_result"
    }
   ],
   "source": [
    "float_arr = arr.astype(np.float16)\n",
    "float_arr[0].dtype, float_arr[0].itemsize"
   ]
  },
  {
   "cell_type": "code",
   "execution_count": 183,
   "id": "c795046a",
   "metadata": {},
   "outputs": [
    {
     "data": {
      "text/plain": [
       "(dtype('float32'), 4)"
      ]
     },
     "execution_count": 183,
     "metadata": {},
     "output_type": "execute_result"
    }
   ],
   "source": [
    "float_arr = arr.astype(np.float32)\n",
    "float_arr[0].dtype, float_arr[0].itemsize"
   ]
  },
  {
   "cell_type": "code",
   "execution_count": 184,
   "id": "5cd07b14",
   "metadata": {},
   "outputs": [],
   "source": [
    "# 뒤에 붙은 숫자는 byte 인가?"
   ]
  },
  {
   "cell_type": "code",
   "execution_count": 185,
   "id": "c2813daa",
   "metadata": {},
   "outputs": [
    {
     "data": {
      "text/plain": [
       "(array([b'1', b'2', b'3', b'4', b'5'], dtype='|S1'), dtype('S1'))"
      ]
     },
     "execution_count": 185,
     "metadata": {},
     "output_type": "execute_result"
    }
   ],
   "source": [
    "numeric_str = np.array([1, 2, 3, 4, 5], dtype='S') # S : 바이트 문자열\n",
    "numeric_str, numeric_str.dtype"
   ]
  },
  {
   "cell_type": "code",
   "execution_count": 186,
   "id": "a50e1f29",
   "metadata": {},
   "outputs": [
    {
     "data": {
      "text/plain": [
       "(array([1, 2, 3, 4, 5]), dtype('int32'))"
      ]
     },
     "execution_count": 186,
     "metadata": {},
     "output_type": "execute_result"
    }
   ],
   "source": [
    "num = numeric_str.astype(int)\n",
    "num, num.dtype"
   ]
  },
  {
   "cell_type": "markdown",
   "id": "30099036",
   "metadata": {},
   "source": [
    "# 뷰(view) \n",
    ": 넘파이의 ndarray(이하 배열)을 슬라이싱할 때 파이썬의 리스트(list)와 다르게 원본의 참조가 생성\n",
    "\n",
    "numpy는 대용량 데이터 처리를 염두에 두고 대용량 데이터의 슬라이싱이 빈번하게 일어나는 복잡한 코드를 실행시키는데 있어서 복사가 남발되면 메모리 문제를 일으킬 소지가 많기 때문에 이렇게 설계\n",
    "\n",
    "- 복사가 아니고 뷰(참조의 개념)이기 때문에 원본이 바뀌면 이 참조본도 따라서 바뀜\n",
    "- 리스트의 슬라이싱에서는 복사본이 생성되는 것과는 다른 동작이기 때문에 주의\n",
    "- 슬라이싱의 복사본을 생성하고 싶다면 copy() 속성을 이용\n",
    "\n",
    "http://taewan.kim/post/numpy_cheat_sheet/\n"
   ]
  },
  {
   "cell_type": "code",
   "execution_count": 188,
   "id": "b98a4cb2",
   "metadata": {},
   "outputs": [
    {
     "name": "stdout",
     "output_type": "stream",
     "text": [
      "[0 1 2 3 4 5 6 7 8 9] \n",
      "\n",
      "[5 6 7] \n",
      "\n",
      "[12 12 12] \n",
      "\n",
      "[ 0  1  2  3  4 12 12 12  8  9]\n"
     ]
    }
   ],
   "source": [
    "# 뷰는 원본을 변경\n",
    "\n",
    "arr = np.arange(10)\n",
    "print(arr, '\\n')\n",
    "li_slice = arr[5:8]\n",
    "print(li_slice, '\\n')\n",
    "li_slice[:] = 12\n",
    "print(li_slice, '\\n')\n",
    "print(arr)"
   ]
  },
  {
   "cell_type": "code",
   "execution_count": 189,
   "id": "af9887bf",
   "metadata": {},
   "outputs": [
    {
     "name": "stdout",
     "output_type": "stream",
     "text": [
      "[1, 2, 3, 4, 5, 6, 7, 8, 9, 10] \n",
      "\n",
      "[1, 2, 3, 4, 5] \n",
      "\n",
      "[1, 0, 3, 4, 5] \n",
      "\n",
      "[1, 2, 3, 4, 5, 6, 7, 8, 9, 10]\n"
     ]
    }
   ],
   "source": [
    "# 원본 보존하려면 copy() 사용\n",
    "\n",
    "li = list(np.arange(1, 11))\n",
    "print(li, '\\n')\n",
    "li_slice = li[:5].copy()\n",
    "print(li_slice, '\\n')\n",
    "li_slice[1]=0\n",
    "print(li_slice, '\\n')\n",
    "print(li)"
   ]
  },
  {
   "cell_type": "code",
   "execution_count": null,
   "id": "78fa4fc0",
   "metadata": {},
   "outputs": [],
   "source": []
  },
  {
   "cell_type": "markdown",
   "id": "27faf9cb",
   "metadata": {},
   "source": [
    "## (다른 방법)과제 #3 Tue 0705"
   ]
  },
  {
   "cell_type": "markdown",
   "id": "1314e4e1",
   "metadata": {},
   "source": [
    "- arr2d에서 아래와 같이 출력\n",
    "\n",
    "<img src = './dataset/과제3.jpg' STYLE='width:100px;'>"
   ]
  },
  {
   "cell_type": "code",
   "execution_count": 190,
   "id": "e90bf4fc",
   "metadata": {},
   "outputs": [
    {
     "data": {
      "text/plain": [
       "array([[1, 2, 3],\n",
       "       [4, 5, 6],\n",
       "       [7, 8, 9]])"
      ]
     },
     "execution_count": 190,
     "metadata": {},
     "output_type": "execute_result"
    }
   ],
   "source": [
    "arr2d = np.arange(1, 10).reshape(3, 3)\n",
    "arr2d"
   ]
  },
  {
   "cell_type": "code",
   "execution_count": 191,
   "id": "8c7aa151",
   "metadata": {},
   "outputs": [
    {
     "name": "stdout",
     "output_type": "stream",
     "text": [
      "[[1 2]\n",
      " [4 5]]\n"
     ]
    }
   ],
   "source": [
    "print(arr2d[:2, :2])"
   ]
  },
  {
   "cell_type": "code",
   "execution_count": 192,
   "id": "ad15b7dc",
   "metadata": {},
   "outputs": [],
   "source": [
    "# 다른 방법 또 뭐있지?"
   ]
  },
  {
   "cell_type": "code",
   "execution_count": 193,
   "id": "b362705c",
   "metadata": {},
   "outputs": [
    {
     "name": "stdout",
     "output_type": "stream",
     "text": [
      "[[4 5 6]\n",
      " [7 8 9]] \n",
      "\n",
      " [[1 2 3]\n",
      " [4 5 6]\n",
      " [7 8 9]] \n",
      "\n",
      " [[2 3]\n",
      " [5 6]] \n",
      "\n",
      " [1 4]\n"
     ]
    }
   ],
   "source": [
    "# 방법1\n",
    "print(arr2d[1:], '\\n\\n', arr2d,'\\n\\n',  arr2d[:2, 1:],'\\n\\n',  arr2d[:2, 0])"
   ]
  },
  {
   "cell_type": "code",
   "execution_count": null,
   "id": "cfd1c781",
   "metadata": {},
   "outputs": [],
   "source": []
  },
  {
   "cell_type": "markdown",
   "id": "ef2f1445",
   "metadata": {},
   "source": [
    "# 타입변환"
   ]
  },
  {
   "cell_type": "code",
   "execution_count": 194,
   "id": "d46dce41",
   "metadata": {},
   "outputs": [],
   "source": [
    "arr2d_1 = arr2d.copy()"
   ]
  },
  {
   "cell_type": "code",
   "execution_count": 195,
   "id": "672e84d2",
   "metadata": {},
   "outputs": [
    {
     "name": "stdout",
     "output_type": "stream",
     "text": [
      "[[1, 2, 3], [4, 5, 6], [7, 8, 9]] <class 'list'>\n"
     ]
    }
   ],
   "source": [
    "print(arr2d.tolist(), type(arr2d.tolist()))"
   ]
  },
  {
   "cell_type": "markdown",
   "id": "259d4899",
   "metadata": {},
   "source": [
    "# boolean indexing"
   ]
  },
  {
   "cell_type": "code",
   "execution_count": 196,
   "id": "d2e92902",
   "metadata": {},
   "outputs": [
    {
     "name": "stdout",
     "output_type": "stream",
     "text": [
      "[1 2 3 4 5 6 7 8 9] \n",
      "\n"
     ]
    },
    {
     "data": {
      "text/plain": [
       "(array([6, 7, 8, 9]),\n",
       " array([False, False, False, False, False,  True,  True,  True,  True]))"
      ]
     },
     "execution_count": 196,
     "metadata": {},
     "output_type": "execute_result"
    }
   ],
   "source": [
    "arr1d = np.arange(1, 10)\n",
    "print(arr1d,'\\n')\n",
    "arr1 = arr1d[arr1d > 5]\n",
    "arr1, arr1d>5"
   ]
  },
  {
   "cell_type": "code",
   "execution_count": 197,
   "id": "94342ac3",
   "metadata": {},
   "outputs": [
    {
     "data": {
      "text/plain": [
       "array([6, 7, 8, 9])"
      ]
     },
     "execution_count": 197,
     "metadata": {},
     "output_type": "execute_result"
    }
   ],
   "source": [
    "arr1d[5:]"
   ]
  },
  {
   "cell_type": "code",
   "execution_count": null,
   "id": "d47aec7b",
   "metadata": {},
   "outputs": [],
   "source": []
  },
  {
   "cell_type": "code",
   "execution_count": 198,
   "id": "5c3a9434",
   "metadata": {
    "scrolled": true
   },
   "outputs": [
    {
     "name": "stdout",
     "output_type": "stream",
     "text": [
      "3 6 9 12 15 18 21 24 27 30 33 36 39 42 45 48 51 54 57 60 63 66 69 72 75 78 81 84 87 90 93 96 99 \n",
      "\n",
      "[ 3  6  9 12 15 18 21 24 27 30 33 36 39 42 45 48 51 54 57 60 63 66 69 72\n",
      " 75 78 81 84 87 90 93 96 99]\n"
     ]
    }
   ],
   "source": [
    "# Q. 1 ~ 100 까지 정수에서 3의 배수인 것만을 출력\n",
    "\n",
    "#for 문\n",
    "for i in range(1, 101):\n",
    "    if i%3 == 0 :\n",
    "        print( i, end = ' ')\n",
    "print('\\n')\n",
    "\n",
    "# 배열\n",
    "print(np.arange(3, 101, 3))"
   ]
  },
  {
   "cell_type": "code",
   "execution_count": null,
   "id": "2e357e34-2c71-4713-99f5-f47b37864a3a",
   "metadata": {},
   "outputs": [],
   "source": []
  },
  {
   "cell_type": "markdown",
   "id": "5b005a16",
   "metadata": {},
   "source": [
    "## (Done) 과제 #4 Tue 0705\n",
    "\n",
    "- 1~100까지 정수에서 5의 배수이면서 2의 배수인 것만을 출력(for 문과 배열 두가지 방식\n",
    "- 표준 정규분포로 구성된 5행 5열 다차원 배열을 생성하고 함수를 이용하여 평균과 표준편차 구하세요\n",
    "- 인덱싱을 이용하여 np.arange(10)을 내림차순으로 정렬하세요.\n",
    "- [1, 2, 0, 0, 4, 0]에서 zero가 아닌 인덱스를 배열 형태로 출력하세요.\n",
    "- np.arange(15).reshape(3, 5) 배열을 전치하여 출력하세요."
   ]
  },
  {
   "cell_type": "markdown",
   "id": "71c669a8",
   "metadata": {},
   "source": [
    "- 1~100까지 정수에서 5의 배수이면서 2의 배수인 것만을 출력(for 문과 배열 두가지 방식"
   ]
  },
  {
   "cell_type": "code",
   "execution_count": 199,
   "id": "dcbc7398",
   "metadata": {},
   "outputs": [
    {
     "name": "stdout",
     "output_type": "stream",
     "text": [
      "10\t20\t30\t40\t50\t60\t70\t80\t90\t100\t\n",
      "\n",
      "[ 10  20  30  40  50  60  70  80  90 100]\n"
     ]
    }
   ],
   "source": [
    "arr4_1 = np.arange(1, 101)\n",
    "\n",
    "#for 문\n",
    "for i in arr4_1:\n",
    "    if i%5 == 0 and i%2 == 0:\n",
    "        print(i, end = '\\t')\n",
    "print('\\n')\n",
    "\n",
    "# 배열 boolean indexing\n",
    "arr4_1= arr4_1[(arr4_1%5 == 0) & (arr4_1 %2 == 0)]\n",
    "print(arr4_1)"
   ]
  },
  {
   "cell_type": "markdown",
   "id": "cd8836c4",
   "metadata": {},
   "source": [
    "- 표준 정규분포로 구성된 5행 5열 다차원 배열을 생성하고 함수를 이용하여 평균과 표준편차 구하세요"
   ]
  },
  {
   "cell_type": "code",
   "execution_count": 200,
   "id": "1d9f491e",
   "metadata": {},
   "outputs": [
    {
     "data": {
      "text/plain": [
       "array([[-1.43582841,  0.29823817,  1.3263859 , -0.69456786, -0.14963454],\n",
       "       [-0.43515355,  1.84926373,  0.67229476,  0.40746184, -0.76991607],\n",
       "       [ 0.53924919, -0.67433266,  0.03183056, -0.63584608,  0.67643329],\n",
       "       [ 0.57659082, -0.20829876,  0.39600671, -1.09306151, -1.49125759],\n",
       "       [ 0.4393917 ,  0.1666735 ,  0.63503144,  2.38314477,  0.94447949]])"
      ]
     },
     "execution_count": 200,
     "metadata": {},
     "output_type": "execute_result"
    }
   ],
   "source": [
    "arr4_2 = np.random.randn(5, 5)\n",
    "arr4_2"
   ]
  },
  {
   "cell_type": "code",
   "execution_count": 201,
   "id": "29ad05a4",
   "metadata": {},
   "outputs": [
    {
     "data": {
      "text/plain": [
       "0.15018315333903243"
      ]
     },
     "execution_count": 201,
     "metadata": {},
     "output_type": "execute_result"
    }
   ],
   "source": [
    "np.average(arr4_2)"
   ]
  },
  {
   "cell_type": "code",
   "execution_count": 202,
   "id": "0e6bc639",
   "metadata": {},
   "outputs": [
    {
     "data": {
      "text/plain": [
       "0.925762819098703"
      ]
     },
     "execution_count": 202,
     "metadata": {},
     "output_type": "execute_result"
    }
   ],
   "source": [
    "np.std(arr4_2)"
   ]
  },
  {
   "cell_type": "markdown",
   "id": "8aaf0fed",
   "metadata": {},
   "source": [
    "- 인덱싱을 이용하여 np.arange(10)을 내림차순으로 정렬하세요."
   ]
  },
  {
   "cell_type": "code",
   "execution_count": 203,
   "id": "ff055e57",
   "metadata": {},
   "outputs": [
    {
     "data": {
      "text/plain": [
       "array([9, 8, 7, 6, 5, 4, 3, 2, 1, 0])"
      ]
     },
     "execution_count": 203,
     "metadata": {},
     "output_type": "execute_result"
    }
   ],
   "source": [
    "arr4_3 = np.arange(10)\n",
    "arr4_3 =  arr4_3[::-1]\n",
    "arr4_3"
   ]
  },
  {
   "cell_type": "markdown",
   "id": "e49e7d4c",
   "metadata": {},
   "source": [
    "- [1, 2, 0, 0, 4, 0]에서 zero가 아닌 인덱스를 배열 형태로 출력하세요."
   ]
  },
  {
   "cell_type": "code",
   "execution_count": 204,
   "id": "0f487525",
   "metadata": {},
   "outputs": [],
   "source": [
    "arr4_4 = np.array([1, 2, 0, 0, 4, 0])"
   ]
  },
  {
   "cell_type": "code",
   "execution_count": 205,
   "id": "94109238",
   "metadata": {},
   "outputs": [
    {
     "data": {
      "text/plain": [
       "array([1, 2, 0, 0, 4, 0])"
      ]
     },
     "execution_count": 205,
     "metadata": {},
     "output_type": "execute_result"
    }
   ],
   "source": [
    "arr4_4"
   ]
  },
  {
   "cell_type": "code",
   "execution_count": 206,
   "id": "50d0f9ff",
   "metadata": {
    "scrolled": true
   },
   "outputs": [],
   "source": [
    "idx = np.where(arr4_4 != 0)"
   ]
  },
  {
   "cell_type": "code",
   "execution_count": 207,
   "id": "2d0fc335",
   "metadata": {},
   "outputs": [
    {
     "name": "stdout",
     "output_type": "stream",
     "text": [
      "[1 2 4]\n"
     ]
    }
   ],
   "source": [
    "print(arr4_4[idx])"
   ]
  },
  {
   "cell_type": "markdown",
   "id": "78b47d2a",
   "metadata": {},
   "source": [
    "- np.arange(15).reshape(3, 5) 배열을 전치하여 출력하세요."
   ]
  },
  {
   "cell_type": "code",
   "execution_count": 208,
   "id": "d2febfc2",
   "metadata": {},
   "outputs": [
    {
     "data": {
      "text/plain": [
       "array([[ 0,  1,  2,  3,  4],\n",
       "       [ 5,  6,  7,  8,  9],\n",
       "       [10, 11, 12, 13, 14]])"
      ]
     },
     "execution_count": 208,
     "metadata": {},
     "output_type": "execute_result"
    }
   ],
   "source": [
    "arr4_5 = np.arange(15).reshape(3, 5)\n",
    "arr4_5"
   ]
  },
  {
   "cell_type": "code",
   "execution_count": 209,
   "id": "97713740",
   "metadata": {},
   "outputs": [
    {
     "data": {
      "text/plain": [
       "array([[ 0,  5, 10],\n",
       "       [ 1,  6, 11],\n",
       "       [ 2,  7, 12],\n",
       "       [ 3,  8, 13],\n",
       "       [ 4,  9, 14]])"
      ]
     },
     "execution_count": 209,
     "metadata": {},
     "output_type": "execute_result"
    }
   ],
   "source": [
    "arr4_5.T"
   ]
  },
  {
   "cell_type": "code",
   "execution_count": null,
   "id": "7cb6e33f",
   "metadata": {},
   "outputs": [],
   "source": []
  },
  {
   "cell_type": "markdown",
   "id": "e39cacc1",
   "metadata": {},
   "source": [
    "# 전치행렬"
   ]
  },
  {
   "cell_type": "code",
   "execution_count": 210,
   "id": "e7656991",
   "metadata": {
    "scrolled": true
   },
   "outputs": [
    {
     "data": {
      "text/plain": [
       "array([[2, 2, 3, 2, 5],\n",
       "       [3, 6, 6, 6, 3],\n",
       "       [6, 8, 8, 7, 2],\n",
       "       [7, 8, 3, 4, 2],\n",
       "       [6, 3, 1, 2, 1]])"
      ]
     },
     "execution_count": 210,
     "metadata": {},
     "output_type": "execute_result"
    }
   ],
   "source": [
    "arr = np.random.randint(1, 10, size=(5, 5))\n",
    "arr"
   ]
  },
  {
   "cell_type": "code",
   "execution_count": 211,
   "id": "f048cb17",
   "metadata": {},
   "outputs": [
    {
     "data": {
      "text/plain": [
       "array([[2, 3, 6, 7, 6],\n",
       "       [2, 6, 8, 8, 3],\n",
       "       [3, 6, 8, 3, 1],\n",
       "       [2, 6, 7, 4, 2],\n",
       "       [5, 3, 2, 2, 1]])"
      ]
     },
     "execution_count": 211,
     "metadata": {},
     "output_type": "execute_result"
    }
   ],
   "source": [
    "np.transpose(arr)"
   ]
  },
  {
   "cell_type": "code",
   "execution_count": 212,
   "id": "55917878",
   "metadata": {},
   "outputs": [
    {
     "data": {
      "text/plain": [
       "array([[2, 3, 6, 7, 6],\n",
       "       [2, 6, 8, 8, 3],\n",
       "       [3, 6, 8, 3, 1],\n",
       "       [2, 6, 7, 4, 2],\n",
       "       [5, 3, 2, 2, 1]])"
      ]
     },
     "execution_count": 212,
     "metadata": {},
     "output_type": "execute_result"
    }
   ],
   "source": [
    "arr.T"
   ]
  },
  {
   "cell_type": "code",
   "execution_count": 213,
   "id": "34180eff",
   "metadata": {},
   "outputs": [
    {
     "data": {
      "text/plain": [
       "array([[ 46,  63,  76,  57,  30],\n",
       "       [ 63, 126, 162, 117,  57],\n",
       "       [ 76, 162, 217, 162,  84],\n",
       "       [ 57, 117, 162, 142,  79],\n",
       "       [ 30,  57,  84,  79,  51]])"
      ]
     },
     "execution_count": 213,
     "metadata": {},
     "output_type": "execute_result"
    }
   ],
   "source": [
    "np.dot(arr, arr.T)"
   ]
  },
  {
   "cell_type": "code",
   "execution_count": 214,
   "id": "f4ff3318",
   "metadata": {
    "scrolled": true
   },
   "outputs": [
    {
     "data": {
      "text/plain": [
       "array([[ 46,  63,  76,  57,  30],\n",
       "       [ 63, 126, 162, 117,  57],\n",
       "       [ 76, 162, 217, 162,  84],\n",
       "       [ 57, 117, 162, 142,  79],\n",
       "       [ 30,  57,  84,  79,  51]])"
      ]
     },
     "execution_count": 214,
     "metadata": {},
     "output_type": "execute_result"
    }
   ],
   "source": [
    "np.matmul(arr, arr.T)"
   ]
  },
  {
   "cell_type": "markdown",
   "id": "12cb7b46",
   "metadata": {},
   "source": [
    "# 역행렬"
   ]
  },
  {
   "cell_type": "code",
   "execution_count": 215,
   "id": "4e8103ab",
   "metadata": {},
   "outputs": [
    {
     "name": "stdout",
     "output_type": "stream",
     "text": [
      "[[1 2 1]\n",
      " [2 2 3]\n",
      " [1 3 1]] \n",
      "\n",
      "[[ 7. -1. -4.]\n",
      " [-1.  0.  1.]\n",
      " [-4.  1.  2.]]\n"
     ]
    }
   ],
   "source": [
    "np.random.seed(0)\n",
    "mt1 = np.random.randint(1, 4, size=(3, 3))\n",
    "print(mt1, '\\n')\n",
    "mt2 = np.linalg.inv(mt1)\n",
    "print(mt2)"
   ]
  },
  {
   "cell_type": "code",
   "execution_count": 216,
   "id": "dd42ed40",
   "metadata": {},
   "outputs": [
    {
     "data": {
      "text/plain": [
       "array([[1., 0., 0.],\n",
       "       [0., 1., 0.],\n",
       "       [0., 0., 1.]])"
      ]
     },
     "execution_count": 216,
     "metadata": {},
     "output_type": "execute_result"
    }
   ],
   "source": [
    "np.dot(mt1, mt2)"
   ]
  },
  {
   "cell_type": "code",
   "execution_count": null,
   "id": "7c2a3c64",
   "metadata": {},
   "outputs": [],
   "source": []
  },
  {
   "cell_type": "code",
   "execution_count": null,
   "id": "c08cb9f8",
   "metadata": {},
   "outputs": [],
   "source": []
  },
  {
   "cell_type": "code",
   "execution_count": null,
   "id": "a80a5346",
   "metadata": {},
   "outputs": [],
   "source": []
  },
  {
   "cell_type": "markdown",
   "id": "19ff084c",
   "metadata": {},
   "source": [
    "# 전치 행렬"
   ]
  },
  {
   "cell_type": "code",
   "execution_count": 217,
   "id": "7d6ea5f1",
   "metadata": {},
   "outputs": [
    {
     "name": "stdout",
     "output_type": "stream",
     "text": [
      "[[0 1 2]\n",
      " [3 4 5]] (2, 3) \n",
      "\n",
      "[[0 3]\n",
      " [1 4]\n",
      " [2 5]] (3, 2) \n",
      "\n",
      "[[0 3]\n",
      " [1 4]\n",
      " [2 5]] (3, 2) \n",
      "\n"
     ]
    }
   ],
   "source": [
    "a = np.arange(6).reshape(2, 3)\n",
    "print(a, a.shape, '\\n')\n",
    "\n",
    "y = np.swapaxes(a, 0, 1)\n",
    "print(y, y.shape, '\\n')\n",
    "\n",
    "y = np.transpose(a)\n",
    "print(y, y.shape, '\\n')"
   ]
  },
  {
   "cell_type": "code",
   "execution_count": 218,
   "id": "c43f2278",
   "metadata": {},
   "outputs": [
    {
     "data": {
      "text/plain": [
       "array([[2, 3, 6, 7, 6],\n",
       "       [2, 6, 8, 8, 3],\n",
       "       [3, 6, 8, 3, 1],\n",
       "       [2, 6, 7, 4, 2],\n",
       "       [5, 3, 2, 2, 1]])"
      ]
     },
     "execution_count": 218,
     "metadata": {},
     "output_type": "execute_result"
    }
   ],
   "source": [
    "arr.T"
   ]
  },
  {
   "cell_type": "code",
   "execution_count": 219,
   "id": "bc2aa9ff",
   "metadata": {},
   "outputs": [
    {
     "data": {
      "text/plain": [
       "array([[[0, 1, 2],\n",
       "        [3, 4, 5]]])"
      ]
     },
     "execution_count": 219,
     "metadata": {},
     "output_type": "execute_result"
    }
   ],
   "source": [
    "a = np.arange(6).reshape(1, 2, 3)\n",
    "a"
   ]
  },
  {
   "cell_type": "code",
   "execution_count": 220,
   "id": "82862a0e",
   "metadata": {},
   "outputs": [
    {
     "data": {
      "text/plain": [
       "(array([[[0, 1, 2]],\n",
       " \n",
       "        [[3, 4, 5]]]),\n",
       " (2, 1, 3))"
      ]
     },
     "execution_count": 220,
     "metadata": {},
     "output_type": "execute_result"
    }
   ],
   "source": [
    "# 3 차원 ->  2차원 (1, 2, 3) -> (2, 1, 3)\n",
    "y=np.transpose(a, (1, 0, 2))\n",
    "y, y.shape"
   ]
  },
  {
   "cell_type": "code",
   "execution_count": 221,
   "id": "643166fb",
   "metadata": {},
   "outputs": [
    {
     "data": {
      "text/plain": [
       "(array([[[0, 1, 2]],\n",
       " \n",
       "        [[3, 4, 5]]]),\n",
       " (2, 1, 3))"
      ]
     },
     "execution_count": 221,
     "metadata": {},
     "output_type": "execute_result"
    }
   ],
   "source": [
    "y = np.swapaxes(a, 0, 1)\n",
    "y, y.shape"
   ]
  },
  {
   "cell_type": "markdown",
   "id": "544cbe16",
   "metadata": {},
   "source": [
    "column, raw, page"
   ]
  },
  {
   "cell_type": "code",
   "execution_count": null,
   "id": "4cd79225",
   "metadata": {},
   "outputs": [],
   "source": []
  },
  {
   "cell_type": "markdown",
   "id": "6275c7ba",
   "metadata": {},
   "source": [
    "## (Done)과제 #5 0705"
   ]
  },
  {
   "cell_type": "markdown",
   "id": "c9df115f",
   "metadata": {},
   "source": [
    "- (1, 2, 3) - > (2, 3, 1) 으로 차원을 변경\n",
    "```\n",
    "a = np.arange(6).reshape(1, 2, 3)\n",
    "```\n",
    "-transpose, swapaxes 모두 사용"
   ]
  },
  {
   "cell_type": "code",
   "execution_count": 222,
   "id": "a80d2061",
   "metadata": {},
   "outputs": [
    {
     "data": {
      "text/plain": [
       "(array([[[0, 1, 2],\n",
       "         [3, 4, 5]]]),\n",
       " (1, 2, 3))"
      ]
     },
     "execution_count": 222,
     "metadata": {},
     "output_type": "execute_result"
    }
   ],
   "source": [
    "a = np.arange(6).reshape(1, 2, 3)\n",
    "a, a.shape"
   ]
  },
  {
   "cell_type": "code",
   "execution_count": 223,
   "id": "5737d1e1",
   "metadata": {},
   "outputs": [
    {
     "data": {
      "text/plain": [
       "(array([[[0],\n",
       "         [1],\n",
       "         [2]],\n",
       " \n",
       "        [[3],\n",
       "         [4],\n",
       "         [5]]]),\n",
       " (2, 3, 1))"
      ]
     },
     "execution_count": 223,
     "metadata": {},
     "output_type": "execute_result"
    }
   ],
   "source": [
    "y= np.transpose(a, (1, 2, 0)) # 튜플은 axis의 번호\n",
    "y, y.shape"
   ]
  },
  {
   "cell_type": "code",
   "execution_count": 224,
   "id": "733209c2",
   "metadata": {},
   "outputs": [
    {
     "data": {
      "text/plain": [
       "(array([[[0],\n",
       "         [1],\n",
       "         [2]],\n",
       " \n",
       "        [[3],\n",
       "         [4],\n",
       "         [5]]]),\n",
       " (2, 3, 1))"
      ]
     },
     "execution_count": 224,
     "metadata": {},
     "output_type": "execute_result"
    }
   ],
   "source": [
    "y = np.swapaxes(a, 0, 2)\n",
    "y = np.swapaxes(y, 0, 1)\n",
    "y, y.shape"
   ]
  },
  {
   "cell_type": "markdown",
   "id": "879f3548",
   "metadata": {},
   "source": [
    "# numpy 제공함수"
   ]
  },
  {
   "cell_type": "code",
   "execution_count": 225,
   "id": "82fe4111",
   "metadata": {},
   "outputs": [
    {
     "data": {
      "text/plain": [
       "array([[1, 2, 3],\n",
       "       [4, 5, 6],\n",
       "       [7, 8, 9]])"
      ]
     },
     "execution_count": 225,
     "metadata": {},
     "output_type": "execute_result"
    }
   ],
   "source": [
    "arr = np.arange(1, 10).reshape(3, 3)\n",
    "arr"
   ]
  },
  {
   "cell_type": "code",
   "execution_count": 226,
   "id": "612dc84f",
   "metadata": {
    "scrolled": true
   },
   "outputs": [
    {
     "data": {
      "text/plain": [
       "array([ 1,  3,  6, 10, 15, 21, 28, 36, 45], dtype=int32)"
      ]
     },
     "execution_count": 226,
     "metadata": {},
     "output_type": "execute_result"
    }
   ],
   "source": [
    "arr.cumsum()"
   ]
  },
  {
   "cell_type": "code",
   "execution_count": 227,
   "id": "30dfd931",
   "metadata": {
    "scrolled": true
   },
   "outputs": [
    {
     "data": {
      "text/plain": [
       "array([[ 1,  2,  3],\n",
       "       [ 5,  7,  9],\n",
       "       [12, 15, 18]], dtype=int32)"
      ]
     },
     "execution_count": 227,
     "metadata": {},
     "output_type": "execute_result"
    }
   ],
   "source": [
    "arr.cumsum(axis=0)"
   ]
  },
  {
   "cell_type": "code",
   "execution_count": 230,
   "id": "6710c562-da62-4343-9f49-79950da9243a",
   "metadata": {},
   "outputs": [
    {
     "data": {
      "text/plain": [
       "array([[ 1,  3,  6],\n",
       "       [ 4,  9, 15],\n",
       "       [ 7, 15, 24]], dtype=int32)"
      ]
     },
     "execution_count": 230,
     "metadata": {},
     "output_type": "execute_result"
    }
   ],
   "source": [
    "arr.cumsum(axis=1)"
   ]
  },
  {
   "cell_type": "code",
   "execution_count": 232,
   "id": "37bcd4f3-667f-4a8e-90a7-23b6eaae373f",
   "metadata": {},
   "outputs": [
    {
     "data": {
      "text/plain": [
       "362880"
      ]
     },
     "execution_count": 232,
     "metadata": {},
     "output_type": "execute_result"
    }
   ],
   "source": [
    "arr.prod()"
   ]
  },
  {
   "cell_type": "code",
   "execution_count": 231,
   "id": "b7937973-23cd-495e-a6b6-cbe7ca1318d6",
   "metadata": {},
   "outputs": [
    {
     "data": {
      "text/plain": [
       "array([ 28,  80, 162])"
      ]
     },
     "execution_count": 231,
     "metadata": {},
     "output_type": "execute_result"
    }
   ],
   "source": [
    "arr.prod(axis=0)"
   ]
  },
  {
   "cell_type": "code",
   "execution_count": 228,
   "id": "7efccd17",
   "metadata": {},
   "outputs": [
    {
     "data": {
      "text/plain": [
       "array([  6, 120, 504])"
      ]
     },
     "execution_count": 228,
     "metadata": {},
     "output_type": "execute_result"
    }
   ],
   "source": [
    "arr.prod(axis=1)"
   ]
  },
  {
   "cell_type": "markdown",
   "id": "71d170df",
   "metadata": {},
   "source": [
    "## 나머지"
   ]
  },
  {
   "cell_type": "code",
   "execution_count": 235,
   "id": "6bb458ca",
   "metadata": {},
   "outputs": [
    {
     "data": {
      "text/plain": [
       "array([1, 2, 0], dtype=int32)"
      ]
     },
     "execution_count": 235,
     "metadata": {},
     "output_type": "execute_result"
    }
   ],
   "source": [
    "v1 = np.array([15, 30, 45])\n",
    "v2 = np.array([2, 7, 9])\n",
    "np.mod(v1, v2)"
   ]
  },
  {
   "cell_type": "code",
   "execution_count": 236,
   "id": "b829e45e",
   "metadata": {},
   "outputs": [
    {
     "data": {
      "text/plain": [
       "array([1, 2, 0], dtype=int32)"
      ]
     },
     "execution_count": 236,
     "metadata": {},
     "output_type": "execute_result"
    }
   ],
   "source": [
    "np.remainder(v1, v2)"
   ]
  },
  {
   "cell_type": "code",
   "execution_count": null,
   "id": "9307df18-ff60-4caf-a0c2-0c311692f515",
   "metadata": {},
   "outputs": [],
   "source": []
  },
  {
   "cell_type": "markdown",
   "id": "585c5708",
   "metadata": {},
   "source": [
    "## 역수"
   ]
  },
  {
   "cell_type": "code",
   "execution_count": 239,
   "id": "b864c505",
   "metadata": {},
   "outputs": [
    {
     "data": {
      "text/plain": [
       "array([1.17647059, 0.54054054, 1.        , 0.01      ])"
      ]
     },
     "execution_count": 239,
     "metadata": {},
     "output_type": "execute_result"
    }
   ],
   "source": [
    "val = np.array([0.85, 1.85, 1, 100])\n",
    "np.reciprocal(val)"
   ]
  },
  {
   "cell_type": "code",
   "execution_count": null,
   "id": "b9607afb-7c1b-4476-834f-11a4437afe39",
   "metadata": {},
   "outputs": [],
   "source": []
  },
  {
   "cell_type": "markdown",
   "id": "2dbbdd69",
   "metadata": {},
   "source": [
    "## 승수"
   ]
  },
  {
   "cell_type": "code",
   "execution_count": 240,
   "id": "fbc12b73",
   "metadata": {},
   "outputs": [
    {
     "data": {
      "text/plain": [
       "array([  4, 100, 225], dtype=int32)"
      ]
     },
     "execution_count": 240,
     "metadata": {},
     "output_type": "execute_result"
    }
   ],
   "source": [
    "v1 = np.array([2, 10, 15])\n",
    "v2 = np.array([1, 2, 3])\n",
    "np.power(v1, 2)"
   ]
  },
  {
   "cell_type": "code",
   "execution_count": 242,
   "id": "30fcf988",
   "metadata": {},
   "outputs": [
    {
     "data": {
      "text/plain": [
       "array([   2,  100, 3375], dtype=int32)"
      ]
     },
     "execution_count": 242,
     "metadata": {},
     "output_type": "execute_result"
    }
   ],
   "source": [
    "np.power(v1, v2)"
   ]
  },
  {
   "cell_type": "markdown",
   "id": "ce68ee5a",
   "metadata": {},
   "source": [
    "## ?"
   ]
  },
  {
   "cell_type": "code",
   "execution_count": 243,
   "id": "b594139f",
   "metadata": {},
   "outputs": [
    {
     "data": {
      "text/plain": [
       "array([-0.10321885,  0.4105985 ,  0.14404357,  1.45427351,  0.76103773,\n",
       "        0.12167502,  0.44386323,  0.33367433,  1.49407907, -0.20515826])"
      ]
     },
     "execution_count": 243,
     "metadata": {},
     "output_type": "execute_result"
    }
   ],
   "source": [
    "arr = np.random.randn(10)\n",
    "arr"
   ]
  },
  {
   "cell_type": "code",
   "execution_count": 244,
   "id": "3a06b18d",
   "metadata": {},
   "outputs": [
    {
     "data": {
      "text/plain": [
       "8"
      ]
     },
     "execution_count": 244,
     "metadata": {},
     "output_type": "execute_result"
    }
   ],
   "source": [
    "(arr > 0).sum() # 양수인 원소의 개수"
   ]
  },
  {
   "cell_type": "markdown",
   "id": "a68542a4",
   "metadata": {},
   "source": [
    "## any 와 all"
   ]
  },
  {
   "cell_type": "code",
   "execution_count": 97,
   "id": "f8e2828d",
   "metadata": {},
   "outputs": [],
   "source": [
    "#  any 메서드"
   ]
  },
  {
   "cell_type": "code",
   "execution_count": 245,
   "id": "80fb50d7",
   "metadata": {},
   "outputs": [
    {
     "data": {
      "text/plain": [
       "True"
      ]
     },
     "execution_count": 245,
     "metadata": {},
     "output_type": "execute_result"
    }
   ],
   "source": [
    "bools = np.array([False, False, True, True]) # if 'any' element has True, it's True\n",
    "bools.any()"
   ]
  },
  {
   "cell_type": "code",
   "execution_count": 247,
   "id": "1d118d11-689f-456c-b49a-e526a24edcff",
   "metadata": {},
   "outputs": [],
   "source": [
    "# all 메서드"
   ]
  },
  {
   "cell_type": "code",
   "execution_count": 248,
   "id": "f90fad9d-f103-4762-b37b-1d4bb000efb0",
   "metadata": {},
   "outputs": [
    {
     "data": {
      "text/plain": [
       "False"
      ]
     },
     "execution_count": 248,
     "metadata": {},
     "output_type": "execute_result"
    }
   ],
   "source": [
    "bools.all() # 'All' elements should be True."
   ]
  },
  {
   "cell_type": "code",
   "execution_count": null,
   "id": "96358211",
   "metadata": {},
   "outputs": [],
   "source": []
  },
  {
   "cell_type": "markdown",
   "id": "ad00c7df",
   "metadata": {},
   "source": [
    "## numpy.where 과 삼항식\n",
    ":삼항식의 벡터화 버전"
   ]
  },
  {
   "cell_type": "code",
   "execution_count": 249,
   "id": "f0d258a5",
   "metadata": {},
   "outputs": [
    {
     "data": {
      "text/plain": [
       "array([[ 0.3130677 , -0.85409574, -2.55298982,  0.6536186 ],\n",
       "       [ 0.8644362 , -0.74216502,  2.26975462, -1.45436567],\n",
       "       [ 0.04575852, -0.18718385,  1.53277921,  1.46935877],\n",
       "       [ 0.15494743,  0.37816252, -0.88778575, -1.98079647]])"
      ]
     },
     "execution_count": 249,
     "metadata": {},
     "output_type": "execute_result"
    }
   ],
   "source": [
    "arr = np.random.randn(4, 4)\n",
    "arr"
   ]
  },
  {
   "cell_type": "code",
   "execution_count": 251,
   "id": "eee55a2c",
   "metadata": {},
   "outputs": [
    {
     "data": {
      "text/plain": [
       "array([[ 2, -2, -2,  2],\n",
       "       [ 2, -2,  2, -2],\n",
       "       [ 2, -2,  2,  2],\n",
       "       [ 2,  2, -2, -2]])"
      ]
     },
     "execution_count": 251,
     "metadata": {},
     "output_type": "execute_result"
    }
   ],
   "source": [
    "np.where(arr > 0, 2, -2)"
   ]
  },
  {
   "cell_type": "code",
   "execution_count": 252,
   "id": "e3a4ba3c",
   "metadata": {},
   "outputs": [],
   "source": [
    "# Q. arr의 모든 양수를 2로 변경하세요."
   ]
  },
  {
   "cell_type": "code",
   "execution_count": 253,
   "id": "b308a8d7",
   "metadata": {},
   "outputs": [
    {
     "data": {
      "text/plain": [
       "array([[ 2.        , -0.85409574, -2.55298982,  2.        ],\n",
       "       [ 2.        , -0.74216502,  2.        , -1.45436567],\n",
       "       [ 2.        , -0.18718385,  2.        ,  2.        ],\n",
       "       [ 2.        ,  2.        , -0.88778575, -1.98079647]])"
      ]
     },
     "execution_count": 253,
     "metadata": {},
     "output_type": "execute_result"
    }
   ],
   "source": [
    "arr = np.where(arr > 0, 2, arr)\n",
    "arr"
   ]
  },
  {
   "cell_type": "code",
   "execution_count": 255,
   "id": "99954041-673b-4548-90d6-bdcff057d760",
   "metadata": {},
   "outputs": [
    {
     "data": {
      "text/plain": [
       "array([[1, 0, 0, 1],\n",
       "       [1, 0, 1, 0],\n",
       "       [1, 0, 1, 1],\n",
       "       [1, 1, 0, 0]])"
      ]
     },
     "execution_count": 255,
     "metadata": {},
     "output_type": "execute_result"
    }
   ],
   "source": [
    "arr = np.where(arr>0, 1, 0)\n",
    "arr"
   ]
  },
  {
   "cell_type": "code",
   "execution_count": 258,
   "id": "53a16bff",
   "metadata": {},
   "outputs": [
    {
     "data": {
      "text/plain": [
       "(array([0, 0, 1, 1, 2, 2, 2, 3, 3], dtype=int64),\n",
       " array([0, 3, 0, 2, 0, 2, 3, 0, 1], dtype=int64))"
      ]
     },
     "execution_count": 258,
     "metadata": {},
     "output_type": "execute_result"
    }
   ],
   "source": [
    "idx = np.where(arr>0)\n",
    "idx"
   ]
  },
  {
   "cell_type": "code",
   "execution_count": 259,
   "id": "a28da329-e884-428a-8a65-3817b2b5d4d6",
   "metadata": {},
   "outputs": [
    {
     "data": {
      "text/plain": [
       "array([1, 1, 1, 1, 1, 1, 1, 1, 1])"
      ]
     },
     "execution_count": 259,
     "metadata": {},
     "output_type": "execute_result"
    }
   ],
   "source": [
    "arr[idx]"
   ]
  },
  {
   "cell_type": "code",
   "execution_count": 262,
   "id": "662edf73-4614-4fcd-be19-7af1ab6d8c53",
   "metadata": {},
   "outputs": [
    {
     "data": {
      "text/plain": [
       "(tuple, numpy.ndarray)"
      ]
     },
     "execution_count": 262,
     "metadata": {},
     "output_type": "execute_result"
    }
   ],
   "source": [
    "type(idx), type(idx[0])"
   ]
  },
  {
   "cell_type": "code",
   "execution_count": null,
   "id": "adf767d4-ade0-43e3-b93c-9ac35c0abf7a",
   "metadata": {},
   "outputs": [],
   "source": []
  },
  {
   "cell_type": "markdown",
   "id": "233ea13c",
   "metadata": {},
   "source": [
    "## meshgrid 함수\n",
    "- 두개의 1차원 배열을 받아서 가능한 모든 (x, y) 짝을 만들 수 있는 2차원 배열 반환"
   ]
  },
  {
   "cell_type": "code",
   "execution_count": 264,
   "id": "6f37486c",
   "metadata": {},
   "outputs": [
    {
     "data": {
      "text/plain": [
       "(array([[1, 2, 3],\n",
       "        [1, 2, 3],\n",
       "        [1, 2, 3]]),\n",
       " array([[4, 4, 4],\n",
       "        [5, 5, 5],\n",
       "        [6, 6, 6]]))"
      ]
     },
     "execution_count": 264,
     "metadata": {},
     "output_type": "execute_result"
    }
   ],
   "source": [
    "x = np.arange(1, 4)\n",
    "y = np.arange(4, 7)\n",
    "xs, ys = np.meshgrid(x, y)\n",
    "xs, ys"
   ]
  },
  {
   "cell_type": "code",
   "execution_count": 265,
   "id": "7b01ba46-2477-4887-8ea8-df1aa2ca37aa",
   "metadata": {},
   "outputs": [
    {
     "data": {
      "text/plain": [
       "(array([[1, 2, 3, 4],\n",
       "        [1, 2, 3, 4]]),\n",
       " array([[5, 5, 5, 5],\n",
       "        [6, 6, 6, 6]]))"
      ]
     },
     "execution_count": 265,
     "metadata": {},
     "output_type": "execute_result"
    }
   ],
   "source": [
    "x = np.arange(1, 5)\n",
    "y = np.arange(5, 7)\n",
    "xs, ys = np.meshgrid(x, y)\n",
    "xs, ys"
   ]
  },
  {
   "cell_type": "code",
   "execution_count": null,
   "id": "17709866-b82f-45bc-8bea-49a8d9c3d1fc",
   "metadata": {},
   "outputs": [],
   "source": []
  },
  {
   "cell_type": "code",
   "execution_count": 266,
   "id": "30e66555-f1c3-4a5e-85d5-3ee8ad4d0303",
   "metadata": {},
   "outputs": [],
   "source": [
    "nx, ny = (3, 2)\n",
    "x = np.linspace(0, 1, nx)\n",
    "y = np.linspace(0, 1, ny)\n",
    "xv, yv = np.meshgrid(x, y)"
   ]
  },
  {
   "cell_type": "code",
   "execution_count": 267,
   "id": "7e1cc99b-90e8-4eb1-a4bd-1a25a9e78cdd",
   "metadata": {},
   "outputs": [
    {
     "data": {
      "text/plain": [
       "array([[0. , 0.5, 1. ],\n",
       "       [0. , 0.5, 1. ]])"
      ]
     },
     "execution_count": 267,
     "metadata": {},
     "output_type": "execute_result"
    }
   ],
   "source": [
    "xv"
   ]
  },
  {
   "cell_type": "code",
   "execution_count": 268,
   "id": "589d41b1-d7d5-4c6b-95c2-69ae661c6380",
   "metadata": {},
   "outputs": [
    {
     "data": {
      "text/plain": [
       "array([[0., 0., 0.],\n",
       "       [1., 1., 1.]])"
      ]
     },
     "execution_count": 268,
     "metadata": {},
     "output_type": "execute_result"
    }
   ],
   "source": [
    "yv"
   ]
  },
  {
   "cell_type": "code",
   "execution_count": null,
   "id": "1ab5b052-1b62-4399-881b-0781dc703c82",
   "metadata": {},
   "outputs": [],
   "source": []
  },
  {
   "cell_type": "markdown",
   "id": "f58638c1",
   "metadata": {},
   "source": [
    "## sort"
   ]
  },
  {
   "cell_type": "markdown",
   "id": "615c6fb2",
   "metadata": {},
   "source": [
    "### np.sort(ndarray)"
   ]
  },
  {
   "cell_type": "code",
   "execution_count": 269,
   "id": "5538961b",
   "metadata": {},
   "outputs": [
    {
     "data": {
      "text/plain": [
       "array([66, 42, 58, 36, 12, 47, 83, 92,  1, 15])"
      ]
     },
     "execution_count": 269,
     "metadata": {},
     "output_type": "execute_result"
    }
   ],
   "source": [
    "arr = np.random.randint(1, 100, size=10)\n",
    "arr"
   ]
  },
  {
   "cell_type": "code",
   "execution_count": 270,
   "id": "fde8e20b",
   "metadata": {},
   "outputs": [
    {
     "data": {
      "text/plain": [
       "array([ 1, 12, 15, 36, 42, 47, 58, 66, 83, 92])"
      ]
     },
     "execution_count": 270,
     "metadata": {},
     "output_type": "execute_result"
    }
   ],
   "source": [
    "np.sort(arr)"
   ]
  },
  {
   "cell_type": "code",
   "execution_count": 271,
   "id": "16a1cdaa",
   "metadata": {},
   "outputs": [
    {
     "data": {
      "text/plain": [
       "array([66, 42, 58, 36, 12, 47, 83, 92,  1, 15])"
      ]
     },
     "execution_count": 271,
     "metadata": {},
     "output_type": "execute_result"
    }
   ],
   "source": [
    "arr"
   ]
  },
  {
   "cell_type": "code",
   "execution_count": 272,
   "id": "b8a56e51",
   "metadata": {},
   "outputs": [
    {
     "data": {
      "text/plain": [
       "array([ 1, 12, 15, 36, 42, 47, 58, 66, 83, 92])"
      ]
     },
     "execution_count": 272,
     "metadata": {},
     "output_type": "execute_result"
    }
   ],
   "source": [
    "arr_sorted = np.sort(arr)\n",
    "arr_sorted"
   ]
  },
  {
   "cell_type": "code",
   "execution_count": null,
   "id": "d295b9ca",
   "metadata": {},
   "outputs": [],
   "source": []
  },
  {
   "cell_type": "code",
   "execution_count": 275,
   "id": "399bb49d",
   "metadata": {},
   "outputs": [
    {
     "data": {
      "text/plain": [
       "array([[ 7,  1],\n",
       "       [ 8, 12]])"
      ]
     },
     "execution_count": 275,
     "metadata": {},
     "output_type": "execute_result"
    }
   ],
   "source": [
    "arr2d = np.array([[8, 12],\n",
    "                 [7, 1]])\n",
    "sort_arr2d_s0 = np.sort(arr2d, axis=0) \n",
    "sort_arr2d_s0 #sort el in same columns"
   ]
  },
  {
   "cell_type": "code",
   "execution_count": 276,
   "id": "e9ad5dbe",
   "metadata": {},
   "outputs": [
    {
     "data": {
      "text/plain": [
       "array([[ 8, 12],\n",
       "       [ 1,  7]])"
      ]
     },
     "execution_count": 276,
     "metadata": {},
     "output_type": "execute_result"
    }
   ],
   "source": [
    "sort_arr2d_s1 = np.sort(arr2d, axis=1) \n",
    "sort_arr2d_s1 #sort el in same raw"
   ]
  },
  {
   "cell_type": "markdown",
   "id": "2ebe65e7",
   "metadata": {},
   "source": [
    "### ndarray.sort() : 원본 반영"
   ]
  },
  {
   "cell_type": "code",
   "execution_count": 277,
   "id": "46d3d1bf",
   "metadata": {},
   "outputs": [
    {
     "data": {
      "text/plain": [
       "array([-1.60540226,  0.98947618,  0.11081461, -0.38093141,  0.11495917,\n",
       "        0.34531264])"
      ]
     },
     "execution_count": 277,
     "metadata": {},
     "output_type": "execute_result"
    }
   ],
   "source": [
    "arr = np.random.randn(6)\n",
    "arr"
   ]
  },
  {
   "cell_type": "code",
   "execution_count": 278,
   "id": "0886b060",
   "metadata": {},
   "outputs": [
    {
     "data": {
      "text/plain": [
       "array([-1.60540226, -0.38093141,  0.11081461,  0.11495917,  0.34531264,\n",
       "        0.98947618])"
      ]
     },
     "execution_count": 278,
     "metadata": {},
     "output_type": "execute_result"
    }
   ],
   "source": [
    "arr.sort()\n",
    "arr"
   ]
  },
  {
   "cell_type": "code",
   "execution_count": 279,
   "id": "c5026550",
   "metadata": {},
   "outputs": [
    {
     "data": {
      "text/plain": [
       "array([[-1.73495876,  1.65835111,  2.29977152],\n",
       "       [-0.47113526,  1.26271548, -1.17051545],\n",
       "       [ 1.0657892 , -0.69993739,  0.14407911],\n",
       "       [ 0.3985421 ,  0.02686925,  1.05583713],\n",
       "       [-0.07318342, -0.66572066, -0.04411241]])"
      ]
     },
     "execution_count": 279,
     "metadata": {},
     "output_type": "execute_result"
    }
   ],
   "source": [
    "arr = np.random.randn(5, 3)\n",
    "arr"
   ]
  },
  {
   "cell_type": "code",
   "execution_count": 115,
   "id": "8abc5f1d",
   "metadata": {
    "scrolled": true
   },
   "outputs": [
    {
     "data": {
      "text/plain": [
       "array([[-1.73495876, -0.69993739, -1.17051545],\n",
       "       [-0.47113526, -0.66572066, -0.04411241],\n",
       "       [-0.07318342,  0.02686925,  0.14407911],\n",
       "       [ 0.3985421 ,  1.26271548,  1.05583713],\n",
       "       [ 1.0657892 ,  1.65835111,  2.29977152]])"
      ]
     },
     "execution_count": 115,
     "metadata": {},
     "output_type": "execute_result"
    }
   ],
   "source": [
    "# 열기준 정렬\n",
    "arr_1 = arr.copy()\n",
    "arr_1.sort(0)\n",
    "arr_1"
   ]
  },
  {
   "cell_type": "code",
   "execution_count": 116,
   "id": "ceb6251b",
   "metadata": {},
   "outputs": [
    {
     "data": {
      "text/plain": [
       "array([[-1.73495876,  1.65835111,  2.29977152],\n",
       "       [-1.17051545, -0.47113526,  1.26271548],\n",
       "       [-0.69993739,  0.14407911,  1.0657892 ],\n",
       "       [ 0.02686925,  0.3985421 ,  1.05583713],\n",
       "       [-0.66572066, -0.07318342, -0.04411241]])"
      ]
     },
     "execution_count": 116,
     "metadata": {},
     "output_type": "execute_result"
    }
   ],
   "source": [
    "# 행기준 정렬\n",
    "arr_2 = arr.copy()\n",
    "arr_2.sort(1)\n",
    "arr_2"
   ]
  },
  {
   "cell_type": "markdown",
   "id": "d249b8e1",
   "metadata": {},
   "source": [
    "- 정렬된 행렬의 인덱스 반환 : 기존 원본 행렬의 원소에 대한 인덱스를 필요로 할 때"
   ]
  },
  {
   "cell_type": "code",
   "execution_count": 117,
   "id": "0aa9dea5",
   "metadata": {},
   "outputs": [
    {
     "data": {
      "text/plain": [
       "array([3, 1, 9, 5])"
      ]
     },
     "execution_count": 117,
     "metadata": {},
     "output_type": "execute_result"
    }
   ],
   "source": [
    "org_array = np.array([3, 1, 9, 5])\n",
    "sort_indices = np.argsort(org_array)\n",
    "org_array"
   ]
  },
  {
   "cell_type": "code",
   "execution_count": 118,
   "id": "743ba751",
   "metadata": {
    "scrolled": true
   },
   "outputs": [
    {
     "data": {
      "text/plain": [
       "array([1, 0, 3, 2], dtype=int64)"
      ]
     },
     "execution_count": 118,
     "metadata": {},
     "output_type": "execute_result"
    }
   ],
   "source": [
    "sort_indices"
   ]
  },
  {
   "cell_type": "code",
   "execution_count": null,
   "id": "05d025e8",
   "metadata": {},
   "outputs": [],
   "source": []
  },
  {
   "cell_type": "markdown",
   "id": "37dd04b5",
   "metadata": {},
   "source": [
    "# 슬라이싱 연습"
   ]
  },
  {
   "cell_type": "markdown",
   "id": "8ec6e6f5",
   "metadata": {},
   "source": [
    "## (Done) 과제 #7 Tue 0705\n",
    "\n",
    "- Q. np.ones((10,10))을 아래와 같이 출력하세요.\n",
    "```\n",
    "array([[1., 1., 1., 1., 1., 1., 1., 1., 1., 1.],\n",
    "       [1., 0., 0., 0., 0., 0., 0., 0., 0., 1.],\n",
    "       [1., 0., 0., 0., 0., 0., 0., 0., 0., 1.],\n",
    "       [1., 0., 0., 0., 0., 0., 0., 0., 0., 1.],\n",
    "       [1., 0., 0., 0., 0., 0., 0., 0., 0., 1.],\n",
    "       [1., 0., 0., 0., 0., 0., 0., 0., 0., 1.],\n",
    "       [1., 0., 0., 0., 0., 0., 0., 0., 0., 1.],\n",
    "       [1., 0., 0., 0., 0., 0., 0., 0., 0., 1.],\n",
    "       [1., 0., 0., 0., 0., 0., 0., 0., 0., 1.],\n",
    "       [1., 1., 1., 1., 1., 1., 1., 1., 1., 1.]])\n",
    "```"
   ]
  },
  {
   "cell_type": "code",
   "execution_count": 119,
   "id": "94e307b4",
   "metadata": {},
   "outputs": [
    {
     "data": {
      "text/plain": [
       "array([[1., 1., 1., 1., 1., 1., 1., 1., 1., 1.],\n",
       "       [1., 0., 0., 0., 0., 0., 0., 0., 0., 1.],\n",
       "       [1., 0., 0., 0., 0., 0., 0., 0., 0., 1.],\n",
       "       [1., 0., 0., 0., 0., 0., 0., 0., 0., 1.],\n",
       "       [1., 0., 0., 0., 0., 0., 0., 0., 0., 1.],\n",
       "       [1., 0., 0., 0., 0., 0., 0., 0., 0., 1.],\n",
       "       [1., 0., 0., 0., 0., 0., 0., 0., 0., 1.],\n",
       "       [1., 0., 0., 0., 0., 0., 0., 0., 0., 1.],\n",
       "       [1., 0., 0., 0., 0., 0., 0., 0., 0., 1.],\n",
       "       [1., 1., 1., 1., 1., 1., 1., 1., 1., 1.]])"
      ]
     },
     "execution_count": 119,
     "metadata": {},
     "output_type": "execute_result"
    }
   ],
   "source": [
    "arr_a7 = np.ones((10, 10))\n",
    "arr_a7[1:9, 1:9] = 0.0\n",
    "arr_a7"
   ]
  },
  {
   "cell_type": "code",
   "execution_count": null,
   "id": "a29927ee",
   "metadata": {},
   "outputs": [],
   "source": []
  },
  {
   "cell_type": "markdown",
   "id": "311708bc",
   "metadata": {},
   "source": [
    "+ 아래는 슬라이싱된 array에 대해 다시 슬라이싱."
   ]
  },
  {
   "cell_type": "code",
   "execution_count": 120,
   "id": "e00011b1",
   "metadata": {},
   "outputs": [
    {
     "data": {
      "text/plain": [
       "array([[1., 1., 1., 1., 1., 1., 1., 1., 1., 1.],\n",
       "       [1., 1., 1., 1., 1., 1., 1., 1., 1., 1.],\n",
       "       [0., 0., 0., 0., 0., 0., 0., 0., 0., 0.],\n",
       "       [0., 0., 0., 0., 0., 0., 0., 0., 0., 0.],\n",
       "       [0., 0., 0., 0., 0., 0., 0., 0., 0., 0.],\n",
       "       [0., 0., 0., 0., 0., 0., 0., 0., 0., 0.],\n",
       "       [0., 0., 0., 0., 0., 0., 0., 0., 0., 0.],\n",
       "       [0., 0., 0., 0., 0., 0., 0., 0., 0., 0.],\n",
       "       [0., 0., 0., 0., 0., 0., 0., 0., 0., 0.],\n",
       "       [1., 1., 1., 1., 1., 1., 1., 1., 1., 1.]])"
      ]
     },
     "execution_count": 120,
     "metadata": {},
     "output_type": "execute_result"
    }
   ],
   "source": [
    "arr_a7 = np.ones((10, 10))\n",
    "arr_a7[1:9][1:9]=0.0\n",
    "arr_a7"
   ]
  },
  {
   "cell_type": "markdown",
   "id": "74b71672",
   "metadata": {},
   "source": [
    "+ 슬라이싱을 안하면?"
   ]
  },
  {
   "cell_type": "code",
   "execution_count": 121,
   "id": "f6dcc5fa",
   "metadata": {},
   "outputs": [
    {
     "data": {
      "text/plain": [
       "array([[1., 1., 1., 1., 1., 1., 1., 1., 1., 1.],\n",
       "       [1., 1., 1., 0., 1., 1., 1., 1., 1., 1.],\n",
       "       [1., 1., 1., 1., 5., 1., 1., 1., 1., 1.],\n",
       "       [1., 1., 1., 1., 1., 1., 1., 1., 1., 1.],\n",
       "       [1., 1., 1., 1., 1., 1., 1., 1., 1., 1.],\n",
       "       [1., 1., 1., 1., 1., 1., 1., 1., 1., 1.],\n",
       "       [1., 1., 1., 1., 1., 1., 1., 1., 1., 1.],\n",
       "       [1., 1., 1., 1., 1., 1., 1., 1., 1., 1.],\n",
       "       [1., 1., 1., 1., 1., 1., 1., 1., 1., 1.],\n",
       "       [1., 1., 1., 1., 1., 1., 1., 1., 1., 1.]])"
      ]
     },
     "execution_count": 121,
     "metadata": {},
     "output_type": "execute_result"
    }
   ],
   "source": [
    "arr_a7 = np.ones((10, 10))\n",
    "arr_a7[1][3]=0.0\n",
    "arr_a7[2, 4] = 5.0\n",
    "arr_a7"
   ]
  },
  {
   "cell_type": "code",
   "execution_count": null,
   "id": "d8fe8d33",
   "metadata": {},
   "outputs": [],
   "source": []
  },
  {
   "cell_type": "code",
   "execution_count": 122,
   "id": "59dd51c6",
   "metadata": {},
   "outputs": [],
   "source": [
    "# Q. np.zeros((8,8))을 이용해서 아래와 같이 출력하세요."
   ]
  },
  {
   "cell_type": "raw",
   "id": "360ef65e",
   "metadata": {},
   "source": [
    "array([[0, 1, 0, 1, 0, 1, 0, 1],\n",
    "       [1, 0, 1, 0, 1, 0, 1, 0],\n",
    "       [0, 1, 0, 1, 0, 1, 0, 1],\n",
    "       [1, 0, 1, 0, 1, 0, 1, 0],\n",
    "       [0, 1, 0, 1, 0, 1, 0, 1],\n",
    "       [1, 0, 1, 0, 1, 0, 1, 0],\n",
    "       [0, 1, 0, 1, 0, 1, 0, 1],\n",
    "       [1, 0, 1, 0, 1, 0, 1, 0]])\n"
   ]
  },
  {
   "cell_type": "code",
   "execution_count": 123,
   "id": "3b50840c",
   "metadata": {},
   "outputs": [
    {
     "data": {
      "text/plain": [
       "array([[0., 1., 0., 1., 0., 1., 0., 1.],\n",
       "       [1., 0., 1., 0., 1., 0., 1., 0.],\n",
       "       [0., 1., 0., 1., 0., 1., 0., 1.],\n",
       "       [1., 0., 1., 0., 1., 0., 1., 0.],\n",
       "       [0., 1., 0., 1., 0., 1., 0., 1.],\n",
       "       [1., 0., 1., 0., 1., 0., 1., 0.],\n",
       "       [0., 1., 0., 1., 0., 1., 0., 1.],\n",
       "       [1., 0., 1., 0., 1., 0., 1., 0.]])"
      ]
     },
     "execution_count": 123,
     "metadata": {},
     "output_type": "execute_result"
    }
   ],
   "source": [
    "import numpy as np\n",
    "q = np.zeros((8,8))\n",
    "q[1::2,::2] = 1\n",
    "q[0::2,1::2] = 1\n",
    "q"
   ]
  },
  {
   "cell_type": "code",
   "execution_count": 124,
   "id": "d0e1e619",
   "metadata": {},
   "outputs": [
    {
     "data": {
      "text/plain": [
       "array([[0, 1, 0, 1, 0, 1, 0, 1],\n",
       "       [1, 0, 1, 0, 1, 0, 1, 0],\n",
       "       [0, 1, 0, 1, 0, 1, 0, 1],\n",
       "       [1, 0, 1, 0, 1, 0, 1, 0],\n",
       "       [0, 1, 0, 1, 0, 1, 0, 1],\n",
       "       [1, 0, 1, 0, 1, 0, 1, 0],\n",
       "       [0, 1, 0, 1, 0, 1, 0, 1],\n",
       "       [1, 0, 1, 0, 1, 0, 1, 0]])"
      ]
     },
     "execution_count": 124,
     "metadata": {},
     "output_type": "execute_result"
    }
   ],
   "source": [
    "z = np.tile(np.array([[0,1],[1,0]]),(4,4))\n",
    "z"
   ]
  },
  {
   "cell_type": "code",
   "execution_count": 125,
   "id": "ae46fe37",
   "metadata": {},
   "outputs": [],
   "source": [
    "z1 = np.tile(np.array([[1, 2, 3], [4, 5, 6]]), (3, 4))"
   ]
  },
  {
   "cell_type": "code",
   "execution_count": 126,
   "id": "e413b71f",
   "metadata": {},
   "outputs": [
    {
     "data": {
      "text/plain": [
       "array([[1, 2, 3, 1, 2, 3, 1, 2, 3, 1, 2, 3],\n",
       "       [4, 5, 6, 4, 5, 6, 4, 5, 6, 4, 5, 6],\n",
       "       [1, 2, 3, 1, 2, 3, 1, 2, 3, 1, 2, 3],\n",
       "       [4, 5, 6, 4, 5, 6, 4, 5, 6, 4, 5, 6],\n",
       "       [1, 2, 3, 1, 2, 3, 1, 2, 3, 1, 2, 3],\n",
       "       [4, 5, 6, 4, 5, 6, 4, 5, 6, 4, 5, 6]])"
      ]
     },
     "execution_count": 126,
     "metadata": {},
     "output_type": "execute_result"
    }
   ],
   "source": [
    "z1"
   ]
  },
  {
   "cell_type": "markdown",
   "id": "c595bfd9",
   "metadata": {},
   "source": [
    "## (Done) 과제 #1 Wed 0706\n",
    "\n",
    "- 1 ~ 100을 아래와 같이 출력하세요."
   ]
  },
  {
   "cell_type": "raw",
   "id": "47f21327",
   "metadata": {},
   "source": [
    "[[  1   2   3   4   5   6   7   8   9  10]\n",
    " [ 20  19  18  17  16  15  14  13  12  11]\n",
    " [ 21  22  23  24  25  26  27  28  29  30]\n",
    " [ 40  39  38  37  36  35  34  33  32  31]\n",
    " [ 41  42  43  44  45  46  47  48  49  50]\n",
    " [ 60  59  58  57  56  55  54  53  52  51]\n",
    " [ 61  62  63  64  65  66  67  68  69  70]\n",
    " [ 80  79  78  77  76  75  74  73  72  71]\n",
    " [ 81  82  83  84  85  86  87  88  89  90]\n",
    " [100  99  98  97  96  95  94  93  92  91]] <class 'numpy.ndarray'>"
   ]
  },
  {
   "cell_type": "code",
   "execution_count": 127,
   "id": "72d3176a",
   "metadata": {},
   "outputs": [],
   "source": [
    "#저 모양 list를 for 문으로 만들고 ndarray로 변환 출력"
   ]
  },
  {
   "cell_type": "code",
   "execution_count": 280,
   "id": "299fba50",
   "metadata": {
    "scrolled": true
   },
   "outputs": [
    {
     "name": "stdout",
     "output_type": "stream",
     "text": [
      "[[1, 2, 3, 4, 5, 6, 7, 8, 9, 10], [20, 19, 18, 17, 16, 15, 14, 13, 12, 11], [21, 22, 23, 24, 25, 26, 27, 28, 29, 30], [40, 39, 38, 37, 36, 35, 34, 33, 32, 31], [41, 42, 43, 44, 45, 46, 47, 48, 49, 50], [60, 59, 58, 57, 56, 55, 54, 53, 52, 51], [61, 62, 63, 64, 65, 66, 67, 68, 69, 70], [80, 79, 78, 77, 76, 75, 74, 73, 72, 71], [81, 82, 83, 84, 85, 86, 87, 88, 89, 90], [100, 99, 98, 97, 96, 95, 94, 93, 92, 91]] \n",
      "\n",
      "[[  1   2   3   4   5   6   7   8   9  10]\n",
      " [ 20  19  18  17  16  15  14  13  12  11]\n",
      " [ 21  22  23  24  25  26  27  28  29  30]\n",
      " [ 40  39  38  37  36  35  34  33  32  31]\n",
      " [ 41  42  43  44  45  46  47  48  49  50]\n",
      " [ 60  59  58  57  56  55  54  53  52  51]\n",
      " [ 61  62  63  64  65  66  67  68  69  70]\n",
      " [ 80  79  78  77  76  75  74  73  72  71]\n",
      " [ 81  82  83  84  85  86  87  88  89  90]\n",
      " [100  99  98  97  96  95  94  93  92  91]] <class 'numpy.ndarray'>\n"
     ]
    }
   ],
   "source": [
    "list_all=[]\n",
    "list_raw = []\n",
    "for i in range(10):\n",
    "    if i % 2 == 0:\n",
    "        for j in range(10):\n",
    "            list_raw.append(i*10+j +1)\n",
    "        list_all.append(list_raw)\n",
    "        list_raw = []\n",
    "    else:\n",
    "        for j in range(10,0,-1):\n",
    "            list_raw.append(10*i + j)\n",
    "        list_all.append(list_raw)\n",
    "        list_raw = []\n",
    "print(list_all, '\\n')\n",
    "print(np.array(list_all), type(np.array(list_all)))"
   ]
  },
  {
   "cell_type": "code",
   "execution_count": 281,
   "id": "0dda41d6",
   "metadata": {},
   "outputs": [
    {
     "data": {
      "text/plain": [
       "array([[  1,   2,   3,   4,   5,   6,   7,   8,   9,  10],\n",
       "       [ 20,  19,  18,  17,  16,  15,  14,  13,  12,  11],\n",
       "       [ 21,  22,  23,  24,  25,  26,  27,  28,  29,  30],\n",
       "       [ 40,  39,  38,  37,  36,  35,  34,  33,  32,  31],\n",
       "       [ 41,  42,  43,  44,  45,  46,  47,  48,  49,  50],\n",
       "       [ 60,  59,  58,  57,  56,  55,  54,  53,  52,  51],\n",
       "       [ 61,  62,  63,  64,  65,  66,  67,  68,  69,  70],\n",
       "       [ 80,  79,  78,  77,  76,  75,  74,  73,  72,  71],\n",
       "       [ 81,  82,  83,  84,  85,  86,  87,  88,  89,  90],\n",
       "       [100,  99,  98,  97,  96,  95,  94,  93,  92,  91]])"
      ]
     },
     "execution_count": 281,
     "metadata": {},
     "output_type": "execute_result"
    }
   ],
   "source": [
    "# 배열을 써욤?\n",
    "k = np.array(range(1, 101)).reshape(10, 10)\n",
    "\n",
    "k[1::2, :] = k[1::2, ::-1]\n",
    "k"
   ]
  },
  {
   "cell_type": "code",
   "execution_count": null,
   "id": "cef1a81e",
   "metadata": {},
   "outputs": [],
   "source": []
  }
 ],
 "metadata": {
  "kernelspec": {
   "display_name": "Python 3 (ipykernel)",
   "language": "python",
   "name": "python3"
  },
  "language_info": {
   "codemirror_mode": {
    "name": "ipython",
    "version": 3
   },
   "file_extension": ".py",
   "mimetype": "text/x-python",
   "name": "python",
   "nbconvert_exporter": "python",
   "pygments_lexer": "ipython3",
   "version": "3.8.13"
  },
  "toc": {
   "base_numbering": 1,
   "nav_menu": {},
   "number_sections": true,
   "sideBar": true,
   "skip_h1_title": false,
   "title_cell": "Table of Contents",
   "title_sidebar": "Contents",
   "toc_cell": false,
   "toc_position": {
    "height": "calc(100% - 180px)",
    "left": "10px",
    "top": "150px",
    "width": "360.241px"
   },
   "toc_section_display": true,
   "toc_window_display": true
  }
 },
 "nbformat": 4,
 "nbformat_minor": 5
}
