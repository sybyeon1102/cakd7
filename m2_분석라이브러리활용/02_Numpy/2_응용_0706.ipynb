{
 "cells": [
  {
   "cell_type": "markdown",
   "id": "940f21b8",
   "metadata": {},
   "source": [
    "# 난수 생성 함수"
   ]
  },
  {
   "cell_type": "markdown",
   "id": "6bed4f38",
   "metadata": {},
   "source": [
    "[numpy random 함수]\n",
    "\n",
    "- np.random.seed : seed를 통한 난수 생성\n",
    "- np.random.randint : 정수 난수 1개 생성\n",
    "- np.random.rand : 0부터 1사이의 균일분포에서 난수 매트릭스 배열 생성\n",
    "- np.random.randn : 가우시안 표준 정규분포에서 난수 매트릭스 배열 생성\n",
    "- np.random.shuffle : 기존의 데이터의 순서 바꾸기\n",
    "- np.random.choice : 기존 데이터에서 sampling\n"
   ]
  },
  {
   "cell_type": "markdown",
   "id": "cefe005b",
   "metadata": {
    "tags": []
   },
   "source": [
    "## random의 함수들"
   ]
  },
  {
   "cell_type": "code",
   "execution_count": 2,
   "id": "fa2ca75c",
   "metadata": {},
   "outputs": [
    {
     "name": "stdout",
     "output_type": "stream",
     "text": [
      "0.5483593644806206 \n",
      "\n"
     ]
    }
   ],
   "source": [
    "import random\n",
    "print(random.random(),'\\n') # 0.0<= x < 1.0 사이 난수 리턴"
   ]
  },
  {
   "cell_type": "code",
   "execution_count": 3,
   "id": "6c1bb83a",
   "metadata": {},
   "outputs": [
    {
     "name": "stdout",
     "output_type": "stream",
     "text": [
      "8 \n",
      "\n"
     ]
    }
   ],
   "source": [
    "print(random.randint(1,10),'\\n') # 1 <= x <= 10 사이의 정수중에서 난수 값 리턴 "
   ]
  },
  {
   "cell_type": "code",
   "execution_count": 4,
   "id": "18a340a4",
   "metadata": {},
   "outputs": [
    {
     "name": "stdout",
     "output_type": "stream",
     "text": [
      "13.345568002091927 \n",
      "\n"
     ]
    }
   ],
   "source": [
    "print(random.uniform(10,20),'\\n') # min, max 사이 float 리턴, 끝값 포함"
   ]
  },
  {
   "cell_type": "code",
   "execution_count": 5,
   "id": "25ea0018",
   "metadata": {},
   "outputs": [
    {
     "name": "stdout",
     "output_type": "stream",
     "text": [
      "8 \n",
      "\n"
     ]
    }
   ],
   "source": [
    "print(random.randrange(10),'\\n') # 지정 범위 int 리턴, range(10)의 값중에 하나를 return"
   ]
  },
  {
   "cell_type": "code",
   "execution_count": 6,
   "id": "76ddd30e",
   "metadata": {},
   "outputs": [
    {
     "name": "stdout",
     "output_type": "stream",
     "text": [
      "[4, 3, 3, 7, 5, 0, 1, 4, 1, 4, 5, 4, 7, 2, 1, 2, 5, 7, 0, 2, 4, 1, 7, 1, 6, 4, 4, 2, 2, 4, 7, 0, 5, 7, 1, 7, 4, 4, 2, 5, 4, 6, 3, 2, 6, 7, 3, 1, 2, 1, 7, 1, 3, 2, 5, 4, 5, 6, 4, 5, 1, 3, 6, 5, 4, 4, 2, 6, 2, 3, 0, 6, 7, 3, 7, 0, 0, 2, 5, 1, 0, 5, 1, 3, 3, 5, 6, 3, 0, 5, 6, 7, 5, 5, 3, 3, 5, 2, 5, 5] \n",
      "\n"
     ]
    },
    {
     "data": {
      "text/plain": [
       "{0, 1, 2, 3, 4, 5, 6, 7}"
      ]
     },
     "execution_count": 6,
     "metadata": {},
     "output_type": "execute_result"
    }
   ],
   "source": [
    "li = []\n",
    "for i in range(100):\n",
    "    li.append(random.randrange(8))\n",
    "print(li, '\\n')\n",
    "set(li)"
   ]
  },
  {
   "cell_type": "code",
   "execution_count": null,
   "id": "c6e97133",
   "metadata": {},
   "outputs": [],
   "source": []
  },
  {
   "cell_type": "code",
   "execution_count": 7,
   "id": "b1df29fc",
   "metadata": {
    "scrolled": true
   },
   "outputs": [
    {
     "name": "stdout",
     "output_type": "stream",
     "text": [
      "2 \n",
      "\n"
     ]
    }
   ],
   "source": [
    "print(random.choice([1,2,3,4,5]),'\\n') # 리스트 내부에 있는 요소를 랜덤하게 선택"
   ]
  },
  {
   "cell_type": "code",
   "execution_count": 8,
   "id": "6add7316",
   "metadata": {},
   "outputs": [
    {
     "name": "stdout",
     "output_type": "stream",
     "text": [
      "[5, 2, 4] \n",
      "\n"
     ]
    }
   ],
   "source": [
    "li = [1,2,3,4,5]\n",
    "print(random.sample(li, 3), '\\n') # 리스트 요소를 중복이 안되게 리턴"
   ]
  },
  {
   "cell_type": "raw",
   "id": "7fc85512",
   "metadata": {},
   "source": [
    "li = [1, 2, 3, 4, 5, 6]\n",
    "random.sample(li, 7)\n",
    "\n",
    "# len(li) 넘어가면 ValueError"
   ]
  },
  {
   "cell_type": "code",
   "execution_count": null,
   "id": "d58927cf",
   "metadata": {},
   "outputs": [],
   "source": []
  },
  {
   "cell_type": "code",
   "execution_count": 9,
   "id": "7058848a",
   "metadata": {},
   "outputs": [
    {
     "name": "stdout",
     "output_type": "stream",
     "text": [
      "[1, 4, 2, 5, 3]\n"
     ]
    }
   ],
   "source": [
    "random.shuffle(li) # 리스트 요소를 다시 섞어서 리턴\n",
    "print(li)"
   ]
  },
  {
   "cell_type": "markdown",
   "id": "3d84305c",
   "metadata": {},
   "source": [
    "## numpy.random 함수들"
   ]
  },
  {
   "cell_type": "code",
   "execution_count": 10,
   "id": "f3cabad7",
   "metadata": {},
   "outputs": [
    {
     "data": {
      "text/plain": [
       "0.5000297652199915"
      ]
     },
     "execution_count": 10,
     "metadata": {},
     "output_type": "execute_result"
    }
   ],
   "source": [
    "import numpy as np\n",
    "r = np.random.rand(100000000) # 0 ~ 1사이의 균일분포\n",
    "# print(r)\n",
    "r.mean()"
   ]
  },
  {
   "cell_type": "code",
   "execution_count": 11,
   "id": "a403169a",
   "metadata": {},
   "outputs": [
    {
     "name": "stdout",
     "output_type": "stream",
     "text": [
      "[-0.05538919  1.57471198  1.07141946 ... -0.96918889 -0.40851096\n",
      "  0.65905814] \n",
      "\n"
     ]
    },
    {
     "data": {
      "text/plain": [
       "-0.013539517783453527"
      ]
     },
     "execution_count": 11,
     "metadata": {},
     "output_type": "execute_result"
    }
   ],
   "source": [
    "# 표준 정규분포\n",
    "r = np.random.randn(10000)\n",
    "print(r,'\\n')\n",
    "r.mean()"
   ]
  },
  {
   "cell_type": "code",
   "execution_count": 12,
   "id": "132822dc",
   "metadata": {},
   "outputs": [
    {
     "data": {
      "text/plain": [
       "array([1.92800384, 1.28288049, 1.51904446, 1.01815358, 1.2719327 ,\n",
       "       1.13980567, 1.89211086, 1.76619874, 1.18904452, 1.27088957])"
      ]
     },
     "execution_count": 12,
     "metadata": {},
     "output_type": "execute_result"
    }
   ],
   "source": [
    "np.random.uniform(1.0,2.0,10)"
   ]
  },
  {
   "cell_type": "code",
   "execution_count": 13,
   "id": "c0bd3dbc",
   "metadata": {},
   "outputs": [
    {
     "data": {
      "text/plain": [
       "array([[0.5110205 , 0.03710661, 0.12981726],\n",
       "       [0.00610606, 0.79794569, 0.46647963]])"
      ]
     },
     "execution_count": 13,
     "metadata": {},
     "output_type": "execute_result"
    }
   ],
   "source": [
    "np.random.uniform(0,1,(2,3)) # lower, upper, size"
   ]
  },
  {
   "cell_type": "code",
   "execution_count": 14,
   "id": "28abc80d",
   "metadata": {},
   "outputs": [
    {
     "data": {
      "text/plain": [
       "array([[0.21409032, 0.54016101, 0.6072198 ],\n",
       "       [0.78714633, 0.63615907, 0.41287984]])"
      ]
     },
     "execution_count": 14,
     "metadata": {},
     "output_type": "execute_result"
    }
   ],
   "source": [
    "# 0 ~ 1 사이의 난수 실수값으로 행렬 생성\n",
    "# uniform 함수의 최소값, 최대값을 0,1로 지정한 것과 같음\n",
    "np.random.random_sample((2,3))"
   ]
  },
  {
   "cell_type": "code",
   "execution_count": 15,
   "id": "a59fb656",
   "metadata": {},
   "outputs": [
    {
     "data": {
      "text/plain": [
       "array([[0.3985904 , 0.10392247, 0.54359251, 0.82012481, 0.47576805,\n",
       "        0.86501716, 0.0712399 , 0.97377798],\n",
       "       [0.82503453, 0.98365797, 0.33011368, 0.19052842, 0.83709879,\n",
       "        0.5475868 , 0.66596136, 0.33325685],\n",
       "       [0.22134887, 0.05479394, 0.58199016, 0.88674147, 0.33620234,\n",
       "        0.17958006, 0.11368834, 0.1502524 ],\n",
       "       [0.92175821, 0.65681559, 0.96985055, 0.6370615 , 0.98984323,\n",
       "        0.12595521, 0.26926071, 0.73914903]])"
      ]
     },
     "execution_count": 15,
     "metadata": {},
     "output_type": "execute_result"
    }
   ],
   "source": [
    "import pandas as pd\n",
    "ar = np.random.rand(4,8)\n",
    "ar"
   ]
  },
  {
   "cell_type": "code",
   "execution_count": 16,
   "id": "9ebb719b",
   "metadata": {},
   "outputs": [],
   "source": [
    "# 배열을 df로 변환\n",
    "# coloumns 8개에 대한 이름# coloumns 8개에 대한 이름\n",
    "columns = ['id','gender','age','region','product','price','qty','time']\n"
   ]
  },
  {
   "cell_type": "code",
   "execution_count": 17,
   "id": "5e61ec34",
   "metadata": {},
   "outputs": [
    {
     "data": {
      "text/html": [
       "<div>\n",
       "<style scoped>\n",
       "    .dataframe tbody tr th:only-of-type {\n",
       "        vertical-align: middle;\n",
       "    }\n",
       "\n",
       "    .dataframe tbody tr th {\n",
       "        vertical-align: top;\n",
       "    }\n",
       "\n",
       "    .dataframe thead th {\n",
       "        text-align: right;\n",
       "    }\n",
       "</style>\n",
       "<table border=\"1\" class=\"dataframe\">\n",
       "  <thead>\n",
       "    <tr style=\"text-align: right;\">\n",
       "      <th></th>\n",
       "      <th>id</th>\n",
       "      <th>gender</th>\n",
       "      <th>age</th>\n",
       "      <th>region</th>\n",
       "      <th>product</th>\n",
       "      <th>price</th>\n",
       "      <th>qty</th>\n",
       "      <th>time</th>\n",
       "    </tr>\n",
       "  </thead>\n",
       "  <tbody>\n",
       "    <tr>\n",
       "      <th>0</th>\n",
       "      <td>0.398590</td>\n",
       "      <td>0.103922</td>\n",
       "      <td>0.543593</td>\n",
       "      <td>0.820125</td>\n",
       "      <td>0.475768</td>\n",
       "      <td>0.865017</td>\n",
       "      <td>0.071240</td>\n",
       "      <td>0.973778</td>\n",
       "    </tr>\n",
       "    <tr>\n",
       "      <th>1</th>\n",
       "      <td>0.825035</td>\n",
       "      <td>0.983658</td>\n",
       "      <td>0.330114</td>\n",
       "      <td>0.190528</td>\n",
       "      <td>0.837099</td>\n",
       "      <td>0.547587</td>\n",
       "      <td>0.665961</td>\n",
       "      <td>0.333257</td>\n",
       "    </tr>\n",
       "    <tr>\n",
       "      <th>2</th>\n",
       "      <td>0.221349</td>\n",
       "      <td>0.054794</td>\n",
       "      <td>0.581990</td>\n",
       "      <td>0.886741</td>\n",
       "      <td>0.336202</td>\n",
       "      <td>0.179580</td>\n",
       "      <td>0.113688</td>\n",
       "      <td>0.150252</td>\n",
       "    </tr>\n",
       "    <tr>\n",
       "      <th>3</th>\n",
       "      <td>0.921758</td>\n",
       "      <td>0.656816</td>\n",
       "      <td>0.969851</td>\n",
       "      <td>0.637062</td>\n",
       "      <td>0.989843</td>\n",
       "      <td>0.125955</td>\n",
       "      <td>0.269261</td>\n",
       "      <td>0.739149</td>\n",
       "    </tr>\n",
       "  </tbody>\n",
       "</table>\n",
       "</div>"
      ],
      "text/plain": [
       "         id    gender       age    region   product     price       qty  \\\n",
       "0  0.398590  0.103922  0.543593  0.820125  0.475768  0.865017  0.071240   \n",
       "1  0.825035  0.983658  0.330114  0.190528  0.837099  0.547587  0.665961   \n",
       "2  0.221349  0.054794  0.581990  0.886741  0.336202  0.179580  0.113688   \n",
       "3  0.921758  0.656816  0.969851  0.637062  0.989843  0.125955  0.269261   \n",
       "\n",
       "       time  \n",
       "0  0.973778  \n",
       "1  0.333257  \n",
       "2  0.150252  \n",
       "3  0.739149  "
      ]
     },
     "execution_count": 17,
     "metadata": {},
     "output_type": "execute_result"
    }
   ],
   "source": [
    "df = pd.DataFrame(ar,columns=['id','gender','age','region','product','price','qty','time'])\n",
    "df"
   ]
  },
  {
   "cell_type": "code",
   "execution_count": 18,
   "id": "fc1be924",
   "metadata": {},
   "outputs": [],
   "source": [
    "# Q. id, gender, age 컬럼에 대하여 의미있는 값으로 변환하여 3개의 컬럼으로 구성된 df3를 출력하세요."
   ]
  },
  {
   "cell_type": "code",
   "execution_count": 19,
   "id": "1a10177a",
   "metadata": {},
   "outputs": [
    {
     "data": {
      "text/html": [
       "<div>\n",
       "<style scoped>\n",
       "    .dataframe tbody tr th:only-of-type {\n",
       "        vertical-align: middle;\n",
       "    }\n",
       "\n",
       "    .dataframe tbody tr th {\n",
       "        vertical-align: top;\n",
       "    }\n",
       "\n",
       "    .dataframe thead th {\n",
       "        text-align: right;\n",
       "    }\n",
       "</style>\n",
       "<table border=\"1\" class=\"dataframe\">\n",
       "  <thead>\n",
       "    <tr style=\"text-align: right;\">\n",
       "      <th></th>\n",
       "      <th>id</th>\n",
       "      <th>gender</th>\n",
       "      <th>age</th>\n",
       "    </tr>\n",
       "  </thead>\n",
       "  <tbody>\n",
       "    <tr>\n",
       "      <th>0</th>\n",
       "      <td>51</td>\n",
       "      <td>female</td>\n",
       "      <td>15</td>\n",
       "    </tr>\n",
       "    <tr>\n",
       "      <th>1</th>\n",
       "      <td>36</td>\n",
       "      <td>female</td>\n",
       "      <td>79</td>\n",
       "    </tr>\n",
       "    <tr>\n",
       "      <th>2</th>\n",
       "      <td>19</td>\n",
       "      <td>male</td>\n",
       "      <td>72</td>\n",
       "    </tr>\n",
       "    <tr>\n",
       "      <th>3</th>\n",
       "      <td>84</td>\n",
       "      <td>female</td>\n",
       "      <td>33</td>\n",
       "    </tr>\n",
       "  </tbody>\n",
       "</table>\n",
       "</div>"
      ],
      "text/plain": [
       "   id  gender  age\n",
       "0  51  female   15\n",
       "1  36  female   79\n",
       "2  19    male   72\n",
       "3  84  female   33"
      ]
     },
     "execution_count": 19,
     "metadata": {},
     "output_type": "execute_result"
    }
   ],
   "source": [
    "df.id = np.random.randint(10,99,4)\n",
    "df.gender = np.random.choice(['male','female'],4)\n",
    "df.age = np.random.randint(0,100,4)\n",
    "df[['id','gender','age']]"
   ]
  },
  {
   "cell_type": "code",
   "execution_count": 20,
   "id": "7736148b",
   "metadata": {},
   "outputs": [],
   "source": [
    "# 배열에서 정렬한 후 50%에 해당하는 원소만 출력\n",
    "large_ar = np.random.randn(1000000)"
   ]
  },
  {
   "cell_type": "code",
   "execution_count": 21,
   "id": "8f08e345",
   "metadata": {},
   "outputs": [
    {
     "data": {
      "text/plain": [
       "array([-1.27841094, -1.81911269, -1.34411608, ..., -2.35487923,\n",
       "        0.99993347, -0.44849426])"
      ]
     },
     "execution_count": 21,
     "metadata": {},
     "output_type": "execute_result"
    }
   ],
   "source": [
    "large_ar"
   ]
  },
  {
   "cell_type": "code",
   "execution_count": 22,
   "id": "15c6f4bd",
   "metadata": {},
   "outputs": [],
   "source": [
    "large_ar.sort()"
   ]
  },
  {
   "cell_type": "code",
   "execution_count": 23,
   "id": "1494748f",
   "metadata": {},
   "outputs": [
    {
     "data": {
      "text/plain": [
       "array([-4.83127952, -4.64653388, -4.6441874 , ...,  4.5607412 ,\n",
       "        4.58151594,  5.27472827])"
      ]
     },
     "execution_count": 23,
     "metadata": {},
     "output_type": "execute_result"
    }
   ],
   "source": [
    "large_ar"
   ]
  },
  {
   "cell_type": "code",
   "execution_count": 24,
   "id": "5365387b",
   "metadata": {},
   "outputs": [
    {
     "data": {
      "text/plain": [
       "-0.0005217024122117934"
      ]
     },
     "execution_count": 24,
     "metadata": {},
     "output_type": "execute_result"
    }
   ],
   "source": [
    "large_ar[int(0.5*len(large_ar))] # int()의 arg는 내림처리된다."
   ]
  },
  {
   "cell_type": "code",
   "execution_count": null,
   "id": "812187ba",
   "metadata": {},
   "outputs": [],
   "source": []
  },
  {
   "cell_type": "markdown",
   "id": "a530cf30",
   "metadata": {},
   "source": [
    "# 배열 집합 연산"
   ]
  },
  {
   "cell_type": "code",
   "execution_count": 25,
   "id": "9a72cc5f",
   "metadata": {},
   "outputs": [
    {
     "data": {
      "text/plain": [
       "(array(['Bob', 'Joe', 'Will'], dtype='<U4'), numpy.ndarray)"
      ]
     },
     "execution_count": 25,
     "metadata": {},
     "output_type": "execute_result"
    }
   ],
   "source": [
    "names = np.array(['Bob','Joe','Will','Joe','Joe'])\n",
    "np.unique(names), type(np.unique(names))"
   ]
  },
  {
   "cell_type": "code",
   "execution_count": 26,
   "id": "438cd660",
   "metadata": {},
   "outputs": [
    {
     "data": {
      "text/plain": [
       "(['Bob', 'Joe', 'Will'], list)"
      ]
     },
     "execution_count": 26,
     "metadata": {},
     "output_type": "execute_result"
    }
   ],
   "source": [
    "names = np.array(['Bob','Joe','Will','Joe','Joe'])\n",
    "sorted(set(names)), type(sorted(set(names)))"
   ]
  },
  {
   "cell_type": "code",
   "execution_count": 27,
   "id": "710b0f9f",
   "metadata": {},
   "outputs": [
    {
     "data": {
      "text/plain": [
       "array([ True, False, False,  True,  True, False,  True])"
      ]
     },
     "execution_count": 27,
     "metadata": {},
     "output_type": "execute_result"
    }
   ],
   "source": [
    "# 첫번째 배열의 원소가 두번째 배열의 원소를 포함하는지 알려주는 불리언 배열을 반환\n",
    "\n",
    "val1 = np.array([6,0,0,3,2,5,6])\n",
    "val2 = [2, 3, 6]\n",
    "np.in1d(val1, val2)"
   ]
  },
  {
   "cell_type": "markdown",
   "id": "2a7a1c09",
   "metadata": {},
   "source": [
    "# 배열 데이터의 입출력"
   ]
  },
  {
   "cell_type": "code",
   "execution_count": 28,
   "id": "8f262cd0",
   "metadata": {},
   "outputs": [],
   "source": [
    "ar = np.arange(10)\n",
    "np.save('some_ar',ar)"
   ]
  },
  {
   "cell_type": "code",
   "execution_count": 29,
   "id": "970bd2cb",
   "metadata": {},
   "outputs": [
    {
     "data": {
      "text/plain": [
       "array([0, 1, 2, 3, 4, 5, 6, 7, 8, 9])"
      ]
     },
     "execution_count": 29,
     "metadata": {},
     "output_type": "execute_result"
    }
   ],
   "source": [
    "np.load('some_ar.npy')"
   ]
  },
  {
   "cell_type": "code",
   "execution_count": 30,
   "id": "4c82163c",
   "metadata": {},
   "outputs": [],
   "source": [
    "# np.savez : 여러개의 배열을 압축된 형식으로 저장\n",
    "np.savez('ar_archive.npz', aim=ar, bob=ar) # aim, bob은 assign names (page name 같은거)"
   ]
  },
  {
   "cell_type": "code",
   "execution_count": 31,
   "id": "f4dcb15f",
   "metadata": {},
   "outputs": [
    {
     "data": {
      "text/plain": [
       "array([0, 1, 2, 3, 4, 5, 6, 7, 8, 9])"
      ]
     },
     "execution_count": 31,
     "metadata": {},
     "output_type": "execute_result"
    }
   ],
   "source": [
    "arch = np.load('ar_archive.npz')\n",
    "arch['bob']"
   ]
  },
  {
   "cell_type": "markdown",
   "id": "b530a030",
   "metadata": {},
   "source": [
    "# np.argsort(array)"
   ]
  },
  {
   "cell_type": "code",
   "execution_count": 32,
   "id": "26e8aaa0",
   "metadata": {},
   "outputs": [
    {
     "name": "stdout",
     "output_type": "stream",
     "text": [
      "[6 4 3 5 2 1 7 8 9] \n",
      "\n",
      "[5 4 2 1 3 0 6 7 8] \n",
      "\n",
      "[1 2 3 4 5 6 7 8 9] \n",
      "\n",
      "[(1, 5), (2, 4), (3, 2), (4, 1), (5, 3), (6, 0), (7, 6), (8, 7), (9, 8)]\n",
      "[(1, 5), (2, 4), (3, 2), (4, 1), (5, 3), (6, 0), (7, 6), (8, 7), (9, 8)]\n"
     ]
    }
   ],
   "source": [
    "a = np.arange(1,10)\n",
    "np.random.shuffle(a) # 참조\n",
    "\n",
    "arg_sort = np.argsort(a)\n",
    "print(a,'\\n')\n",
    "print(arg_sort,'\\n')\n",
    "print(a[arg_sort],'\\n')\n",
    "\n",
    "li_tup = []\n",
    "for i in arg_sort:\n",
    "    li_tup.append((a[i], i))\n",
    "print(li_tup)\n",
    "li_tup.sort()\n",
    "print(li_tup)"
   ]
  },
  {
   "cell_type": "code",
   "execution_count": 33,
   "id": "427d08a0",
   "metadata": {},
   "outputs": [
    {
     "data": {
      "text/plain": [
       "array([5, 4, 2, 1, 3, 0, 6, 7, 8], dtype=int64)"
      ]
     },
     "execution_count": 33,
     "metadata": {},
     "output_type": "execute_result"
    }
   ],
   "source": [
    "np.argsort(a)[::]"
   ]
  },
  {
   "cell_type": "code",
   "execution_count": 34,
   "id": "b5fd93b2",
   "metadata": {},
   "outputs": [
    {
     "data": {
      "text/plain": [
       "array([8, 7, 6, 0, 3, 1, 2, 4, 5], dtype=int64)"
      ]
     },
     "execution_count": 34,
     "metadata": {},
     "output_type": "execute_result"
    }
   ],
   "source": [
    "# 인덱스 배열을 역순으로 출력\n",
    "np.argsort(a)[::-1]"
   ]
  },
  {
   "cell_type": "markdown",
   "id": "218f6b50",
   "metadata": {},
   "source": [
    "# 도전과제 Wed 0706\n",
    "- np.arange(336).reshape(6,7,8)에서 100번째 요소의 인덱스를 구하세요.\n",
    "- np.arange(4)을 이용해서 아래와 같이 출력하세요."
   ]
  },
  {
   "cell_type": "raw",
   "id": "cca0585c",
   "metadata": {},
   "source": [
    "array([[0, 0, 0, 0, 0],\n",
    "       [1, 0, 0, 0, 0],\n",
    "       [0, 2, 0, 0, 0],\n",
    "       [0, 0, 3, 0, 0],\n",
    "       [0, 0, 0, 4, 0]])"
   ]
  },
  {
   "cell_type": "markdown",
   "id": "6c83a6f9",
   "metadata": {},
   "source": [
    "# 갑자기 역행렬 구하기"
   ]
  },
  {
   "cell_type": "code",
   "execution_count": 35,
   "id": "07de0e28",
   "metadata": {},
   "outputs": [
    {
     "name": "stdout",
     "output_type": "stream",
     "text": [
      "[[ 6  9  0  8  7]\n",
      " [ 6  2  2 10  9]\n",
      " [ 2  9  0  1  1]\n",
      " [ 6  5  8  6  4]\n",
      " [ 8  4  7  1  6]] \n",
      "\n",
      "[[ 1.18288288 -0.93063063 -1.1009009   0.13963964  0.10630631]\n",
      " [-0.18918919  0.13513514  0.28828829 -0.01801802 -0.01801802]\n",
      " [-0.4990991   0.32792793  0.4018018   0.05405405 -0.01261261]\n",
      " [ 0.24684685 -0.14774775 -0.23963964  0.14414414 -0.12252252]\n",
      " [-0.90990991  0.79279279  0.84684685 -0.26126126  0.07207207]] \n",
      "\n",
      "[[ 1.00000000e+00 -8.88178420e-16 -1.44328993e-15  0.00000000e+00\n",
      "   1.38777878e-17]\n",
      " [ 9.99200722e-16  1.00000000e+00 -1.22124533e-15  0.00000000e+00\n",
      "  -1.38777878e-17]\n",
      " [ 1.11022302e-16  0.00000000e+00  1.00000000e+00 -5.55111512e-17\n",
      "   1.38777878e-17]\n",
      " [ 8.88178420e-16  0.00000000e+00 -8.88178420e-16  1.00000000e+00\n",
      "   1.11022302e-16]\n",
      " [ 6.66133815e-16  0.00000000e+00 -1.11022302e-15  0.00000000e+00\n",
      "   1.00000000e+00]]\n"
     ]
    }
   ],
   "source": [
    "# Q. 0 ~ 10 정수 (5,5)  행렬의 역행렬을 구한 후 두 행렬간의 행렬곱을 구하세요.\n",
    "ar = np.random.randint(11,size=(5,5))\n",
    "print(ar,'\\n')\n",
    "\n",
    "# 역행렬 linear_algebra. inverse 인듯\n",
    "ar_r = np.linalg.inv(ar)\n",
    "print(ar_r,'\\n')\n",
    "\n",
    "#행렬곱\n",
    "ar_d = np.dot(ar,ar_r)\n",
    "print(ar_d)"
   ]
  },
  {
   "cell_type": "markdown",
   "id": "1d8e2f66",
   "metadata": {},
   "source": [
    "# 과제 #2 Wed 0706\n",
    ": 아래 가이드에 따라서 고객별 연간 구매데이터를 생성하고 아래사항을 수행하세요(관측치 1000개)\n",
    "\n",
    "## Q1. 고객 속성(id, 성별, 연령, 거주지역) 데이터와 거래 데이터를 통합한 데이터 프레임 df를 생성하세요.\n",
    "\n",
    "거래 번호\n",
    "- id : 1 ~ 1000번 일련번호 - 개시 후 1천 건의 거래가 있었고 걍 거기에 넘버링한 거라고 이해해보자\n",
    "\n",
    "고객별 속성 데이터\n",
    "- cusno : 고객번호 1000개 랜덤\n",
    "- gender : 0,1 정수 난수 생성\n",
    "- age : 0 ~ 80사이 정수 난수 생성\n",
    "- region : 1 ~ 10 사이 정수 난수 생성\n",
    "\n",
    "거래 데이터\n",
    "\n",
    "- product_20 : 고가제품(10), 중가제품(20), 저가제품(30)로 구분제품코드 10,20,30\n",
    "- product_21 : 고가제품(10), 중가제품(20), 저가제품(30)로 구분제품코드 10,20,30\n",
    "- price_20 : 1000 ~ 50000 사이 실수 난수 생성\n",
    "- price_21 : 1000 ~ 50000 사이 실수 난수 생성\n",
    "- quantity_20 : 1 ~ 100 사이 정수 난수 생성\n",
    "- quantity_21 : 1 ~ 100 사이 정수 난수 생성\n",
    "\n",
    "- amount_20 : price_20 * quantity_20\n",
    "- amount_21 : price_21 * quantity_21\n",
    "- sales : 20년 대비 21년구매금액이 증가면 1, 감소면 0"
   ]
  },
  {
   "cell_type": "code",
   "execution_count": 36,
   "id": "22190ea9",
   "metadata": {},
   "outputs": [],
   "source": [
    "from numpy.random import randint as rri\n",
    "\n",
    "id_ = np.array(range(1, 1001))\n",
    "\n",
    "cusno = rri(1000, size = 1000)\n",
    "\n",
    "gender = rri(2, size = 1000)\n",
    "age = rri(81, size = 1000)\n",
    "region = rri(1, 11, size = 1000)"
   ]
  },
  {
   "cell_type": "code",
   "execution_count": 37,
   "id": "d2cbfb0f",
   "metadata": {},
   "outputs": [],
   "source": [
    "product_20 = (rri(1, 4, size = 1000))*10\n",
    "product_21 = (rri(1, 4, size=1000))*10\n",
    "price_20 = np.random.uniform(1000.0, 50000.0, size=1000)\n",
    "price_21 = np.random.uniform(1000.0, 50000.0, size=1000)\n",
    "quantity_20 = rri(1, 101, size=1000)\n",
    "quantity_21 = rri(1, 101, size=1000)"
   ]
  },
  {
   "cell_type": "code",
   "execution_count": 38,
   "id": "3d3b315f",
   "metadata": {},
   "outputs": [],
   "source": [
    "amount_20 = price_20*quantity_20\n",
    "amount_21 = price_21*quantity_21\n",
    "\n",
    "sales =np.where((amount_20 < amount_21), 1, 0)"
   ]
  },
  {
   "cell_type": "code",
   "execution_count": 39,
   "id": "0dcee19d",
   "metadata": {},
   "outputs": [
    {
     "data": {
      "text/plain": [
       "(list, pandas.core.series.Series)"
      ]
     },
     "execution_count": 39,
     "metadata": {},
     "output_type": "execute_result"
    }
   ],
   "source": [
    "data = [id_, cusno, gender, age, region, \n",
    "        product_20, product_21,price_20, price_21, quantity_20, quantity_21,\n",
    "       amount_20, amount_21, sales]\n",
    "sr_list = []\n",
    "for i in data:\n",
    "    i = pd.Series(i)\n",
    "    sr_list.append(i)\n",
    "type(sr_list), type(sr_list[0])"
   ]
  },
  {
   "cell_type": "code",
   "execution_count": 40,
   "id": "dc2e18ef",
   "metadata": {
    "scrolled": true
   },
   "outputs": [
    {
     "data": {
      "text/html": [
       "<div>\n",
       "<style scoped>\n",
       "    .dataframe tbody tr th:only-of-type {\n",
       "        vertical-align: middle;\n",
       "    }\n",
       "\n",
       "    .dataframe tbody tr th {\n",
       "        vertical-align: top;\n",
       "    }\n",
       "\n",
       "    .dataframe thead th {\n",
       "        text-align: right;\n",
       "    }\n",
       "</style>\n",
       "<table border=\"1\" class=\"dataframe\">\n",
       "  <thead>\n",
       "    <tr style=\"text-align: right;\">\n",
       "      <th></th>\n",
       "      <th>id_</th>\n",
       "      <th>cusno</th>\n",
       "      <th>gender</th>\n",
       "      <th>age</th>\n",
       "      <th>region</th>\n",
       "      <th>product_20</th>\n",
       "      <th>product_21</th>\n",
       "      <th>price_20</th>\n",
       "      <th>price_21</th>\n",
       "      <th>quantity_20</th>\n",
       "      <th>quantity_21</th>\n",
       "      <th>amount_20</th>\n",
       "      <th>amount_21</th>\n",
       "      <th>sales</th>\n",
       "    </tr>\n",
       "  </thead>\n",
       "  <tbody>\n",
       "    <tr>\n",
       "      <th>0</th>\n",
       "      <td>1</td>\n",
       "      <td>988</td>\n",
       "      <td>0</td>\n",
       "      <td>12</td>\n",
       "      <td>2</td>\n",
       "      <td>30</td>\n",
       "      <td>10</td>\n",
       "      <td>48281.202474</td>\n",
       "      <td>18493.577070</td>\n",
       "      <td>70</td>\n",
       "      <td>72</td>\n",
       "      <td>3.379684e+06</td>\n",
       "      <td>1.331538e+06</td>\n",
       "      <td>0</td>\n",
       "    </tr>\n",
       "    <tr>\n",
       "      <th>1</th>\n",
       "      <td>2</td>\n",
       "      <td>912</td>\n",
       "      <td>0</td>\n",
       "      <td>77</td>\n",
       "      <td>7</td>\n",
       "      <td>20</td>\n",
       "      <td>30</td>\n",
       "      <td>9571.800885</td>\n",
       "      <td>15186.963678</td>\n",
       "      <td>12</td>\n",
       "      <td>80</td>\n",
       "      <td>1.148616e+05</td>\n",
       "      <td>1.214957e+06</td>\n",
       "      <td>1</td>\n",
       "    </tr>\n",
       "    <tr>\n",
       "      <th>2</th>\n",
       "      <td>3</td>\n",
       "      <td>827</td>\n",
       "      <td>0</td>\n",
       "      <td>15</td>\n",
       "      <td>6</td>\n",
       "      <td>10</td>\n",
       "      <td>20</td>\n",
       "      <td>32173.547996</td>\n",
       "      <td>14761.272650</td>\n",
       "      <td>32</td>\n",
       "      <td>6</td>\n",
       "      <td>1.029554e+06</td>\n",
       "      <td>8.856764e+04</td>\n",
       "      <td>0</td>\n",
       "    </tr>\n",
       "    <tr>\n",
       "      <th>3</th>\n",
       "      <td>4</td>\n",
       "      <td>72</td>\n",
       "      <td>1</td>\n",
       "      <td>56</td>\n",
       "      <td>8</td>\n",
       "      <td>20</td>\n",
       "      <td>30</td>\n",
       "      <td>4961.206514</td>\n",
       "      <td>15454.180387</td>\n",
       "      <td>86</td>\n",
       "      <td>50</td>\n",
       "      <td>4.266638e+05</td>\n",
       "      <td>7.727090e+05</td>\n",
       "      <td>1</td>\n",
       "    </tr>\n",
       "    <tr>\n",
       "      <th>4</th>\n",
       "      <td>5</td>\n",
       "      <td>759</td>\n",
       "      <td>1</td>\n",
       "      <td>47</td>\n",
       "      <td>10</td>\n",
       "      <td>10</td>\n",
       "      <td>30</td>\n",
       "      <td>27415.335116</td>\n",
       "      <td>25182.975292</td>\n",
       "      <td>76</td>\n",
       "      <td>27</td>\n",
       "      <td>2.083565e+06</td>\n",
       "      <td>6.799403e+05</td>\n",
       "      <td>0</td>\n",
       "    </tr>\n",
       "  </tbody>\n",
       "</table>\n",
       "</div>"
      ],
      "text/plain": [
       "   id_  cusno  gender  age  region  product_20  product_21      price_20  \\\n",
       "0    1    988       0   12       2          30          10  48281.202474   \n",
       "1    2    912       0   77       7          20          30   9571.800885   \n",
       "2    3    827       0   15       6          10          20  32173.547996   \n",
       "3    4     72       1   56       8          20          30   4961.206514   \n",
       "4    5    759       1   47      10          10          30  27415.335116   \n",
       "\n",
       "       price_21  quantity_20  quantity_21     amount_20     amount_21  sales  \n",
       "0  18493.577070           70           72  3.379684e+06  1.331538e+06      0  \n",
       "1  15186.963678           12           80  1.148616e+05  1.214957e+06      1  \n",
       "2  14761.272650           32            6  1.029554e+06  8.856764e+04      0  \n",
       "3  15454.180387           86           50  4.266638e+05  7.727090e+05      1  \n",
       "4  25182.975292           76           27  2.083565e+06  6.799403e+05      0  "
      ]
     },
     "execution_count": 40,
     "metadata": {},
     "output_type": "execute_result"
    }
   ],
   "source": [
    "df = pd.concat(sr_list, axis=1)\n",
    "list_col = ['id_', 'cusno', 'gender', 'age', 'region', \n",
    "        'product_20', 'product_21', 'price_20', 'price_21', 'quantity_20', 'quantity_21',\n",
    "       'amount_20', 'amount_21', 'sales']\n",
    "dict_col = {}\n",
    "for i in range(len(list_col)):\n",
    "    dict_col[i] = list_col[i]\n",
    "df.rename(columns = dict_col, inplace=True)\n",
    "df.head()"
   ]
  },
  {
   "cell_type": "code",
   "execution_count": 41,
   "id": "8ad38860",
   "metadata": {
    "scrolled": true
   },
   "outputs": [
    {
     "data": {
      "text/plain": [
       "639"
      ]
     },
     "execution_count": 41,
     "metadata": {},
     "output_type": "execute_result"
    }
   ],
   "source": [
    "len(set(cusno))"
   ]
  },
  {
   "cell_type": "markdown",
   "id": "0cdba7ec",
   "metadata": {},
   "source": [
    "## Q2. df를 수정하여 5가지 이상의 인사이트를 포함한 데이터 셋으로 변환하세요"
   ]
  },
  {
   "cell_type": "code",
   "execution_count": null,
   "id": "1413fc6b",
   "metadata": {},
   "outputs": [],
   "source": []
  },
  {
   "cell_type": "code",
   "execution_count": null,
   "id": "e47d0529",
   "metadata": {},
   "outputs": [],
   "source": []
  },
  {
   "cell_type": "code",
   "execution_count": null,
   "id": "48fe2c64",
   "metadata": {},
   "outputs": [],
   "source": []
  },
  {
   "cell_type": "code",
   "execution_count": null,
   "id": "256fe2c7",
   "metadata": {},
   "outputs": [],
   "source": []
  },
  {
   "cell_type": "code",
   "execution_count": null,
   "id": "880537c9",
   "metadata": {},
   "outputs": [],
   "source": []
  },
  {
   "cell_type": "code",
   "execution_count": null,
   "id": "67e95ae3",
   "metadata": {},
   "outputs": [],
   "source": []
  },
  {
   "cell_type": "markdown",
   "id": "0245420d",
   "metadata": {},
   "source": [
    "## Q3. df 를 탐색적 분석을 통하여 인사이트를 도출하세요."
   ]
  },
  {
   "cell_type": "code",
   "execution_count": null,
   "id": "bfdd0842",
   "metadata": {},
   "outputs": [],
   "source": []
  },
  {
   "cell_type": "code",
   "execution_count": null,
   "id": "eb0c1820",
   "metadata": {},
   "outputs": [],
   "source": []
  },
  {
   "cell_type": "code",
   "execution_count": null,
   "id": "187e84a6",
   "metadata": {},
   "outputs": [],
   "source": []
  },
  {
   "cell_type": "code",
   "execution_count": null,
   "id": "ae2d8862",
   "metadata": {},
   "outputs": [],
   "source": []
  },
  {
   "cell_type": "code",
   "execution_count": null,
   "id": "7ae16c01",
   "metadata": {},
   "outputs": [],
   "source": []
  },
  {
   "cell_type": "code",
   "execution_count": null,
   "id": "786d8939",
   "metadata": {},
   "outputs": [],
   "source": []
  },
  {
   "cell_type": "code",
   "execution_count": null,
   "id": "6e9b872d",
   "metadata": {},
   "outputs": [],
   "source": []
  },
  {
   "cell_type": "code",
   "execution_count": null,
   "id": "84d2056b",
   "metadata": {},
   "outputs": [],
   "source": []
  }
 ],
 "metadata": {
  "kernelspec": {
   "display_name": "Python 3 (ipykernel)",
   "language": "python",
   "name": "python3"
  },
  "language_info": {
   "codemirror_mode": {
    "name": "ipython",
    "version": 3
   },
   "file_extension": ".py",
   "mimetype": "text/x-python",
   "name": "python",
   "nbconvert_exporter": "python",
   "pygments_lexer": "ipython3",
   "version": "3.9.12"
  },
  "toc": {
   "base_numbering": 1,
   "nav_menu": {},
   "number_sections": true,
   "sideBar": true,
   "skip_h1_title": false,
   "title_cell": "Table of Contents",
   "title_sidebar": "Contents",
   "toc_cell": false,
   "toc_position": {
    "height": "calc(100% - 180px)",
    "left": "10px",
    "top": "150px",
    "width": "271.193px"
   },
   "toc_section_display": true,
   "toc_window_display": true
  }
 },
 "nbformat": 4,
 "nbformat_minor": 5
}
