{
 "cells": [
  {
   "cell_type": "markdown",
   "id": "6cf56fa3",
   "metadata": {},
   "source": [
    "https://data.seoul.go.kr/dataList/OA-15513/A/1/datasetView.do;jsessionid=6BCE4898279CA0DCC34EA9995AB04EC0.new_portal-svr-11"
   ]
  },
  {
   "cell_type": "raw",
   "id": "20342ddf",
   "metadata": {},
   "source": [
    "인증키\n",
    "81c1209a62654847807defaa3fbc4ab6"
   ]
  },
  {
   "cell_type": "code",
   "execution_count": null,
   "id": "7e91ade2",
   "metadata": {},
   "outputs": [],
   "source": []
  },
  {
   "cell_type": "code",
   "execution_count": 7,
   "id": "409c9589",
   "metadata": {},
   "outputs": [],
   "source": []
  },
  {
   "cell_type": "code",
   "execution_count": 8,
   "id": "30dda7f7",
   "metadata": {},
   "outputs": [],
   "source": [
    "from urllib.request import Request, urlopen\n",
    "from urllib.parse import urlencode, quote_plus\n",
    "import pandas as pd\n",
    "import json"
   ]
  },
  {
   "cell_type": "code",
   "execution_count": null,
   "id": "eec4238a",
   "metadata": {},
   "outputs": [],
   "source": [
    "stype = 'json'\n",
    "skey = '81c1209a62654847807defaa3fbc4ab6'\n",
    "url = 'https://open.assembly.go.kr/portal/openapi/nfzegpkvaclgtscxt'"
   ]
  },
  {
   "cell_type": "raw",
   "id": "1c1e576e",
   "metadata": {},
   "source": [
    "params = f'?KEY={skey}&Type={stype}&resId={res_id}&'+encode\n",
    "query = url + params\n",
    "\n",
    "request = Request(query)\n",
    "request.get_method = lambda : 'GET'\n",
    "response_body = urlopen(request).read()\n",
    "\n",
    "response_dict = json.loads(response_body.decode('utf-8'))\n",
    "items = response_dict['body']['items']\n",
    "\n",
    "df = pd.DataFrame(items)"
   ]
  },
  {
   "cell_type": "code",
   "execution_count": null,
   "id": "7892de31",
   "metadata": {},
   "outputs": [],
   "source": []
  },
  {
   "cell_type": "code",
   "execution_count": null,
   "id": "021eac97",
   "metadata": {},
   "outputs": [],
   "source": []
  }
 ],
 "metadata": {
  "kernelspec": {
   "display_name": "Python 3 (ipykernel)",
   "language": "python",
   "name": "python3"
  },
  "language_info": {
   "codemirror_mode": {
    "name": "ipython",
    "version": 3
   },
   "file_extension": ".py",
   "mimetype": "text/x-python",
   "name": "python",
   "nbconvert_exporter": "python",
   "pygments_lexer": "ipython3",
   "version": "3.8.13"
  },
  "toc": {
   "base_numbering": 1,
   "nav_menu": {},
   "number_sections": true,
   "sideBar": true,
   "skip_h1_title": false,
   "title_cell": "Table of Contents",
   "title_sidebar": "Contents",
   "toc_cell": false,
   "toc_position": {},
   "toc_section_display": true,
   "toc_window_display": false
  }
 },
 "nbformat": 4,
 "nbformat_minor": 5
}
