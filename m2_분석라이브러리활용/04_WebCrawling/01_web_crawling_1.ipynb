{
 "cells": [
  {
   "cell_type": "code",
   "execution_count": 192,
   "id": "a1f13011",
   "metadata": {},
   "outputs": [],
   "source": [
    "import warnings\n",
    "warnings.filterwarnings('ignore')"
   ]
  },
  {
   "cell_type": "code",
   "execution_count": 193,
   "id": "dc49b22f",
   "metadata": {},
   "outputs": [],
   "source": [
    "import re\n",
    "import requests\n",
    "import urllib"
   ]
  },
  {
   "cell_type": "markdown",
   "id": "cc30c247",
   "metadata": {},
   "source": [
    "# 웹 크롤링 vs. 스크래핑"
   ]
  },
  {
   "cell_type": "markdown",
   "id": "5db2f4e2",
   "metadata": {},
   "source": [
    "웹 크롤링과 웹 스크래핑이라는 용어를 서로 바꾸어 사용하는 경향이 있고 서로 밀접하게 관련되어 있지만, 두 프로세스 사이에는 차이가 있습니다.\n",
    "크롤링이 웹 페이지의 하이퍼링크를 순회하면서 웹 페이지를 다운로드하는 작업인 반면 스크레이핑은 다운로드한 웹 페이지에서 필요한 정보를 추출하는 작업\n",
    "\n",
    "- 웹 스크래핑web scraping\n",
    "    - 웹 크롤링과 달리 웹 스크래퍼는 특정 웹 사이트 또는 페이지에서 특정 정보를 검색합니다.\n",
    "    - 기본적으로 웹 크롤링은 기존의 복사본을 만들고, 웹 스크래핑은 분석을 위한 특정 데이터를 추출하거나 새로운 것을 만듭니다.\n",
    "    - 웹 스크래핑을 수행하기 위해서는 먼저 필요한 정보를 찾기 위해 웹 크롤링 같은 작업을 수행해야 합니다.\n",
    "    - 데이터 크롤링에는 웹 페이지의 모든 키워드, 이미지 및 URL을 저장하는 것과 같은 특정 수준의 스크래핑이 필요합니다.\n",
    "    - 웹 스크래핑은 주식 시장 데이터, 비즈니스 리드, 공급업체 제품 스크래핑과 같은 특정 데이터에 대한 특정 웹 사이트를 대상으로 한 것입니다.\n",
    "\n",
    "- 웹 크롤링web crawling\n",
    "    - “spider”라고 불리는 웹 크롤러는 웹 페이지의 내부 링크를 따라 인터넷을 체계적으로 검색하여 콘텐츠를 검색하는 독립 실행형 봇입니다.\n",
    "    - 일반적으로 “crawler”라는 용어는 명확한 최종 목표나 목표가 없어도 사이트나 네트워크가 제공할 수 있는 것을 끝없이 탐색하면서 스스로 웹 페이지를 탐색할 수 있는 프로그램의 능력을 의미합니다.\n",
    "    - 웹 크롤러는 Google, Bing 등과 같은 검색 엔진에서 URL의 콘텐츠를 추출하고, 이 페이지에서 다른 링크를 확인하고, 링크의 URL을 가져오는 데 주로 사용됩니다.\n",
    "    - 예를들어 웹 크롤링은 일반적으로 Google, Yahoo, Bing 등이 어떤 종류의 정보를 검색하는 방식입니다\n"
   ]
  },
  {
   "cell_type": "markdown",
   "id": "b7c4c2d4",
   "metadata": {},
   "source": [
    "<img src=\"./dataset/스크래핑vs크롤링.png\">"
   ]
  },
  {
   "cell_type": "markdown",
   "id": "f1102590",
   "metadata": {},
   "source": [
    "# 파이썬을 활용한 데이터 가공\n",
    "- 문자열 자료형(인덱싱) : 시퀀스 자료형으로 인덱스가 있고 인덱스 값으로 접근이 가능함\n",
    "- 파이썬에서 문자열을 쉽게 다룰 수 있도록 제공하는 내장함수 \n",
    "  * find: 해당문자가 없으면 -1 반환\n",
    "  * index: 해당 문자가 없으면 에러\n",
    "  * strip: 데이터 가공 초기 단계에 불필요한 공백을 지울 때 사용\n",
    "  * replace: 특정 문자를 원하는 내용으로 변경\n",
    "- 정규표현식\n",
    "  * 특정한 규칙을 가진 문자열을 표현하기 위해 사용하는 형식\n",
    "  * 주로 문자열의 검색 및 치환에 활용\n",
    "  * re 모듈을 제공\n",
    "  * 규칙을 정의하기 위해 메타 문자를 활용\n",
    "  * 정규표현식 연습 웹 사이트 : https://pythex.org\n"
   ]
  },
  {
   "cell_type": "markdown",
   "id": "dd816646",
   "metadata": {},
   "source": [
    "## str"
   ]
  },
  {
   "cell_type": "markdown",
   "id": "3a6954b6",
   "metadata": {},
   "source": [
    "- 예제 1"
   ]
  },
  {
   "cell_type": "code",
   "execution_count": 194,
   "id": "091fc8ed",
   "metadata": {},
   "outputs": [],
   "source": [
    "text = 'k-digital training 7기'\n",
    "text1 = 'abc'"
   ]
  },
  {
   "cell_type": "raw",
   "id": "82a9aee0",
   "metadata": {},
   "source": [
    "k\n",
    "기\n",
    "기\n",
    "Abc\n",
    "ABC\n",
    "K-digital training 7기\n",
    "K-Digital Training 7기"
   ]
  },
  {
   "cell_type": "code",
   "execution_count": 195,
   "id": "75d504f2",
   "metadata": {},
   "outputs": [
    {
     "name": "stdout",
     "output_type": "stream",
     "text": [
      "k\n",
      "기\n",
      "기\n",
      "Abc\n",
      "ABC\n",
      "K-digital training 7기\n",
      "K-Digital Training 7기\n"
     ]
    }
   ],
   "source": [
    "print(text[0])\n",
    "print(text[-1])\n",
    "print(text[len(text) - 1])\n",
    "print(text1.capitalize())\n",
    "print(text1.upper())\n",
    "print(text.capitalize())\n",
    "print(text.title())"
   ]
  },
  {
   "cell_type": "markdown",
   "id": "19597a6b",
   "metadata": {},
   "source": [
    "- 예제 2"
   ]
  },
  {
   "cell_type": "code",
   "execution_count": 196,
   "id": "59c353fe",
   "metadata": {},
   "outputs": [],
   "source": [
    "text2 = '    <k-digital training 7기>        '\n",
    "text3 = ' ; '"
   ]
  },
  {
   "cell_type": "raw",
   "id": "d155fcaf",
   "metadata": {},
   "source": [
    "<k-digital training 7기>;\n",
    "<k-digital training 7기>   ;\n",
    "   <k-digital training 7기>;"
   ]
  },
  {
   "cell_type": "code",
   "execution_count": 197,
   "id": "a7281505",
   "metadata": {},
   "outputs": [
    {
     "name": "stdout",
     "output_type": "stream",
     "text": [
      "<k-digital training 7기> ; \n",
      "<k-digital training 7기>         ; \n",
      "    <k-digital training 7기> ; \n"
     ]
    }
   ],
   "source": [
    "print(text2.strip() + text3)\n",
    "print(text2.lstrip() + text3)\n",
    "print(text2.rstrip() + text3)"
   ]
  },
  {
   "cell_type": "markdown",
   "id": "bb8ee29c",
   "metadata": {},
   "source": [
    "- 예제 3"
   ]
  },
  {
   "cell_type": "code",
   "execution_count": 198,
   "id": "f6b538be",
   "metadata": {},
   "outputs": [],
   "source": [
    "text = '<title>k-digital training 7기</title>'"
   ]
  },
  {
   "cell_type": "raw",
   "id": "d512184c",
   "metadata": {},
   "source": [
    "<title>k-digital training 7기</title>\n",
    "<div>k-digital training 7기</div>"
   ]
  },
  {
   "cell_type": "code",
   "execution_count": 199,
   "id": "fbbc73b5",
   "metadata": {},
   "outputs": [
    {
     "name": "stdout",
     "output_type": "stream",
     "text": [
      "<title>k-digital training 7기</title>\n",
      "<div>k-digital training 7기</div>\n"
     ]
    }
   ],
   "source": [
    "print(text)\n",
    "print(text.replace('title', 'div'))"
   ]
  },
  {
   "cell_type": "markdown",
   "id": "63c98487",
   "metadata": {},
   "source": [
    "## re"
   ]
  },
  {
   "cell_type": "markdown",
   "id": "183cbfa0",
   "metadata": {},
   "source": [
    "- 예제1"
   ]
  },
  {
   "cell_type": "code",
   "execution_count": 200,
   "id": "78b4f0fd",
   "metadata": {},
   "outputs": [],
   "source": [
    "text = '<meta name=\"twitter:description\" content=\"네이버 메인에서 다양한 정보와 유용한 컨텐츠를 만나 보세요\">'"
   ]
  },
  {
   "cell_type": "code",
   "execution_count": 201,
   "id": "be246304",
   "metadata": {
    "scrolled": true
   },
   "outputs": [
    {
     "name": "stdout",
     "output_type": "stream",
     "text": [
      "네이버 메인에서 다양한 정보와 유용한 컨텐츠를 만나 보세요\n"
     ]
    }
   ],
   "source": [
    "p = re.compile('([가-힣]+\\s*)+')\n",
    "srch = p.search(text)\n",
    "print(srch.group())"
   ]
  },
  {
   "cell_type": "markdown",
   "id": "d3dd2efd",
   "metadata": {},
   "source": [
    "- 예제 2"
   ]
  },
  {
   "cell_type": "code",
   "execution_count": 202,
   "id": "5bf868ac",
   "metadata": {},
   "outputs": [],
   "source": [
    "text = \"<head> 안녕하세요... <title>k-digital training 7기</title> 반갑습니다...</head>\""
   ]
  },
  {
   "cell_type": "code",
   "execution_count": 203,
   "id": "bae05ab8",
   "metadata": {},
   "outputs": [
    {
     "data": {
      "text/plain": [
       "'k-digital training 7기'"
      ]
     },
     "execution_count": 203,
     "metadata": {},
     "output_type": "execute_result"
    }
   ],
   "source": [
    "p = re.compile('<title>(?P<title>(.*))</title>')\n",
    "srch = p.search(text)\n",
    "srch.group('title')"
   ]
  },
  {
   "cell_type": "code",
   "execution_count": 204,
   "id": "a57fea5f",
   "metadata": {},
   "outputs": [
    {
     "data": {
      "text/plain": [
       "'k-digital training 7기'"
      ]
     },
     "execution_count": 204,
     "metadata": {},
     "output_type": "execute_result"
    }
   ],
   "source": [
    "p = re.compile('(?<=<title>)(.*)(?=</title>)')\n",
    "srch = p.search(text)\n",
    "srch.group()"
   ]
  },
  {
   "cell_type": "markdown",
   "id": "43237aff",
   "metadata": {},
   "source": [
    "# HTML의 구조  및 태그\n",
    "- 구조\n",
    " - \\<!Doctype html> : HTML5 문서를 선언하는 구문\n",
    " - \\<html></html> : HTML 문서의 시작과 끝\n",
    " - \\<head></head> : CSS, JavaScript, meta, title 정보들을 설정\n",
    " - \\<body></body> : 실제 홈페이지 화면을 나타내는 부분\n",
    "\n",
    "- 요소 구조\n",
    " - HTML 요소는 여러 속성들을 가질 수 있으며 속성들은 해당 요소에 대한 추가 정보를 제공\n",
    " - 시작 태그\\(< >)로 시작해서 종료 태그(</>)로 끝남\n",
    " - 요소 안에 다른 요소를 작성할 수 있음 \n",
    " \n",
    " <img src = './dataset/html요소구조.png' STYLE = 'width:500px;'>\n",
    " - 이미지 출처: https://xsop.tistory.com/26"
   ]
  },
  {
   "cell_type": "markdown",
   "id": "fc25033a",
   "metadata": {},
   "source": [
    "## HTML 태그\n",
    "- p 태그를 이용하여 문단 작성\n",
    "- h 태그를 이용하여 폰트 크기 설정\n",
    "- ul(unordered list)과 ol(ordered list) 태그로 리스트 작성, 리스트 각각의 요소는 li(항목 나열) 태그로 표시  \n",
    "- table 태그는 thead, tbody를 가질 수 있으며 표를 표현 : tr 행, th(가운데 정렬,굵은 글씨체),td 각 행의 컬럼\n",
    "- input 태그와 button 태그 : 데이터를 넣는 폼과 페이지 조작 버튼 생성\n",
    "- select # select 태그로 선택 리스트 생성\n",
    "- a 태그로 다른 페이지로 이동. 상대경로(내가 있는 경로부터의 경로), 절대경로(항상 같은 url)\n",
    "- img 태그로 이미지 포함 : src(이미지 붙임), alt(이미지 대체)\n",
    "- span 태그로 p태그 처럼 글을 추가. span 태그는 옆으로 나열. br 태그 사용하여 p 태그처럼 사용\n",
    "- div 태그는 화면 레이아웃을 잡는 역할 : 하위 태그들의 영역을 잡아줌\n"
   ]
  },
  {
   "cell_type": "markdown",
   "id": "18abd878",
   "metadata": {},
   "source": [
    "## CSS \n",
    "- CSS로 웹 사이트를 꾸며주기 위해 해당 태그에 접근하는 방식을 크롤러에서도 사용.\n",
    "- selector : CSS로 꾸미기 위해 특정 요소에 접근하는 것을 셀렉터라고 함.\n",
    "  - html 파일을 만들었다면 각각의 태그에 다르게 css 를 설정 할 것입니다. 이 때, 어느 요소에 스타일을 적용할지 알려주는 방식이 바로 css 선택자 입니다.\n",
    "- 태그를 이용하여 접근하면 태그는 전부 CSS 효과가 적용\n",
    "- class를 이용하면 원하는 요소만 CSS 효과 적용할 수 있고 원하는 요소만 수집할 수 있음.\n",
    "- id는 class와 다르게 id값이 고유해야 함(id는 한페이지에 하나만 존재해야 함)\n",
    "- 부모 태그와 자식 태그를 나열하여 복잡한 셀렉터를 생성\n",
    "\n",
    "\n",
    "<img src=\"./dataset/selector.png\" STYLE = 'width:500px;'>\n",
    "\n",
    "CSS 선택자 이해\n",
    "\n",
    "- https://ssungkang.tistory.com/entry/css-css-%EC%84%A0%ED%83%9D%EC%9E%90selector-%EC%9D%98-%EC%A2%85%EB%A5%98%EC%99%80-%EC%98%88%EC%8B%9C\n",
    "- https://developer.mozilla.org/en-US/docs/Web/CSS/CSS_Selectors\n",
    "- https://www.nextree.co.kr/p8468/\n",
    "\n"
   ]
  },
  {
   "cell_type": "markdown",
   "id": "49e37801",
   "metadata": {},
   "source": [
    "## JavaScript\n",
    "- 웹 사이트의 기능을 넣어줌. script 태그를 이용하여 작성. head or body 하단에 위치\n",
    "- js를 이용하여 HTML 코드를 생성. 크롤러로 분석하기 가장 어려운 부분임\n",
    "- DOM(Document Object Model)이란 HTML을 시각적으로 쉽게 표현하기 위해 만든 객체로 크롤러 만들 때 중요\n",
    "- 데이터를 수집하기 위해 DOM을 이용해 데이터에 접근한 후 해당 데이터 수집\n",
    "- 웹 브라우저는 HTML 코드를 가져온 후 JavaScript를 실행시킨 결과를 보여줌\n",
    "- 소스 보기 페이지에 수집하고자 하는 요소가 없다면 네트워크 탭을 이용, 서버에서 데이터를 받아오는 지 확인\n",
    "- 그렇지 않은 경우 셀레니움을 사용하여 해결\n",
    "\n",
    "http://www.tcpschool.com/javascript/js_intro_basic\n"
   ]
  },
  {
   "cell_type": "markdown",
   "id": "12944b2f",
   "metadata": {},
   "source": [
    "# requests 모듈 \n",
    "- : pip install requests 명령어로 설치, anaconda를 설치하면 기본 설치\n",
    "- http는 요청과 응답으로 이루어져 있음\n",
    "- 요청/응답 구조\n",
    " - 요청\n",
    "      * GET : 정보를 가져오기 위해 요청\n",
    "      * POST: 새로운 정보를 보내기 위해 요청\n",
    "      * PUT: 수정할 정보를 보내기 위해 요청\n",
    "      * DELETE: 정보를 삭제하기 위해 요청\n",
    " - 응답\n",
    "      * 1XX: 요청을 받았고 작업 진행 중\n",
    "      * 2XX: 사용자의 요청이 성공적으로 수행 됨\n",
    "      * 3XX: 요청은 완료되었으나 리다이렉션이 필요\n",
    "      * 4XX: 사용자의 요청이 잘못됨\n",
    "      * 5XX: 서버에 오류가 발생함\n",
    "- import requests로 모듈 호출 후 사용\n"
   ]
  },
  {
   "cell_type": "markdown",
   "id": "44c540c5",
   "metadata": {},
   "source": [
    "- naver main에서 html 긁어오기"
   ]
  },
  {
   "cell_type": "markdown",
   "id": "ddf3eb8f",
   "metadata": {},
   "source": [
    "## .get(URL) (.status_code |.text)"
   ]
  },
  {
   "cell_type": "code",
   "execution_count": 205,
   "id": "64098779",
   "metadata": {},
   "outputs": [
    {
     "name": "stdout",
     "output_type": "stream",
     "text": [
      "200 <class 'int'> <class 'requests.models.Response'>\n"
     ]
    }
   ],
   "source": [
    "url = 'http://naver.com'\n",
    "response = requests.get(url)\n",
    "print(response.status_code, type(response.status_code), type(response))"
   ]
  },
  {
   "cell_type": "code",
   "execution_count": 206,
   "id": "89b82b70",
   "metadata": {
    "scrolled": true
   },
   "outputs": [
    {
     "name": "stdout",
     "output_type": "stream",
     "text": [
      "<class 'str'> \n",
      "<!doctype html>                          <html lang=\"ko\" data-dark=\"false\"> <head> <meta charset=\"utf-8\"> <title>NAVER</title> <meta http-equiv=\"X-UA-Compatible\" content=\"IE=edge\"> <meta name=\"viewpo\n"
     ]
    }
   ],
   "source": [
    "html_data = response.text\n",
    "print(type(html_data), html_data[:200])"
   ]
  },
  {
   "cell_type": "markdown",
   "id": "3a4feea2",
   "metadata": {},
   "source": [
    "- '바로가기' 찾기 (find, indexing)"
   ]
  },
  {
   "cell_type": "code",
   "execution_count": 207,
   "id": "404f29c6",
   "metadata": {},
   "outputs": [
    {
     "name": "stdout",
     "output_type": "stream",
     "text": [
      "바로가기의 인덱스 :  5883\n"
     ]
    }
   ],
   "source": [
    "idx = html_data.find('바로가기')\n",
    "print('바로가기의 인덱스 : ', idx)"
   ]
  },
  {
   "cell_type": "code",
   "execution_count": 208,
   "id": "c26e009a",
   "metadata": {},
   "outputs": [
    {
     "name": "stdout",
     "output_type": "stream",
     "text": [
      "바로가기\n"
     ]
    }
   ],
   "source": [
    "print(html_data[idx : idx + 4])"
   ]
  },
  {
   "cell_type": "markdown",
   "id": "cd8304d4",
   "metadata": {},
   "source": [
    "- '네이버 메인에서 다양한 정보와 유용한 컨텐츠를 만나 보세요' 찾기 (find, indexing)"
   ]
  },
  {
   "cell_type": "code",
   "execution_count": 209,
   "id": "ed4bdc18",
   "metadata": {
    "scrolled": true
   },
   "outputs": [
    {
     "name": "stdout",
     "output_type": "stream",
     "text": [
      "인덱스 :  365 ~ 397\n",
      "네이버 메인에서 다양한 정보와 유용한 컨텐츠를 만나 보세요\n"
     ]
    }
   ],
   "source": [
    "head = '네이버 메인에서'\n",
    "tail = '만나 보세요'\n",
    "\n",
    "idx_head = html_data.find(head)\n",
    "idx_tail = html_data.find(tail) + len(tail)\n",
    "\n",
    "print('인덱스 : ', idx_head, '~' ,idx_tail)\n",
    "print(html_data[idx_head:idx_tail])"
   ]
  },
  {
   "cell_type": "markdown",
   "id": "2649f2ce",
   "metadata": {},
   "source": [
    "- str.split 과 re.search 활용"
   ]
  },
  {
   "cell_type": "code",
   "execution_count": 210,
   "id": "b2143889",
   "metadata": {},
   "outputs": [
    {
     "name": "stdout",
     "output_type": "stream",
     "text": [
      "\"og:title\" content=\"네이버\"> \n"
     ]
    }
   ],
   "source": [
    "content = html_data.split('<meta property=')[1]\n",
    "print(content)"
   ]
  },
  {
   "cell_type": "code",
   "execution_count": 211,
   "id": "1e37edcc",
   "metadata": {},
   "outputs": [
    {
     "name": "stdout",
     "output_type": "stream",
     "text": [
      "네이버\n"
     ]
    }
   ],
   "source": [
    "content = re.search('네이버', content)\n",
    "print(content.group())"
   ]
  },
  {
   "cell_type": "markdown",
   "id": "9d2b882c",
   "metadata": {},
   "source": [
    "## get(URL, params=_dict_)"
   ]
  },
  {
   "cell_type": "code",
   "execution_count": 212,
   "id": "abec55e1",
   "metadata": {},
   "outputs": [
    {
     "data": {
      "text/plain": [
       "'<!doctype html> <html lang=\"ko\"> <head> <meta charset=\"utf-8\"> <meta name=\"referrer\" content=\"always\">  <meta name=\"format-detection\" content=\"telephone=no,address=no,email=no\"> <meta name=\"viewport\" content=\"width=device-width,initial-scale=1.0,maximum-scale=2.0\"> <meta property=\"og:title\" content=\"빅데이터 : 네이버 통합검색\"/> <meta property=\"og:image\" content=\"https://ssl.pstatic.net/sstatic/search/common/og_v3.png\"> <meta property=\"og:description\" content=\"\\'빅데이터\\'의 네이버 통합검색 결과입니다.\"> <meta name=\"description\" lang=\"ko\" content=\"\\'빅데이터\\'의 네이버 통합검색 결과입니다.\"> <title>빅데이터 : 네이버 통합검색</title> <link rel=\"shortcut icon\" href=\"https://ssl.pstatic.net/sstatic/search/favicon/favicon_191118_pc.ico\">  <link rel=\"search\" type=\"application/opensearchdescription+xml\" href=\"https://ssl.pstatic.net/sstatic/search/opensearch-description.https.xml\" title=\"Naver\" /><link rel=\"stylesheet\" type=\"text/css\" href=\"https://ssl.pstatic.net/sstatic/search/pc/css/search1_220714.css\"> <link rel=\"stylesheet\" type=\"text/css\" href='"
      ]
     },
     "execution_count": 212,
     "metadata": {},
     "output_type": "execute_result"
    }
   ],
   "source": [
    "URL = 'https://search.naver.com/search.naver'\n",
    "params = {'query' : '빅데이터'}\n",
    "\n",
    "response = requests.get(URL, params=params)\n",
    "response.text[:1000]"
   ]
  },
  {
   "cell_type": "code",
   "execution_count": 213,
   "id": "658aec29",
   "metadata": {},
   "outputs": [
    {
     "data": {
      "text/plain": [
       "'\\r\\n\\r\\n\\r\\n\\r\\n\\r\\n\\r\\n\\r\\n\\r\\n\\r\\n\\r\\n\\r\\n<!DOCTYPE html>\\r\\n<html lang=\"ko\">\\r\\n<head>\\r\\n\\t\\r\\n\\t\\t\\r\\n\\t\\t\\r\\n\\t\\t\\r\\n\\t\\t\\r\\n\\t\\t<meta http-equiv=\"X-UA-Compatible\" content=\"IE=edge,chrome=1\">\\r\\n\\t\\r\\n\\t<meta http-equiv=\"Content-type\" content=\"text/html; charset=UTF-8\">\\r\\n\\t<title>네이버 웹툰</title>\\r\\n\\t\\r\\n\\r\\n\\r\\n\\r\\n\\r\\n\\r\\n\\r\\n\\r\\n\\r\\n\\r\\n\\r\\n\\r\\n\\r\\n\\r\\n\\r\\n\\r\\n\\r\\n\\r\\n\\r\\n\\r\\n    \\r\\n    \\r\\n    \\r\\n    \\r\\n    \\r\\n    \\r\\n    \\r\\n    \\r\\n    \\r\\n    \\r\\n    \\r\\n    \\r\\n        <meta property=\"og:title\" content=\"네이버 웹툰\" >\\r\\n        <meta property=\"og:image\" content=\"https://ssl.pstatic.net/static/comic/images/og_tag_v2.png\" >\\r\\n        <meta property=\"og:description\" content=\"매일매일 새로운 재미, 네이버 웹툰.\">\\r\\n    \\r\\n\\r\\n\\r\\n<meta property=\"og:url\" content=\"https://comic.naver.com/main\" >\\r\\n<meta property=\"og:type\" content=\"article\" >\\r\\n<meta property=\"og:article:author\" content=\"네이버 웹툰\" >\\r\\n<meta property=\"og:article:author:url\" content=\"https://comic.naver.com\" >\\r\\n\\r\\n\\t<link rel=\"shortcut icon\" href=\"https://ssl.pstatic.net/static/comic/favicon/webtoon_favicon_32x32.ico\" type=\"image/x-icon\">\\r\\n\\t\\r\\n\\t<script type=\"text/jav'"
      ]
     },
     "execution_count": 213,
     "metadata": {},
     "output_type": "execute_result"
    }
   ],
   "source": [
    "URL = 'https://comic.naver.com/webtoon/detail'\n",
    "params = {'titleId' : 786703, 'no' : 9, 'weekday' : 'tue'}\n",
    "\n",
    "response = requests.get(URL, params=params)\n",
    "response.text[:1000]"
   ]
  },
  {
   "cell_type": "markdown",
   "id": "12cf5223",
   "metadata": {},
   "source": [
    "## 과제 0721_1"
   ]
  },
  {
   "cell_type": "markdown",
   "id": "f1052d70",
   "metadata": {},
   "source": [
    "- 'https://www.naver.com'에서 공지사항을 출력하세요.(find, 인덱싱)"
   ]
  },
  {
   "cell_type": "code",
   "execution_count": 214,
   "id": "a049611a",
   "metadata": {},
   "outputs": [
    {
     "name": "stdout",
     "output_type": "stream",
     "text": [
      "공지사항\n"
     ]
    }
   ],
   "source": [
    "URL = 'https://www.naver.com'\n",
    "str_find = '공지사항'\n",
    "\n",
    "response = requests.get(URL)\n",
    "text = response.text\n",
    "idx = text.find(str_find)\n",
    "\n",
    "print(text[idx:idx+len(str_find)])"
   ]
  },
  {
   "cell_type": "markdown",
   "id": "65b60370",
   "metadata": {},
   "source": [
    "## 과제 0721_2"
   ]
  },
  {
   "cell_type": "markdown",
   "id": "b48105cb",
   "metadata": {},
   "source": [
    "- 'https://www.naver.com'에서 공지사항을 출력하세요.(정규표현식)"
   ]
  },
  {
   "cell_type": "code",
   "execution_count": 215,
   "id": "1759c38e",
   "metadata": {},
   "outputs": [
    {
     "data": {
      "text/plain": [
       "'공지사항'"
      ]
     },
     "execution_count": 215,
     "metadata": {},
     "output_type": "execute_result"
    }
   ],
   "source": [
    "s = re.search('공지사항',  text)\n",
    "s.group()"
   ]
  },
  {
   "cell_type": "markdown",
   "id": "9f478f71",
   "metadata": {},
   "source": [
    "## 과제 0721_3"
   ]
  },
  {
   "cell_type": "markdown",
   "id": "9dfa3aa5",
   "metadata": {},
   "source": [
    "- URL = 'http://naver.com' 에서 split()함수와 정규표현식을 이용하여 ['메일', '카페', '블로그', '지식iN', '쇼핑']을 출력하세요\n",
    "- https://www.naver.com/"
   ]
  },
  {
   "cell_type": "code",
   "execution_count": 216,
   "id": "7e320e79",
   "metadata": {},
   "outputs": [
    {
     "data": {
      "text/plain": [
       "'\\n<!doctype html>                          <html lang=\"ko\" data-dark=\"false\"> <head> <meta charset=\"utf-8\"> <title>NAVER</title> <meta http-equiv=\"X-UA-Compatible\" content=\"IE=edge\"> <meta name=\"viewport\" content=\"width=1190\"> <meta name=\"apple-mobile-web-app-title\" content=\"NAVER\"/> <meta name=\"robots\" content=\"index,nofollow\"/> <meta name=\"description\" content=\"네이버 메인에서 다양한 정보와 유용한 컨텐츠를 만나 보세요\"/> <meta property=\"og:title\" content=\"네이버\"> <meta property=\"og:url\" content=\"https://www.naver.com/\"> '"
      ]
     },
     "execution_count": 216,
     "metadata": {},
     "output_type": "execute_result"
    }
   ],
   "source": [
    "URL = 'https://naver.com'\n",
    "response = requests.get(URL)\n",
    "text = response.text\n",
    "text[:500]"
   ]
  },
  {
   "cell_type": "code",
   "execution_count": 217,
   "id": "9bb5b369",
   "metadata": {},
   "outputs": [
    {
     "name": "stdout",
     "output_type": "stream",
     "text": [
      "메일의 인덱스 :  25957 \n",
      "\n",
      "text 일부 : \n",
      " mail\"></i>메일</a>\n",
      "</li>\n",
      "<li class=\"nav_item\"><a href=\"https://section.cafe.naver.com/\" class=\"nav\" data-clk=\"svc.cafe\">카페</a></li>\n",
      "<li class=\"nav_item\"><a href=\"https://section.blog.naver.com/\" class=\"nav\" data-clk=\"svc.blog\">블로그</a></li>\n",
      "<li class=\"nav_item\"><a href=\"https://kin.naver.com/\" class=\"nav\" data-clk=\"svc.kin\">지식iN</a></li>\n",
      "<li class=\"nav_item\"><a href=\"https://shopping.naver.com/\" class=\"nav shop\" data-clk=\"svc.shopping\"><span class=\"blind\">쇼핑</span></a></li>\n",
      "<li class=\"nav_item\"><a href=\"http \n",
      "\n"
     ]
    }
   ],
   "source": [
    "idx = text.find('메일')\n",
    "print('메일의 인덱스 : ', idx, '\\n')\n",
    "text1 = text[idx-10: idx+500] # 임의로 지정\n",
    "print('text 일부 : \\n', text1, '\\n')"
   ]
  },
  {
   "cell_type": "code",
   "execution_count": 218,
   "id": "0f1d2ee0",
   "metadata": {},
   "outputs": [
    {
     "name": "stdout",
     "output_type": "stream",
     "text": [
      "['메일', '카페', '블로그', '지식iN', '쇼핑']\n"
     ]
    }
   ],
   "source": [
    "print(re.findall('>([a-zA-Z가-힣]+)<', text1))"
   ]
  },
  {
   "cell_type": "markdown",
   "id": "c790d2c1",
   "metadata": {},
   "source": [
    "```\n",
    "split() 쓰는 걸 까먹음ㄷㄷ , <li class=\"nav_item\"> 기준으로 자르기\n",
    "페이지 들어가서 소스보기로 보면 좀 편함\n",
    "```"
   ]
  },
  {
   "cell_type": "markdown",
   "id": "8edc030d",
   "metadata": {},
   "source": [
    "## get(URL).json() \n",
    "- jason 읽어오기"
   ]
  },
  {
   "cell_type": "code",
   "execution_count": 219,
   "id": "76063566",
   "metadata": {},
   "outputs": [
    {
     "name": "stdout",
     "output_type": "stream",
     "text": [
      "type :  <class 'dict'> \n",
      " result : \n",
      " {'swagger': '2.0', 'info': {'description': 'Naver Open API - Restful spec. You can find out more about Naver Open API at [https://developers.naver.com](https://developers.naver.com)', 'version': '1.2.0', 'title': 'Naver Open API', 'termsOfService': 'https://developers.naver.com/products/terms'}, 'host': 'openapi.naver.com', 'basePath': '/', 'tags': [{'name': 'Clova', 'description': 'Naver A.I platform and APIs', 'externalDocs': {'description': 'Find out more', 'url': 'https://developers.naver.com/products/clova/cic'}}, {'name': 'Papago', 'description': 'Naver Machine Learning Translation APIs'}, {'name': 'Naver Login', 'description': 'Login with Naver Id'}, {'name': 'Naver Services', 'description': 'Naver data trend, search, shorten url, captcha APIs'}, {'name': 'Maps', 'description': 'Naver Mpas JS, geocode, static map APIs'}], 'schemes': ['https'], 'paths': {'/v1/vision/face': {'post': {'tags': ['Clova'], 'summary': 'Clova Face Recognition (얼굴감지)', 'description': '얼굴 이미지를 입력하면 얼굴 감지 결과를 리턴합니다.', 'operationId': 'vision.face', 'consumes': ['multipart/form-data'], 'produces': ['application/json'], 'parameters': [{'name': 'image', 'in': 'formData', 'description': '이미지', 'required': True, 'type': 'file'}], 'responses': {'200': {'description': 'OK'}}, 'security': [{'clientId': []}, {'clientSecret': []}]}}, '/v1/vision/celebrity': {'post': {'tags': ['Clova'], 'summary': 'Clova Face Recognition (유명인 얼굴인식)', 'description': '얼굴 이미지를 입력하면 유명인과의 닮은 정도를 리턴합니다.', 'operationId': 'vision.celebrity', 'consumes': ['multipart/form-data'], 'produces': ['application/json'], 'parameters': [{'name': 'image', 'in': 'formData', 'description': '이미지', 'required': True, 'type': 'file'}], 'responses': {'200': {'description': 'OK'}}, 'security': [{'clientId': []}, {'clientSecret': []}]}}, '/v1/voice/tts.bin': {'post': {'tags': ['Clova'], 'summary': 'Clova Speech Synthesis (음성합성)', 'description': '입력된 텍스트를 성우의 낭독 음성으로 합성해 주는 REST API입니다.', 'operationId': 'voice.tts', 'consumes': ['application/x-www-form-urlencoded'], 'produces': ['audio/mpeg'], 'parameters': [{'name': 'speaker', 'in': 'formData', 'description': '음성 합성할 목소리 설정: ( mijin:미진(한국어, 여성), jinho:진호(한국어, 남성), clara:클라라(영어,여성), matt:매튜(영어, 남성), yuri:유리(일본어, 여성), shinji:신지(일본어, 남성),  meimei:메이메이(중국어, 여성))', 'required': True, 'default': 'mijin', 'type': 'string'}, {'name': 'speed', 'in': 'formData', 'description': '-5 ~ 5 사이 정수로 -5면 0.5배 빠른, 5면 0.5배 느린, 0이면 정상 속도의 목소리로 합성', 'required': True, 'default': '0', 'type': 'string'}, {'name': 'text', 'in': 'formData', 'description': '음성합성할 문장이며 UTF-8만 지원', 'required': True, 'default': '음성합성 테스트 입니다.', 'type': 'string'}], 'responses': {'405': {'description': 'Invalid input'}}, 'security': [{'clientId': []}, {'clientSecret': []}]}}, '/v1/datalab/search': {'post': {'tags': ['Naver Services'], 'summary': 'Search-통합 검색어 트렌드', 'description': '입력된 주제어와 해당하는 검색어 그룹에 대하여 네이버 통합검색에 대한 기간별 트렌드 데이터를 리턴합니다.', 'operationId': 'search.datalab', 'consumes': ['application/json'], 'produces': ['application/json'], 'parameters': [{'in': 'body', 'name': '', 'description': '검색 정보 요청 JSON', 'required': True, 'schema': {'$ref': '#/definitions/DatalabSearchReq'}}], 'responses': {'405': {'description': 'Invalid input'}}, 'security': [{'clientId': []}, {'clientSecret': []}]}}, '/v1/search/{serviceid}': {'get': {'tags': ['Naver Services'], 'summary': 'Search-기본 검색', 'description': '네이버 블로그/뉴스/책/백과사전/카페글/지식iN/웹문서/이미지/쇼핑/전문자료/성인검색어 판별 /오타변환 대상 검색입니다. ', 'operationId': 'search.service', 'consumes': ['plain/text'], 'produces': ['application/xml', 'application/json'], 'parameters': [{'name': 'serviceid', 'in': 'path', 'description': '검색대상<br/> 블로그-> blog, 뉴스-> news, 책-> book, 백과사전->encyc, 카페글->cafearticle, 지식인->kin, 웹문서->webkr, 이미지->image, 쇼핑->shop, 전문자료->doc, 성인검색어 판별->adult, 오타변환->errata', 'required': True, 'default': 'blog', 'type': 'string'}, {'name': 'query', 'in': 'query', 'description': '검색어(UTF-8인코딩 필요)', 'required': True, 'default': '진주', 'type': 'string'}, {'name': 'display', 'in': 'query', 'description': '검색결과 출력건수 (10 ~ 100) <br/> *적용 대상: blog/ news/ book/ encyc/ cafearticle/ kin/ webkr/ image/ shop/ doc <br/>* 비적용 대상: adult/ errata', 'required': False, 'default': 10, 'type': 'integer'}, {'name': 'start', 'in': 'query', 'description': '검색 시작 위치 (1~ 1000)<br/> * 주의:**1000 이상은 불가**<br/> * 적용 대상: blog/ news/ book/ encyc/ cafearticle/ kin/ webkr/ image/ shop/ doc<br/>* 비적용 대상: adult/ errata', 'required': False, 'default': 1, 'type': 'integer'}, {'name': 'sort', 'in': 'query', 'description': '정렬 옵션: sim (유사도순), date (날짜순)<br/> * 적용 대상: blog/ news/ book/ cafearticle/ kin /image/ shop <br/> * 비적용 대상: encyc/ webkr/ doc/adult/ errata <br/> - shop 추가 옵션: asc(가격오름차순) ,dsc(가격내림차순)<br/> - book 추가 옵션: count(판매량순)', 'required': False, 'default': 'sim', 'type': 'string'}, {'name': 'filter', 'in': 'query', 'description': '이미지 사이즈 필터 옵션 (***이미지 검색만 해당!!!***)<br/>사이즈 필터 옵션: all(전체), large(큰 사이즈), medium(중간 사이즈), small(작은 사이즈)', 'required': False, 'default': 'all', 'type': 'string'}], 'responses': {'405': {'description': 'Invalid input'}}, 'security': [{'clientId': []}, {'clientSecret': []}]}}, '/v1/search/book_adv': {'get': {'tags': ['Naver Services'], 'summary': 'Search-책 상세 검색', 'description': '책을 다양한 옵션으로 상세하게 검색할 수 있는 API입니다. <br/>책 제목(d_titl), 저자명(d_auth), 목차(d_cont), ISBN(d_isbn), 출판사(d_publ) 5개 항목 중에서 1개 이상 값을 입력해야 합니다.', 'operationId': 'search.book_adv', 'consumes': ['plain/text'], 'produces': ['application/xml', 'application/json'], 'parameters': [{'name': 'd_titl', 'in': 'query', 'description': '책 제목', 'required': False, 'default': 'api', 'type': 'string'}, {'name': 'd_auth', 'in': 'query', 'description': '저자명', 'required': False, 'default': 'okgosu', 'type': 'string'}, {'name': 'd_cont', 'in': 'query', 'description': '목차 검색', 'required': False, 'default': '서문', 'type': 'string'}, {'name': 'd_isbn', 'in': 'query', 'description': 'ISBN 검색', 'required': False, 'default': '9788960771291', 'type': 'string'}, {'name': 'd_publ', 'in': 'query', 'description': '출판사 검색', 'required': False, 'default': '에이콘', 'type': 'string'}, {'name': 'd_dafr', 'in': 'query', 'description': '출간 시작일(예: 20000203)', 'required': False, 'default': '20000203', 'type': 'string'}, {'name': 'd_dato', 'in': 'query', 'description': '출간 종료일(예:20000203)', 'required': False, 'default': '20000203', 'type': 'string'}, {'name': 'd_catg', 'in': 'query', 'description': '책 검색 카테고리 : [상세목록링크](https://developers.naver.com/inc/devcenter/downloads/categoryList.txt)', 'required': False, 'default': '100', 'type': 'string'}], 'responses': {'405': {'description': 'Invalid input'}}, 'security': [{'clientId': []}, {'clientSecret': []}]}}, '/v1/search/local': {'get': {'tags': ['Naver Services'], 'summary': 'Search-지역 검색', 'description': '네이버 지역 서비스에 등록된 각 지역별 업체 및 상호 검색 결과를 출력해주는 검색API 입니다. <br/>(**주의 : 특정 위치 기반 검색은 지원 안합니다.**)', 'operationId': 'search.local', 'consumes': ['plain/text'], 'produces': ['application/xml', 'application/json'], 'parameters': [{'name': 'query', 'in': 'query', 'description': '검색어(UTF-8인코딩 필요)', 'required': True, 'default': '진주', 'type': 'string'}, {'name': 'display', 'in': 'query', 'description': '검색결과 출력건수 (10 ~ 100)', 'required': False, 'default': 10, 'type': 'integer'}, {'name': 'start', 'in': 'query', 'description': '검색 시작 위치 (1~ 1000, [**1000 이상은 불가**])', 'required': False, 'default': 1, 'type': 'integer'}, {'name': 'sort', 'in': 'query', 'description': '정렬 옵션: random(유사도순), comment(카페/블로그 리뷰 개수 순)', 'required': False, 'default': 'random', 'type': 'string'}], 'responses': {'405': {'description': 'Invalid input'}}, 'security': [{'clientId': []}, {'clientSecret': []}]}}, '/v1/search/movie': {'get': {'tags': ['Naver Services'], 'summary': 'Search-영화 검색', 'description': '네이버 지역 서비스에 등록된 각 지역별 업체 및 상호 검색 결과를 출력해주는 검색API 입니다. <br/>(**주의 : 특정 위치 기반 검색은 지원 안합니다.**)', 'operationId': 'search.movie', 'consumes': ['plain/text'], 'produces': ['application/xml', 'application/json'], 'parameters': [{'name': 'query', 'in': 'query', 'description': '검색어(UTF-8인코딩 필요)', 'required': True, 'default': 'starwars', 'type': 'string'}, {'name': 'display', 'in': 'query', 'description': '검색결과 출력건수 (10 ~ 100)', 'required': False, 'default': 10, 'type': 'integer'}, {'name': 'start', 'in': 'query', 'description': '검색 시작 위치 (1~ 1000, [**1000 이상은 불가**])', 'required': False, 'default': 1, 'type': 'integer'}, {'name': 'genre', 'in': 'query', 'description': '영화장르 검색 옵션<br/>1: 드라마 2: 판타지 3: 서부 4: 공포 5: 로맨스 6: 모험 7: 스릴러 8: 느와르 9: 컬트 10: 다큐멘터리 11: 코미디 12: 가족 13: 미스터리 14: 전쟁 15: 애니메이션 16: 범죄 17: 뮤지컬 18: SF 21: 에로 22: 서스펜스 23: 서사 24: 블랙코미디 25: 실험 26: 영화카툰 27: 영화음악 28: 영화패러디포스터', 'required': False, 'default': '', 'type': 'string'}, {'name': 'country', 'in': 'query', 'description': '검색 대상 국가 코드 (대문자만 가능)<br/>한국 (KR), 일본 (JP), 미국 (US), 홍콩 (HK), 영국 (GB), 프랑스 (FR), 기타 (ETC)', 'required': False, 'default': '', 'type': 'string'}, {'name': 'yearfrom', 'in': 'query', 'description': '영화제작년도 (최대) <br/>yearfrom과 yearto는 함께 사용', 'required': False, 'default': 2017, 'type': 'integer'}, {'name': 'yearto', 'in': 'query', 'description': '영화제작년도 (최소) <br/>yearfrom과 yearto는 함께 사용', 'required': False, 'default': 2017, 'type': 'integer'}], 'responses': {'405': {'description': 'Invalid input'}}, 'security': [{'clientId': []}, {'clientSecret': []}]}}, '/v1/util/shorturl': {'get': {'tags': ['Naver Services'], 'summary': 'Util-단축 URL', 'description': '입력된 URL을 me2.do 형태로 짧은 URL로 변환해주는 REST API입니다.', 'operationId': 'util.shorturl', 'consumes': ['plain/text'], 'produces': ['application/xml', 'application/json'], 'parameters': [{'name': 'url', 'in': 'query', 'description': '단축하고자 하는 원본 URL', 'required': True, 'default': 'https://developers.naver.com', 'type': 'string'}], 'responses': {'405': {'description': 'Invalid input'}}, 'security': [{'clientId': []}, {'clientSecret': []}]}}, '/v1/captcha/nkey': {'get': {'tags': ['Naver Services'], 'summary': 'Captcha-이미지 캡차 키발급/비교', 'description': '캡차 키 발급/입력값 비교하는 REST API입니다.', 'operationId': 'captcha.nkey', 'consumes': ['plain/text'], 'produces': ['application/xml', 'application/json'], 'parameters': [{'name': 'code', 'in': 'query', 'description': '0: 키발급,  1:키와 입력값 비교', 'required': True, 'default': 0, 'type': 'integer'}], 'responses': {'405': {'description': 'Invalid input'}}, 'security': [{'clientId': []}, {'clientSecret': []}]}}, '/v1/captcha/ncaptcha.bin': {'get': {'tags': ['Naver Services'], 'summary': 'Captcha-이미지 캡차 요청', 'description': '캡차 키 발급 후 캡차 이미지를 요청하는 REST API입니다.', 'operationId': 'captcha.ncaptcha', 'consumes': ['plain/text'], 'produces': ['image/jpeg'], 'parameters': [{'name': 'code', 'in': 'query', 'description': '캡차 키 발급 API 호출로 받은 키 값', 'required': True, 'type': 'string'}], 'responses': {'405': {'description': 'Invalid input'}}, 'security': [{'clientId': []}, {'clientSecret': []}]}}, '/v1/captcha/skey': {'get': {'tags': ['Naver Services'], 'summary': 'Captcha-음성 캡차 키발급/비교', 'description': '캡차 키 발급/입력값 비교하는 REST API입니다.', 'operationId': 'captcha.skey', 'consumes': ['plain/text'], 'produces': ['application/xml', 'application/json'], 'parameters': [{'name': 'code', 'in': 'query', 'description': '0: 키발급,  1:키와 입력값 비교', 'required': True, 'default': 0, 'type': 'integer'}], 'responses': {'405': {'description': 'Invalid input'}}, 'security': [{'clientId': []}, {'clientSecret': []}]}}, '/v1/captcha/scaptcha': {'get': {'tags': ['Naver Services'], 'summary': 'Captcha-음성 캡차 요청', 'description': '캡차 키 발급 후 캡차 음성을 요청하는 REST API입니다.', 'operationId': 'captcha.scaptcha', 'consumes': ['plain/text'], 'produces': ['voice/wav'], 'parameters': [{'name': 'code', 'in': 'query', 'description': '캡차 키 발급 API 호출로 받은 키 값', 'required': True, 'type': 'string'}], 'responses': {'405': {'description': 'Invalid input'}}, 'security': [{'clientId': []}, {'clientSecret': []}]}}, '/v1/papago/n2mt': {'post': {'tags': ['Papago'], 'summary': 'Papago NMT 번역 API', 'description': '텍스트값을 입력받으면 번역 결과를 리턴합니다.', 'operationId': 'papago.nmt', 'consumes': ['application/x-www-form-urlencoded'], 'produces': ['application/xml', 'application/json'], 'parameters': [{'name': 'source', 'in': 'formData', 'description': '번역 소스 텍스트의 언어 설정: ko : 한국어 en : 영어 zh-CN : 중국어 간체 kr<->en, ko <-> zh-CN 만 가능', 'required': True, 'default': 'ko', 'type': 'string'}, {'name': 'target', 'in': 'formData', 'description': '번역 대상 언어, 가능한 값은 source 파라미터와 동일', 'required': True, 'default': 'ko', 'type': 'string'}, {'name': 'text', 'in': 'formData', 'description': '번역할 문장이며 UTF-8만 지원', 'required': True, 'default': '나는 한국인입니다.', 'type': 'string'}], 'responses': {'405': {'description': 'Invalid input'}}, 'security': [{'clientId': []}, {'clientSecret': []}]}}, '/v1/language/translate': {'post': {'tags': ['Papago'], 'summary': 'Papago SMT 번역 API', 'description': '텍스트값을 입력받으면 번역 결과를 리턴합니다.', 'operationId': 'papago.smt', 'consumes': ['application/x-www-form-urlencoded'], 'produces': ['application/xml', 'application/json'], 'parameters': [{'name': 'source', 'in': 'formData', 'description': '번역 소스 텍스트의 언어 설정: (ko:한국어, en:영어, ja:일본어, zh-CN:중국어(간체), zh-TW:중국어(번체)', 'required': True, 'default': 'ko', 'type': 'string'}, {'name': 'target', 'in': 'formData', 'description': '번역 대상 언어, 가능한 값은 source 파라미터와 동일', 'required': True, 'default': 'ko', 'type': 'string'}, {'name': 'text', 'in': 'formData', 'description': '번역할 문장이며 UTF-8만 지원', 'required': True, 'default': '나는 한국인입니다.', 'type': 'string'}], 'responses': {'405': {'description': 'Invalid input'}}, 'security': [{'clientId': []}, {'clientSecret': []}]}}, '/v1/krdict/romanization': {'get': {'tags': ['Papago'], 'summary': '한글인명-로마자 변환', 'description': \"'한글로 된 이름을 로마자 표기로 변환해주는 API입니다. 현행 로마자 표기법을 따라 변환한 이름과 통계적으로 많이 사용되고 있는 로마자 이름도 함께 제안 받을 수 있습니다.'\", 'operationId': 'papago.romanization', 'consumes': ['plain/text'], 'produces': ['application/json'], 'parameters': [{'name': 'query', 'in': 'query', 'description': '로마자로 바꾸려는 한글 이름 (UTF-8)', 'required': True, 'type': 'string'}], 'responses': {'405': {'description': 'Invalid input'}}, 'security': [{'clientId': []}, {'clientSecret': []}]}}, '/v1/map/geocode': {'get': {'tags': ['Maps'], 'summary': 'Maps 주소->좌표 변환', 'description': '지번 또는 도로명 주소와 같이 실제 존재하는 주소에 대한 좌표를 검색합니다. (건물명 또는 아파트명 검색 불가) 지번주소가 같더라도, 도로명 주소가 다른 경우가 존재할 수 있습니다.', 'operationId': 'maps.geocode', 'consumes': ['plain/text'], 'produces': ['application/xml', 'application/json'], 'parameters': [{'name': 'query', 'in': 'query', 'description': '검색할 주소값 (UTF-8인코딩 필요)', 'required': True, 'default': '불정로 6', 'type': 'string'}, {'name': 'encoding', 'in': 'query', 'description': '출력 결과 인코딩 값 (utf-8, euc-kr)', 'required': False, 'default': 'utf-8', 'type': 'string'}, {'name': 'coordType', 'in': 'query', 'description': '출력 좌표 체계 값(latlng(위경도), tm128(카텍) )', 'required': False, 'default': 1, 'type': 'string'}, {'name': 'callback', 'in': 'query', 'description': 'output이 json일 경우, jsonp 방식으로 호출하기 위한 callback 함수명. callback 파라미터를 지정할 경우에만 jsonp 호출이 가능', 'required': False, 'default': '', 'type': 'string'}], 'responses': {'405': {'description': 'Invalid input'}}, 'security': [{'clientId': []}, {'clientSecret': []}]}}, '/v1/map/reversegeocode': {'get': {'tags': ['Maps'], 'summary': 'Maps 좌표->주소 변환', 'description': '좌표에 대한 지번 또는 도로명 주소를 검색합니다.', 'operationId': 'maps.reversegeocode', 'consumes': ['plain/text'], 'produces': ['application/xml', 'application/json'], 'parameters': [{'name': 'query', 'in': 'query', 'description': '검색할 좌표 값 (x,y 형식)', 'required': True, 'default': '127.1141382,37.3599968', 'type': 'string'}, {'name': 'encoding', 'in': 'query', 'description': '출력 결과 인코딩 값 (utf-8, euc-kr)', 'required': False, 'default': 'utf-8', 'type': 'string'}, {'name': 'coordType', 'in': 'query', 'description': '출력 좌표 체계 값(latlng(위경도), tm128(카텍) )', 'required': False, 'default': 1, 'type': 'string'}, {'name': 'callback', 'in': 'query', 'description': 'output이 json일 경우, jsonp 방식으로 호출하기 위한 callback 함수명. callback 파라미터를 지정할 경우에만 jsonp 호출이 가능', 'required': False, 'default': '', 'type': 'string'}], 'responses': {'405': {'description': 'Invalid input'}}, 'security': [{'clientId': []}, {'clientSecret': []}]}}, '/v1/map/staticmap.bin': {'get': {'tags': ['Maps'], 'summary': 'Maps-StaticMap (약도 출력)', 'description': '지정된 좌표의 네이버 지도 이미지를 출력', 'operationId': 'maps.staticmap', 'consumes': ['plain/text'], 'produces': ['image/jpeg', 'image/png'], 'parameters': [{'name': 'clientId', 'in': 'query', 'description': '애플리케이션 등록 시 발급받은 클라이언트 아이디 값', 'required': True, 'type': 'string'}, {'name': 'url', 'in': 'query', 'description': '등록한 애플리케이션의 서비스 URL 값', 'required': True, 'type': 'string'}, {'name': 'scale', 'in': 'query', 'description': '화면 배율<br/>1: 기본 타일 사이즈(256), 2:고해상도 타일 사이즈(512)', 'default': 1, 'required': False, 'type': 'integer'}, {'name': 'crs', 'in': 'query', 'description': '좌표체계<br/> 1. EPSG:4326 : WGS84 경위도 2. NHN:2048 : UTMK 3. NHN:128 : 카텍 TM128 4. EPSG:4258 : GRS80 경위도 5. EPSG:4162 : Bessel 경위도 6. EPSG:2096 : Korea East Belt 7. EPSG:2097 : Korea Central Belt 8. EPSG:2098 : Korea West Belt 9. EPSG:3857 or EPSG:9009 13 : Google Maps', 'default': 'EPSG:4326', 'required': False, 'type': 'string'}, {'name': 'exception', 'in': 'query', 'description': '예외 발생시 처리방법<br/> 1. json: json 포맷으로 에러 정보를 반환한다. 2. blank : 빈 이미지를 반환한다. format이 png일 때는 투명 이미지, jpg(jpeg)일 때는 흰 색의 불투명 이미지를 반환한다. 3. xml : utf-8인코딩형식으로 에러 정보를 담은 xml파일을 반환한다. 4. inimage : 에러 정보가 포함된 이미지를 반환한다.', 'default': 'json', 'required': False, 'type': 'string'}, {'name': 'center', 'in': 'query', 'description': '이미지의 중심 좌표(X좌표, Y좌표) <br/>이 중심 좌표를 기준으로 요청한 w, h 픽셀 크기로 이미지를 생성한다. crs 파라미터의 좌표체계 정의를 따른다. 참고로 경위도 좌표 체계인 경우 입력 형식은 <경도,위도>이다. ex) center=127.1141382,37.3599968', 'required': False, 'type': 'string'}, {'name': 'level', 'in': 'query', 'description': '네이버지도 서비스에 정의되어 있는 줌 레벨이다. (1~14)', 'default': 1, 'required': False, 'type': 'integer'}, {'name': 'x', 'in': 'query', 'description': '가로 이미지 크기(픽셀 단위)이다. (1 ~ 640)', 'required': False, 'type': 'integer'}, {'name': 'y', 'in': 'query', 'description': '세로 이미지 크기(픽셀 단위)이다. (1 ~ 640)', 'default': 1, 'required': False, 'type': 'integer'}, {'name': 'baselayer', 'in': 'query', 'description': 'base 지도 레이어<br/>  1. default : 일반 지도 2. satellite : 위성 지도 3. bl_vc_bg: 주기가 없는 배경 지도 ex) baselayer=default', 'required': False, 'type': 'string'}, {'name': 'overlayer', 'in': 'query', 'description': 'overlay 지도 레이어<br/> 생략하거나 여러 개의 레이어를 조합 가능하며, 콤마 구분자로 순서대로 중첩해서 지도 이미지를 표시한다. 1. anno_satellite: 위성 겹침 지도 2. traffic: 실시간 교통 3. bicycle: 자전거 4. roadview: 거리뷰 ex)overlayers=anno_satellite,bicycle', 'required': False, 'type': 'string'}, {'name': 'format', 'in': 'query', 'description': '이미지 형식: png / jpeg(jpg) 포맷을 지원한다.', 'default': 'png', 'required': False, 'type': 'string'}, {'name': 'markers', 'in': 'query', 'description': '지도 상에 핀을 표시<br/> marker 요청 변수 개수만큼 핀을 표시하며 값이 없으면 표현하지 않는다. crs 파라미터에서 설정한 좌표 체계를 따른다.  콤마를 구분자로 순서대로 2개 단위로 좌표 값을 끊어서 하나의 마커로 표시한다. ex) 2개 요청 markers=127.1141382,37.3599968,127.1141382,37.3599968', 'required': False, 'type': 'string'}, {'name': 'markers_ab', 'in': 'query', 'description': '지도 상에 알파벳(A~J) 핀을 표시<br/> 콤마를 구분자로 A~J 순서대로 2개 단위로 좌표 값을 끊어서 하나의 마커로 표시하며 좌표 값은 crs 파라미터의 좌표체계 정의를 따른다.ex) A, B 알파벳 마커 요청 markers=127.1141382,37.3599968,127.1141382,37.3599968', 'required': False, 'type': 'string'}], 'responses': {'405': {'description': 'Invalid input'}}, 'security': [{'clientId': []}, {'clientSecret': []}]}}, '/v1/nid/me': {'get': {'tags': ['Naver Login'], 'summary': 'Naver Login-회원 프로필 조회', 'description': \"'네이버 로그인을 통해 인증받은 받고 정보 제공에 동의한 회원에 대해 회원 메일 주소, 별명, 프로필 사진, 생일, 연령대 값을 조회할 수 있는 로그인 오픈 API입니다'\", 'operationId': 'nid.me', 'consumes': ['plain/text'], 'produces': ['application/json'], 'responses': {'405': {'description': 'Invalid input'}}, 'security': [{'accessToken': []}]}}, '/blog/writePost': {'post': {'tags': ['Naver Login'], 'summary': 'Naver Login-블로그 글쓰기', 'description': '네이버 로그인을 통해 인증받은 사용자의 블로그에 글쓰가능한 오픈 API입니다', 'operationId': 'blog.writePost', 'consumes': ['application/x-www-form-urlencoded', 'multipart/form-data'], 'produces': ['application/json'], 'parameters': [{'name': 'title', 'in': 'formData', 'description': '포스트 제목', 'required': True, 'type': 'string'}, {'name': 'contents', 'in': 'formData', 'description': '본문 내용', 'required': True, 'type': 'string'}, {'name': 'image', 'in': 'formData', 'description': '이미지 첨부파일 <br/> - image 파라미터를 사용할 때는 데이터를 multipart 형식으로 전송해야 한다. - 이미지 파일을 2개 이상 첨부할 때는 파라미터를 중복해서 사용한다.', 'required': False, 'type': 'file'}, {'name': 'categoryNo', 'in': 'formData', 'description': '글이 작성될 카테고리 번호', 'default': '첫 번째 카테고리', 'required': False, 'type': 'integer'}, {'name': 'options.openType', 'in': 'formData', 'default': 'all', 'description': '공개 설정 <br/> - all: 공개 - closed: 비공개 - neighbor: 이웃공개- agreedNeighbor: 서로이웃공개 ', 'required': False, 'type': 'string'}, {'name': 'options.allowComment', 'in': 'formData', 'default': True, 'description': '덧글 허용', 'required': False, 'type': 'string'}, {'name': 'options.allowSympathy', 'in': 'formData', 'default': True, 'description': '공감 허용', 'required': False, 'type': 'string'}, {'name': 'options.scrapType', 'in': 'formData', 'default': 'link', 'description': '다른 블로그/카페로 스크랩 허용.<br/> - content : 본문 스크랩 허용- link : 링크 스크랩 허용 - closed : 스크랩 불허', 'required': False, 'type': 'string'}, {'name': 'options.allowSend', 'in': 'formData', 'default': True, 'description': '외부 보내기 허용', 'required': False, 'type': 'string'}, {'name': 'options.allowSearch', 'in': 'formData', 'default': True, 'description': '검색 허용', 'required': False, 'type': 'string'}], 'responses': {'405': {'description': 'Invalid input'}}, 'security': [{'accessToken': []}]}}, '/blog/listCategory': {'get': {'tags': ['Naver Login'], 'summary': 'Naver Login-블로그 카테고리 조회', 'description': '네이버 로그인을 통해 인증받은 사용자의 블로그의 카테고리를 조회하는 오픈 API입니다', 'operationId': 'blog.listCategory', 'consumes': ['plain/text'], 'produces': ['application/json'], 'responses': {'405': {'description': 'Invalid input'}}, 'security': [{'accessToken': []}]}}, '/v1/cafe/{clubid}/members': {'post': {'tags': ['Naver Login'], 'summary': 'Naver Login-카페 가입', 'description': '네이버 로그인을 통해 인증받은 사용자 계정으로 clubid로 지정된 카페에 가입하는 API입니다', 'operationId': 'cafe.members', 'consumes': ['application/x-www-form-urlencoded'], 'produces': ['application/json'], 'parameters': [{'name': 'clubid', 'in': 'path', 'description': '카페 아이디 <br/> 카페 관리 페이지와 같이 카페 내 이동 시 clubid로 표현되는 파라미터는 카페의 고유 아이디입니다. (http://cafe.naver.com/ManageHome.nhn?clubid=14447337 의 14447337값이 clubid입니다.)', 'required': True, 'type': 'string'}, {'name': 'nickname', 'in': 'formData', 'description': '카페에 가입할 때 지정할 별명 - -8 인코딩하여 요청', 'required': True, 'type': 'string'}], 'responses': {'405': {'description': 'Invalid input'}}, 'security': [{'accessToken': []}]}}, '/v1/cafe/{clubid}/menu/{menuid}/articles': {'post': {'tags': ['Naver Login'], 'summary': 'Naver Login-카페 글쓰기', 'description': '네이버 로그인을 통해 인증받은 사용자 계정으로 clubid로 지정된 카페의 menuid로 지정된 게시판에 글을 쓰는 API입니다', 'operationId': 'cafe.articles', 'consumes': ['application/x-www-form-urlencoded', 'multipart/form-data'], 'produces': ['application/json'], 'parameters': [{'name': 'clubid', 'in': 'path', 'description': '카페 아이디 <br/> 카페 관리 페이지와 같이 카페 내 이동 시 clubid로 표현되는 파라미터는 카페의 고유 아이디입니다. (http://cafe.naver.com/ManageHome.nhn?clubid=14447337 의 14447337값이 clubid입니다.)', 'required': True, 'type': 'string'}, {'name': 'menuid', 'in': 'path', 'description': '게시판 아이디', 'required': True, 'type': 'string'}, {'name': 'subject', 'in': 'formData', 'description': '게시글 제목 - UTF-8 인코딩하여 요청', 'required': True, 'type': 'string'}, {'name': 'image', 'in': 'formData', 'description': '이미지 첨부파일 <br/> - image 파라미터를 사용할 때는 데이터를 multipart 형식으로 전송해야 한다. - 이미지 파일을 2개 이상 첨부할 때는 파라미터를 중복해서 사용한다.', 'required': False, 'type': 'file'}, {'name': 'openyn', 'in': 'formData', 'default': False, 'description': '게시글 공개 설정: <br/>- true: 전체 공개 - false: 멤버 공개', 'required': False, 'type': 'string'}, {'name': 'searchopen', 'in': 'formData', 'default': True, 'description': '게시글 검색 설정 <br/>- true: 네이버에서 검색 허용 - false: 네이버에서 검색 허용 안 함 <br/>- openyn 파라미터를 true로 설정하면 searchopen 파라미터는 true로 설정된다.', 'required': False, 'type': 'string'}, {'name': 'replyyn', 'in': 'formData', 'default': True, 'description': '게시글 덧글 설정 <br/>- true: 덧글 허용 - false: 덧글 허용 안 함', 'required': False, 'type': 'string'}, {'name': 'metoo', 'in': 'formData', 'default': True, 'description': '블로그, 카페 보내기 설정 <br/>- true: 보내기 허용 - false: 보내기 허용 안 함', 'required': False, 'type': 'string'}, {'name': 'autosourcing', 'in': 'formData', 'default': True, 'description': '게시글 자동 출처 설정 <br/>- true: 자동 출처 사용 - false: 자동 출처 사용 안 함', 'required': False, 'type': 'string'}, {'name': 'rclick', 'in': 'formData', 'default': True, 'description': '마우스 오른쪽 버튼 사용 설정 <br/>- true: 마우스 오른쪽 버튼 사용 허용 - false: 마우스 오른쪽 버튼 사용 허용 안 함', 'required': False, 'type': 'string'}, {'name': 'ccl', 'in': 'formData', 'default': True, 'description': 'CCL 사용 설정 <br/>- true: CCL 사용 - false: CCL 사용 안 함', 'required': False, 'type': 'string'}], 'responses': {'405': {'description': 'Invalid input'}}, 'security': [{'accessToken': []}]}}, '/calendar/createSchedule.json': {'post': {'tags': ['Naver Login'], 'summary': 'Naver Login-캘린더 추가', 'description': '네이버 로그인을 통해 인증받은 사용자의 캘린더에 일정을 추가하는 오픈 API입니다', 'operationId': 'calendar.createSchedule', 'consumes': ['application/x-www-form-urlencoded'], 'produces': ['application/json'], 'parameters': [{'name': 'calendarId', 'in': 'formData', 'description': '유니크한 캘린더 아이디값<br/> 캘린더ID.defaultCalendarId를 입력하면 기본 캘린더에 일정이 생성된다.', 'required': True, 'type': 'string'}, {'name': 'scheduleIcalString', 'in': 'formData', 'description': 'iCalendar 데이터 <br/>[예시]  <br/>BEGIN:VCALENDAR <br/>VERSION:2.0 <br/>PRODID:Naver Calendar <br/>CALSCALE:GREGORIAN <br/>BEGIN:VTIMEZONE <br/>TZID:Asia/Seoul <br/>BEGIN:STANDARD <br/>DTSTART:19700101T000000 <br/>TZNAME:GMT+09:00 <br/>TZOFFSETFROM:+0900 <br/>TZOFFSETTO:+0900 <br/>END:STANDARD <br/>END:VTIMEZONE <br/>BEGIN:VEVENT <br/>SEQUENCE:0 <br/>CLASS:PUBLIC <br/>TRANSP:OPAQUE <br/>UID:6E12DA93-8B43-4576-9A8A-31B4BDC8 <br/>DTSTART;TZID=Asia/Seoul:20140905T110000 <br/>DTEND;TZID=Asia/Seoul:20140905T120000 <br/>SUMMARY:매주반복 샘플 <br/>DESCRIPTION:상세 설명영역 <br/>LOCATION:여기에서 <br/>RRULE:FREQ=WEEKLY;BYDAY=FR;INTERVAL=1;UNTIL=20141030 <br/>ORGANIZER;CN=별명:mailto:userid@sample.com <br/>ATTENDEE;ROLE=REQ-PARTICIPANT;PARTSTAT=NEEDS-ACTION;CN=참석자:mailto:userId2@sample.com <br/>CREATED:20140905T015408Z <br/>LAST-MODIFIED:20140905T015408Z <br/>DTSTAMP:20140905T015409Z <br/>END:VEVENT <br/>END:VCALENDAR', 'required': True, 'type': 'string'}], 'responses': {'405': {'description': 'Invalid input'}}, 'security': [{'accessToken': []}]}}}, 'securityDefinitions': {'accessToken': {'type': 'apiKey', 'name': 'token', 'in': 'header', 'description': '네이버 로그인을 거치는 API호출시 필요합니다.'}, 'clientId': {'type': 'apiKey', 'name': 'X-Naver-Client-Id', 'in': 'header', 'description': '애플리케이션 등록시 발급되는 ClientID값입니다.'}, 'clientSecret': {'type': 'apiKey', 'name': 'X-Naver-Client-Secret', 'in': 'header', 'description': '애플리케이션 등록시 발급되는 ClientSecret값입니다.'}}, 'definitions': {'DatalabSearchReq': {'type': 'object', 'description': '네이버 통합 검색어 트렌드 API 요청을 위한 JSON ', 'properties': {'startDate': {'type': 'string', 'description': '(필수) 구간 시작 날짜 (2016.01.01 부터 제공)', 'example': '2017-01-01'}, 'endDate': {'type': 'string', 'description': '(필수)구간 종료 날짜', 'example': '2017-04-30'}, 'timeUnit': {'type': 'string', 'description': '(필수)구간 단위 (date, week, month)', 'example': 'month'}, 'keywordGroups': {'type': 'object', 'description': '(필수)주제어,검색어 그룹 (최대 5개 그룹 지원)', 'properties': {'groupName': {'type': 'string', 'description': '(필수)주제어(검색어 그룹핑)', 'example': '한글'}, 'keywords': {'type': 'array', 'items': {'description': '(필수)해당 그룹에 속하는 검색어 리스트 (그룹당 최대 20개 검색어 지원)'}, 'example': '[\"한글\", \"korean\"]'}}}, 'device': {'type': 'string', 'description': '(선택) PC/모바일 필터 : pc/mo', 'example': 'mo'}, 'gender': {'type': 'string', 'description': '(선택) 성별 필터 : m/f', 'example': 'F'}, 'ages': {'type': 'string', 'description': '(선택) 나이 필터 : 1~11, 구간 정보는 아래 참조', 'example': '1'}}}, 'tts': {'type': 'string', 'properties': {'speaker': {'type': 'string', 'example': 'mijin'}, 'speed': {'type': 'integer', 'example': 0}, 'text': {'type': 'string', 'example': 'Naver TTS api 테스트입니다.'}}}, 'search': {'type': 'string', 'properties': {'query': {'type': 'string', 'example': '네이버 개발자센터'}}}, 'ApiResponse': {'type': 'object', 'properties': {'code': {'type': 'integer', 'format': 'int32'}, 'type': {'type': 'string'}, 'message': {'type': 'string'}}}}, 'externalDocs': {'description': 'Find out more about Naver APIs', 'url': 'https://developers.naver.com'}}\n"
     ]
    }
   ],
   "source": [
    "response = requests.get('https://raw.githubusercontent.com/naver/naver-openapi-guide/draft/naver-openapi-swagger.json')\n",
    "result = response.json()\n",
    "print('type : ', type(result), '\\n result : \\n', result)"
   ]
  },
  {
   "cell_type": "code",
   "execution_count": 220,
   "id": "7d72e286",
   "metadata": {},
   "outputs": [],
   "source": [
    "# dict을 데이타 프레임으로 바꿔서 사용"
   ]
  },
  {
   "cell_type": "markdown",
   "id": "2d9731a3",
   "metadata": {},
   "source": [
    "# urllib 모듈"
   ]
  },
  {
   "cell_type": "markdown",
   "id": "c7195da8",
   "metadata": {},
   "source": [
    "urllib 모듈이란: 파이썬의 표준 모듈로써 URL을 다루기 위한 모듈 패키지\n",
    "- 설치가 필요하지 않고 import urllib로 활용\n",
    "- requests 모듈과 마찬가지로 URL과 관련된 여러가지 기능들을 제공\n",
    "\n",
    "하위모듈\n",
    "- request : URL을 열고 읽는 모듈(HTTP 요청)\n",
    "- error : request 모듈에서 발생하는 에러들을 포함하는 모듈\n",
    "- parse : URL을 파싱하는 모듈(URL 해석 및 조작)\n",
    "- robots.txt 파일을 파싱하는 모듈\n"
   ]
  },
  {
   "cell_type": "markdown",
   "id": "dfc4f7f4",
   "metadata": {},
   "source": [
    "## .Request(URL) (.full_url | .type | .host)"
   ]
  },
  {
   "cell_type": "code",
   "execution_count": 221,
   "id": "1f2ff2a8",
   "metadata": {},
   "outputs": [
    {
     "name": "stdout",
     "output_type": "stream",
     "text": [
      "<urllib.request.Request object at 0x0000012241118520>\n",
      "https://www.naver.com\n",
      "https\n",
      "www.naver.com\n"
     ]
    }
   ],
   "source": [
    "URL = 'https://www.naver.com'\n",
    "request = urllib.request.Request(URL)\n",
    "\n",
    "print(request)\n",
    "print(request.full_url)\n",
    "print(request.type)\n",
    "print(request.host)"
   ]
  },
  {
   "cell_type": "markdown",
   "id": "703d94f8",
   "metadata": {},
   "source": [
    "## urlopen(request | URL) \n",
    "- 해당 url을 열기\n",
    "- request 객체 또는 URL을 직접 넣어도 가능"
   ]
  },
  {
   "cell_type": "markdown",
   "id": "d9c6a4e0",
   "metadata": {},
   "source": [
    "- request 객체 사용"
   ]
  },
  {
   "cell_type": "code",
   "execution_count": 222,
   "id": "255f3b38",
   "metadata": {},
   "outputs": [
    {
     "name": "stdout",
     "output_type": "stream",
     "text": [
      "[('Server', 'NWS'), ('Date', 'Fri, 22 Jul 2022 01:03:22 GMT'), ('Content-Type', 'text/html; charset=UTF-8'), ('Transfer-Encoding', 'chunked'), ('Connection', 'close'), ('Set-Cookie', 'PM_CK_loc=16f435ae20111e81adcf36de4f939388faeaacd7ccf2bb6847a93eff29c72b72; Expires=Sat, 23 Jul 2022 01:03:22 GMT; Path=/; HttpOnly'), ('Cache-Control', 'no-cache, no-store, must-revalidate'), ('Pragma', 'no-cache'), ('P3P', 'CP=\"CAO DSP CURa ADMa TAIa PSAa OUR LAW STP PHY ONL UNI PUR FIN COM NAV INT DEM STA PRE\"'), ('X-Frame-Options', 'DENY'), ('X-XSS-Protection', '1; mode=block'), ('Strict-Transport-Security', 'max-age=63072000; includeSubdomains'), ('Referrer-Policy', 'unsafe-url')]\n"
     ]
    }
   ],
   "source": [
    "response1 = urllib.request.urlopen(request)\n",
    "print(response1.getheaders())"
   ]
  },
  {
   "cell_type": "markdown",
   "id": "b806b00a",
   "metadata": {},
   "source": [
    "- URL 사용"
   ]
  },
  {
   "cell_type": "code",
   "execution_count": 223,
   "id": "1c23f131",
   "metadata": {},
   "outputs": [
    {
     "name": "stdout",
     "output_type": "stream",
     "text": [
      "[('Server', 'NWS'), ('Date', 'Fri, 22 Jul 2022 01:03:22 GMT'), ('Content-Type', 'text/html; charset=UTF-8'), ('Transfer-Encoding', 'chunked'), ('Connection', 'close'), ('Set-Cookie', 'PM_CK_loc=16f435ae20111e81adcf36de4f939388faeaacd7ccf2bb6847a93eff29c72b72; Expires=Sat, 23 Jul 2022 01:03:22 GMT; Path=/; HttpOnly'), ('Cache-Control', 'no-cache, no-store, must-revalidate'), ('Pragma', 'no-cache'), ('P3P', 'CP=\"CAO DSP CURa ADMa TAIa PSAa OUR LAW STP PHY ONL UNI PUR FIN COM NAV INT DEM STA PRE\"'), ('X-Frame-Options', 'DENY'), ('X-XSS-Protection', '1; mode=block'), ('Strict-Transport-Security', 'max-age=63072000; includeSubdomains'), ('Referrer-Policy', 'unsafe-url')]\n"
     ]
    }
   ],
   "source": [
    "response2 = urllib.request.urlopen(URL)\n",
    "print(response2.getheaders())"
   ]
  },
  {
   "cell_type": "markdown",
   "id": "a438e82b",
   "metadata": {},
   "source": [
    "## read(n)\n",
    "- n개 글자 읽기"
   ]
  },
  {
   "cell_type": "code",
   "execution_count": 224,
   "id": "ada32261",
   "metadata": {},
   "outputs": [
    {
     "name": "stdout",
     "output_type": "stream",
     "text": [
      "b'\\n<!doctype html>                          <html lang=\"ko\" data-dark=\"false\"> <head> <meta charset=\"utf-8\"> <title>NAVER</title> <meta http-equiv=\"X-UA-Compatible\" content=\"IE=edge\"> <meta name=\"viewport\" content=\"width=1190\"> <meta name=\"apple-mobile-web-app-title\" content=\"NAVER\"/> <meta name=\"robots\" content=\"index,nofollow\"/> <meta name=\"description\" content=\"\\xeb\\x84\\xa4\\xec\\x9d\\xb4\\xeb\\xb2\\x84 \\xeb\\xa9\\x94\\xec\\x9d\\xb8\\xec\\x97\\x90\\xec\\x84\\x9c \\xeb\\x8b\\xa4\\xec\\x96\\x91\\xed\\x95\\x9c \\xec\\xa0\\x95\\xeb\\xb3\\xb4\\xec\\x99\\x80 \\xec\\x9c\\xa0\\xec\\x9a\\xa9\\xed\\x95\\x9c \\xec\\xbb\\xa8\\xed\\x85\\x90\\xec\\xb8\\xa0\\xeb\\xa5\\xbc \\xeb\\xa7\\x8c\\xeb\\x82\\x98 \\xeb\\xb3\\xb4\\xec\\x84\\xb8\\xec\\x9a\\x94\"/> <meta property=\"og:title\" content=\"\\xeb\\x84\\xa4\\xec\\x9d\\xb4\\xeb\\xb2\\x84\"> <m' \n",
      "\n",
      " ---------------------------------------------------------------------------------------------------- \n",
      "\n",
      "\n",
      "<!doctype html>                          <html lang=\"ko\" data-dark=\"false\"> <head> <meta charset=\"utf-8\"> <title>NAVER</title> <meta http-equiv=\"X-UA-Compatible\" content=\"IE=edge\"> <meta name=\"viewport\" content=\"width=1190\"> <meta name=\"apple-mobile-web-app-title\" content=\"NAVER\"/> <meta name=\"robots\" content=\"index,nofollow\"/> <meta name=\"description\" content=\"네이버 메인에서 다양한 정보와 유용한 컨텐츠를 만나 보세요\"/> <meta property=\"og:title\" content=\"네이버\"> <m\n"
     ]
    }
   ],
   "source": [
    "byte_data = response1.read(500)\n",
    "text_data = byte_data.decode('utf-8')\n",
    "print(byte_data, '\\n\\n', '-'*100, '\\n')\n",
    "print(text_data)"
   ]
  },
  {
   "cell_type": "markdown",
   "id": "89a4e5af",
   "metadata": {},
   "source": [
    "## urlretrieve()\n",
    "- 웹 상의 이미지를 저장"
   ]
  },
  {
   "cell_type": "markdown",
   "id": "41580339",
   "metadata": {},
   "source": [
    "### 과제0721_4\n",
    "- 웹주소를 가져와서 이미지를 저장하세요"
   ]
  },
  {
   "cell_type": "code",
   "execution_count": 225,
   "id": "26fd225f",
   "metadata": {},
   "outputs": [
    {
     "name": "stdout",
     "output_type": "stream",
     "text": [
      "('daum_logo.png', <http.client.HTTPMessage object at 0x00000122436FE9D0>)\n"
     ]
    }
   ],
   "source": [
    "img_src = 'https://t1.daumcdn.net/daumtop_chanel/op/20200723055344399.png'\n",
    "new_name = 'daum_logo.png'\n",
    "\n",
    "print(urllib.request.urlretrieve(img_src, new_name))"
   ]
  },
  {
   "cell_type": "markdown",
   "id": "150d4644",
   "metadata": {},
   "source": [
    "## urlparse(URL)\n",
    "- URL을 6개로 분리하여 반환\n",
    "\n",
    "- 단순한 패턴을 읽을 때에는 복잡한 정규표현식 보다는 간단한 parse 모듈을 사용"
   ]
  },
  {
   "cell_type": "code",
   "execution_count": 226,
   "id": "450375a1",
   "metadata": {},
   "outputs": [
    {
     "name": "stdout",
     "output_type": "stream",
     "text": [
      "ParseResult(scheme='https', netloc='section.blog.naver.com', path='/Search/Post.naver', params='', query='pageNo=1&rangeType=ALL&orderBy=sim&keyword=ai', fragment='')\n"
     ]
    }
   ],
   "source": [
    "URL = 'https://section.blog.naver.com/Search/Post.naver?pageNo=1&rangeType=ALL&orderBy=sim&keyword=ai'\n",
    "parse = urllib.parse.urlparse(URL)\n",
    "print(parse)"
   ]
  },
  {
   "cell_type": "code",
   "execution_count": 227,
   "id": "55bcc9fd",
   "metadata": {},
   "outputs": [
    {
     "name": "stdout",
     "output_type": "stream",
     "text": [
      "1 : https\n",
      "2 : section.blog.naver.com\n",
      "3 : /Search/Post.naver\n",
      "4 : \n",
      "5 : pageNo=1&rangeType=ALL&orderBy=sim&keyword=ai\n",
      "6 : \n"
     ]
    }
   ],
   "source": [
    "for i, p in enumerate(parse):\n",
    "    print(i+1, ':', p)"
   ]
  },
  {
   "cell_type": "markdown",
   "id": "9fc8c08e",
   "metadata": {},
   "source": [
    "## quote(_str_), unquote(_str_)"
   ]
  },
  {
   "cell_type": "markdown",
   "id": "bd395e12",
   "metadata": {},
   "source": [
    "- 아스키코드가 아닌 퍼센트 인코딩으로 변환\n",
    "- 퍼센트 인코딩은 URL에 문자를 표현하는 문자 인코딩 방법(URL에 한글이 섞이면 오류 발생)"
   ]
  },
  {
   "cell_type": "code",
   "execution_count": 228,
   "id": "87ccc73e",
   "metadata": {},
   "outputs": [
    {
     "name": "stdout",
     "output_type": "stream",
     "text": [
      "%ED%8C%8C%EC%9D%B4%EC%8D%AC\n",
      "파이썬\n"
     ]
    }
   ],
   "source": [
    "print(urllib.parse.quote('파이썬'))\n",
    "print(urllib.parse.unquote('%ED%8C%8C%EC%9D%B4%EC%8D%AC'))"
   ]
  },
  {
   "cell_type": "markdown",
   "id": "4b58a287",
   "metadata": {},
   "source": [
    "\n",
    "### UnicodeEncodeError"
   ]
  },
  {
   "cell_type": "code",
   "execution_count": 240,
   "id": "f727aa97",
   "metadata": {},
   "outputs": [],
   "source": [
    "URL = 'https://search.naver.com/search.naver?query=%ED%8C%8C%EC%9D%B4%EC%8D%AC'"
   ]
  },
  {
   "cell_type": "code",
   "execution_count": 241,
   "id": "05922207",
   "metadata": {},
   "outputs": [],
   "source": [
    "# URL = 'https://search.naver.com/search.naver?query=파이썬'\n",
    "# UnicodeEncodeError: 'ascii' codec can't encode characters in position 24-26: ordinal not in range(128)"
   ]
  },
  {
   "cell_type": "code",
   "execution_count": 242,
   "id": "81ad8416",
   "metadata": {},
   "outputs": [
    {
     "name": "stdout",
     "output_type": "stream",
     "text": [
      "<!doctype html> <html lang=\"ko\"> <head> <meta charset=\"utf-8\"> <meta name=\"referrer\" content=\"always\">  <meta name=\"format-detection\" content=\"telephone=no,address=no,email=no\"> <meta name=\"viewport\" content=\"width=device-width,initial-scale=1.0,maximum-scale=2.0\"> <meta property=\"og:title\" content=\"파이썬 : 네이버 통합검색\"/> <meta property=\"og:image\" content=\"https://ssl.pstatic.net/sstatic/search/common/og_v3.png\"> <meta property=\"og:description\" content=\"'파이썬'의 네이버 통합검색 결과입니다.\"> <meta name=\"descriptio\n"
     ]
    }
   ],
   "source": [
    "response = urllib.request.urlopen(URL)\n",
    "byte_data = response.read()\n",
    "text_data = byte_data.decode('utf-8')\n",
    "print(text_data[:500])"
   ]
  },
  {
   "cell_type": "markdown",
   "id": "9222321d",
   "metadata": {},
   "source": [
    "### 로컬에 html파일로 저장"
   ]
  },
  {
   "cell_type": "code",
   "execution_count": 243,
   "id": "75843df5",
   "metadata": {},
   "outputs": [],
   "source": [
    "request = urllib.request.Request('https://www.naver.com')\n",
    "data = urllib.request.urlopen(request).read()\n",
    "with open('pc.html', 'wb') as f:\n",
    "    f.write(data)"
   ]
  },
  {
   "cell_type": "code",
   "execution_count": 244,
   "id": "89f82e05",
   "metadata": {},
   "outputs": [
    {
     "name": "stdout",
     "output_type": "stream",
     "text": [
      "\n",
      "<!doctype html>                          <html lang=\"ko\" data-dark=\"false\"> <head> <meta charset=\"utf-8\"> <title>NAVER</title> <meta http-equiv=\"X-UA-Compatible\" content=\"IE=edge\"> <meta name=\"viewport\" content=\"width=1190\"> <meta name=\"apple-mobile-web-app-title\" content=\"NAVER\"/> <meta name=\"robots\" content=\"index,nofollow\"/> <meta name=\"description\" content=\"네이버 메인에서 다양한 정보와 유용한 컨텐츠를 만나 보세요\"/> <meta property=\"og:title\" content=\"네이버\"> <meta property=\"og:url\" content=\"https://www.naver.com/\"> \n"
     ]
    }
   ],
   "source": [
    "with open('pc.html', 'rb') as f:\n",
    "    data = f.read().decode('utf-8')\n",
    "    print(data[:500])"
   ]
  },
  {
   "cell_type": "code",
   "execution_count": 248,
   "id": "56e927f2",
   "metadata": {},
   "outputs": [
    {
     "name": "stdout",
     "output_type": "stream",
     "text": [
      "https://search.naver.com/search.naver?query=%ED%8C%8C%EC%9D%B4%EC%8D%AC\n",
      "https://search.naver.com/search.naver?query=%EC%9B%B9%20%ED%81%AC%EB%A1%A4%EB%A7%81\n",
      "https://search.naver.com/search.naver?query=%EB%B9%85%EB%8D%B0%EC%9D%B4%ED%84%B0\n",
      "https://search.naver.com/search.naver?query=python\n"
     ]
    }
   ],
   "source": [
    "query_list = ['파이썬', '웹 크롤링', '빅데이터', 'python']\n",
    "URL = 'https://search.naver.com/search.naver?query='\n",
    "for q in query_list:\n",
    "    new_URL = URL + urllib.parse.quote(q)\n",
    "    response_urllib = urllib.request.urlopen(new_URL)\n",
    "    byte_data = response_urllib.read()\n",
    "    text_data = byte_data.decode('utf-8')\n",
    "    print(new_URL)"
   ]
  },
  {
   "cell_type": "markdown",
   "id": "4023d02a",
   "metadata": {},
   "source": [
    "### encoding을 사용하여 쿼리"
   ]
  },
  {
   "cell_type": "code",
   "execution_count": 257,
   "id": "229a19c6",
   "metadata": {},
   "outputs": [
    {
     "name": "stdout",
     "output_type": "stream",
     "text": [
      "파이썬  :   을 확인해주세요.    최근 검색어 내역이 없습니다.  설정이 초기화 된다면  \n",
      "웹 크롤링  :   을 확인해주세요.    최근 검색어 내역이 없습니다.  설정이 초기화 된다면  \n",
      "빅데이터  :   을 확인해주세요.    최근 검색어 내역이 없습니다.  설정이 초기화 된다면  \n",
      "python  :   을 확인해주세요.    최근 검색어 내역이 없습니다.  설정이 초기화 된다면  \n"
     ]
    }
   ],
   "source": [
    "query_list = ['파이썬', '웹 크롤링', '빅데이터', 'python']\n",
    "URL = 'https://search.naver.com/search.naver?query='\n",
    "for i in query_list:\n",
    "    new_URL = URL + urllib.parse.quote(i)\n",
    "    response_urllib = urllib.request.urlopen(new_URL)\n",
    "    byte_data = response_urllib.read()\n",
    "    text_data = byte_data.decode('utf-8')\n",
    "    text_data1 = text_data.split('검색어를 입력해 주세요')[1].split('도움말')[1]\n",
    "    text_data1 = re.sub('<.+?>', ' ', text_data1)\n",
    "    print(i, \" : \", text_data2 )"
   ]
  },
  {
   "cell_type": "code",
   "execution_count": 258,
   "id": "953e9d97",
   "metadata": {},
   "outputs": [
    {
     "data": {
      "text/plain": [
       "36462"
      ]
     },
     "execution_count": 258,
     "metadata": {},
     "output_type": "execute_result"
    }
   ],
   "source": [
    "text_data.find('검색어를 입력해 주세요')"
   ]
  },
  {
   "cell_type": "code",
   "execution_count": 259,
   "id": "321befc1",
   "metadata": {},
   "outputs": [
    {
     "data": {
      "text/plain": [
       "'검색어를 입력해 주세요.\" data-atcmp-element> </d'"
      ]
     },
     "execution_count": 259,
     "metadata": {},
     "output_type": "execute_result"
    }
   ],
   "source": [
    "text_data[36462:36500]"
   ]
  },
  {
   "cell_type": "code",
   "execution_count": null,
   "id": "5a960fad",
   "metadata": {},
   "outputs": [],
   "source": []
  },
  {
   "cell_type": "code",
   "execution_count": null,
   "id": "376dacbb",
   "metadata": {},
   "outputs": [],
   "source": []
  },
  {
   "cell_type": "code",
   "execution_count": null,
   "id": "54ccdc76",
   "metadata": {},
   "outputs": [],
   "source": []
  },
  {
   "cell_type": "code",
   "execution_count": null,
   "id": "df217801",
   "metadata": {},
   "outputs": [],
   "source": []
  },
  {
   "cell_type": "code",
   "execution_count": null,
   "id": "733bb9cb",
   "metadata": {},
   "outputs": [],
   "source": []
  }
 ],
 "metadata": {
  "kernelspec": {
   "display_name": "Python 3 (ipykernel)",
   "language": "python",
   "name": "python3"
  },
  "language_info": {
   "codemirror_mode": {
    "name": "ipython",
    "version": 3
   },
   "file_extension": ".py",
   "mimetype": "text/x-python",
   "name": "python",
   "nbconvert_exporter": "python",
   "pygments_lexer": "ipython3",
   "version": "3.8.13"
  },
  "toc": {
   "base_numbering": 1,
   "nav_menu": {},
   "number_sections": true,
   "sideBar": true,
   "skip_h1_title": false,
   "title_cell": "Table of Contents",
   "title_sidebar": "Contents",
   "toc_cell": false,
   "toc_position": {
    "height": "calc(100% - 180px)",
    "left": "10px",
    "top": "150px",
    "width": "542px"
   },
   "toc_section_display": true,
   "toc_window_display": false
  }
 },
 "nbformat": 4,
 "nbformat_minor": 5
}
