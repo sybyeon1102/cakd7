{
 "cells": [
  {
   "cell_type": "code",
   "execution_count": 16,
   "id": "5766808a",
   "metadata": {},
   "outputs": [],
   "source": [
    "import warnings\n",
    "warnings.filterwarnings('ignore')"
   ]
  },
  {
   "cell_type": "markdown",
   "id": "93616638",
   "metadata": {},
   "source": [
    "## import"
   ]
  },
  {
   "cell_type": "code",
   "execution_count": 144,
   "id": "ab3ce02d",
   "metadata": {},
   "outputs": [],
   "source": [
    "import time\n",
    "\n",
    "import selenium\n",
    "from selenium import webdriver\n",
    "from selenium.webdriver.common.keys import Keys\n",
    "from selenium.webdriver.support.ui import WebDriverWait\n",
    "from selenium.webdriver.support import expected_conditions as EC\n",
    "from selenium.webdriver.common.by import By"
   ]
  },
  {
   "cell_type": "markdown",
   "id": "b4970bb6",
   "metadata": {},
   "source": [
    "# 셀레니움"
   ]
  },
  {
   "cell_type": "markdown",
   "id": "f03e1e7b",
   "metadata": {},
   "source": [
    "## 접근 함수 목록\n",
    "\n",
    "- https://goodthings4me.tistory.com/696\n",
    "\n",
    "- from selenium.webdriver.common.by import By\n",
    "\n",
    "- find_element(By.ID, \" \"): id 속성을 사용하여 접근\n",
    "- find_element(s)(By.CLASS_NAME, \" \"): 클래스를 사용하여 접근\n",
    "- find_element(s)(By.NAME, \" \"): name 속성을 사용하여 접근\n",
    "- find_element(s)(By.XPATH, \" \"): xpath 속성을 사용하여 접근\n",
    "- find_element(s)(By.LINK_TEXT, \" \"): 앵커태그(a 태그)에 사용되는 텍스트로 접근 \n",
    "- find_element(s)(By.PARTIAL_LINK_TEXT, \" \"): 앵커태그(a 태그)에 사용되는 일부 텍스트로 접근\n",
    "- find_element(s)(By.TAG_NAME, \" \"): 태그를 사용하여 접근\n",
    "- find_element(s)(By.CSS_SELECTOR, \" \"): CSS 선택자를 사용하여 접근<br><br>\n",
    "셀레니움 사용법 : https://greeksharifa.github.io/references/2020/10/30/python-selenium-usage/ <br>\n",
    "셀레니움 사용법 : https://workingwithpython.com/howtouseselenium-3/\n",
    "<br>\n",
    "- xpath 와 css_selector를 주로 사용"
   ]
  },
  {
   "cell_type": "code",
   "execution_count": 1,
   "id": "d2a84620",
   "metadata": {},
   "outputs": [],
   "source": [
    "# bs과 다른 점, 더 나은 점?"
   ]
  },
  {
   "cell_type": "markdown",
   "id": "3c8b20a5",
   "metadata": {},
   "source": [
    "<code class=\"hljs\"><span class=\"hljs-keyword\"><span class=\"hljs-keyword\">from</span></span> selenium <span class=\"hljs-keyword\"><span class=\"hljs-keyword\">import</span></span> webdriver\n",
    "<span class=\"hljs-keyword\"><span class=\"hljs-keyword\">from</span></span> selenium.webdriver.chrome.service <span class=\"hljs-keyword\"><span class=\"hljs-keyword\">import</span></span> Service <span class=\"hljs-keyword\"><span class=\"hljs-keyword\">as</span></span> ChromeService\n",
    "<span class=\"hljs-keyword\"><span class=\"hljs-keyword\">from</span></span> selenium.webdriver.chrome.options <span class=\"hljs-keyword\"><span class=\"hljs-keyword\">import</span></span> Options\n",
    "<span class=\"hljs-keyword\"><span class=\"hljs-keyword\">from</span></span> webdriver_manager.chrome <span class=\"hljs-keyword\"><span class=\"hljs-keyword\">import</span></span> ChromeDriverManager\n",
    "<span class=\"hljs-keyword\"><span class=\"hljs-keyword\">from</span></span> selenium.webdriver.common.by <span class=\"hljs-keyword\"><span class=\"hljs-keyword\">import</span></span> By"
   ]
  },
  {
   "cell_type": "markdown",
   "id": "997e7839",
   "metadata": {},
   "source": [
    "## 웹브라우저 드라이브 다운"
   ]
  },
  {
   "cell_type": "markdown",
   "id": "2822843b",
   "metadata": {},
   "source": [
    "- https://chromedriver.storage.googleapis.com/index.html?path=103.0.5060.134/\n",
    "- 여기서 드라이브 다운로드"
   ]
  },
  {
   "cell_type": "raw",
   "id": "fc02f9b0",
   "metadata": {},
   "source": [
    "!pip install selenium"
   ]
  },
  {
   "cell_type": "code",
   "execution_count": 62,
   "id": "6a628beb",
   "metadata": {},
   "outputs": [],
   "source": [
    "import selenium\n",
    "from selenium import webdriver\n",
    "from selenium.webdriver.common.keys import Keys"
   ]
  },
  {
   "cell_type": "markdown",
   "id": "32ed2794",
   "metadata": {},
   "source": [
    "## webdriver.Chrome(_path_) 브라우저 띄우기"
   ]
  },
  {
   "cell_type": "code",
   "execution_count": 22,
   "id": "6dbc018a",
   "metadata": {},
   "outputs": [],
   "source": [
    "url = 'http://naver.com'\n",
    "path = 'G:/내 드라이브/working/tool/chromedriver_win32/chromedriver.exe'"
   ]
  },
  {
   "cell_type": "code",
   "execution_count": 23,
   "id": "aa234be8",
   "metadata": {},
   "outputs": [],
   "source": [
    "driver = webdriver.Chrome(path)"
   ]
  },
  {
   "cell_type": "markdown",
   "id": "9307ecb8",
   "metadata": {},
   "source": [
    "### .get(_url_)"
   ]
  },
  {
   "cell_type": "code",
   "execution_count": 24,
   "id": "ab574f9a",
   "metadata": {},
   "outputs": [],
   "source": [
    "driver.get(url)"
   ]
  },
  {
   "cell_type": "markdown",
   "id": "fc9093a9",
   "metadata": {},
   "source": [
    "### .current_url"
   ]
  },
  {
   "cell_type": "code",
   "execution_count": 26,
   "id": "d27f232e",
   "metadata": {
    "scrolled": true
   },
   "outputs": [
    {
     "name": "stdout",
     "output_type": "stream",
     "text": [
      "https://www.naver.com/\n"
     ]
    }
   ],
   "source": [
    "print(driver.current_url)"
   ]
  },
  {
   "cell_type": "markdown",
   "id": "e598e041",
   "metadata": {},
   "source": [
    "### .close()"
   ]
  },
  {
   "cell_type": "code",
   "execution_count": 27,
   "id": "d257cbbb",
   "metadata": {},
   "outputs": [],
   "source": [
    "driver.close()"
   ]
  },
  {
   "cell_type": "markdown",
   "id": "d6d2d51b",
   "metadata": {},
   "source": [
    "## ChromeOptions() 옵션 주기"
   ]
  },
  {
   "cell_type": "markdown",
   "id": "198a48f5",
   "metadata": {},
   "source": [
    "- Chrome(_path_, options=_options_)"
   ]
  },
  {
   "cell_type": "markdown",
   "id": "285cc181",
   "metadata": {},
   "source": [
    "### .add_argument('headless')"
   ]
  },
  {
   "cell_type": "code",
   "execution_count": 29,
   "id": "9496b723",
   "metadata": {},
   "outputs": [],
   "source": [
    "options = webdriver.ChromeOptions()"
   ]
  },
  {
   "cell_type": "code",
   "execution_count": 30,
   "id": "00e05701",
   "metadata": {},
   "outputs": [],
   "source": [
    "options.add_argument('headless')"
   ]
  },
  {
   "cell_type": "code",
   "execution_count": 32,
   "id": "230a6715",
   "metadata": {},
   "outputs": [],
   "source": [
    "driver =webdriver.Chrome(path, options=options)"
   ]
  },
  {
   "cell_type": "code",
   "execution_count": 33,
   "id": "7ff8e337",
   "metadata": {},
   "outputs": [
    {
     "name": "stdout",
     "output_type": "stream",
     "text": [
      "https://www.google.com/\n"
     ]
    }
   ],
   "source": [
    "driver.get('https://google.com')\n",
    "print(driver.current_url)"
   ]
  },
  {
   "cell_type": "code",
   "execution_count": 34,
   "id": "77943458",
   "metadata": {},
   "outputs": [],
   "source": [
    "driver.close()"
   ]
  },
  {
   "cell_type": "markdown",
   "id": "8c48d3d8",
   "metadata": {},
   "source": [
    "### add_argument('window_size= _width_, _height_')"
   ]
  },
  {
   "cell_type": "code",
   "execution_count": 72,
   "id": "0e13e7bb",
   "metadata": {},
   "outputs": [],
   "source": [
    "from time import time\n",
    "import selenium\n",
    "from selenium import webdriver\n",
    "from selenium.webdriver.common.keys import Keys"
   ]
  },
  {
   "cell_type": "code",
   "execution_count": 73,
   "id": "b4c02bef",
   "metadata": {},
   "outputs": [],
   "source": [
    "options = webdriver.ChromeOptions()\n",
    "options.add_argument('window_size=1920, 1080')"
   ]
  },
  {
   "cell_type": "markdown",
   "id": "69764ad9",
   "metadata": {},
   "source": [
    "## 기다리기"
   ]
  },
  {
   "cell_type": "markdown",
   "id": "48b6e6a0",
   "metadata": {},
   "source": [
    "### implicitly_wait(time_to_wait = _sec_)"
   ]
  },
  {
   "cell_type": "markdown",
   "id": "f1371493",
   "metadata": {},
   "source": [
    "- implicit waits (암묵적 대기) \n",
    "- : 찾으려는 element가 로드될때까지 지정한 시간만큼 대기할 수 있도록 설정"
   ]
  },
  {
   "cell_type": "code",
   "execution_count": 74,
   "id": "26219939",
   "metadata": {},
   "outputs": [],
   "source": [
    "driver = webdriver.Chrome(path, options=options)\n",
    "driver.maximize_window()\n",
    "driver.implicitly_wait(time_to_wait=5)\n",
    "driver.get(url='https://google.com')"
   ]
  },
  {
   "cell_type": "code",
   "execution_count": null,
   "id": "c2401f6d",
   "metadata": {},
   "outputs": [],
   "source": []
  },
  {
   "cell_type": "markdown",
   "id": "4740c1c2",
   "metadata": {},
   "source": [
    "### WebDriverWait(_driver_, _sec_).until(_code_)"
   ]
  },
  {
   "cell_type": "code",
   "execution_count": 36,
   "id": "833c397f",
   "metadata": {},
   "outputs": [],
   "source": [
    "from selenium.webdriver.support.ui import WebDriverWait\n",
    "from selenium.webdriver.support import expected_conditions as EC\n",
    "from selenium.webdriver.common.by import By"
   ]
  },
  {
   "cell_type": "code",
   "execution_count": 48,
   "id": "a0640db4",
   "metadata": {},
   "outputs": [],
   "source": [
    "driver = webdriver.Chrome(path)\n",
    "driver.get(url='https://google.com')"
   ]
  },
  {
   "cell_type": "markdown",
   "id": "a8cbe0ef",
   "metadata": {},
   "source": [
    "- try - finally"
   ]
  },
  {
   "cell_type": "code",
   "execution_count": 49,
   "id": "cdd59196",
   "metadata": {
    "collapsed": true
   },
   "outputs": [
    {
     "ename": "TimeoutException",
     "evalue": "Message: \nStacktrace:\nBacktrace:\n\tOrdinal0 [0x00E55FD3+2187219]\n\tOrdinal0 [0x00DEE6D1+1763025]\n\tOrdinal0 [0x00D03E78+802424]\n\tOrdinal0 [0x00D31C10+990224]\n\tOrdinal0 [0x00D31EAB+990891]\n\tOrdinal0 [0x00D5EC92+1174674]\n\tOrdinal0 [0x00D4CBD4+1100756]\n\tOrdinal0 [0x00D5CFC2+1167298]\n\tOrdinal0 [0x00D4C9A6+1100198]\n\tOrdinal0 [0x00D26F80+946048]\n\tOrdinal0 [0x00D27E76+949878]\n\tGetHandleVerifier [0x010F90C2+2721218]\n\tGetHandleVerifier [0x010EAAF0+2662384]\n\tGetHandleVerifier [0x00EE137A+526458]\n\tGetHandleVerifier [0x00EE0416+522518]\n\tOrdinal0 [0x00DF4EAB+1789611]\n\tOrdinal0 [0x00DF97A8+1808296]\n\tOrdinal0 [0x00DF9895+1808533]\n\tOrdinal0 [0x00E026C1+1844929]\n\tBaseThreadInitThunk [0x76BB6739+25]\n\tRtlGetFullPathName_UEx [0x77AF8FEF+1215]\n\tRtlGetFullPathName_UEx [0x77AF8FBD+1165]\n",
     "output_type": "error",
     "traceback": [
      "\u001b[1;31m---------------------------------------------------------------------------\u001b[0m",
      "\u001b[1;31mTimeoutException\u001b[0m                          Traceback (most recent call last)",
      "Input \u001b[1;32mIn [49]\u001b[0m, in \u001b[0;36m<cell line: 1>\u001b[1;34m()\u001b[0m\n\u001b[0;32m      1\u001b[0m \u001b[38;5;28;01mtry\u001b[39;00m:\n\u001b[1;32m----> 2\u001b[0m     element \u001b[38;5;241m=\u001b[39m \u001b[43mWebDriverWait\u001b[49m\u001b[43m(\u001b[49m\u001b[43mdriver\u001b[49m\u001b[43m,\u001b[49m\u001b[43m \u001b[49m\u001b[38;5;241;43m5\u001b[39;49m\u001b[43m)\u001b[49m\u001b[38;5;241;43m.\u001b[39;49m\u001b[43muntil\u001b[49m\u001b[43m \u001b[49m\u001b[43m(\u001b[49m\n\u001b[0;32m      3\u001b[0m \u001b[43m    \u001b[49m\u001b[43mEC\u001b[49m\u001b[38;5;241;43m.\u001b[39;49m\u001b[43mpresence_of_element_located\u001b[49m\u001b[43m(\u001b[49m\u001b[43m(\u001b[49m\u001b[43mBy\u001b[49m\u001b[38;5;241;43m.\u001b[39;49m\u001b[43mCLASS_NAME\u001b[49m\u001b[43m,\u001b[49m\u001b[43m \u001b[49m\u001b[38;5;124;43m'\u001b[39;49m\u001b[38;5;124;43mgLFyF\u001b[39;49m\u001b[38;5;124;43m'\u001b[39;49m\u001b[43m)\u001b[49m\u001b[43m)\u001b[49m\n\u001b[0;32m      4\u001b[0m \u001b[43m    \u001b[49m\u001b[43m)\u001b[49m\n\u001b[0;32m      5\u001b[0m \u001b[38;5;28;01mfinally\u001b[39;00m:\n\u001b[0;32m      6\u001b[0m     driver\u001b[38;5;241m.\u001b[39mquit()\n",
      "File \u001b[1;32m~\\anaconda3\\envs\\cakd7\\lib\\site-packages\\selenium\\webdriver\\support\\wait.py:90\u001b[0m, in \u001b[0;36mWebDriverWait.until\u001b[1;34m(self, method, message)\u001b[0m\n\u001b[0;32m     88\u001b[0m     \u001b[38;5;28;01mif\u001b[39;00m time\u001b[38;5;241m.\u001b[39mmonotonic() \u001b[38;5;241m>\u001b[39m end_time:\n\u001b[0;32m     89\u001b[0m         \u001b[38;5;28;01mbreak\u001b[39;00m\n\u001b[1;32m---> 90\u001b[0m \u001b[38;5;28;01mraise\u001b[39;00m TimeoutException(message, screen, stacktrace)\n",
      "\u001b[1;31mTimeoutException\u001b[0m: Message: \nStacktrace:\nBacktrace:\n\tOrdinal0 [0x00E55FD3+2187219]\n\tOrdinal0 [0x00DEE6D1+1763025]\n\tOrdinal0 [0x00D03E78+802424]\n\tOrdinal0 [0x00D31C10+990224]\n\tOrdinal0 [0x00D31EAB+990891]\n\tOrdinal0 [0x00D5EC92+1174674]\n\tOrdinal0 [0x00D4CBD4+1100756]\n\tOrdinal0 [0x00D5CFC2+1167298]\n\tOrdinal0 [0x00D4C9A6+1100198]\n\tOrdinal0 [0x00D26F80+946048]\n\tOrdinal0 [0x00D27E76+949878]\n\tGetHandleVerifier [0x010F90C2+2721218]\n\tGetHandleVerifier [0x010EAAF0+2662384]\n\tGetHandleVerifier [0x00EE137A+526458]\n\tGetHandleVerifier [0x00EE0416+522518]\n\tOrdinal0 [0x00DF4EAB+1789611]\n\tOrdinal0 [0x00DF97A8+1808296]\n\tOrdinal0 [0x00DF9895+1808533]\n\tOrdinal0 [0x00E026C1+1844929]\n\tBaseThreadInitThunk [0x76BB6739+25]\n\tRtlGetFullPathName_UEx [0x77AF8FEF+1215]\n\tRtlGetFullPathName_UEx [0x77AF8FBD+1165]\n"
     ]
    }
   ],
   "source": [
    "try:\n",
    "    element = WebDriverWait(driver, 5).until (\n",
    "    EC.presence_of_element_located((By.CLASS_NAME, 'gLFyF'))\n",
    "    )\n",
    "finally:\n",
    "    driver.quit()"
   ]
  },
  {
   "cell_type": "code",
   "execution_count": null,
   "id": "1dcf4523",
   "metadata": {},
   "outputs": [],
   "source": []
  },
  {
   "cell_type": "markdown",
   "id": "3fa7fe85",
   "metadata": {},
   "source": [
    "# element 조작"
   ]
  },
  {
   "cell_type": "code",
   "execution_count": 76,
   "id": "9b272b59",
   "metadata": {},
   "outputs": [],
   "source": [
    "from selenium.webdriver.common.by import By"
   ]
  },
  {
   "cell_type": "markdown",
   "id": "a81802d9",
   "metadata": {},
   "source": [
    "## .find_element(By.XPATH, _xpath_)"
   ]
  },
  {
   "cell_type": "code",
   "execution_count": 77,
   "id": "272f1b05",
   "metadata": {},
   "outputs": [],
   "source": [
    "search_box = driver.find_element(By.XPATH, '/html/body/div[1]/div[3]/form/div[1]/div[1]/div[1]/div/div[2]/input')"
   ]
  },
  {
   "cell_type": "markdown",
   "id": "bb57f14b",
   "metadata": {},
   "source": [
    "## .send_keys(_keys_)"
   ]
  },
  {
   "cell_type": "code",
   "execution_count": 78,
   "id": "7848aa64",
   "metadata": {},
   "outputs": [],
   "source": [
    "search_box.send_keys('빅데이터')"
   ]
  },
  {
   "cell_type": "code",
   "execution_count": 79,
   "id": "3bd993f7",
   "metadata": {},
   "outputs": [],
   "source": [
    "search_box.send_keys(Keys.RETURN)"
   ]
  },
  {
   "cell_type": "code",
   "execution_count": 80,
   "id": "ee95482f",
   "metadata": {},
   "outputs": [],
   "source": [
    "elements = driver.find_elements(By.XPATH, '//*[@id=\"rso\"]/div/div/div/div/a/h3')"
   ]
  },
  {
   "cell_type": "code",
   "execution_count": 84,
   "id": "5ad88c2d",
   "metadata": {},
   "outputs": [
    {
     "data": {
      "text/plain": [
       "(list, selenium.webdriver.remote.webelement.WebElement, 5)"
      ]
     },
     "execution_count": 84,
     "metadata": {},
     "output_type": "execute_result"
    }
   ],
   "source": [
    "type(elements), type(elements[0]), len(elements)"
   ]
  },
  {
   "cell_type": "code",
   "execution_count": 82,
   "id": "f9a0b61d",
   "metadata": {},
   "outputs": [],
   "source": [
    "import time"
   ]
  },
  {
   "cell_type": "markdown",
   "id": "9d214296",
   "metadata": {},
   "source": [
    "## .text"
   ]
  },
  {
   "cell_type": "code",
   "execution_count": 83,
   "id": "24a30601",
   "metadata": {
    "scrolled": false
   },
   "outputs": [
    {
     "name": "stdout",
     "output_type": "stream",
     "text": [
      "빅데이터란? | 고급 빅데이터 분석 | SAP Insights\n",
      "빅 데이터 프로세싱 - 나무위키:대문\n",
      "빅데이터(Big Data)란? | 알테어\n",
      "K-ICT 빅데이터 센터\n",
      "빅 데이터란 무엇인가 - 대한당뇨병학회\n"
     ]
    }
   ],
   "source": [
    "for element in elements:\n",
    "    print(element.text)\n",
    "time.sleep(3)\n",
    "driver.close()"
   ]
  },
  {
   "cell_type": "markdown",
   "id": "3f8a3caf",
   "metadata": {},
   "source": [
    "## 과제0727_3"
   ]
  },
  {
   "cell_type": "markdown",
   "id": "86dfc0bd",
   "metadata": {},
   "source": [
    "- Q. 네이버 사이트 불러오기 > 로그인 이동 > 홈 이동 driver.back() (<-> forward()) > 검색어('빅데이터') 입력, 실행 , a 태그 href  속성을 모두 출력"
   ]
  },
  {
   "cell_type": "markdown",
   "id": "3586c34b",
   "metadata": {},
   "source": [
    "- .maximize_window()"
   ]
  },
  {
   "cell_type": "code",
   "execution_count": 3,
   "id": "27ccc4ba",
   "metadata": {},
   "outputs": [
    {
     "name": "stderr",
     "output_type": "stream",
     "text": [
      "C:\\Users\\admin\\AppData\\Local\\Temp\\ipykernel_8768\\2967144136.py:4: DeprecationWarning: executable_path has been deprecated, please pass in a Service object\n",
      "  driver = webdriver.Chrome(path)\n"
     ]
    }
   ],
   "source": [
    "# 크롬을 열어서 네이버로 이동\n",
    "\n",
    "path = 'G:/내 드라이브/working/tool/chromedriver_win32/chromedriver.exe'\n",
    "driver = webdriver.Chrome(path)\n",
    "driver.maximize_window()\n",
    "driver.implicitly_wait(time_to_wait=5)\n",
    "driver.get(url='https://naver.com')"
   ]
  },
  {
   "cell_type": "markdown",
   "id": "64cc36b0",
   "metadata": {},
   "source": [
    "## .click()"
   ]
  },
  {
   "cell_type": "code",
   "execution_count": 6,
   "id": "559a5c7c",
   "metadata": {},
   "outputs": [],
   "source": [
    "# 로그인 클릭 (로그인 화면으로 이동)\n",
    "login = driver.find_element(By.XPATH, '//*[@id=\"account\"]/a')\n",
    "login.click()"
   ]
  },
  {
   "cell_type": "markdown",
   "id": "5e2f09e7",
   "metadata": {},
   "source": [
    "## .back() , .forward()"
   ]
  },
  {
   "cell_type": "code",
   "execution_count": 7,
   "id": "6c7a7a8c",
   "metadata": {},
   "outputs": [],
   "source": [
    "# 뒤로가기\n",
    "driver.back()"
   ]
  },
  {
   "cell_type": "code",
   "execution_count": 8,
   "id": "c9dc987b",
   "metadata": {},
   "outputs": [],
   "source": [
    "#  검색창에 빅데이터 입력해서 검색\n",
    "search = driver.find_element(By.XPATH, '//*[@id=\"query\"]')\n",
    "search.send_keys('빅데이터')\n",
    "search.send_keys(Keys.RETURN)"
   ]
  },
  {
   "cell_type": "markdown",
   "id": "4cd7145c",
   "metadata": {},
   "source": [
    "## .get_attribute(_attNm_)"
   ]
  },
  {
   "cell_type": "code",
   "execution_count": 9,
   "id": "5a1b4620",
   "metadata": {},
   "outputs": [
    {
     "name": "stdout",
     "output_type": "stream",
     "text": [
      "https://search.naver.com/search.naver?where=nexearch&sm=top_hty&fbm=0&ie=utf8&query=%EB%B9%85%EB%8D%B0%EC%9D%B4%ED%84%B0#lnb\n",
      "https://search.naver.com/search.naver?where=nexearch&sm=top_hty&fbm=0&ie=utf8&query=%EB%B9%85%EB%8D%B0%EC%9D%B4%ED%84%B0#content\n",
      "https://www.naver.com/\n",
      "https://search.naver.com/search.naver?where=nexearch&sm=top_hty&fbm=0&ie=utf8&query=%EB%B9%85%EB%8D%B0%EC%9D%B4%ED%84%B0#\n",
      "https://search.naver.com/search.naver?where=nexearch&sm=top_hty&fbm=0&ie=utf8&query=%EB%B9%85%EB%8D%B0%EC%9D%B4%ED%84%B0#\n",
      "https://search.naver.com/search.naver?where=nexearch&sm=top_hty&fbm=0&ie=utf8&query=%EB%B9%85%EB%8D%B0%EC%9D%B4%ED%84%B0#\n",
      "https://search.naver.com/search.naver?where=nexearch&sm=top_hty&fbm=0&ie=utf8&query=%EB%B9%85%EB%8D%B0%EC%9D%B4%ED%84%B0#\n",
      "https://search.naver.com/search.naver?where=nexearch&sm=top_hty&fbm=0&ie=utf8&query=%EB%B9%85%EB%8D%B0%EC%9D%B4%ED%84%B0#\n",
      "https://help.naver.com/support/alias/search/word/word_29.naver\n",
      "https://help.naver.com/support/alias/search/word/word_29.naver\n",
      "https://help.naver.com/support/alias/search/word/word_29.naver\n",
      "https://search.naver.com/search.naver?where=nexearch&sm=top_hty&fbm=0&ie=utf8&query=%EB%B9%85%EB%8D%B0%EC%9D%B4%ED%84%B0#\n",
      "https://search.naver.com/search.naver?where=nexearch&sm=top_hty&fbm=0&ie=utf8&query=%EB%B9%85%EB%8D%B0%EC%9D%B4%ED%84%B0#\n",
      "https://help.naver.com/support/alias/search/word/word_16.naver\n",
      "https://search.naver.com/search.naver?where=nexearch&sm=top_hty&fbm=0&ie=utf8&query=%EB%B9%85%EB%8D%B0%EC%9D%B4%ED%84%B0#\n",
      "https://help.naver.com/support/alias/search/word/word_16.naver\n",
      "https://nid.naver.com/nidlogin.login?url=https%3A%2F%2Fsearch.naver.com%2Fsearch.naver%3Fwhere%3Dnexearch%26sm%3Dtop_hty%26fbm%3D0%26ie%3Dutf8%26query%3D%25EB%25B9%2585%25EB%258D%25B0%25EC%259D%25B4%25ED%2584%25B0\n",
      "https://help.naver.com/support/alias/search/word/word_16.naver\n",
      "https://search.naver.com/search.naver?where=nexearch&sm=top_hty&fbm=0&ie=utf8&query=%EB%B9%85%EB%8D%B0%EC%9D%B4%ED%84%B0#\n",
      "https://help.naver.com/support/alias/search/word/word_17.naver\n",
      "https://help.naver.com/support/alias/search/word/word_18.naver\n",
      "https://search.naver.com/search.naver?where=nexearch&sm=top_hty&fbm=0&ie=utf8&query=%EB%B9%85%EB%8D%B0%EC%9D%B4%ED%84%B0#\n",
      "https://nid.naver.com/nidlogin.login?url=https%3A%2F%2Fsearch.naver.com%2Fsearch.naver%3Fwhere%3Dnexearch%26sm%3Dtop_hty%26fbm%3D0%26ie%3Dutf8%26query%3D%25EB%25B9%2585%25EB%258D%25B0%25EC%259D%25B4%25ED%2584%25B0\n",
      "javascript:;\n",
      "https://search.naver.com/search.naver?where=nexearch&sm=top_hty&fbm=0&ie=utf8&query=%EB%B9%85%EB%8D%B0%EC%9D%B4%ED%84%B0#\n",
      "https://nid.naver.com/user2/api/naverProfile?m=checkIdType\n",
      "https://nid.naver.com/user2/api/naverProfile?m=checkIdType\n",
      "https://nid.naver.com/nidlogin.logout?returl=https%3A%2F%2Fsearch.naver.com%2Fsearch.naver%3Fwhere%3Dnexearch%26sm%3Dtop_hty%26fbm%3D0%26ie%3Dutf8%26query%3D%25EB%25B9%2585%25EB%258D%25B0%25EC%259D%25B4%25ED%2584%25B0\n",
      "https://mail.naver.com/\n",
      "https://nid.naver.com/user2/help/myInfo?menu=home\n",
      "https://nid.naver.com/user2/help/myInfo?m=viewSecurity&menu=security\n",
      "https://nid.naver.com/user2/eSign/v1/home/land\n",
      "https://nid.naver.com/membership/my\n",
      "https://pay.naver.com/\n",
      "https://blog.naver.com/MyBlog.naver\n",
      "https://section.cafe.naver.com/\n",
      "https://pay.naver.com/\n",
      "https://search.naver.com/search.naver?where=nexearch&sm=top_hty&fbm=0&ie=utf8&query=%EB%B9%85%EB%8D%B0%EC%9D%B4%ED%84%B0#\n",
      "javascript:;\n",
      "https://noti.naver.com/index.nhn\n",
      "https://mail.naver.com/\n",
      "javascript:;\n",
      "https://search.naver.com/search.naver?where=nexearch&sm=top_hty&fbm=0&ie=utf8&query=%EB%B9%85%EB%8D%B0%EC%9D%B4%ED%84%B0#\n",
      "https://search.naver.com/search.naver?where=nexearch&sm=top_hty&fbm=0&ie=utf8&query=%EB%B9%85%EB%8D%B0%EC%9D%B4%ED%84%B0#\n",
      "https://search.naver.com/search.naver?where=nexearch&sm=top_hty&fbm=0&ie=utf8&query=%EB%B9%85%EB%8D%B0%EC%9D%B4%ED%84%B0#\n",
      "https://search.naver.com/search.naver?where=nexearch&sm=top_hty&fbm=0&ie=utf8&query=%EB%B9%85%EB%8D%B0%EC%9D%B4%ED%84%B0#\n",
      "https://search.naver.com/search.naver?where=nexearch&sm=top_hty&fbm=0&ie=utf8&query=%EB%B9%85%EB%8D%B0%EC%9D%B4%ED%84%B0#\n",
      "https://search.naver.com/search.naver?where=nexearch&sm=top_hty&fbm=0&ie=utf8&query=%EB%B9%85%EB%8D%B0%EC%9D%B4%ED%84%B0#\n",
      "https://search.naver.com/search.naver?where=nexearch&sm=top_hty&fbm=0&ie=utf8&query=%EB%B9%85%EB%8D%B0%EC%9D%B4%ED%84%B0#\n",
      "https://cafe.naver.com/\n",
      "https://news.naver.com/\n",
      "https://map.naver.com/\n",
      "https://sports.news.naver.com/\n",
      "https://game.naver.com/\n",
      "https://section.blog.naver.com/\n",
      "https://post.naver.com/main.nhn\n",
      "https://dict.naver.com/\n",
      "https://kin.naver.com/\n",
      "https://weather.naver.com/\n",
      "https://mail.naver.com/\n",
      "https://stock.naver.com/\n",
      "https://land.naver.com/\n",
      "https://vibe.naver.com/today/\n",
      "https://book.naver.com/\n",
      "https://shopping.naver.com/\n",
      "https://comic.naver.com/\n",
      "https://movie.naver.com/\n",
      "https://mybox.naver.com/\n",
      "https://auto.naver.com/\n",
      "https://campaign.naver.com/npay/rediret/index.nhn\n",
      "https://www.naver.com/more.html\n",
      "https://www.naver.com/more.html\n",
      "https://dict.naver.com/\n",
      "https://search.naver.com/search.naver?where=nexearch&sm=tab_jum&query=%EB%B9%85%EB%8D%B0%EC%9D%B4%ED%84%B0\n",
      "https://search.naver.com/search.naver?where=image&sm=tab_jum&query=%EB%B9%85%EB%8D%B0%EC%9D%B4%ED%84%B0\n",
      "https://dict.naver.com/search.nhn?dicQuery=%EB%B9%85%EB%8D%B0%EC%9D%B4%ED%84%B0&query=%EB%B9%85%EB%8D%B0%EC%9D%B4%ED%84%B0&target=dic&query_utf=&isOnlyViewEE=\n",
      "https://search.naver.com/search.naver?where=news&sm=tab_jum&query=%EB%B9%85%EB%8D%B0%EC%9D%B4%ED%84%B0\n",
      "https://search.naver.com/search.naver?where=view&sm=tab_jum&query=%EB%B9%85%EB%8D%B0%EC%9D%B4%ED%84%B0\n",
      "https://search.naver.com/search.naver?where=kin&sm=tab_jum&query=%EB%B9%85%EB%8D%B0%EC%9D%B4%ED%84%B0\n",
      "https://search.naver.com/search.naver?where=influencer&sm=tab_jum&query=%EB%B9%85%EB%8D%B0%EC%9D%B4%ED%84%B0\n",
      "https://search.naver.com/search.naver?where=video&sm=tab_jum&query=%EB%B9%85%EB%8D%B0%EC%9D%B4%ED%84%B0\n",
      "https://search.shopping.naver.com/search/all?where=all&frm=NVSCTAB&query=%EB%B9%85%EB%8D%B0%EC%9D%B4%ED%84%B0\n",
      "https://map.naver.com/v5/search/%EB%B9%85%EB%8D%B0%EC%9D%B4%ED%84%B0\n",
      "https://search.naver.com/search.naver?where=nexearch&sm=top_hty&fbm=0&ie=utf8&query=%EB%B9%85%EB%8D%B0%EC%9D%B4%ED%84%B0#\n",
      "https://search.shopping.naver.com/book/search?query=%EB%B9%85%EB%8D%B0%EC%9D%B4%ED%84%B0\n",
      "https://vibe.naver.com/search?query=%EB%B9%85%EB%8D%B0%EC%9D%B4%ED%84%B0\n",
      "https://search.naver.com/search.naver?where=kdic&sm=tab_jum&query=%EB%B9%85%EB%8D%B0%EC%9D%B4%ED%84%B0\n",
      "https://audioclip.naver.com/search/all?keyword=%EB%B9%85%EB%8D%B0%EC%9D%B4%ED%84%B0\n",
      "https://academic.naver.com/search.naver?field=0&query=%EB%B9%85%EB%8D%B0%EC%9D%B4%ED%84%B0\n",
      "https://search.naver.com/search.naver?where=nexearch&sm=top_hty&fbm=0&ie=utf8&query=%EB%B9%85%EB%8D%B0%EC%9D%B4%ED%84%B0#\n",
      "https://search.naver.com/search.naver?where=nexearch&sm=top_hty&fbm=0&ie=utf8&query=%EB%B9%85%EB%8D%B0%EC%9D%B4%ED%84%B0#\n",
      "https://search.naver.com/search.naver?where=nexearch&sm=tab_opt&query=%EB%B9%85%EB%8D%B0%EC%9D%B4%ED%84%B0&nso=so%3Ar&nso_open=1\n",
      "https://search.naver.com/search.naver?where=nexearch&sm=tab_opt&query=%EB%B9%85%EB%8D%B0%EC%9D%B4%ED%84%B0&nso=so%3Add&nso_open=1\n",
      "https://search.naver.com/search.naver?where=nexearch&sm=tab_opt&query=%EB%B9%85%EB%8D%B0%EC%9D%B4%ED%84%B0&nso=p%3Aall&nso_open=1\n",
      "https://search.naver.com/search.naver?where=nexearch&sm=tab_opt&query=%EB%B9%85%EB%8D%B0%EC%9D%B4%ED%84%B0&nso=p%3A1h&nso_open=1\n",
      "https://search.naver.com/search.naver?where=nexearch&sm=tab_opt&query=%EB%B9%85%EB%8D%B0%EC%9D%B4%ED%84%B0&nso=p%3A1d&nso_open=1\n",
      "https://search.naver.com/search.naver?where=nexearch&sm=tab_opt&query=%EB%B9%85%EB%8D%B0%EC%9D%B4%ED%84%B0&nso=p%3A1w&nso_open=1\n",
      "https://search.naver.com/search.naver?where=nexearch&sm=tab_opt&query=%EB%B9%85%EB%8D%B0%EC%9D%B4%ED%84%B0&nso=p%3A1m&nso_open=1\n",
      "https://search.naver.com/search.naver?where=nexearch&sm=tab_opt&query=%EB%B9%85%EB%8D%B0%EC%9D%B4%ED%84%B0&nso=p%3A3m&nso_open=1\n",
      "https://search.naver.com/search.naver?where=nexearch&sm=tab_opt&query=%EB%B9%85%EB%8D%B0%EC%9D%B4%ED%84%B0&nso=p%3A6m&nso_open=1\n",
      "https://search.naver.com/search.naver?where=nexearch&sm=tab_opt&query=%EB%B9%85%EB%8D%B0%EC%9D%B4%ED%84%B0&nso=p%3A1y&nso_open=1\n",
      "https://search.naver.com/search.naver?where=nexearch&sm=top_hty&fbm=0&ie=utf8&query=%EB%B9%85%EB%8D%B0%EC%9D%B4%ED%84%B0#\n",
      "https://search.naver.com/search.naver?where=nexearch&sm=top_hty&fbm=0&ie=utf8&query=%EB%B9%85%EB%8D%B0%EC%9D%B4%ED%84%B0#\n",
      "https://search.naver.com/search.naver?where=nexearch&sm=top_hty&fbm=0&ie=utf8&query=%EB%B9%85%EB%8D%B0%EC%9D%B4%ED%84%B0#\n",
      "https://search.naver.com/search.naver?where=nexearch&sm=top_hty&fbm=0&ie=utf8&query=%EB%B9%85%EB%8D%B0%EC%9D%B4%ED%84%B0#\n",
      "https://search.naver.com/search.naver?where=nexearch&sm=top_hty&fbm=0&ie=utf8&query=%EB%B9%85%EB%8D%B0%EC%9D%B4%ED%84%B0#\n",
      "https://search.naver.com/search.naver?where=nexearch&sm=top_hty&fbm=0&ie=utf8&query=%EB%B9%85%EB%8D%B0%EC%9D%B4%ED%84%B0#\n",
      "https://search.naver.com/search.naver?where=nexearch&sm=top_hty&fbm=0&ie=utf8&query=%EB%B9%85%EB%8D%B0%EC%9D%B4%ED%84%B0#\n",
      "https://search.naver.com/search.naver?where=nexearch&sm=top_hty&fbm=0&ie=utf8&query=%EB%B9%85%EB%8D%B0%EC%9D%B4%ED%84%B0#\n",
      "https://search.naver.com/search.naver?where=nexearch&sm=top_hty&fbm=0&ie=utf8&query=%EB%B9%85%EB%8D%B0%EC%9D%B4%ED%84%B0#\n",
      "https://search.naver.com/search.naver?where=nexearch&sm=top_hty&fbm=0&ie=utf8&query=%EB%B9%85%EB%8D%B0%EC%9D%B4%ED%84%B0#\n",
      "https://search.naver.com/search.naver?where=nexearch&sm=top_hty&fbm=0&ie=utf8&query=%EB%B9%85%EB%8D%B0%EC%9D%B4%ED%84%B0#\n",
      "https://search.naver.com/search.naver?where=nexearch&sm=top_hty&fbm=0&ie=utf8&query=%EB%B9%85%EB%8D%B0%EC%9D%B4%ED%84%B0#\n",
      "https://search.naver.com/search.naver?where=nexearch&sm=top_hty&fbm=0&ie=utf8&query=%EB%B9%85%EB%8D%B0%EC%9D%B4%ED%84%B0#\n",
      "https://search.naver.com/search.naver?where=nexearch&sm=top_hty&fbm=0&ie=utf8&query=%EB%B9%85%EB%8D%B0%EC%9D%B4%ED%84%B0#\n",
      "https://search.naver.com/search.naver?where=nexearch&sm=top_hty&fbm=0&ie=utf8&query=%EB%B9%85%EB%8D%B0%EC%9D%B4%ED%84%B0#\n",
      "https://search.naver.com/search.naver?where=nexearch&sm=top_hty&fbm=0&ie=utf8&query=%EB%B9%85%EB%8D%B0%EC%9D%B4%ED%84%B0#\n",
      "https://search.naver.com/search.naver?where=nexearch&sm=top_hty&fbm=0&ie=utf8&query=%EB%B9%85%EB%8D%B0%EC%9D%B4%ED%84%B0#\n",
      "https://search.naver.com/search.naver?where=nexearch&sm=top_hty&fbm=0&ie=utf8&query=%EB%B9%85%EB%8D%B0%EC%9D%B4%ED%84%B0#\n",
      "https://search.naver.com/search.naver?where=nexearch&sm=top_hty&fbm=0&ie=utf8&query=%EB%B9%85%EB%8D%B0%EC%9D%B4%ED%84%B0#\n"
     ]
    },
    {
     "name": "stdout",
     "output_type": "stream",
     "text": [
      "https://search.naver.com/search.naver?where=nexearch&sm=top_hty&fbm=0&ie=utf8&query=%EB%B9%85%EB%8D%B0%EC%9D%B4%ED%84%B0#\n",
      "https://search.naver.com/search.naver?where=nexearch&sm=top_hty&fbm=0&ie=utf8&query=%EB%B9%85%EB%8D%B0%EC%9D%B4%ED%84%B0#\n",
      "https://search.naver.com/search.naver?where=nexearch&sm=top_hty&fbm=0&ie=utf8&query=%EB%B9%85%EB%8D%B0%EC%9D%B4%ED%84%B0#\n",
      "https://search.naver.com/search.naver?where=nexearch&sm=top_hty&fbm=0&ie=utf8&query=%EB%B9%85%EB%8D%B0%EC%9D%B4%ED%84%B0#\n",
      "https://search.naver.com/search.naver?where=nexearch&sm=top_hty&fbm=0&ie=utf8&query=%EB%B9%85%EB%8D%B0%EC%9D%B4%ED%84%B0#\n",
      "https://search.naver.com/search.naver?where=nexearch&sm=top_hty&fbm=0&ie=utf8&query=%EB%B9%85%EB%8D%B0%EC%9D%B4%ED%84%B0#\n",
      "https://search.naver.com/search.naver?where=nexearch&sm=top_hty&fbm=0&ie=utf8&query=%EB%B9%85%EB%8D%B0%EC%9D%B4%ED%84%B0#\n",
      "https://search.naver.com/search.naver?where=nexearch&sm=top_hty&fbm=0&ie=utf8&query=%EB%B9%85%EB%8D%B0%EC%9D%B4%ED%84%B0#\n",
      "https://search.naver.com/search.naver?where=nexearch&sm=top_hty&fbm=0&ie=utf8&query=%EB%B9%85%EB%8D%B0%EC%9D%B4%ED%84%B0#\n",
      "https://search.naver.com/search.naver?where=nexearch&sm=top_hty&fbm=0&ie=utf8&query=%EB%B9%85%EB%8D%B0%EC%9D%B4%ED%84%B0#\n",
      "https://search.naver.com/search.naver?where=nexearch&sm=top_hty&fbm=0&ie=utf8&query=%EB%B9%85%EB%8D%B0%EC%9D%B4%ED%84%B0#\n",
      "https://search.naver.com/search.naver?where=nexearch&sm=top_hty&fbm=0&ie=utf8&query=%EB%B9%85%EB%8D%B0%EC%9D%B4%ED%84%B0#\n",
      "https://search.naver.com/search.naver?where=nexearch&sm=top_hty&fbm=0&ie=utf8&query=%EB%B9%85%EB%8D%B0%EC%9D%B4%ED%84%B0#\n",
      "https://search.naver.com/search.naver?where=nexearch&sm=top_hty&fbm=0&ie=utf8&query=%EB%B9%85%EB%8D%B0%EC%9D%B4%ED%84%B0#\n",
      "https://search.naver.com/search.naver?where=nexearch&sm=top_hty&fbm=0&ie=utf8&query=%EB%B9%85%EB%8D%B0%EC%9D%B4%ED%84%B0#\n",
      "https://search.naver.com/search.naver?where=nexearch&sm=top_hty&fbm=0&ie=utf8&query=%EB%B9%85%EB%8D%B0%EC%9D%B4%ED%84%B0#\n",
      "https://search.naver.com/search.naver?where=nexearch&sm=top_hty&fbm=0&ie=utf8&query=%EB%B9%85%EB%8D%B0%EC%9D%B4%ED%84%B0#\n",
      "https://search.naver.com/search.naver?where=nexearch&sm=top_hty&fbm=0&ie=utf8&query=%EB%B9%85%EB%8D%B0%EC%9D%B4%ED%84%B0#\n",
      "https://search.naver.com/search.naver?where=nexearch&sm=top_hty&fbm=0&ie=utf8&query=%EB%B9%85%EB%8D%B0%EC%9D%B4%ED%84%B0#\n",
      "https://search.naver.com/search.naver?where=nexearch&sm=top_hty&fbm=0&ie=utf8&query=%EB%B9%85%EB%8D%B0%EC%9D%B4%ED%84%B0#\n",
      "https://search.naver.com/search.naver?where=nexearch&sm=top_hty&fbm=0&ie=utf8&query=%EB%B9%85%EB%8D%B0%EC%9D%B4%ED%84%B0#\n",
      "https://search.naver.com/search.naver?where=nexearch&sm=top_hty&fbm=0&ie=utf8&query=%EB%B9%85%EB%8D%B0%EC%9D%B4%ED%84%B0#\n",
      "https://search.naver.com/search.naver?where=nexearch&sm=top_hty&fbm=0&ie=utf8&query=%EB%B9%85%EB%8D%B0%EC%9D%B4%ED%84%B0#\n",
      "https://search.naver.com/search.naver?where=nexearch&sm=top_hty&fbm=0&ie=utf8&query=%EB%B9%85%EB%8D%B0%EC%9D%B4%ED%84%B0#\n",
      "https://search.naver.com/search.naver?where=nexearch&sm=top_hty&fbm=0&ie=utf8&query=%EB%B9%85%EB%8D%B0%EC%9D%B4%ED%84%B0#\n",
      "https://search.naver.com/search.naver?where=nexearch&sm=top_hty&fbm=0&ie=utf8&query=%EB%B9%85%EB%8D%B0%EC%9D%B4%ED%84%B0#\n",
      "https://search.naver.com/search.naver?where=nexearch&sm=top_hty&fbm=0&ie=utf8&query=%EB%B9%85%EB%8D%B0%EC%9D%B4%ED%84%B0#\n",
      "https://search.naver.com/search.naver?where=nexearch&sm=top_hty&fbm=0&ie=utf8&query=%EB%B9%85%EB%8D%B0%EC%9D%B4%ED%84%B0#\n",
      "https://search.naver.com/search.naver?where=nexearch&sm=top_hty&fbm=0&ie=utf8&query=%EB%B9%85%EB%8D%B0%EC%9D%B4%ED%84%B0#\n",
      "https://search.naver.com/search.naver?where=nexearch&sm=top_hty&fbm=0&ie=utf8&query=%EB%B9%85%EB%8D%B0%EC%9D%B4%ED%84%B0#\n",
      "https://search.naver.com/search.naver?where=nexearch&sm=top_hty&fbm=0&ie=utf8&query=%EB%B9%85%EB%8D%B0%EC%9D%B4%ED%84%B0#\n",
      "https://search.naver.com/search.naver?where=nexearch&sm=top_hty&fbm=0&ie=utf8&query=%EB%B9%85%EB%8D%B0%EC%9D%B4%ED%84%B0#\n",
      "https://search.naver.com/search.naver?where=nexearch&sm=top_hty&fbm=0&ie=utf8&query=%EB%B9%85%EB%8D%B0%EC%9D%B4%ED%84%B0#\n",
      "https://search.naver.com/search.naver?where=nexearch&sm=top_hty&fbm=0&ie=utf8&query=%EB%B9%85%EB%8D%B0%EC%9D%B4%ED%84%B0#\n",
      "https://search.naver.com/search.naver?where=nexearch&sm=top_hty&fbm=0&ie=utf8&query=%EB%B9%85%EB%8D%B0%EC%9D%B4%ED%84%B0#\n",
      "https://search.naver.com/search.naver?where=nexearch&sm=top_hty&fbm=0&ie=utf8&query=%EB%B9%85%EB%8D%B0%EC%9D%B4%ED%84%B0#\n",
      "https://search.naver.com/search.naver?where=nexearch&sm=top_hty&fbm=0&ie=utf8&query=%EB%B9%85%EB%8D%B0%EC%9D%B4%ED%84%B0#\n",
      "https://search.naver.com/search.naver?where=nexearch&sm=top_hty&fbm=0&ie=utf8&query=%EB%B9%85%EB%8D%B0%EC%9D%B4%ED%84%B0#\n",
      "https://search.naver.com/search.naver?where=nexearch&sm=top_hty&fbm=0&ie=utf8&query=%EB%B9%85%EB%8D%B0%EC%9D%B4%ED%84%B0#\n",
      "https://search.naver.com/search.naver?where=nexearch&sm=top_hty&fbm=0&ie=utf8&query=%EB%B9%85%EB%8D%B0%EC%9D%B4%ED%84%B0#\n",
      "https://search.naver.com/search.naver?where=nexearch&sm=top_hty&fbm=0&ie=utf8&query=%EB%B9%85%EB%8D%B0%EC%9D%B4%ED%84%B0#\n",
      "https://search.naver.com/search.naver?where=nexearch&sm=top_hty&fbm=0&ie=utf8&query=%EB%B9%85%EB%8D%B0%EC%9D%B4%ED%84%B0#\n",
      "https://search.naver.com/search.naver?where=nexearch&sm=top_hty&fbm=0&ie=utf8&query=%EB%B9%85%EB%8D%B0%EC%9D%B4%ED%84%B0#\n",
      "https://search.naver.com/search.naver?where=nexearch&sm=top_hty&fbm=0&ie=utf8&query=%EB%B9%85%EB%8D%B0%EC%9D%B4%ED%84%B0#\n",
      "https://search.naver.com/search.naver?where=nexearch&sm=top_hty&fbm=0&ie=utf8&query=%EB%B9%85%EB%8D%B0%EC%9D%B4%ED%84%B0#\n",
      "https://search.naver.com/search.naver?where=nexearch&sm=top_hty&fbm=0&ie=utf8&query=%EB%B9%85%EB%8D%B0%EC%9D%B4%ED%84%B0#\n",
      "https://search.naver.com/search.naver?where=nexearch&sm=top_hty&fbm=0&ie=utf8&query=%EB%B9%85%EB%8D%B0%EC%9D%B4%ED%84%B0#\n",
      "https://search.naver.com/search.naver?where=nexearch&sm=top_hty&fbm=0&ie=utf8&query=%EB%B9%85%EB%8D%B0%EC%9D%B4%ED%84%B0#\n",
      "https://search.naver.com/search.naver?where=nexearch&sm=top_hty&fbm=0&ie=utf8&query=%EB%B9%85%EB%8D%B0%EC%9D%B4%ED%84%B0#\n",
      "https://search.naver.com/search.naver?where=nexearch&sm=top_hty&fbm=0&ie=utf8&query=%EB%B9%85%EB%8D%B0%EC%9D%B4%ED%84%B0#\n",
      "https://search.naver.com/search.naver?where=nexearch&sm=top_hty&fbm=0&ie=utf8&query=%EB%B9%85%EB%8D%B0%EC%9D%B4%ED%84%B0#\n",
      "https://search.naver.com/search.naver?where=nexearch&sm=top_hty&fbm=0&ie=utf8&query=%EB%B9%85%EB%8D%B0%EC%9D%B4%ED%84%B0#\n",
      "https://search.naver.com/search.naver?where=nexearch&sm=tab_opt&query=%EB%B9%85%EB%8D%B0%EC%9D%B4%ED%84%B0&nso_open=1\n",
      "https://help.naver.com/support/alias/search/integration/intergration_84.naver\n",
      "javascript:void(0);\n",
      "https://saedu.naver.com/help/faq/ncc/view.nhn?faqSeq=704\n",
      "https://saedu.naver.com/adbiz/searchad/intro.nhn\n",
      "https://adcr.naver.com/adcr?x=2NjTCZLozNMxfju7kT2G9v///w==k0knjwa15Y3LSN/H4wiCeaMnSZ5LPOu+sCZ4gOLLZX5z7fj/MGxWuzg2vhQwXf6Ll+4ZaT7xxhQmbQSpRn9o+abj7iFc+MqAX/TnjlnDXKl35il7eqGw6fTJGgAbZUTNUCLUe+eNuUZECr5hs851m6ZiplQRIg+bv21HjNDIgNxgD0JUcIcY0TF4PuM67SKMlbIolzqMlUQavcsjtptybKP4+9hOSD3tYoBQy590dhQt6mP19X/bv++mZTJnQ8U3K5+G5iatVCeRqVS9yYfy3IhbgSOn76pmLZpwL9HeLgBp6nG6aBZVIOfrgCymXR1mxl2QCBwpnSCbzS9eitUAQfU4V/vebc2Q2DUw4hDMphit7Yq3G2+4+/lT7Op7j7JQn10pcT94MpXfzBumdDiDoU8sOrPWQkR/5TlFRAFV+y1g7uokpt0FLkfmjMq7YdP3G/Cwt/gPB6Qeylo9+kt/gNb5kjRpPQr46Q8SXjJdOJqTwI7uk7knmg+32IZ5ay1MNIfk+GK9BLPtWZqPA6btmBob5/mvduOE8kVhY0rJ4NSUzQh1CGOAfxYUYDh2EN2VOz9nsgMNMiTT90nZY8M89jqx0hRQT5jKgGmZuanULrSCoJxulKuC5p1qlRXUfAIkt0ODyne0XIU/OH1rN2EapApOKOlElcIcbCwtWRIzRtG5DwZqoNb+1BS7p5uPAmDq6la9UvCoYAHcnW8aNKq1LKzg5rg8TeGknaSJTesDy6Ry4EHwQCvSzoPY/HYJBnhtsO+D1voLK4XyHX7eEv5yy26OX21Ml0oXcqLyWzg9GrUNFt8rFqZ3Sbyvl5+87D2JsLaLetUH4hB24W9ApYj4iBkZj4XxAIlfBOAU3Tvo1fEE41MSfmnNVA6PcTdszAHn+\n",
      "https://adcr.naver.com/adcr?x=EEpgsgOHdodHJM9/xpwSjv///w==k0knjwa15Y3LSN/H4wiCeaMnSZ5LPOu+sCZ4gOLLZX5z7fj/MGxWuzg2vhQwXf6Ll+4ZaT7xxhQmbQSpRn9o+aeyg+FtBwvQDeIYiZTK6ySl8Ig75+3tp5bBvnFSjykZgokpITFI5CbVF2zDJ8ZVwA6kOi7Wa/9DR8hqtq04z58PhEy1ox4x49BxSKpsvujG9cAhs4YAK0sw+tiLlrj6rKqZx6LG6sKShEKhyYle4mLIxzhxJlXlTbqtiSPEorY/y+GsBgeYu/D3lLHelhTId6EX15Eki2IPSyq+CEA8W5d0Sgu4doGfavH7EgRObs4GyxIPTQuZr++hn9Jy9A32YKTSCX1qZF/rynQpt3pwmR/vO6jOQNT09ghlLsGG2Pne+drw7GB2YHVmry4iXXscLMEU8Xq0JimHt/FyCHqx313MIdg/H296HNmS/PP+27paDXdq2jRrGteiJm7wilU1UM/6q2AM7/fDmMj50IdFSxgsCqB+pvlSJcBeyJN8TavM9r+xY+7eZfocuKc2yLNvWaguaSSlfT2d52VJRk5dPQFMbX6SJr2ssg0U0HMeOLj+0SJsNnR6BuxgIk1O35A5JUD7HnzdXxKX4Pn32+7i2xGN/Z4o6IZwegNmrX7Kcx5awO4PNfaoMLG64zdBSXjnLxdD/+2urL38cEkkzYbo9qMuKHM8L0mwOSjcRkDGLI3iq3a3S6bfWDHa6Mf0NaT8uy0n+RrDzHohTT3YeI4m7YX0ey/IG+A605krnhEncl0NJoUvmYpDiiuqnbd2R1xm76aS5/Mtzh1CVtb30EQOBqA0aVUuOQCPVvWW84sEr80g4HrQquoVNO8z1Gfj+ebn0rB71jtaNpX5qeG35Z9sL30zHwikAbW8IP+WAZTgwRI/K&p=0\n",
      "https://adcr.naver.com/adcr?x=EEpgsgOHdodHJM9/xpwSjv///w==k0knjwa15Y3LSN/H4wiCeaMnSZ5LPOu+sCZ4gOLLZX5z7fj/MGxWuzg2vhQwXf6Ll+4ZaT7xxhQmbQSpRn9o+aeyg+FtBwvQDeIYiZTK6ySl8Ig75+3tp5bBvnFSjykZgokpITFI5CbVF2zDJ8ZVwA6kOi7Wa/9DR8hqtq04z58PhEy1ox4x49BxSKpsvujG9cAhs4YAK0sw+tiLlrj6rKqZx6LG6sKShEKhyYle4mLIxzhxJlXlTbqtiSPEorY/y+GsBgeYu/D3lLHelhTId6EX15Eki2IPSyq+CEA8W5d0Sgu4doGfavH7EgRObs4GyxIPTQuZr++hn9Jy9A32YKTSCX1qZF/rynQpt3pwmR/vO6jOQNT09ghlLsGG2Pne+drw7GB2YHVmry4iXXscLMEU8Xq0JimHt/FyCHqx313MIdg/H296HNmS/PP+27paDXdq2jRrGteiJm7wilU1UM/6q2AM7/fDmMj50IdFSxgsCqB+pvlSJcBeyJN8TavM9r+xY+7eZfocuKc2yLNvWaguaSSlfT2d52VJRk5dPQFMbX6SJr2ssg0U0HMeOLj+0SJsNnR6BuxgIk1O35A5JUD7HnzdXxKX4Pn32+7i2xGN/Z4o6IZwegNmrX7Kcx5awO4PNfaoMLG64zdBSXjnLxdD/+2urL38cEkkzYbo9qMuKHM8L0mwOSjcRkDGLI3iq3a3S6bfWDHa6Mf0NaT8uy0n+RrDzHohTT3YeI4m7YX0ey/IG+A605krnhEncl0NJoUvmYpDiiuqnbd2R1xm76aS5/Mtzh1CVtb30EQOBqA0aVUuOQCPVvWW84sEr80g4HrQquoVNO8z1Gfj+ebn0rB71jtaNpX5qeG35Z9sL30zHwikAbW8IP+WAZTgwRI/K&p=1\n",
      "https://adcr.naver.com/adcr?x=naU4XOydtQzHWX0xXmvxkf///w==kJX5llkn0vfq9WPrF/BUy46qKCbhkk7+Jz7pfTJWqpO61rjsSrLsAmmIbrbwy5XBh9mIjvrTuBDwwzH6ApKYeuGg7IbsTAgHuKTmU797KzS/jqbDGql5V5v9zY+GTOx4NtRDV3xGE/H3L6tO016Ku69G0cCNdBeEZlTkGd2W1GSezp2Znt+Gw0daEWwa7vgFrIBQS8GV9QRdAwg7thPcdJj0q1RlGHWwBBKsKL2/j6EEgukfXJs3Y0bkC4IQZQyuOKT7vxoXeL+LwZIWS2npku8j9N0HpLXTxREUac/BbYUcB/VN6H/LXwPo897WXWSJ3c1k5IOo21GuBo6Q9EH5Imbp4NhD89pj0hM0xlG4k0FxrmzeaqcJyGFMw8Bmz81PBLaSf1+c9QUSPFtyWUal8qKAxQkF+26Mzsb9DLPX3IXqcO8x/H/i+DnNDsB2+mSWLlRMwctlYV3JIQt4UbTtl7b74PUcdgJ17Gs3oqGngmqRromeqDiFTA8kHrdOu6IWqi0jioi3CVMsScqNJv9rCsSobyltEX8NyDtbNXHrjr4sDLVbuj8FDeLVvGzUdF43UJmdJ2IIN6hEHq/8w7pezKoezl6hKcQ7SySYCYWJ/bPo+tB6+H62qmHYKpaY2LklpsMWCYymiufRAamGJQck9c9we2Hoetxa2joMd4LIaDzKInKcSY0BqyGgqHCmBK4UqeTyOrj8/qt52Ehyjt855Ja2H12BIYuNQVsl3h9LlcfDfAnNROX2xkSPGpic1hf6QQr2UWC5hMpm5JWIzL/M8t1xupRqebBbteqJ1EMyUgdWHGxfPbCBVPf1sg3HYH7djxnFuqqPMP1B/p0JLqT+VJpbcpCmgWlKjJz+unxBPr+NBpMeVxQARpiLayeYtHJVgN5ZqYfXYf8unY5F2aAZnD7jtLfXAlkGgKMJSxOs68xTJVmIKLjx84hhs37J4Tz0hJLEWUKATaCrJZKh2d/K5R1smH/McQufDba2Edjx+/hs=\n",
      "https://adcr.naver.com/adcr?x=Ilr7l2OZMs6CdUTNa2GEif///w==kJX5llkn0vfq9WPrF/BUy46qKCbhkk7+Jz7pfTJWqpO61rjsSrLsAmmIbrbwy5XBh9mIjvrTuBDwwzH6ApKYeuGg7IbsTAgHuKTmU797KzS/jqbDGql5V5v9zY+GTOx4NtRDV3xGE/H3L6tO016Ku69G0cCNdBeEZlTkGd2W1GSezp2Znt+Gw0daEWwa7vgFrIBQS8GV9QRdAwg7thPcdJj0q1RlGHWwBBKsKL2/j6EEgukfXJs3Y0bkC4IQZQyuOKT7vxoXeL+LwZIWS2npku8j9N0HpLXTxREUac/BbYUcB/VN6H/LXwPo897WXWSJ3c1k5IOo21GuBo6Q9EH5Imbp4NhD89pj0hM0xlG4k0FxrmzeaqcJyGFMw8Bmz81PBLaSf1+c9QUSPFtyWUal8qKAxQkF+26Mzsb9DLPX3IXqcO8x/H/i+DnNDsB2+mSWLlRMwctlYV3JIQt4UbTtl7b74PUcdgJ17Gs3oqGngmqRromeqDiFTA8kHrdOu6IWqi0jioi3CVMsScqNJv9rCsSobyltEX8NyDtbNXHrjr4sDLVbuj8FDeLVvGzUdF43UJmdJ2IIN6hEHq/8w7pezKoezl6hKcQ7SySYCYWJ/bPo+tB6+H62qmHYKpaY2LklpsMWCYymiufRAamGJQck9c9we2Hoetxa2joMd4LIaDzKInKcSY0BqyGgqHCmBK4UqeTyOrj8/qt52Ehyjt855Ja2H12BIYuNQVsl3h9LlcfDfAnNROX2xkSPGpic1hf6QQr2UWC5hMpm5JWIzL/M8t/vOYDY0MK82KdV+sD/qI9z0cqQYMnBDSOkqNKVkUpoqYHBSJdT1Sa2E1ieVZasDSIpU3L3gqdqrA6olZzS6s16IgR4EKDq9sg/qA1D9SiUaT08ywRfvy+lbAuryzZsB2mwgYoUgqML1Wb9kD/o0GIEojRS6lE6cdusO9/Bdti2d/Z/uLUn7fL/AqAhFA1l5hmVYbU+X9uunD1XZU4vOqKc=&p=0\n",
      "https://adcr.naver.com/adcr?x=Ilr7l2OZMs6CdUTNa2GEif///w==kJX5llkn0vfq9WPrF/BUy46qKCbhkk7+Jz7pfTJWqpO61rjsSrLsAmmIbrbwy5XBh9mIjvrTuBDwwzH6ApKYeuGg7IbsTAgHuKTmU797KzS/jqbDGql5V5v9zY+GTOx4NtRDV3xGE/H3L6tO016Ku69G0cCNdBeEZlTkGd2W1GSezp2Znt+Gw0daEWwa7vgFrIBQS8GV9QRdAwg7thPcdJj0q1RlGHWwBBKsKL2/j6EEgukfXJs3Y0bkC4IQZQyuOKT7vxoXeL+LwZIWS2npku8j9N0HpLXTxREUac/BbYUcB/VN6H/LXwPo897WXWSJ3c1k5IOo21GuBo6Q9EH5Imbp4NhD89pj0hM0xlG4k0FxrmzeaqcJyGFMw8Bmz81PBLaSf1+c9QUSPFtyWUal8qKAxQkF+26Mzsb9DLPX3IXqcO8x/H/i+DnNDsB2+mSWLlRMwctlYV3JIQt4UbTtl7b74PUcdgJ17Gs3oqGngmqRromeqDiFTA8kHrdOu6IWqi0jioi3CVMsScqNJv9rCsSobyltEX8NyDtbNXHrjr4sDLVbuj8FDeLVvGzUdF43UJmdJ2IIN6hEHq/8w7pezKoezl6hKcQ7SySYCYWJ/bPo+tB6+H62qmHYKpaY2LklpsMWCYymiufRAamGJQck9c9we2Hoetxa2joMd4LIaDzKInKcSY0BqyGgqHCmBK4UqeTyOrj8/qt52Ehyjt855Ja2H12BIYuNQVsl3h9LlcfDfAnNROX2xkSPGpic1hf6QQr2UWC5hMpm5JWIzL/M8t/vOYDY0MK82KdV+sD/qI9z0cqQYMnBDSOkqNKVkUpoqYHBSJdT1Sa2E1ieVZasDSIpU3L3gqdqrA6olZzS6s16IgR4EKDq9sg/qA1D9SiUaT08ywRfvy+lbAuryzZsB2mwgYoUgqML1Wb9kD/o0GIEojRS6lE6cdusO9/Bdti2d/Z/uLUn7fL/AqAhFA1l5hmVYbU+X9uunD1XZU4vOqKc=&p=1\n",
      "https://adcr.naver.com/adcr?x=kVhNilrkI+ZZKj3isZdRNv///w==kocP5riY6zyRcO+82/L4DSUXNQZUlosyFMasA36gtFti1Fmn1Qc5XzhRJrCo2QT4fsd9e2Ys7aa3af8XJg8xlFEIlzDz1v/k21hevm2TGnMyrpZgAM0AoNPtNJIMlfFFI+Dd86KeKLzUJldXFWtaEGmw6wFkbd9+sNs2Qy3syEsOMbdfr3IgmHMV00kGQ6TXYeaSq2eedsu49DuMVuaiMGiaYJHgvBwTg2LuIZViCj4Y6qrccXqAh8MLPIlXtNVpBq8slofhmn3BJFs7Q62cBgF3XT24JjDTsDQHihBg8bPBA6q8Suwf5VfeVJNz9oK75D5rUMS5S0XdfcAk8h0MpUNJ0kGDSmKiecWfoRDmeM+vQTQysEYbQbEB+VfE3WtU/vueA0AZjKNhvKF8JaC9E05QMD/rYai8uGuk97phn+63/4uQtHlMw7FHm0RR9Am3t1Vt7xln4sBb9tdjSgoCOkBNt3uYZ35mi9jlEHzhOnn8jLtGznQfUhf/QzK4OIomMBEfF4RsjligYvLzJBf3DbdDPnj+bAaa1TTHf8PEp3ADNxu1jWXb3zsrBeKMJgJI1ePtC84DOIaeRCLqjL3MXEdMkQATbrQ4VEU4PaRLute7BSDGmmq4U9zHkD/2gtvopC0ZhWJydFlVeFDzEWxGXJAl3TtZ5JTOpX0R5Okw646j0hZNNxM1y53xtY3ucovGCOlLWJIA4+AaEKuXHxumsHHq7FstN1mdA9u64J0+eKCDLblBZ1lHfLjVll6rFNTl1FavAaSVhKxNhwqCzAXcmKxqzeL3utbGDkzQrc41lVmdl4HaUaHWxCPaFueSjadq+vj8KKbKBjGz6GhtRuOn7lfPznGSSneR1P2PYP6+D8n2uqujcJdik0kT3pW5Hw9UAGDbOokycI4FloGydZeOF5TxoZb757lVE6zPfvUSSp3+x0II/moy2QpbMSra/hH5f2jGWMN0m2/nwFgjKIxM3omDzCrHJ7GJlInm61uAVKbDlTdExqRWCrR3HCVBDsmVhsjvL6hWvnoAUtpUKhcz1Kw==\n",
      "https://adcr.naver.com/adcr?x=/ExLpAgiGwwbALnZnLTVqv///w==kocP5riY6zyRcO+82/L4DSQton17EUR5hA30TwTWB4Lr2dg+OqQkX8GQ8cHQUy44FTDX1yU9G4Q542qeB94wUzkFhRPAwseqo9zkH+L2liIGrpZgAM0AoNPtNJIMlfFFI+Dd86KeKLzUJldXFWtaEGjTGJjf1Rqoq2T2A/YOgED+1xytcbMfZcXjiy/VjufTLmaGSlZbRsSwfLwYCHJYJAx8ZLoPTgCQMXzDYa5kDgGhssabpiBENIxIyjR+8byxFRkK3FrSEpANGrMETuyXIetD7TP1O0OCZNU5/BExskYiiwNuxwALQmuip+hpCda5XAUeY3e3Kwz8jeJdCP8nWQEbgmrBvlQ7xSmf/r15PX4/OjS2MddCxVzJlZ5yn3Iu3AZFThylNiG7uvgbOqBQaX1MvGRCI6OLopOp58Ho61d8DlbE0ZU+V+hdPlKHH1ltnend3yzx0CI9ZBzfpv9/EXJQ/ZNJzTl4R2DGkPlPjiKJZk+4VPw1rwBVgZ9JNqjVqNdcXZkpUaOLEQriLnGnIb3Ai3FMgLklGLqpTSg/75GXFcSUXIPoegnSyrdtykSAB1XhqbA/gg8LuGuD2+8sH9mijnze2fwyPk36ZP6sHabbULZwFXYfszoZ7caN2hx8DitdCrYBy0KSxjeDBdTS70sQXYL0hiKoSL+pwem+IVENkRuk0F75cB9VfMme5MeFJDfq/eA5LY6z+Myh0PewOgr9tpWrb9oGN8MOTSHBbXnV+ym9ls0Fka/ENhNcUlMUyoUofOvaBLNHPsQPJkNtMOzZUwhgptMQN3snVIvpS22mnt1PP8UOwP7DCY9HXzerEaNt5GV4kWjbR31Dp4MWAjecPJQKpV0/3smMETldopvM3LCMHbagHDTcD+cs6foPAN4aaVVNZGBniwICiRNdKbqwS+4Lv/SfTT3NzhcdHuZkkyDkS/vWtAPBtYHYEBmJ7HDG16ZoghBqVK6EtuFJOaFuK+DWZXnrCi6JZ1+xOcorm89HpZTw3VJWkG/E9ZLhT\n",
      "https://adcr.naver.com/adcr?x=lF6MG3JSbniTL/OcEQRULP///w==kocP5riY6zyRcO+82/L4DSYb650oed8+/fD7y2AuqFqvbfsA9Q1pgDMzjwQP7ZFlq2dMOgANc4ao17v50gFip1Do7h+wnfG48eW+xTrzOo0lmmYxQ/+g1BuFvWM2hyp0cg8q00/Fvm3kEhjXR7/Q07YNHroX72Gvm5XBzddaCYivfoYX5l/HUDXMhjHv4hfz+iLDDsw5j3Jl1VKbI/k8ILN3IfNl6wrBptk+aI/jR3yS5Pf+Ko1KSE/cfsO/hhfSek4E8UZM8omguIGbAYysgqUCNwwjStt3MTYRHgPT9wz+2EWf+o0wozY3FTw0TjgAfnrq3/3x6QaMI8KqBxx5nXyPMvMtOm6DIpYz7eX33QP/Dj2LoKUepIAFWzIisX/uYc6GsAl7w2qMS4R1fHIx9cuYAtPROrF/5vm0Wgq9cM3XIKJ2aIHKvPsGGLY5NWQpx+wYf8KLN9bYMTZFIuCk3dgvhAlQflPbpZ60o7Xu+k74cIyc9NINB7S81TXFQg6tvj5PIMT70bFhwt+XCzUOKfO8dNUcS+9hWIskn2g+SqdD/yiLBG9jJqRMB9uJbaM1bcuR//6d4OFnAV2UVd0bsZtWscNQAaUSrWJhw9bxJaduJI9IYur3o8wBT5lo3Wqm8XiF/Z3E8yKYn6WWN8dpoeZHuVTBKI6zrQDCF/6HGk+Mq4kJ5xAx0OtYFzsiab+WDuKBof6pIlYQ0VLoBq1I2YssVX6zNA6icrLCjeFBkpE2g3ugth9xFFi4uzJspartFrGU+MPq0+sHLNQ7KWkzFDlk+nAuB1JFtL7rN1ZXxAu8KZdZumFimbBQ1gl0RAM8QXISoIqM7LZA/3A/gqPj7QIVPrZxC9/dOWbCP2uJ4iis99KZe4dPq0C/djq6LztZsv8mgpCUZ/p5+xLNp3Ad3xniUeYy/n80u3b2MUYrBBzK1/msMgWOOjNiqGRSdmRKtBDFYEnG9nmq+9izEHiBVFfLoKeV7XRVnGqNLJn6tcNcPov+umGID8fPlF8uXT4KA\n"
     ]
    },
    {
     "name": "stdout",
     "output_type": "stream",
     "text": [
      "https://adcr.naver.com/adcr?x=oll2QORuxdEZ2duQAgvZR////w==kace3JNMu9fJwZmeJd2vZgqbKfHTaRI51zg6UGUwotwZRI4b4FYHFyYp/0x48XE706RQ1d+UUj0R8A0VdI7z/hQ2MtWm0shbtsiBy+rDThlgz6uKoKOdfiMg2zcu7I5KVDXva0rqkF3pNRhyV3ywMmG0cacsLHgMdfNuOCePvUmbveRxoUSrR52XL5Uu81MW0fC/EVcL01BoXLTANJ2S9VZeE64rFbOfjtDsXo+NpIwJNWuBeKQrVuAeJEiVd0yJxDCSF5QnNz6hAZ/6gqSpMm4Ult6OOxVV9HbQQxE6bZNeEb8aaOLbo1SUj1pIfEGGyS4OQlWA7gA0TCrc8xVEls06zXmxbu8podQ3kZAhUPN+dkZsLD7LatVhZsj2tOPq+sr+DAvsk3USp8unY+9pBY+poX5nB44aEiFwj1Bsbvt9t7kqCA63gAA0K1l2ukanDyJ8o/I2VdpBNtpDAUawkZNAN7I5WAZU1cCgxghfxklqTUnWSrXAWcco6elxSWP34L6wjCERrQBMhSPg+7zQb7Y4eml2dy6W0WJj/7Fdl6DlLshUMiw4Wk8vgW9ZaN6Mq62FRVzD3Vc3/G3n7xF6RvcT+idWBhhRczMpwloX1KogJMlgfWxf7tPVNWENtOvbgGMt8Ep7R92TKtWD0NkqMTZDr6iYTubU6Ez/UMGfTR3ZAXgz7lMbyjOqPD+snfZaSJFAE8LNASSiyD+mTQaUOMlzFhFBCb+upowAgGOnIgE5zWHs2VoJI/R6X7DCUVONy9zzC5AQRfh3100KZzx2sRKezyWyutpydnO9Efy6crwT+EcRJfKTfPNi3fDyoAlEm6SV3DHdGCwxGKM5bjJEBNYkaAK96TYSv6vPSuqqayj2e/SVqB/QKWP23jK85RNsNyBegiWgiToWoD6qKDJx4TnmR/xWn9i17yD3QaI39QiX9Wl++CfQS1U7zybbUa7GXlBCy+4wGbPx5zv9xE+OkyUyE26bt5B1ireVVe1SkD4qIVuFCelcL0YonF9N+ac8qZDmmR2l8aCX3LQ3znUJYXQ==\n",
      "https://adcr.naver.com/adcr?x=ocwUvzRxvbsvAWYz4pu6rv///w==kBU6ZuNY6FYg9+Gb/J7/fRINnoeDT2Bx9bdvVMdQwm5i9CMk5CkFA5GCDm7lXG2TSsBymQsl9l32uYuUohIdqgo3k/PPFT3IBwS45eFOwXwpnYYcdoaxj+eLpJuphUunGkJytMDtzaCvg9YrDstHz2Dcb1A/t5yXqnHg0iuFSlCHu6WFuqf3vvR+eKMB5OREageP/tFVU3a88taLM5lFtqSyzwV94JjRyldYjaIpX07xRoSZ9pXCpvvUcaKb/o7tyFiC5p+JAnZ/C15t7n5dGkutaPCsBIUuJjX+V1hqWkvwVBrxMpdmd8I/nGxe7eL0C39IO6v12Avu567TCQAY3pXJ6RKbjIMS3DkItPakIvZuYkv7qF9FuIqOu+M59CNxW4b+tYCjP94mheNvFfqDVy9wdv7bJLKbJzEUbazjqiRJ8p/Jjl8PaTZY2tiWd5+ju0430RI/SXZF4/4eiPrCQQgRe1r9eb8heqCahq1FSz/VB20641vugkjP0qHr9Vszw1q21/yHTQOgdHuOlj6nbNojPmb+SR4BdltUsDkrZ/t/e074qO6Llx043/b1oPV9Hthoh8yL6c0nGO8qLD5UIuXOrN9bFuy9cq6zSYuWwFZsStOSZAccgdvO4kXCX/0f6Bj5sjp9djoMaWW+diLBbPDVs5+TyHC/kI0vIQ0lUIgtcsaTY7ahQf+cRs/9khNQUW+TBswI4K9LJFq0Tow7QBReLZQyPDaNhJUBMPeE5pECLTrYQdrjn9pjk3yeDN6IXRZkErljBWXsfqUbnWdvrlja5SZf2WKOtkiJYX63H2noEwsrH/L+jpqJ7YQT0wPaiQ8o/706BdtRqQ6b8rBR/lxXZV8DiPRgcagyNQAfnbD6ESxEG8v2NLIijYPLHvNpq5/g6wEd/wj8TJJvq4urcekA8JOlb68rEEgs8d967R/FmlgLTOffF6GXRiq/UhCLj\n",
      "https://adcr.naver.com/adcr?x=Dp+mCCYsvPktVHJD196Qbf///w==kBU6ZuNY6FYg9+Gb/J7/fRINnoeDT2Bx9bdvVMdQwm5i9CMk5CkFA5GCDm7lXG2TSsBymQsl9l32uYuUohIdqgqPZT+6QbupDDui5bz7J6yJnYYcdoaxj+eLpJuphUunGkJytMDtzaCvg9YrDstHz2Dcb1A/t5yXqnHg0iuFSlCHu6WFuqf3vvR+eKMB5OREageP/tFVU3a88taLM5lFtqSyzwV94JjRyldYjaIpX07xRoSZ9pXCpvvUcaKb/o7tyFiC5p+JAnZ/C15t7n5dGkutaPCsBIUuJjX+V1hqWkvwVBrxMpdmd8I/nGxe7eL0C39IO6v12Avu567TCQAY3pXJ6RKbjIMS3DkItPakIvZuYkv7qF9FuIqOu+M59CNxW4b+tYCjP94mheNvFfqDVy9wdv7bJLKbJzEUbazjqiRJ8p/Jjl8PaTZY2tiWd5+ju0430RI/SXZF4/4eiPrCQQgRe1r9eb8heqCahq1FSz/Vf87wE/s9DqU463HzJXLKJ1q21/yHTQOgdHuOlj6nbNmaeQs4JTr61/g7Ik8MZKZZx/1Bf3uUztOAEu1w8bjhNb/0Th1bRnloIouXgGb1+wNncJGbJSXJGU66Cm+S5PjqkpBjoJnEEi915aV3GHwIZlJrUAzgdg1c30Ztry3vEVA57euLGFE5wR6lipLWAWzZnkBpesGABzHbQ53I6XLo5/BJaVQZ5gLBw/2uYZR3uuVN0JxeFbMdL6apXGeaSqlTYoXP6PehxxFRYjk3sGbjW/6AVZ6obaxJeVIWlV87e0Da5SZf2WKOtkiJYX63H2noEwsrH/L+jpqJ7YQT0wPaiSnyVAU6X5lFP78YCV9grWllt9D+k0v39yZ+rvZEWUW5Dy0iqYth37vDKSP9Frv2fPBiO2qphLj4QWkjEs1140mJC0dxQml1c5WDV7dFm1adx6ibabexdU1cHVXo3KgXz&p=0\n",
      "https://adcr.naver.com/adcr?x=Dp+mCCYsvPktVHJD196Qbf///w==kBU6ZuNY6FYg9+Gb/J7/fRINnoeDT2Bx9bdvVMdQwm5i9CMk5CkFA5GCDm7lXG2TSsBymQsl9l32uYuUohIdqgqPZT+6QbupDDui5bz7J6yJnYYcdoaxj+eLpJuphUunGkJytMDtzaCvg9YrDstHz2Dcb1A/t5yXqnHg0iuFSlCHu6WFuqf3vvR+eKMB5OREageP/tFVU3a88taLM5lFtqSyzwV94JjRyldYjaIpX07xRoSZ9pXCpvvUcaKb/o7tyFiC5p+JAnZ/C15t7n5dGkutaPCsBIUuJjX+V1hqWkvwVBrxMpdmd8I/nGxe7eL0C39IO6v12Avu567TCQAY3pXJ6RKbjIMS3DkItPakIvZuYkv7qF9FuIqOu+M59CNxW4b+tYCjP94mheNvFfqDVy9wdv7bJLKbJzEUbazjqiRJ8p/Jjl8PaTZY2tiWd5+ju0430RI/SXZF4/4eiPrCQQgRe1r9eb8heqCahq1FSz/Vf87wE/s9DqU463HzJXLKJ1q21/yHTQOgdHuOlj6nbNmaeQs4JTr61/g7Ik8MZKZZx/1Bf3uUztOAEu1w8bjhNb/0Th1bRnloIouXgGb1+wNncJGbJSXJGU66Cm+S5PjqkpBjoJnEEi915aV3GHwIZlJrUAzgdg1c30Ztry3vEVA57euLGFE5wR6lipLWAWzZnkBpesGABzHbQ53I6XLo5/BJaVQZ5gLBw/2uYZR3uuVN0JxeFbMdL6apXGeaSqlTYoXP6PehxxFRYjk3sGbjW/6AVZ6obaxJeVIWlV87e0Da5SZf2WKOtkiJYX63H2noEwsrH/L+jpqJ7YQT0wPaiSnyVAU6X5lFP78YCV9grWllt9D+k0v39yZ+rvZEWUW5Dy0iqYth37vDKSP9Frv2fPBiO2qphLj4QWkjEs1140mJC0dxQml1c5WDV7dFm1adx6ibabexdU1cHVXo3KgXz&p=1\n",
      "https://adcr.naver.com/adcr?x=JdKTemr7i65iTY3N8IFWK////w==kQhoNpgFgaiBVt93HNPO5S0prF/3tDvXr8V02MDYVbl7GxZIBi+Z9ygJPzV3cPi0Iv/JYQT5A2eus6BeQj/2LaYHaThbz23ToInBqMxurMZyxFhL+HYWWZA83wk1AVfZZz0VDwd/Q51Ogsw6fR/MsXngD3pphJr40g2jNtYSqbE55QyrFHZo30Yy8wVhyVu4jPQ0csQC4igrwXg+uFVNK3Pn6GNq8U0v9EaQZm6a8Zda65gNuSyeqsrEdgVzeSLWr1PWkyviG41eWo/yaaoKpTY1cn9qGLvmJ0leZJ0AzFPqZGa2AVPG1PvdvlGyxCsXDdHs8ZK+LBWlWDZWhI+OYvl3UFbX+9h3EfD0TJvGJCtPjg4xCo9wRsr5ik17H38506xRW5Sb0/uHihSE3odTWOvhVKq2RpMN6sE3ybKqTFb3S1rzet3fJome3i+VeEYEvnkzZ5jyugSG1cuIrsywB/4eIAnFLQWSwiaOD1NoBJM7HJhaMmpai+MsKgrExcvFWsEvmYF0GQV3/2IM6rEoULqE04sshoJ1+MnwOkUg3LuO8dNWVDYILIOI5OgFHWXHxw6/miM3tY+fl6tbbroakhD9v2nx58azpuxxPc1BgW4BctN0sEFXBdbAgSBhNgXoJ6J+zLhjkdESwcfvfLGRSGRXB/cSnqM2+0Wsjlhw9Qd8YUmXH12iw/0K83P5HZ3LgD0qBJLsKhP5qPTtPL3m+2/TXd313b4uHhlCP6Bg16B0+MKcBOCR+EkVo4XVGbTAkNSL+vH5qokoXdew++42r2qqgQa9H2n5vnqIYqQkb6OVFAB6LufNwrftF1PXqC7zYWTY/Rx9G5Ve7QlrpHbUa37haFUMef01wJXS04CnkWYJsMOmsR1Q97hDQjrgESIJujkejNn93QJzQk/l3iJf+pTdMOYdFMcocOMHuf1Y0E1iKRqT/1dDZQVnhU32U9CdFRMjUC2sdpNhnSk8xIBSmiA==\n",
      "https://adcr.naver.com/adcr?x=KInGJfIo9DwUb5fTbwq01P///w==kD7oXLgETaSdMXEX5cXueg0neQ+w/eucH9N3jKtyHtJOV739un5f+zK4KWyw8qAcTkAy8dFFy9cTLwWbOPe83MhCD/NCl+OlpP9doWjJIZbbvLLnjj4JHJ4exBVaON9FgXhmEAtP49NyzvwhNpX7EJTiIo4iLgG6zR3p+KO7zGWbcAobRKG1JdZLjHbunYPVZPwfu9KDhK7vJMwfaCmF4HNan6k3MShtlh7kSTQLjjCT8uZn/QfAPMdx0g6LZgf0cpBRgQuDhPePPuAGoxkPvaVzn8jvLHCq+yIWhfDwcbsUihynF6pxrFLjaKDNYIbk02yrtI2+JZn7WCalL33ANFH2elJOJXNo9bSu2byIxMMZTesA0vjD1ExB/+P1uam66Aeko3e5SjWPjmWg4ANS6klAfLGCzvQ1dNzUSIvm0yVqEzWlRd2j9p4vrULzMTpKzigEtEKAgGMvArDXb7rkxqpYI8jogwpvtcoQ72p/p2USJc/z1ZekmJFk1m0R6mNZvl3RGX7MrhgSebhCXCgVk7oWuVKt7G9BO/fHkaHigb9cQouSNoX9WlOERYixzc2cI8HVQhTD7Cy4jsxzFhHu4KRa6OWdhlDHoKioIuZhdqUCBh07VkLhVPxSqlYDcCZlngx+PGuIU2rKc/x35gnS7cKJZZaoFcxA8WR6TSFtEyIQQDJWbobdSE4wUv1hFXKRP8yqx/NmoU+ShbKlhZixbGEVkeopS8jtAR0CXSlUQpYy0GNdwdNRubespgrBDkw5nM8IoK6GI69S69Sp8dhOVNLZKSR/TVt9wBvwKn3SVb6GPEtqOSKaL8iVgoaTnLAH6io2vnt1IRP07/G3uxOR0iizhWqxSN6MxUE/NLMOhnJuLMr4t96QEvLgrP6Ttk9VLDeofPLy1CNxLewrQcm/7F2Z4i4LEeFGUfhzv6p7KZ9nXJuSKxaV+yfF3BMeJa516hHd052uugD1nQIpMXnE2gQ==\n",
      "https://adcr.naver.com/adcr?x=QHYf57vRRW84pQl6QFXjNv///w==kVi/Zb44k1q+3PyZhrflqGbK8Kl7MvYkomQVcbtjqzTRVluSfENkdLKvT57OSOT/5tV9KGlo4OFn4XlI3rwdZsYOPEWnulbga5ORdxKMswlJ3L1DczQmmZbB3O0Ag0RSYwk3axAnVLrU3elsnL4oK8EyK89AWHLotJicbf14Ad8LFHUeJflUvBxw+jRfOXohUTW6RqAE+p+z8g18AjmtettMOT3IsmHOZvMhm6lkDM9VOEXcffI+vbHzBHjCFqyv5V9NUzK7wQMqor8/hn/1G/nQcNlxObQD4umMqyHzu5xSTNqx13BQG6fIeDGLGoreNpfUSAat4SJoEDSPffwHpPfinayaGCLJgwZ9fDNLMIpDgw6glLLikOUDREefDQWeNIlsREgxUtkhiIVD5FO7XP5J2KP6XfKUmMO0Et54xo8lG66K1KOQPaYgsEB5HBJ2pKJHXhCWMohCUMJ8mLJj0Y6LG6Mvj+LgTxTNWI6/fNeSX383i6Ll8OC5vveHHn4fN9t6o3Nk5rOhWBHuz/ToH1MAAeWquYDh96MKfckSsfiVclfx4qDpauJZxCqdXBI+4PGf1OsJnk4Z8nqMIQ+R74VPIyWOD77W74EgAJoZ8Pwi64FdIfeIXQ1hTQOD1kmVyPKup3EcHmdYxFse9+rLTuHoQSf6uLCQ/LlaRaxKrZ9r3nw8OffWeY/BC0duax/oklvmXeVbGPwm72v6C6bWGj8OdgyKrM8IPjOJR/Zf6eKbGr6bRVopPyHj7AxauUP/jWhYU6GyzwSmpxLxjM2QqWIv/L1jvR/wc8E6xlUKC/oM+Ojt6RKaqeUa5PyXTsSRU4NE5ByXzcFKLrBaZV7wN26D22fcs0BIH/MeFwQ9//9vDHjymrHNHjb5+fbWb6yb3eI+W9YBB4YIOzpKG8Rz5+upzTXtc9Aczy5OklEtBUT1yt6tK9rpuEccypujGSmsDw7g2mo+ak098sg/9mMhb37Muia585QnH6V4ky7YhnkJG4MPBNEbtZAiUbtnWrhEyDhpAOtbk3PtGHoERp+rncw==\n",
      "https://adcr.naver.com/adcr?x=H2vYZ9xbbt303IequRPWOP///w==kAafJKtKUz8BH/CGoN6nloBk7t9guSCVG0baMepN3kWSg+DYt8uUbdRStPC79TfoEVX+lik2sABo4JVzfgSRL4kkxUNrTauVS23ZDSoTLk/5wDNLiirft06FaVZAdrPPnYHm6uHuBFtTmTVsO7br+TngpRXE7LXaeADCJD7520atdy8RCkVhrMvmf8EOnwCTM3/fIILWTvHYpoCDi9AN9cZPcjag6vsYywGuwwH6xNUlNCteLcQWMELOuQxGIcOhMqpib/alGSd5BoxAhxs4GtKiHNkgJbzGUsjgHklgOuNa8k7oW23YPpnWB4uijSSRSar3wzVe64PbPDt96eUNETLwGbkr4+J4aF9MWxlPiO7+KqD9/njEn6M28tQrj9/gHZFSmwufS+zgntL+lcw44JeNdD8lc+f4N4XVASUheX+kfuC29Gqcq6YD3Xj45x44ZJ2LBSpG4jRP1pKbCKXUYHYY+meGCB7D7RvnBQZK7OoNuKRkODNKZM1h/cr8iUD+sWB+oZexebXMEp3xxOb8IUaEvpv7Z2FT97RpRr5wMTDklwSZUE9wK5Ll7zt2rdIl024yrjy7m/qkv8t79HmMn1NT8K3GA7Vml3+CICc6Qj5NSUOdboBIbCPEqVS3tfArpiEzaJ1FfklTRp7XEVnDpyLPPlVrQCIuIS6HLd0w4vHV1cyv7XZvriJplI3Vn1KYhHMN68ea2AkwQ1TItUVneOTGCUM0uNQyqRsobsstXgxN29qFM5sqbBlAjjNiOsSedzDmiy2ZLNeNHppCQXlUhkm9SgLzMjE33MNVLKZaCe5IY9rgfTGe9kdDpe4anXt3bjUrdpxXhBacvK9QmVEGXLO3u54sLWIHxAReITqzVri72n72yWo0/fj7r/JMAFHxx4QVQwXvcblmoYZOAYMCspzmaEGZbROQq/rd4fQ1bncAhMYrFa9gili8NJjXum77P6qJryaITuV7wdA1ZTvQkzQ==\n",
      "https://adcr.naver.com/adcr?x=wk85MXzn74kjQWJA74MDB////w==k0knjwa15Y3LSN/H4wiCeaDOXH6nskhUFL+KEFdvl+ErU5Y7X9SKuz9BZTbGMigki1mnrk5y/Cee8HCdy+YuwMjZIdV6h7ubCrlvbtqZMs7jx7HD051OLlGtbh3fkDQjlqTmlyfiqjK1z3tmIkiZQdMeZjjSIPHw6AWM8KXV1THkjP7IN1GKkrB9Y6F59xUJNoiOpLFui73zE0dES9MK4SNahZ0v4UoFgeroVfSKpBt0l0M9Wr5iONEicbdKRld/v1UGx3UZ0FD4emSCToik2YS8Rk8Vxx9aIksFVmdxEfOKgUoI03DBqi/PfGdlDkLfglUMYHcLZT8GMHWmJe703kImx/R5f9MoWtddvo2tLEDDu8+Thns+iwwwiZtggm3PZsgautxDIg9jde6o9bpxtLTvzobdOOu7f1V+sESFTN7dtNpOZ3kOUweCMa0K8gUVRkS1FjURK292hfm2sO52ogVPM54YMS9XWhjLESk/NAQE9DeWAuQpKgq/wWuch/uk8uuySLOFZznUoW9FixU6jrChlXQ13uyBncrqElzlPLrpfyRer3JKpAopF7l1ZYGKNtADkTYFJS8NczsYynWlJTtUCIBMeFUWKChhi6+iNpNsO2jZASO3eS2Movn+jhQuFwACiTrXHh1Hxc0Dhh0d5kFSXJR/ymi+kRgXvvQnj63cIk6IdKmknYvZfuM+hfpjmlpzrySblNmE9S0Hi2CX6mlIZMIAcg2wdj5axwa7R5yxhuKAmBclGSLt/QDGrgO5xQmTHy3V1LQCvA0MH3C1WUOhlJalQC/911eFT8XyOFFI/ezzao+3lAiE6HSpcr/IxSYHQtUutffYD2DmMplM9d5zbw/M+qrMf90/Zvormppkgl2HAdliDKPVzAGH4N7IJ\n",
      "https://adcr.naver.com/adcr?x=YXZR47o4yapGROu+LmcSxP///w==k0knjwa15Y3LSN/H4wiCeaDOXH6nskhUFL+KEFdvl+ErU5Y7X9SKuz9BZTbGMigkiapDmDPzuOWQQXs7TqF4tgjW30gehxJRnvVp8okzItBUaV05WjratuXB28uBqM9CYSVz7dGgeFYAgexI+LHVScMCNOH9gJqXM4sBgSwZ7YgpFVUanBf8N41rPtOB2BK7i33NgAmell+mRy7pQho07Mr+KElsIHvLXyJYxuuelUba6uGk1vh8NNOxDV1OhAE35nblS7Cp73UEe8/EbOi80N0204mpD+FgyAlkpTndnnQFWQfXc7BgUAG3cMDoPFYwtasqiEd261WZMVZ57gTl3CqpeEvNu9YHSfu8i7EOD0DiFzd/UzIc7fVZQ4lIIRE3XmVOBOGCeBup3FLdj30Hwr8cj6STNS1JTOsPU3JC8GUERhiZ2DNDKKrMRuZDQY+bN2nA10kKNDlklgcTgZzi+1Ew9IbEw5bGj5p9/hNuyql5ks6zIHKG5GtMpbZUT5QsYamCOuNlX2JnsEXuJPoCWmjVT6tCoNdebvSRz0MzcrpsqeYmSc2tKp5XpWKRekE9s2KUizTo0YV++o5jQEfx9NqewQdByMSeJapsbgwUR2vfC+Z1efxZMgkTxo58qbddD8udEcE0tBkxUgDOFPin4tGR/RE2QZ9bkb7zgPHserbvRBk7tv5wELF7Kn1PQcgFXgbK4iFInyk/dnD93LwuBmMbwKf3K0fHDa0KmlrVjNjD9RmFwUpG4trr75JHAZM8Oj2Y7yO6taLEEF7jCoxXaI9R5PVxgJsgX+byqkwCzis/HPcpx4L9EdNTRHXCU3xl5+y9I3GDgtWPXfGkub3P07907T03owYRsXuWwDj0EB4aviarldrXDpHbej4WJJ7MD&p=0\n",
      "https://adcr.naver.com/adcr?x=YXZR47o4yapGROu+LmcSxP///w==k0knjwa15Y3LSN/H4wiCeaDOXH6nskhUFL+KEFdvl+ErU5Y7X9SKuz9BZTbGMigkiapDmDPzuOWQQXs7TqF4tgjW30gehxJRnvVp8okzItBUaV05WjratuXB28uBqM9CYSVz7dGgeFYAgexI+LHVScMCNOH9gJqXM4sBgSwZ7YgpFVUanBf8N41rPtOB2BK7i33NgAmell+mRy7pQho07Mr+KElsIHvLXyJYxuuelUba6uGk1vh8NNOxDV1OhAE35nblS7Cp73UEe8/EbOi80N0204mpD+FgyAlkpTndnnQFWQfXc7BgUAG3cMDoPFYwtasqiEd261WZMVZ57gTl3CqpeEvNu9YHSfu8i7EOD0DiFzd/UzIc7fVZQ4lIIRE3XmVOBOGCeBup3FLdj30Hwr8cj6STNS1JTOsPU3JC8GUERhiZ2DNDKKrMRuZDQY+bN2nA10kKNDlklgcTgZzi+1Ew9IbEw5bGj5p9/hNuyql5ks6zIHKG5GtMpbZUT5QsYamCOuNlX2JnsEXuJPoCWmjVT6tCoNdebvSRz0MzcrpsqeYmSc2tKp5XpWKRekE9s2KUizTo0YV++o5jQEfx9NqewQdByMSeJapsbgwUR2vfC+Z1efxZMgkTxo58qbddD8udEcE0tBkxUgDOFPin4tGR/RE2QZ9bkb7zgPHserbvRBk7tv5wELF7Kn1PQcgFXgbK4iFInyk/dnD93LwuBmMbwKf3K0fHDa0KmlrVjNjD9RmFwUpG4trr75JHAZM8Oj2Y7yO6taLEEF7jCoxXaI9R5PVxgJsgX+byqkwCzis/HPcpx4L9EdNTRHXCU3xl5+y9I3GDgtWPXfGkub3P07907T03owYRsXuWwDj0EB4aviarldrXDpHbej4WJJ7MD&p=1\n",
      "https://adcr.naver.com/adcr?x=9FowLWpNVBatS2Auo4RYMv///w==kKu0xgmNPMrG3Q51rUKoCy3ungrRHI44rQJacYwq58xafMctgi+auJc9py+NtmahBMHbfF7HLRRR5GUv4hiww+XX2gtcWMJrFrcE2NdOoWYR+kfJQtyXDSioN3e4uGSqV+EqevC/TDY+SdnVjZPRrlLWqDpJYB8RpkWH4Tr3cE/dK6DZ9GuxH/7GsMiH1tdDTFBkjljfAr7EXxCv2SfseEgFQ1gTt/yrhXaJizd68xlwAZkGw6Rq/gJ/ytPy6xnoeFs6l74nFe3DVmG78roi2getgtSLoDeP7w6szZv6e4zYj8yUd0WSGjZqKwyk1upaH/vHW08zhcPZTa6rrVvdKH/Vqryc+CLQ3Jxv5KubTNBqDTLC5dV6853w/nyvUZaPjrW9uY+4c1SMoyWWXBQnIQkBdpAZF5aOJc85ezJTpnujMlgg+xoNpbnRiStT6zzLktFbwtExosMh8Pdaa9EWLp780TxWGdczsOb9//Ok8EOzpdLqpl8w3qENV9L+LP2gkNzU67nyiaZA8bUajA9auNh7CEPiRyXbAT7+eNVCmVv9csZlWoLbDvEROSCyxmLL8EB2Z8ioxByjYzXJx8QK921b2qDd3ajnJ4ifTeRH/pZ+eM+jfW7Fowaqdi/0CJ9OaBt1b2Dlj4/eaISHUPrDIspnliPjbFiLtCsw+VPAOk95E6PzRYVP0xcDFceLbRVb4RjJR1I6Dkxyk2SuMFyv8KNWFzh7dzrTDeTBdD7r6hQvL+QlqOLJ/O9T7k5a/gYRUb2ANPlqzfTwi8Cdt+TgDsss2sN4+I88umxAy8B/IxPi6Waxgl8Z6Q4TqPlqNVCsRwAdVdhnpc4bEXi3Ymo2DgMpR/QnRe3cgeV/D7via7NyEODr7m/4ADjecHkgQUPFs\n",
      "https://adcr.naver.com/adcr?x=k7cpuLJ3il2+ocIer1Ve6P///w==kKu0xgmNPMrG3Q51rUKoCy+WkHiUiU49ds8LfaHU5a3Yya78/U5K5+nZX7So8XPy54ON8aG2l2PcXRY1xESVOzONDO49SE6DsWda0N3pJFNDQbIi4BWTPN6xbpnk0vbeM+gFbc6H5Nx/lG4y4jS5O9Ar21otI5pLFNBU9/v88oO+lzi9rjAAgK00a+pSURZjl91TUDpnA2L+2kPTaNQ5vF1rL6Sq/D+EOkxWSJg0b8P0NtyQkbNFGCa123RdKGk0KPfCXI0Mt1T+lOVm+JHkFq+wwOcNBEW2knjzQrc72wnqml1hTRlTevjHEl/E4LBauJDZFh1+CaQfJWEhOleooKae1lbOZ/I5oIypD7SY5udk95kt4JGm4zi9DISm5Iui1Oh3BeohqsTJJZx6VPolSnxpnGoeEHdLrnTMqoXd6vbFgGBu9FixVVTqnF9mC8kzZ0BYqLtDAsezI44arWtBCTHaLF7EDK+TsJRXais6wLnFP8MSojgII4mBxhqoAaRGAWjauSB4CcuGYCDXSCK1kTd6therqVu/ICZkcZJFkYXQL2M7OXAG+WOmqtcq4QXWVWf7H3vxkT9+5RZShUfg2GyRNANgfapyGIztblXE5qgAZxZ5wiqrnMj3tyL3QWaRjL2bA+GJTeg0oZD/pYBNzVmNXukoJFrGkReSM43+WwNNLCMMumDgzu+Uvh46O9IpIYoBPUXTDABxtCs6GAeVUxYrxlkVRY+LaTAoWnad0FrJCJwc7YQ9BJGBwVwkkBfhEtpsq+un04WToX/qrLefUS4UrEKdlYDwPzXx7Jo/YH7uv16swlQJiBcCuUjSFhdZsHE20athr8Ay/igCBQ5t+OORrxUb974VIpKB9POnZNkudQEVRtnfVXWVP2UuULArq\n",
      "https://adcr.naver.com/adcr?x=tpL56M9U00apwCFQwJm3tP///w==kKu0xgmNPMrG3Q51rUKoCy3ungrRHI44rQJacYwq58xafMctgi+auJc9py+NtmahBMHbfF7HLRRR5GUv4hiww+XX2gtcWMJrFrcE2NdOoWYR+kfJQtyXDSioN3e4uGSqV+EqevC/TDY+SdnVjZPRrlLWqDpJYB8RpkWH4Tr3cE/dK6DZ9GuxH/7GsMiH1tdDTFBkjljfAr7EXxCv2SfseEgFQ1gTt/yrhXaJizd68xlzAyZyerh9rVXTg2F7KyedcLaxP4RmNRqeLaYF5+UT8LWUQoePvIFe7qYh4PMcPXAYTq0BtqN7VyETJ7av5W0BgcVCh4+EYEn4mA/PH9NoUHRbaJE6/vuC8DRM7t+5q2I3yEEat4VjbJ5MooHnf+ym/YX3J8LlqAeh2rHQDANccakSCPVBr5o2Xpjicv5DhdwzxHqEfgyiFvFwS684mCPgpyGod6+wzE/q5Wv7ZgSdJranJABZ6BbF8wSItT0lFXcES3RoyKH9DC11E1VpgJVi2TxdMWpQnjpX/r1+rDvIoqCBy3rFaHn1WFRaObPF8o2NwTxyvDusK/4lO8PCMCxB5yLJwa+e4ssBVTP7eo5obl0RTpz5x/Ag796xMj2Z8N+wjfG9HTl2ToXEqmzk65lPNo1RJP3j/NESWw8IPaSYkVeiXGl/6bWFlnp6Tin6zRnXn8sxKhABEGZvpBxlNm/0UaCteD31Y0AhRFb+ty5kc+p6VeZRJjvPw169FQLIPm74jZ5gEnu85B9F2JDPMg/r9Jmg3pDn3liDdm3gB13ZRgx8S9g7jR0hmRowBQ+GesD0CAqydzy/JoNr3cjLHPEXpIQk1JTFhrOlx+7piNiOG+l+Q2JKK9vfXLXhJOKz5i3HCQh/nIlyuBxqBQtvEszO9\n",
      "https://adcr.naver.com/adcr?x=65ckVkPIp1vnFQrQ1jma3P///w==kKu0xgmNPMrG3Q51rUKoCyzfcquKNldhN9NhaTWr4CLxjLIFM3YZ5dYvdn4w+U1qxB5E7/IGLaEIJHx1POaFISYGlz6r3je2f5QPXbWZw4AXN0/kw1EQiqi2bhtoffgt69/dunitdhRPwD1C9qW1k1g2/AoGhVO/YpJMB8DdME5IuOWt9Dp6C9Te6aZNlPoJ3OIaag6oRBC7MCcWkJ3gBgTmPK25Ma7uSNYnDfDUlCPuHPVhD42VLJW9f0NMAT5z2i0t0THD4Tx62CIvTHy1nwg1sir69fC5cdgMMY1bG287HqorquhjW3V4kpKbBpkhhc/Q2/jplgyep1SrjETin/5OwQh5q6PK/hzshsqfZHCBZzcdYHmEjLR4d1nDy3l2hBeJOFWGIfzEsF2ZdKVs08lKrnvCQVohm03sxA71ihIslrU4AyRgbCv0tTM8PfLOui41h1V69izEMgoljDjm4rUHkDNoGWB2/8RTm/2OsY6yQrKVOANbnjN2NJ93GMSslk9TNX121hXT5qS2jjsqYNtXOihSUYCvP4FS42COMw67F+HdsvOjEnf+XhoWcyl6sDJiTPeIkJUvFfsQs4MhNlo++tEVDYO2OcTGXgELRCIcgrHn6fThqq4+aXahvh5slSUpXE0APGmb/kdwXhhAd8tPnsCD8L2V+XMNrD2YlLsJ/UnkyeIbbkHd6dveVtAsNkunAaE8o7dDgVEwS/TfnlYeE/bbrBOqc1IJgxQRXakqUr4t+5xy9t5okfV6YyauNLrYbqqBfTuMfizOg/kr3yAywbWgrSiBBnWJwQkJSkU0kj6h6qpilFNrVTKGS1SC4OxagcOvJMBMysMzdH38phNENGsGOjkpjVnRYQBmzaMRRHZSIOoXtKaeI6YNQvGI2\n",
      "https://adcr.naver.com/adcr?x=9WAD2JZavbR8PoDh2zpb1v///w==k9SSBmuSrsoSBbFzglAo4gKxHTQYbs+77+PoBYaLvKrMs+qsoG7dZs+d9C6dSHe3+3wvMCaDiDmr1zgS18IGJhUWFO3Pr4nbKwtZRIA4DBabQypfHFhCzLUWn4T7Yz35nuRBvNTIgWoxUM7C3qgu3YRC0FwozTF/4r0HA08c8u+BXcaTMf7tpxn+gj927a3KBUFNKn8R3/rQdrmBfZ1ielvNlG7BRXODXPpOBRcU9a7M94Ap31v9KJLpg1YMahNG3iaryrmLhqa9ABwOT3ikJV1/b6JkwW9XjuBDcLoyCAxe2aVhNG2VmnEpTur1nCC1EbKJ75NgZQreePmBinicGYWyyz1hJ9OeEHPJ07QWvJwAF2A81bhqZdKcrsDHjS/Ntbhj46uOO88Wf1fF0+/1nGWg0G3PTLMRRlSCuDCu1V2O0Imk/Yh71FEGLH8sl1Ud0H2IgxQ/yMuJtgQC3mHXBACQKs/kNdL4BJvKPthQ1L5MtyTGqC6WnlKZreRRH3KWKtUA6/q4TWMg76VnqU1v32/3vkCsld1sHnvYHg/aCa8+hS0/zh/ZRL8J5dgzVKiSFHWeba7pzHaQoKPc/6pL2dcG0w3bA3Ub7yeOMdE99rjpA4qo71QqtSHESRjTecXjn0Pgoag6Mm3uggtSRX+mAzbYGHkSZ/BAU26Y+YvrC9tkvKvRhv1Znh8Q5WO8VcR6pCxcUuc4jcBvDSqHn1ji75ADk549jiKbsYjLTPC5drx7RSyVYjmNtjknP54tEPQn9JYoyZXwm1zG4C9ThlHsivyGEomvJFL/ESV5dTBdiTyBLaV0OrjrpkhseZIp0blCZo0WkUubM6TQf6mCLcOgXlEK+8aAboqe8SiS+2UGeGgIY7Rr6zjqv2ypL3/rbljOYjjENMH4VQMAmPX4gScdS3kXtNPL/MtsgceGTkFDKl3M=\n",
      "https://adcr.naver.com/adcr?x=+5FhR20mxarxu0veboS0A////w==k9SSBmuSrsoSBbFzglAo4gKxHTQYbs+77+PoBYaLvKrMs+qsoG7dZs+d9C6dSHe3+3wvMCaDiDmr1zgS18IGJhQ8pu2kHDIVre15yCjE2weDQypfHFhCzLUWn4T7Yz35nuRBvNTIgWoxUM7C3qgu3YRC0FwozTF/4r0HA08c8u+BXcaTMf7tpxn+gj927a3KBUFNKn8R3/rQdrmBfZ1ielvNlG7BRXODXPpOBRcU9a7M94Ap31v9KJLpg1YMahNG3iaryrmLhqa9ABwOT3ikJV1/b6JkwW9XjuBDcLoyCAxe2aVhNG2VmnEpTur1nCC1EbKJ75NgZQreePmBinicGYWyyz1hJ9OeEHPJ07QWvJwAF2A81bhqZdKcrsDHjS/Ntbhj46uOO88Wf1fF0+/1nGWg0G3PTLMRRlSCuDCu1V2OwiWZ5cFT8lfA2EGYXBkLjH2IgxQ/yMuJtgQC3mHXBACQKs/kNdL4BJvKPthQ1L5MtyTGqC6WnlKZreRRH3KWKtUA6/q4TWMg76VnqU1v32/3vkCsld1sHnvYHg/aCa8+hS0/zh/ZRL8J5dgzVKiSFHWeba7pzHaQoKPc/6pL2dcG0w3bA3Ub7yeOMdE99rjpA4qo71QqtSHESRjTecXjnkmoriVIXOuaFsDk/mpWhfMZ9g5wE7Of8oipCLMYJwsUuuOsqZ4Ozy/byQOfzRRNDovKeB9yLTQNeJcKFUE5rWNhw1G3vWxTG5NosII7uZewgw256TmzKNzbBR4y43zyhP/mgdiq7gwb6aVEybIT6Yg9SIN9+YBlhyEN6XKA9hHNLaV0OrjrpkhseZIp0blCZRcWH7Wy53BgfKf/N8tEM4UK+8aAboqe8SiS+2UGeGgIY7Rr6zjqv2ypL3/rbljOYjjENMH4VQMAmPX4gScdS3i195kfSqdPJRV2KjkEMy0U=&p=0\n",
      "https://adcr.naver.com/adcr?x=+5FhR20mxarxu0veboS0A////w==k9SSBmuSrsoSBbFzglAo4gKxHTQYbs+77+PoBYaLvKrMs+qsoG7dZs+d9C6dSHe3+3wvMCaDiDmr1zgS18IGJhQ8pu2kHDIVre15yCjE2weDQypfHFhCzLUWn4T7Yz35nuRBvNTIgWoxUM7C3qgu3YRC0FwozTF/4r0HA08c8u+BXcaTMf7tpxn+gj927a3KBUFNKn8R3/rQdrmBfZ1ielvNlG7BRXODXPpOBRcU9a7M94Ap31v9KJLpg1YMahNG3iaryrmLhqa9ABwOT3ikJV1/b6JkwW9XjuBDcLoyCAxe2aVhNG2VmnEpTur1nCC1EbKJ75NgZQreePmBinicGYWyyz1hJ9OeEHPJ07QWvJwAF2A81bhqZdKcrsDHjS/Ntbhj46uOO88Wf1fF0+/1nGWg0G3PTLMRRlSCuDCu1V2OwiWZ5cFT8lfA2EGYXBkLjH2IgxQ/yMuJtgQC3mHXBACQKs/kNdL4BJvKPthQ1L5MtyTGqC6WnlKZreRRH3KWKtUA6/q4TWMg76VnqU1v32/3vkCsld1sHnvYHg/aCa8+hS0/zh/ZRL8J5dgzVKiSFHWeba7pzHaQoKPc/6pL2dcG0w3bA3Ub7yeOMdE99rjpA4qo71QqtSHESRjTecXjnkmoriVIXOuaFsDk/mpWhfMZ9g5wE7Of8oipCLMYJwsUuuOsqZ4Ozy/byQOfzRRNDovKeB9yLTQNeJcKFUE5rWNhw1G3vWxTG5NosII7uZewgw256TmzKNzbBR4y43zyhP/mgdiq7gwb6aVEybIT6Yg9SIN9+YBlhyEN6XKA9hHNLaV0OrjrpkhseZIp0blCZRcWH7Wy53BgfKf/N8tEM4UK+8aAboqe8SiS+2UGeGgIY7Rr6zjqv2ypL3/rbljOYjjENMH4VQMAmPX4gScdS3i195kfSqdPJRV2KjkEMy0U=&p=1\n",
      "https://adcr.naver.com/adcr?x=+JxAkKyqAiPQ7FuKwpa14v///w==kRqE7j3LphJaLgPfDcJAEkVeytaKtEFa7mT386Yl1jRPItQWG/HRk76dOUMI9oUYY+x8FqSMJ3+68xijI3bjkulemKuFccnLnnRAGTdxWCZHrLuUAHd7DqqPqet/96cIIkntG6nii1Ib/nWljJrTnKhfrRPz4izdBGZ2SxRW74dVF1+w2y3rYuW7Hdh7fmm2qMFbLpVtIuCF8fjkGcGZuXVuXacW+/qchr8O2mdI/TEclV93l+CVKhcF1E7t4HAqRIldlToZSHhNbZ8P3zNVnwCF/FsstBspkx6L2USCu7Hkwix0JIemznt4TukOqTzHyJfMgazRxO9IbLJO6sSBE6OekdzkB0C1FXkwPy62hxbi4eG45YB4hKPIS0apERfxbsXf2vVD7HF/FZlCawIrRnAib39+dgKWkzObvZHGDN/sWHjTjr329eE3mdv/a9mHmMY1dw2FmaHdKWriRLfEcr8ve2Jm9UqxaRQHwKpThV/dQm1O65kIlEuyEyTrynSvY3dxjBqbpGzr9me3un397asZP3wvYXZYfWyYQCnGeDor19MT1T724RDwOA/ERzADPiKmMuEdI/CObZWUVD/6/QfED4Jl0gPI/eiO5iFbeUY7nAFW6g5TnisoQlQf6lNY17sYJKkFCGEzlW7mJ2ott1CVAw4dC7D/nrQL391pGCQhZJNm99CpvaYSZVZr1LLWACzj0PErEi0E4C1qCsfzkKQylMtcCg2XIyUPH2bs4387p6mHux+udHwGblndZ6PJlzCp+bYsPg2Oa4LKDWQJMR/OA4riF75/qAbDyT6oV5kodfurcw+lZu6mgkOlPi1ymM1qZPARS0JSDwHUisqsnldwpLrgKaPhEPjOHgQK4b5x/x1J8rKvr/FI/VdMO/2zdcIF7IR6IUYlaD5TxvUPP4qIxTbvg5BL9P7/Dl0gylSICbXcDP5bvq91rjURDHBed4IFeZ8Z4xvT4Y+mvVZX8v1fbyTBOGo4pkRLGxI9jH971lBlla9JKNcoRcdf4eFjVoABIh2kWleZG1hyLqL7rURzgyds7bnyBBX6QHx3bwbKwXuTEEr4czeIH4Eg5+uhI0+VTdnwHyaKfhczFE3PJq82PPdSvlr8Uo8fVz4cmUN+EWtFipmZpuLMJTzJ51Dh21Hqbc1wL7/l2jhn6h2DBJ+X0rtDSrleY0KgZl9ez6vHid+JTYa8h9bfbio3+7dc7MrnZxOGglSDZTOqc2gnn6bT4ng2a2/d3AzaSXvnCtEY=&p=0\n",
      "https://adcr.naver.com/adcr?x=+JxAkKyqAiPQ7FuKwpa14v///w==kRqE7j3LphJaLgPfDcJAEkVeytaKtEFa7mT386Yl1jRPItQWG/HRk76dOUMI9oUYY+x8FqSMJ3+68xijI3bjkulemKuFccnLnnRAGTdxWCZHrLuUAHd7DqqPqet/96cIIkntG6nii1Ib/nWljJrTnKhfrRPz4izdBGZ2SxRW74dVF1+w2y3rYuW7Hdh7fmm2qMFbLpVtIuCF8fjkGcGZuXVuXacW+/qchr8O2mdI/TEclV93l+CVKhcF1E7t4HAqRIldlToZSHhNbZ8P3zNVnwCF/FsstBspkx6L2USCu7Hkwix0JIemznt4TukOqTzHyJfMgazRxO9IbLJO6sSBE6OekdzkB0C1FXkwPy62hxbi4eG45YB4hKPIS0apERfxbsXf2vVD7HF/FZlCawIrRnAib39+dgKWkzObvZHGDN/sWHjTjr329eE3mdv/a9mHmMY1dw2FmaHdKWriRLfEcr8ve2Jm9UqxaRQHwKpThV/dQm1O65kIlEuyEyTrynSvY3dxjBqbpGzr9me3un397asZP3wvYXZYfWyYQCnGeDor19MT1T724RDwOA/ERzADPiKmMuEdI/CObZWUVD/6/QfED4Jl0gPI/eiO5iFbeUY7nAFW6g5TnisoQlQf6lNY17sYJKkFCGEzlW7mJ2ott1CVAw4dC7D/nrQL391pGCQhZJNm99CpvaYSZVZr1LLWACzj0PErEi0E4C1qCsfzkKQylMtcCg2XIyUPH2bs4387p6mHux+udHwGblndZ6PJlzCp+bYsPg2Oa4LKDWQJMR/OA4riF75/qAbDyT6oV5kodfurcw+lZu6mgkOlPi1ymM1qZPARS0JSDwHUisqsnldwpLrgKaPhEPjOHgQK4b5x/x1J8rKvr/FI/VdMO/2zdcIF7IR6IUYlaD5TxvUPP4qIxTbvg5BL9P7/Dl0gylSICbXcDP5bvq91rjURDHBed4IFeZ8Z4xvT4Y+mvVZX8v1fbyTBOGo4pkRLGxI9jH971lBlla9JKNcoRcdf4eFjVoABIh2kWleZG1hyLqL7rURzgyds7bnyBBX6QHx3bwbKwXuTEEr4czeIH4Eg5+uhI0+VTdnwHyaKfhczFE3PJq82PPdSvlr8Uo8fVz4cmUN+EWtFipmZpuLMJTzJ51Dh21Hqbc1wL7/l2jhn6h2DBJ+X0rtDSrleY0KgZl9ez6vHid+JTYa8h9bfbio3+7dc7MrnZxOGglSDZTOqc2gnn6bT4ng2a2/d3AzaSXvnCtEY=&p=1\n",
      "https://adcr.naver.com/adcr?x=RG/H+7YxhDO9qFgFZgnxfv///w==kR6z6KGTm64ErdM0c/J1LFxYownVQJfw5sBPYZv9RPKRZodV8PJRdOwl3DqAfx6LkfB9no8lBdMfYhz87i6qa4RMylh4M1hTb6O6yXdl7I+EOSj+t07xoryD+MKO+aG0ejZApFuKoU7HviPk0UHdJD2UcdtNmmMnberYPNeaXcZdKz383S41LYKtI/Rgl+mwq249NZoLvzJBg2xttdAfTZnM+F+rbZpsLqeWmd9ZY7sJ/gdF8deHQ2ICa+Q+Ey1Xw6UzTObSDQXLhIpWxzKuGL4YNSYBEuwZS4+X5xJtaka4/qNW0lOiUW37SxsrmqcJDLx+8nU2Io+6+bPnKfwvgaDgm+UGVzbkAn8jbH0SskolseJLzpHRcwO1o3/sd40Eqy/i4llWwuZ/sPzL5/x1Iatsp7jq4j40cS/o/Y6tfrov3kSJwGloqSokT2Fmi1pSB8yzNw2cHzJ17QuDBs8PHN8zlNFEqp7u4eHkT/KaIrUgadqh+V8kMj2L5xdVgHU8M2AuKREC00/2vNpD62RvjhFFEyKoHzx3lyOEwrzVYzLLS+I+sJO4syxLCHAzH41ysre7oj2+f31D7f6nxiNdd+dzqCSIPU6g7wlqsAcwDPD9koD30tdU9BkjGwiq62TMGpCRZhGaCu1+cwK78ieAnhCV9wQypp2//El2o/nIHTuWFhXTfxXVc+D+qPpcx12cU75Fiw22Uo2g5XuGga6UPY3hfNGt0YNQmu0lwfXRcLOzyTOjE4Wu4uXxqwafjQI6WeG0zdPCu2jZPhn01BA2nxWXa/ykZLjGKb48zV8D7KUvq+byJxEcFmQmclt1wIZ6remwSDalBOWL3v83FoTWQ8g==\n"
     ]
    },
    {
     "name": "stdout",
     "output_type": "stream",
     "text": [
      "https://adcr.naver.com/adcr?x=6q/Xc0uVJyUti/Nw4fpw9P///w==kR6z6KGTm64ErdM0c/J1LFxYownVQJfw5sBPYZv9RPKRZodV8PJRdOwl3DqAfx6LkfB9no8lBdMfYhz87i6qa4T9+MuIxgVF53uIvIKXXeOQOSj+t07xoryD+MKO+aG0ejZApFuKoU7HviPk0UHdJD2UcdtNmmMnberYPNeaXcZdKz383S41LYKtI/Rgl+mwq249NZoLvzJBg2xttdAfTZnM+F+rbZpsLqeWmd9ZY7sJ/gdF8deHQ2ICa+Q+Ey1Xw6UzTObSDQXLhIpWxzKuGL4YNSYBEuwZS4+X5xJtaka4/qNW0lOiUW37SxsrmqcJDLx+8nU2Io+6+bPnKfwvgaDgm+UGVzbkAn8jbH0SskolseJLzpHRcwO1o3/sd40Eqy/i4llWwuZ/sPzL5/x1Iatsp7jq4j40cS/o/Y6tfrov3kSJwGloqSokT2Fmi1pSB8yzNw2cHzJ17QuDBs8PHN4rLSMEjFttrs4chFp9u2Ll2nyx6yxpXYshB+WqOMZN+HtqM7MpEelxL+JHx9b4uEx72Ipx45uBItFmg1cU694sIjww/HvLuWeVjJNcVyXTr2M6S8oa4HvnX5XVFFJPYhqktTQwgKK+n1P21GX4heiZ3dUmhulgFndUM39iKhotaYnx22t77+frohV/WOtx5rGvn0RgPSifqwgcidg1sjf3BaIstafnLbFmXAuSU7e0GpbxxqJVAx11A+C0atAgHrcEgdqsWLDuLdzIc6b6nlh+dos/y53fd4PP2Wi4VzXmGOrpBGNYwvMdlhZrCiKoTSJh1u/6FgZr3gsTSubDiginNDSd0hJICblVUwgiR28ySgm8oodJDfhQZ1IAh3M+dLg==&p=0\n",
      "https://adcr.naver.com/adcr?x=6q/Xc0uVJyUti/Nw4fpw9P///w==kR6z6KGTm64ErdM0c/J1LFxYownVQJfw5sBPYZv9RPKRZodV8PJRdOwl3DqAfx6LkfB9no8lBdMfYhz87i6qa4T9+MuIxgVF53uIvIKXXeOQOSj+t07xoryD+MKO+aG0ejZApFuKoU7HviPk0UHdJD2UcdtNmmMnberYPNeaXcZdKz383S41LYKtI/Rgl+mwq249NZoLvzJBg2xttdAfTZnM+F+rbZpsLqeWmd9ZY7sJ/gdF8deHQ2ICa+Q+Ey1Xw6UzTObSDQXLhIpWxzKuGL4YNSYBEuwZS4+X5xJtaka4/qNW0lOiUW37SxsrmqcJDLx+8nU2Io+6+bPnKfwvgaDgm+UGVzbkAn8jbH0SskolseJLzpHRcwO1o3/sd40Eqy/i4llWwuZ/sPzL5/x1Iatsp7jq4j40cS/o/Y6tfrov3kSJwGloqSokT2Fmi1pSB8yzNw2cHzJ17QuDBs8PHN4rLSMEjFttrs4chFp9u2Ll2nyx6yxpXYshB+WqOMZN+HtqM7MpEelxL+JHx9b4uEx72Ipx45uBItFmg1cU694sIjww/HvLuWeVjJNcVyXTr2M6S8oa4HvnX5XVFFJPYhqktTQwgKK+n1P21GX4heiZ3dUmhulgFndUM39iKhotaYnx22t77+frohV/WOtx5rGvn0RgPSifqwgcidg1sjf3BaIstafnLbFmXAuSU7e0GpbxxqJVAx11A+C0atAgHrcEgdqsWLDuLdzIc6b6nlh+dos/y53fd4PP2Wi4VzXmGOrpBGNYwvMdlhZrCiKoTSJh1u/6FgZr3gsTSubDiginNDSd0hJICblVUwgiR28ySgm8oodJDfhQZ1IAh3M+dLg==&p=1\n",
      "https://adcr.naver.com/adcr?x=CM9zfVyyztwNSM9L1N3x1f///w==kJHSdJThcklJLCtXJkPunv2G7lyndnkXw4AqQoegNtIYzocyAnL1irzPaey9k9lAogtvKlroe+vnhoBhC+zMDwlM1QShFtq0p8zMR4NMR9/8+9/VjELI+FNWiYLLkrfT6zNXoF6qxjlblb0rwB8rNdqODL90cAIh0bKAAuXDSjnA/fftEhtmVzEUBcZCMGZfElnSqKvW4dXMQoW/z0tRjXx/UlsjUWMojK4ITmHxfKy2SssxxPCrvEVy7gUfNeUJ/1d0TmRcgaxjbsM8gO+tf9TIBfWbuzLOduGgZk6hqOo2NUbiVjhHNhf36wShTw84O6LFKadaoo2jOr5F6cxSEOJr9oeQ523jaPtZSPhXd9PQ05qtwNWjsdWO+SXP1BAy8natMmFiiPlZWS5DKUaJN4r7YdtgDLaiNvD6qa2yY/yCRJ7Rksk8nkiLKpvqGmdRGSr5iq2UHnKyCQt+IdTidoJptV76bG1GbizExHDr+jicS2Q6AyWbdd3wGz0ne05sOyj5x1M9eVCwLhW0L3PQazvQW1PLF50ZDjOyszHRhGzDnH4LJb7lHpdjzx9w/TTxfMEP+esaoIuTgJjKVnEVA4wsCHjG8OhoVHlC41yu77ZYqWE8Z8JKueeXtUjrsSHZZn+sdjr5r+gnnGDXQCMQuPv/ekTONIomR24QhFvAgEPLT7RG1XNiy90ZaZdle3CNoLRzUnUD3pNLyMoWETAqRdULy4cXawLzY7VUOKykQjWY=&p=0\n",
      "https://adcr.naver.com/adcr?x=CM9zfVyyztwNSM9L1N3x1f///w==kJHSdJThcklJLCtXJkPunv2G7lyndnkXw4AqQoegNtIYzocyAnL1irzPaey9k9lAogtvKlroe+vnhoBhC+zMDwlM1QShFtq0p8zMR4NMR9/8+9/VjELI+FNWiYLLkrfT6zNXoF6qxjlblb0rwB8rNdqODL90cAIh0bKAAuXDSjnA/fftEhtmVzEUBcZCMGZfElnSqKvW4dXMQoW/z0tRjXx/UlsjUWMojK4ITmHxfKy2SssxxPCrvEVy7gUfNeUJ/1d0TmRcgaxjbsM8gO+tf9TIBfWbuzLOduGgZk6hqOo2NUbiVjhHNhf36wShTw84O6LFKadaoo2jOr5F6cxSEOJr9oeQ523jaPtZSPhXd9PQ05qtwNWjsdWO+SXP1BAy8natMmFiiPlZWS5DKUaJN4r7YdtgDLaiNvD6qa2yY/yCRJ7Rksk8nkiLKpvqGmdRGSr5iq2UHnKyCQt+IdTidoJptV76bG1GbizExHDr+jicS2Q6AyWbdd3wGz0ne05sOyj5x1M9eVCwLhW0L3PQazvQW1PLF50ZDjOyszHRhGzDnH4LJb7lHpdjzx9w/TTxfMEP+esaoIuTgJjKVnEVA4wsCHjG8OhoVHlC41yu77ZYqWE8Z8JKueeXtUjrsSHZZn+sdjr5r+gnnGDXQCMQuPv/ekTONIomR24QhFvAgEPLT7RG1XNiy90ZaZdle3CNoLRzUnUD3pNLyMoWETAqRdULy4cXawLzY7VUOKykQjWY=&p=1\n",
      "https://adcr.naver.com/adcr?x=PTfqlaoFtt3sAW9HXP63f////w==k3So23lqaAmdCYfwN7EkxHKh1Nm+QwAo/mvllK12npcrhODjG94/UMyqcKmfiMb1qdSFOFQrsT31ziRx/MPfbyUbHISJkfpr9iD2Q9bvmmDfKqIdbxL2ubUlGFIV8tUP4pPSkYTtDC8vE2z7fBAmVmaym6bPUSQuEFAC1WuG+RS/8LWX/clz5neIMOwHrJJMgCTbBldYPs4ws8ZvdNSPphadlAxALvrICM2WzIvNVotDaNMXRRMXNgysjfl3NV18G4BsE5LmbSz86n8uQIAFCljlj5Vwancldz40U7EG5yPY//1QCIUnXUtwj9lWMudEFyYDysAxXVefdXqgIoOz5Tw1x6hUtTZiQ73d+nR8sYmf7yaNvtEr9CuPoLebJX5f08llNuu/YBdUfvMcMW2hlyYnQHQry2XvZhohYN4qh02ktQbj3tmfAPDn1AEkEmPifEQBwEYbxoCqq7YRIFHQUHkp8dhmP4PIpCQ/+0i5JBuTEQsiLB1zwi9BMZOijpM0lCJar8BHq2Ak45M59NcnONHJmdOIcIw2By6jxD1kToDUy/7iBTitGuuNn2cwqAhTYz1g2aI5lbNWksifiJP06LCV4yiJhotd3GMtLjEOIfamXhlQHIMlEf8YXn8Usq0ZhKLQsfazHmZl4bpGq7kkGUU5VrZxcfhqcHA/PhXfNDjzni5GptmZpnOr9IanwRnV5&p=0\n",
      "https://adcr.naver.com/adcr?x=PTfqlaoFtt3sAW9HXP63f////w==k3So23lqaAmdCYfwN7EkxHKh1Nm+QwAo/mvllK12npcrhODjG94/UMyqcKmfiMb1qdSFOFQrsT31ziRx/MPfbyUbHISJkfpr9iD2Q9bvmmDfKqIdbxL2ubUlGFIV8tUP4pPSkYTtDC8vE2z7fBAmVmaym6bPUSQuEFAC1WuG+RS/8LWX/clz5neIMOwHrJJMgCTbBldYPs4ws8ZvdNSPphadlAxALvrICM2WzIvNVotDaNMXRRMXNgysjfl3NV18G4BsE5LmbSz86n8uQIAFCljlj5Vwancldz40U7EG5yPY//1QCIUnXUtwj9lWMudEFyYDysAxXVefdXqgIoOz5Tw1x6hUtTZiQ73d+nR8sYmf7yaNvtEr9CuPoLebJX5f08llNuu/YBdUfvMcMW2hlyYnQHQry2XvZhohYN4qh02ktQbj3tmfAPDn1AEkEmPifEQBwEYbxoCqq7YRIFHQUHkp8dhmP4PIpCQ/+0i5JBuTEQsiLB1zwi9BMZOijpM0lCJar8BHq2Ak45M59NcnONHJmdOIcIw2By6jxD1kToDUy/7iBTitGuuNn2cwqAhTYz1g2aI5lbNWksifiJP06LCV4yiJhotd3GMtLjEOIfamXhlQHIMlEf8YXn8Usq0ZhKLQsfazHmZl4bpGq7kkGUU5VrZxcfhqcHA/PhXfNDjzni5GptmZpnOr9IanwRnV5&p=1\n",
      "https://adcr.naver.com/adcr?x=KY2zdJHGqfRqpPVs/7oGsv///w==k8Es3ZymkQxXhr/0zynbIZ3I/jy2h2tD63wsaGJc1Dkou2kyQgNA7BTmEVKMB2ATnGbQx4wNc9o33szw8onDOCOUO9sJ6Fuv43QTCqVpeMlwCtvC96cuCTaBH2CsObdiPk8L5r+3uiTrTjgU74bL2k1rC4ukufMZRKt8R+QdJa9j+S/GZc98HDSuIv16GGsYQ9/GNOobc+8YUQuNKGuniRdCZoGtbQ98kZApQg7FtkEM87gxPKiYH8ibNO/JQR1iWLgPOMZpST032REHYos6JeZkqhakdjMPkIP1DfADX5vmau2097keXWD9In9n6Gxm/0uHgnyWy9/6X70mEFxQftP9djFBIfhyHO75gMpHBPD4CDbrTjxk5r0K9ofZw6iyf3Ib8G8BDIMi3u5CKERxr8FRnyLF6olF1F1kQXXRk9ZvH2YNpXOAhc4yzWRqPU2IAVqxYfS+PVj0P6POYq5Bdz6ZPNfyTKC7hhjxoKDPRLb1qR4PHu5moD+vBNW4Z3lZJn9jk+naiC6OxXASmhNFQZZUA5IBzuK+NzmjplZEXjENd0G2UzczIbGjDTabCOl8RMsy2i4a+pPrknsNduTVsHa1NMawg/8DnQp4RfriWxuWZjxoOoovFlTiUdAg8p9T0lgtvWzMJWtHmHuutSUq/ZZGVIEUn7JbYg46f7jPdUTEVibiudtrvAWJInPTnwN9qIkCzWdTk6i+62vxqUrHNmnCS/VfrHHod9+J3nGBUJcAITnIyDsvgnvmxxVb36bCnbpPf2J9WIPWUuZXiDj5/ykP6/RC7y8LpIbQCRwmH+7mi86MQAcljkjhh/tG3r9m6&p=0\n",
      "https://adcr.naver.com/adcr?x=KY2zdJHGqfRqpPVs/7oGsv///w==k8Es3ZymkQxXhr/0zynbIZ3I/jy2h2tD63wsaGJc1Dkou2kyQgNA7BTmEVKMB2ATnGbQx4wNc9o33szw8onDOCOUO9sJ6Fuv43QTCqVpeMlwCtvC96cuCTaBH2CsObdiPk8L5r+3uiTrTjgU74bL2k1rC4ukufMZRKt8R+QdJa9j+S/GZc98HDSuIv16GGsYQ9/GNOobc+8YUQuNKGuniRdCZoGtbQ98kZApQg7FtkEM87gxPKiYH8ibNO/JQR1iWLgPOMZpST032REHYos6JeZkqhakdjMPkIP1DfADX5vmau2097keXWD9In9n6Gxm/0uHgnyWy9/6X70mEFxQftP9djFBIfhyHO75gMpHBPD4CDbrTjxk5r0K9ofZw6iyf3Ib8G8BDIMi3u5CKERxr8FRnyLF6olF1F1kQXXRk9ZvH2YNpXOAhc4yzWRqPU2IAVqxYfS+PVj0P6POYq5Bdz6ZPNfyTKC7hhjxoKDPRLb1qR4PHu5moD+vBNW4Z3lZJn9jk+naiC6OxXASmhNFQZZUA5IBzuK+NzmjplZEXjENd0G2UzczIbGjDTabCOl8RMsy2i4a+pPrknsNduTVsHa1NMawg/8DnQp4RfriWxuWZjxoOoovFlTiUdAg8p9T0lgtvWzMJWtHmHuutSUq/ZZGVIEUn7JbYg46f7jPdUTEVibiudtrvAWJInPTnwN9qIkCzWdTk6i+62vxqUrHNmnCS/VfrHHod9+J3nGBUJcAITnIyDsvgnvmxxVb36bCnbpPf2J9WIPWUuZXiDj5/ykP6/RC7y8LpIbQCRwmH+7mi86MQAcljkjhh/tG3r9m6&p=1\n",
      "https://ad.search.naver.com/search.naver?where=ad&query=%EB%B9%85%EB%8D%B0%EC%9D%B4%ED%84%B0&referenceId=hXcdbwp0YiRss4TiKVwssssstOZ-238413&bucketTest=impression-neo-94&bucket=0\n",
      "None\n",
      "\n",
      "\n",
      "\n",
      "javascript:;\n",
      "https://terms.naver.com/entry.naver?docId=1691554&cid=42171&categoryId=42183\n",
      "https://terms.naver.com/entry.naver?docId=1691554&cid=42171&categoryId=42183\n",
      "https://search.naver.com/search.naver?where=nexearch&sm=top_hty&fbm=0&ie=utf8&query=%EB%B9%85%EB%8D%B0%EC%9D%B4%ED%84%B0#\n",
      "https://search.naver.com/search.naver?where=nexearch&sm=top_hty&fbm=0&ie=utf8&query=%EB%B9%85%EB%8D%B0%EC%9D%B4%ED%84%B0#\n",
      "https://keep.naver.com/\n",
      "https://terms.naver.com/entry.naver?docId=1691554&cid=42171&categoryId=42183\n",
      "https://terms.naver.com/entry.naver?docId=1691554&cid=42171&categoryId=42183\n",
      "https://help.naver.com/support/alias/search/integration/intergration_90.naver\n",
      "https://search.naver.com/search.naver?where=nexearch&sm=top_hty&fbm=0&ie=utf8&query=%EB%B9%85%EB%8D%B0%EC%9D%B4%ED%84%B0#\n",
      "https://help.naver.com/support/alias/search/integration/intergration_90.naver\n",
      "https://search.naver.com/search.naver?where=kdic&query=%EB%B9%85%EB%8D%B0%EC%9D%B4%ED%84%B0&ie=utf8&dictype=1&sm=tab_opt&msg=1\n",
      "https://search.naver.com/search.naver?where=kdic&query=%EB%B9%85%EB%8D%B0%EC%9D%B4%ED%84%B0&ie=utf8&dictype=2&sm=tab_opt&msg=1\n",
      "https://terms.naver.com/entry.naver?docId=3386304&cid=58370&categoryId=58370\n",
      "https://terms.naver.com/entry.naver?docId=3386304&cid=58370&categoryId=58370\n",
      "https://terms.naver.com/entry.naver?docId=3386304&cid=58370&categoryId=58370\n",
      "https://terms.naver.com/entry.naver?docId=3534390&cid=58540&categoryId=58540\n",
      "https://terms.naver.com/entry.naver?docId=3534390&cid=58540&categoryId=58540\n",
      "https://terms.naver.com/entry.naver?docId=3575873&cid=59088&categoryId=59096\n",
      "https://terms.naver.com/entry.naver?docId=3575873&cid=59088&categoryId=59096\n",
      "https://search.naver.com/search.naver?where=kdic&query=%EB%B9%85%EB%8D%B0%EC%9D%B4%ED%84%B0&ie=utf8&sm=tab_nmr\n",
      "https://s.search.naver.com/p/intentblock/search.naver?nlu_query=%7B%22v%22%3A%223%22%2C%22intentblock%22%3A%221%22%2C%22qid%22%3A%22%EB%B9%85%EB%8D%B0%EC%9D%B4%ED%84%B0%22%2C%22abt%22%3A%5B%7B%22eid%22%3A%22SMB-COVERAGE%22%2C%22value%22%3A%7B%22bt%22%3A%222%22%2C%22is_control%22%3Atrue%7D%7D%2C%7B%22eid%22%3A%22SBR1%22%2C%22value%22%3A%7B%22bucket%22%3A%22T10%22%2C%22is_control%22%3Afalse%7D%7D%5D%7D&page_id=&query=%EB%B9%85%EB%8D%B0%EC%9D%B4%ED%84%B0&where=nx_blocks_bridge\n",
      "https://s.search.naver.com/p/intentblock/search.naver?ac=0&aq=0&bid=SYS-0000000000556230&display=10&fgn_city=&fgn_region=&lgl_lat=37.5325225&lgl_long=126.9950384&lgl_rcode=09170130&ngn_country=KR&nlu_query=%7B%22v%22%3A%223%22%2C%22intentblock%22%3A%221%22%2C%22qid%22%3A%22%EB%B9%85%EB%8D%B0%EC%9D%B4%ED%84%B0%22%2C%22abt%22%3A%5B%7B%22eid%22%3A%22SMB-COVERAGE%22%2C%22value%22%3A%7B%22bt%22%3A%222%22%2C%22is_control%22%3Atrue%7D%7D%2C%7B%22eid%22%3A%22SBR1%22%2C%22value%22%3A%7B%22bucket%22%3A%22T10%22%2C%22is_control%22%3Afalse%7D%7D%5D%7D&page_id=&query=%EB%B9%85%EB%8D%B0%EC%9D%B4%ED%84%B0&ssc=tab.itb.all&start=1&where=nx_bridge\n",
      "https://s.search.naver.com/p/intentblock/search.naver?ac=0&aq=0&bid=SYS-0000000000556248&display=10&fgn_city=&fgn_region=&lgl_lat=37.5325225&lgl_long=126.9950384&lgl_rcode=09170130&ngn_country=KR&nlu_query=%7B%22v%22%3A%223%22%2C%22intentblock%22%3A%221%22%2C%22qid%22%3A%22%EB%B9%85%EB%8D%B0%EC%9D%B4%ED%84%B0%22%2C%22abt%22%3A%5B%7B%22eid%22%3A%22SMB-COVERAGE%22%2C%22value%22%3A%7B%22bt%22%3A%222%22%2C%22is_control%22%3Atrue%7D%7D%2C%7B%22eid%22%3A%22SBR1%22%2C%22value%22%3A%7B%22bucket%22%3A%22T10%22%2C%22is_control%22%3Afalse%7D%7D%5D%7D&page_id=&query=%EB%B9%85%EB%8D%B0%EC%9D%B4%ED%84%B0&ssc=tab.itb.all&start=1&where=nx_bridge\n",
      "https://s.search.naver.com/p/intentblock/search.naver?ac=0&aq=0&bid=SYS-0000000000556249&display=10&fgn_city=&fgn_region=&lgl_lat=37.5325225&lgl_long=126.9950384&lgl_rcode=09170130&ngn_country=KR&nlu_query=%7B%22v%22%3A%223%22%2C%22intentblock%22%3A%221%22%2C%22qid%22%3A%22%EB%B9%85%EB%8D%B0%EC%9D%B4%ED%84%B0%22%2C%22abt%22%3A%5B%7B%22eid%22%3A%22SMB-COVERAGE%22%2C%22value%22%3A%7B%22bt%22%3A%222%22%2C%22is_control%22%3Atrue%7D%7D%2C%7B%22eid%22%3A%22SBR1%22%2C%22value%22%3A%7B%22bucket%22%3A%22T10%22%2C%22is_control%22%3Afalse%7D%7D%5D%7D&page_id=&query=%EB%B9%85%EB%8D%B0%EC%9D%B4%ED%84%B0&ssc=tab.itb.all&start=1&where=nx_bridge\n",
      "https://s.search.naver.com/p/intentblock/search.naver?ac=0&aq=0&bid=SYS-0000000000704658&display=10&fgn_city=&fgn_region=&lgl_lat=37.5325225&lgl_long=126.9950384&lgl_rcode=09170130&ngn_country=KR&nlu_query=%7B%22v%22%3A%223%22%2C%22intentblock%22%3A%221%22%2C%22qid%22%3A%22%EB%B9%85%EB%8D%B0%EC%9D%B4%ED%84%B0%22%2C%22abt%22%3A%5B%7B%22eid%22%3A%22SMB-COVERAGE%22%2C%22value%22%3A%7B%22bt%22%3A%222%22%2C%22is_control%22%3Atrue%7D%7D%2C%7B%22eid%22%3A%22SBR1%22%2C%22value%22%3A%7B%22bucket%22%3A%22T10%22%2C%22is_control%22%3Afalse%7D%7D%5D%7D&page_id=&query=%EB%B9%85%EB%8D%B0%EC%9D%B4%ED%84%B0&ssc=tab.itb.all&start=1&where=nx_bridge\n",
      "https://s.search.naver.com/p/intentblock/search.naver?ac=0&aq=0&bid=SYS-0000000000556247&display=10&fgn_city=&fgn_region=&lgl_lat=37.5325225&lgl_long=126.9950384&lgl_rcode=09170130&ngn_country=KR&nlu_query=%7B%22v%22%3A%223%22%2C%22intentblock%22%3A%221%22%2C%22qid%22%3A%22%EB%B9%85%EB%8D%B0%EC%9D%B4%ED%84%B0%22%2C%22abt%22%3A%5B%7B%22eid%22%3A%22SMB-COVERAGE%22%2C%22value%22%3A%7B%22bt%22%3A%222%22%2C%22is_control%22%3Atrue%7D%7D%2C%7B%22eid%22%3A%22SBR1%22%2C%22value%22%3A%7B%22bucket%22%3A%22T10%22%2C%22is_control%22%3Afalse%7D%7D%5D%7D&page_id=&query=%EB%B9%85%EB%8D%B0%EC%9D%B4%ED%84%B0&ssc=tab.itb.all&start=1&where=nx_bridge\n",
      "https://s.search.naver.com/p/intentblock/search.naver?ac=0&aq=0&bid=SYS-0000000000556246&display=10&fgn_city=&fgn_region=&lgl_lat=37.5325225&lgl_long=126.9950384&lgl_rcode=09170130&ngn_country=KR&nlu_query=%7B%22v%22%3A%223%22%2C%22intentblock%22%3A%221%22%2C%22qid%22%3A%22%EB%B9%85%EB%8D%B0%EC%9D%B4%ED%84%B0%22%2C%22abt%22%3A%5B%7B%22eid%22%3A%22SMB-COVERAGE%22%2C%22value%22%3A%7B%22bt%22%3A%222%22%2C%22is_control%22%3Atrue%7D%7D%2C%7B%22eid%22%3A%22SBR1%22%2C%22value%22%3A%7B%22bucket%22%3A%22T10%22%2C%22is_control%22%3Afalse%7D%7D%5D%7D&page_id=&query=%EB%B9%85%EB%8D%B0%EC%9D%B4%ED%84%B0&ssc=tab.itb.all&start=1&where=nx_bridge\n",
      "https://s.search.naver.com/p/intentblock/search.naver?ac=0&aq=0&bid=SYS-0000000000556245&display=10&fgn_city=&fgn_region=&lgl_lat=37.5325225&lgl_long=126.9950384&lgl_rcode=09170130&ngn_country=KR&nlu_query=%7B%22v%22%3A%223%22%2C%22intentblock%22%3A%221%22%2C%22qid%22%3A%22%EB%B9%85%EB%8D%B0%EC%9D%B4%ED%84%B0%22%2C%22abt%22%3A%5B%7B%22eid%22%3A%22SMB-COVERAGE%22%2C%22value%22%3A%7B%22bt%22%3A%222%22%2C%22is_control%22%3Atrue%7D%7D%2C%7B%22eid%22%3A%22SBR1%22%2C%22value%22%3A%7B%22bucket%22%3A%22T10%22%2C%22is_control%22%3Afalse%7D%7D%5D%7D&page_id=&query=%EB%B9%85%EB%8D%B0%EC%9D%B4%ED%84%B0&ssc=tab.itb.all&start=1&where=nx_bridge\n",
      "https://s.search.naver.com/p/intentblock/search.naver?ac=0&aq=0&bid=SYS-0000000000556241&display=10&fgn_city=&fgn_region=&lgl_lat=37.5325225&lgl_long=126.9950384&lgl_rcode=09170130&ngn_country=KR&nlu_query=%7B%22v%22%3A%223%22%2C%22intentblock%22%3A%221%22%2C%22qid%22%3A%22%EB%B9%85%EB%8D%B0%EC%9D%B4%ED%84%B0%22%2C%22abt%22%3A%5B%7B%22eid%22%3A%22SMB-COVERAGE%22%2C%22value%22%3A%7B%22bt%22%3A%222%22%2C%22is_control%22%3Atrue%7D%7D%2C%7B%22eid%22%3A%22SBR1%22%2C%22value%22%3A%7B%22bucket%22%3A%22T10%22%2C%22is_control%22%3Afalse%7D%7D%5D%7D&page_id=&query=%EB%B9%85%EB%8D%B0%EC%9D%B4%ED%84%B0&ssc=tab.itb.all&start=1&where=nx_bridge\n",
      "https://s.search.naver.com/p/intentblock/search.naver?ac=0&aq=0&bid=SYS-0000000000556235&display=10&fgn_city=&fgn_region=&lgl_lat=37.5325225&lgl_long=126.9950384&lgl_rcode=09170130&ngn_country=KR&nlu_query=%7B%22v%22%3A%223%22%2C%22intentblock%22%3A%221%22%2C%22qid%22%3A%22%EB%B9%85%EB%8D%B0%EC%9D%B4%ED%84%B0%22%2C%22abt%22%3A%5B%7B%22eid%22%3A%22SMB-COVERAGE%22%2C%22value%22%3A%7B%22bt%22%3A%222%22%2C%22is_control%22%3Atrue%7D%7D%2C%7B%22eid%22%3A%22SBR1%22%2C%22value%22%3A%7B%22bucket%22%3A%22T10%22%2C%22is_control%22%3Afalse%7D%7D%5D%7D&page_id=&query=%EB%B9%85%EB%8D%B0%EC%9D%B4%ED%84%B0&ssc=tab.itb.all&start=1&where=nx_bridge\n",
      "https://s.search.naver.com/p/intentblock/search.naver?ac=0&aq=0&bid=SYS-0000000000704659&display=10&fgn_city=&fgn_region=&lgl_lat=37.5325225&lgl_long=126.9950384&lgl_rcode=09170130&ngn_country=KR&nlu_query=%7B%22v%22%3A%223%22%2C%22intentblock%22%3A%221%22%2C%22qid%22%3A%22%EB%B9%85%EB%8D%B0%EC%9D%B4%ED%84%B0%22%2C%22abt%22%3A%5B%7B%22eid%22%3A%22SMB-COVERAGE%22%2C%22value%22%3A%7B%22bt%22%3A%222%22%2C%22is_control%22%3Atrue%7D%7D%2C%7B%22eid%22%3A%22SBR1%22%2C%22value%22%3A%7B%22bucket%22%3A%22T10%22%2C%22is_control%22%3Afalse%7D%7D%5D%7D&page_id=&query=%EB%B9%85%EB%8D%B0%EC%9D%B4%ED%84%B0&ssc=tab.itb.all&start=1&where=nx_bridge\n"
     ]
    },
    {
     "name": "stdout",
     "output_type": "stream",
     "text": [
      "https://s.search.naver.com/p/intentblock/search.naver?ac=0&aq=0&bid=SYS-0000000000704660&display=10&fgn_city=&fgn_region=&lgl_lat=37.5325225&lgl_long=126.9950384&lgl_rcode=09170130&ngn_country=KR&nlu_query=%7B%22v%22%3A%223%22%2C%22intentblock%22%3A%221%22%2C%22qid%22%3A%22%EB%B9%85%EB%8D%B0%EC%9D%B4%ED%84%B0%22%2C%22abt%22%3A%5B%7B%22eid%22%3A%22SMB-COVERAGE%22%2C%22value%22%3A%7B%22bt%22%3A%222%22%2C%22is_control%22%3Atrue%7D%7D%2C%7B%22eid%22%3A%22SBR1%22%2C%22value%22%3A%7B%22bucket%22%3A%22T10%22%2C%22is_control%22%3Afalse%7D%7D%5D%7D&page_id=&query=%EB%B9%85%EB%8D%B0%EC%9D%B4%ED%84%B0&ssc=tab.itb.all&start=1&where=nx_bridge\n",
      "https://s.search.naver.com/p/intentblock/search.naver?ac=0&aq=0&bid=SYS-0000000000704662&display=10&fgn_city=&fgn_region=&lgl_lat=37.5325225&lgl_long=126.9950384&lgl_rcode=09170130&ngn_country=KR&nlu_query=%7B%22v%22%3A%223%22%2C%22intentblock%22%3A%221%22%2C%22qid%22%3A%22%EB%B9%85%EB%8D%B0%EC%9D%B4%ED%84%B0%22%2C%22abt%22%3A%5B%7B%22eid%22%3A%22SMB-COVERAGE%22%2C%22value%22%3A%7B%22bt%22%3A%222%22%2C%22is_control%22%3Atrue%7D%7D%2C%7B%22eid%22%3A%22SBR1%22%2C%22value%22%3A%7B%22bucket%22%3A%22T10%22%2C%22is_control%22%3Afalse%7D%7D%5D%7D&page_id=&query=%EB%B9%85%EB%8D%B0%EC%9D%B4%ED%84%B0&ssc=tab.itb.all&start=1&where=nx_bridge\n",
      "https://s.search.naver.com/p/intentblock/search.naver?ac=0&aq=0&bid=SYS-0000000000704657&display=10&fgn_city=&fgn_region=&lgl_lat=37.5325225&lgl_long=126.9950384&lgl_rcode=09170130&ngn_country=KR&nlu_query=%7B%22v%22%3A%223%22%2C%22intentblock%22%3A%221%22%2C%22qid%22%3A%22%EB%B9%85%EB%8D%B0%EC%9D%B4%ED%84%B0%22%2C%22abt%22%3A%5B%7B%22eid%22%3A%22SMB-COVERAGE%22%2C%22value%22%3A%7B%22bt%22%3A%222%22%2C%22is_control%22%3Atrue%7D%7D%2C%7B%22eid%22%3A%22SBR1%22%2C%22value%22%3A%7B%22bucket%22%3A%22T10%22%2C%22is_control%22%3Afalse%7D%7D%5D%7D&page_id=&query=%EB%B9%85%EB%8D%B0%EC%9D%B4%ED%84%B0&ssc=tab.itb.all&start=1&where=nx_bridge\n",
      "https://s.search.naver.com/p/intentblock/search.naver?ac=0&aq=0&bid=SYS-0000000000556243&display=10&fgn_city=&fgn_region=&lgl_lat=37.5325225&lgl_long=126.9950384&lgl_rcode=09170130&ngn_country=KR&nlu_query=%7B%22v%22%3A%223%22%2C%22intentblock%22%3A%221%22%2C%22qid%22%3A%22%EB%B9%85%EB%8D%B0%EC%9D%B4%ED%84%B0%22%2C%22abt%22%3A%5B%7B%22eid%22%3A%22SMB-COVERAGE%22%2C%22value%22%3A%7B%22bt%22%3A%222%22%2C%22is_control%22%3Atrue%7D%7D%2C%7B%22eid%22%3A%22SBR1%22%2C%22value%22%3A%7B%22bucket%22%3A%22T10%22%2C%22is_control%22%3Afalse%7D%7D%5D%7D&page_id=&query=%EB%B9%85%EB%8D%B0%EC%9D%B4%ED%84%B0&ssc=tab.itb.all&start=1&where=nx_bridge\n",
      "https://s.search.naver.com/p/intentblock/search.naver?nlu_query=%7B%22v%22%3A%223%22%2C%22intentblock%22%3A%221%22%2C%22qid%22%3A%22%EB%B9%85%EB%8D%B0%EC%9D%B4%ED%84%B0%22%2C%22abt%22%3A%5B%7B%22eid%22%3A%22SMB-COVERAGE%22%2C%22value%22%3A%7B%22bt%22%3A%222%22%2C%22is_control%22%3Atrue%7D%7D%2C%7B%22eid%22%3A%22SBR1%22%2C%22value%22%3A%7B%22bucket%22%3A%22T10%22%2C%22is_control%22%3Afalse%7D%7D%5D%7D&page_id=&query=%EB%B9%85%EB%8D%B0%EC%9D%B4%ED%84%B0&where=nx_blocks_bridge\n",
      "https://search.naver.com/search.naver?where=nexearch&sm=top_hty&fbm=0&ie=utf8&query=%EB%B9%85%EB%8D%B0%EC%9D%B4%ED%84%B0#\n",
      "https://search.naver.com/search.naver?where=nexearch&sm=top_hty&fbm=0&ie=utf8&query=%EB%B9%85%EB%8D%B0%EC%9D%B4%ED%84%B0#\n",
      "https://adcr.naver.com/adcr?x=SDEpTUVt4Mr2RTSx0ZJp2P///w==kuacKz7CPf5xe8GTH6AGkOyNja5FJET1iDu6E/vEigYzR8enJBK5x0/tWLqyIylCeqmw2OTdFb1zl0WGWyITTOFbyf/Gk3Ql+xZUdy78TrMVIRRSipWQtGPoHvPPmK5Cye57P/R4IjuiYsOJzh6U2YYW5nsc6FdGKtTJUJEdwD7hsF/z0P6rhGJlWi5MgZtMPrbus5K8d5ukr56KVEHJ91kWTuYm7hrsxVNcW6DAkjFiClGqNOMk3OYcThWLmu//4X4omyEPDJZIccPZK6SeAE3pxH8BgSto8v7N6P/v/qVeXrwYLHqRkjc59F3roeQN9Q0gsyS3HDP+Nv+nCstQ1s0KjF3ucJzUtAjN5wEgBsVm2vPeh/EYdeny3/lg19Fu/EIZynhSK5tCpChDgqwv7Zdl/InkwCO6KhH3tPSEOuWexW0pityZVwHYKkiuNl8Cn0ZR3fDweHxm9g12lvD3vOS1ft2I+4Hvuma1xZUwFsEHzt/AdZ3L0WdPyAbvQ3QziXFhMXFgBigX9TSqqCNq+ciiFLdhYa/G4JehN70odXKOqvhPceI37L736SjT6M4s8zniREwkZZ8SNrTn7bOcLZGhcBLM9sUB6yN2X7aP06XQqCoKanFNManxrRhhU9j3ddlkrUcDdtrv6zOAInruiVg==\n",
      "https://adcr.naver.com/adcr?x=SDEpTUVt4Mr2RTSx0ZJp2P///w==kuacKz7CPf5xe8GTH6AGkOyNja5FJET1iDu6E/vEigYzR8enJBK5x0/tWLqyIylCeqmw2OTdFb1zl0WGWyITTOFbyf/Gk3Ql+xZUdy78TrMVIRRSipWQtGPoHvPPmK5Cye57P/R4IjuiYsOJzh6U2YYW5nsc6FdGKtTJUJEdwD7hsF/z0P6rhGJlWi5MgZtMPrbus5K8d5ukr56KVEHJ91kWTuYm7hrsxVNcW6DAkjFiClGqNOMk3OYcThWLmu//4X4omyEPDJZIccPZK6SeAE3pxH8BgSto8v7N6P/v/qVeXrwYLHqRkjc59F3roeQN9Q0gsyS3HDP+Nv+nCstQ1s0KjF3ucJzUtAjN5wEgBsVm2vPeh/EYdeny3/lg19Fu/EIZynhSK5tCpChDgqwv7Zdl/InkwCO6KhH3tPSEOuWexW0pityZVwHYKkiuNl8Cn0ZR3fDweHxm9g12lvD3vOS1ft2I+4Hvuma1xZUwFsEHzt/AdZ3L0WdPyAbvQ3QziXFhMXFgBigX9TSqqCNq+ciiFLdhYa/G4JehN70odXKOqvhPceI37L736SjT6M4s8zniREwkZZ8SNrTn7bOcLZGhcBLM9sUB6yN2X7aP06XQqCoKanFNManxrRhhU9j3ddlkrUcDdtrv6zOAInruiVg==\n",
      "https://help.naver.com/alias/search/integration/integration_66.naver\n",
      "https://adcr.naver.com/adcr?x=SDEpTUVt4Mr2RTSx0ZJp2P///w==kuacKz7CPf5xe8GTH6AGkOyNja5FJET1iDu6E/vEigYzR8enJBK5x0/tWLqyIylCeqmw2OTdFb1zl0WGWyITTOFbyf/Gk3Ql+xZUdy78TrMVIRRSipWQtGPoHvPPmK5Cye57P/R4IjuiYsOJzh6U2YYW5nsc6FdGKtTJUJEdwD7hsF/z0P6rhGJlWi5MgZtMPrbus5K8d5ukr56KVEHJ91kWTuYm7hrsxVNcW6DAkjFiClGqNOMk3OYcThWLmu//4X4omyEPDJZIccPZK6SeAE3pxH8BgSto8v7N6P/v/qVeXrwYLHqRkjc59F3roeQN9Q0gsyS3HDP+Nv+nCstQ1s0KjF3ucJzUtAjN5wEgBsVm2vPeh/EYdeny3/lg19Fu/EIZynhSK5tCpChDgqwv7Zdl/InkwCO6KhH3tPSEOuWexW0pityZVwHYKkiuNl8Cn0ZR3fDweHxm9g12lvD3vOS1ft2I+4Hvuma1xZUwFsEHzt/AdZ3L0WdPyAbvQ3QziXFhMXFgBigX9TSqqCNq+ciiFLdhYa/G4JehN70odXKOqvhPceI37L736SjT6M4s8zniREwkZZ8SNrTn7bOcLZGhcBLM9sUB6yN2X7aP06XQqCoKanFNManxrRhhU9j3ddlkrUcDdtrv6zOAInruiVg==\n",
      "https://adcr.naver.com/adcr?x=SDEpTUVt4Mr2RTSx0ZJp2P///w==kuacKz7CPf5xe8GTH6AGkOyNja5FJET1iDu6E/vEigYzR8enJBK5x0/tWLqyIylCeqmw2OTdFb1zl0WGWyITTOFbyf/Gk3Ql+xZUdy78TrMVIRRSipWQtGPoHvPPmK5Cye57P/R4IjuiYsOJzh6U2YYW5nsc6FdGKtTJUJEdwD7hsF/z0P6rhGJlWi5MgZtMPrbus5K8d5ukr56KVEHJ91kWTuYm7hrsxVNcW6DAkjFiClGqNOMk3OYcThWLmu//4X4omyEPDJZIccPZK6SeAE3pxH8BgSto8v7N6P/v/qVeXrwYLHqRkjc59F3roeQN9Q0gsyS3HDP+Nv+nCstQ1s0KjF3ucJzUtAjN5wEgBsVm2vPeh/EYdeny3/lg19Fu/EIZynhSK5tCpChDgqwv7Zdl/InkwCO6KhH3tPSEOuWexW0pityZVwHYKkiuNl8Cn0ZR3fDweHxm9g12lvD3vOS1ft2I+4Hvuma1xZUwFsEHzt/AdZ3L0WdPyAbvQ3QziXFhMXFgBigX9TSqqCNq+ciiFLdhYa/G4JehN70odXKOqvhPceI37L736SjT6M4s8zniREwkZZ8SNrTn7bOcLZGhcBLM9sUB6yN2X7aP06XQqCoKanFNManxrRhhU9j3ddlkrUcDdtrv6zOAInruiVg==\n",
      "https://adcr.naver.com/adcr?x=SDEpTUVt4Mr2RTSx0ZJp2P///w==kuacKz7CPf5xe8GTH6AGkOyNja5FJET1iDu6E/vEigYzR8enJBK5x0/tWLqyIylCeqmw2OTdFb1zl0WGWyITTOFbyf/Gk3Ql+xZUdy78TrMVIRRSipWQtGPoHvPPmK5Cye57P/R4IjuiYsOJzh6U2YYW5nsc6FdGKtTJUJEdwD7hsF/z0P6rhGJlWi5MgZtMPrbus5K8d5ukr56KVEHJ91kWTuYm7hrsxVNcW6DAkjFiClGqNOMk3OYcThWLmu//4X4omyEPDJZIccPZK6SeAE3pxH8BgSto8v7N6P/v/qVeXrwYLHqRkjc59F3roeQN9Q0gsyS3HDP+Nv+nCstQ1s0KjF3ucJzUtAjN5wEgBsVm2vPeh/EYdeny3/lg19Fu/EIZynhSK5tCpChDgqwv7Zdl/InkwCO6KhH3tPSEOuWexW0pityZVwHYKkiuNl8Cn0ZR3fDweHxm9g12lvD3vOS1ft2I+4Hvuma1xZUwFsEHzt/AdZ3L0WdPyAbvQ3QziXFhMXFgBigX9TSqqCNq+ciiFLdhYa/G4JehN70odXKOqvhPceI37L736SjT6M4s8zniREwkZZ8SNrTn7bOcLZGhcBLM9sUB6yN2X7aP06XQqCoKanFNManxrRhhU9j3ddlkrUcDdtrv6zOAInruiVg==\n",
      "https://adcr.naver.com/adcr?x=0U6/oCepZpxbvAnZlk+C7P///w==k82tL0CjxRTcY8RdEctdpknEpP8zKeeoj6T3SUuwXcHRRJmTnNf3AjH0Gy1xCQAE1BWL2YlEjW18e62HuMNjwANlVvT1DdAzr/DwWdaDklQt830i+qyC1CyMFncjsf+S6OUtLMnOcVRDFCZyAtr6Lx1YMWdmYEz+MA7vf9r1GzwshRnmLRDxOwFW6lszI6IAHAMc1b5PuU+Ijr0pVCVcWcUFneMdgDTSJ7pPGiI1OfCQrGWb50avT+QUiGQBgZOleOyWqs+iCYxel3CTovXh9W/UkLlRESefEoHOD17JA3a21N2trO/pAsq+p64bJTTmUybW6InSTnw29ZPvmjvBl789eCdp0RvspFVx6cPHhOtzorLeWczK/db9wTKns0nLmjb4uoNqxPOL19rt+BFYKe+D74Mt8gUaqUkTHAIr/kBaLFCi2Z2nzJJEGmdRngMF+eMrXQjz7NLKeBc4r4Ph+mfmru8zJa1DVlI9mzm5WYSidlOEU3Tu47bFPvMAipD/A9tbLn1zy9m7aE/sOEEWrngFLbJkpQccuIClYgxA69tMXdIfRekrPrDq9Be58nzMR7rVIf52KJ32mOF4s41IAOZ/uY4LkxPWQbbxUfYKZt/DttfVnGWxBZ/yGtzGA5Z3r0QgpLXu9enSTGlsj1ConBA==\n",
      "https://adcr.naver.com/adcr?x=0U6/oCepZpxbvAnZlk+C7P///w==k82tL0CjxRTcY8RdEctdpknEpP8zKeeoj6T3SUuwXcHRRJmTnNf3AjH0Gy1xCQAE1BWL2YlEjW18e62HuMNjwANlVvT1DdAzr/DwWdaDklQt830i+qyC1CyMFncjsf+S6OUtLMnOcVRDFCZyAtr6Lx1YMWdmYEz+MA7vf9r1GzwshRnmLRDxOwFW6lszI6IAHAMc1b5PuU+Ijr0pVCVcWcUFneMdgDTSJ7pPGiI1OfCQrGWb50avT+QUiGQBgZOleOyWqs+iCYxel3CTovXh9W/UkLlRESefEoHOD17JA3a21N2trO/pAsq+p64bJTTmUybW6InSTnw29ZPvmjvBl789eCdp0RvspFVx6cPHhOtzorLeWczK/db9wTKns0nLmjb4uoNqxPOL19rt+BFYKe+D74Mt8gUaqUkTHAIr/kBaLFCi2Z2nzJJEGmdRngMF+eMrXQjz7NLKeBc4r4Ph+mfmru8zJa1DVlI9mzm5WYSidlOEU3Tu47bFPvMAipD/A9tbLn1zy9m7aE/sOEEWrngFLbJkpQccuIClYgxA69tMXdIfRekrPrDq9Be58nzMR7rVIf52KJ32mOF4s41IAOZ/uY4LkxPWQbbxUfYKZt/DttfVnGWxBZ/yGtzGA5Z3r0QgpLXu9enSTGlsj1ConBA==\n",
      "https://help.naver.com/alias/search/integration/integration_66.naver\n",
      "https://adcr.naver.com/adcr?x=0U6/oCepZpxbvAnZlk+C7P///w==k82tL0CjxRTcY8RdEctdpknEpP8zKeeoj6T3SUuwXcHRRJmTnNf3AjH0Gy1xCQAE1BWL2YlEjW18e62HuMNjwANlVvT1DdAzr/DwWdaDklQt830i+qyC1CyMFncjsf+S6OUtLMnOcVRDFCZyAtr6Lx1YMWdmYEz+MA7vf9r1GzwshRnmLRDxOwFW6lszI6IAHAMc1b5PuU+Ijr0pVCVcWcUFneMdgDTSJ7pPGiI1OfCQrGWb50avT+QUiGQBgZOleOyWqs+iCYxel3CTovXh9W/UkLlRESefEoHOD17JA3a21N2trO/pAsq+p64bJTTmUybW6InSTnw29ZPvmjvBl789eCdp0RvspFVx6cPHhOtzorLeWczK/db9wTKns0nLmjb4uoNqxPOL19rt+BFYKe+D74Mt8gUaqUkTHAIr/kBaLFCi2Z2nzJJEGmdRngMF+eMrXQjz7NLKeBc4r4Ph+mfmru8zJa1DVlI9mzm5WYSidlOEU3Tu47bFPvMAipD/A9tbLn1zy9m7aE/sOEEWrngFLbJkpQccuIClYgxA69tMXdIfRekrPrDq9Be58nzMR7rVIf52KJ32mOF4s41IAOZ/uY4LkxPWQbbxUfYKZt/DttfVnGWxBZ/yGtzGA5Z3r0QgpLXu9enSTGlsj1ConBA==\n",
      "https://adcr.naver.com/adcr?x=0U6/oCepZpxbvAnZlk+C7P///w==k82tL0CjxRTcY8RdEctdpknEpP8zKeeoj6T3SUuwXcHRRJmTnNf3AjH0Gy1xCQAE1BWL2YlEjW18e62HuMNjwANlVvT1DdAzr/DwWdaDklQt830i+qyC1CyMFncjsf+S6OUtLMnOcVRDFCZyAtr6Lx1YMWdmYEz+MA7vf9r1GzwshRnmLRDxOwFW6lszI6IAHAMc1b5PuU+Ijr0pVCVcWcUFneMdgDTSJ7pPGiI1OfCQrGWb50avT+QUiGQBgZOleOyWqs+iCYxel3CTovXh9W/UkLlRESefEoHOD17JA3a21N2trO/pAsq+p64bJTTmUybW6InSTnw29ZPvmjvBl789eCdp0RvspFVx6cPHhOtzorLeWczK/db9wTKns0nLmjb4uoNqxPOL19rt+BFYKe+D74Mt8gUaqUkTHAIr/kBaLFCi2Z2nzJJEGmdRngMF+eMrXQjz7NLKeBc4r4Ph+mfmru8zJa1DVlI9mzm5WYSidlOEU3Tu47bFPvMAipD/A9tbLn1zy9m7aE/sOEEWrngFLbJkpQccuIClYgxA69tMXdIfRekrPrDq9Be58nzMR7rVIf52KJ32mOF4s41IAOZ/uY4LkxPWQbbxUfYKZt/DttfVnGWxBZ/yGtzGA5Z3r0QgpLXu9enSTGlsj1ConBA==\n",
      "https://adcr.naver.com/adcr?x=0U6/oCepZpxbvAnZlk+C7P///w==k82tL0CjxRTcY8RdEctdpknEpP8zKeeoj6T3SUuwXcHRRJmTnNf3AjH0Gy1xCQAE1BWL2YlEjW18e62HuMNjwANlVvT1DdAzr/DwWdaDklQt830i+qyC1CyMFncjsf+S6OUtLMnOcVRDFCZyAtr6Lx1YMWdmYEz+MA7vf9r1GzwshRnmLRDxOwFW6lszI6IAHAMc1b5PuU+Ijr0pVCVcWcUFneMdgDTSJ7pPGiI1OfCQrGWb50avT+QUiGQBgZOleOyWqs+iCYxel3CTovXh9W/UkLlRESefEoHOD17JA3a21N2trO/pAsq+p64bJTTmUybW6InSTnw29ZPvmjvBl789eCdp0RvspFVx6cPHhOtzorLeWczK/db9wTKns0nLmjb4uoNqxPOL19rt+BFYKe+D74Mt8gUaqUkTHAIr/kBaLFCi2Z2nzJJEGmdRngMF+eMrXQjz7NLKeBc4r4Ph+mfmru8zJa1DVlI9mzm5WYSidlOEU3Tu47bFPvMAipD/A9tbLn1zy9m7aE/sOEEWrngFLbJkpQccuIClYgxA69tMXdIfRekrPrDq9Be58nzMR7rVIf52KJ32mOF4s41IAOZ/uY4LkxPWQbbxUfYKZt/DttfVnGWxBZ/yGtzGA5Z3r0QgpLXu9enSTGlsj1ConBA==\n",
      "https://s.search.naver.com/p/intentblock/search.naver?ac=0&aq=0&bid=PWC-0000000000092307&display=10&fgn_city=&fgn_region=&lgl_lat=37.5325225&lgl_long=126.9950384&lgl_rcode=09170130&ngn_country=KR&nlu_query=%7B%22v%22%3A%223%22%2C%22intentblock%22%3A%221%22%2C%22qid%22%3A%22%EB%B9%85%EB%8D%B0%EC%9D%B4%ED%84%B0%22%2C%22abt%22%3A%5B%7B%22eid%22%3A%22SMB-COVERAGE%22%2C%22value%22%3A%7B%22bt%22%3A%222%22%2C%22is_control%22%3Atrue%7D%7D%2C%7B%22eid%22%3A%22SBR1%22%2C%22value%22%3A%7B%22bucket%22%3A%22T10%22%2C%22is_control%22%3Afalse%7D%7D%5D%7D&page_id=&query=%EB%B9%85%EB%8D%B0%EC%9D%B4%ED%84%B0&ssc=tab.itb.pwc&start=1&where=nx_bridge\n",
      "https://search.naver.com/search.naver?where=nexearch&sm=top_hty&fbm=0&ie=utf8&query=%EB%B9%85%EB%8D%B0%EC%9D%B4%ED%84%B0#\n",
      "https://search.naver.com/search.naver?where=nexearch&sm=top_hty&fbm=0&ie=utf8&query=%EB%B9%85%EB%8D%B0%EC%9D%B4%ED%84%B0#\n",
      "https://keep.naver.com/\n",
      "https://blog.naver.com/5710132\n"
     ]
    },
    {
     "name": "stdout",
     "output_type": "stream",
     "text": [
      "https://blog.naver.com/5710132\n",
      "https://blog.naver.com/5710132/222772759381\n",
      "https://blog.naver.com/5710132/222772759381\n",
      "https://blog.naver.com/5710132/222772759381\n",
      "https://blog.naver.com/5710132/222772759381\n",
      "https://blog.naver.com/5710132/222772759381\n",
      "https://blog.naver.com/5710132/222772759381\n",
      "https://blog.naver.com/5710132/222772759381\n",
      "https://blog.naver.com/5710132/222772759381\n",
      "https://blog.naver.com/5710132/222772759381\n",
      "https://blog.naver.com/5710132/222772759381\n",
      "https://search.naver.com/search.naver?where=nexearch&sm=top_hty&fbm=0&ie=utf8&query=%EB%B9%85%EB%8D%B0%EC%9D%B4%ED%84%B0#\n",
      "https://search.naver.com/search.naver?where=nexearch&sm=top_hty&fbm=0&ie=utf8&query=%EB%B9%85%EB%8D%B0%EC%9D%B4%ED%84%B0#\n",
      "https://blog.naver.com/5710132/222772759381\n",
      "https://search.naver.com/search.naver?where=nexearch&sm=top_hty&fbm=0&ie=utf8&query=%EB%B9%85%EB%8D%B0%EC%9D%B4%ED%84%B0#\n",
      "https://search.naver.com/search.naver?where=nexearch&sm=top_hty&fbm=0&ie=utf8&query=%EB%B9%85%EB%8D%B0%EC%9D%B4%ED%84%B0#\n",
      "https://keep.naver.com/\n",
      "https://blog.naver.com/dkswlgml7753\n",
      "https://blog.naver.com/dkswlgml7753\n",
      "https://blog.naver.com/dkswlgml7753/221924949459\n",
      "https://blog.naver.com/dkswlgml7753/221924949459\n",
      "https://blog.naver.com/dkswlgml7753/221924949459\n",
      "https://search.naver.com/search.naver?where=nexearch&sm=top_hty&fbm=0&ie=utf8&query=%EB%B9%85%EB%8D%B0%EC%9D%B4%ED%84%B0#\n",
      "https://search.naver.com/search.naver?where=nexearch&sm=top_hty&fbm=0&ie=utf8&query=%EB%B9%85%EB%8D%B0%EC%9D%B4%ED%84%B0#\n",
      "https://keep.naver.com/\n",
      "https://blog.naver.com/ithopenanum\n",
      "https://blog.naver.com/ithopenanum\n",
      "https://blog.naver.com/ithopenanum/222355689305\n",
      "https://blog.naver.com/ithopenanum/222355689305\n",
      "https://blog.naver.com/ithopenanum/222355689305\n",
      "https://s.search.naver.com/p/intentblock/search.naver?ac=0&aq=0&bid=SYS-0000000000556230&display=10&fgn_city=&fgn_region=&lgl_lat=37.5325225&lgl_long=126.9950384&lgl_rcode=09170130&ngn_country=KR&nlu_query=%7B%22v%22%3A%223%22%2C%22intentblock%22%3A%221%22%2C%22qid%22%3A%22%EB%B9%85%EB%8D%B0%EC%9D%B4%ED%84%B0%22%2C%22abt%22%3A%5B%7B%22eid%22%3A%22SMB-COVERAGE%22%2C%22value%22%3A%7B%22bt%22%3A%222%22%2C%22is_control%22%3Atrue%7D%7D%2C%7B%22eid%22%3A%22SBR1%22%2C%22value%22%3A%7B%22bucket%22%3A%22T10%22%2C%22is_control%22%3Afalse%7D%7D%5D%7D&page_id=&query=%EB%B9%85%EB%8D%B0%EC%9D%B4%ED%84%B0&ssc=tab.itb.all&start=1&where=nx_bridge\n",
      "https://search.naver.com/search.naver?where=nexearch&sm=top_hty&fbm=0&ie=utf8&query=%EB%B9%85%EB%8D%B0%EC%9D%B4%ED%84%B0#\n",
      "https://search.naver.com/search.naver?where=nexearch&sm=top_hty&fbm=0&ie=utf8&query=%EB%B9%85%EB%8D%B0%EC%9D%B4%ED%84%B0#\n",
      "https://keep.naver.com/\n",
      "https://blog.naver.com/wooyeon881211\n",
      "https://blog.naver.com/wooyeon881211\n",
      "https://blog.naver.com/wooyeon881211/222574978447\n",
      "https://blog.naver.com/wooyeon881211/222574978447\n",
      "https://blog.naver.com/wooyeon881211/222574978447\n",
      "https://blog.naver.com/wooyeon881211/222574978447\n",
      "https://blog.naver.com/wooyeon881211/222574978447\n",
      "https://blog.naver.com/wooyeon881211/222574978447\n",
      "https://blog.naver.com/wooyeon881211/222574978447\n",
      "https://blog.naver.com/wooyeon881211/222574978447\n",
      "https://blog.naver.com/wooyeon881211/222574978447\n",
      "https://blog.naver.com/wooyeon881211/222574978447\n",
      "https://blog.naver.com/wooyeon881211/222574978447\n",
      "https://search.naver.com/search.naver?where=nexearch&sm=top_hty&fbm=0&ie=utf8&query=%EB%B9%85%EB%8D%B0%EC%9D%B4%ED%84%B0#\n",
      "https://search.naver.com/search.naver?where=nexearch&sm=top_hty&fbm=0&ie=utf8&query=%EB%B9%85%EB%8D%B0%EC%9D%B4%ED%84%B0#\n",
      "https://blog.naver.com/wooyeon881211/222574978447\n",
      "https://search.naver.com/search.naver?where=nexearch&sm=top_hty&fbm=0&ie=utf8&query=%EB%B9%85%EB%8D%B0%EC%9D%B4%ED%84%B0#\n",
      "https://search.naver.com/search.naver?where=nexearch&sm=top_hty&fbm=0&ie=utf8&query=%EB%B9%85%EB%8D%B0%EC%9D%B4%ED%84%B0#\n",
      "https://keep.naver.com/\n",
      "https://in.naver.com/ella?query=%EB%B9%85%EB%8D%B0%EC%9D%B4%ED%84%B0+%EC%9E%90%EA%B2%A9%EC%A6%9D\n",
      "https://in.naver.com/ella?query=%EB%B9%85%EB%8D%B0%EC%9D%B4%ED%84%B0+%EC%9E%90%EA%B2%A9%EC%A6%9D\n",
      "https://in.naver.com/ella/contents/internal/303690693903872?query=%EB%B9%85%EB%8D%B0%EC%9D%B4%ED%84%B0+%EC%9E%90%EA%B2%A9%EC%A6%9D\n",
      "https://in.naver.com/ella/contents/internal/303690693903872?query=%EB%B9%85%EB%8D%B0%EC%9D%B4%ED%84%B0+%EC%9E%90%EA%B2%A9%EC%A6%9D\n",
      "https://in.naver.com/ella/contents/internal/303690693903872?query=%EB%B9%85%EB%8D%B0%EC%9D%B4%ED%84%B0+%EC%9E%90%EA%B2%A9%EC%A6%9D\n",
      "https://search.naver.com/search.naver?where=nexearch&sm=top_hty&fbm=0&ie=utf8&query=%EB%B9%85%EB%8D%B0%EC%9D%B4%ED%84%B0#\n",
      "https://search.naver.com/search.naver?where=nexearch&sm=top_hty&fbm=0&ie=utf8&query=%EB%B9%85%EB%8D%B0%EC%9D%B4%ED%84%B0#\n",
      "https://keep.naver.com/\n",
      "https://blog.naver.com/lyg051026\n",
      "https://blog.naver.com/lyg051026\n",
      "https://blog.naver.com/lyg051026/222673242686\n",
      "https://blog.naver.com/lyg051026/222673242686\n",
      "https://blog.naver.com/lyg051026/222673242686\n",
      "https://s.search.naver.com/p/intentblock/search.naver?ac=0&aq=0&bid=SYS-0000000000556248&display=10&fgn_city=&fgn_region=&lgl_lat=37.5325225&lgl_long=126.9950384&lgl_rcode=09170130&ngn_country=KR&nlu_query=%7B%22v%22%3A%223%22%2C%22intentblock%22%3A%221%22%2C%22qid%22%3A%22%EB%B9%85%EB%8D%B0%EC%9D%B4%ED%84%B0%22%2C%22abt%22%3A%5B%7B%22eid%22%3A%22SMB-COVERAGE%22%2C%22value%22%3A%7B%22bt%22%3A%222%22%2C%22is_control%22%3Atrue%7D%7D%2C%7B%22eid%22%3A%22SBR1%22%2C%22value%22%3A%7B%22bucket%22%3A%22T10%22%2C%22is_control%22%3Afalse%7D%7D%5D%7D&page_id=&query=%EB%B9%85%EB%8D%B0%EC%9D%B4%ED%84%B0&ssc=tab.itb.all&start=1&where=nx_bridge\n",
      "https://search.naver.com/search.naver?where=nexearch&sm=top_hty&fbm=0&ie=utf8&query=%EB%B9%85%EB%8D%B0%EC%9D%B4%ED%84%B0#\n",
      "https://search.naver.com/search.naver?where=nexearch&sm=top_hty&fbm=0&ie=utf8&query=%EB%B9%85%EB%8D%B0%EC%9D%B4%ED%84%B0#\n",
      "https://keep.naver.com/\n",
      "https://blog.naver.com/wiseinc2017\n",
      "https://blog.naver.com/wiseinc2017\n",
      "https://blog.naver.com/wiseinc2017/222555103135\n",
      "https://blog.naver.com/wiseinc2017/222555103135\n",
      "https://blog.naver.com/wiseinc2017/222555103135\n",
      "https://blog.naver.com/wiseinc2017/222555103135\n",
      "https://blog.naver.com/wiseinc2017/222555103135\n",
      "https://blog.naver.com/wiseinc2017/222555103135\n",
      "https://blog.naver.com/wiseinc2017/222555103135\n",
      "https://search.naver.com/search.naver?where=nexearch&sm=top_hty&fbm=0&ie=utf8&query=%EB%B9%85%EB%8D%B0%EC%9D%B4%ED%84%B0#\n",
      "https://search.naver.com/search.naver?where=nexearch&sm=top_hty&fbm=0&ie=utf8&query=%EB%B9%85%EB%8D%B0%EC%9D%B4%ED%84%B0#\n",
      "https://blog.naver.com/wiseinc2017/222555103135\n",
      "https://search.naver.com/search.naver?where=nexearch&sm=top_hty&fbm=0&ie=utf8&query=%EB%B9%85%EB%8D%B0%EC%9D%B4%ED%84%B0#\n",
      "https://search.naver.com/search.naver?where=nexearch&sm=top_hty&fbm=0&ie=utf8&query=%EB%B9%85%EB%8D%B0%EC%9D%B4%ED%84%B0#\n",
      "https://keep.naver.com/\n",
      "https://in.naver.com/seeyapangpang?query=%EB%B9%85%EB%8D%B0%EC%9D%B4%ED%84%B0+%EB%B6%84%EC%84%9D%EA%B8%B0%EC%82%AC+%EC%8B%A4%EA%B8%B0\n",
      "https://in.naver.com/seeyapangpang?query=%EB%B9%85%EB%8D%B0%EC%9D%B4%ED%84%B0+%EB%B6%84%EC%84%9D%EA%B8%B0%EC%82%AC+%EC%8B%A4%EA%B8%B0\n",
      "https://in.naver.com/seeyapangpang/contents/internal/315746949314784?query=%EB%B9%85%EB%8D%B0%EC%9D%B4%ED%84%B0+%EB%B6%84%EC%84%9D%EA%B8%B0%EC%82%AC+%EC%8B%A4%EA%B8%B0\n",
      "https://in.naver.com/seeyapangpang/contents/internal/315746949314784?query=%EB%B9%85%EB%8D%B0%EC%9D%B4%ED%84%B0+%EB%B6%84%EC%84%9D%EA%B8%B0%EC%82%AC+%EC%8B%A4%EA%B8%B0\n",
      "https://in.naver.com/seeyapangpang/contents/internal/315746949314784?query=%EB%B9%85%EB%8D%B0%EC%9D%B4%ED%84%B0+%EB%B6%84%EC%84%9D%EA%B8%B0%EC%82%AC+%EC%8B%A4%EA%B8%B0\n",
      "https://search.naver.com/search.naver?where=nexearch&sm=top_hty&fbm=0&ie=utf8&query=%EB%B9%85%EB%8D%B0%EC%9D%B4%ED%84%B0#\n",
      "https://search.naver.com/search.naver?where=nexearch&sm=top_hty&fbm=0&ie=utf8&query=%EB%B9%85%EB%8D%B0%EC%9D%B4%ED%84%B0#\n",
      "https://keep.naver.com/\n",
      "https://blog.naver.com/kmj672000\n",
      "https://blog.naver.com/kmj672000\n",
      "https://blog.naver.com/kmj672000/222770496631\n",
      "https://blog.naver.com/kmj672000/222770496631\n",
      "https://blog.naver.com/kmj672000/222770496631\n",
      "https://s.search.naver.com/p/intentblock/search.naver?ac=0&aq=0&bid=SYS-0000000000556249&display=10&fgn_city=&fgn_region=&lgl_lat=37.5325225&lgl_long=126.9950384&lgl_rcode=09170130&ngn_country=KR&nlu_query=%7B%22v%22%3A%223%22%2C%22intentblock%22%3A%221%22%2C%22qid%22%3A%22%EB%B9%85%EB%8D%B0%EC%9D%B4%ED%84%B0%22%2C%22abt%22%3A%5B%7B%22eid%22%3A%22SMB-COVERAGE%22%2C%22value%22%3A%7B%22bt%22%3A%222%22%2C%22is_control%22%3Atrue%7D%7D%2C%7B%22eid%22%3A%22SBR1%22%2C%22value%22%3A%7B%22bucket%22%3A%22T10%22%2C%22is_control%22%3Afalse%7D%7D%5D%7D&page_id=&query=%EB%B9%85%EB%8D%B0%EC%9D%B4%ED%84%B0&ssc=tab.itb.all&start=1&where=nx_bridge\n",
      "https://search.naver.com/search.naver?where=news&query=%EB%B9%85%EB%8D%B0%EC%9D%B4%ED%84%B0&sort=0&sm=tab_smr&nso=so:r,p:all,a:all\n"
     ]
    },
    {
     "name": "stdout",
     "output_type": "stream",
     "text": [
      "https://search.naver.com/search.naver?where=news&query=%EB%B9%85%EB%8D%B0%EC%9D%B4%ED%84%B0&sort=1&sm=tab_smr&nso=so:dd,p:all,a:all\n",
      "https://search.naver.com/search.naver?where=nexearch&sm=top_hty&fbm=0&ie=utf8&query=%EB%B9%85%EB%8D%B0%EC%9D%B4%ED%84%B0#\n",
      "https://search.naver.com/search.naver?where=nexearch&sm=top_hty&fbm=0&ie=utf8&query=%EB%B9%85%EB%8D%B0%EC%9D%B4%ED%84%B0#\n",
      "https://keep.naver.com/\n",
      "http://www.hankyung.com/\n",
      "https://n.news.naver.com/mnews/article/015/0004729644?sid=105\n",
      "https://www.hankyung.com/it/article/202207276515i\n",
      "https://www.hankyung.com/it/article/202207276515i\n",
      "https://www.hankyung.com/it/article/202207276515i\n",
      "https://n.news.naver.com/mnews/article/014/0004873731?sid=101\n",
      "http://www.fnnews.com/news/202207270917230544\n",
      "https://n.news.naver.com/mnews/article/008/0004775744?sid=101\n",
      "http://news.mt.co.kr/mtview.php?no=2022072709180197029\n",
      "https://search.naver.com/search.naver?where=news&sm=tab_tnw&query=%EB%B9%85%EB%8D%B0%EC%9D%B4%ED%84%B0&nso=so:r,p:all,a:all&related=1&docid=0150004729644\n",
      "https://search.naver.com/search.naver?where=nexearch&sm=top_hty&fbm=0&ie=utf8&query=%EB%B9%85%EB%8D%B0%EC%9D%B4%ED%84%B0#\n",
      "https://search.naver.com/search.naver?where=nexearch&sm=top_hty&fbm=0&ie=utf8&query=%EB%B9%85%EB%8D%B0%EC%9D%B4%ED%84%B0#\n",
      "https://keep.naver.com/\n",
      "http://www.newsis.com/\n",
      "https://n.news.naver.com/mnews/article/003/0011329183?sid=100\n",
      "http://www.newsis.com/view/?id=NISX20220727_0001957375&cID=10301&pID=10300\n",
      "http://www.newsis.com/view/?id=NISX20220727_0001957375&cID=10301&pID=10300\n",
      "http://www.newsis.com/view/?id=NISX20220727_0001957375&cID=10301&pID=10300\n",
      "https://n.news.naver.com/mnews/article/421/0006243525?sid=102\n",
      "https://www.news1.kr/articles/?4754807\n",
      "https://n.news.naver.com/mnews/article/092/0002263697?sid=105\n",
      "https://zdnet.co.kr/view/?no=20220727152428\n",
      "https://search.naver.com/search.naver?where=news&sm=tab_tnw&query=%EB%B9%85%EB%8D%B0%EC%9D%B4%ED%84%B0&nso=so:r,p:all,a:all&related=1&docid=0030011329183\n",
      "https://search.naver.com/search.naver?where=nexearch&sm=top_hty&fbm=0&ie=utf8&query=%EB%B9%85%EB%8D%B0%EC%9D%B4%ED%84%B0#\n",
      "https://search.naver.com/search.naver?where=nexearch&sm=top_hty&fbm=0&ie=utf8&query=%EB%B9%85%EB%8D%B0%EC%9D%B4%ED%84%B0#\n",
      "https://keep.naver.com/\n",
      "http://www.heraldbiz.com/\n",
      "https://sports.news.naver.com/news.nhn?oid=016&aid=0002020842\n",
      "http://news.heraldcorp.com/sports/view.php?ud=202207261952305699370_1\n",
      "http://news.heraldcorp.com/sports/view.php?ud=202207261952305699370_1\n",
      "http://news.heraldcorp.com/sports/view.php?ud=202207261952305699370_1\n",
      "https://sports.news.naver.com/news.nhn?oid=014&aid=0004873709\n",
      "http://www.fnnews.com/news/202207270814358331\n",
      "https://search.naver.com/search.naver?where=nexearch&sm=top_hty&fbm=0&ie=utf8&query=%EB%B9%85%EB%8D%B0%EC%9D%B4%ED%84%B0#\n",
      "https://search.naver.com/search.naver?where=nexearch&sm=top_hty&fbm=0&ie=utf8&query=%EB%B9%85%EB%8D%B0%EC%9D%B4%ED%84%B0#\n",
      "https://keep.naver.com/\n",
      "https://www.yna.co.kr/\n",
      "https://n.news.naver.com/mnews/article/001/0013337683?sid=102\n",
      "https://www.yna.co.kr/view/AKR20220727100000063?input=1195m\n",
      "https://www.yna.co.kr/view/AKR20220727100000063?input=1195m\n",
      "https://www.yna.co.kr/view/AKR20220727100000063?input=1195m\n",
      "http://www.queen.co.kr/news/articleView.html?idxno=378978\n",
      "https://n.news.naver.com/mnews/article/421/0006244115?sid=102\n",
      "https://www.news1.kr/articles/?4755350\n",
      "https://news.naver.com/main/static/channelPromotion.html\n",
      "https://search.naver.com/search.naver?where=news&query=%EB%B9%85%EB%8D%B0%EC%9D%B4%ED%84%B0&sm=tab_tmr&nso=so:r,p:all,a:all&sort=0\n",
      "https://search.naver.com/search.naver?where=nexearch&sm=top_hty&fbm=0&ie=utf8&query=%EB%B9%85%EB%8D%B0%EC%9D%B4%ED%84%B0#\n",
      "https://search.naver.com/search.naver?where=nexearch&sm=top_hty&fbm=0&ie=utf8&query=%EB%B9%85%EB%8D%B0%EC%9D%B4%ED%84%B0#\n",
      "https://keep.naver.com/\n",
      "https://namu.wiki/w/%EB%B9%85%20%EB%8D%B0%EC%9D%B4%ED%84%B0%20%ED%94%84%EB%A1%9C%EC%84%B8%EC%8B%B1\n",
      "https://namu.wiki/w/%EB%B9%85%20%EB%8D%B0%EC%9D%B4%ED%84%B0%20%ED%94%84%EB%A1%9C%EC%84%B8%EC%8B%B1\n",
      "https://namu.wiki/w/%EB%B9%85%20%EB%8D%B0%EC%9D%B4%ED%84%B0%20%ED%94%84%EB%A1%9C%EC%84%B8%EC%8B%B1\n",
      "https://namu.wiki/w/%EB%B9%85%20%EB%8D%B0%EC%9D%B4%ED%84%B0%20%ED%94%84%EB%A1%9C%EC%84%B8%EC%8B%B1\n",
      "https://namu.wiki/w/%EB%B9%85%20%EB%8D%B0%EC%9D%B4%ED%84%B0%20%ED%94%84%EB%A1%9C%EC%84%B8%EC%8B%B1#s-1\n",
      "https://namu.wiki/w/%EB%B9%85%20%EB%8D%B0%EC%9D%B4%ED%84%B0%20%ED%94%84%EB%A1%9C%EC%84%B8%EC%8B%B1#s-2\n",
      "https://namu.wiki/w/%EB%B9%85%20%EB%8D%B0%EC%9D%B4%ED%84%B0%20%ED%94%84%EB%A1%9C%EC%84%B8%EC%8B%B1#s-3\n",
      "https://namu.wiki/w/%EB%B9%85%20%EB%8D%B0%EC%9D%B4%ED%84%B0%20%ED%94%84%EB%A1%9C%EC%84%B8%EC%8B%B1#s-4\n",
      "https://namu.wiki/w/%EB%B9%85%20%EB%8D%B0%EC%9D%B4%ED%84%B0%20%ED%94%84%EB%A1%9C%EC%84%B8%EC%8B%B1#s-5\n",
      "https://namu.wiki/w/%EB%B9%85%20%EB%8D%B0%EC%9D%B4%ED%84%B0%20%ED%94%84%EB%A1%9C%EC%84%B8%EC%8B%B1#s-6\n",
      "https://namu.wiki/w/%EB%B9%85%20%EB%8D%B0%EC%9D%B4%ED%84%B0%20%ED%94%84%EB%A1%9C%EC%84%B8%EC%8B%B1#s-7\n",
      "https://namu.wiki/w/%EB%B9%85%20%EB%8D%B0%EC%9D%B4%ED%84%B0%20%ED%94%84%EB%A1%9C%EC%84%B8%EC%8B%B1#s-2.1\n",
      "https://search.naver.com/search.naver?where=nexearch&sm=top_hty&fbm=0&ie=utf8&query=%EB%B9%85%EB%8D%B0%EC%9D%B4%ED%84%B0#\n",
      "https://search.naver.com/search.naver?where=nexearch&sm=top_hty&fbm=0&ie=utf8&query=%EB%B9%85%EB%8D%B0%EC%9D%B4%ED%84%B0#\n",
      "https://keep.naver.com/\n",
      "https://www.sap.com/korea/insights/what-is-big-data.html\n",
      "https://www.sap.com/korea/insights/what-is-big-data.html\n",
      "https://www.sap.com/korea/insights/what-is-big-data.html\n",
      "https://www.sap.com/korea/insights/what-is-big-data.html\n",
      "https://search.naver.com/search.naver?where=nexearch&sm=top_hty&fbm=0&ie=utf8&query=%EB%B9%85%EB%8D%B0%EC%9D%B4%ED%84%B0#\n",
      "https://search.naver.com/search.naver?where=nexearch&sm=top_hty&fbm=0&ie=utf8&query=%EB%B9%85%EB%8D%B0%EC%9D%B4%ED%84%B0#\n",
      "https://keep.naver.com/\n",
      "https://www.oracle.com/kr/big-data/what-is-big-data/\n",
      "https://www.oracle.com/kr/big-data/what-is-big-data/\n",
      "https://www.oracle.com/kr/big-data/what-is-big-data/\n",
      "https://www.oracle.com/kr/big-data/what-is-big-data/\n",
      "https://search.naver.com/search.naver?where=nexearch&sm=top_hty&fbm=0&ie=utf8&query=%EB%B9%85%EB%8D%B0%EC%9D%B4%ED%84%B0#\n",
      "https://search.naver.com/search.naver?where=nexearch&sm=top_hty&fbm=0&ie=utf8&query=%EB%B9%85%EB%8D%B0%EC%9D%B4%ED%84%B0#\n",
      "https://keep.naver.com/\n",
      "https://www.redhat.com/ko/topics/big-data\n",
      "https://www.redhat.com/ko/topics/big-data\n",
      "https://www.redhat.com/ko/topics/big-data\n",
      "https://www.redhat.com/ko/topics/big-data\n",
      "https://search.naver.com/search.naver?display=15&f=&filetype=0&page=2&query=%EB%B9%85%EB%8D%B0%EC%9D%B4%ED%84%B0&research_url=&sm=tab_pge&start=1&where=web\n",
      "https://kin.naver.com/qna/question.naver\n",
      "https://search.naver.com/search.naver?where=nexearch&sm=top_hty&fbm=0&ie=utf8&query=%EB%B9%85%EB%8D%B0%EC%9D%B4%ED%84%B0#\n",
      "https://search.naver.com/search.naver?where=nexearch&sm=top_hty&fbm=0&ie=utf8&query=%EB%B9%85%EB%8D%B0%EC%9D%B4%ED%84%B0#\n",
      "https://keep.naver.com/\n",
      "https://kin.naver.com/qna/detail.naver?d1id=11&dirId=11&docId=252712928&qb=67mF642w7J207YSw&enc=utf8&section=kin.ext&rank=1&search_sort=0&spq=0\n",
      "https://kin.naver.com/search/one2oneLink?dirId=11&docId=252712928&answerNo=9\n",
      "https://kin.naver.com/search/profileLink?dirId=11&docId=252712928&answerNo=9\n",
      "https://kin.naver.com/qna/detail.naver?d1id=11&dirId=11&docId=252712928&qb=67mF642w7J207YSw&enc=utf8&section=kin.ext&rank=1&search_sort=0&spq=0\n",
      "https://kin.naver.com/qna/detail.naver?d1id=1&dirId=10406&docId=420240584&qb=67mF642w7J207YSw&enc=utf8&section=kin.ext&rank=1&search_sort=0&spq=0\n",
      "https://search.naver.com/search.naver?where=nexearch&sm=top_hty&fbm=0&ie=utf8&query=%EB%B9%85%EB%8D%B0%EC%9D%B4%ED%84%B0#\n",
      "https://search.naver.com/search.naver?where=nexearch&sm=top_hty&fbm=0&ie=utf8&query=%EB%B9%85%EB%8D%B0%EC%9D%B4%ED%84%B0#\n",
      "https://search.naver.com/search.naver?where=kin&query=%EB%B9%85%EB%8D%B0%EC%9D%B4%ED%84%B0%20%ED%95%99%EC%9B%90&nso=so%3Ar%2Ca%3Aall%2Cp%3Aall&answer=0\n",
      "https://search.naver.com/search.naver?where=nexearch&sm=top_hty&fbm=0&ie=utf8&query=%EB%B9%85%EB%8D%B0%EC%9D%B4%ED%84%B0#\n",
      "https://search.naver.com/search.naver?where=nexearch&sm=top_hty&fbm=0&ie=utf8&query=%EB%B9%85%EB%8D%B0%EC%9D%B4%ED%84%B0#\n",
      "https://keep.naver.com/\n",
      "https://kin.naver.com/qna/detail.naver?d1id=4&dirId=40612&docId=421548501&qb=67mF642w7J207YSw&enc=utf8&section=kin.ext&rank=2&search_sort=0&spq=0\n",
      "https://kin.naver.com/search/one2oneLink?dirId=40612&docId=421548501&answerNo=4\n",
      "https://kin.naver.com/search/profileLink?dirId=40612&docId=421548501&answerNo=4\n",
      "https://kin.naver.com/qna/detail.naver?d1id=4&dirId=40612&docId=421548501&qb=67mF642w7J207YSw&enc=utf8&section=kin.ext&rank=2&search_sort=0&spq=0\n",
      "https://search.naver.com/search.naver?where=nexearch&sm=top_hty&fbm=0&ie=utf8&query=%EB%B9%85%EB%8D%B0%EC%9D%B4%ED%84%B0#\n",
      "https://search.naver.com/search.naver?where=nexearch&sm=top_hty&fbm=0&ie=utf8&query=%EB%B9%85%EB%8D%B0%EC%9D%B4%ED%84%B0#\n",
      "https://keep.naver.com/\n",
      "https://kin.naver.com/qna/detail.naver?d1id=11&dirId=110504&docId=419746957&qb=67mF642w7J207YSw&enc=utf8&section=kin.ext&rank=3&search_sort=0&spq=0\n",
      "https://m.expert.naver.com/expert/profile/home?storeId=100024469\n",
      "https://m.expert.naver.com/expert/profile/home?storeId=100024469\n",
      "https://m.expert.naver.com/expert/profile/home?storeId=100024469\n",
      "https://m.expert.naver.com/expert/profile/home?storeId=100024469\n",
      "https://m.expert.naver.com/expert/profile/home?storeId=100024469\n",
      "https://kin.naver.com/qna/detail.naver?d1id=11&dirId=110504&docId=419746957&qb=67mF642w7J207YSw&enc=utf8&section=kin.ext&rank=3&search_sort=0&spq=0\n",
      "https://search.naver.com/search.naver?where=kin&query=%EB%B9%85%EB%8D%B0%EC%9D%B4%ED%84%B0&nso=so%3Ar%2Ca%3Aall%2Cp%3Aall&sm=tab_nmr\n",
      "javascript:void(0);\n"
     ]
    },
    {
     "name": "stdout",
     "output_type": "stream",
     "text": [
      "https://saedu.naver.com/adbiz/searchad/intro.nhn\n",
      "https://adcr.naver.com/adcr?x=SKnGqAOGRuZBB2XKxjQK3////w==kLhTtZjaRYuTdCPLjYouAN0nPLryjNktaLGS1vXkt8PPIEhK859Lt1q6J8vdMhrT73tZdpjQ+gQkBvRSgIRi90liyWwE+/TdLoJEVOIJ9NVllCT8ZRijOGRgYSnOHofUK77SqIz+KQfTWOR0T63U6Z619XaPPvdVNkadnZWxA9q1skYQC5SQiLj0ir+FcmOSu+am03MCQSo7U2C/1RXSLnurrpHyNz0NgMXX2rYaWaPeu5odpuWPzjz85MHO4o0C15loctoHaSgGCItq5M1QV0lz1dt9iKhnYC7HvWsOOP+z8r6Iq9E01YP8IgbxmAN2gPb3O+Ll0undgxDOOEXydMzlf0wcX5qTEMhYoBl+JQGLZc7/78JY52pdujvs17jY43Bq4N5JwxUhE0A/U+RGVbek2U93SEenOp2NOz809YlOiNnWbzDz/7SFb55QNZw+h1kteApvAYlaXTxee7XzKm6qFUfzZopSPAuqOaQ7tHSl9a8vml/xYIdXc186ngiBsMq2qT5ILq21RnuAcgAD7dRbyiGOQda60a+LhCtJ2rLx/n/8Xpye29aiUTgYJT38F7HkYEuUa+stJM1aeVDP2BXALvI3k5vH76fUu+5maEtOOmCvuiFwz43vc4xGUPPPx2OQOHZ9sxuthr9cPi7wKV/sN9/yo+a4B1kcbRA3eQwGWXErBiVReh3+5Y9d2qR8mbsaZxz9k/YgenajjO+MFxceSDV8YCgjlxbrm4D5ILJOdukJ5nUOh7P2byHlMOuEtJuh9i8PQegxqILxkniPzRcwQhsUF+AR9T7fR3cLoiEuZAbBc4BCQPIKZ+YO36XTdAjVQmMUAOrfTgvgaGG9mBxYS80UCIavRBARB8FOGZG1phmf3ztyJ7pIGUa8eCNtxr/UsZSXPCL+CjQ1k0YTxG2xP775tXhq4G+dVCWrbgks=&p=0\n",
      "https://adcr.naver.com/adcr?x=SKnGqAOGRuZBB2XKxjQK3////w==kLhTtZjaRYuTdCPLjYouAN0nPLryjNktaLGS1vXkt8PPIEhK859Lt1q6J8vdMhrT73tZdpjQ+gQkBvRSgIRi90liyWwE+/TdLoJEVOIJ9NVllCT8ZRijOGRgYSnOHofUK77SqIz+KQfTWOR0T63U6Z619XaPPvdVNkadnZWxA9q1skYQC5SQiLj0ir+FcmOSu+am03MCQSo7U2C/1RXSLnurrpHyNz0NgMXX2rYaWaPeu5odpuWPzjz85MHO4o0C15loctoHaSgGCItq5M1QV0lz1dt9iKhnYC7HvWsOOP+z8r6Iq9E01YP8IgbxmAN2gPb3O+Ll0undgxDOOEXydMzlf0wcX5qTEMhYoBl+JQGLZc7/78JY52pdujvs17jY43Bq4N5JwxUhE0A/U+RGVbek2U93SEenOp2NOz809YlOiNnWbzDz/7SFb55QNZw+h1kteApvAYlaXTxee7XzKm6qFUfzZopSPAuqOaQ7tHSl9a8vml/xYIdXc186ngiBsMq2qT5ILq21RnuAcgAD7dRbyiGOQda60a+LhCtJ2rLx/n/8Xpye29aiUTgYJT38F7HkYEuUa+stJM1aeVDP2BXALvI3k5vH76fUu+5maEtOOmCvuiFwz43vc4xGUPPPx2OQOHZ9sxuthr9cPi7wKV/sN9/yo+a4B1kcbRA3eQwGWXErBiVReh3+5Y9d2qR8mbsaZxz9k/YgenajjO+MFxceSDV8YCgjlxbrm4D5ILJOdukJ5nUOh7P2byHlMOuEtJuh9i8PQegxqILxkniPzRcwQhsUF+AR9T7fR3cLoiEuZAbBc4BCQPIKZ+YO36XTdAjVQmMUAOrfTgvgaGG9mBxYS80UCIavRBARB8FOGZG1phmf3ztyJ7pIGUa8eCNtxr/UsZSXPCL+CjQ1k0YTxG2xP775tXhq4G+dVCWrbgks=&p=1\n",
      "https://adcr.naver.com/adcr?x=Q0xzrnfKdU1Ab/JCaIdKA////w==kg9uJ+mmz8mGYj/LGRThaujBZmeZN8lTEP0JpEkw4QNVXDz395uK1NMUxaO6GkVb4puXZnMXRbaeWgCmTePU7/f8Ls/eJKI82aa3xg/6qVDhTq2OZmCnYCm1W0yxe1eJ+eLaaqkwrVynKkJ24U9EKrP7qTI4b3qK36JB36pDUryY7ZRKrHjplbofqEafVIfqX6vk6E1Qn+l4jyReCKTs+cVNMcnZ/e6qLBKryZfSk9aCsLOgmcKWdC5eUrQuEjAaOEP5TtDU5ADUNv+ixb4hZR3da4Uayw6ukPdRMZYPSlJXBOLlTtpdBkK69Cy8i51hMBoAjzTd+qEil9EXsT7r7rQNV2uhqjbaz9K3/5CNRum3J7yaZT1QimCVNFAfC4cNS0kyiTbzFATiw45wR3q3VnIZcllHX1r1YOacxsNtrMHobp7zWaoZE7z+yyL/kdrd+xz0mEcQJhSm+Ms+pXHPQ89D2pDw7E5A40fhZUslSC/P7i2E0JawHp1rAhRpP8EYIf921sPSjIJ6NTLkjLdrSS7lUeGa9ghYEu86jWDQmwSoL1vkipvDk0BJtrAop3PoXeU22E/sZB5SrxvNh+N7SUev9eGUtu++mxgVBzG3k31gnuv+njjrcjrFwVxHx3/IPoers9M/ZWsFT600TBuIMkUcwBz+6lTQkJm0cTHcyRB4OA6FfEhkRRaSRwmpxPHjxluQUC7Rfiwny9gBV0yL/LQzFAG5XPNhCqP8GgnAdvUVkOt6m+trLyO8ZvECKGHspTxf0idPF3ZeGNvM8sdnhk40lYtIMg/LaVBTqe7wfu4vJceRg5GneZJfYvUI1ZleVV1yIvHOaalJInkC7/G/RyNatWM1nL31MdNqghftraXAVlwOao2rjceHbymVspczeIQXqaFGxDS2MQ1z7LnSLWL0iAz1XxA5YkXuRKGpVHZ5CnarVqg5ZyR3gckPDsSGL6XS6AHKozvIc0YNP29gngsWyOO9N8HIuTCrjgCtzILc=&p=0\n",
      "https://adcr.naver.com/adcr?x=Q0xzrnfKdU1Ab/JCaIdKA////w==kg9uJ+mmz8mGYj/LGRThaujBZmeZN8lTEP0JpEkw4QNVXDz395uK1NMUxaO6GkVb4puXZnMXRbaeWgCmTePU7/f8Ls/eJKI82aa3xg/6qVDhTq2OZmCnYCm1W0yxe1eJ+eLaaqkwrVynKkJ24U9EKrP7qTI4b3qK36JB36pDUryY7ZRKrHjplbofqEafVIfqX6vk6E1Qn+l4jyReCKTs+cVNMcnZ/e6qLBKryZfSk9aCsLOgmcKWdC5eUrQuEjAaOEP5TtDU5ADUNv+ixb4hZR3da4Uayw6ukPdRMZYPSlJXBOLlTtpdBkK69Cy8i51hMBoAjzTd+qEil9EXsT7r7rQNV2uhqjbaz9K3/5CNRum3J7yaZT1QimCVNFAfC4cNS0kyiTbzFATiw45wR3q3VnIZcllHX1r1YOacxsNtrMHobp7zWaoZE7z+yyL/kdrd+xz0mEcQJhSm+Ms+pXHPQ89D2pDw7E5A40fhZUslSC/P7i2E0JawHp1rAhRpP8EYIf921sPSjIJ6NTLkjLdrSS7lUeGa9ghYEu86jWDQmwSoL1vkipvDk0BJtrAop3PoXeU22E/sZB5SrxvNh+N7SUev9eGUtu++mxgVBzG3k31gnuv+njjrcjrFwVxHx3/IPoers9M/ZWsFT600TBuIMkUcwBz+6lTQkJm0cTHcyRB4OA6FfEhkRRaSRwmpxPHjxluQUC7Rfiwny9gBV0yL/LQzFAG5XPNhCqP8GgnAdvUVkOt6m+trLyO8ZvECKGHspTxf0idPF3ZeGNvM8sdnhk40lYtIMg/LaVBTqe7wfu4vJceRg5GneZJfYvUI1ZleVV1yIvHOaalJInkC7/G/RyNatWM1nL31MdNqghftraXAVlwOao2rjceHbymVspczeIQXqaFGxDS2MQ1z7LnSLWL0iAz1XxA5YkXuRKGpVHZ5CnarVqg5ZyR3gckPDsSGL6XS6AHKozvIc0YNP29gngsWyOO9N8HIuTCrjgCtzILc=&p=1\n",
      "https://adcr.naver.com/adcr?x=HghmNKkTEU8hj87JW+o7hP///w==kLhTtZjaRYuTdCPLjYouAN6vTdm9HYE3rhZVCSL8btj2FT4KQq3UWTg4oyODb4jKBIG7RA3fmoa5/fazwvL+RR5LyPzqS40IqYk5KKeXK14/jyb40x7j1FNx0cssnwOLAklWQiBkm4N+vgp7GO2Tn8lNtVXqPFrMeiWT4BOrGRDZ+7Sw0j19B6KPdHlKUF/0spvCbV4qR75HkWxVKnru6sOuR11XZIIyNZ9OghG+Kqx0KCPZAMKiKgV7GtPM0V6pvPI0Gw5ExJ/H2glWX8WVKQjKbvB8MjE8nB7+35n3NZp5WXY/IrfKQ7Al6tBApQNCzTJjcePLs9Wtl5vZE9tKbIopw7zJqPu8vWtCYrDEJFsK3vm931WKwztoSp3IetfNn0aDu4mBXmJYJPmFAERPWs7zggAKGps/r/lLnoi+jXGOnQErqs4zbT6Qpcgv9dWp/pLahxSeCsbdksz3qWEp2dK4t4kj6rwuRHG8gavOQdLGtMo4IMKe9HrfAgEFZAKoWWxcn/YBQSgj8UVFJ7TRuv6nA6hfporDECBQ1jxE4HA8eeJ+9XhAXG9+hCPL3YG6Idzt7Xinz3OKZ13ZfzULdScN9SEE1qiBDOnbqwsTuHUIEjLKg4zLxjql/M+8tIfb33jESiDFue+pumbAEEtUemmVS7vtA7nku5J/sccFw0Nlsu2DYiyOH/bpMyIoslNFgYAObBPlqnMYgR/Zof5tBu+fA5Jj9VP4TGhRLbnyug6CD7COgQoPMEfdYp9AU4jN6Fo9aFlX8hun5644vD/lTrPiksjey0SidoVhy5Xh3K25w6h6z9oAWHFxnlnG02jisruAiL29uuqoquYhIW2Ph9QWxFvRrFNfjPopCOZ3tOyROlsSaN7TYC9oZKFgnoftv8iIobBhilgitgqR5/ln/0CDwdB0REUM1/ZP1VcyYZSUTlLLK8YZ8c3VfO1Obype9He+jevma9XGfpHdsXei3i8yJN3nzLBgS94ava1RyHGc=&p=0\n",
      "https://adcr.naver.com/adcr?x=HghmNKkTEU8hj87JW+o7hP///w==kLhTtZjaRYuTdCPLjYouAN6vTdm9HYE3rhZVCSL8btj2FT4KQq3UWTg4oyODb4jKBIG7RA3fmoa5/fazwvL+RR5LyPzqS40IqYk5KKeXK14/jyb40x7j1FNx0cssnwOLAklWQiBkm4N+vgp7GO2Tn8lNtVXqPFrMeiWT4BOrGRDZ+7Sw0j19B6KPdHlKUF/0spvCbV4qR75HkWxVKnru6sOuR11XZIIyNZ9OghG+Kqx0KCPZAMKiKgV7GtPM0V6pvPI0Gw5ExJ/H2glWX8WVKQjKbvB8MjE8nB7+35n3NZp5WXY/IrfKQ7Al6tBApQNCzTJjcePLs9Wtl5vZE9tKbIopw7zJqPu8vWtCYrDEJFsK3vm931WKwztoSp3IetfNn0aDu4mBXmJYJPmFAERPWs7zggAKGps/r/lLnoi+jXGOnQErqs4zbT6Qpcgv9dWp/pLahxSeCsbdksz3qWEp2dK4t4kj6rwuRHG8gavOQdLGtMo4IMKe9HrfAgEFZAKoWWxcn/YBQSgj8UVFJ7TRuv6nA6hfporDECBQ1jxE4HA8eeJ+9XhAXG9+hCPL3YG6Idzt7Xinz3OKZ13ZfzULdScN9SEE1qiBDOnbqwsTuHUIEjLKg4zLxjql/M+8tIfb33jESiDFue+pumbAEEtUemmVS7vtA7nku5J/sccFw0Nlsu2DYiyOH/bpMyIoslNFgYAObBPlqnMYgR/Zof5tBu+fA5Jj9VP4TGhRLbnyug6CD7COgQoPMEfdYp9AU4jN6Fo9aFlX8hun5644vD/lTrPiksjey0SidoVhy5Xh3K25w6h6z9oAWHFxnlnG02jisruAiL29uuqoquYhIW2Ph9QWxFvRrFNfjPopCOZ3tOyROlsSaN7TYC9oZKFgnoftv8iIobBhilgitgqR5/ln/0CDwdB0REUM1/ZP1VcyYZSUTlLLK8YZ8c3VfO1Obype9He+jevma9XGfpHdsXei3i8yJN3nzLBgS94ava1RyHGc=&p=1\n",
      "https://adcr.naver.com/adcr?x=ODDpvgVTl9w6itG6v2sBAf///w==k37OcaXG4fkm825SmtOh5DurpM8CNqADSyuDx0rwMnyBf0nN1xRqFYo4fb9WUS1t61xiAFibR5uFFFVaG544iPVHFZb64e9BNnv+TozWYzfwz0VCYweEDPwB1ll0VAjcwMe78qQaMF86knNHwHkUxH3bRIlAclUk7Y11cSY37+Uyq/R7GibkFPfYU0v2fInA6rTWCTuNS+wE5+yab+jSZ0s8H0g4c1MMuKdAmlejFKRKYI2cax/4OvcZ4okWiJlAXf3oob6qv83xMOOg7OvIj+oRBKR89Pp5ZoxvWNwQZC23xfXK6BqnY8vqbuxhtQuy2tVbqaH6Zibr98Av+4Ao4w65L5C1fNjcpSaVWTi55+xOmdm58xI6XeCPhASEErUqSVu83dJCcuFXCDDbyRGjpJ/656wOCM431sKaBDoWJVyYwdralJtPofkeoxPCX59x1yEsb6QZRlglPF53sb5smzkHcj9WoTdcnwkrftumTRpnrrU46WQm3nNrJh2gelw7cUtnSHEAyaI5G6Bdhw/ofSbsSf44m2ulk3kdOMgT4C8QvZx/nAVN4yd6UCe8x+7sbc5R1OC7oZMXzroeKOuUQ5C+E9YnOZVUKnkxoQGwgXjlg1EB2wadEquALuUhlKkp0rxqcDpiIdFA4BB6zutmdG7k8WvM3w3GyjhZ0cRe2IHbDEJjdOwUWbV5qv6oh8DpiAwNgKUlScEWacGr/bKhhwS9SssFCMWKPZIkTJxrLOHJ3jMu1ocCnkEdWWpnJ5f/FQJKlkoLwa1bIZMoMfy5zQ9oQKRKVnfbpHNDO0ftbrVEnfZexFRWavz2WTHkbvzr/t3/qixgWKpMAAlBNje24YYs0i7lYOC0UOjcYCfH0o8R4SbYN+YtX9MBCwcIqWswnzpCmd6nBlf5AtDB/toZFaqVXHDGsZ1cllfjTgpdKSeo=&p=0\n",
      "https://nid.naver.com/user2/campaign/introNaverIdLogin.nhn\n",
      "https://adcr.naver.com/adcr?x=ODDpvgVTl9w6itG6v2sBAf///w==k37OcaXG4fkm825SmtOh5DurpM8CNqADSyuDx0rwMnyBf0nN1xRqFYo4fb9WUS1t61xiAFibR5uFFFVaG544iPVHFZb64e9BNnv+TozWYzfwz0VCYweEDPwB1ll0VAjcwMe78qQaMF86knNHwHkUxH3bRIlAclUk7Y11cSY37+Uyq/R7GibkFPfYU0v2fInA6rTWCTuNS+wE5+yab+jSZ0s8H0g4c1MMuKdAmlejFKRKYI2cax/4OvcZ4okWiJlAXf3oob6qv83xMOOg7OvIj+oRBKR89Pp5ZoxvWNwQZC23xfXK6BqnY8vqbuxhtQuy2tVbqaH6Zibr98Av+4Ao4w65L5C1fNjcpSaVWTi55+xOmdm58xI6XeCPhASEErUqSVu83dJCcuFXCDDbyRGjpJ/656wOCM431sKaBDoWJVyYwdralJtPofkeoxPCX59x1yEsb6QZRlglPF53sb5smzkHcj9WoTdcnwkrftumTRpnrrU46WQm3nNrJh2gelw7cUtnSHEAyaI5G6Bdhw/ofSbsSf44m2ulk3kdOMgT4C8QvZx/nAVN4yd6UCe8x+7sbc5R1OC7oZMXzroeKOuUQ5C+E9YnOZVUKnkxoQGwgXjlg1EB2wadEquALuUhlKkp0rxqcDpiIdFA4BB6zutmdG7k8WvM3w3GyjhZ0cRe2IHbDEJjdOwUWbV5qv6oh8DpiAwNgKUlScEWacGr/bKhhwS9SssFCMWKPZIkTJxrLOHJ3jMu1ocCnkEdWWpnJ5f/FQJKlkoLwa1bIZMoMfy5zQ9oQKRKVnfbpHNDO0ftbrVEnfZexFRWavz2WTHkbvzr/t3/qixgWKpMAAlBNje24YYs0i7lYOC0UOjcYCfH0o8R4SbYN+YtX9MBCwcIqWswnzpCmd6nBlf5AtDB/toZFaqVXHDGsZ1cllfjTgpdKSeo=&p=1\n",
      "https://adcr.naver.com/adcr?x=9ZE8dx3sYjHYYXGR2XCK/////w==kiQkjBwSvgKtabBxcfYI0rsqk9A80SZXAi8tyAaRd57Sd6hPX9GxXbJSpeex08Ht+0oaLMlEIls0j8gbSIfD+izkFSkjHIr3fQ7miXw4YEr8R+jeWtUnSR6tS7O9hh5QF2964hqJK8WkO4d6n54D3whmaUvFOO6/2WyFtUiWNEvKGgkM0gcBAzKqADiFJjS1V80u7lQNvJdL4ghfy2t7Xaj37qf6GrGS/WDOAM+IlXDngCXUK7yGka5zmhQ/Y3K6VNOZeRH4MJzOakyEC/jGLNwN/FgYCQGxkH9dXkktfDAW5Vc229eLxv2xXkUy1yd3YKBxsK/fXWeJrNy28XzkxSQ6y3qKemxthDmJRYY/SWgCmJx5cPMgpvYdmceLocX8qcLf8J6z0AtRnhHgpJHGImzl6WBM5dKr0BJieYHqFA31a+sSJmLIRTJDXmNFcgLuc9t4cE52QBKE9pE/EWGofNh+xaOu8ka+BbTbY2AmQsYN2c4I259ijS1ijnCR9cXs/lLp+TQvppGepkLCjJjl3uPlePZ+ppRS4WRv0n9+wr/0Fu7M7oaN4EaNzOgMc2/z3ionxGbvW2AxtmWBZb2Vz5g72M9huoaL0fAvpwsypmOziKj6F4vDyFzPWgVKQm2P5McdH198CemgswX8ZaMAkWWYbDUmvpvZ1x6zs/QIuYoMNFxB0Oga6qtEbZ24/y2FoTxu4tVBkWGMJZfqIUhxUsaPe8sKC9v6eCNKWn93SQ+cej1YmkfE5JlMO3fhqd9jzzuTLcKIMs7ujUHjtWnZjYihUNte2xjlw6fS0EqfrOJCzJ5NN3Yv16h4fJuSgkUKUqUFVzyZKD2ob+Bf1A4lMZbS9rgcUaxk0Qd5+6mKsVyHty3hf4+X8eMdQODGyDHK4KIO1Ce5KBugWi99uzjvPEYNP4Lu2snfEA94MXue3KLFrd8vxNtxVs5NZcukIy78R&p=0\n",
      "https://adcr.naver.com/adcr?x=9ZE8dx3sYjHYYXGR2XCK/////w==kiQkjBwSvgKtabBxcfYI0rsqk9A80SZXAi8tyAaRd57Sd6hPX9GxXbJSpeex08Ht+0oaLMlEIls0j8gbSIfD+izkFSkjHIr3fQ7miXw4YEr8R+jeWtUnSR6tS7O9hh5QF2964hqJK8WkO4d6n54D3whmaUvFOO6/2WyFtUiWNEvKGgkM0gcBAzKqADiFJjS1V80u7lQNvJdL4ghfy2t7Xaj37qf6GrGS/WDOAM+IlXDngCXUK7yGka5zmhQ/Y3K6VNOZeRH4MJzOakyEC/jGLNwN/FgYCQGxkH9dXkktfDAW5Vc229eLxv2xXkUy1yd3YKBxsK/fXWeJrNy28XzkxSQ6y3qKemxthDmJRYY/SWgCmJx5cPMgpvYdmceLocX8qcLf8J6z0AtRnhHgpJHGImzl6WBM5dKr0BJieYHqFA31a+sSJmLIRTJDXmNFcgLuc9t4cE52QBKE9pE/EWGofNh+xaOu8ka+BbTbY2AmQsYN2c4I259ijS1ijnCR9cXs/lLp+TQvppGepkLCjJjl3uPlePZ+ppRS4WRv0n9+wr/0Fu7M7oaN4EaNzOgMc2/z3ionxGbvW2AxtmWBZb2Vz5g72M9huoaL0fAvpwsypmOziKj6F4vDyFzPWgVKQm2P5McdH198CemgswX8ZaMAkWWYbDUmvpvZ1x6zs/QIuYoMNFxB0Oga6qtEbZ24/y2FoTxu4tVBkWGMJZfqIUhxUsaPe8sKC9v6eCNKWn93SQ+cej1YmkfE5JlMO3fhqd9jzzuTLcKIMs7ujUHjtWnZjYihUNte2xjlw6fS0EqfrOJCzJ5NN3Yv16h4fJuSgkUKUqUFVzyZKD2ob+Bf1A4lMZbS9rgcUaxk0Qd5+6mKsVyHty3hf4+X8eMdQODGyDHK4KIO1Ce5KBugWi99uzjvPEYNP4Lu2snfEA94MXue3KLFrd8vxNtxVs5NZcukIy78R&p=1\n",
      "https://ad.search.naver.com/search.naver?where=ad&query=%EB%B9%85%EB%8D%B0%EC%9D%B4%ED%84%B0&referenceId=hXcdbwp0YiRss4TiKVwssssstOZ-238413&bucketTest=impression-neo-94&bucket=0\n",
      "None\n",
      "https://search.naver.com/search.naver?query=%EB%B9%85%EB%8D%B0%EC%9D%B4%ED%84%B0&sm=tab_pge&where=nexearch\n",
      "https://search.naver.com/search.naver?display=15&f=&filetype=0&page=2&query=%EB%B9%85%EB%8D%B0%EC%9D%B4%ED%84%B0&research_url=&sm=tab_pge&start=1&where=web\n",
      "https://search.naver.com/search.naver?display=15&f=&filetype=0&page=3&query=%EB%B9%85%EB%8D%B0%EC%9D%B4%ED%84%B0&research_url=&sm=tab_pge&start=16&where=web\n",
      "https://search.naver.com/search.naver?display=15&f=&filetype=0&page=4&query=%EB%B9%85%EB%8D%B0%EC%9D%B4%ED%84%B0&research_url=&sm=tab_pge&start=31&where=web\n",
      "https://search.naver.com/search.naver?display=15&f=&filetype=0&page=5&query=%EB%B9%85%EB%8D%B0%EC%9D%B4%ED%84%B0&research_url=&sm=tab_pge&start=46&where=web\n"
     ]
    },
    {
     "name": "stdout",
     "output_type": "stream",
     "text": [
      "https://search.naver.com/search.naver?display=15&f=&filetype=0&page=6&query=%EB%B9%85%EB%8D%B0%EC%9D%B4%ED%84%B0&research_url=&sm=tab_pge&start=61&where=web\n",
      "https://search.naver.com/search.naver?display=15&f=&filetype=0&page=7&query=%EB%B9%85%EB%8D%B0%EC%9D%B4%ED%84%B0&research_url=&sm=tab_pge&start=76&where=web\n",
      "https://search.naver.com/search.naver?display=15&f=&filetype=0&page=8&query=%EB%B9%85%EB%8D%B0%EC%9D%B4%ED%84%B0&research_url=&sm=tab_pge&start=91&where=web\n",
      "https://search.naver.com/search.naver?display=15&f=&filetype=0&page=9&query=%EB%B9%85%EB%8D%B0%EC%9D%B4%ED%84%B0&research_url=&sm=tab_pge&start=106&where=web\n",
      "https://search.naver.com/search.naver?display=15&f=&filetype=0&page=10&query=%EB%B9%85%EB%8D%B0%EC%9D%B4%ED%84%B0&research_url=&sm=tab_pge&start=121&where=web\n",
      "https://search.naver.com/search.naver?display=15&f=&filetype=0&page=11&query=%EB%B9%85%EB%8D%B0%EC%9D%B4%ED%84%B0&research_url=&sm=tab_pge&start=1&where=web\n",
      "https://help.naver.com/support/alias/search/word/word_1.naver\n",
      "https://help.naver.com/support/alias/search/word/word_2.naver\n",
      "https://search.naver.com/search.naver?where=nexearch&sm=top_hty&fbm=0&ie=utf8&query=%EB%B9%85%EB%8D%B0%EC%9D%B4%ED%84%B0#\n",
      "https://search.naver.com/search.naver?where=nexearch&query=%EB%B9%85%EB%8D%B0%EC%9D%B4%ED%84%B0+%EC%A0%84%EB%AC%B8%EA%B0%80&ie=utf8&sm=tab_she&qdt=0\n",
      "https://search.naver.com/search.naver?where=nexearch&query=%EB%B9%85%EB%8D%B0%EC%9D%B4%ED%84%B0%EB%B6%84%EC%84%9D%EA%B8%B0%EC%82%AC&ie=utf8&sm=tab_she&qdt=0\n",
      "https://search.naver.com/search.naver?where=nexearch&query=%ED%86%B5%EA%B3%84%ED%95%99+%EB%B9%85%EB%8D%B0%EC%9D%B4%ED%84%B0%EB%A5%BC+%EC%9E%A1%EB%8B%A4&ie=utf8&sm=tab_she&qdt=0\n",
      "https://search.naver.com/search.naver?where=nexearch&query=%EB%B9%85%EB%8D%B0%EC%9D%B4%ED%84%B0+%EB%B6%84%EC%84%9D%EA%B8%B0%EC%82%AC+%EC%9D%BC%EC%A0%95&ie=utf8&sm=tab_she&qdt=0\n",
      "https://search.naver.com/search.naver?where=nexearch&query=%EB%B9%85%EB%8D%B0%EC%9D%B4%ED%84%B0+%EC%9E%90%EA%B2%A9%EC%A6%9D&ie=utf8&sm=tab_she&qdt=0\n",
      "https://search.naver.com/search.naver?where=nexearch&query=%EB%B9%85%EB%8D%B0%EC%9D%B4%ED%84%B0+%EB%B6%84%EC%84%9D%EA%B8%B0%EC%82%AC+%ED%95%84%EA%B8%B0&ie=utf8&sm=tab_she&qdt=0\n",
      "https://search.naver.com/search.naver?where=nexearch&query=%EB%B9%85%EB%8D%B0%EC%9D%B4%ED%84%B0+%EB%B6%84%EC%84%9D&ie=utf8&sm=tab_she&qdt=0\n",
      "https://search.naver.com/search.naver?where=nexearch&query=%EC%84%A0%EC%9D%BC%EB%B9%85%EB%8D%B0%EC%9D%B4%ED%84%B0%EA%B3%A0%EB%93%B1%ED%95%99%EA%B5%90&ie=utf8&sm=tab_she&qdt=0\n",
      "https://search.naver.com/search.naver?where=nexearch&query=%EB%B9%85%EB%8D%B0%EC%9D%B4%ED%84%B0+%EC%A4%80%EC%A0%84%EB%AC%B8%EA%B0%80&ie=utf8&sm=tab_she&qdt=0\n",
      "https://search.naver.com/search.naver?where=nexearch&query=%EB%B9%85%EB%8D%B0%EC%9D%B4%ED%84%B0+%EB%A7%88%EC%BC%80%ED%8C%85&ie=utf8&sm=tab_she&qdt=0\n",
      "https://search.naver.com/search.naver?where=nexearch&sm=top_hty&fbm=0&ie=utf8&query=%EB%B9%85%EB%8D%B0%EC%9D%B4%ED%84%B0#\n",
      "https://search.naver.com/search.naver?where=nexearch&sm=top_hty&fbm=0&ie=utf8&query=%EB%B9%85%EB%8D%B0%EC%9D%B4%ED%84%B0#\n",
      "https://m.news.naver.com/covid19/index.nhn\n",
      "https://search.naver.com/search.naver?where=nexearch&query=%EC%8B%A0%EC%86%8D%ED%95%AD%EC%9B%90%EA%B2%80%EC%82%AC%EA%B8%B0%EA%B4%80&sm=tab_etc\n",
      "https://news.naver.com/main/factcheck/main.nhn?section=%C4%DA%B7%CE%B3%AA%B9%E9%BD%C5\n",
      "https://search.naver.com/search.naver?where=nexearch&query=%EC%9A%B0%EB%A6%AC%EB%8F%99%EB%84%A4+%EC%9E%94%EC%97%AC%EB%B0%B1%EC%8B%A0%EC%98%88%EC%95%BD&sm=tab_etc\n",
      "https://search.naver.com/search.naver?where=nexearch&sm=top_hty&fbm=0&ie=utf8&query=%EB%B9%85%EB%8D%B0%EC%9D%B4%ED%84%B0#\n",
      "https://www.naver.com/more.html\n",
      "https://policy.naver.com/policy/service.html\n",
      "https://policy.naver.com/policy/privacy.html\n",
      "https://help.naver.com/support/alias/search/integration/integration_1.naver\n",
      "https://www.navercorp.com/\n"
     ]
    }
   ],
   "source": [
    "# a 태그를 얻어 속성href 출력\n",
    "tagAs = driver.find_elements(By.TAG_NAME, 'a')\n",
    "len(tagAs)\n",
    "\n",
    "for a in tagAs:\n",
    "    print(a.get_attribute('href'))"
   ]
  },
  {
   "cell_type": "code",
   "execution_count": 10,
   "id": "f6efb4f8",
   "metadata": {},
   "outputs": [],
   "source": [
    "driver.close()"
   ]
  },
  {
   "cell_type": "code",
   "execution_count": 26,
   "id": "3a34dc30",
   "metadata": {},
   "outputs": [],
   "source": [
    "# str.startswith(str)"
   ]
  },
  {
   "cell_type": "code",
   "execution_count": 27,
   "id": "e7a4570a",
   "metadata": {},
   "outputs": [
    {
     "data": {
      "text/plain": [
       "(True, False)"
      ]
     },
     "execution_count": 27,
     "metadata": {},
     "output_type": "execute_result"
    }
   ],
   "source": [
    "str1 = \"de\"\n",
    "str2 = \"fgfgdrw\"\n",
    "str3 = \"dee3e\"\n",
    "str2.startswith(str2), str2.startswith(str3)"
   ]
  },
  {
   "cell_type": "code",
   "execution_count": 28,
   "id": "3d99c036",
   "metadata": {},
   "outputs": [
    {
     "data": {
      "text/plain": [
       "(True, False)"
      ]
     },
     "execution_count": 28,
     "metadata": {},
     "output_type": "execute_result"
    }
   ],
   "source": [
    "str2.startswith('gd', 3), str3.startswith('de', 2)"
   ]
  },
  {
   "cell_type": "code",
   "execution_count": null,
   "id": "c2fc16e2",
   "metadata": {},
   "outputs": [],
   "source": []
  },
  {
   "cell_type": "code",
   "execution_count": null,
   "id": "75a7480f",
   "metadata": {},
   "outputs": [],
   "source": []
  },
  {
   "cell_type": "markdown",
   "id": "e6769049",
   "metadata": {},
   "source": [
    "# 활용 1\n",
    "- 네이버에서 다음으로 간다음 어쩌구 저쩌구"
   ]
  },
  {
   "cell_type": "code",
   "execution_count": 110,
   "id": "cbd6dfbd",
   "metadata": {},
   "outputs": [],
   "source": [
    "naver = \"http://naver.com\"\n",
    "daum = \"http://daum.net\""
   ]
  },
  {
   "cell_type": "code",
   "execution_count": 111,
   "id": "cf058a83",
   "metadata": {},
   "outputs": [
    {
     "data": {
      "text/plain": [
       "'G:/내 드라이브/working/tool/chromedriver_win32/chromedriver.exe'"
      ]
     },
     "execution_count": 111,
     "metadata": {},
     "output_type": "execute_result"
    }
   ],
   "source": [
    "path"
   ]
  },
  {
   "cell_type": "code",
   "execution_count": 138,
   "id": "0974422a",
   "metadata": {},
   "outputs": [],
   "source": [
    "driver = webdriver.Chrome(path)\n",
    "driver.get(naver)"
   ]
  },
  {
   "cell_type": "code",
   "execution_count": 139,
   "id": "97c139bc",
   "metadata": {},
   "outputs": [],
   "source": [
    "driver.get(daum)"
   ]
  },
  {
   "cell_type": "code",
   "execution_count": 140,
   "id": "78cb7b0c",
   "metadata": {},
   "outputs": [],
   "source": [
    "search = driver.find_element(By.NAME, 'q')\n",
    "search.send_keys('빅데이터')"
   ]
  },
  {
   "cell_type": "code",
   "execution_count": 141,
   "id": "6ace7338",
   "metadata": {},
   "outputs": [],
   "source": [
    "# search.send_keys(Keys.RETURN)\n",
    "#search.send_keys(Keys.ENTER)"
   ]
  },
  {
   "cell_type": "code",
   "execution_count": 142,
   "id": "3a690194",
   "metadata": {},
   "outputs": [],
   "source": [
    "sBtn = driver.find_element(By.XPATH, '//*[@id=\"daumSearch\"]/fieldset/div/div/button[3]')"
   ]
  },
  {
   "cell_type": "code",
   "execution_count": 143,
   "id": "a67757a3",
   "metadata": {},
   "outputs": [],
   "source": [
    "sBtn.click()"
   ]
  },
  {
   "cell_type": "markdown",
   "id": "0d3b70da",
   "metadata": {},
   "source": [
    "## .refresh()"
   ]
  },
  {
   "cell_type": "code",
   "execution_count": 137,
   "id": "9af22e68",
   "metadata": {},
   "outputs": [],
   "source": [
    "driver.refresh()"
   ]
  },
  {
   "cell_type": "code",
   "execution_count": null,
   "id": "c62fc130",
   "metadata": {},
   "outputs": [],
   "source": [
    "driver.close()"
   ]
  },
  {
   "cell_type": "code",
   "execution_count": null,
   "id": "24860a05",
   "metadata": {},
   "outputs": [],
   "source": []
  },
  {
   "cell_type": "markdown",
   "id": "127be6b8",
   "metadata": {},
   "source": [
    "# 활용 2\n",
    "- 한빛네트워크 사이트 로그인 후 점수 가져오기"
   ]
  },
  {
   "cell_type": "code",
   "execution_count": 170,
   "id": "c75c2214",
   "metadata": {},
   "outputs": [],
   "source": [
    "driver = webdriver.Chrome(path)"
   ]
  },
  {
   "cell_type": "code",
   "execution_count": 171,
   "id": "dc2cede3",
   "metadata": {},
   "outputs": [],
   "source": [
    "driver.get('https://www.hanbit.co.kr/')"
   ]
  },
  {
   "cell_type": "code",
   "execution_count": 172,
   "id": "ef000df7",
   "metadata": {},
   "outputs": [],
   "source": [
    "element = driver.find_element(By.CLASS_NAME, 'login')"
   ]
  },
  {
   "cell_type": "code",
   "execution_count": 173,
   "id": "686865ee",
   "metadata": {},
   "outputs": [],
   "source": [
    "element.click()"
   ]
  },
  {
   "cell_type": "code",
   "execution_count": 174,
   "id": "0da9e46b",
   "metadata": {},
   "outputs": [],
   "source": [
    "# 로그인 화면으로 와 있다."
   ]
  },
  {
   "cell_type": "code",
   "execution_count": 175,
   "id": "b5a0e8f7",
   "metadata": {},
   "outputs": [],
   "source": [
    "m_id = 'sybyeon1102'\n",
    "m_pw = 'test1102_'\n",
    "\n",
    "element = driver.find_element(By.ID, 'm_id')\n",
    "\n",
    "element.send_keys(m_id)\n",
    "\n",
    "time.sleep(1)\n",
    "\n",
    "element = driver.find_element(By.ID, 'm_passwd')\n",
    "element.send_keys(m_pw)"
   ]
  },
  {
   "cell_type": "code",
   "execution_count": 176,
   "id": "affd7edb",
   "metadata": {},
   "outputs": [],
   "source": [
    "time.sleep(1)\n",
    "element = driver.find_element(By.CLASS_NAME, 'btn_login')\n",
    "element.click()"
   ]
  },
  {
   "cell_type": "markdown",
   "id": "536c5d62",
   "metadata": {},
   "source": [
    "## 과제0727_4\n",
    "- 한빛 네트워크 마이페이지에서 마일리지 점수를 가져와서 출력하세요"
   ]
  },
  {
   "cell_type": "code",
   "execution_count": 15,
   "id": "6ec78a64",
   "metadata": {},
   "outputs": [],
   "source": [
    "import time"
   ]
  },
  {
   "cell_type": "code",
   "execution_count": 16,
   "id": "0c24be5b",
   "metadata": {},
   "outputs": [
    {
     "name": "stderr",
     "output_type": "stream",
     "text": [
      "C:\\Users\\admin\\AppData\\Local\\Temp\\ipykernel_8768\\1633674624.py:1: DeprecationWarning: executable_path has been deprecated, please pass in a Service object\n",
      "  driver = webdriver.Chrome(path)\n"
     ]
    }
   ],
   "source": [
    "driver = webdriver.Chrome(path)\n",
    "driver.get('https://www.hanbit.co.kr/')\n",
    "\n",
    "# 로그인\n",
    "element = driver.find_element(By.CLASS_NAME, 'login')\n",
    "element.click()\n",
    "\n",
    "m_id = 'sybyeon1102'\n",
    "m_pw = 'test1102_'\n",
    "\n",
    "element = driver.find_element(By.ID, 'm_id')\n",
    "element.send_keys(m_id)\n",
    "time.sleep(1)\n",
    "\n",
    "element = driver.find_element(By.ID, 'm_passwd')\n",
    "element.send_keys(m_pw)\n",
    "time.sleep(1)\n",
    "\n",
    "element = driver.find_element(By.CLASS_NAME, 'btn_login')\n",
    "element.click()"
   ]
  },
  {
   "cell_type": "code",
   "execution_count": 17,
   "id": "8043f814",
   "metadata": {},
   "outputs": [
    {
     "name": "stdout",
     "output_type": "stream",
     "text": [
      "마일리지 :  2,000 점\n"
     ]
    }
   ],
   "source": [
    "# 마이페이지 에서 마일리지 가져오기\n",
    "\n",
    "element = driver.find_element(By.XPATH, '//*[@id=\"wrap_nav\"]/ul[2]/li[3]/a')\n",
    "my_page = element.get_attribute('href')\n",
    "driver.get(my_page)\n",
    "\n",
    "element = driver.find_element(By.XPATH, '//*[@id=\"container\"]/div/div[2]/dl[1]/dd/span')\n",
    "print('마일리지 : ', element.text, '점')"
   ]
  },
  {
   "cell_type": "code",
   "execution_count": 18,
   "id": "96f66956",
   "metadata": {},
   "outputs": [],
   "source": [
    "driver.close()"
   ]
  },
  {
   "cell_type": "markdown",
   "id": "3ce82f68",
   "metadata": {},
   "source": [
    "## 도전과제 0727 - 자동로그인방지"
   ]
  },
  {
   "cell_type": "markdown",
   "id": "4ed00754",
   "metadata": {},
   "source": [
    "- 네이버 로그인해서 메일 긁어오기 who/ title"
   ]
  },
  {
   "cell_type": "markdown",
   "id": "10601ad1",
   "metadata": {},
   "source": [
    "### pyperclip 사용\n",
    "- import pyperclip\n",
    "- pyperclip(str) : 클립보드에 str이 들어감 (복사된 상태가 됨)\n",
    "- element.sendkeys(Keys.CONTROL, 'v') : Ctrl + v 키입력"
   ]
  },
  {
   "cell_type": "markdown",
   "id": "7c833659",
   "metadata": {},
   "source": [
    "### js 사용\n",
    "- driver.execute_script('alert(\"js code\");')"
   ]
  },
  {
   "cell_type": "code",
   "execution_count": null,
   "id": "de494ca2",
   "metadata": {},
   "outputs": [],
   "source": [
    "path = 'C:/tool/chromedriver.exe'\n",
    "driver = webdriver.Chrome(path)\n",
    "driver.get('https://www.naver.com')\n",
    "driver.maximize_window()\n",
    "time.sleep(1)\n",
    "element = driver.find_element(By.CLASS_NAME, 'link_login')\n",
    "element.click()\n",
    "id  = ''\n",
    "pw = ''\n",
    "\n",
    "# execute_script 함수를 사용하면 자바스크립트 코드를 실행\n",
    "# js는 getElementById('id').value로 값을 가져올 수 있다.\n",
    "driver.execute_script(\"document.getElementById('id').value=\\'\" + id + \"\\'\") # text \n",
    "\n",
    "time.sleep(1)\n",
    "driver.execute_script(\"document.getElementById('pw').value=\\'\" + pw + \"\\'\")\n",
    "time.sleep(1)"
   ]
  },
  {
   "cell_type": "code",
   "execution_count": null,
   "id": "4faef158",
   "metadata": {},
   "outputs": [],
   "source": [
    "element = driver.find_element(By.CLASS_NAME, 'btn_login')\n",
    "element.click()\n",
    "# print(driver.page_source)\n",
    "\n",
    "# 이메일\n",
    "driver.maximize_window()\n",
    "driver.find_element(By.CSS_SELECTOR, '#NM_FAVORITE > div.group_nav > ul.list_nav.type_fix > li:nth-child(1) > a').click()\n",
    "\n",
    "elements = driver.find_elements(By.CSS_SELECTOR,'#list_for_view > ol > li> div > div.subject')\n",
    "for e in elements:\n",
    "    print(e.text)\n",
    "    \n",
    "driver.close()\n",
    "driver.quit()\n"
   ]
  }
 ],
 "metadata": {
  "kernelspec": {
   "display_name": "Python 3 (ipykernel)",
   "language": "python",
   "name": "python3"
  },
  "language_info": {
   "codemirror_mode": {
    "name": "ipython",
    "version": 3
   },
   "file_extension": ".py",
   "mimetype": "text/x-python",
   "name": "python",
   "nbconvert_exporter": "python",
   "pygments_lexer": "ipython3",
   "version": "3.8.13"
  },
  "toc": {
   "base_numbering": 1,
   "nav_menu": {},
   "number_sections": true,
   "sideBar": true,
   "skip_h1_title": false,
   "title_cell": "Table of Contents",
   "title_sidebar": "Contents",
   "toc_cell": false,
   "toc_position": {
    "height": "calc(100% - 180px)",
    "left": "10px",
    "top": "150px",
    "width": "349.078px"
   },
   "toc_section_display": true,
   "toc_window_display": true
  }
 },
 "nbformat": 4,
 "nbformat_minor": 5
}
