{
 "cells": [
  {
   "cell_type": "code",
   "execution_count": 1,
   "id": "a4713dda",
   "metadata": {},
   "outputs": [],
   "source": [
    "import re, requests, urllib"
   ]
  },
  {
   "cell_type": "markdown",
   "id": "9f478f71",
   "metadata": {},
   "source": [
    "# 과제 0721_3"
   ]
  },
  {
   "cell_type": "markdown",
   "id": "9dfa3aa5",
   "metadata": {},
   "source": [
    "- URL = 'http://naver.com' 에서 split()함수와 정규표현식을 이용하여 ['메일', '카페', '블로그', '지식iN', '쇼핑']을 출력하세요\n",
    "- https://www.naver.com/"
   ]
  },
  {
   "cell_type": "markdown",
   "id": "b90c2776",
   "metadata": {},
   "source": [
    "```\n",
    ">> split() 쓰는 걸 빼먹었습니다.\n",
    "```"
   ]
  },
  {
   "cell_type": "code",
   "execution_count": 2,
   "id": "7e320e79",
   "metadata": {},
   "outputs": [
    {
     "data": {
      "text/plain": [
       "'\\n<!doctype html>                          <html lang=\"ko\" data-dark=\"false\"> <head> <meta charset=\"utf-8\"> <title>NAVER</title> <meta http-equiv=\"X-UA-Compatible\" content=\"IE=edge\"> <meta name=\"viewport\" content=\"width=1190\"> <meta name=\"apple-mobile-web-app-title\" content=\"NAVER\"/> <meta name=\"robots\" content=\"index,nofollow\"/> <meta name=\"description\" content=\"네이버 메인에서 다양한 정보와 유용한 컨텐츠를 만나 보세요\"/> <meta property=\"og:title\" content=\"네이버\"> <meta property=\"og:url\" content=\"https://www.naver.com/\"> '"
      ]
     },
     "execution_count": 2,
     "metadata": {},
     "output_type": "execute_result"
    }
   ],
   "source": [
    "URL = 'https://naver.com'\n",
    "response = requests.get(URL)\n",
    "text = response.text\n",
    "text[:500]"
   ]
  },
  {
   "cell_type": "code",
   "execution_count": 6,
   "id": "377fe6de",
   "metadata": {},
   "outputs": [
    {
     "name": "stdout",
     "output_type": "stream",
     "text": [
      "메일의 인덱스 :  25960 \n",
      "\n",
      "text 일부 : \n",
      " mail\"></i>메일</a>\n",
      "</li>\n",
      "<li class=\"nav_item\"><a href=\"https://section.cafe.naver.com/\" class=\"nav\" data-clk=\"svc.cafe\">카페</a></li>\n",
      "<li class=\"nav_item\"><a href=\"https://section.blog.naver.com/\" class=\"nav\" data-clk=\"svc.blog\">블로그</a></li>\n",
      "<li class=\"nav_item\"><a href=\"https://kin.naver.com/\" class=\"nav\" data-clk=\"svc.kin\">지식iN</a></li>\n",
      "<li class=\"nav_item\"><a href=\"https://shopping.naver.com/\" class=\"nav shop\" data-clk=\"svc.shopping\"><span class=\"blind\">쇼핑</span></a></li>\n",
      "<li class=\"nav_item\"><a href=\"http\n"
     ]
    }
   ],
   "source": [
    "idx = text.find('메일')\n",
    "print('메일의 인덱스 : ', idx, '\\n')\n",
    "text1 = text[idx-10: idx+500] # 임의로 지정\n",
    "print('text 일부 : \\n', text1)"
   ]
  },
  {
   "cell_type": "code",
   "execution_count": 7,
   "id": "0f1d2ee0",
   "metadata": {},
   "outputs": [
    {
     "name": "stdout",
     "output_type": "stream",
     "text": [
      "['메일', '카페', '블로그', '지식iN', '쇼핑']\n"
     ]
    }
   ],
   "source": [
    "print(re.findall('>([a-zA-Z가-힣]+)<', text1))"
   ]
  },
  {
   "cell_type": "markdown",
   "id": "41580339",
   "metadata": {},
   "source": [
    "# 과제0721_4\n",
    "- 웹주소를 가져와서 이미지를 저장하세요"
   ]
  },
  {
   "cell_type": "code",
   "execution_count": 5,
   "id": "26fd225f",
   "metadata": {},
   "outputs": [
    {
     "name": "stdout",
     "output_type": "stream",
     "text": [
      "('daum_logo.png', <http.client.HTTPMessage object at 0x000001C41771DD00>)\n"
     ]
    }
   ],
   "source": [
    "img_src = 'https://t1.daumcdn.net/daumtop_chanel/op/20200723055344399.png'\n",
    "new_name = 'daum_logo.png'\n",
    "\n",
    "print(urllib.request.urlretrieve(img_src, new_name))"
   ]
  }
 ],
 "metadata": {
  "kernelspec": {
   "display_name": "Python 3 (ipykernel)",
   "language": "python",
   "name": "python3"
  },
  "language_info": {
   "codemirror_mode": {
    "name": "ipython",
    "version": 3
   },
   "file_extension": ".py",
   "mimetype": "text/x-python",
   "name": "python",
   "nbconvert_exporter": "python",
   "pygments_lexer": "ipython3",
   "version": "3.8.13"
  },
  "toc": {
   "base_numbering": 1,
   "nav_menu": {},
   "number_sections": true,
   "sideBar": true,
   "skip_h1_title": false,
   "title_cell": "Table of Contents",
   "title_sidebar": "Contents",
   "toc_cell": false,
   "toc_position": {
    "height": "calc(100% - 180px)",
    "left": "10px",
    "top": "150px",
    "width": "316px"
   },
   "toc_section_display": true,
   "toc_window_display": true
  }
 },
 "nbformat": 4,
 "nbformat_minor": 5
}
