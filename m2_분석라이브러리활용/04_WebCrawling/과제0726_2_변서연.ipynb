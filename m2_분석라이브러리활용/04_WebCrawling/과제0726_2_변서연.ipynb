{
 "cells": [
  {
   "cell_type": "code",
   "execution_count": 2,
   "id": "ca7c6ce7",
   "metadata": {},
   "outputs": [],
   "source": [
    "from datetime import datetime\n",
    "import requests\n",
    "from bs4 import BeautifulSoup\n",
    "import xmltodict\n",
    "import konlpy\n",
    "from konlpy.tag import Okt\n",
    "import pandas as pd\n",
    "import numpy as np\n",
    "import re\n",
    "from collections import Counter\n",
    "from matplotlib import rc\n",
    "import matplotlib.pyplot as plt\n",
    "import seaborn as sns\n",
    "from wordcloud import WordCloud"
   ]
  },
  {
   "cell_type": "code",
   "execution_count": 3,
   "id": "117cb06b",
   "metadata": {},
   "outputs": [],
   "source": [
    "import warnings\n",
    "warnings.filterwarnings('ignore')"
   ]
  },
  {
   "cell_type": "markdown",
   "id": "69956213",
   "metadata": {},
   "source": [
    "# 과제 0726_2\n",
    "네이버 카테고리별 기사를 아래 카테고리 정의를 기준으로 크롤링한 후 불필요한 공백을 제거하고 한글만으로 된 데이터 프레임을 출력하세요.\n",
    "(전체, 카테고리별로키워드 분석을 위한 시각화)\n",
    "- 카테고리 정의\n",
    "    - 100 정치\n",
    "        - (청와대[264] + 국회/정당[265] + 북한[268] + 국방/외교[267])\n",
    "\n",
    "    - 101 경제\n",
    "        - (금융[259] + 증권[258] + 산업/재계[261] + 글로벌 경제[262] + 부동산[260])\n",
    "\n",
    "    - 103 생활/문화\n",
    "        - (건강정보[241] + 여행/레저[237] + 공연/전시[242] + 날씨[248] + 생활문화 일반[245])\n",
    "\n",
    "    - 105 IT/과학\n",
    "        - (통신/뉴미디어[227] + IT 일반[230] + 컴퓨터[283] + 과학 일반[228])\n",
    "        \n",
    "- 카테고리별 1000개, 총 4천개로 구성된 데이터프레임 생성"
   ]
  },
  {
   "cell_type": "markdown",
   "id": "c15249ac",
   "metadata": {},
   "source": [
    "## 크롤링"
   ]
  },
  {
   "cell_type": "markdown",
   "id": "035ab7e7",
   "metadata": {},
   "source": [
    "- https://news.naver.com/main/list.naver?mode=LS2D&mid=shm&sid1=100&sid2=265\n",
    "- sid1, sid2"
   ]
  },
  {
   "cell_type": "markdown",
   "id": "22495a92",
   "metadata": {},
   "source": [
    "- https://news.naver.com/main/list.naver?mode=LS2D&mid=shm&sid2=265&sid1=100&date=20220725&page=6"
   ]
  },
  {
   "cell_type": "code",
   "execution_count": 16,
   "id": "fdcab4d7",
   "metadata": {},
   "outputs": [],
   "source": [
    "cats = {100 : [264, 265, 268, 267], \n",
    "        101 : [259, 258, 261, 262, 260], \n",
    "        103 : [241, 237, 242, 248, 245], \n",
    "        105 : [227, 230, 283, 228] }\n",
    "headers = {\"User-Agent\" : \"Mozilla/5.0 (Windows NT 10.0; Win64; x64) AppleWebKit/537.36 (KHTML, like Gecko) Chrome/103.0.0.0 Safari/537.36\"}\n",
    "\n",
    "#===== 실행했을때 DataFrame의 list를 return 합니다.=====#\n",
    "def get_news():\n",
    "    dt  = datetime.now()\n",
    "    dt = dt.strftime('_%m%d_%H%M')\n",
    "    ind = 0\n",
    "    list_df = []\n",
    "    news_df = pd.DataFrame(columns=['category', 'news'])\n",
    "    with open('./logs/log'+dt+'.txt', 'w') as fw:\n",
    "        # ===== 대분류 =====#\n",
    "        for cat, subcats in cats.items():\n",
    "            fw.write('*'*30+'\\n')\n",
    "            fw.write('***** start : cat : ' + str(cat)+ '*****\\n\\n')\n",
    "            fw.write('*'*30+'\\n')\n",
    "\n",
    "            news_df = pd.DataFrame(columns=['category', 'news'])\n",
    "            # ===== 소분류 =====#\n",
    "            for subcat in subcats:\n",
    "                fw.write('***** start : subcat : ' + str(subcat)+ '*****\\n\\n')\n",
    "                \n",
    "                # ===== 페이지 15개에 대해 크롤링 =====#\n",
    "                for i in range(15):\n",
    "                    fw.write('*****start : i : ' + str(i) + '*****\\n')\n",
    "\n",
    "                    url = 'https://news.naver.com/main/list.naver?mode=LS2D&mid=shm&sid2='+str(subcat)+'&sid1='+str(cat)+'&date=20220725&page='+ str(i+1)\n",
    "\n",
    "                    res1 = requests.get(url, headers=headers) \n",
    "                    time.sleep(0.3)\n",
    "                    fw.write('***** url : '+url+'\\n')\n",
    "                    fw.write('***** status_code : ' + str(res1.status_code)+'\\n')\n",
    "\n",
    "                    # ===== 얻은 html에서 a 태그를 추출 =====#\n",
    "                    bs = BeautifulSoup(res1.text, 'html.parser')\n",
    "                    links = bs.select('#main_content > div > ul > li > dl > dt > a')\n",
    "                    fw.write('***** links in url : '+str(len(links))+'\\n')\n",
    "\n",
    "                    # ===== 추출한 a 태그에서 href속성 값 (link) 추출 =====#\n",
    "                    newslinks = []\n",
    "                    for j, a in enumerate(links):\n",
    "                        newslink = a.get('href')\n",
    "                        newslinks.append(newslink)                \n",
    "                        fw.write('***** link : '+str(newslink)+'\\n')\n",
    "                    newslinks = list(set(newslinks))\n",
    "\n",
    "                    # ===== 각 link에서 한국어 추출 ===== #\n",
    "                    for link in newslinks:\n",
    "                        res2 = requests.get(link, headers=headers) \n",
    "                        time.sleep(0.3)\n",
    "                        fw.write('***** link : '+link+'\\n')\n",
    "                        fw.write('***** status_code : ' + str(res2.status_code)+'\\n')\n",
    "\n",
    "                        bs2 = BeautifulSoup(res2.text, 'html.parser')\n",
    "                        news = bs2.find('div', id='dic_area')\n",
    "                        if news:\n",
    "                            news = news.text\n",
    "                            news = re.sub('[^가-힣]+', ' ', news)\n",
    "                            news = re.sub('\\s+', ' ', news)\n",
    "\n",
    "                            news_df.loc[ind] = [subcat, news]\n",
    "                            fw.write('***** ind : '+str(ind)+'\\tcat : '+str(subcat)+'\\tnews : '+news+'\\n')\n",
    "                            ind +=1\n",
    "                        \n",
    "                    fw.write('***** end : i : ' + str(i) + '*****\\n\\n')\n",
    "                fw.write('***** end : subcat : ' + str(subcat)+ '*****\\n\\n\\n\\n')\n",
    "            fw.write('***** end : cat : ' + str(cat)+ '*****\\n\\n\\n\\n')\n",
    "            list_df.append(news_df)\n",
    "    return list_df"
   ]
  },
  {
   "cell_type": "code",
   "execution_count": 14,
   "id": "3f5ed8be",
   "metadata": {},
   "outputs": [],
   "source": []
  },
  {
   "cell_type": "code",
   "execution_count": 17,
   "id": "d425bbc4",
   "metadata": {
    "scrolled": true
   },
   "outputs": [
    {
     "data": {
      "text/plain": [
       "4"
      ]
     },
     "execution_count": 17,
     "metadata": {},
     "output_type": "execute_result"
    }
   ],
   "source": [
    "li_df = get_news()\n",
    "len(li_df)"
   ]
  },
  {
   "cell_type": "code",
   "execution_count": null,
   "id": "c717a9fa",
   "metadata": {},
   "outputs": [],
   "source": [
    "#===== pkl 파일로 저장 =====#\n",
    "# li_df[0].to_pickle('news_100.pkl')\n",
    "# li_df[1].to_pickle('news_101.pkl')\n",
    "# li_df[2].to_pickle('news_103.pkl')\n",
    "# li_df[3].to_pickle('news_105.pkl')"
   ]
  },
  {
   "cell_type": "code",
   "execution_count": null,
   "id": "e28b7e70",
   "metadata": {},
   "outputs": [],
   "source": []
  },
  {
   "cell_type": "markdown",
   "id": "c4daf483",
   "metadata": {},
   "source": [
    "## 저장한 파일 확인"
   ]
  },
  {
   "cell_type": "code",
   "execution_count": 19,
   "id": "ff9c4c5a",
   "metadata": {},
   "outputs": [],
   "source": [
    "news_100 = pd.read_pickle('news_100.pkl')\n",
    "news_101 = pd.read_pickle('news_101.pkl')\n",
    "news_103 = pd.read_pickle('news_103.pkl')\n",
    "news_105 = pd.read_pickle('news_105.pkl')"
   ]
  },
  {
   "cell_type": "code",
   "execution_count": 21,
   "id": "656123ca",
   "metadata": {},
   "outputs": [
    {
     "name": "stdout",
     "output_type": "stream",
     "text": [
      "<class 'pandas.core.frame.DataFrame'>\n",
      "Int64Index: 1088 entries, 0 to 1087\n",
      "Data columns (total 2 columns):\n",
      " #   Column    Non-Null Count  Dtype \n",
      "---  ------    --------------  ----- \n",
      " 0   category  1088 non-null   int64 \n",
      " 1   news      1088 non-null   object\n",
      "dtypes: int64(1), object(1)\n",
      "memory usage: 25.5+ KB\n"
     ]
    }
   ],
   "source": [
    "news_100.info()"
   ]
  },
  {
   "cell_type": "code",
   "execution_count": 22,
   "id": "859d59b6",
   "metadata": {},
   "outputs": [
    {
     "name": "stdout",
     "output_type": "stream",
     "text": [
      "<class 'pandas.core.frame.DataFrame'>\n",
      "Int64Index: 1338 entries, 1088 to 2425\n",
      "Data columns (total 2 columns):\n",
      " #   Column    Non-Null Count  Dtype \n",
      "---  ------    --------------  ----- \n",
      " 0   category  1338 non-null   int64 \n",
      " 1   news      1338 non-null   object\n",
      "dtypes: int64(1), object(1)\n",
      "memory usage: 31.4+ KB\n"
     ]
    }
   ],
   "source": [
    "news_101.info()"
   ]
  },
  {
   "cell_type": "code",
   "execution_count": 23,
   "id": "c8775b7e",
   "metadata": {},
   "outputs": [
    {
     "name": "stdout",
     "output_type": "stream",
     "text": [
      "<class 'pandas.core.frame.DataFrame'>\n",
      "Int64Index: 1180 entries, 2426 to 3605\n",
      "Data columns (total 2 columns):\n",
      " #   Column    Non-Null Count  Dtype \n",
      "---  ------    --------------  ----- \n",
      " 0   category  1180 non-null   int64 \n",
      " 1   news      1180 non-null   object\n",
      "dtypes: int64(1), object(1)\n",
      "memory usage: 27.7+ KB\n"
     ]
    }
   ],
   "source": [
    "news_103.info()"
   ]
  },
  {
   "cell_type": "code",
   "execution_count": 24,
   "id": "35f43199",
   "metadata": {},
   "outputs": [
    {
     "name": "stdout",
     "output_type": "stream",
     "text": [
      "<class 'pandas.core.frame.DataFrame'>\n",
      "Int64Index: 851 entries, 3606 to 4456\n",
      "Data columns (total 2 columns):\n",
      " #   Column    Non-Null Count  Dtype \n",
      "---  ------    --------------  ----- \n",
      " 0   category  851 non-null    int64 \n",
      " 1   news      851 non-null    object\n",
      "dtypes: int64(1), object(1)\n",
      "memory usage: 19.9+ KB\n"
     ]
    }
   ],
   "source": [
    "news_105.info()"
   ]
  },
  {
   "cell_type": "code",
   "execution_count": null,
   "id": "c9b64b7a",
   "metadata": {},
   "outputs": [],
   "source": []
  },
  {
   "cell_type": "code",
   "execution_count": 5,
   "id": "13b68050",
   "metadata": {},
   "outputs": [
    {
     "data": {
      "text/html": [
       "<div>\n",
       "<style scoped>\n",
       "    .dataframe tbody tr th:only-of-type {\n",
       "        vertical-align: middle;\n",
       "    }\n",
       "\n",
       "    .dataframe tbody tr th {\n",
       "        vertical-align: top;\n",
       "    }\n",
       "\n",
       "    .dataframe thead th {\n",
       "        text-align: right;\n",
       "    }\n",
       "</style>\n",
       "<table border=\"1\" class=\"dataframe\">\n",
       "  <thead>\n",
       "    <tr style=\"text-align: right;\">\n",
       "      <th></th>\n",
       "      <th>category</th>\n",
       "      <th>news</th>\n",
       "    </tr>\n",
       "  </thead>\n",
       "  <tbody>\n",
       "    <tr>\n",
       "      <th>0</th>\n",
       "      <td>264</td>\n",
       "      <td>앵커 윤석열 대통령이 오늘 일 김현숙 여성가족부 장관에게 대선공약인 여가부 폐지 ...</td>\n",
       "    </tr>\n",
       "    <tr>\n",
       "      <th>1</th>\n",
       "      <td>264</td>\n",
       "      <td>경찰청장 추천권 무력화 지적엔 추천 제청은 다르다 대통령 지지율 고공행진 발언 더...</td>\n",
       "    </tr>\n",
       "    <tr>\n",
       "      <th>2</th>\n",
       "      <td>264</td>\n",
       "      <td>김현숙 장관 단독 업무보고윤석열 대통령이 일 김현숙 여성가족부 장관에게 여가부 업...</td>\n",
       "    </tr>\n",
       "    <tr>\n",
       "      <th>3</th>\n",
       "      <td>264</td>\n",
       "      <td>서울 연합뉴스 안정원 기자 윤석열 대통령이 점심식사를 위해 일 서울 중구 한 식당...</td>\n",
       "    </tr>\n",
       "    <tr>\n",
       "      <th>4</th>\n",
       "      <td>264</td>\n",
       "      <td>존폐 여부 다시 정치 쟁점화 김현숙 여성가족부 장관이 일 정부서울청사 브리핑실에서...</td>\n",
       "    </tr>\n",
       "  </tbody>\n",
       "</table>\n",
       "</div>"
      ],
      "text/plain": [
       "   category                                               news\n",
       "0       264   앵커 윤석열 대통령이 오늘 일 김현숙 여성가족부 장관에게 대선공약인 여가부 폐지 ...\n",
       "1       264   경찰청장 추천권 무력화 지적엔 추천 제청은 다르다 대통령 지지율 고공행진 발언 더...\n",
       "2       264   김현숙 장관 단독 업무보고윤석열 대통령이 일 김현숙 여성가족부 장관에게 여가부 업...\n",
       "3       264   서울 연합뉴스 안정원 기자 윤석열 대통령이 점심식사를 위해 일 서울 중구 한 식당...\n",
       "4       264   존폐 여부 다시 정치 쟁점화 김현숙 여성가족부 장관이 일 정부서울청사 브리핑실에서..."
      ]
     },
     "execution_count": 5,
     "metadata": {},
     "output_type": "execute_result"
    }
   ],
   "source": [
    "news_100.head()"
   ]
  },
  {
   "cell_type": "code",
   "execution_count": 6,
   "id": "fc5f7217",
   "metadata": {},
   "outputs": [
    {
     "data": {
      "text/html": [
       "<div>\n",
       "<style scoped>\n",
       "    .dataframe tbody tr th:only-of-type {\n",
       "        vertical-align: middle;\n",
       "    }\n",
       "\n",
       "    .dataframe tbody tr th {\n",
       "        vertical-align: top;\n",
       "    }\n",
       "\n",
       "    .dataframe thead th {\n",
       "        text-align: right;\n",
       "    }\n",
       "</style>\n",
       "<table border=\"1\" class=\"dataframe\">\n",
       "  <thead>\n",
       "    <tr style=\"text-align: right;\">\n",
       "      <th></th>\n",
       "      <th>category</th>\n",
       "      <th>news</th>\n",
       "    </tr>\n",
       "  </thead>\n",
       "  <tbody>\n",
       "    <tr>\n",
       "      <th>1088</th>\n",
       "      <td>259</td>\n",
       "      <td>기존판례는 압류걸린 통장에 압류 허용대법원 압류액 초과한 압류는 부당 착오송금 관...</td>\n",
       "    </tr>\n",
       "    <tr>\n",
       "      <th>1089</th>\n",
       "      <td>259</td>\n",
       "      <td>카카오뱅크 가 출범 주년을 맞아 고객에 감사하는 의미로 모두의 서프라이즈 이벤트를...</td>\n",
       "    </tr>\n",
       "    <tr>\n",
       "      <th>1090</th>\n",
       "      <td>259</td>\n",
       "      <td>이준수 함용일 금감원 부원장보 부원장 승진부원장 명 중 명 교체 김은경 소보처장 ...</td>\n",
       "    </tr>\n",
       "    <tr>\n",
       "      <th>1091</th>\n",
       "      <td>259</td>\n",
       "      <td>안심전환대출 대상은 억 이하 주택 대상 월부터 전환 억 만원 한도 최대 올 하반기...</td>\n",
       "    </tr>\n",
       "    <tr>\n",
       "      <th>1092</th>\n",
       "      <td>259</td>\n",
       "      <td>대우조선 사태 후폭풍 커지는 산은 책임론 시장의 흐름보다 비용에 방점 둬하청 재하...</td>\n",
       "    </tr>\n",
       "  </tbody>\n",
       "</table>\n",
       "</div>"
      ],
      "text/plain": [
       "      category                                               news\n",
       "1088       259   기존판례는 압류걸린 통장에 압류 허용대법원 압류액 초과한 압류는 부당 착오송금 관...\n",
       "1089       259   카카오뱅크 가 출범 주년을 맞아 고객에 감사하는 의미로 모두의 서프라이즈 이벤트를...\n",
       "1090       259   이준수 함용일 금감원 부원장보 부원장 승진부원장 명 중 명 교체 김은경 소보처장 ...\n",
       "1091       259   안심전환대출 대상은 억 이하 주택 대상 월부터 전환 억 만원 한도 최대 올 하반기...\n",
       "1092       259   대우조선 사태 후폭풍 커지는 산은 책임론 시장의 흐름보다 비용에 방점 둬하청 재하..."
      ]
     },
     "execution_count": 6,
     "metadata": {},
     "output_type": "execute_result"
    }
   ],
   "source": [
    "news_101.head()"
   ]
  },
  {
   "cell_type": "code",
   "execution_count": 7,
   "id": "d0a65c95",
   "metadata": {},
   "outputs": [
    {
     "data": {
      "text/html": [
       "<div>\n",
       "<style scoped>\n",
       "    .dataframe tbody tr th:only-of-type {\n",
       "        vertical-align: middle;\n",
       "    }\n",
       "\n",
       "    .dataframe tbody tr th {\n",
       "        vertical-align: top;\n",
       "    }\n",
       "\n",
       "    .dataframe thead th {\n",
       "        text-align: right;\n",
       "    }\n",
       "</style>\n",
       "<table border=\"1\" class=\"dataframe\">\n",
       "  <thead>\n",
       "    <tr style=\"text-align: right;\">\n",
       "      <th></th>\n",
       "      <th>category</th>\n",
       "      <th>news</th>\n",
       "    </tr>\n",
       "  </thead>\n",
       "  <tbody>\n",
       "    <tr>\n",
       "      <th>2426</th>\n",
       "      <td>241</td>\n",
       "      <td>생활습관을 관리하면 유전적 요인으로 인한 뇌졸중 위험을 일부 상쇄할 수 있다는 연...</td>\n",
       "    </tr>\n",
       "    <tr>\n",
       "      <th>2427</th>\n",
       "      <td>241</td>\n",
       "      <td>게티이미지뱅크다한증은 손 겨드랑이 발 등에서 땀이 너무 많이 흐르는 질환이다 한 ...</td>\n",
       "    </tr>\n",
       "    <tr>\n",
       "      <th>2428</th>\n",
       "      <td>241</td>\n",
       "      <td>사진 아이클릭아트 한여름에도 손발이 차서 냉장고 문을 열기 꺼려진다면 레이노증후군...</td>\n",
       "    </tr>\n",
       "    <tr>\n",
       "      <th>2429</th>\n",
       "      <td>241</td>\n",
       "      <td>연합뉴스코로나 유행의 재확산 국면이 지속되는 가운데 일 오후 시까지 전국에서 만명...</td>\n",
       "    </tr>\n",
       "    <tr>\n",
       "      <th>2430</th>\n",
       "      <td>241</td>\n",
       "      <td>눈에 생긴 검은 점은 결막모반 으로 대부분 눈 건강에 영향을 주지 않는다 사진 게...</td>\n",
       "    </tr>\n",
       "  </tbody>\n",
       "</table>\n",
       "</div>"
      ],
      "text/plain": [
       "      category                                               news\n",
       "2426       241   생활습관을 관리하면 유전적 요인으로 인한 뇌졸중 위험을 일부 상쇄할 수 있다는 연...\n",
       "2427       241   게티이미지뱅크다한증은 손 겨드랑이 발 등에서 땀이 너무 많이 흐르는 질환이다 한 ...\n",
       "2428       241   사진 아이클릭아트 한여름에도 손발이 차서 냉장고 문을 열기 꺼려진다면 레이노증후군...\n",
       "2429       241   연합뉴스코로나 유행의 재확산 국면이 지속되는 가운데 일 오후 시까지 전국에서 만명...\n",
       "2430       241   눈에 생긴 검은 점은 결막모반 으로 대부분 눈 건강에 영향을 주지 않는다 사진 게..."
      ]
     },
     "execution_count": 7,
     "metadata": {},
     "output_type": "execute_result"
    }
   ],
   "source": [
    "news_103.head()"
   ]
  },
  {
   "cell_type": "code",
   "execution_count": 8,
   "id": "bc76a91f",
   "metadata": {},
   "outputs": [
    {
     "data": {
      "text/html": [
       "<div>\n",
       "<style scoped>\n",
       "    .dataframe tbody tr th:only-of-type {\n",
       "        vertical-align: middle;\n",
       "    }\n",
       "\n",
       "    .dataframe tbody tr th {\n",
       "        vertical-align: top;\n",
       "    }\n",
       "\n",
       "    .dataframe thead th {\n",
       "        text-align: right;\n",
       "    }\n",
       "</style>\n",
       "<table border=\"1\" class=\"dataframe\">\n",
       "  <thead>\n",
       "    <tr style=\"text-align: right;\">\n",
       "      <th></th>\n",
       "      <th>category</th>\n",
       "      <th>news</th>\n",
       "    </tr>\n",
       "  </thead>\n",
       "  <tbody>\n",
       "    <tr>\n",
       "      <th>3606</th>\n",
       "      <td>227</td>\n",
       "      <td>이슈진단 업계는 국회 계류된 법안에 주목 브로드밴드와 넷플릭스가 망 이용계약을 두...</td>\n",
       "    </tr>\n",
       "    <tr>\n",
       "      <th>3607</th>\n",
       "      <td>227</td>\n",
       "      <td>류긍선 카카오모빌리티 대표 사회적 책임 고민할 시간 달라 카카오 존중한다 받아들여...</td>\n",
       "    </tr>\n",
       "    <tr>\n",
       "      <th>3608</th>\n",
       "      <td>227</td>\n",
       "      <td>명함 앱 리멤버 신입 인턴 채용 플랫폼 슈퍼루키 인수 드라마앤컴퍼니 제공 재판매 ...</td>\n",
       "    </tr>\n",
       "    <tr>\n",
       "      <th>3609</th>\n",
       "      <td>227</td>\n",
       "      <td>사 합산 영업익 조 억가입자 증가 마케팅비도 감소중간요금제 도입땐 실적 하향하반기...</td>\n",
       "    </tr>\n",
       "    <tr>\n",
       "      <th>3610</th>\n",
       "      <td>227</td>\n",
       "      <td>이스트시큐리티 보안 환경 점검 설문조사 결과 발표 이스트시큐리티 제공 보안 전문 ...</td>\n",
       "    </tr>\n",
       "  </tbody>\n",
       "</table>\n",
       "</div>"
      ],
      "text/plain": [
       "      category                                               news\n",
       "3606       227   이슈진단 업계는 국회 계류된 법안에 주목 브로드밴드와 넷플릭스가 망 이용계약을 두...\n",
       "3607       227   류긍선 카카오모빌리티 대표 사회적 책임 고민할 시간 달라 카카오 존중한다 받아들여...\n",
       "3608       227   명함 앱 리멤버 신입 인턴 채용 플랫폼 슈퍼루키 인수 드라마앤컴퍼니 제공 재판매 ...\n",
       "3609       227   사 합산 영업익 조 억가입자 증가 마케팅비도 감소중간요금제 도입땐 실적 하향하반기...\n",
       "3610       227   이스트시큐리티 보안 환경 점검 설문조사 결과 발표 이스트시큐리티 제공 보안 전문 ..."
      ]
     },
     "execution_count": 8,
     "metadata": {},
     "output_type": "execute_result"
    }
   ],
   "source": [
    "news_105.head()"
   ]
  }
 ],
 "metadata": {
  "kernelspec": {
   "display_name": "Python 3 (ipykernel)",
   "language": "python",
   "name": "python3"
  },
  "language_info": {
   "codemirror_mode": {
    "name": "ipython",
    "version": 3
   },
   "file_extension": ".py",
   "mimetype": "text/x-python",
   "name": "python",
   "nbconvert_exporter": "python",
   "pygments_lexer": "ipython3",
   "version": "3.8.13"
  },
  "toc": {
   "base_numbering": 1,
   "nav_menu": {},
   "number_sections": true,
   "sideBar": true,
   "skip_h1_title": false,
   "title_cell": "Table of Contents",
   "title_sidebar": "Contents",
   "toc_cell": false,
   "toc_position": {
    "height": "calc(100% - 180px)",
    "left": "10px",
    "top": "150px",
    "width": "291.891px"
   },
   "toc_section_display": true,
   "toc_window_display": true
  }
 },
 "nbformat": 4,
 "nbformat_minor": 5
}
