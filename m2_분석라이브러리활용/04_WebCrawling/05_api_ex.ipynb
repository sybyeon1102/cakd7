{
 "cells": [
  {
   "cell_type": "code",
   "execution_count": 2,
   "id": "328d4396",
   "metadata": {},
   "outputs": [],
   "source": [
    "import warnings\n",
    "warnings.filterwarnings('ignore')"
   ]
  },
  {
   "cell_type": "markdown",
   "id": "530b7300",
   "metadata": {},
   "source": [
    "# 네이버 API"
   ]
  },
  {
   "cell_type": "markdown",
   "id": "533c3c9f",
   "metadata": {},
   "source": [
    "- 네이버 API\n",
    "\n",
    "https://developers.naver.com/main/\n",
    "https://developers.naver.com/docs/serviceapi/search/blog/blog.md#%EB%B8%94%EB%A1%9C%EA%B7%B8"
   ]
  },
  {
   "cell_type": "code",
   "execution_count": 3,
   "id": "70df7280",
   "metadata": {},
   "outputs": [],
   "source": [
    "import os\n",
    "import sys\n",
    "import urllib.request\n",
    "import json\n",
    "import pandas as pd\n",
    "from bs4 import BeautifulSoup"
   ]
  },
  {
   "cell_type": "markdown",
   "id": "504561d5",
   "metadata": {},
   "source": [
    "## 블로그"
   ]
  },
  {
   "cell_type": "code",
   "execution_count": 1,
   "id": "7af0072a",
   "metadata": {},
   "outputs": [
    {
     "name": "stdout",
     "output_type": "stream",
     "text": [
      "검색> 강아지\n",
      "{\n",
      "\t\"lastBuildDate\":\"Fri, 29 Jul 2022 08:29:55 +0900\",\n",
      "\t\"total\":7781014,\n",
      "\t\"start\":1,\n",
      "\t\"display\":10,\n",
      "\t\"items\":[\n",
      "\t\t{\n",
      "\t\t\t\"title\":\"대전<b>강아지<\\/b>분양 부끄럼없이\",\n",
      "\t\t\t\"link\":\"https:\\/\\/blog.naver.com\\/seablue06?Redirect=Log&logNo=222829865762\",\n",
      "\t\t\t\"description\":\"소망했던 대로, 홀로 서기를 시작하고 난 이후에 대전<b>강아지<\\/b>분양 까지 하게 되었는데요. 하나 느낀점은... 아무리 그래도 남들의 성의를 무시할 순 없으니 한번 더 대전<b>강아지<\\/b>분양에 대해 생각 해보기로 했어요.... \",\n",
      "\t\t\t\"bloggername\":\"Visual merchandising\",\n",
      "\t\t\t\"bloggerlink\":\"https:\\/\\/blog.naver.com\\/seablue06\",\n",
      "\t\t\t\"postdate\":\"20220726\"\n",
      "\t\t},\n",
      "\t\t{\n",
      "\t\t\t\"title\":\"<b>강아지<\\/b> 눈 밑 구멍 그리고 피 ,오늘도 동물병원행\",\n",
      "\t\t\t\"link\":\"https:\\/\\/blog.naver.com\\/55mg?Redirect=Log&logNo=222830167128\",\n",
      "\t\t\t\"description\":\"살펴보니 <b>강아지<\\/b> 눈 밑 구멍 발견, 그리고 사람의 여드름 짠 것 크기의 피가 엉겨있었다. 올 것이 왔구나 싶은 마음이 들었다. 예전에도 다른 <b>강아지<\\/b> 비슷한 케이스가 있었기에. 놀러 온 후배에게 미안하지만 같이... \",\n",
      "\t\t\t\"bloggername\":\"세상을 역주행하다 ★\",\n",
      "\t\t\t\"bloggerlink\":\"https:\\/\\/blog.naver.com\\/55mg\",\n",
      "\t\t\t\"postdate\":\"20220727\"\n",
      "\t\t},\n",
      "\t\t{\n",
      "\t\t\t\"title\":\"수원<b>강아지<\\/b>분양 애견분양 건강한 애견샵 (feat.용인,분당,이천... \",\n",
      "\t\t\t\"link\":\"https:\\/\\/blog.naver.com\\/no1jujil?Redirect=Log&logNo=222829577056\",\n",
      "\t\t\t\"description\":\"후 <b>강아지<\\/b>를 키우고 싶다고 진지하게 이야기했거든요. 혼자 집에 있는 시간이 외롭다는 것부터 시작해... 직접 아내와 아이랑 수원<b>강아지<\\/b>분양 업체 여러 군데 알아보고 다니고 고민하게 됐네요. 다행히 아내도... \",\n",
      "\t\t\t\"bloggername\":\"다스몰\",\n",
      "\t\t\t\"bloggerlink\":\"https:\\/\\/blog.naver.com\\/no1jujil\",\n",
      "\t\t\t\"postdate\":\"20220726\"\n",
      "\t\t},\n",
      "\t\t{\n",
      "\t\t\t\"title\":\"<b>강아지<\\/b>간식 건강히 급여해요!\",\n",
      "\t\t\t\"link\":\"https:\\/\\/blog.naver.com\\/williswife?Redirect=Log&logNo=222813216749\",\n",
      "\t\t\t\"description\":\"<b>강아지<\\/b>를 기르고 계신 분들께선 <b>강아지<\\/b>간식 을 좋은것으로 주고 싶은것이 어떻게봤을때는 당연한 이치라고 생각을 해요. 그러하여 제가 이번에 건강히 급여가 가능하고 성분들이 안심할 수 있는 걸로만... \",\n",
      "\t\t\t\"bloggername\":\"윌리스와이프 옷만들기\",\n",
      "\t\t\t\"bloggerlink\":\"https:\\/\\/blog.naver.com\\/williswife\",\n",
      "\t\t\t\"postdate\":\"20220715\"\n",
      "\t\t},\n",
      "\t\t{\n",
      "\t\t\t\"title\":\"대전<b>강아지<\\/b>분양 고양이분양 최대규모 애니멀즈\",\n",
      "\t\t\t\"link\":\"https:\\/\\/blog.naver.com\\/mrkim0205?Redirect=Log&logNo=222831634135\",\n",
      "\t\t\t\"description\":\"시작할 땐 대전<b>강아지<\\/b>분양 대전고양이분양 해 내가 반려견을 거둘 거라곤 생각하지 못 했습니다.... 둘러보니 산책 나온 <b>강아지<\\/b>가 꽤 많았습니다. 그게 왜 그렇게 부러웠는지요. 그 아이들을 보면서 분양을... \",\n",
      "\t\t\t\"bloggername\":\"뜨개가 너무 좋은...\",\n",
      "\t\t\t\"bloggerlink\":\"https:\\/\\/blog.naver.com\\/mrkim0205\",\n",
      "\t\t\t\"postdate\":\"20220728\"\n",
      "\t\t},\n",
      "\t\t{\n",
      "\t\t\t\"title\":\"<b>강아지<\\/b>화식이 좋은 이유\",\n",
      "\t\t\t\"link\":\"https:\\/\\/blog.naver.com\\/gosoo777?Redirect=Log&logNo=222803394666\",\n",
      "\t\t\t\"description\":\"저희 풍이는 이제 5살이 되어 어른 티가 나는 <b>강아지<\\/b>인데요. 아직 노령견은 멀었지만 클수록 먹거리와 건강 등을 세심하게 확인하게 되더라고요. 그래서 오늘은 풍이의 장 관리에 도움을 주는 <b>강아지<\\/b>화식 펫띵... \",\n",
      "\t\t\t\"bloggername\":\"댕댕이스토리-유튜버,애견블로거,여행,등산,맛집\",\n",
      "\t\t\t\"bloggerlink\":\"https:\\/\\/blog.naver.com\\/gosoo777\",\n",
      "\t\t\t\"postdate\":\"20220707\"\n",
      "\t\t},\n",
      "\t\t{\n",
      "\t\t\t\"title\":\"<b>강아지<\\/b>번식 교배부터 출산까지 알아볼까요?\",\n",
      "\t\t\t\"link\":\"https:\\/\\/blog.naver.com\\/ss8375?Redirect=Log&logNo=222828659729\",\n",
      "\t\t\t\"description\":\"따라서 이번 포스팅에서는 <b>강아지<\\/b>번식, 즉 반려견들의 교배, 임신, 분만 과정에 대해 살펴보도록... 이전의 <b>강아지<\\/b>들은 신체 기관이 덜 성숙했기 때문에 임신과 출산 과정이 신체적으로 부담될 수 있기... \",\n",
      "\t\t\t\"bloggername\":\"LUFFY PUPPY KENNEL\",\n",
      "\t\t\t\"bloggerlink\":\"https:\\/\\/blog.naver.com\\/ss8375\",\n",
      "\t\t\t\"postdate\":\"20220726\"\n",
      "\t\t},\n",
      "\t\t{\n",
      "\t\t\t\"title\":\"<b>강아지<\\/b> 해충방지 개들의민족 크롭 나시티셔츠\",\n",
      "\t\t\t\"link\":\"https:\\/\\/blog.naver.com\\/momentbeing?Redirect=Log&logNo=222804774269\",\n",
      "\t\t\t\"description\":\"현재 가루가 사용하고 있는 <b>강아지<\\/b> 하네스 벌써 3년동안 사용했는데요. 너무 자주 사용해서 그런지... 그래서 이렇게 나시티에 탄성이 있으면 부담 없이 <b>강아지<\\/b>를 컨트롤하면서도 충격을 흡수할 수 있어서 더욱... \",\n",
      "\t\t\t\"bloggername\":\"코코넛라이프\",\n",
      "\t\t\t\"bloggerlink\":\"https:\\/\\/blog.naver.com\\/momentbeing\",\n",
      "\t\t\t\"postdate\":\"20220708\"\n",
      "\t\t},\n",
      "\t\t{\n",
      "\t\t\t\"title\":\"<b>강아지<\\/b> 당근 먹였을때 생기는 부작용 알고 계신가요?\",\n",
      "\t\t\t\"link\":\"https:\\/\\/blog.naver.com\\/yoonsu3454?Redirect=Log&logNo=222827474679\",\n",
      "\t\t\t\"description\":\"단,<b>강아지<\\/b> 당근 먹일때 심각한 부작용과 주의점에 관련해서도 반드시 보호자님들께서 미리... 바랄께요 <b>강아지<\\/b> 당근 부작용 비타민A 과다 섭취시 당근에는 다량의 비타민A가 들어있는데요 비타민A 성분을... \",\n",
      "\t\t\t\"bloggername\":\"조재호훈련사 강아지 행동교정 반려견 방문교육\",\n",
      "\t\t\t\"bloggerlink\":\"https:\\/\\/blog.naver.com\\/yoonsu3454\",\n",
      "\t\t\t\"postdate\":\"20220725\"\n",
      "\t\t},\n",
      "\t\t{\n",
      "\t\t\t\"title\":\"<b>강아지<\\/b> 유산균 라비벳 반려견 장건강 절대지켜!\",\n",
      "\t\t\t\"link\":\"https:\\/\\/blog.naver.com\\/leh5965?Redirect=Log&logNo=222828542902\",\n",
      "\t\t\t\"description\":\"(사람인줄..) <b>강아지<\\/b>들 건강을 확인하는데 가장 좋은게 변 상태인 만큼, 반려견 장건강은 굉장히 중요하다고 생각하고 있어요. 그리고 <b>강아지<\\/b>들은 아파도 표현을 못하니까 ㅠㅠ 미리미리 건강을 챙겨주는게... \",\n",
      "\t\t\t\"bloggername\":\"record me\",\n",
      "\t\t\t\"bloggerlink\":\"https:\\/\\/blog.naver.com\\/leh5965\",\n",
      "\t\t\t\"postdate\":\"20220725\"\n",
      "\t\t}\n",
      "\t]\n",
      "}\n"
     ]
    }
   ],
   "source": [
    "client_id = \"ISdXTGuV8Tdqx9fNxPgz\"\n",
    "client_secret = \"e2kcexi37t\"\n",
    "\n",
    "# encText = urllib.parse.quote(\"빅데이터\")\n",
    "encText = urllib.parse.quote(input(\"검색> \"))\n",
    "url = \"https://openapi.naver.com/v1/search/blog?query=\" + encText # json 결과\n",
    "# url = \"https://openapi.naver.com/v1/search/blog.xml?query=\" + encText # xml 결과\n",
    "\n",
    "request = urllib.request.Request(url)\n",
    "request.add_header(\"X-Naver-Client-Id\",client_id)\n",
    "request.add_header(\"X-Naver-Client-Secret\",client_secret)\n",
    "\n",
    "response = urllib.request.urlopen(request)\n",
    "rescode = response.getcode()\n",
    "\n",
    "if(rescode==200):\n",
    "    response_body = response.read()\n",
    "    print(response_body.decode('utf-8'))\n",
    "else:\n",
    "    print(\"Error Code:\" + rescode)"
   ]
  },
  {
   "cell_type": "code",
   "execution_count": 3,
   "id": "44554eb8",
   "metadata": {},
   "outputs": [],
   "source": [
    "xml = response_body.decode('utf-8')\n",
    "bs = BeautifulSoup(xml, 'lxml')"
   ]
  },
  {
   "cell_type": "code",
   "execution_count": 4,
   "id": "ff7b1d55",
   "metadata": {},
   "outputs": [
    {
     "data": {
      "text/plain": [
       "'{\\n\\t\"lastBuildDate\":\"Fri, 29 Jul 2022 08:29:55 +0900\",\\n\\t\"total\":7781014,\\n\\t\"start\":1,\\n\\t\"display\":10,\\n\\t\"items\":[\\n\\t\\t{\\n\\t\\t\\t\"title\":\"대전강아지<\\\\/b>분양 부끄럼없이\",\\n\\t\\t\\t\"link\":\"https:\\\\/\\\\/blog.naver.com\\\\/seablue06?Redirect=Log&logNo=222829865762\",\\n\\t\\t\\t\"description\":\"소망했던 대로, 홀로 서기를 시작하고 난 이후에 대전강아지<\\\\/b>분양 까지 하게 되었는데요. 하나 느낀점은... 아무리 그래도 남들의 성의를 무시할 순 없으니 한번 더 대전강아지<\\\\/b>분양에 대해 생각 해보기로 했어요.... \",\\n\\t\\t\\t\"bloggername\":\"Visual merchandising\",\\n\\t\\t\\t\"bloggerlink\":\"https:\\\\/\\\\/blog.naver.com\\\\/seablue06\",\\n\\t\\t\\t\"postdate\":\"20220726\"\\n\\t\\t},\\n\\t\\t{\\n\\t\\t\\t\"title\":\"강아지<\\\\/b> 눈 밑 구멍 그리고 피 ,오늘도 동물병원행\",\\n\\t\\t\\t\"link\":\"https:\\\\/\\\\/blog.naver.com\\\\/55mg?Redirect=Log&logNo=222830167128\",\\n\\t\\t\\t\"description\":\"살펴보니 강아지<\\\\/b> 눈 밑 구멍 발견, 그리고 사람의 여드름 짠 것 크기의 피가 엉겨있었다. 올 것이 왔구나 싶은 마음이 들었다. 예전에도 다른 강아지<\\\\/b> 비슷한 케이스가 있었기에. 놀러 온 후배에게 미안하지만 같이... \",\\n\\t\\t\\t\"bloggername\":\"세상을 역주행하다 ★\",\\n\\t\\t\\t\"bloggerlink\":\"https:\\\\/\\\\/blog.naver.com\\\\/55mg\",\\n\\t\\t\\t\"postdate\":\"20220727\"\\n\\t\\t},\\n\\t\\t{\\n\\t\\t\\t\"title\":\"수원강아지<\\\\/b>분양 애견분양 건강한 애견샵 (feat.용인,분당,이천... \",\\n\\t\\t\\t\"link\":\"https:\\\\/\\\\/blog.naver.com\\\\/no1jujil?Redirect=Log&logNo=222829577056\",\\n\\t\\t\\t\"description\":\"후 강아지<\\\\/b>를 키우고 싶다고 진지하게 이야기했거든요. 혼자 집에 있는 시간이 외롭다는 것부터 시작해... 직접 아내와 아이랑 수원강아지<\\\\/b>분양 업체 여러 군데 알아보고 다니고 고민하게 됐네요. 다행히 아내도... \",\\n\\t\\t\\t\"bloggername\":\"다스몰\",\\n\\t\\t\\t\"bloggerlink\":\"https:\\\\/\\\\/blog.naver.com\\\\/no1jujil\",\\n\\t\\t\\t\"postdate\":\"20220726\"\\n\\t\\t},\\n\\t\\t{\\n\\t\\t\\t\"title\":\"강아지<\\\\/b>간식 건강히 급여해요!\",\\n\\t\\t\\t\"link\":\"https:\\\\/\\\\/blog.naver.com\\\\/williswife?Redirect=Log&logNo=222813216749\",\\n\\t\\t\\t\"description\":\"강아지<\\\\/b>를 기르고 계신 분들께선 강아지<\\\\/b>간식 을 좋은것으로 주고 싶은것이 어떻게봤을때는 당연한 이치라고 생각을 해요. 그러하여 제가 이번에 건강히 급여가 가능하고 성분들이 안심할 수 있는 걸로만... \",\\n\\t\\t\\t\"bloggername\":\"윌리스와이프 옷만들기\",\\n\\t\\t\\t\"bloggerlink\":\"https:\\\\/\\\\/blog.naver.com\\\\/williswife\",\\n\\t\\t\\t\"postdate\":\"20220715\"\\n\\t\\t},\\n\\t\\t{\\n\\t\\t\\t\"title\":\"대전강아지<\\\\/b>분양 고양이분양 최대규모 애니멀즈\",\\n\\t\\t\\t\"link\":\"https:\\\\/\\\\/blog.naver.com\\\\/mrkim0205?Redirect=Log&logNo=222831634135\",\\n\\t\\t\\t\"description\":\"시작할 땐 대전강아지<\\\\/b>분양 대전고양이분양 해 내가 반려견을 거둘 거라곤 생각하지 못 했습니다.... 둘러보니 산책 나온 강아지<\\\\/b>가 꽤 많았습니다. 그게 왜 그렇게 부러웠는지요. 그 아이들을 보면서 분양을... \",\\n\\t\\t\\t\"bloggername\":\"뜨개가 너무 좋은...\",\\n\\t\\t\\t\"bloggerlink\":\"https:\\\\/\\\\/blog.naver.com\\\\/mrkim0205\",\\n\\t\\t\\t\"postdate\":\"20220728\"\\n\\t\\t},\\n\\t\\t{\\n\\t\\t\\t\"title\":\"강아지<\\\\/b>화식이 좋은 이유\",\\n\\t\\t\\t\"link\":\"https:\\\\/\\\\/blog.naver.com\\\\/gosoo777?Redirect=Log&logNo=222803394666\",\\n\\t\\t\\t\"description\":\"저희 풍이는 이제 5살이 되어 어른 티가 나는 강아지<\\\\/b>인데요. 아직 노령견은 멀었지만 클수록 먹거리와 건강 등을 세심하게 확인하게 되더라고요. 그래서 오늘은 풍이의 장 관리에 도움을 주는 강아지<\\\\/b>화식 펫띵... \",\\n\\t\\t\\t\"bloggername\":\"댕댕이스토리-유튜버,애견블로거,여행,등산,맛집\",\\n\\t\\t\\t\"bloggerlink\":\"https:\\\\/\\\\/blog.naver.com\\\\/gosoo777\",\\n\\t\\t\\t\"postdate\":\"20220707\"\\n\\t\\t},\\n\\t\\t{\\n\\t\\t\\t\"title\":\"강아지<\\\\/b>번식 교배부터 출산까지 알아볼까요?\",\\n\\t\\t\\t\"link\":\"https:\\\\/\\\\/blog.naver.com\\\\/ss8375?Redirect=Log&logNo=222828659729\",\\n\\t\\t\\t\"description\":\"따라서 이번 포스팅에서는 강아지<\\\\/b>번식, 즉 반려견들의 교배, 임신, 분만 과정에 대해 살펴보도록... 이전의 강아지<\\\\/b>들은 신체 기관이 덜 성숙했기 때문에 임신과 출산 과정이 신체적으로 부담될 수 있기... \",\\n\\t\\t\\t\"bloggername\":\"LUFFY PUPPY KENNEL\",\\n\\t\\t\\t\"bloggerlink\":\"https:\\\\/\\\\/blog.naver.com\\\\/ss8375\",\\n\\t\\t\\t\"postdate\":\"20220726\"\\n\\t\\t},\\n\\t\\t{\\n\\t\\t\\t\"title\":\"강아지<\\\\/b> 해충방지 개들의민족 크롭 나시티셔츠\",\\n\\t\\t\\t\"link\":\"https:\\\\/\\\\/blog.naver.com\\\\/momentbeing?Redirect=Log&logNo=222804774269\",\\n\\t\\t\\t\"description\":\"현재 가루가 사용하고 있는 강아지<\\\\/b> 하네스 벌써 3년동안 사용했는데요. 너무 자주 사용해서 그런지... 그래서 이렇게 나시티에 탄성이 있으면 부담 없이 강아지<\\\\/b>를 컨트롤하면서도 충격을 흡수할 수 있어서 더욱... \",\\n\\t\\t\\t\"bloggername\":\"코코넛라이프\",\\n\\t\\t\\t\"bloggerlink\":\"https:\\\\/\\\\/blog.naver.com\\\\/momentbeing\",\\n\\t\\t\\t\"postdate\":\"20220708\"\\n\\t\\t},\\n\\t\\t{\\n\\t\\t\\t\"title\":\"강아지<\\\\/b> 당근 먹였을때 생기는 부작용 알고 계신가요?\",\\n\\t\\t\\t\"link\":\"https:\\\\/\\\\/blog.naver.com\\\\/yoonsu3454?Redirect=Log&logNo=222827474679\",\\n\\t\\t\\t\"description\":\"단,강아지<\\\\/b> 당근 먹일때 심각한 부작용과 주의점에 관련해서도 반드시 보호자님들께서 미리... 바랄께요 강아지<\\\\/b> 당근 부작용 비타민A 과다 섭취시 당근에는 다량의 비타민A가 들어있는데요 비타민A 성분을... \",\\n\\t\\t\\t\"bloggername\":\"조재호훈련사 강아지 행동교정 반려견 방문교육\",\\n\\t\\t\\t\"bloggerlink\":\"https:\\\\/\\\\/blog.naver.com\\\\/yoonsu3454\",\\n\\t\\t\\t\"postdate\":\"20220725\"\\n\\t\\t},\\n\\t\\t{\\n\\t\\t\\t\"title\":\"강아지<\\\\/b> 유산균 라비벳 반려견 장건강 절대지켜!\",\\n\\t\\t\\t\"link\":\"https:\\\\/\\\\/blog.naver.com\\\\/leh5965?Redirect=Log&logNo=222828542902\",\\n\\t\\t\\t\"description\":\"(사람인줄..) 강아지<\\\\/b>들 건강을 확인하는데 가장 좋은게 변 상태인 만큼, 반려견 장건강은 굉장히 중요하다고 생각하고 있어요. 그리고 강아지<\\\\/b>들은 아파도 표현을 못하니까 ㅠㅠ 미리미리 건강을 챙겨주는게... \",\\n\\t\\t\\t\"bloggername\":\"record me\",\\n\\t\\t\\t\"bloggerlink\":\"https:\\\\/\\\\/blog.naver.com\\\\/leh5965\",\\n\\t\\t\\t\"postdate\":\"20220725\"\\n\\t\\t}\\n\\t]\\n}'"
      ]
     },
     "execution_count": 4,
     "metadata": {},
     "output_type": "execute_result"
    }
   ],
   "source": [
    "bs.get_text()"
   ]
  },
  {
   "cell_type": "markdown",
   "id": "20da4d1a",
   "metadata": {},
   "source": [
    "## 웹문서\n",
    "\n",
    "https://developers.naver.com/docs/serviceapi/search/web/web.md#%EC%9B%B9%EB%AC%B8%EC%84%9C"
   ]
  },
  {
   "cell_type": "markdown",
   "id": "2f43a808",
   "metadata": {},
   "source": [
    "### 과제0728_1 \n",
    "- 네이버 웹문서에서 빅데이터에 대한 데이터를 가져와서 데이터 프레임을 출력하세요."
   ]
  },
  {
   "cell_type": "code",
   "execution_count": 5,
   "id": "6cec3fa5",
   "metadata": {},
   "outputs": [
    {
     "name": "stdout",
     "output_type": "stream",
     "text": [
      "Success\n"
     ]
    }
   ],
   "source": [
    "client_id = \"ISdXTGuV8Tdqx9fNxPgz\"\n",
    "client_secret = \"e2kcexi37t\"\n",
    "\n",
    "encText = urllib.parse.quote(\"빅데이터\")\n",
    "url = 'https://openapi.naver.com/v1/search/webkr?query=' + encText\n",
    "\n",
    "request = urllib.request.Request(url)\n",
    "request.add_header(\"X-Naver-Client-Id\",client_id)\n",
    "request.add_header(\"X-Naver-Client-Secret\",client_secret)\n",
    "\n",
    "response = urllib.request.urlopen(request)\n",
    "rescode = response.getcode()\n",
    "\n",
    "if(rescode==200):\n",
    "    response_body = response.read()\n",
    "    print('Success')\n",
    "else:\n",
    "    print(\"Error Code:\" + rescode)"
   ]
  },
  {
   "cell_type": "code",
   "execution_count": 6,
   "id": "94de988c",
   "metadata": {},
   "outputs": [
    {
     "name": "stdout",
     "output_type": "stream",
     "text": [
      "<class 'pandas.core.frame.DataFrame'>\n",
      "RangeIndex: 10 entries, 0 to 9\n",
      "Data columns (total 3 columns):\n",
      " #   Column       Non-Null Count  Dtype \n",
      "---  ------       --------------  ----- \n",
      " 0   title        10 non-null     object\n",
      " 1   link         10 non-null     object\n",
      " 2   description  10 non-null     object\n",
      "dtypes: object(3)\n",
      "memory usage: 368.0+ bytes\n"
     ]
    },
    {
     "data": {
      "text/html": [
       "<div>\n",
       "<style scoped>\n",
       "    .dataframe tbody tr th:only-of-type {\n",
       "        vertical-align: middle;\n",
       "    }\n",
       "\n",
       "    .dataframe tbody tr th {\n",
       "        vertical-align: top;\n",
       "    }\n",
       "\n",
       "    .dataframe thead th {\n",
       "        text-align: right;\n",
       "    }\n",
       "</style>\n",
       "<table border=\"1\" class=\"dataframe\">\n",
       "  <thead>\n",
       "    <tr style=\"text-align: right;\">\n",
       "      <th></th>\n",
       "      <th>title</th>\n",
       "      <th>link</th>\n",
       "      <th>description</th>\n",
       "    </tr>\n",
       "  </thead>\n",
       "  <tbody>\n",
       "    <tr>\n",
       "      <th>0</th>\n",
       "      <td>&lt;b&gt;빅 데이터&lt;/b&gt; 프로세싱 - 나무위키</td>\n",
       "      <td>https://namu.wiki/w/%EB%B9...</td>\n",
       "      <td>Big data processing 디지털 시대...</td>\n",
       "    </tr>\n",
       "    <tr>\n",
       "      <th>1</th>\n",
       "      <td>&lt;b&gt;빅데이터&lt;/b&gt;란? | 고급 &lt;b&gt;빅데이터...</td>\n",
       "      <td>https://www.sap.com/korea/...</td>\n",
       "      <td>비즈니스에 대한 360도 통찰을 제공하고 디지털...</td>\n",
       "    </tr>\n",
       "    <tr>\n",
       "      <th>2</th>\n",
       "      <td>&lt;b&gt;빅 데이터&lt;/b&gt;란 무엇입니까? | Ora...</td>\n",
       "      <td>https://www.oracle.com/kr/...</td>\n",
       "      <td>&lt;b&gt;빅데이터&lt;/b&gt;는 특히 새로운 &lt;b&gt;데이터...</td>\n",
       "    </tr>\n",
       "    <tr>\n",
       "      <th>3</th>\n",
       "      <td>&lt;b&gt;빅데이터&lt;/b&gt;(big data) 이해 -...</td>\n",
       "      <td>https://www.redhat.com/ko/...</td>\n",
       "      <td>&lt;b&gt;빅데이터&lt;/b&gt;(big data)란 기존 ...</td>\n",
       "    </tr>\n",
       "    <tr>\n",
       "      <th>4</th>\n",
       "      <td>네이버 &lt;b&gt;데이터&lt;/b&gt;랩</td>\n",
       "      <td>https://datalab.naver.com/</td>\n",
       "      <td>네이버의 검색 트렌드 및 급상승검색어 이력, 쇼...</td>\n",
       "    </tr>\n",
       "    <tr>\n",
       "      <th>5</th>\n",
       "      <td>&lt;b&gt;빅데이터&lt;/b&gt; - BC카드</td>\n",
       "      <td>https://www.bccard.com/car...</td>\n",
       "      <td>fnbigdata.com &lt;b&gt;빅데이터&lt;/b&gt; ...</td>\n",
       "    </tr>\n",
       "    <tr>\n",
       "      <th>6</th>\n",
       "      <td>트라이빅 소개 &amp;lt; 서비스 안내 : KOTR...</td>\n",
       "      <td>https://www.kotra.or.kr/bi...</td>\n",
       "      <td>'+getMessage('button.close...</td>\n",
       "    </tr>\n",
       "    <tr>\n",
       "      <th>7</th>\n",
       "      <td>국가기술 &lt;b&gt;빅데이터&lt;/b&gt; 분석기사 - &lt;b...</td>\n",
       "      <td>https://www.dataq.or.kr/ww...</td>\n",
       "      <td>정형, 반정형, 비정형 등 다양한 형태의 &lt;b&gt;...</td>\n",
       "    </tr>\n",
       "    <tr>\n",
       "      <th>8</th>\n",
       "      <td>&lt;b&gt;빅데이터&lt;/b&gt;의 이해 - 글이 작품이 되...</td>\n",
       "      <td>https://brunch.co.kr/@line...</td>\n",
       "      <td>&lt;b&gt;빅데이터&lt;/b&gt;의 등장 디지털 경제가 확산...</td>\n",
       "    </tr>\n",
       "    <tr>\n",
       "      <th>9</th>\n",
       "      <td>미디어백과: &lt;b&gt;빅데이터&lt;/b&gt; - 네이버 지식백과</td>\n",
       "      <td>https://terms.naver.com/li...</td>\n",
       "      <td>미디어백과: &lt;b&gt;빅데이터&lt;/b&gt;에 관한 정보 제공</td>\n",
       "    </tr>\n",
       "  </tbody>\n",
       "</table>\n",
       "</div>"
      ],
      "text/plain": [
       "                           title                           link  \\\n",
       "0       <b>빅 데이터</b> 프로세싱 - 나무위키  https://namu.wiki/w/%EB%B9...   \n",
       "1  <b>빅데이터</b>란? | 고급 <b>빅데이터...  https://www.sap.com/korea/...   \n",
       "2  <b>빅 데이터</b>란 무엇입니까? | Ora...  https://www.oracle.com/kr/...   \n",
       "3  <b>빅데이터</b>(big data) 이해 -...  https://www.redhat.com/ko/...   \n",
       "4                네이버 <b>데이터</b>랩     https://datalab.naver.com/   \n",
       "5             <b>빅데이터</b> - BC카드  https://www.bccard.com/car...   \n",
       "6  트라이빅 소개 &lt; 서비스 안내 : KOTR...  https://www.kotra.or.kr/bi...   \n",
       "7  국가기술 <b>빅데이터</b> 분석기사 - <b...  https://www.dataq.or.kr/ww...   \n",
       "8  <b>빅데이터</b>의 이해 - 글이 작품이 되...  https://brunch.co.kr/@line...   \n",
       "9  미디어백과: <b>빅데이터</b> - 네이버 지식백과  https://terms.naver.com/li...   \n",
       "\n",
       "                     description  \n",
       "0  Big data processing 디지털 시대...  \n",
       "1  비즈니스에 대한 360도 통찰을 제공하고 디지털...  \n",
       "2  <b>빅데이터</b>는 특히 새로운 <b>데이터...  \n",
       "3  <b>빅데이터</b>(big data)란 기존 ...  \n",
       "4  네이버의 검색 트렌드 및 급상승검색어 이력, 쇼...  \n",
       "5  fnbigdata.com <b>빅데이터</b> ...  \n",
       "6  '+getMessage('button.close...  \n",
       "7  정형, 반정형, 비정형 등 다양한 형태의 <b>...  \n",
       "8  <b>빅데이터</b>의 등장 디지털 경제가 확산...  \n",
       "9   미디어백과: <b>빅데이터</b>에 관한 정보 제공  "
      ]
     },
     "execution_count": 6,
     "metadata": {},
     "output_type": "execute_result"
    }
   ],
   "source": [
    "data = response_body.decode('utf-8')\n",
    "data=json.loads(data)\n",
    "data1 = pd.DataFrame(data['items'])\n",
    "data1.info()\n",
    "pd.options.display.max_colwidth = 30\n",
    "data1"
   ]
  },
  {
   "cell_type": "markdown",
   "id": "1ad61ef1",
   "metadata": {},
   "source": [
    "## 과제0728_2\n",
    "- 뉴스 영화 쇼핑 지식iN 카페에서 적합한 주제에 대한 데이터를 가져와서 데이터 프레임으로 출력하세요."
   ]
  },
  {
   "cell_type": "raw",
   "id": "34825e82",
   "metadata": {},
   "source": [
    "# 뉴스\n",
    "https://openapi.naver.com/v1/search/news.json\n",
    "# 영화\n",
    "https://openapi.naver.com/v1/search/movie.json\n",
    "# 쇼핑\n",
    "https://openapi.naver.com/v1/search/shop.json\n",
    "# 지식iN\n",
    "https://openapi.naver.com/v1/search/kin.json\n",
    "# 카페\n",
    "https://openapi.naver.com/v1/search/cafearticle.json"
   ]
  },
  {
   "cell_type": "code",
   "execution_count": 4,
   "id": "896b71bb",
   "metadata": {},
   "outputs": [],
   "source": [
    "client_id = \"ISdXTGuV8Tdqx9fNxPgz\"\n",
    "client_secret = \"e2kcexi37t\"\n",
    "\n",
    "cats = ['news', 'movie', 'shop', 'kin', 'cafearticle']\n",
    "encText = urllib.parse.quote(\"빅데이터\")"
   ]
  },
  {
   "cell_type": "code",
   "execution_count": 5,
   "id": "b7630973",
   "metadata": {},
   "outputs": [],
   "source": [
    "def getDFabout(cat):\n",
    "    url = f'https://openapi.naver.com/v1/search/{cat}?query={encText}'\n",
    "\n",
    "    request = urllib.request.Request(url)\n",
    "    request.add_header(\"X-Naver-Client-Id\",client_id)\n",
    "    request.add_header(\"X-Naver-Client-Secret\",client_secret)\n",
    "\n",
    "    response = urllib.request.urlopen(request)\n",
    "    rescode = response.getcode()\n",
    "\n",
    "    if(rescode==200):\n",
    "        response_body = response.read()\n",
    "        print('Success')\n",
    "    else:\n",
    "        print(\"Error Code:\" + rescode)\n",
    "    data = response_body.decode('utf-8')\n",
    "    data=json.loads(data)\n",
    "\n",
    "    data = response_body.decode('utf-8')\n",
    "    data=json.loads(data)\n",
    "    data1 = pd.DataFrame(data['items'])\n",
    "    return data1"
   ]
  },
  {
   "cell_type": "code",
   "execution_count": 6,
   "id": "5255c695",
   "metadata": {},
   "outputs": [
    {
     "data": {
      "text/plain": [
       "['news', 'movie', 'shop', 'kin', 'cafearticle']"
      ]
     },
     "execution_count": 6,
     "metadata": {},
     "output_type": "execute_result"
    }
   ],
   "source": [
    "cats"
   ]
  },
  {
   "cell_type": "code",
   "execution_count": 7,
   "id": "a06f744a",
   "metadata": {},
   "outputs": [
    {
     "name": "stdout",
     "output_type": "stream",
     "text": [
      "Success\n",
      "Success\n",
      "Success\n",
      "Success\n",
      "Success\n"
     ]
    },
    {
     "data": {
      "text/plain": [
       "5"
      ]
     },
     "execution_count": 7,
     "metadata": {},
     "output_type": "execute_result"
    }
   ],
   "source": [
    "dict_df = {}\n",
    "for cat in cats:\n",
    "    df = getDFabout(cat)\n",
    "    dict_df[cat] = df\n",
    "len(dict_df)"
   ]
  },
  {
   "cell_type": "code",
   "execution_count": 11,
   "id": "fd49d2d4",
   "metadata": {},
   "outputs": [],
   "source": [
    "pd.options.display.max_colwidth = 20"
   ]
  },
  {
   "cell_type": "code",
   "execution_count": 10,
   "id": "d0e1619b",
   "metadata": {},
   "outputs": [
    {
     "data": {
      "text/plain": [
       "title                                          [인사]농림축산식품부, 세종시 外\n",
       "originallink    https://www.foodneconomy.com/news/articleView....\n",
       "link            https://www.foodneconomy.com/news/articleView....\n",
       "description     유미선 △<b>빅데이터</b>전략담당관 이연숙 △농촌재생에너지팀장 윤광일 △공익직불...\n",
       "pubDate                           Fri, 29 Jul 2022 18:16:00 +0900\n",
       "Name: 0, dtype: object"
      ]
     },
     "execution_count": 10,
     "metadata": {},
     "output_type": "execute_result"
    }
   ],
   "source": [
    "dict_df['news'].loc[0]"
   ]
  },
  {
   "cell_type": "code",
   "execution_count": 20,
   "id": "4f8771e6",
   "metadata": {},
   "outputs": [
    {
     "name": "stdout",
     "output_type": "stream",
     "text": [
      "<class 'pandas.core.frame.DataFrame'>\n",
      "RangeIndex: 10 entries, 0 to 9\n",
      "Data columns (total 5 columns):\n",
      " #   Column        Non-Null Count  Dtype \n",
      "---  ------        --------------  ----- \n",
      " 0   title         10 non-null     object\n",
      " 1   originallink  10 non-null     object\n",
      " 2   link          10 non-null     object\n",
      " 3   description   10 non-null     object\n",
      " 4   pubDate       10 non-null     object\n",
      "dtypes: object(5)\n",
      "memory usage: 528.0+ bytes\n"
     ]
    }
   ],
   "source": [
    "dict_df['news'].info()"
   ]
  },
  {
   "cell_type": "code",
   "execution_count": 13,
   "id": "8cd785ba",
   "metadata": {},
   "outputs": [
    {
     "name": "stdout",
     "output_type": "stream",
     "text": [
      "https://www.foodneconomy.com/news/articleView.html?idxno=338786\n"
     ]
    }
   ],
   "source": [
    "print(dict_df['news'].loc[0].originallink)"
   ]
  },
  {
   "cell_type": "code",
   "execution_count": 14,
   "id": "f6a5e1e6",
   "metadata": {},
   "outputs": [
    {
     "name": "stdout",
     "output_type": "stream",
     "text": [
      "https://www.foodneconomy.com/news/articleView.html?idxno=338786\n"
     ]
    }
   ],
   "source": [
    "print(dict_df['news'].loc[0].link)"
   ]
  },
  {
   "cell_type": "code",
   "execution_count": 17,
   "id": "93b476df",
   "metadata": {},
   "outputs": [
    {
     "data": {
      "text/plain": [
       "(str, 111)"
      ]
     },
     "execution_count": 17,
     "metadata": {},
     "output_type": "execute_result"
    }
   ],
   "source": [
    "desc = dict_df['news'].loc[0].description\n",
    "type(desc), len(desc)"
   ]
  },
  {
   "cell_type": "code",
   "execution_count": 18,
   "id": "9bd40ce6",
   "metadata": {},
   "outputs": [
    {
     "name": "stdout",
     "output_type": "stream",
     "text": [
      "유미선 △<b>빅데이터</b>전략담당관 이연숙 △농촌재생에너지팀장 윤광일 △공익직불정책과장 김재형 △국제협력총괄과장 김 철 △농업통상과장 강효주 △수출진흥과장 이용직 △식생활소비진흥과장 최호종... \n"
     ]
    }
   ],
   "source": [
    "print(desc)"
   ]
  },
  {
   "cell_type": "code",
   "execution_count": 19,
   "id": "fc963107",
   "metadata": {},
   "outputs": [
    {
     "name": "stdout",
     "output_type": "stream",
     "text": [
      "유미선 △<b>빅데이터</b>전략담당관 이연숙 △농촌재생에너지팀장 윤광일 △공익직불정책과장 김재형 △국제협력총괄과장 김 철 △농업통상과장 강효주 △수출진흥과장 이용직 △식생활소비진흥과장 최호종... 유미선 △<b>빅데이터</b>전략담당관 이연숙 △농촌재생에너지팀장 윤광일 △공익직불정책과장 김재형 △국제협력총괄과장 김 철 △농업통상과장 강효주 △수출진흥과장 이용직 △식생활소비진흥과장 최호종... 유미선 △<b>빅데이터</b>전략담당관 이연숙 △농촌재생에너지팀장 윤광일 △공익직불정책과장 김재형 △국제협력총괄과장 김 철 △농업통상과장 강효주 △수출진흥과장 이용직 △식생활소비진흥과장 최호종... 유미선 △<b>빅데이터</b>전략담당관 이연숙 △농촌재생에너지팀장 윤광일 △공익직불정책과장 김재형 △국제협력총괄과장 김 철 △농업통상과장 강효주 △수출진흥과장 이용직 △식생활소비진흥과장 최호종... 유미선 △<b>빅데이터</b>전략담당관 이연숙 △농촌재생에너지팀장 윤광일 △공익직불정책과장 김재형 △국제협력총괄과장 김 철 △농업통상과장 강효주 △수출진흥과장 이용직 △식생활소비진흥과장 최호종... 유미선 △<b>빅데이터</b>전략담당관 이연숙 △농촌재생에너지팀장 윤광일 △공익직불정책과장 김재형 △국제협력총괄과장 김 철 △농업통상과장 강효주 △수출진흥과장 이용직 △식생활소비진흥과장 최호종... 유미선 △<b>빅데이터</b>전략담당관 이연숙 △농촌재생에너지팀장 윤광일 △공익직불정책과장 김재형 △국제협력총괄과장 김 철 △농업통상과장 강효주 △수출진흥과장 이용직 △식생활소비진흥과장 최호종... 유미선 △<b>빅데이터</b>전략담당관 이연숙 △농촌재생에너지팀장 윤광일 △공익직불정책과장 김재형 △국제협력총괄과장 김 철 △농업통상과장 강효주 △수출진흥과장 이용직 △식생활소비진흥과장 최호종... 유미선 △<b>빅데이터</b>전략담당관 이연숙 △농촌재생에너지팀장 윤광일 △공익직불정책과장 김재형 △국제협력총괄과장 김 철 △농업통상과장 강효주 △수출진흥과장 이용직 △식생활소비진흥과장 최호종... 유미선 △<b>빅데이터</b>전략담당관 이연숙 △농촌재생에너지팀장 윤광일 △공익직불정책과장 김재형 △국제협력총괄과장 김 철 △농업통상과장 강효주 △수출진흥과장 이용직 △식생활소비진흥과장 최호종... 유미선 △<b>빅데이터</b>전략담당관 이연숙 △농촌재생에너지팀장 윤광일 △공익직불정책과장 김재형 △국제협력총괄과장 김 철 △농업통상과장 강효주 △수출진흥과장 이용직 △식생활소비진흥과장 최호종... 유미선 △<b>빅데이터</b>전략담당관 이연숙 △농촌재생에너지팀장 윤광일 △공익직불정책과장 김재형 △국제협력총괄과장 김 철 △농업통상과장 강효주 △수출진흥과장 이용직 △식생활소비진흥과장 최호종... 유미선 △<b>빅데이터</b>전략담당관 이연숙 △농촌재생에너지팀장 윤광일 △공익직불정책과장 김재형 △국제협력총괄과장 김 철 △농업통상과장 강효주 △수출진흥과장 이용직 △식생활소비진흥과장 최호종... 유미선 △<b>빅데이터</b>전략담당관 이연숙 △농촌재생에너지팀장 윤광일 △공익직불정책과장 김재형 △국제협력총괄과장 김 철 △농업통상과장 강효주 △수출진흥과장 이용직 △식생활소비진흥과장 최호종... 유미선 △<b>빅데이터</b>전략담당관 이연숙 △농촌재생에너지팀장 윤광일 △공익직불정책과장 김재형 △국제협력총괄과장 김 철 △농업통상과장 강효주 △수출진흥과장 이용직 △식생활소비진흥과장 최호종... 유미선 △<b>빅데이터</b>전략담당관 이연숙 △농촌재생에너지팀장 윤광일 △공익직불정책과장 김재형 △국제협력총괄과장 김 철 △농업통상과장 강효주 △수출진흥과장 이용직 △식생활소비진흥과장 최호종... 유미선 △<b>빅데이터</b>전략담당관 이연숙 △농촌재생에너지팀장 윤광일 △공익직불정책과장 김재형 △국제협력총괄과장 김 철 △농업통상과장 강효주 △수출진흥과장 이용직 △식생활소비진흥과장 최호종... 유미선 △<b>빅데이터</b>전략담당관 이연숙 △농촌재생에너지팀장 윤광일 △공익직불정책과장 김재형 △국제협력총괄과장 김 철 △농업통상과장 강효주 △수출진흥과장 이용직 △식생활소비진흥과장 최호종... 유미선 △<b>빅데이터</b>전략담당관 이연숙 △농촌재생에너지팀장 윤광일 △공익직불정책과장 김재형 △국제협력총괄과장 김 철 △농업통상과장 강효주 △수출진흥과장 이용직 △식생활소비진흥과장 최호종... 유미선 △<b>빅데이터</b>전략담당관 이연숙 △농촌재생에너지팀장 윤광일 △공익직불정책과장 김재형 △국제협력총괄과장 김 철 △농업통상과장 강효주 △수출진흥과장 이용직 △식생활소비진흥과장 최호종... 유미선 △<b>빅데이터</b>전략담당관 이연숙 △농촌재생에너지팀장 윤광일 △공익직불정책과장 김재형 △국제협력총괄과장 김 철 △농업통상과장 강효주 △수출진흥과장 이용직 △식생활소비진흥과장 최호종... 유미선 △<b>빅데이터</b>전략담당관 이연숙 △농촌재생에너지팀장 윤광일 △공익직불정책과장 김재형 △국제협력총괄과장 김 철 △농업통상과장 강효주 △수출진흥과장 이용직 △식생활소비진흥과장 최호종... 유미선 △<b>빅데이터</b>전략담당관 이연숙 △농촌재생에너지팀장 윤광일 △공익직불정책과장 김재형 △국제협력총괄과장 김 철 △농업통상과장 강효주 △수출진흥과장 이용직 △식생활소비진흥과장 최호종... 유미선 △<b>빅데이터</b>전략담당관 이연숙 △농촌재생에너지팀장 윤광일 △공익직불정책과장 김재형 △국제협력총괄과장 김 철 △농업통상과장 강효주 △수출진흥과장 이용직 △식생활소비진흥과장 최호종... 유미선 △<b>빅데이터</b>전략담당관 이연숙 △농촌재생에너지팀장 윤광일 △공익직불정책과장 김재형 △국제협력총괄과장 김 철 △농업통상과장 강효주 △수출진흥과장 이용직 △식생활소비진흥과장 최호종... 유미선 △<b>빅데이터</b>전략담당관 이연숙 △농촌재생에너지팀장 윤광일 △공익직불정책과장 김재형 △국제협력총괄과장 김 철 △농업통상과장 강효주 △수출진흥과장 이용직 △식생활소비진흥과장 최호종... 유미선 △<b>빅데이터</b>전략담당관 이연숙 △농촌재생에너지팀장 윤광일 △공익직불정책과장 김재형 △국제협력총괄과장 김 철 △농업통상과장 강효주 △수출진흥과장 이용직 △식생활소비진흥과장 최호종... 유미선 △<b>빅데이터</b>전략담당관 이연숙 △농촌재생에너지팀장 윤광일 △공익직불정책과장 김재형 △국제협력총괄과장 김 철 △농업통상과장 강효주 △수출진흥과장 이용직 △식생활소비진흥과장 최호종... 유미선 △<b>빅데이터</b>전략담당관 이연숙 △농촌재생에너지팀장 윤광일 △공익직불정책과장 김재형 △국제협력총괄과장 김 철 △농업통상과장 강효주 △수출진흥과장 이용직 △식생활소비진흥과장 최호종... 유미선 △<b>빅데이터</b>전략담당관 이연숙 △농촌재생에너지팀장 윤광일 △공익직불정책과장 김재형 △국제협력총괄과장 김 철 △농업통상과장 강효주 △수출진흥과장 이용직 △식생활소비진흥과장 최호종... 유미선 △<b>빅데이터</b>전략담당관 이연숙 △농촌재생에너지팀장 윤광일 △공익직불정책과장 김재형 △국제협력총괄과장 김 철 △농업통상과장 강효주 △수출진흥과장 이용직 △식생활소비진흥과장 최호종... 유미선 △<b>빅데이터</b>전략담당관 이연숙 △농촌재생에너지팀장 윤광일 △공익직불정책과장 김재형 △국제협력총괄과장 김 철 △농업통상과장 강효주 △수출진흥과장 이용직 △식생활소비진흥과장 최호종... 유미선 △<b>빅데이터</b>전략담당관 이연숙 △농촌재생에너지팀장 윤광일 △공익직불정책과장 김재형 △국제협력총괄과장 김 철 △농업통상과장 강효주 △수출진흥과장 이용직 △식생활소비진흥과장 최호종... 유미선 △<b>빅데이터</b>전략담당관 이연숙 △농촌재생에너지팀장 윤광일 △공익직불정책과장 김재형 △국제협력총괄과장 김 철 △농업통상과장 강효주 △수출진흥과장 이용직 △식생활소비진흥과장 최호종... 유미선 △<b>빅데이터</b>전략담당관 이연숙 △농촌재생에너지팀장 윤광일 △공익직불정책과장 김재형 △국제협력총괄과장 김 철 △농업통상과장 강효주 △수출진흥과장 이용직 △식생활소비진흥과장 최호종... 유미선 △<b>빅데이터</b>전략담당관 이연숙 △농촌재생에너지팀장 윤광일 △공익직불정책과장 김재형 △국제협력총괄과장 김 철 △농업통상과장 강효주 △수출진흥과장 이용직 △식생활소비진흥과장 최호종... 유미선 △<b>빅데이터</b>전략담당관 이연숙 △농촌재생에너지팀장 윤광일 △공익직불정책과장 김재형 △국제협력총괄과장 김 철 △농업통상과장 강효주 △수출진흥과장 이용직 △식생활소비진흥과장 최호종... 유미선 △<b>빅데이터</b>전략담당관 이연숙 △농촌재생에너지팀장 윤광일 △공익직불정책과장 김재형 △국제협력총괄과장 김 철 △농업통상과장 강효주 △수출진흥과장 이용직 △식생활소비진흥과장 최호종... 유미선 △<b>빅데이터</b>전략담당관 이연숙 △농촌재생에너지팀장 윤광일 △공익직불정책과장 김재형 △국제협력총괄과장 김 철 △농업통상과장 강효주 △수출진흥과장 이용직 △식생활소비진흥과장 최호종... 유미선 △<b>빅데이터</b>전략담당관 이연숙 △농촌재생에너지팀장 윤광일 △공익직불정책과장 김재형 △국제협력총괄과장 김 철 △농업통상과장 강효주 △수출진흥과장 이용직 △식생활소비진흥과장 최호종... 유미선 △<b>빅데이터</b>전략담당관 이연숙 △농촌재생에너지팀장 윤광일 △공익직불정책과장 김재형 △국제협력총괄과장 김 철 △농업통상과장 강효주 △수출진흥과장 이용직 △식생활소비진흥과장 최호종... 유미선 △<b>빅데이터</b>전략담당관 이연숙 △농촌재생에너지팀장 윤광일 △공익직불정책과장 김재형 △국제협력총괄과장 김 철 △농업통상과장 강효주 △수출진흥과장 이용직 △식생활소비진흥과장 최호종... 유미선 △<b>빅데이터</b>전략담당관 이연숙 △농촌재생에너지팀장 윤광일 △공익직불정책과장 김재형 △국제협력총괄과장 김 철 △농업통상과장 강효주 △수출진흥과장 이용직 △식생활소비진흥과장 최호종... 유미선 △<b>빅데이터</b>전략담당관 이연숙 △농촌재생에너지팀장 윤광일 △공익직불정책과장 김재형 △국제협력총괄과장 김 철 △농업통상과장 강효주 △수출진흥과장 이용직 △식생활소비진흥과장 최호종... 유미선 △<b>빅데이터</b>전략담당관 이연숙 △농촌재생에너지팀장 윤광일 △공익직불정책과장 김재형 △국제협력총괄과장 김 철 △농업통상과장 강효주 △수출진흥과장 이용직 △식생활소비진흥과장 최호종... 유미선 △<b>빅데이터</b>전략담당관 이연숙 △농촌재생에너지팀장 윤광일 △공익직불정책과장 김재형 △국제협력총괄과장 김 철 △농업통상과장 강효주 △수출진흥과장 이용직 △식생활소비진흥과장 최호종... 유미선 △<b>빅데이터</b>전략담당관 이연숙 △농촌재생에너지팀장 윤광일 △공익직불정책과장 김재형 △국제협력총괄과장 김 철 △농업통상과장 강효주 △수출진흥과장 이용직 △식생활소비진흥과장 최호종... 유미선 △<b>빅데이터</b>전략담당관 이연숙 △농촌재생에너지팀장 윤광일 △공익직불정책과장 김재형 △국제협력총괄과장 김 철 △농업통상과장 강효주 △수출진흥과장 이용직 △식생활소비진흥과장 최호종... 유미선 △<b>빅데이터</b>전략담당관 이연숙 △농촌재생에너지팀장 윤광일 △공익직불정책과장 김재형 △국제협력총괄과장 김 철 △농업통상과장 강효주 △수출진흥과장 이용직 △식생활소비진흥과장 최호종... 유미선 △<b>빅데이터</b>전략담당관 이연숙 △농촌재생에너지팀장 윤광일 △공익직불정책과장 김재형 △국제협력총괄과장 김 철 △농업통상과장 강효주 △수출진흥과장 이용직 △식생활소비진흥과장 최호종... 유미선 △<b>빅데이터</b>전략담당관 이연숙 △농촌재생에너지팀장 윤광일 △공익직불정책과장 김재형 △국제협력총괄과장 김 철 △농업통상과장 강효주 △수출진흥과장 이용직 △식생활소비진흥과장 최호종... 유미선 △<b>빅데이터</b>전략담당관 이연숙 △농촌재생에너지팀장 윤광일 △공익직불정책과장 김재형 △국제협력총괄과장 김 철 △농업통상과장 강효주 △수출진흥과장 이용직 △식생활소비진흥과장 최호종... 유미선 △<b>빅데이터</b>전략담당관 이연숙 △농촌재생에너지팀장 윤광일 △공익직불정책과장 김재형 △국제협력총괄과장 김 철 △농업통상과장 강효주 △수출진흥과장 이용직 △식생활소비진흥과장 최호종... 유미선 △<b>빅데이터</b>전략담당관 이연숙 △농촌재생에너지팀장 윤광일 △공익직불정책과장 김재형 △국제협력총괄과장 김 철 △농업통상과장 강효주 △수출진흥과장 이용직 △식생활소비진흥과장 최호종... 유미선 △<b>빅데이터</b>전략담당관 이연숙 △농촌재생에너지팀장 윤광일 △공익직불정책과장 김재형 △국제협력총괄과장 김 철 △농업통상과장 강효주 △수출진흥과장 이용직 △식생활소비진흥과장 최호종... 유미선 △<b>빅데이터</b>전략담당관 이연숙 △농촌재생에너지팀장 윤광일 △공익직불정책과장 김재형 △국제협력총괄과장 김 철 △농업통상과장 강효주 △수출진흥과장 이용직 △식생활소비진흥과장 최호종... 유미선 △<b>빅데이터</b>전략담당관 이연숙 △농촌재생에너지팀장 윤광일 △공익직불정책과장 김재형 △국제협력총괄과장 김 철 △농업통상과장 강효주 △수출진흥과장 이용직 △식생활소비진흥과장 최호종... 유미선 △<b>빅데이터</b>전략담당관 이연숙 △농촌재생에너지팀장 윤광일 △공익직불정책과장 김재형 △국제협력총괄과장 김 철 △농업통상과장 강효주 △수출진흥과장 이용직 △식생활소비진흥과장 최호종... 유미선 △<b>빅데이터</b>전략담당관 이연숙 △농촌재생에너지팀장 윤광일 △공익직불정책과장 김재형 △국제협력총괄과장 김 철 △농업통상과장 강효주 △수출진흥과장 이용직 △식생활소비진흥과장 최호종... 유미선 △<b>빅데이터</b>전략담당관 이연숙 △농촌재생에너지팀장 윤광일 △공익직불정책과장 김재형 △국제협력총괄과장 김 철 △농업통상과장 강효주 △수출진흥과장 이용직 △식생활소비진흥과장 최호종... 유미선 △<b>빅데이터</b>전략담당관 이연숙 △농촌재생에너지팀장 윤광일 △공익직불정책과장 김재형 △국제협력총괄과장 김 철 △농업통상과장 강효주 △수출진흥과장 이용직 △식생활소비진흥과장 최호종... 유미선 △<b>빅데이터</b>전략담당관 이연숙 △농촌재생에너지팀장 윤광일 △공익직불정책과장 김재형 △국제협력총괄과장 김 철 △농업통상과장 강효주 △수출진흥과장 이용직 △식생활소비진흥과장 최호종... 유미선 △<b>빅데이터</b>전략담당관 이연숙 △농촌재생에너지팀장 윤광일 △공익직불정책과장 김재형 △국제협력총괄과장 김 철 △농업통상과장 강효주 △수출진흥과장 이용직 △식생활소비진흥과장 최호종... 유미선 △<b>빅데이터</b>전략담당관 이연숙 △농촌재생에너지팀장 윤광일 △공익직불정책과장 김재형 △국제협력총괄과장 김 철 △농업통상과장 강효주 △수출진흥과장 이용직 △식생활소비진흥과장 최호종... 유미선 △<b>빅데이터</b>전략담당관 이연숙 △농촌재생에너지팀장 윤광일 △공익직불정책과장 김재형 △국제협력총괄과장 김 철 △농업통상과장 강효주 △수출진흥과장 이용직 △식생활소비진흥과장 최호종... 유미선 △<b>빅데이터</b>전략담당관 이연숙 △농촌재생에너지팀장 윤광일 △공익직불정책과장 김재형 △국제협력총괄과장 김 철 △농업통상과장 강효주 △수출진흥과장 이용직 △식생활소비진흥과장 최호종... 유미선 △<b>빅데이터</b>전략담당관 이연숙 △농촌재생에너지팀장 윤광일 △공익직불정책과장 김재형 △국제협력총괄과장 김 철 △농업통상과장 강효주 △수출진흥과장 이용직 △식생활소비진흥과장 최호종... 유미선 △<b>빅데이터</b>전략담당관 이연숙 △농촌재생에너지팀장 윤광일 △공익직불정책과장 김재형 △국제협력총괄과장 김 철 △농업통상과장 강효주 △수출진흥과장 이용직 △식생활소비진흥과장 최호종... 유미선 △<b>빅데이터</b>전략담당관 이연숙 △농촌재생에너지팀장 윤광일 △공익직불정책과장 김재형 △국제협력총괄과장 김 철 △농업통상과장 강효주 △수출진흥과장 이용직 △식생활소비진흥과장 최호종... 유미선 △<b>빅데이터</b>전략담당관 이연숙 △농촌재생에너지팀장 윤광일 △공익직불정책과장 김재형 △국제협력총괄과장 김 철 △농업통상과장 강효주 △수출진흥과장 이용직 △식생활소비진흥과장 최호종... 유미선 △<b>빅데이터</b>전략담당관 이연숙 △농촌재생에너지팀장 윤광일 △공익직불정책과장 김재형 △국제협력총괄과장 김 철 △농업통상과장 강효주 △수출진흥과장 이용직 △식생활소비진흥과장 최호종... 유미선 △<b>빅데이터</b>전략담당관 이연숙 △농촌재생에너지팀장 윤광일 △공익직불정책과장 김재형 △국제협력총괄과장 김 철 △농업통상과장 강효주 △수출진흥과장 이용직 △식생활소비진흥과장 최호종... 유미선 △<b>빅데이터</b>전략담당관 이연숙 △농촌재생에너지팀장 윤광일 △공익직불정책과장 김재형 △국제협력총괄과장 김 철 △농업통상과장 강효주 △수출진흥과장 이용직 △식생활소비진흥과장 최호종... 유미선 △<b>빅데이터</b>전략담당관 이연숙 △농촌재생에너지팀장 윤광일 △공익직불정책과장 김재형 △국제협력총괄과장 김 철 △농업통상과장 강효주 △수출진흥과장 이용직 △식생활소비진흥과장 최호종... 유미선 △<b>빅데이터</b>전략담당관 이연숙 △농촌재생에너지팀장 윤광일 △공익직불정책과장 김재형 △국제협력총괄과장 김 철 △농업통상과장 강효주 △수출진흥과장 이용직 △식생활소비진흥과장 최호종... 유미선 △<b>빅데이터</b>전략담당관 이연숙 △농촌재생에너지팀장 윤광일 △공익직불정책과장 김재형 △국제협력총괄과장 김 철 △농업통상과장 강효주 △수출진흥과장 이용직 △식생활소비진흥과장 최호종... 유미선 △<b>빅데이터</b>전략담당관 이연숙 △농촌재생에너지팀장 윤광일 △공익직불정책과장 김재형 △국제협력총괄과장 김 철 △농업통상과장 강효주 △수출진흥과장 이용직 △식생활소비진흥과장 최호종... 유미선 △<b>빅데이터</b>전략담당관 이연숙 △농촌재생에너지팀장 윤광일 △공익직불정책과장 김재형 △국제협력총괄과장 김 철 △농업통상과장 강효주 △수출진흥과장 이용직 △식생활소비진흥과장 최호종... 유미선 △<b>빅데이터</b>전략담당관 이연숙 △농촌재생에너지팀장 윤광일 △공익직불정책과장 김재형 △국제협력총괄과장 김 철 △농업통상과장 강효주 △수출진흥과장 이용직 △식생활소비진흥과장 최호종... 유미선 △<b>빅데이터</b>전략담당관 이연숙 △농촌재생에너지팀장 윤광일 △공익직불정책과장 김재형 △국제협력총괄과장 김 철 △농업통상과장 강효주 △수출진흥과장 이용직 △식생활소비진흥과장 최호종... 유미선 △<b>빅데이터</b>전략담당관 이연숙 △농촌재생에너지팀장 윤광일 △공익직불정책과장 김재형 △국제협력총괄과장 김 철 △농업통상과장 강효주 △수출진흥과장 이용직 △식생활소비진흥과장 최호종... 유미선 △<b>빅데이터</b>전략담당관 이연숙 △농촌재생에너지팀장 윤광일 △공익직불정책과장 김재형 △국제협력총괄과장 김 철 △농업통상과장 강효주 △수출진흥과장 이용직 △식생활소비진흥과장 최호종... 유미선 △<b>빅데이터</b>전략담당관 이연숙 △농촌재생에너지팀장 윤광일 △공익직불정책과장 김재형 △국제협력총괄과장 김 철 △농업통상과장 강효주 △수출진흥과장 이용직 △식생활소비진흥과장 최호종... 유미선 △<b>빅데이터</b>전략담당관 이연숙 △농촌재생에너지팀장 윤광일 △공익직불정책과장 김재형 △국제협력총괄과장 김 철 △농업통상과장 강효주 △수출진흥과장 이용직 △식생활소비진흥과장 최호종... 유미선 △<b>빅데이터</b>전략담당관 이연숙 △농촌재생에너지팀장 윤광일 △공익직불정책과장 김재형 △국제협력총괄과장 김 철 △농업통상과장 강효주 △수출진흥과장 이용직 △식생활소비진흥과장 최호종... 유미선 △<b>빅데이터</b>전략담당관 이연숙 △농촌재생에너지팀장 윤광일 △공익직불정책과장 김재형 △국제협력총괄과장 김 철 △농업통상과장 강효주 △수출진흥과장 이용직 △식생활소비진흥과장 최호종... 유미선 △<b>빅데이터</b>전략담당관 이연숙 △농촌재생에너지팀장 윤광일 △공익직불정책과장 김재형 △국제협력총괄과장 김 철 △농업통상과장 강효주 △수출진흥과장 이용직 △식생활소비진흥과장 최호종... 유미선 △<b>빅데이터</b>전략담당관 이연숙 △농촌재생에너지팀장 윤광일 △공익직불정책과장 김재형 △국제협력총괄과장 김 철 △농업통상과장 강효주 △수출진흥과장 이용직 △식생활소비진흥과장 최호종... 유미선 △<b>빅데이터</b>전략담당관 이연숙 △농촌재생에너지팀장 윤광일 △공익직불정책과장 김재형 △국제협력총괄과장 김 철 △농업통상과장 강효주 △수출진흥과장 이용직 △식생활소비진흥과장 최호종... 유미선 △<b>빅데이터</b>전략담당관 이연숙 △농촌재생에너지팀장 윤광일 △공익직불정책과장 김재형 △국제협력총괄과장 김 철 △농업통상과장 강효주 △수출진흥과장 이용직 △식생활소비진흥과장 최호종... 유미선 △<b>빅데이터</b>전략담당관 이연숙 △농촌재생에너지팀장 윤광일 △공익직불정책과장 김재형 △국제협력총괄과장 김 철 △농업통상과장 강효주 △수출진흥과장 이용직 △식생활소비진흥과장 최호종... 유미선 △<b>빅데이터</b>전략담당관 이연숙 △농촌재생에너지팀장 윤광일 △공익직불정책과장 김재형 △국제협력총괄과장 김 철 △농업통상과장 강효주 △수출진흥과장 이용직 △식생활소비진흥과장 최호종... 유미선 △<b>빅데이터</b>전략담당관 이연숙 △농촌재생에너지팀장 윤광일 △공익직불정책과장 김재형 △국제협력총괄과장 김 철 △농업통상과장 강효주 △수출진흥과장 이용직 △식생활소비진흥과장 최호종... 유미선 △<b>빅데이터</b>전략담당관 이연숙 △농촌재생에너지팀장 윤광일 △공익직불정책과장 김재형 △국제협력총괄과장 김 철 △농업통상과장 강효주 △수출진흥과장 이용직 △식생활소비진흥과장 최호종... 유미선 △<b>빅데이터</b>전략담당관 이연숙 △농촌재생에너지팀장 윤광일 △공익직불정책과장 김재형 △국제협력총괄과장 김 철 △농업통상과장 강효주 △수출진흥과장 이용직 △식생활소비진흥과장 최호종... 유미선 △<b>빅데이터</b>전략담당관 이연숙 △농촌재생에너지팀장 윤광일 △공익직불정책과장 김재형 △국제협력총괄과장 김 철 △농업통상과장 강효주 △수출진흥과장 이용직 △식생활소비진흥과장 최호종... 유미선 △<b>빅데이터</b>전략담당관 이연숙 △농촌재생에너지팀장 윤광일 △공익직불정책과장 김재형 △국제협력총괄과장 김 철 △농업통상과장 강효주 △수출진흥과장 이용직 △식생활소비진흥과장 최호종... 유미선 △<b>빅데이터</b>전략담당관 이연숙 △농촌재생에너지팀장 윤광일 △공익직불정책과장 김재형 △국제협력총괄과장 김 철 △농업통상과장 강효주 △수출진흥과장 이용직 △식생활소비진흥과장 최호종... 유미선 △<b>빅데이터</b>전략담당관 이연숙 △농촌재생에너지팀장 윤광일 △공익직불정책과장 김재형 △국제협력총괄과장 김 철 △농업통상과장 강효주 △수출진흥과장 이용직 △식생활소비진흥과장 최호종... 유미선 △<b>빅데이터</b>전략담당관 이연숙 △농촌재생에너지팀장 윤광일 △공익직불정책과장 김재형 △국제협력총괄과장 김 철 △농업통상과장 강효주 △수출진흥과장 이용직 △식생활소비진흥과장 최호종... 유미선 △<b>빅데이터</b>전략담당관 이연숙 △농촌재생에너지팀장 윤광일 △공익직불정책과장 김재형 △국제협력총괄과장 김 철 △농업통상과장 강효주 △수출진흥과장 이용직 △식생활소비진흥과장 최호종... 유미선 △<b>빅데이터</b>전략담당관 이연숙 △농촌재생에너지팀장 윤광일 △공익직불정책과장 김재형 △국제협력총괄과장 김 철 △농업통상과장 강효주 △수출진흥과장 이용직 △식생활소비진흥과장 최호종... 유미선 △<b>빅데이터</b>전략담당관 이연숙 △농촌재생에너지팀장 윤광일 △공익직불정책과장 김재형 △국제협력총괄과장 김 철 △농업통상과장 강효주 △수출진흥과장 이용직 △식생활소비진흥과장 최호종... 유미선 △<b>빅데이터</b>전략담당관 이연숙 △농촌재생에너지팀장 윤광일 △공익직불정책과장 김재형 △국제협력총괄과장 김 철 △농업통상과장 강효주 △수출진흥과장 이용직 △식생활소비진흥과장 최호종... 유미선 △<b>빅데이터</b>전략담당관 이연숙 △농촌재생에너지팀장 윤광일 △공익직불정책과장 김재형 △국제협력총괄과장 김 철 △농업통상과장 강효주 △수출진흥과장 이용직 △식생활소비진흥과장 최호종... 유미선 △<b>빅데이터</b>전략담당관 이연숙 △농촌재생에너지팀장 윤광일 △공익직불정책과장 김재형 △국제협력총괄과장 김 철 △농업통상과장 강효주 △수출진흥과장 이용직 △식생활소비진흥과장 최호종... 유미선 △<b>빅데이터</b>전략담당관 이연숙 △농촌재생에너지팀장 윤광일 △공익직불정책과장 김재형 △국제협력총괄과장 김 철 △농업통상과장 강효주 △수출진흥과장 이용직 △식생활소비진흥과장 최호종... 유미선 △<b>빅데이터</b>전략담당관 이연숙 △농촌재생에너지팀장 윤광일 △공익직불정책과장 김재형 △국제협력총괄과장 김 철 △농업통상과장 강효주 △수출진흥과장 이용직 △식생활소비진흥과장 최호종... 유미선 △<b>빅데이터</b>전략담당관 이연숙 △농촌재생에너지팀장 윤광일 △공익직불정책과장 김재형 △국제협력총괄과장 김 철 △농업통상과장 강효주 △수출진흥과장 이용직 △식생활소비진흥과장 최호종... 유미선 △<b>빅데이터</b>전략담당관 이연숙 △농촌재생에너지팀장 윤광일 △공익직불정책과장 김재형 △국제협력총괄과장 김 철 △농업통상과장 강효주 △수출진흥과장 이용직 △식생활소비진흥과장 최호종... 유미선 △<b>빅데이터</b>전략담당관 이연숙 △농촌재생에너지팀장 윤광일 △공익직불정책과장 김재형 △국제협력총괄과장 김 철 △농업통상과장 강효주 △수출진흥과장 이용직 △식생활소비진흥과장 최호종... "
     ]
    }
   ],
   "source": [
    "for l in desc:\n",
    "    print(desc, end=\"\")"
   ]
  },
  {
   "cell_type": "code",
   "execution_count": null,
   "id": "47963b95",
   "metadata": {},
   "outputs": [],
   "source": []
  },
  {
   "cell_type": "code",
   "execution_count": 21,
   "id": "3c2dfca0",
   "metadata": {},
   "outputs": [
    {
     "data": {
      "text/plain": [
       "'&apos;농수축산업의 고부가가치 생명산업으로 육성&apos; 분야는 △첨단 농산업 융복합지구 조성(공약) △국립 남도음식진흥원 설립(공약) △국립 농산업 <b>빅데이터</b>센터 설립(정책과제) 등이, &apos;기반시설(SOC) 르네상스로 초광역... '"
      ]
     },
     "execution_count": 21,
     "metadata": {},
     "output_type": "execute_result"
    }
   ],
   "source": [
    "desc = dict_df['news'].loc[7].description\n",
    "desc"
   ]
  },
  {
   "cell_type": "code",
   "execution_count": 22,
   "id": "81d2b111",
   "metadata": {},
   "outputs": [
    {
     "name": "stdout",
     "output_type": "stream",
     "text": [
      "&apos;농수축산업의 고부가가치 생명산업으로 육성&apos; 분야는 △첨단 농산업 융복합지구 조성(공약) △국립 남도음식진흥원 설립(공약) △국립 농산업 <b>빅데이터</b>센터 설립(정책과제) 등이, &apos;기반시설(SOC) 르네상스로 초광역... &apos;농수축산업의 고부가가치 생명산업으로 육성&apos; 분야는 △첨단 농산업 융복합지구 조성(공약) △국립 남도음식진흥원 설립(공약) △국립 농산업 <b>빅데이터</b>센터 설립(정책과제) 등이, &apos;기반시설(SOC) 르네상스로 초광역... &apos;농수축산업의 고부가가치 생명산업으로 육성&apos; 분야는 △첨단 농산업 융복합지구 조성(공약) △국립 남도음식진흥원 설립(공약) △국립 농산업 <b>빅데이터</b>센터 설립(정책과제) 등이, &apos;기반시설(SOC) 르네상스로 초광역... &apos;농수축산업의 고부가가치 생명산업으로 육성&apos; 분야는 △첨단 농산업 융복합지구 조성(공약) △국립 남도음식진흥원 설립(공약) △국립 농산업 <b>빅데이터</b>센터 설립(정책과제) 등이, &apos;기반시설(SOC) 르네상스로 초광역... &apos;농수축산업의 고부가가치 생명산업으로 육성&apos; 분야는 △첨단 농산업 융복합지구 조성(공약) △국립 남도음식진흥원 설립(공약) △국립 농산업 <b>빅데이터</b>센터 설립(정책과제) 등이, &apos;기반시설(SOC) 르네상스로 초광역... &apos;농수축산업의 고부가가치 생명산업으로 육성&apos; 분야는 △첨단 농산업 융복합지구 조성(공약) △국립 남도음식진흥원 설립(공약) △국립 농산업 <b>빅데이터</b>센터 설립(정책과제) 등이, &apos;기반시설(SOC) 르네상스로 초광역... &apos;농수축산업의 고부가가치 생명산업으로 육성&apos; 분야는 △첨단 농산업 융복합지구 조성(공약) △국립 남도음식진흥원 설립(공약) △국립 농산업 <b>빅데이터</b>센터 설립(정책과제) 등이, &apos;기반시설(SOC) 르네상스로 초광역... &apos;농수축산업의 고부가가치 생명산업으로 육성&apos; 분야는 △첨단 농산업 융복합지구 조성(공약) △국립 남도음식진흥원 설립(공약) △국립 농산업 <b>빅데이터</b>센터 설립(정책과제) 등이, &apos;기반시설(SOC) 르네상스로 초광역... &apos;농수축산업의 고부가가치 생명산업으로 육성&apos; 분야는 △첨단 농산업 융복합지구 조성(공약) △국립 남도음식진흥원 설립(공약) △국립 농산업 <b>빅데이터</b>센터 설립(정책과제) 등이, &apos;기반시설(SOC) 르네상스로 초광역... &apos;농수축산업의 고부가가치 생명산업으로 육성&apos; 분야는 △첨단 농산업 융복합지구 조성(공약) △국립 남도음식진흥원 설립(공약) △국립 농산업 <b>빅데이터</b>센터 설립(정책과제) 등이, &apos;기반시설(SOC) 르네상스로 초광역... &apos;농수축산업의 고부가가치 생명산업으로 육성&apos; 분야는 △첨단 농산업 융복합지구 조성(공약) △국립 남도음식진흥원 설립(공약) △국립 농산업 <b>빅데이터</b>센터 설립(정책과제) 등이, &apos;기반시설(SOC) 르네상스로 초광역... &apos;농수축산업의 고부가가치 생명산업으로 육성&apos; 분야는 △첨단 농산업 융복합지구 조성(공약) △국립 남도음식진흥원 설립(공약) △국립 농산업 <b>빅데이터</b>센터 설립(정책과제) 등이, &apos;기반시설(SOC) 르네상스로 초광역... &apos;농수축산업의 고부가가치 생명산업으로 육성&apos; 분야는 △첨단 농산업 융복합지구 조성(공약) △국립 남도음식진흥원 설립(공약) △국립 농산업 <b>빅데이터</b>센터 설립(정책과제) 등이, &apos;기반시설(SOC) 르네상스로 초광역... &apos;농수축산업의 고부가가치 생명산업으로 육성&apos; 분야는 △첨단 농산업 융복합지구 조성(공약) △국립 남도음식진흥원 설립(공약) △국립 농산업 <b>빅데이터</b>센터 설립(정책과제) 등이, &apos;기반시설(SOC) 르네상스로 초광역... &apos;농수축산업의 고부가가치 생명산업으로 육성&apos; 분야는 △첨단 농산업 융복합지구 조성(공약) △국립 남도음식진흥원 설립(공약) △국립 농산업 <b>빅데이터</b>센터 설립(정책과제) 등이, &apos;기반시설(SOC) 르네상스로 초광역... &apos;농수축산업의 고부가가치 생명산업으로 육성&apos; 분야는 △첨단 농산업 융복합지구 조성(공약) △국립 남도음식진흥원 설립(공약) △국립 농산업 <b>빅데이터</b>센터 설립(정책과제) 등이, &apos;기반시설(SOC) 르네상스로 초광역... &apos;농수축산업의 고부가가치 생명산업으로 육성&apos; 분야는 △첨단 농산업 융복합지구 조성(공약) △국립 남도음식진흥원 설립(공약) △국립 농산업 <b>빅데이터</b>센터 설립(정책과제) 등이, &apos;기반시설(SOC) 르네상스로 초광역... &apos;농수축산업의 고부가가치 생명산업으로 육성&apos; 분야는 △첨단 농산업 융복합지구 조성(공약) △국립 남도음식진흥원 설립(공약) △국립 농산업 <b>빅데이터</b>센터 설립(정책과제) 등이, &apos;기반시설(SOC) 르네상스로 초광역... &apos;농수축산업의 고부가가치 생명산업으로 육성&apos; 분야는 △첨단 농산업 융복합지구 조성(공약) △국립 남도음식진흥원 설립(공약) △국립 농산업 <b>빅데이터</b>센터 설립(정책과제) 등이, &apos;기반시설(SOC) 르네상스로 초광역... &apos;농수축산업의 고부가가치 생명산업으로 육성&apos; 분야는 △첨단 농산업 융복합지구 조성(공약) △국립 남도음식진흥원 설립(공약) △국립 농산업 <b>빅데이터</b>센터 설립(정책과제) 등이, &apos;기반시설(SOC) 르네상스로 초광역... &apos;농수축산업의 고부가가치 생명산업으로 육성&apos; 분야는 △첨단 농산업 융복합지구 조성(공약) △국립 남도음식진흥원 설립(공약) △국립 농산업 <b>빅데이터</b>센터 설립(정책과제) 등이, &apos;기반시설(SOC) 르네상스로 초광역... &apos;농수축산업의 고부가가치 생명산업으로 육성&apos; 분야는 △첨단 농산업 융복합지구 조성(공약) △국립 남도음식진흥원 설립(공약) △국립 농산업 <b>빅데이터</b>센터 설립(정책과제) 등이, &apos;기반시설(SOC) 르네상스로 초광역... &apos;농수축산업의 고부가가치 생명산업으로 육성&apos; 분야는 △첨단 농산업 융복합지구 조성(공약) △국립 남도음식진흥원 설립(공약) △국립 농산업 <b>빅데이터</b>센터 설립(정책과제) 등이, &apos;기반시설(SOC) 르네상스로 초광역... &apos;농수축산업의 고부가가치 생명산업으로 육성&apos; 분야는 △첨단 농산업 융복합지구 조성(공약) △국립 남도음식진흥원 설립(공약) △국립 농산업 <b>빅데이터</b>센터 설립(정책과제) 등이, &apos;기반시설(SOC) 르네상스로 초광역... &apos;농수축산업의 고부가가치 생명산업으로 육성&apos; 분야는 △첨단 농산업 융복합지구 조성(공약) △국립 남도음식진흥원 설립(공약) △국립 농산업 <b>빅데이터</b>센터 설립(정책과제) 등이, &apos;기반시설(SOC) 르네상스로 초광역... &apos;농수축산업의 고부가가치 생명산업으로 육성&apos; 분야는 △첨단 농산업 융복합지구 조성(공약) △국립 남도음식진흥원 설립(공약) △국립 농산업 <b>빅데이터</b>센터 설립(정책과제) 등이, &apos;기반시설(SOC) 르네상스로 초광역... &apos;농수축산업의 고부가가치 생명산업으로 육성&apos; 분야는 △첨단 농산업 융복합지구 조성(공약) △국립 남도음식진흥원 설립(공약) △국립 농산업 <b>빅데이터</b>센터 설립(정책과제) 등이, &apos;기반시설(SOC) 르네상스로 초광역... &apos;농수축산업의 고부가가치 생명산업으로 육성&apos; 분야는 △첨단 농산업 융복합지구 조성(공약) △국립 남도음식진흥원 설립(공약) △국립 농산업 <b>빅데이터</b>센터 설립(정책과제) 등이, &apos;기반시설(SOC) 르네상스로 초광역... &apos;농수축산업의 고부가가치 생명산업으로 육성&apos; 분야는 △첨단 농산업 융복합지구 조성(공약) △국립 남도음식진흥원 설립(공약) △국립 농산업 <b>빅데이터</b>센터 설립(정책과제) 등이, &apos;기반시설(SOC) 르네상스로 초광역... &apos;농수축산업의 고부가가치 생명산업으로 육성&apos; 분야는 △첨단 농산업 융복합지구 조성(공약) △국립 남도음식진흥원 설립(공약) △국립 농산업 <b>빅데이터</b>센터 설립(정책과제) 등이, &apos;기반시설(SOC) 르네상스로 초광역... &apos;농수축산업의 고부가가치 생명산업으로 육성&apos; 분야는 △첨단 농산업 융복합지구 조성(공약) △국립 남도음식진흥원 설립(공약) △국립 농산업 <b>빅데이터</b>센터 설립(정책과제) 등이, &apos;기반시설(SOC) 르네상스로 초광역... &apos;농수축산업의 고부가가치 생명산업으로 육성&apos; 분야는 △첨단 농산업 융복합지구 조성(공약) △국립 남도음식진흥원 설립(공약) △국립 농산업 <b>빅데이터</b>센터 설립(정책과제) 등이, &apos;기반시설(SOC) 르네상스로 초광역... &apos;농수축산업의 고부가가치 생명산업으로 육성&apos; 분야는 △첨단 농산업 융복합지구 조성(공약) △국립 남도음식진흥원 설립(공약) △국립 농산업 <b>빅데이터</b>센터 설립(정책과제) 등이, &apos;기반시설(SOC) 르네상스로 초광역... &apos;농수축산업의 고부가가치 생명산업으로 육성&apos; 분야는 △첨단 농산업 융복합지구 조성(공약) △국립 남도음식진흥원 설립(공약) △국립 농산업 <b>빅데이터</b>센터 설립(정책과제) 등이, &apos;기반시설(SOC) 르네상스로 초광역... &apos;농수축산업의 고부가가치 생명산업으로 육성&apos; 분야는 △첨단 농산업 융복합지구 조성(공약) △국립 남도음식진흥원 설립(공약) △국립 농산업 <b>빅데이터</b>센터 설립(정책과제) 등이, &apos;기반시설(SOC) 르네상스로 초광역... &apos;농수축산업의 고부가가치 생명산업으로 육성&apos; 분야는 △첨단 농산업 융복합지구 조성(공약) △국립 남도음식진흥원 설립(공약) △국립 농산업 <b>빅데이터</b>센터 설립(정책과제) 등이, &apos;기반시설(SOC) 르네상스로 초광역... &apos;농수축산업의 고부가가치 생명산업으로 육성&apos; 분야는 △첨단 농산업 융복합지구 조성(공약) △국립 남도음식진흥원 설립(공약) △국립 농산업 <b>빅데이터</b>센터 설립(정책과제) 등이, &apos;기반시설(SOC) 르네상스로 초광역... &apos;농수축산업의 고부가가치 생명산업으로 육성&apos; 분야는 △첨단 농산업 융복합지구 조성(공약) △국립 남도음식진흥원 설립(공약) △국립 농산업 <b>빅데이터</b>센터 설립(정책과제) 등이, &apos;기반시설(SOC) 르네상스로 초광역... &apos;농수축산업의 고부가가치 생명산업으로 육성&apos; 분야는 △첨단 농산업 융복합지구 조성(공약) △국립 남도음식진흥원 설립(공약) △국립 농산업 <b>빅데이터</b>센터 설립(정책과제) 등이, &apos;기반시설(SOC) 르네상스로 초광역... &apos;농수축산업의 고부가가치 생명산업으로 육성&apos; 분야는 △첨단 농산업 융복합지구 조성(공약) △국립 남도음식진흥원 설립(공약) △국립 농산업 <b>빅데이터</b>센터 설립(정책과제) 등이, &apos;기반시설(SOC) 르네상스로 초광역... &apos;농수축산업의 고부가가치 생명산업으로 육성&apos; 분야는 △첨단 농산업 융복합지구 조성(공약) △국립 남도음식진흥원 설립(공약) △국립 농산업 <b>빅데이터</b>센터 설립(정책과제) 등이, &apos;기반시설(SOC) 르네상스로 초광역... &apos;농수축산업의 고부가가치 생명산업으로 육성&apos; 분야는 △첨단 농산업 융복합지구 조성(공약) △국립 남도음식진흥원 설립(공약) △국립 농산업 <b>빅데이터</b>센터 설립(정책과제) 등이, &apos;기반시설(SOC) 르네상스로 초광역... &apos;농수축산업의 고부가가치 생명산업으로 육성&apos; 분야는 △첨단 농산업 융복합지구 조성(공약) △국립 남도음식진흥원 설립(공약) △국립 농산업 <b>빅데이터</b>센터 설립(정책과제) 등이, &apos;기반시설(SOC) 르네상스로 초광역... &apos;농수축산업의 고부가가치 생명산업으로 육성&apos; 분야는 △첨단 농산업 융복합지구 조성(공약) △국립 남도음식진흥원 설립(공약) △국립 농산업 <b>빅데이터</b>센터 설립(정책과제) 등이, &apos;기반시설(SOC) 르네상스로 초광역... &apos;농수축산업의 고부가가치 생명산업으로 육성&apos; 분야는 △첨단 농산업 융복합지구 조성(공약) △국립 남도음식진흥원 설립(공약) △국립 농산업 <b>빅데이터</b>센터 설립(정책과제) 등이, &apos;기반시설(SOC) 르네상스로 초광역... &apos;농수축산업의 고부가가치 생명산업으로 육성&apos; 분야는 △첨단 농산업 융복합지구 조성(공약) △국립 남도음식진흥원 설립(공약) △국립 농산업 <b>빅데이터</b>센터 설립(정책과제) 등이, &apos;기반시설(SOC) 르네상스로 초광역... &apos;농수축산업의 고부가가치 생명산업으로 육성&apos; 분야는 △첨단 농산업 융복합지구 조성(공약) △국립 남도음식진흥원 설립(공약) △국립 농산업 <b>빅데이터</b>센터 설립(정책과제) 등이, &apos;기반시설(SOC) 르네상스로 초광역... &apos;농수축산업의 고부가가치 생명산업으로 육성&apos; 분야는 △첨단 농산업 융복합지구 조성(공약) △국립 남도음식진흥원 설립(공약) △국립 농산업 <b>빅데이터</b>센터 설립(정책과제) 등이, &apos;기반시설(SOC) 르네상스로 초광역... &apos;농수축산업의 고부가가치 생명산업으로 육성&apos; 분야는 △첨단 농산업 융복합지구 조성(공약) △국립 남도음식진흥원 설립(공약) △국립 농산업 <b>빅데이터</b>센터 설립(정책과제) 등이, &apos;기반시설(SOC) 르네상스로 초광역... &apos;농수축산업의 고부가가치 생명산업으로 육성&apos; 분야는 △첨단 농산업 융복합지구 조성(공약) △국립 남도음식진흥원 설립(공약) △국립 농산업 <b>빅데이터</b>센터 설립(정책과제) 등이, &apos;기반시설(SOC) 르네상스로 초광역... &apos;농수축산업의 고부가가치 생명산업으로 육성&apos; 분야는 △첨단 농산업 융복합지구 조성(공약) △국립 남도음식진흥원 설립(공약) △국립 농산업 <b>빅데이터</b>센터 설립(정책과제) 등이, &apos;기반시설(SOC) 르네상스로 초광역... &apos;농수축산업의 고부가가치 생명산업으로 육성&apos; 분야는 △첨단 농산업 융복합지구 조성(공약) △국립 남도음식진흥원 설립(공약) △국립 농산업 <b>빅데이터</b>센터 설립(정책과제) 등이, &apos;기반시설(SOC) 르네상스로 초광역... &apos;농수축산업의 고부가가치 생명산업으로 육성&apos; 분야는 △첨단 농산업 융복합지구 조성(공약) △국립 남도음식진흥원 설립(공약) △국립 농산업 <b>빅데이터</b>센터 설립(정책과제) 등이, &apos;기반시설(SOC) 르네상스로 초광역... &apos;농수축산업의 고부가가치 생명산업으로 육성&apos; 분야는 △첨단 농산업 융복합지구 조성(공약) △국립 남도음식진흥원 설립(공약) △국립 농산업 <b>빅데이터</b>센터 설립(정책과제) 등이, &apos;기반시설(SOC) 르네상스로 초광역... &apos;농수축산업의 고부가가치 생명산업으로 육성&apos; 분야는 △첨단 농산업 융복합지구 조성(공약) △국립 남도음식진흥원 설립(공약) △국립 농산업 <b>빅데이터</b>센터 설립(정책과제) 등이, &apos;기반시설(SOC) 르네상스로 초광역... &apos;농수축산업의 고부가가치 생명산업으로 육성&apos; 분야는 △첨단 농산업 융복합지구 조성(공약) △국립 남도음식진흥원 설립(공약) △국립 농산업 <b>빅데이터</b>센터 설립(정책과제) 등이, &apos;기반시설(SOC) 르네상스로 초광역... &apos;농수축산업의 고부가가치 생명산업으로 육성&apos; 분야는 △첨단 농산업 융복합지구 조성(공약) △국립 남도음식진흥원 설립(공약) △국립 농산업 <b>빅데이터</b>센터 설립(정책과제) 등이, &apos;기반시설(SOC) 르네상스로 초광역... &apos;농수축산업의 고부가가치 생명산업으로 육성&apos; 분야는 △첨단 농산업 융복합지구 조성(공약) △국립 남도음식진흥원 설립(공약) △국립 농산업 <b>빅데이터</b>센터 설립(정책과제) 등이, &apos;기반시설(SOC) 르네상스로 초광역... &apos;농수축산업의 고부가가치 생명산업으로 육성&apos; 분야는 △첨단 농산업 융복합지구 조성(공약) △국립 남도음식진흥원 설립(공약) △국립 농산업 <b>빅데이터</b>센터 설립(정책과제) 등이, &apos;기반시설(SOC) 르네상스로 초광역... &apos;농수축산업의 고부가가치 생명산업으로 육성&apos; 분야는 △첨단 농산업 융복합지구 조성(공약) △국립 남도음식진흥원 설립(공약) △국립 농산업 <b>빅데이터</b>센터 설립(정책과제) 등이, &apos;기반시설(SOC) 르네상스로 초광역... &apos;농수축산업의 고부가가치 생명산업으로 육성&apos; 분야는 △첨단 농산업 융복합지구 조성(공약) △국립 남도음식진흥원 설립(공약) △국립 농산업 <b>빅데이터</b>센터 설립(정책과제) 등이, &apos;기반시설(SOC) 르네상스로 초광역... &apos;농수축산업의 고부가가치 생명산업으로 육성&apos; 분야는 △첨단 농산업 융복합지구 조성(공약) △국립 남도음식진흥원 설립(공약) △국립 농산업 <b>빅데이터</b>센터 설립(정책과제) 등이, &apos;기반시설(SOC) 르네상스로 초광역... &apos;농수축산업의 고부가가치 생명산업으로 육성&apos; 분야는 △첨단 농산업 융복합지구 조성(공약) △국립 남도음식진흥원 설립(공약) △국립 농산업 <b>빅데이터</b>센터 설립(정책과제) 등이, &apos;기반시설(SOC) 르네상스로 초광역... &apos;농수축산업의 고부가가치 생명산업으로 육성&apos; 분야는 △첨단 농산업 융복합지구 조성(공약) △국립 남도음식진흥원 설립(공약) △국립 농산업 <b>빅데이터</b>센터 설립(정책과제) 등이, &apos;기반시설(SOC) 르네상스로 초광역... &apos;농수축산업의 고부가가치 생명산업으로 육성&apos; 분야는 △첨단 농산업 융복합지구 조성(공약) △국립 남도음식진흥원 설립(공약) △국립 농산업 <b>빅데이터</b>센터 설립(정책과제) 등이, &apos;기반시설(SOC) 르네상스로 초광역... &apos;농수축산업의 고부가가치 생명산업으로 육성&apos; 분야는 △첨단 농산업 융복합지구 조성(공약) △국립 남도음식진흥원 설립(공약) △국립 농산업 <b>빅데이터</b>센터 설립(정책과제) 등이, &apos;기반시설(SOC) 르네상스로 초광역... &apos;농수축산업의 고부가가치 생명산업으로 육성&apos; 분야는 △첨단 농산업 융복합지구 조성(공약) △국립 남도음식진흥원 설립(공약) △국립 농산업 <b>빅데이터</b>센터 설립(정책과제) 등이, &apos;기반시설(SOC) 르네상스로 초광역... &apos;농수축산업의 고부가가치 생명산업으로 육성&apos; 분야는 △첨단 농산업 융복합지구 조성(공약) △국립 남도음식진흥원 설립(공약) △국립 농산업 <b>빅데이터</b>센터 설립(정책과제) 등이, &apos;기반시설(SOC) 르네상스로 초광역... &apos;농수축산업의 고부가가치 생명산업으로 육성&apos; 분야는 △첨단 농산업 융복합지구 조성(공약) △국립 남도음식진흥원 설립(공약) △국립 농산업 <b>빅데이터</b>센터 설립(정책과제) 등이, &apos;기반시설(SOC) 르네상스로 초광역... &apos;농수축산업의 고부가가치 생명산업으로 육성&apos; 분야는 △첨단 농산업 융복합지구 조성(공약) △국립 남도음식진흥원 설립(공약) △국립 농산업 <b>빅데이터</b>센터 설립(정책과제) 등이, &apos;기반시설(SOC) 르네상스로 초광역... &apos;농수축산업의 고부가가치 생명산업으로 육성&apos; 분야는 △첨단 농산업 융복합지구 조성(공약) △국립 남도음식진흥원 설립(공약) △국립 농산업 <b>빅데이터</b>센터 설립(정책과제) 등이, &apos;기반시설(SOC) 르네상스로 초광역... &apos;농수축산업의 고부가가치 생명산업으로 육성&apos; 분야는 △첨단 농산업 융복합지구 조성(공약) △국립 남도음식진흥원 설립(공약) △국립 농산업 <b>빅데이터</b>센터 설립(정책과제) 등이, &apos;기반시설(SOC) 르네상스로 초광역... &apos;농수축산업의 고부가가치 생명산업으로 육성&apos; 분야는 △첨단 농산업 융복합지구 조성(공약) △국립 남도음식진흥원 설립(공약) △국립 농산업 <b>빅데이터</b>센터 설립(정책과제) 등이, &apos;기반시설(SOC) 르네상스로 초광역... &apos;농수축산업의 고부가가치 생명산업으로 육성&apos; 분야는 △첨단 농산업 융복합지구 조성(공약) △국립 남도음식진흥원 설립(공약) △국립 농산업 <b>빅데이터</b>센터 설립(정책과제) 등이, &apos;기반시설(SOC) 르네상스로 초광역... &apos;농수축산업의 고부가가치 생명산업으로 육성&apos; 분야는 △첨단 농산업 융복합지구 조성(공약) △국립 남도음식진흥원 설립(공약) △국립 농산업 <b>빅데이터</b>센터 설립(정책과제) 등이, &apos;기반시설(SOC) 르네상스로 초광역... &apos;농수축산업의 고부가가치 생명산업으로 육성&apos; 분야는 △첨단 농산업 융복합지구 조성(공약) △국립 남도음식진흥원 설립(공약) △국립 농산업 <b>빅데이터</b>센터 설립(정책과제) 등이, &apos;기반시설(SOC) 르네상스로 초광역... &apos;농수축산업의 고부가가치 생명산업으로 육성&apos; 분야는 △첨단 농산업 융복합지구 조성(공약) △국립 남도음식진흥원 설립(공약) △국립 농산업 <b>빅데이터</b>센터 설립(정책과제) 등이, &apos;기반시설(SOC) 르네상스로 초광역... &apos;농수축산업의 고부가가치 생명산업으로 육성&apos; 분야는 △첨단 농산업 융복합지구 조성(공약) △국립 남도음식진흥원 설립(공약) △국립 농산업 <b>빅데이터</b>센터 설립(정책과제) 등이, &apos;기반시설(SOC) 르네상스로 초광역... &apos;농수축산업의 고부가가치 생명산업으로 육성&apos; 분야는 △첨단 농산업 융복합지구 조성(공약) △국립 남도음식진흥원 설립(공약) △국립 농산업 <b>빅데이터</b>센터 설립(정책과제) 등이, &apos;기반시설(SOC) 르네상스로 초광역... &apos;농수축산업의 고부가가치 생명산업으로 육성&apos; 분야는 △첨단 농산업 융복합지구 조성(공약) △국립 남도음식진흥원 설립(공약) △국립 농산업 <b>빅데이터</b>센터 설립(정책과제) 등이, &apos;기반시설(SOC) 르네상스로 초광역... &apos;농수축산업의 고부가가치 생명산업으로 육성&apos; 분야는 △첨단 농산업 융복합지구 조성(공약) △국립 남도음식진흥원 설립(공약) △국립 농산업 <b>빅데이터</b>센터 설립(정책과제) 등이, &apos;기반시설(SOC) 르네상스로 초광역... &apos;농수축산업의 고부가가치 생명산업으로 육성&apos; 분야는 △첨단 농산업 융복합지구 조성(공약) △국립 남도음식진흥원 설립(공약) △국립 농산업 <b>빅데이터</b>센터 설립(정책과제) 등이, &apos;기반시설(SOC) 르네상스로 초광역... &apos;농수축산업의 고부가가치 생명산업으로 육성&apos; 분야는 △첨단 농산업 융복합지구 조성(공약) △국립 남도음식진흥원 설립(공약) △국립 농산업 <b>빅데이터</b>센터 설립(정책과제) 등이, &apos;기반시설(SOC) 르네상스로 초광역... &apos;농수축산업의 고부가가치 생명산업으로 육성&apos; 분야는 △첨단 농산업 융복합지구 조성(공약) △국립 남도음식진흥원 설립(공약) △국립 농산업 <b>빅데이터</b>센터 설립(정책과제) 등이, &apos;기반시설(SOC) 르네상스로 초광역... &apos;농수축산업의 고부가가치 생명산업으로 육성&apos; 분야는 △첨단 농산업 융복합지구 조성(공약) △국립 남도음식진흥원 설립(공약) △국립 농산업 <b>빅데이터</b>센터 설립(정책과제) 등이, &apos;기반시설(SOC) 르네상스로 초광역... &apos;농수축산업의 고부가가치 생명산업으로 육성&apos; 분야는 △첨단 농산업 융복합지구 조성(공약) △국립 남도음식진흥원 설립(공약) △국립 농산업 <b>빅데이터</b>센터 설립(정책과제) 등이, &apos;기반시설(SOC) 르네상스로 초광역... &apos;농수축산업의 고부가가치 생명산업으로 육성&apos; 분야는 △첨단 농산업 융복합지구 조성(공약) △국립 남도음식진흥원 설립(공약) △국립 농산업 <b>빅데이터</b>센터 설립(정책과제) 등이, &apos;기반시설(SOC) 르네상스로 초광역... &apos;농수축산업의 고부가가치 생명산업으로 육성&apos; 분야는 △첨단 농산업 융복합지구 조성(공약) △국립 남도음식진흥원 설립(공약) △국립 농산업 <b>빅데이터</b>센터 설립(정책과제) 등이, &apos;기반시설(SOC) 르네상스로 초광역... &apos;농수축산업의 고부가가치 생명산업으로 육성&apos; 분야는 △첨단 농산업 융복합지구 조성(공약) △국립 남도음식진흥원 설립(공약) △국립 농산업 <b>빅데이터</b>센터 설립(정책과제) 등이, &apos;기반시설(SOC) 르네상스로 초광역... &apos;농수축산업의 고부가가치 생명산업으로 육성&apos; 분야는 △첨단 농산업 융복합지구 조성(공약) △국립 남도음식진흥원 설립(공약) △국립 농산업 <b>빅데이터</b>센터 설립(정책과제) 등이, &apos;기반시설(SOC) 르네상스로 초광역... &apos;농수축산업의 고부가가치 생명산업으로 육성&apos; 분야는 △첨단 농산업 융복합지구 조성(공약) △국립 남도음식진흥원 설립(공약) △국립 농산업 <b>빅데이터</b>센터 설립(정책과제) 등이, &apos;기반시설(SOC) 르네상스로 초광역... &apos;농수축산업의 고부가가치 생명산업으로 육성&apos; 분야는 △첨단 농산업 융복합지구 조성(공약) △국립 남도음식진흥원 설립(공약) △국립 농산업 <b>빅데이터</b>센터 설립(정책과제) 등이, &apos;기반시설(SOC) 르네상스로 초광역... &apos;농수축산업의 고부가가치 생명산업으로 육성&apos; 분야는 △첨단 농산업 융복합지구 조성(공약) △국립 남도음식진흥원 설립(공약) △국립 농산업 <b>빅데이터</b>센터 설립(정책과제) 등이, &apos;기반시설(SOC) 르네상스로 초광역... &apos;농수축산업의 고부가가치 생명산업으로 육성&apos; 분야는 △첨단 농산업 융복합지구 조성(공약) △국립 남도음식진흥원 설립(공약) △국립 농산업 <b>빅데이터</b>센터 설립(정책과제) 등이, &apos;기반시설(SOC) 르네상스로 초광역... &apos;농수축산업의 고부가가치 생명산업으로 육성&apos; 분야는 △첨단 농산업 융복합지구 조성(공약) △국립 남도음식진흥원 설립(공약) △국립 농산업 <b>빅데이터</b>센터 설립(정책과제) 등이, &apos;기반시설(SOC) 르네상스로 초광역... &apos;농수축산업의 고부가가치 생명산업으로 육성&apos; 분야는 △첨단 농산업 융복합지구 조성(공약) △국립 남도음식진흥원 설립(공약) △국립 농산업 <b>빅데이터</b>센터 설립(정책과제) 등이, &apos;기반시설(SOC) 르네상스로 초광역... &apos;농수축산업의 고부가가치 생명산업으로 육성&apos; 분야는 △첨단 농산업 융복합지구 조성(공약) △국립 남도음식진흥원 설립(공약) △국립 농산업 <b>빅데이터</b>센터 설립(정책과제) 등이, &apos;기반시설(SOC) 르네상스로 초광역... &apos;농수축산업의 고부가가치 생명산업으로 육성&apos; 분야는 △첨단 농산업 융복합지구 조성(공약) △국립 남도음식진흥원 설립(공약) △국립 농산업 <b>빅데이터</b>센터 설립(정책과제) 등이, &apos;기반시설(SOC) 르네상스로 초광역... &apos;농수축산업의 고부가가치 생명산업으로 육성&apos; 분야는 △첨단 농산업 융복합지구 조성(공약) △국립 남도음식진흥원 설립(공약) △국립 농산업 <b>빅데이터</b>센터 설립(정책과제) 등이, &apos;기반시설(SOC) 르네상스로 초광역... &apos;농수축산업의 고부가가치 생명산업으로 육성&apos; 분야는 △첨단 농산업 융복합지구 조성(공약) △국립 남도음식진흥원 설립(공약) △국립 농산업 <b>빅데이터</b>센터 설립(정책과제) 등이, &apos;기반시설(SOC) 르네상스로 초광역... &apos;농수축산업의 고부가가치 생명산업으로 육성&apos; 분야는 △첨단 농산업 융복합지구 조성(공약) △국립 남도음식진흥원 설립(공약) △국립 농산업 <b>빅데이터</b>센터 설립(정책과제) 등이, &apos;기반시설(SOC) 르네상스로 초광역... &apos;농수축산업의 고부가가치 생명산업으로 육성&apos; 분야는 △첨단 농산업 융복합지구 조성(공약) △국립 남도음식진흥원 설립(공약) △국립 농산업 <b>빅데이터</b>센터 설립(정책과제) 등이, &apos;기반시설(SOC) 르네상스로 초광역... &apos;농수축산업의 고부가가치 생명산업으로 육성&apos; 분야는 △첨단 농산업 융복합지구 조성(공약) △국립 남도음식진흥원 설립(공약) △국립 농산업 <b>빅데이터</b>센터 설립(정책과제) 등이, &apos;기반시설(SOC) 르네상스로 초광역... &apos;농수축산업의 고부가가치 생명산업으로 육성&apos; 분야는 △첨단 농산업 융복합지구 조성(공약) △국립 남도음식진흥원 설립(공약) △국립 농산업 <b>빅데이터</b>센터 설립(정책과제) 등이, &apos;기반시설(SOC) 르네상스로 초광역... &apos;농수축산업의 고부가가치 생명산업으로 육성&apos; 분야는 △첨단 농산업 융복합지구 조성(공약) △국립 남도음식진흥원 설립(공약) △국립 농산업 <b>빅데이터</b>센터 설립(정책과제) 등이, &apos;기반시설(SOC) 르네상스로 초광역... &apos;농수축산업의 고부가가치 생명산업으로 육성&apos; 분야는 △첨단 농산업 융복합지구 조성(공약) △국립 남도음식진흥원 설립(공약) △국립 농산업 <b>빅데이터</b>센터 설립(정책과제) 등이, &apos;기반시설(SOC) 르네상스로 초광역... &apos;농수축산업의 고부가가치 생명산업으로 육성&apos; 분야는 △첨단 농산업 융복합지구 조성(공약) △국립 남도음식진흥원 설립(공약) △국립 농산업 <b>빅데이터</b>센터 설립(정책과제) 등이, &apos;기반시설(SOC) 르네상스로 초광역... &apos;농수축산업의 고부가가치 생명산업으로 육성&apos; 분야는 △첨단 농산업 융복합지구 조성(공약) △국립 남도음식진흥원 설립(공약) △국립 농산업 <b>빅데이터</b>센터 설립(정책과제) 등이, &apos;기반시설(SOC) 르네상스로 초광역... &apos;농수축산업의 고부가가치 생명산업으로 육성&apos; 분야는 △첨단 농산업 융복합지구 조성(공약) △국립 남도음식진흥원 설립(공약) △국립 농산업 <b>빅데이터</b>센터 설립(정책과제) 등이, &apos;기반시설(SOC) 르네상스로 초광역... &apos;농수축산업의 고부가가치 생명산업으로 육성&apos; 분야는 △첨단 농산업 융복합지구 조성(공약) △국립 남도음식진흥원 설립(공약) △국립 농산업 <b>빅데이터</b>센터 설립(정책과제) 등이, &apos;기반시설(SOC) 르네상스로 초광역... &apos;농수축산업의 고부가가치 생명산업으로 육성&apos; 분야는 △첨단 농산업 융복합지구 조성(공약) △국립 남도음식진흥원 설립(공약) △국립 농산업 <b>빅데이터</b>센터 설립(정책과제) 등이, &apos;기반시설(SOC) 르네상스로 초광역... &apos;농수축산업의 고부가가치 생명산업으로 육성&apos; 분야는 △첨단 농산업 융복합지구 조성(공약) △국립 남도음식진흥원 설립(공약) △국립 농산업 <b>빅데이터</b>센터 설립(정책과제) 등이, &apos;기반시설(SOC) 르네상스로 초광역... &apos;농수축산업의 고부가가치 생명산업으로 육성&apos; 분야는 △첨단 농산업 융복합지구 조성(공약) △국립 남도음식진흥원 설립(공약) △국립 농산업 <b>빅데이터</b>센터 설립(정책과제) 등이, &apos;기반시설(SOC) 르네상스로 초광역... &apos;농수축산업의 고부가가치 생명산업으로 육성&apos; 분야는 △첨단 농산업 융복합지구 조성(공약) △국립 남도음식진흥원 설립(공약) △국립 농산업 <b>빅데이터</b>센터 설립(정책과제) 등이, &apos;기반시설(SOC) 르네상스로 초광역... &apos;농수축산업의 고부가가치 생명산업으로 육성&apos; 분야는 △첨단 농산업 융복합지구 조성(공약) △국립 남도음식진흥원 설립(공약) △국립 농산업 <b>빅데이터</b>센터 설립(정책과제) 등이, &apos;기반시설(SOC) 르네상스로 초광역... &apos;농수축산업의 고부가가치 생명산업으로 육성&apos; 분야는 △첨단 농산업 융복합지구 조성(공약) △국립 남도음식진흥원 설립(공약) △국립 농산업 <b>빅데이터</b>센터 설립(정책과제) 등이, &apos;기반시설(SOC) 르네상스로 초광역... &apos;농수축산업의 고부가가치 생명산업으로 육성&apos; 분야는 △첨단 농산업 융복합지구 조성(공약) △국립 남도음식진흥원 설립(공약) △국립 농산업 <b>빅데이터</b>센터 설립(정책과제) 등이, &apos;기반시설(SOC) 르네상스로 초광역... &apos;농수축산업의 고부가가치 생명산업으로 육성&apos; 분야는 △첨단 농산업 융복합지구 조성(공약) △국립 남도음식진흥원 설립(공약) △국립 농산업 <b>빅데이터</b>센터 설립(정책과제) 등이, &apos;기반시설(SOC) 르네상스로 초광역... &apos;농수축산업의 고부가가치 생명산업으로 육성&apos; 분야는 △첨단 농산업 융복합지구 조성(공약) △국립 남도음식진흥원 설립(공약) △국립 농산업 <b>빅데이터</b>센터 설립(정책과제) 등이, &apos;기반시설(SOC) 르네상스로 초광역... &apos;농수축산업의 고부가가치 생명산업으로 육성&apos; 분야는 △첨단 농산업 융복합지구 조성(공약) △국립 남도음식진흥원 설립(공약) △국립 농산업 <b>빅데이터</b>센터 설립(정책과제) 등이, &apos;기반시설(SOC) 르네상스로 초광역... &apos;농수축산업의 고부가가치 생명산업으로 육성&apos; 분야는 △첨단 농산업 융복합지구 조성(공약) △국립 남도음식진흥원 설립(공약) △국립 농산업 <b>빅데이터</b>센터 설립(정책과제) 등이, &apos;기반시설(SOC) 르네상스로 초광역... &apos;농수축산업의 고부가가치 생명산업으로 육성&apos; 분야는 △첨단 농산업 융복합지구 조성(공약) △국립 남도음식진흥원 설립(공약) △국립 농산업 <b>빅데이터</b>센터 설립(정책과제) 등이, &apos;기반시설(SOC) 르네상스로 초광역... &apos;농수축산업의 고부가가치 생명산업으로 육성&apos; 분야는 △첨단 농산업 융복합지구 조성(공약) △국립 남도음식진흥원 설립(공약) △국립 농산업 <b>빅데이터</b>센터 설립(정책과제) 등이, &apos;기반시설(SOC) 르네상스로 초광역... &apos;농수축산업의 고부가가치 생명산업으로 육성&apos; 분야는 △첨단 농산업 융복합지구 조성(공약) △국립 남도음식진흥원 설립(공약) △국립 농산업 <b>빅데이터</b>센터 설립(정책과제) 등이, &apos;기반시설(SOC) 르네상스로 초광역... &apos;농수축산업의 고부가가치 생명산업으로 육성&apos; 분야는 △첨단 농산업 융복합지구 조성(공약) △국립 남도음식진흥원 설립(공약) △국립 농산업 <b>빅데이터</b>센터 설립(정책과제) 등이, &apos;기반시설(SOC) 르네상스로 초광역... &apos;농수축산업의 고부가가치 생명산업으로 육성&apos; 분야는 △첨단 농산업 융복합지구 조성(공약) △국립 남도음식진흥원 설립(공약) △국립 농산업 <b>빅데이터</b>센터 설립(정책과제) 등이, &apos;기반시설(SOC) 르네상스로 초광역... &apos;농수축산업의 고부가가치 생명산업으로 육성&apos; 분야는 △첨단 농산업 융복합지구 조성(공약) △국립 남도음식진흥원 설립(공약) △국립 농산업 <b>빅데이터</b>센터 설립(정책과제) 등이, &apos;기반시설(SOC) 르네상스로 초광역... &apos;농수축산업의 고부가가치 생명산업으로 육성&apos; 분야는 △첨단 농산업 융복합지구 조성(공약) △국립 남도음식진흥원 설립(공약) △국립 농산업 <b>빅데이터</b>센터 설립(정책과제) 등이, &apos;기반시설(SOC) 르네상스로 초광역... &apos;농수축산업의 고부가가치 생명산업으로 육성&apos; 분야는 △첨단 농산업 융복합지구 조성(공약) △국립 남도음식진흥원 설립(공약) △국립 농산업 <b>빅데이터</b>센터 설립(정책과제) 등이, &apos;기반시설(SOC) 르네상스로 초광역... &apos;농수축산업의 고부가가치 생명산업으로 육성&apos; 분야는 △첨단 농산업 융복합지구 조성(공약) △국립 남도음식진흥원 설립(공약) △국립 농산업 <b>빅데이터</b>센터 설립(정책과제) 등이, &apos;기반시설(SOC) 르네상스로 초광역... &apos;농수축산업의 고부가가치 생명산업으로 육성&apos; 분야는 △첨단 농산업 융복합지구 조성(공약) △국립 남도음식진흥원 설립(공약) △국립 농산업 <b>빅데이터</b>센터 설립(정책과제) 등이, &apos;기반시설(SOC) 르네상스로 초광역... &apos;농수축산업의 고부가가치 생명산업으로 육성&apos; 분야는 △첨단 농산업 융복합지구 조성(공약) △국립 남도음식진흥원 설립(공약) △국립 농산업 <b>빅데이터</b>센터 설립(정책과제) 등이, &apos;기반시설(SOC) 르네상스로 초광역... &apos;농수축산업의 고부가가치 생명산업으로 육성&apos; 분야는 △첨단 농산업 융복합지구 조성(공약) △국립 남도음식진흥원 설립(공약) △국립 농산업 <b>빅데이터</b>센터 설립(정책과제) 등이, &apos;기반시설(SOC) 르네상스로 초광역... &apos;농수축산업의 고부가가치 생명산업으로 육성&apos; 분야는 △첨단 농산업 융복합지구 조성(공약) △국립 남도음식진흥원 설립(공약) △국립 농산업 <b>빅데이터</b>센터 설립(정책과제) 등이, &apos;기반시설(SOC) 르네상스로 초광역... &apos;농수축산업의 고부가가치 생명산업으로 육성&apos; 분야는 △첨단 농산업 융복합지구 조성(공약) △국립 남도음식진흥원 설립(공약) △국립 농산업 <b>빅데이터</b>센터 설립(정책과제) 등이, &apos;기반시설(SOC) 르네상스로 초광역... &apos;농수축산업의 고부가가치 생명산업으로 육성&apos; 분야는 △첨단 농산업 융복합지구 조성(공약) △국립 남도음식진흥원 설립(공약) △국립 농산업 <b>빅데이터</b>센터 설립(정책과제) 등이, &apos;기반시설(SOC) 르네상스로 초광역... &apos;농수축산업의 고부가가치 생명산업으로 육성&apos; 분야는 △첨단 농산업 융복합지구 조성(공약) △국립 남도음식진흥원 설립(공약) △국립 농산업 <b>빅데이터</b>센터 설립(정책과제) 등이, &apos;기반시설(SOC) 르네상스로 초광역... &apos;농수축산업의 고부가가치 생명산업으로 육성&apos; 분야는 △첨단 농산업 융복합지구 조성(공약) △국립 남도음식진흥원 설립(공약) △국립 농산업 <b>빅데이터</b>센터 설립(정책과제) 등이, &apos;기반시설(SOC) 르네상스로 초광역... &apos;농수축산업의 고부가가치 생명산업으로 육성&apos; 분야는 △첨단 농산업 융복합지구 조성(공약) △국립 남도음식진흥원 설립(공약) △국립 농산업 <b>빅데이터</b>센터 설립(정책과제) 등이, &apos;기반시설(SOC) 르네상스로 초광역... &apos;농수축산업의 고부가가치 생명산업으로 육성&apos; 분야는 △첨단 농산업 융복합지구 조성(공약) △국립 남도음식진흥원 설립(공약) △국립 농산업 <b>빅데이터</b>센터 설립(정책과제) 등이, &apos;기반시설(SOC) 르네상스로 초광역... &apos;농수축산업의 고부가가치 생명산업으로 육성&apos; 분야는 △첨단 농산업 융복합지구 조성(공약) △국립 남도음식진흥원 설립(공약) △국립 농산업 <b>빅데이터</b>센터 설립(정책과제) 등이, &apos;기반시설(SOC) 르네상스로 초광역... &apos;농수축산업의 고부가가치 생명산업으로 육성&apos; 분야는 △첨단 농산업 융복합지구 조성(공약) △국립 남도음식진흥원 설립(공약) △국립 농산업 <b>빅데이터</b>센터 설립(정책과제) 등이, &apos;기반시설(SOC) 르네상스로 초광역... &apos;농수축산업의 고부가가치 생명산업으로 육성&apos; 분야는 △첨단 농산업 융복합지구 조성(공약) △국립 남도음식진흥원 설립(공약) △국립 농산업 <b>빅데이터</b>센터 설립(정책과제) 등이, &apos;기반시설(SOC) 르네상스로 초광역... "
     ]
    }
   ],
   "source": [
    "for l in desc:\n",
    "    print(desc, end=\"\")"
   ]
  },
  {
   "cell_type": "code",
   "execution_count": null,
   "id": "096c61a0",
   "metadata": {},
   "outputs": [],
   "source": []
  },
  {
   "cell_type": "code",
   "execution_count": null,
   "id": "f691bce6",
   "metadata": {},
   "outputs": [],
   "source": []
  },
  {
   "cell_type": "code",
   "execution_count": null,
   "id": "b40751b9",
   "metadata": {},
   "outputs": [],
   "source": []
  },
  {
   "cell_type": "code",
   "execution_count": null,
   "id": "42af6371",
   "metadata": {},
   "outputs": [],
   "source": []
  },
  {
   "cell_type": "code",
   "execution_count": 13,
   "id": "b4ccd1c5",
   "metadata": {},
   "outputs": [
    {
     "name": "stdout",
     "output_type": "stream",
     "text": [
      "<class 'pandas.core.frame.DataFrame'>\n",
      "RangeIndex: 1 entries, 0 to 0\n",
      "Data columns (total 8 columns):\n",
      " #   Column      Non-Null Count  Dtype \n",
      "---  ------      --------------  ----- \n",
      " 0   title       1 non-null      object\n",
      " 1   link        1 non-null      object\n",
      " 2   image       1 non-null      object\n",
      " 3   subtitle    1 non-null      object\n",
      " 4   pubDate     1 non-null      object\n",
      " 5   director    1 non-null      object\n",
      " 6   actor       1 non-null      object\n",
      " 7   userRating  1 non-null      object\n",
      "dtypes: object(8)\n",
      "memory usage: 192.0+ bytes\n"
     ]
    },
    {
     "data": {
      "text/plain": [
       "(None,\n",
       "                title                 link                image       subtitle  \\\n",
       " 0  <b>빅 데이터</b> L1ZY  https://movie.na...  https://ssl.psta...  Big Data L1ZY   \n",
       " \n",
       "   pubDate        director            actor userRating  \n",
       " 0    2018  존 칼루치|브래든 라간크|  줄리엣 브렛|선드라 제임스|       0.00  )"
      ]
     },
     "execution_count": 13,
     "metadata": {},
     "output_type": "execute_result"
    }
   ],
   "source": [
    "dict_df['movie'].info(), dict_df['movie']"
   ]
  },
  {
   "cell_type": "code",
   "execution_count": 14,
   "id": "88d2673a",
   "metadata": {},
   "outputs": [
    {
     "data": {
      "text/plain": [
       "['news', 'movie', 'shop', 'kin', 'cafearticle']"
      ]
     },
     "execution_count": 14,
     "metadata": {},
     "output_type": "execute_result"
    }
   ],
   "source": [
    "cats"
   ]
  },
  {
   "cell_type": "code",
   "execution_count": 15,
   "id": "01478b69",
   "metadata": {},
   "outputs": [
    {
     "name": "stdout",
     "output_type": "stream",
     "text": [
      "<class 'pandas.core.frame.DataFrame'>\n",
      "RangeIndex: 10 entries, 0 to 9\n",
      "Data columns (total 14 columns):\n",
      " #   Column       Non-Null Count  Dtype \n",
      "---  ------       --------------  ----- \n",
      " 0   title        10 non-null     object\n",
      " 1   link         10 non-null     object\n",
      " 2   image        10 non-null     object\n",
      " 3   lprice       10 non-null     object\n",
      " 4   hprice       10 non-null     object\n",
      " 5   mallName     10 non-null     object\n",
      " 6   productId    10 non-null     object\n",
      " 7   productType  10 non-null     object\n",
      " 8   brand        10 non-null     object\n",
      " 9   maker        10 non-null     object\n",
      " 10  category1    10 non-null     object\n",
      " 11  category2    10 non-null     object\n",
      " 12  category3    10 non-null     object\n",
      " 13  category4    10 non-null     object\n",
      "dtypes: object(14)\n",
      "memory usage: 1.2+ KB\n"
     ]
    },
    {
     "data": {
      "text/plain": [
       "(None,\n",
       "                  title                 link                image lprice  \\\n",
       " 0  2022 이기적 <b>빅데이터...  https://search.s...  https://shopping...  27000   \n",
       " 1  2022 수제비 <b>빅데이터...  https://search.s...  https://shopping...  29700   \n",
       " 2  파이썬 한권으로 끝내기 : 데...  https://search.s...  https://shopping...  24300   \n",
       " 3  수능 구문 <b>빅데이터</b...  https://search.s...  https://shopping...  12600   \n",
       " 4  2022 <b>빅데이터</b>...  https://search.s...  https://shopping...  27000   \n",
       " 5  2022 <b>빅데이터</b>...  https://search.s...  https://shopping...  27000   \n",
       " 6  2022 데이터 에듀 <b>빅...  https://search.s...  https://shopping...  28800   \n",
       " 7  AI, <b>빅데이터</b>에...  https://search.s...  https://shopping...  16200   \n",
       " 8  실무로 배우는 <b>빅데이터<...  https://search.s...  https://shopping...  27000   \n",
       " 9  수능 구문 <b>빅데이터</b...  https://search.s...  https://shopping...  12600   \n",
       " \n",
       "   hprice  mallName    productId productType brand   maker category1 category2  \\\n",
       " 0              벤티북  84471061353           2                   출산/육아        교구   \n",
       " 1         아이디어포레스트  33519437332           2           건기원     출산/육아        교구   \n",
       " 2              벤티북  84471047626           2        시대고시기획     출산/육아        교구   \n",
       " 3            에이커머스  84470654215           2          NE능률     출산/육아        교구   \n",
       " 4              책인감  84487536099           2                   출산/육아        교구   \n",
       " 5          판타스틱컴퍼니  84498475116           2        이패스코리아     출산/육아        교구   \n",
       " 6          판타스틱컴퍼니  84498038122           2         데이터에듀     출산/육아        교구   \n",
       " 7            아리엘북스  84497777877           2          세종서적     출산/육아        교구   \n",
       " 8            데일리러닝  84493655036           2   김강원    위키북스     출산/육아        교구   \n",
       " 9              벤티북  84470652307           2          NE능률     출산/육아        교구   \n",
       " \n",
       "   category3 category4  \n",
       " 0      학습교구      기타교구  \n",
       " 1      학습교구      기타교구  \n",
       " 2      학습교구      기타교구  \n",
       " 3      학습교구      기타교구  \n",
       " 4      학습교구      기타교구  \n",
       " 5      학습교구      기타교구  \n",
       " 6      학습교구      기타교구  \n",
       " 7      학습교구      기타교구  \n",
       " 8      학습교구      기타교구  \n",
       " 9      학습교구      기타교구  )"
      ]
     },
     "execution_count": 15,
     "metadata": {},
     "output_type": "execute_result"
    }
   ],
   "source": [
    "dict_df['shop'].info(), dict_df['shop']"
   ]
  },
  {
   "cell_type": "code",
   "execution_count": 16,
   "id": "26e6ccf3",
   "metadata": {},
   "outputs": [
    {
     "name": "stdout",
     "output_type": "stream",
     "text": [
      "<class 'pandas.core.frame.DataFrame'>\n",
      "RangeIndex: 10 entries, 0 to 9\n",
      "Data columns (total 3 columns):\n",
      " #   Column       Non-Null Count  Dtype \n",
      "---  ------       --------------  ----- \n",
      " 0   title        10 non-null     object\n",
      " 1   link         10 non-null     object\n",
      " 2   description  10 non-null     object\n",
      "dtypes: object(3)\n",
      "memory usage: 368.0+ bytes\n"
     ]
    },
    {
     "data": {
      "text/plain": [
       "(None,\n",
       "                  title                 link          description\n",
       " 0  강남에 국비지원 <b>빅데이터...  https://kin.nave...  강남에 국비지원되는 <b>빅데...\n",
       " 1  <b>빅데이터</b>학원 괜찮...  https://kin.nave...  <b>빅데이터</b> 전공자 ...\n",
       " 2       <b>빅데이터</b> 진로  https://kin.nave...  안녕하세요 요즘 <b>빅데이터...\n",
       " 3  특허<b>빅데이터</b>센터 ...  https://kin.nave...  &quot;특허 <b>빅데이터...\n",
       " 4  <b>빅데이터</b>,정보 자...  https://kin.nave...  <b>빅데이터</b>나 정보 ...\n",
       " 5      <b>빅데이터</b> 전문가  https://kin.nave...  ... 최근에 <b>빅데이터<...\n",
       " 6       <b>빅데이터</b> 정책  https://kin.nave...  <b>빅데이터</b>를 사용해...\n",
       " 7  <b>빅데이터</b>전문가자격...  https://kin.nave...  <b>빅데이터</b>전문가자격...\n",
       " 8      <b>빅데이터</b> 전문가  https://kin.nave...  <b>빅데이터</b> 기획자가...\n",
       " 9  gis 가 <b>빅데이터</b...  https://kin.nave...  저는 sas 나 R 같은거 s...)"
      ]
     },
     "execution_count": 16,
     "metadata": {},
     "output_type": "execute_result"
    }
   ],
   "source": [
    "dict_df['kin'].info(), dict_df['kin']"
   ]
  },
  {
   "cell_type": "code",
   "execution_count": 17,
   "id": "13c2b9e5",
   "metadata": {},
   "outputs": [
    {
     "name": "stdout",
     "output_type": "stream",
     "text": [
      "<class 'pandas.core.frame.DataFrame'>\n",
      "RangeIndex: 10 entries, 0 to 9\n",
      "Data columns (total 5 columns):\n",
      " #   Column       Non-Null Count  Dtype \n",
      "---  ------       --------------  ----- \n",
      " 0   title        10 non-null     object\n",
      " 1   link         10 non-null     object\n",
      " 2   description  10 non-null     object\n",
      " 3   cafename     10 non-null     object\n",
      " 4   cafeurl      10 non-null     object\n",
      "dtypes: object(5)\n",
      "memory usage: 528.0+ bytes\n"
     ]
    },
    {
     "data": {
      "text/plain": [
       "(None,\n",
       "                  title                 link          description  \\\n",
       " 0  2022 <b>빅데이터</b>...  http://cafe.nave...  특히 <b>빅데이터</b>와 ...   \n",
       " 1  <b>빅데이터</b>분석기사 ...  http://cafe.nave...  <b>빅데이터</b>분석기사 ...   \n",
       " 2     <b>빅데이터</b> 취업..  http://cafe.nave...  저는 <b>빅데이터</b>공학...   \n",
       " 3  <b>빅데이터</b>분석기사 ...  http://cafe.nave...  이 글은 공준모 운영진의 허가...   \n",
       " 4  <b>빅데이터</b>분석기사인...  http://cafe.nave...  <b>빅데이터</b>는 과거 ...   \n",
       " 5  <b>빅데이터</b> 분석가 ...  http://cafe.nave...  그런데 <b>빅데이터</b> ...   \n",
       " 6  <b>빅데이터</b> 자격증도...  http://cafe.nave...  혹시 <b>빅데이터</b> 자...   \n",
       " 7  <b>빅데이터</b> 분석기사...  http://cafe.nave...  <b>빅데이터</b> 분석기사...   \n",
       " 8  <b>빅데이터</b>관련 및 ...  http://cafe.nave...  이번에 내일배움카드로 한달간 ...   \n",
       " 9  <b>빅데이터</b>강의 R프...  http://cafe.nave...  요즘 <b>빅데이터</b>에 ...   \n",
       " \n",
       "               cafename              cafeurl  \n",
       " 0  취업대학교#대기업,공기업,GS...  https://cafe.nav...  \n",
       " 1  독금사-금융자격증,AFPK,C...  https://cafe.nav...  \n",
       " 2  데이터 전문가 포럼 (빅데이터...  https://cafe.nav...  \n",
       " 3  공준모★공기업채용,공사공단취업...  https://cafe.nav...  \n",
       " 4  전기자격증 뽀개기★전기기사,전...  https://cafe.nav...  \n",
       " 5  남궁성의 코드초보스터디(자바 ...  https://cafe.nav...  \n",
       " 6  레몬테라스 [인테리어,리폼,D...  https://cafe.nav...  \n",
       " 7  공취사│공기업,공공기관,공무원...  https://cafe.nav...  \n",
       " 8  네트워크 전문가 따라잡기 (I...  https://cafe.nav...  \n",
       " 9  취준생★스펙뽀개기★연봉,인적성...  https://cafe.nav...  )"
      ]
     },
     "execution_count": 17,
     "metadata": {},
     "output_type": "execute_result"
    }
   ],
   "source": [
    "dict_df['cafearticle'].info(), dict_df['cafearticle']"
   ]
  },
  {
   "cell_type": "code",
   "execution_count": null,
   "id": "f29e6afd",
   "metadata": {},
   "outputs": [],
   "source": []
  },
  {
   "cell_type": "code",
   "execution_count": null,
   "id": "e70a7f5a",
   "metadata": {},
   "outputs": [],
   "source": []
  },
  {
   "cell_type": "markdown",
   "id": "538a10d4",
   "metadata": {},
   "source": [
    "# OpenWeatherMap API"
   ]
  },
  {
   "cell_type": "markdown",
   "id": "f08fc570",
   "metadata": {},
   "source": [
    "## 과제0728_3"
   ]
  },
  {
   "cell_type": "markdown",
   "id": "a2e2fa96",
   "metadata": {},
   "source": [
    "- 아래사항에 유의하여 OpenWeatherMap 날씨정보를 웹 API로 가져와서 출력하세요\n",
    "    * https://openweathermap.org/api 사이트에서 Current Weather data에 대한 API doc 내용을 파악\n",
    "    * 개발자 등록을 하고 API 키 발급 받음(https://home.openweathermap.org/users/sign_up)\n",
    "    * New Account 등록 후 API Keys라는 탭에서 API Key 확인 가능\n",
    "    * 기본적으로 유료 사이트이지만 현재 날씨, 5일까지의 날씨는 무료로 사용할 수 있음(단 1분에 60번만 호출 가능)\n",
    "    * 서울, 토쿄, 뉴욕의 날씨를 가져오는 프로그램 작성(text로 가져와서 json으로 변환하여 일차 출력)\n",
    "      - cities = [\"Seoul,KR\", \"Tokyo,JP\", \"New York,US\"]\n",
    "      - 가져올 정보 : 도시별 날씨(description), 최저 기온(temp_min), 최고 기온(temp_max), 습도(humidity), 기압(pressure), 풍속(speed)\n",
    "      - 기온 데이터는 켈빈 온도로 되어 있으며 섭씨 온도로 변환해서 출력\n",
    "    * json 포멧으로 출력 데이터를 아래와 같이 가독력 있게 출력(소수점 2번째에서 반올림 처리)\n",
    "    \n",
    "```\n",
    "+ 도시 = Seoul\n",
    "| 날씨 = broken clouds\n",
    "| 최저 기온 = -1.0 2\n",
    "| 최고 기온 = 2.0 2\n",
    "| 습도 = 74\n",
    "| 기압 = 1023\n",
    "| 풍속 = 0.5\n",
    "```"
   ]
  },
  {
   "cell_type": "code",
   "execution_count": 18,
   "id": "2338620b",
   "metadata": {},
   "outputs": [],
   "source": [
    "import urllib\n",
    "import json"
   ]
  },
  {
   "cell_type": "code",
   "execution_count": 19,
   "id": "c74f16a5",
   "metadata": {},
   "outputs": [],
   "source": [
    "cities = [\"Seoul,KR\", \"Tokyo,JP\", \"New York,US\"]"
   ]
  },
  {
   "cell_type": "code",
   "execution_count": 20,
   "id": "5c8a3621",
   "metadata": {},
   "outputs": [],
   "source": [
    "class Cities:\n",
    "    def __init__(self, city):\n",
    "        self.city = city\n",
    "    def lat(self):\n",
    "        if self.city == \"Seoul,KR\":\n",
    "            return 37.53\n",
    "        elif self.city == \"Tokyo,JP\":\n",
    "            return 35.65\n",
    "        elif self.city == \"New York,US\":\n",
    "            return 39.31\n",
    "        else:\n",
    "            return None\n",
    "    def lon(self):\n",
    "        if self.city == \"Seoul,KR\":\n",
    "            return 127.02\n",
    "        elif self.city == \"Tokyo,JP\":\n",
    "            return 139.84\n",
    "        elif self.city == \"New York,US\":\n",
    "            return -74.5\n",
    "        else:\n",
    "            return None"
   ]
  },
  {
   "cell_type": "code",
   "execution_count": 21,
   "id": "81630e59",
   "metadata": {},
   "outputs": [],
   "source": [
    "def tempKtoC(ktemp):\n",
    "    return ktemp - 273.15"
   ]
  },
  {
   "cell_type": "code",
   "execution_count": 22,
   "id": "2aca3a8b",
   "metadata": {},
   "outputs": [
    {
     "name": "stdout",
     "output_type": "stream",
     "text": [
      "+ 도시 = Seoul\n",
      "| 날씨 = few clouds\n",
      "| 최저 기온 = 25.70 °C\n",
      "| 최고 기온 = 30.04 °C\n",
      "| 습도 = 74 %\n",
      "| 기압 = 1014 hPa\n",
      "| 풍속 = 2.06 m/s\n",
      "\n",
      "+ 도시 = Tokyo\n",
      "| 날씨 = scattered clouds\n",
      "| 최저 기온 = 27.47 °C\n",
      "| 최고 기온 = 31.66 °C\n",
      "| 습도 = 67 %\n",
      "| 기압 = 1017 hPa\n",
      "| 풍속 = 4.63 m/s\n",
      "\n",
      "+ 도시 = New York\n",
      "| 날씨 = clear sky\n",
      "| 최저 기온 = 25.01 °C\n",
      "| 최고 기온 = 32.11 °C\n",
      "| 습도 = 67 %\n",
      "| 기압 = 1008 hPa\n",
      "| 풍속 = 5.14 m/s\n",
      "\n"
     ]
    }
   ],
   "source": [
    "for city in cities:\n",
    "    c = Cities(city)\n",
    "    url = f'https://api.openweathermap.org/data/2.5/weather?lat={c.lat()}&lon={c.lon()}&appid=abdd4496cace4ed7d310a4f7a637d8d3'\n",
    "      \n",
    "    request = urllib.request.Request(url)\n",
    "    response = urllib.request.urlopen(request)\n",
    "    rescode = response.getcode()\n",
    "\n",
    "    if(rescode==200):\n",
    "        response_body = response.read()\n",
    "    else:\n",
    "        print(\"Error Code:\" + rescode)\n",
    "    response_dict = json.loads(response_body.decode('utf-8'))\n",
    "\n",
    "    print(f'+ 도시 = {c.city.split(\",\")[0]}')\n",
    "    print(f'| 날씨 = {response_dict[\"weather\"][0][\"description\"]}')\n",
    "    print(f'| 최저 기온 = {(tempKtoC(response_dict[\"main\"][\"temp_min\"])):.2f} °C')\n",
    "    print(f'| 최고 기온 = {(tempKtoC(response_dict[\"main\"][\"temp_max\"])):.2f} °C')\n",
    "    print(f'| 습도 = {response_dict[\"main\"][\"humidity\"]} %')\n",
    "    print(f'| 기압 = {response_dict[\"main\"][\"pressure\"]} hPa')\n",
    "    print(f'| 풍속 = {response_dict[\"wind\"][\"speed\"]:.2f} m/s\\n')"
   ]
  },
  {
   "cell_type": "markdown",
   "id": "44a8e3d8",
   "metadata": {},
   "source": [
    "# 공공데이터 API"
   ]
  },
  {
   "cell_type": "markdown",
   "id": "013836fa",
   "metadata": {},
   "source": [
    "- https://www.data.go.kr/"
   ]
  },
  {
   "cell_type": "markdown",
   "id": "4245f467",
   "metadata": {},
   "source": [
    "## 상가 업소정보"
   ]
  },
  {
   "cell_type": "code",
   "execution_count": 23,
   "id": "1a5d57e7",
   "metadata": {},
   "outputs": [],
   "source": [
    "# Python3 샘플 코드 #\n",
    "\n",
    "from urllib.request import Request, urlopen\n",
    "from urllib.parse import urlencode, quote_plus\n",
    "import pandas as pd\n",
    "import json\n",
    "\n",
    "import requests"
   ]
  },
  {
   "cell_type": "raw",
   "id": "1206af71",
   "metadata": {
    "collapsed": true
   },
   "source": [
    "# API 활용 가이드\n",
    "#'http://apis.data.go.kr/B553077/api/open/sdsc2/baroApi?resId=storezone&key=9144&ServiceKey='"
   ]
  },
  {
   "cell_type": "code",
   "execution_count": 24,
   "id": "fbbc5539",
   "metadata": {},
   "outputs": [
    {
     "name": "stdout",
     "output_type": "stream",
     "text": [
      "http://apis.data.go.kr/B553077/api/open/sdsc2/baroApi?ServiceKey=gEPlfVzqWVYri7aRsiBXBphqTTTjEyEKci0sFP5/IZvIrzdXCcYd8uHt67E74Y3uydkqkUxxLQkNRPzCu6fmrw==&type=json&resId=storezone&key=9144 \n",
      "\n",
      "[{'trarNo': 9144, 'mainTrarNm': '홍대입구역_1', 'ctprvnCd': '11', 'ctprvnNm': '서울특별시', 'signguCd': '11440', 'signguNm': '마포구', 'trarArea': 41865, 'coordNum': 28, 'coords': 'MULTIPOLYGON (((126.917547497767 37.554037541561, 126.917550337118 37.554028533657, 126.918031777795 37.5536099131743, 126.918249834708 37.5534253635141, 126.917834281345 37.5531164804536, 126.918072164394 37.5529116728077, 126.918174006205 37.5529207545327, 126.918894856027 37.5534663604769, 126.919443284439 37.5538721887034, 126.919966274978 37.5542599769832, 126.920353575078 37.5545463083067, 126.920780461521 37.5548574426499, 126.921224300797 37.5551933642184, 126.921241204265 37.5552609500763, 126.920895709148 37.5555580423833, 126.920547386824 37.5558506267693, 126.920414384009 37.5558730604417, 126.92003538606 37.5557511660885, 126.919616781325 37.5556269906198, 126.9193735289 37.5555637525159, 126.919325442846 37.5555524567147, 126.919130450163 37.5553428404732, 126.919014758335 37.5550611998979, 126.918918842613 37.5548066027636, 126.918590871813 37.5546013976291, 126.918223308 37.5543826488233, 126.917889684949 37.5541751852678, 126.917547497767 37.554037541561)))', 'stdrDt': '2021-06-30'}]\n"
     ]
    }
   ],
   "source": [
    "res_id='storezone'\n",
    "stype = 'json'\n",
    "skey = 'gEPlfVzqWVYri7aRsiBXBphqTTTjEyEKci0sFP5/IZvIrzdXCcYd8uHt67E74Y3uydkqkUxxLQkNRPzCu6fmrw=='\n",
    "\n",
    "url = 'http://apis.data.go.kr/B553077/api/open/sdsc2/baroApi?'\n",
    "params = f'ServiceKey={skey}&type={stype}&resId={res_id}&'+urlencode({quote_plus('key'):'9144'})\n",
    "query = url + params\n",
    "print(query, '\\n')\n",
    "\n",
    "request = Request(query)\n",
    "request.get_method = lambda: 'GET'\n",
    "response_body = urlopen(request).read()\n",
    "# print(response_body, '\\n')\n",
    "\n",
    "response_dict = json.loads(response_body.decode('utf-8'))\n",
    "items = response_dict['body']['items']\n",
    "print(items)\n",
    "\n",
    "df = pd.DataFrame(items)"
   ]
  },
  {
   "cell_type": "code",
   "execution_count": 25,
   "id": "ec897710",
   "metadata": {},
   "outputs": [],
   "source": [
    "def baro_api(skey, res_id, encode):\n",
    "    \n",
    "    stype = 'json'\n",
    "    url = 'http://apis.data.go.kr/B553077/api/open/sdsc2/baroApi'\n",
    "    params = f'?ServiceKey={skey}&type={stype}&resId={res_id}&'+encode\n",
    "    query = url + params\n",
    "    \n",
    "    request = Request(query)\n",
    "    request.get_method = lambda : 'GET'\n",
    "    response_body = urlopen(request).read()\n",
    "    \n",
    "    response_dict = json.loads(response_body.decode('utf-8'))\n",
    "    items = response_dict['body']['items']\n",
    "\n",
    "    df = pd.DataFrame(items)\n",
    "    \n",
    "    return df"
   ]
  },
  {
   "cell_type": "markdown",
   "id": "3d5c802d",
   "metadata": {},
   "source": [
    "## 상권조회"
   ]
  },
  {
   "cell_type": "markdown",
   "id": "f2dbee60",
   "metadata": {},
   "source": [
    "- 지정 상권조회"
   ]
  },
  {
   "cell_type": "code",
   "execution_count": 26,
   "id": "8bf6f8ee",
   "metadata": {},
   "outputs": [],
   "source": [
    "skey = 'gEPlfVzqWVYri7aRsiBXBphqTTTjEyEKci0sFP5/IZvIrzdXCcYd8uHt67E74Y3uydkqkUxxLQkNRPzCu6fmrw=='\n",
    "res_id='storezone'\n",
    "encode = urlencode({quote_plus('key'):'9144'})"
   ]
  },
  {
   "cell_type": "code",
   "execution_count": 27,
   "id": "9dbdcbe3",
   "metadata": {
    "scrolled": true
   },
   "outputs": [
    {
     "data": {
      "text/html": [
       "<div>\n",
       "<style scoped>\n",
       "    .dataframe tbody tr th:only-of-type {\n",
       "        vertical-align: middle;\n",
       "    }\n",
       "\n",
       "    .dataframe tbody tr th {\n",
       "        vertical-align: top;\n",
       "    }\n",
       "\n",
       "    .dataframe thead th {\n",
       "        text-align: right;\n",
       "    }\n",
       "</style>\n",
       "<table border=\"1\" class=\"dataframe\">\n",
       "  <thead>\n",
       "    <tr style=\"text-align: right;\">\n",
       "      <th></th>\n",
       "      <th>trarNo</th>\n",
       "      <th>mainTrarNm</th>\n",
       "      <th>ctprvnCd</th>\n",
       "      <th>ctprvnNm</th>\n",
       "      <th>signguCd</th>\n",
       "      <th>signguNm</th>\n",
       "      <th>trarArea</th>\n",
       "      <th>coordNum</th>\n",
       "      <th>coords</th>\n",
       "      <th>stdrDt</th>\n",
       "    </tr>\n",
       "  </thead>\n",
       "  <tbody>\n",
       "    <tr>\n",
       "      <th>0</th>\n",
       "      <td>9144</td>\n",
       "      <td>홍대입구역_1</td>\n",
       "      <td>11</td>\n",
       "      <td>서울특별시</td>\n",
       "      <td>11440</td>\n",
       "      <td>마포구</td>\n",
       "      <td>41865</td>\n",
       "      <td>28</td>\n",
       "      <td>MULTIPOLYGON (((...</td>\n",
       "      <td>2021-06-30</td>\n",
       "    </tr>\n",
       "  </tbody>\n",
       "</table>\n",
       "</div>"
      ],
      "text/plain": [
       "   trarNo mainTrarNm ctprvnCd ctprvnNm signguCd signguNm  trarArea  coordNum  \\\n",
       "0    9144    홍대입구역_1       11    서울특별시    11440      마포구     41865        28   \n",
       "\n",
       "                coords      stdrDt  \n",
       "0  MULTIPOLYGON (((...  2021-06-30  "
      ]
     },
     "execution_count": 27,
     "metadata": {},
     "output_type": "execute_result"
    }
   ],
   "source": [
    "baro_api(skey, res_id, encode)"
   ]
  },
  {
   "cell_type": "markdown",
   "id": "24b98a8b",
   "metadata": {},
   "source": [
    "- 반경내 상권조회"
   ]
  },
  {
   "cell_type": "raw",
   "id": "d3bfbbd8",
   "metadata": {},
   "source": [
    "http://apis.data.go.kr/B553077/api/open/sdsc2/baroApi?\n",
    "resId=storezone\n",
    "&\n",
    "catId=radius\n",
    "&\n",
    "radius=500\n",
    "&\n",
    "cx=127.004528\n",
    "&\n",
    "cy=37.567538\n",
    "&\n",
    "ServiceKey=서비스인증키"
   ]
  },
  {
   "cell_type": "code",
   "execution_count": 28,
   "id": "023a1a31",
   "metadata": {},
   "outputs": [],
   "source": [
    "encode = urlencode({quote_plus('catId'):'radius',\n",
    "                    quote_plus('radius'):'500',\n",
    "                    quote_plus('cx'):'127.004528',\n",
    "                   quote_plus('cy'):'37.567538'})"
   ]
  },
  {
   "cell_type": "code",
   "execution_count": 29,
   "id": "7d5cc9ee",
   "metadata": {
    "scrolled": true
   },
   "outputs": [
    {
     "data": {
      "text/html": [
       "<div>\n",
       "<style scoped>\n",
       "    .dataframe tbody tr th:only-of-type {\n",
       "        vertical-align: middle;\n",
       "    }\n",
       "\n",
       "    .dataframe tbody tr th {\n",
       "        vertical-align: top;\n",
       "    }\n",
       "\n",
       "    .dataframe thead th {\n",
       "        text-align: right;\n",
       "    }\n",
       "</style>\n",
       "<table border=\"1\" class=\"dataframe\">\n",
       "  <thead>\n",
       "    <tr style=\"text-align: right;\">\n",
       "      <th></th>\n",
       "      <th>trarNo</th>\n",
       "      <th>mainTrarNm</th>\n",
       "      <th>ctprvnCd</th>\n",
       "      <th>ctprvnNm</th>\n",
       "      <th>signguCd</th>\n",
       "      <th>signguNm</th>\n",
       "      <th>trarArea</th>\n",
       "      <th>coordNum</th>\n",
       "      <th>coords</th>\n",
       "      <th>stdrDt</th>\n",
       "    </tr>\n",
       "  </thead>\n",
       "  <tbody>\n",
       "    <tr>\n",
       "      <th>0</th>\n",
       "      <td>9170</td>\n",
       "      <td>동대문시장_1</td>\n",
       "      <td>11</td>\n",
       "      <td>서울특별시</td>\n",
       "      <td>11110</td>\n",
       "      <td>종로구</td>\n",
       "      <td>75046</td>\n",
       "      <td>13</td>\n",
       "      <td>MULTIPOLYGON (((...</td>\n",
       "      <td>2021-06-30</td>\n",
       "    </tr>\n",
       "    <tr>\n",
       "      <th>1</th>\n",
       "      <td>9180</td>\n",
       "      <td>종로5가역_1</td>\n",
       "      <td>11</td>\n",
       "      <td>서울특별시</td>\n",
       "      <td>11110</td>\n",
       "      <td>종로구</td>\n",
       "      <td>44881</td>\n",
       "      <td>9</td>\n",
       "      <td>MULTIPOLYGON (((...</td>\n",
       "      <td>2021-06-30</td>\n",
       "    </tr>\n",
       "    <tr>\n",
       "      <th>2</th>\n",
       "      <td>9192</td>\n",
       "      <td>동대문시장_2</td>\n",
       "      <td>11</td>\n",
       "      <td>서울특별시</td>\n",
       "      <td>11140</td>\n",
       "      <td>중구</td>\n",
       "      <td>60995</td>\n",
       "      <td>18</td>\n",
       "      <td>MULTIPOLYGON (((...</td>\n",
       "      <td>2021-06-30</td>\n",
       "    </tr>\n",
       "    <tr>\n",
       "      <th>3</th>\n",
       "      <td>9193</td>\n",
       "      <td>동대문역사문화공원역</td>\n",
       "      <td>11</td>\n",
       "      <td>서울특별시</td>\n",
       "      <td>11140</td>\n",
       "      <td>중구</td>\n",
       "      <td>79167</td>\n",
       "      <td>17</td>\n",
       "      <td>MULTIPOLYGON (((...</td>\n",
       "      <td>2021-06-30</td>\n",
       "    </tr>\n",
       "    <tr>\n",
       "      <th>4</th>\n",
       "      <td>9206</td>\n",
       "      <td>을지로4가역</td>\n",
       "      <td>11</td>\n",
       "      <td>서울특별시</td>\n",
       "      <td>11140</td>\n",
       "      <td>중구</td>\n",
       "      <td>81565</td>\n",
       "      <td>9</td>\n",
       "      <td>MULTIPOLYGON (((...</td>\n",
       "      <td>2021-06-30</td>\n",
       "    </tr>\n",
       "  </tbody>\n",
       "</table>\n",
       "</div>"
      ],
      "text/plain": [
       "   trarNo  mainTrarNm ctprvnCd ctprvnNm signguCd signguNm  trarArea  coordNum  \\\n",
       "0    9170     동대문시장_1       11    서울특별시    11110      종로구     75046        13   \n",
       "1    9180     종로5가역_1       11    서울특별시    11110      종로구     44881         9   \n",
       "2    9192     동대문시장_2       11    서울특별시    11140       중구     60995        18   \n",
       "3    9193  동대문역사문화공원역       11    서울특별시    11140       중구     79167        17   \n",
       "4    9206      을지로4가역       11    서울특별시    11140       중구     81565         9   \n",
       "\n",
       "                coords      stdrDt  \n",
       "0  MULTIPOLYGON (((...  2021-06-30  \n",
       "1  MULTIPOLYGON (((...  2021-06-30  \n",
       "2  MULTIPOLYGON (((...  2021-06-30  \n",
       "3  MULTIPOLYGON (((...  2021-06-30  \n",
       "4  MULTIPOLYGON (((...  2021-06-30  "
      ]
     },
     "execution_count": 29,
     "metadata": {},
     "output_type": "execute_result"
    }
   ],
   "source": [
    "baro_api(skey, res_id, encode)"
   ]
  },
  {
   "cell_type": "markdown",
   "id": "882dc221",
   "metadata": {},
   "source": [
    "### 사각형내 상권조회 "
   ]
  },
  {
   "cell_type": "markdown",
   "id": "09625beb",
   "metadata": {},
   "source": [
    "#### 과제0728_4"
   ]
  },
  {
   "cell_type": "code",
   "execution_count": 61,
   "id": "7f2c5638",
   "metadata": {},
   "outputs": [],
   "source": [
    "res_id='storezone'\n",
    "stype = 'json'\n",
    "skey = 'gEPlfVzqWVYri7aRsiBXBphqTTTjEyEKci0sFP5/IZvIrzdXCcYd8uHt67E74Y3uydkqkUxxLQkNRPzCu6fmrw=='"
   ]
  },
  {
   "cell_type": "code",
   "execution_count": 62,
   "id": "d4e2722c",
   "metadata": {},
   "outputs": [],
   "source": [
    "def baro_api(skey, res_id, encode):\n",
    "    \n",
    "    stype = 'json'\n",
    "    url = 'http://apis.data.go.kr/B553077/api/open/sdsc2/baroApi'\n",
    "    params = f'?ServiceKey={skey}&type={stype}&resId={res_id}&'+encode\n",
    "    query = url + params\n",
    "    print(query)\n",
    "    \n",
    "    request = Request(query)\n",
    "    request.get_method = lambda : 'GET'\n",
    "    response_body = urlopen(request).read()\n",
    "    \n",
    "    response_dict = json.loads(response_body.decode('utf-8'))\n",
    "    print('resultMsg : ', response_dict['header']['resultMsg'])\n",
    "    items = response_dict['body']['items']\n",
    "\n",
    "    df = pd.DataFrame(items)\n",
    "    \n",
    "    return df"
   ]
  },
  {
   "cell_type": "raw",
   "id": "b645df34",
   "metadata": {},
   "source": [
    "http://apis.data.go.kr/B553077/api/open/sdsc2/baroApi\n",
    "?resId=storezone\n",
    "&catId=rectangle\n",
    "&minx=126.978020\n",
    "&miny=37.557825\n",
    "&maxx=126.987732\n",
    "&maxy=37.562022\n",
    "&ServiceKey=\n",
    "서비스인증키"
   ]
  },
  {
   "cell_type": "code",
   "execution_count": 63,
   "id": "ac4e1ca0",
   "metadata": {},
   "outputs": [],
   "source": [
    "encode = urlencode({quote_plus('catId'):'rectangle',\n",
    "                    quote_plus('radius'):'500',\n",
    "                    quote_plus('minx'):'126.978020',\n",
    "                   quote_plus('miny'):'37.557825',\n",
    "                   quote_plus('maxx'):'126.987732',\n",
    "                   quote_plus('maxy'):'37.562022'})"
   ]
  },
  {
   "cell_type": "code",
   "execution_count": 64,
   "id": "99b9f56e",
   "metadata": {
    "scrolled": true
   },
   "outputs": [
    {
     "name": "stdout",
     "output_type": "stream",
     "text": [
      "http://apis.data.go.kr/B553077/api/open/sdsc2/baroApi?ServiceKey=gEPlfVzqWVYri7aRsiBXBphqTTTjEyEKci0sFP5/IZvIrzdXCcYd8uHt67E74Y3uydkqkUxxLQkNRPzCu6fmrw==&type=json&resId=storezone&catId=rectangle&radius=500&minx=126.978020&miny=37.557825&maxx=126.987732&maxy=37.562022\n",
      "resultMsg :  NODATA_ERROR\n"
     ]
    },
    {
     "data": {
      "text/html": [
       "<div>\n",
       "<style scoped>\n",
       "    .dataframe tbody tr th:only-of-type {\n",
       "        vertical-align: middle;\n",
       "    }\n",
       "\n",
       "    .dataframe tbody tr th {\n",
       "        vertical-align: top;\n",
       "    }\n",
       "\n",
       "    .dataframe thead th {\n",
       "        text-align: right;\n",
       "    }\n",
       "</style>\n",
       "<table border=\"1\" class=\"dataframe\">\n",
       "  <thead>\n",
       "    <tr style=\"text-align: right;\">\n",
       "      <th></th>\n",
       "    </tr>\n",
       "  </thead>\n",
       "  <tbody>\n",
       "  </tbody>\n",
       "</table>\n",
       "</div>"
      ],
      "text/plain": [
       "Empty DataFrame\n",
       "Columns: []\n",
       "Index: []"
      ]
     },
     "execution_count": 64,
     "metadata": {},
     "output_type": "execute_result"
    }
   ],
   "source": [
    "baro_api(skey, res_id, encode)"
   ]
  },
  {
   "cell_type": "markdown",
   "id": "485eb2ce",
   "metadata": {},
   "source": [
    "### 행정 구역 단위 상권조회 "
   ]
  },
  {
   "cell_type": "markdown",
   "id": "b5582287",
   "metadata": {},
   "source": [
    "#### 과제0728_5"
   ]
  },
  {
   "cell_type": "code",
   "execution_count": 71,
   "id": "443a0a53",
   "metadata": {},
   "outputs": [],
   "source": [
    "res_id='storezone'\n",
    "stype = 'json'\n",
    "skey = 'gEPlfVzqWVYri7aRsiBXBphqTTTjEyEKci0sFP5/IZvIrzdXCcYd8uHt67E74Y3uydkqkUxxLQkNRPzCu6fmrw=='"
   ]
  },
  {
   "cell_type": "code",
   "execution_count": 72,
   "id": "5adeda1c",
   "metadata": {},
   "outputs": [],
   "source": [
    "def baro_api(skey, res_id, encode):\n",
    "    \n",
    "    stype = 'json'\n",
    "    url = 'http://apis.data.go.kr/B553077/api/open/sdsc2/baroApi'\n",
    "    params = f'?ServiceKey={skey}&type={stype}&resId={res_id}&'+encode\n",
    "    query = url + params\n",
    "    print(query)\n",
    "    \n",
    "    request = Request(query)\n",
    "    request.get_method = lambda : 'GET'\n",
    "    response_body = urlopen(request).read()\n",
    "    \n",
    "    response_dict = json.loads(response_body.decode('utf-8'))\n",
    "    print('resultMsg : ', response_dict['header']['resultMsg'])\n",
    "    items = response_dict['body']['items']\n",
    "\n",
    "    df = pd.DataFrame(items)\n",
    "    \n",
    "    return df"
   ]
  },
  {
   "cell_type": "raw",
   "id": "2a9ef1c8",
   "metadata": {},
   "source": [
    "http://apis.data.go.kr/B553077/api/open/sdsc2/baroApi\n",
    "?resId=storezone\n",
    "&catId=dong\n",
    "&divId=adongCd\n",
    "&key=1168069000\n",
    "&ServiceKey=서비스인증키\n"
   ]
  },
  {
   "cell_type": "code",
   "execution_count": 73,
   "id": "797763fb",
   "metadata": {},
   "outputs": [],
   "source": [
    "encode = urlencode({quote_plus('catId'):'dong',\n",
    "                    quote_plus('divId'):'adongCd',\n",
    "                    quote_plus('key'):'1168069000'})"
   ]
  },
  {
   "cell_type": "code",
   "execution_count": 74,
   "id": "efa679e5",
   "metadata": {
    "scrolled": true
   },
   "outputs": [
    {
     "name": "stdout",
     "output_type": "stream",
     "text": [
      "http://apis.data.go.kr/B553077/api/open/sdsc2/baroApi?ServiceKey=gEPlfVzqWVYri7aRsiBXBphqTTTjEyEKci0sFP5/IZvIrzdXCcYd8uHt67E74Y3uydkqkUxxLQkNRPzCu6fmrw==&type=json&resId=storezone&catId=dong&divId=adongCd&key=1168069000\n",
      "resultMsg :  NORMAL SERVICE\n"
     ]
    },
    {
     "data": {
      "text/html": [
       "<div>\n",
       "<style scoped>\n",
       "    .dataframe tbody tr th:only-of-type {\n",
       "        vertical-align: middle;\n",
       "    }\n",
       "\n",
       "    .dataframe tbody tr th {\n",
       "        vertical-align: top;\n",
       "    }\n",
       "\n",
       "    .dataframe thead th {\n",
       "        text-align: right;\n",
       "    }\n",
       "</style>\n",
       "<table border=\"1\" class=\"dataframe\">\n",
       "  <thead>\n",
       "    <tr style=\"text-align: right;\">\n",
       "      <th></th>\n",
       "      <th>trarNo</th>\n",
       "      <th>mainTrarNm</th>\n",
       "      <th>ctprvnCd</th>\n",
       "      <th>ctprvnNm</th>\n",
       "      <th>signguCd</th>\n",
       "      <th>signguNm</th>\n",
       "      <th>trarArea</th>\n",
       "      <th>coordNum</th>\n",
       "      <th>coords</th>\n",
       "      <th>stdrDt</th>\n",
       "    </tr>\n",
       "  </thead>\n",
       "  <tbody>\n",
       "    <tr>\n",
       "      <th>0</th>\n",
       "      <td>9324</td>\n",
       "      <td>포이사거리</td>\n",
       "      <td>11</td>\n",
       "      <td>서울특별시</td>\n",
       "      <td>11680</td>\n",
       "      <td>강남구</td>\n",
       "      <td>14033</td>\n",
       "      <td>33</td>\n",
       "      <td>MULTIPOLYGON (((...</td>\n",
       "      <td>2021-06-30</td>\n",
       "    </tr>\n",
       "  </tbody>\n",
       "</table>\n",
       "</div>"
      ],
      "text/plain": [
       "   trarNo mainTrarNm ctprvnCd ctprvnNm signguCd signguNm  trarArea  coordNum  \\\n",
       "0    9324      포이사거리       11    서울특별시    11680      강남구     14033        33   \n",
       "\n",
       "                coords      stdrDt  \n",
       "0  MULTIPOLYGON (((...  2021-06-30  "
      ]
     },
     "execution_count": 74,
     "metadata": {},
     "output_type": "execute_result"
    }
   ],
   "source": [
    "baro_api(skey, res_id, encode)"
   ]
  },
  {
   "cell_type": "markdown",
   "id": "7285f31a",
   "metadata": {},
   "source": [
    "## 상가업소 조회"
   ]
  },
  {
   "cell_type": "markdown",
   "id": "945eb4fe",
   "metadata": {},
   "source": [
    "### 행정동 단위 상가업소 조회"
   ]
  },
  {
   "cell_type": "raw",
   "id": "01e6c07a",
   "metadata": {},
   "source": [
    "http://apis.data.go.kr/B553077/api/open/sdsc2/baroApi?\n",
    "resId=store&\n",
    "catId=dong&\n",
    "divId=ctprvnCd\n",
    "&key=11\n",
    "&ServiceKey=서비스인증키"
   ]
  },
  {
   "cell_type": "code",
   "execution_count": 40,
   "id": "1534206d",
   "metadata": {},
   "outputs": [],
   "source": [
    "res_id = 'store'\n",
    "encode = urlencode({quote_plus('catId'):'dong',\n",
    "                    quote_plus('divId'):'ctprvnCd',\n",
    "                    quote_plus('key'):'11'})"
   ]
  },
  {
   "cell_type": "code",
   "execution_count": 41,
   "id": "d54c30f0",
   "metadata": {},
   "outputs": [
    {
     "name": "stdout",
     "output_type": "stream",
     "text": [
      "resultMsg :  NORMAL SERVICE\n"
     ]
    },
    {
     "data": {
      "text/html": [
       "<div>\n",
       "<style scoped>\n",
       "    .dataframe tbody tr th:only-of-type {\n",
       "        vertical-align: middle;\n",
       "    }\n",
       "\n",
       "    .dataframe tbody tr th {\n",
       "        vertical-align: top;\n",
       "    }\n",
       "\n",
       "    .dataframe thead th {\n",
       "        text-align: right;\n",
       "    }\n",
       "</style>\n",
       "<table border=\"1\" class=\"dataframe\">\n",
       "  <thead>\n",
       "    <tr style=\"text-align: right;\">\n",
       "      <th></th>\n",
       "      <th>bizesId</th>\n",
       "      <th>bizesNm</th>\n",
       "      <th>brchNm</th>\n",
       "      <th>indsLclsCd</th>\n",
       "      <th>indsLclsNm</th>\n",
       "      <th>indsMclsCd</th>\n",
       "      <th>indsMclsNm</th>\n",
       "      <th>indsSclsCd</th>\n",
       "      <th>indsSclsNm</th>\n",
       "      <th>ksicCd</th>\n",
       "      <th>...</th>\n",
       "      <th>bldMngNo</th>\n",
       "      <th>bldNm</th>\n",
       "      <th>rdnmAdr</th>\n",
       "      <th>oldZipcd</th>\n",
       "      <th>newZipcd</th>\n",
       "      <th>dongNo</th>\n",
       "      <th>flrNo</th>\n",
       "      <th>hoNo</th>\n",
       "      <th>lon</th>\n",
       "      <th>lat</th>\n",
       "    </tr>\n",
       "  </thead>\n",
       "  <tbody>\n",
       "    <tr>\n",
       "      <th>0</th>\n",
       "      <td>10001387</td>\n",
       "      <td>이음스튜디오</td>\n",
       "      <td></td>\n",
       "      <td>D</td>\n",
       "      <td>소매</td>\n",
       "      <td>D18</td>\n",
       "      <td>사진/광학/정밀기기소매</td>\n",
       "      <td>D18A03</td>\n",
       "      <td>카메라판매</td>\n",
       "      <td>G47823</td>\n",
       "      <td>...</td>\n",
       "      <td>1168010700105910...</td>\n",
       "      <td>신사동빌딩</td>\n",
       "      <td>서울특별시 강남구 논현로154길 5</td>\n",
       "      <td>135893</td>\n",
       "      <td>06025</td>\n",
       "      <td></td>\n",
       "      <td>1</td>\n",
       "      <td></td>\n",
       "      <td>127.028616</td>\n",
       "      <td>37.521818</td>\n",
       "    </tr>\n",
       "    <tr>\n",
       "      <th>1</th>\n",
       "      <td>10004623</td>\n",
       "      <td>이철헤어커커</td>\n",
       "      <td>상계역점</td>\n",
       "      <td>F</td>\n",
       "      <td>생활서비스</td>\n",
       "      <td>F01</td>\n",
       "      <td>이/미용/건강</td>\n",
       "      <td>F01A01</td>\n",
       "      <td>여성미용실</td>\n",
       "      <td>S96112</td>\n",
       "      <td>...</td>\n",
       "      <td>1135010600101410...</td>\n",
       "      <td></td>\n",
       "      <td>서울특별시 노원구 한글비석로2...</td>\n",
       "      <td>139220</td>\n",
       "      <td>01662</td>\n",
       "      <td></td>\n",
       "      <td>2</td>\n",
       "      <td></td>\n",
       "      <td>127.074146</td>\n",
       "      <td>37.661098</td>\n",
       "    </tr>\n",
       "    <tr>\n",
       "      <th>2</th>\n",
       "      <td>10016187</td>\n",
       "      <td>일조산업</td>\n",
       "      <td></td>\n",
       "      <td>D</td>\n",
       "      <td>소매</td>\n",
       "      <td>D07</td>\n",
       "      <td>가정/주방/인테리어</td>\n",
       "      <td>D07A15</td>\n",
       "      <td>유리/페인트/철물건축자재</td>\n",
       "      <td>G47519</td>\n",
       "      <td>...</td>\n",
       "      <td>1120011500102800...</td>\n",
       "      <td>일조산업</td>\n",
       "      <td>서울특별시 성동구 광나루로 290</td>\n",
       "      <td>133120</td>\n",
       "      <td>04796</td>\n",
       "      <td></td>\n",
       "      <td></td>\n",
       "      <td></td>\n",
       "      <td>127.061970</td>\n",
       "      <td>37.547705</td>\n",
       "    </tr>\n",
       "    <tr>\n",
       "      <th>3</th>\n",
       "      <td>10030788</td>\n",
       "      <td>장안순대국밥</td>\n",
       "      <td></td>\n",
       "      <td>Q</td>\n",
       "      <td>음식</td>\n",
       "      <td>Q10</td>\n",
       "      <td>별식/퓨전요리</td>\n",
       "      <td>Q10A05</td>\n",
       "      <td>순대전문점</td>\n",
       "      <td>I56111</td>\n",
       "      <td>...</td>\n",
       "      <td>1123010500105300...</td>\n",
       "      <td></td>\n",
       "      <td>서울특별시 동대문구 고미술로 81</td>\n",
       "      <td>130032</td>\n",
       "      <td>02622</td>\n",
       "      <td></td>\n",
       "      <td>1</td>\n",
       "      <td></td>\n",
       "      <td>127.055701</td>\n",
       "      <td>37.565595</td>\n",
       "    </tr>\n",
       "    <tr>\n",
       "      <th>4</th>\n",
       "      <td>10031349</td>\n",
       "      <td>장어야</td>\n",
       "      <td>동자동점</td>\n",
       "      <td>Q</td>\n",
       "      <td>음식</td>\n",
       "      <td>Q01</td>\n",
       "      <td>한식</td>\n",
       "      <td>Q01A01</td>\n",
       "      <td>한식/백반/한정식</td>\n",
       "      <td>I56111</td>\n",
       "      <td>...</td>\n",
       "      <td>1117010700100350...</td>\n",
       "      <td></td>\n",
       "      <td>서울특별시 용산구 후암로57길...</td>\n",
       "      <td>140821</td>\n",
       "      <td>04324</td>\n",
       "      <td></td>\n",
       "      <td></td>\n",
       "      <td></td>\n",
       "      <td>126.974149</td>\n",
       "      <td>37.551236</td>\n",
       "    </tr>\n",
       "    <tr>\n",
       "      <th>5</th>\n",
       "      <td>10031436</td>\n",
       "      <td>장어천국</td>\n",
       "      <td></td>\n",
       "      <td>Q</td>\n",
       "      <td>음식</td>\n",
       "      <td>Q01</td>\n",
       "      <td>한식</td>\n",
       "      <td>Q01A01</td>\n",
       "      <td>한식/백반/한정식</td>\n",
       "      <td>I56111</td>\n",
       "      <td>...</td>\n",
       "      <td>1165010400103720...</td>\n",
       "      <td></td>\n",
       "      <td>서울특별시 서초구 원터4길 3</td>\n",
       "      <td>137150</td>\n",
       "      <td>06806</td>\n",
       "      <td></td>\n",
       "      <td>2</td>\n",
       "      <td></td>\n",
       "      <td>127.055836</td>\n",
       "      <td>37.443503</td>\n",
       "    </tr>\n",
       "    <tr>\n",
       "      <th>6</th>\n",
       "      <td>10034303</td>\n",
       "      <td>재건공조</td>\n",
       "      <td></td>\n",
       "      <td>D</td>\n",
       "      <td>소매</td>\n",
       "      <td>D07</td>\n",
       "      <td>가정/주방/인테리어</td>\n",
       "      <td>D07A15</td>\n",
       "      <td>유리/페인트/철물건축자재</td>\n",
       "      <td>G47519</td>\n",
       "      <td>...</td>\n",
       "      <td>1123010300111490...</td>\n",
       "      <td></td>\n",
       "      <td>서울특별시 동대문구 종암로 6</td>\n",
       "      <td>130865</td>\n",
       "      <td>02465</td>\n",
       "      <td></td>\n",
       "      <td>1</td>\n",
       "      <td></td>\n",
       "      <td>127.036595</td>\n",
       "      <td>37.590976</td>\n",
       "    </tr>\n",
       "    <tr>\n",
       "      <th>7</th>\n",
       "      <td>10034977</td>\n",
       "      <td>재진패션</td>\n",
       "      <td></td>\n",
       "      <td>D</td>\n",
       "      <td>소매</td>\n",
       "      <td>D05</td>\n",
       "      <td>의복의류</td>\n",
       "      <td>D05A01</td>\n",
       "      <td>일반의류</td>\n",
       "      <td>G47416</td>\n",
       "      <td>...</td>\n",
       "      <td>1162010200114800...</td>\n",
       "      <td>계림빌딩</td>\n",
       "      <td>서울특별시 관악구 난곡로57길 11</td>\n",
       "      <td>151894</td>\n",
       "      <td>08771</td>\n",
       "      <td></td>\n",
       "      <td>2</td>\n",
       "      <td></td>\n",
       "      <td>126.914212</td>\n",
       "      <td>37.479482</td>\n",
       "    </tr>\n",
       "    <tr>\n",
       "      <th>8</th>\n",
       "      <td>10038561</td>\n",
       "      <td>전자랜드프라이스킹</td>\n",
       "      <td>은평점</td>\n",
       "      <td>D</td>\n",
       "      <td>소매</td>\n",
       "      <td>D12</td>\n",
       "      <td>가전제품소매</td>\n",
       "      <td>D12A01</td>\n",
       "      <td>일반가전제품</td>\n",
       "      <td>G47320</td>\n",
       "      <td>...</td>\n",
       "      <td>1138010700101090...</td>\n",
       "      <td></td>\n",
       "      <td>서울특별시 은평구 은평로 122</td>\n",
       "      <td>122010</td>\n",
       "      <td>03454</td>\n",
       "      <td></td>\n",
       "      <td>1</td>\n",
       "      <td></td>\n",
       "      <td>126.921329</td>\n",
       "      <td>37.600043</td>\n",
       "    </tr>\n",
       "    <tr>\n",
       "      <th>9</th>\n",
       "      <td>10041487</td>\n",
       "      <td>정관장</td>\n",
       "      <td>서대문역점</td>\n",
       "      <td>D</td>\n",
       "      <td>소매</td>\n",
       "      <td>D03</td>\n",
       "      <td>종합소매점</td>\n",
       "      <td>D03B04</td>\n",
       "      <td>시장/종합상가</td>\n",
       "      <td>G47129</td>\n",
       "      <td>...</td>\n",
       "      <td>1141010400101670...</td>\n",
       "      <td>로얄빌딩</td>\n",
       "      <td>서울특별시 서대문구 통일로 111</td>\n",
       "      <td>120020</td>\n",
       "      <td>03738</td>\n",
       "      <td></td>\n",
       "      <td>1</td>\n",
       "      <td></td>\n",
       "      <td>126.967217</td>\n",
       "      <td>37.564800</td>\n",
       "    </tr>\n",
       "    <tr>\n",
       "      <th>10</th>\n",
       "      <td>10041503</td>\n",
       "      <td>정관장</td>\n",
       "      <td>남부법원점</td>\n",
       "      <td>D</td>\n",
       "      <td>소매</td>\n",
       "      <td>D10</td>\n",
       "      <td>건강/미용식품</td>\n",
       "      <td>D10A04</td>\n",
       "      <td>건강식품판매</td>\n",
       "      <td>G47216</td>\n",
       "      <td>...</td>\n",
       "      <td>1147010100110130...</td>\n",
       "      <td>성배법조빌딩</td>\n",
       "      <td>서울특별시 양천구 신월로 369</td>\n",
       "      <td>158070</td>\n",
       "      <td>08021</td>\n",
       "      <td></td>\n",
       "      <td></td>\n",
       "      <td></td>\n",
       "      <td>126.861992</td>\n",
       "      <td>37.522403</td>\n",
       "    </tr>\n",
       "    <tr>\n",
       "      <th>11</th>\n",
       "      <td>10050747</td>\n",
       "      <td>제시카키친</td>\n",
       "      <td>이대하늬솔점</td>\n",
       "      <td>Q</td>\n",
       "      <td>음식</td>\n",
       "      <td>Q06</td>\n",
       "      <td>양식</td>\n",
       "      <td>Q06A05</td>\n",
       "      <td>패밀리레스토랑</td>\n",
       "      <td>I56114</td>\n",
       "      <td>...</td>\n",
       "      <td>1141011300100850...</td>\n",
       "      <td>하늬솔빌딩</td>\n",
       "      <td>서울특별시 서대문구 성산로 527</td>\n",
       "      <td>120160</td>\n",
       "      <td>03721</td>\n",
       "      <td>A</td>\n",
       "      <td>1</td>\n",
       "      <td></td>\n",
       "      <td>126.944072</td>\n",
       "      <td>37.563766</td>\n",
       "    </tr>\n",
       "    <tr>\n",
       "      <th>12</th>\n",
       "      <td>10056742</td>\n",
       "      <td>제일전기조명</td>\n",
       "      <td></td>\n",
       "      <td>D</td>\n",
       "      <td>소매</td>\n",
       "      <td>D07</td>\n",
       "      <td>가정/주방/인테리어</td>\n",
       "      <td>D07A10</td>\n",
       "      <td>조명기구/전기용품</td>\n",
       "      <td>G47591</td>\n",
       "      <td>...</td>\n",
       "      <td>1111015700100800...</td>\n",
       "      <td></td>\n",
       "      <td>서울특별시 종로구 창경궁로 127</td>\n",
       "      <td>110410</td>\n",
       "      <td>03136</td>\n",
       "      <td></td>\n",
       "      <td>1</td>\n",
       "      <td></td>\n",
       "      <td>126.997296</td>\n",
       "      <td>37.573790</td>\n",
       "    </tr>\n",
       "    <tr>\n",
       "      <th>13</th>\n",
       "      <td>10065677</td>\n",
       "      <td>종가집설렁탕</td>\n",
       "      <td></td>\n",
       "      <td>Q</td>\n",
       "      <td>음식</td>\n",
       "      <td>Q01</td>\n",
       "      <td>한식</td>\n",
       "      <td>Q01A09</td>\n",
       "      <td>설렁탕집</td>\n",
       "      <td>I56111</td>\n",
       "      <td>...</td>\n",
       "      <td>1147010100102960...</td>\n",
       "      <td></td>\n",
       "      <td>서울특별시 양천구 신목로 56</td>\n",
       "      <td>158070</td>\n",
       "      <td>08015</td>\n",
       "      <td></td>\n",
       "      <td></td>\n",
       "      <td></td>\n",
       "      <td>126.872936</td>\n",
       "      <td>37.519849</td>\n",
       "    </tr>\n",
       "    <tr>\n",
       "      <th>14</th>\n",
       "      <td>10072281</td>\n",
       "      <td>주연테크컴퓨터</td>\n",
       "      <td>신촌점</td>\n",
       "      <td>D</td>\n",
       "      <td>소매</td>\n",
       "      <td>D08</td>\n",
       "      <td>사무/문구/컴퓨터</td>\n",
       "      <td>D08A05</td>\n",
       "      <td>컴퓨터전문매장</td>\n",
       "      <td>G47311</td>\n",
       "      <td>...</td>\n",
       "      <td>1141011000101560...</td>\n",
       "      <td></td>\n",
       "      <td>서울특별시 서대문구 신촌로 249</td>\n",
       "      <td>120821</td>\n",
       "      <td>03774</td>\n",
       "      <td></td>\n",
       "      <td></td>\n",
       "      <td></td>\n",
       "      <td>126.953668</td>\n",
       "      <td>37.557472</td>\n",
       "    </tr>\n",
       "    <tr>\n",
       "      <th>15</th>\n",
       "      <td>10075124</td>\n",
       "      <td>준오헤어돈암2호점</td>\n",
       "      <td>돈암2호점</td>\n",
       "      <td>F</td>\n",
       "      <td>생활서비스</td>\n",
       "      <td>F01</td>\n",
       "      <td>이/미용/건강</td>\n",
       "      <td>F01A01</td>\n",
       "      <td>여성미용실</td>\n",
       "      <td>S96112</td>\n",
       "      <td>...</td>\n",
       "      <td>1129011600100850...</td>\n",
       "      <td></td>\n",
       "      <td>서울특별시 성북구 동소문로22...</td>\n",
       "      <td>136051</td>\n",
       "      <td>02845</td>\n",
       "      <td></td>\n",
       "      <td>2</td>\n",
       "      <td></td>\n",
       "      <td>127.018438</td>\n",
       "      <td>37.591403</td>\n",
       "    </tr>\n",
       "    <tr>\n",
       "      <th>16</th>\n",
       "      <td>10080606</td>\n",
       "      <td>중화공인중개사사무소</td>\n",
       "      <td></td>\n",
       "      <td>L</td>\n",
       "      <td>부동산</td>\n",
       "      <td>L01</td>\n",
       "      <td>부동산중개</td>\n",
       "      <td>L01A01</td>\n",
       "      <td>부동산중개</td>\n",
       "      <td>L68221</td>\n",
       "      <td>...</td>\n",
       "      <td>1126010300101100...</td>\n",
       "      <td></td>\n",
       "      <td>서울특별시 중랑구 봉화산로 76</td>\n",
       "      <td>131120</td>\n",
       "      <td>02089</td>\n",
       "      <td></td>\n",
       "      <td>1</td>\n",
       "      <td></td>\n",
       "      <td>127.082755</td>\n",
       "      <td>37.601606</td>\n",
       "    </tr>\n",
       "    <tr>\n",
       "      <th>17</th>\n",
       "      <td>10085207</td>\n",
       "      <td>GS25</td>\n",
       "      <td>용산하얏트점</td>\n",
       "      <td>D</td>\n",
       "      <td>소매</td>\n",
       "      <td>D03</td>\n",
       "      <td>종합소매점</td>\n",
       "      <td>D03A01</td>\n",
       "      <td>편의점</td>\n",
       "      <td>G47122</td>\n",
       "      <td>...</td>\n",
       "      <td>1117013000102430...</td>\n",
       "      <td></td>\n",
       "      <td>서울특별시 용산구 회나무로44...</td>\n",
       "      <td>140200</td>\n",
       "      <td>04346</td>\n",
       "      <td></td>\n",
       "      <td>1</td>\n",
       "      <td></td>\n",
       "      <td>126.995255</td>\n",
       "      <td>37.539470</td>\n",
       "    </tr>\n",
       "    <tr>\n",
       "      <th>18</th>\n",
       "      <td>10086312</td>\n",
       "      <td>지우미용실신월점</td>\n",
       "      <td>신월점</td>\n",
       "      <td>F</td>\n",
       "      <td>생활서비스</td>\n",
       "      <td>F01</td>\n",
       "      <td>이/미용/건강</td>\n",
       "      <td>F01A01</td>\n",
       "      <td>여성미용실</td>\n",
       "      <td>S96112</td>\n",
       "      <td>...</td>\n",
       "      <td>1147010300104430...</td>\n",
       "      <td></td>\n",
       "      <td>서울특별시 양천구 오목로 41</td>\n",
       "      <td>158090</td>\n",
       "      <td>07930</td>\n",
       "      <td></td>\n",
       "      <td>1</td>\n",
       "      <td></td>\n",
       "      <td>126.842187</td>\n",
       "      <td>37.522183</td>\n",
       "    </tr>\n",
       "    <tr>\n",
       "      <th>19</th>\n",
       "      <td>10088738</td>\n",
       "      <td>지혜수산</td>\n",
       "      <td>화곡역점</td>\n",
       "      <td>Q</td>\n",
       "      <td>음식</td>\n",
       "      <td>Q03</td>\n",
       "      <td>일식/수산물</td>\n",
       "      <td>Q03A02</td>\n",
       "      <td>음식점-일식</td>\n",
       "      <td>I56113</td>\n",
       "      <td>...</td>\n",
       "      <td>1150010300110680...</td>\n",
       "      <td>동인빌딩</td>\n",
       "      <td>서울특별시 강서구 화곡로 119</td>\n",
       "      <td>157010</td>\n",
       "      <td>07711</td>\n",
       "      <td></td>\n",
       "      <td></td>\n",
       "      <td></td>\n",
       "      <td>126.835093</td>\n",
       "      <td>37.540431</td>\n",
       "    </tr>\n",
       "  </tbody>\n",
       "</table>\n",
       "<p>20 rows × 39 columns</p>\n",
       "</div>"
      ],
      "text/plain": [
       "     bizesId     bizesNm  brchNm indsLclsCd indsLclsNm indsMclsCd  \\\n",
       "0   10001387      이음스튜디오                  D         소매        D18   \n",
       "1   10004623      이철헤어커커    상계역점          F      생활서비스        F01   \n",
       "2   10016187        일조산업                  D         소매        D07   \n",
       "3   10030788      장안순대국밥                  Q         음식        Q10   \n",
       "4   10031349         장어야    동자동점          Q         음식        Q01   \n",
       "5   10031436        장어천국                  Q         음식        Q01   \n",
       "6   10034303        재건공조                  D         소매        D07   \n",
       "7   10034977        재진패션                  D         소매        D05   \n",
       "8   10038561   전자랜드프라이스킹     은평점          D         소매        D12   \n",
       "9   10041487         정관장   서대문역점          D         소매        D03   \n",
       "10  10041503         정관장   남부법원점          D         소매        D10   \n",
       "11  10050747       제시카키친  이대하늬솔점          Q         음식        Q06   \n",
       "12  10056742      제일전기조명                  D         소매        D07   \n",
       "13  10065677      종가집설렁탕                  Q         음식        Q01   \n",
       "14  10072281     주연테크컴퓨터     신촌점          D         소매        D08   \n",
       "15  10075124   준오헤어돈암2호점   돈암2호점          F      생활서비스        F01   \n",
       "16  10080606  중화공인중개사사무소                  L        부동산        L01   \n",
       "17  10085207        GS25  용산하얏트점          D         소매        D03   \n",
       "18  10086312    지우미용실신월점     신월점          F      생활서비스        F01   \n",
       "19  10088738        지혜수산    화곡역점          Q         음식        Q03   \n",
       "\n",
       "      indsMclsNm indsSclsCd     indsSclsNm  ksicCd  ...             bldMngNo  \\\n",
       "0   사진/광학/정밀기기소매     D18A03          카메라판매  G47823  ...  1168010700105910...   \n",
       "1        이/미용/건강     F01A01          여성미용실  S96112  ...  1135010600101410...   \n",
       "2     가정/주방/인테리어     D07A15  유리/페인트/철물건축자재  G47519  ...  1120011500102800...   \n",
       "3        별식/퓨전요리     Q10A05          순대전문점  I56111  ...  1123010500105300...   \n",
       "4             한식     Q01A01      한식/백반/한정식  I56111  ...  1117010700100350...   \n",
       "5             한식     Q01A01      한식/백반/한정식  I56111  ...  1165010400103720...   \n",
       "6     가정/주방/인테리어     D07A15  유리/페인트/철물건축자재  G47519  ...  1123010300111490...   \n",
       "7           의복의류     D05A01           일반의류  G47416  ...  1162010200114800...   \n",
       "8         가전제품소매     D12A01         일반가전제품  G47320  ...  1138010700101090...   \n",
       "9          종합소매점     D03B04        시장/종합상가  G47129  ...  1141010400101670...   \n",
       "10       건강/미용식품     D10A04         건강식품판매  G47216  ...  1147010100110130...   \n",
       "11            양식     Q06A05        패밀리레스토랑  I56114  ...  1141011300100850...   \n",
       "12    가정/주방/인테리어     D07A10      조명기구/전기용품  G47591  ...  1111015700100800...   \n",
       "13            한식     Q01A09           설렁탕집  I56111  ...  1147010100102960...   \n",
       "14     사무/문구/컴퓨터     D08A05        컴퓨터전문매장  G47311  ...  1141011000101560...   \n",
       "15       이/미용/건강     F01A01          여성미용실  S96112  ...  1129011600100850...   \n",
       "16         부동산중개     L01A01          부동산중개  L68221  ...  1126010300101100...   \n",
       "17         종합소매점     D03A01            편의점  G47122  ...  1117013000102430...   \n",
       "18       이/미용/건강     F01A01          여성미용실  S96112  ...  1147010300104430...   \n",
       "19        일식/수산물     Q03A02         음식점-일식  I56113  ...  1150010300110680...   \n",
       "\n",
       "     bldNm              rdnmAdr oldZipcd newZipcd dongNo flrNo hoNo  \\\n",
       "0    신사동빌딩  서울특별시 강남구 논현로154길 5   135893    06025            1        \n",
       "1           서울특별시 노원구 한글비석로2...   139220    01662            2        \n",
       "2     일조산업   서울특별시 성동구 광나루로 290   133120    04796                     \n",
       "3            서울특별시 동대문구 고미술로 81   130032    02622            1        \n",
       "4           서울특별시 용산구 후암로57길...   140821    04324                     \n",
       "5              서울특별시 서초구 원터4길 3   137150    06806            2        \n",
       "6              서울특별시 동대문구 종암로 6   130865    02465            1        \n",
       "7     계림빌딩  서울특별시 관악구 난곡로57길 11   151894    08771            2        \n",
       "8             서울특별시 은평구 은평로 122   122010    03454            1        \n",
       "9     로얄빌딩   서울특별시 서대문구 통일로 111   120020    03738            1        \n",
       "10  성배법조빌딩    서울특별시 양천구 신월로 369   158070    08021                     \n",
       "11   하늬솔빌딩   서울특별시 서대문구 성산로 527   120160    03721      A     1        \n",
       "12           서울특별시 종로구 창경궁로 127   110410    03136            1        \n",
       "13             서울특별시 양천구 신목로 56   158070    08015                     \n",
       "14           서울특별시 서대문구 신촌로 249   120821    03774                     \n",
       "15          서울특별시 성북구 동소문로22...   136051    02845            2        \n",
       "16            서울특별시 중랑구 봉화산로 76   131120    02089            1        \n",
       "17          서울특별시 용산구 회나무로44...   140200    04346            1        \n",
       "18             서울특별시 양천구 오목로 41   158090    07930            1        \n",
       "19    동인빌딩    서울특별시 강서구 화곡로 119   157010    07711                     \n",
       "\n",
       "           lon        lat  \n",
       "0   127.028616  37.521818  \n",
       "1   127.074146  37.661098  \n",
       "2   127.061970  37.547705  \n",
       "3   127.055701  37.565595  \n",
       "4   126.974149  37.551236  \n",
       "5   127.055836  37.443503  \n",
       "6   127.036595  37.590976  \n",
       "7   126.914212  37.479482  \n",
       "8   126.921329  37.600043  \n",
       "9   126.967217  37.564800  \n",
       "10  126.861992  37.522403  \n",
       "11  126.944072  37.563766  \n",
       "12  126.997296  37.573790  \n",
       "13  126.872936  37.519849  \n",
       "14  126.953668  37.557472  \n",
       "15  127.018438  37.591403  \n",
       "16  127.082755  37.601606  \n",
       "17  126.995255  37.539470  \n",
       "18  126.842187  37.522183  \n",
       "19  126.835093  37.540431  \n",
       "\n",
       "[20 rows x 39 columns]"
      ]
     },
     "execution_count": 41,
     "metadata": {},
     "output_type": "execute_result"
    }
   ],
   "source": [
    "df= baro_api(skey, res_id, encode)\n",
    "df"
   ]
  },
  {
   "cell_type": "markdown",
   "id": "0d3268d5",
   "metadata": {},
   "source": [
    "### 과제0728_6\n",
    "- 매뉴얼에서 컬럼 뭔지 파악하세요"
   ]
  },
  {
   "cell_type": "code",
   "execution_count": 75,
   "id": "98a43475",
   "metadata": {},
   "outputs": [],
   "source": [
    "col_kor = \"\"\"\n",
    "상가업소번호, 상호명, 지점명, \n",
    "\n",
    "상권업종대분류코드, 상권업종대분류명,\n",
    "상권업종중분류코드,상권업종중분류명,\n",
    "상권업종소분류코드,상권업종소분류명,\n",
    "표준산업분류코드,표준산업분류명,\n",
    "\n",
    "시도코드,시도명, 시군구코드,시군구명,\n",
    "행정동코드,행정동명,\n",
    "법정동코드,법정동명,\n",
    "\n",
    "PNU코드,\n",
    "\n",
    "대지구분코드,대지구분명,\n",
    "지번본번지,지번부번지,지번주소,\n",
    "도로명코드,도로명,\n",
    "건물본번지,건물부번지,건물관리번호,건물명,\n",
    "도로명주소,\n",
    "구우편번호,신우편번호,\n",
    "동정보,층정보,호정보,\n",
    "경도,위도\n",
    "\"\"\"\n",
    "\n",
    "col_kor = col_kor.replace(\"\\n\", \"\").split(\",\")"
   ]
  },
  {
   "cell_type": "code",
   "execution_count": 76,
   "id": "87929806",
   "metadata": {
    "scrolled": true
   },
   "outputs": [],
   "source": [
    "col_en = df.columns"
   ]
  },
  {
   "cell_type": "code",
   "execution_count": 77,
   "id": "5042162a",
   "metadata": {},
   "outputs": [
    {
     "name": "stdout",
     "output_type": "stream",
     "text": [
      "bizesId : 상가업소번호\n",
      "bizesNm :  상호명\n",
      "brchNm :  지점명\n",
      "indsLclsCd :  상권업종대분류코드\n",
      "indsLclsNm :  상권업종대분류명\n",
      "indsMclsCd : 상권업종중분류코드\n",
      "indsMclsNm : 상권업종중분류명\n",
      "indsSclsCd : 상권업종소분류코드\n",
      "indsSclsNm : 상권업종소분류명\n",
      "ksicCd : 표준산업분류코드\n",
      "ksicNm : 표준산업분류명\n",
      "ctprvnCd : 시도코드\n",
      "ctprvnNm : 시도명\n",
      "signguCd :  시군구코드\n",
      "signguNm : 시군구명\n",
      "adongCd : 행정동코드\n",
      "adongNm : 행정동명\n",
      "ldongCd : 법정동코드\n",
      "ldongNm : 법정동명\n",
      "lnoCd : PNU코드\n",
      "plotSctCd : 대지구분코드\n",
      "plotSctNm : 대지구분명\n",
      "lnoMnno : 지번본번지\n",
      "lnoSlno : 지번부번지\n",
      "lnoAdr : 지번주소\n",
      "rdnmCd : 도로명코드\n",
      "rdnm : 도로명\n",
      "bldMnno : 건물본번지\n",
      "bldSlno : 건물부번지\n",
      "bldMngNo : 건물관리번호\n",
      "bldNm : 건물명\n",
      "rdnmAdr : 도로명주소\n",
      "oldZipcd : 구우편번호\n",
      "newZipcd : 신우편번호\n",
      "dongNo : 동정보\n",
      "flrNo : 층정보\n",
      "hoNo : 호정보\n",
      "lon : 경도\n",
      "lat : 위도\n"
     ]
    }
   ],
   "source": [
    "for i, j in zip(col_en, col_kor):\n",
    "    print(f'{i} : {j}')"
   ]
  },
  {
   "cell_type": "code",
   "execution_count": null,
   "id": "b7b3b3ba",
   "metadata": {},
   "outputs": [],
   "source": []
  },
  {
   "cell_type": "code",
   "execution_count": null,
   "id": "0fa440cd",
   "metadata": {},
   "outputs": [],
   "source": []
  },
  {
   "cell_type": "code",
   "execution_count": null,
   "id": "6346b381",
   "metadata": {},
   "outputs": [],
   "source": []
  },
  {
   "cell_type": "code",
   "execution_count": null,
   "id": "1e8b9fea",
   "metadata": {},
   "outputs": [],
   "source": []
  },
  {
   "cell_type": "code",
   "execution_count": null,
   "id": "09f98540",
   "metadata": {},
   "outputs": [],
   "source": []
  }
 ],
 "metadata": {
  "kernelspec": {
   "display_name": "Python 3 (ipykernel)",
   "language": "python",
   "name": "python3"
  },
  "language_info": {
   "codemirror_mode": {
    "name": "ipython",
    "version": 3
   },
   "file_extension": ".py",
   "mimetype": "text/x-python",
   "name": "python",
   "nbconvert_exporter": "python",
   "pygments_lexer": "ipython3",
   "version": "3.8.13"
  },
  "toc": {
   "base_numbering": 1,
   "nav_menu": {},
   "number_sections": true,
   "sideBar": true,
   "skip_h1_title": false,
   "title_cell": "Table of Contents",
   "title_sidebar": "Contents",
   "toc_cell": false,
   "toc_position": {
    "height": "calc(100% - 180px)",
    "left": "10px",
    "top": "150px",
    "width": "246px"
   },
   "toc_section_display": true,
   "toc_window_display": true
  }
 },
 "nbformat": 4,
 "nbformat_minor": 5
}
