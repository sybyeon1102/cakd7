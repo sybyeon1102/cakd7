{
 "cells": [
  {
   "cell_type": "markdown",
   "id": "79635fc5",
   "metadata": {},
   "source": [
    "# 0725"
   ]
  },
  {
   "cell_type": "markdown",
   "id": "1a0fbd2d",
   "metadata": {},
   "source": [
    "- 정규식"
   ]
  },
  {
   "cell_type": "code",
   "execution_count": 1,
   "id": "be55f957",
   "metadata": {},
   "outputs": [],
   "source": [
    "import re\n",
    "from datetime import datetime"
   ]
  },
  {
   "cell_type": "markdown",
   "id": "400d708d",
   "metadata": {},
   "source": [
    "## Q32. text에서 전체문장 모두 출력하세요."
   ]
  },
  {
   "cell_type": "code",
   "execution_count": 8,
   "id": "fca6c279",
   "metadata": {},
   "outputs": [
    {
     "name": "stdout",
     "output_type": "stream",
     "text": [
      "what are you doing?\n",
      "it is going to be late for school\n",
      "we need to hurry up\n"
     ]
    }
   ],
   "source": [
    "text = \"what are you doing?\\nit is going to be late for school\\nwe need to hurry up\"\n",
    "regex = re.compile('(.*\\s*)+')\n",
    "mo = regex.search(text)\n",
    "print(mo.group())"
   ]
  },
  {
   "cell_type": "markdown",
   "id": "e12cce63",
   "metadata": {},
   "source": [
    "- re.compile() 의 옵션 re.DOTALL"
   ]
  },
  {
   "cell_type": "code",
   "execution_count": 9,
   "id": "50646051",
   "metadata": {
    "scrolled": true
   },
   "outputs": [
    {
     "name": "stdout",
     "output_type": "stream",
     "text": [
      "what are you doing?\n",
      "it is going to be late for school\n",
      "we need to hurry up\n"
     ]
    }
   ],
   "source": [
    "text = \"what are you doing?\\nit is going to be late for school\\nwe need to hurry up\"\n",
    "regex = re.compile('.*', re.DOTALL)\n",
    "mo = regex.search(text)\n",
    "print(mo.group())"
   ]
  },
  {
   "cell_type": "markdown",
   "id": "bc33b7e5",
   "metadata": {},
   "source": [
    "https://docs.python.org/3/library/re.html?highlight=re%20dotall#Flags"
   ]
  },
  {
   "cell_type": "markdown",
   "id": "19d690a3",
   "metadata": {},
   "source": [
    "## Q33. text에서 대소문자 구분없이 전체문장 모두 출력하세요\n",
    "- text = 'Friend fRiend friEnd FRIEND'"
   ]
  },
  {
   "cell_type": "code",
   "execution_count": 12,
   "id": "f531384c",
   "metadata": {},
   "outputs": [],
   "source": [
    "text = 'Friend fRiend friEnd FRIEND'"
   ]
  },
  {
   "cell_type": "code",
   "execution_count": 13,
   "id": "0e23a16a",
   "metadata": {
    "scrolled": false
   },
   "outputs": [
    {
     "name": "stdout",
     "output_type": "stream",
     "text": [
      "Friend\n",
      "fRiend\n",
      "friEnd\n",
      "FRIEND\n"
     ]
    }
   ],
   "source": [
    "for f in re.findall('[a-zA-Z]+', text):\n",
    "    print(f)"
   ]
  },
  {
   "cell_type": "markdown",
   "id": "a0ac888a",
   "metadata": {},
   "source": [
    "- re.compile() 의 옵션 re.IGNORECASE"
   ]
  },
  {
   "cell_type": "code",
   "execution_count": 14,
   "id": "be67eee5",
   "metadata": {
    "scrolled": true
   },
   "outputs": [
    {
     "name": "stdout",
     "output_type": "stream",
     "text": [
      "Friend\n",
      "fRiend\n",
      "friEnd\n",
      "FRIEND\n"
     ]
    }
   ],
   "source": [
    "p = re.compile('[a-z]+', re.IGNORECASE)\n",
    "for f in p.findall(text):\n",
    "    print(f)"
   ]
  },
  {
   "cell_type": "markdown",
   "id": "446e0f8d",
   "metadata": {},
   "source": [
    "## Q34. 1609160537.371015을 \"Sat Jun 26 08:35:03 2021\" 포멧으로 출력하세요.\n"
   ]
  },
  {
   "cell_type": "markdown",
   "id": "65fb7818",
   "metadata": {},
   "source": [
    "- https://docs.python.org/ko/3/library/datetime.html#strftime-and-strptime-format-codes"
   ]
  },
  {
   "cell_type": "code",
   "execution_count": 15,
   "id": "6e9eecd1",
   "metadata": {},
   "outputs": [
    {
     "data": {
      "text/plain": [
       "datetime.datetime(2020, 12, 28, 22, 2, 17, 371015)"
      ]
     },
     "execution_count": 15,
     "metadata": {},
     "output_type": "execute_result"
    }
   ],
   "source": [
    "dt = datetime.fromtimestamp(1609160537.371015)\n",
    "dt"
   ]
  },
  {
   "cell_type": "code",
   "execution_count": 16,
   "id": "2d33c1a0",
   "metadata": {},
   "outputs": [
    {
     "data": {
      "text/plain": [
       "'Mon Dec 28 22:02:17 2020'"
      ]
     },
     "execution_count": 16,
     "metadata": {},
     "output_type": "execute_result"
    }
   ],
   "source": [
    "dt.strftime('%a %b %d %H:%M:%S %Y')"
   ]
  },
  {
   "cell_type": "code",
   "execution_count": 17,
   "id": "36585edd",
   "metadata": {
    "scrolled": true
   },
   "outputs": [
    {
     "data": {
      "text/plain": [
       "'Mon Dec 28 22:02:17 2020'"
      ]
     },
     "execution_count": 17,
     "metadata": {},
     "output_type": "execute_result"
    }
   ],
   "source": [
    "dt.strftime('%c')"
   ]
  },
  {
   "cell_type": "code",
   "execution_count": 23,
   "id": "649c9a25",
   "metadata": {},
   "outputs": [
    {
     "data": {
      "text/plain": [
       "('Mon Dec 28 22:02:17 2020', str)"
      ]
     },
     "execution_count": 23,
     "metadata": {},
     "output_type": "execute_result"
    }
   ],
   "source": [
    "import time\n",
    "timestring=time.ctime(1609160537.371015)\n",
    "timestring, type(timestring)"
   ]
  },
  {
   "cell_type": "markdown",
   "id": "5543361b",
   "metadata": {},
   "source": [
    "## Q35. 현재 날짜와 시간을 \"Sat Jun 26 08:35:03 2021\" 포멧으로 출력하세요.\n"
   ]
  },
  {
   "cell_type": "code",
   "execution_count": 18,
   "id": "f86d2a4c",
   "metadata": {
    "scrolled": true
   },
   "outputs": [
    {
     "data": {
      "text/plain": [
       "'Tue Jul 26 09:15:19 2022'"
      ]
     },
     "execution_count": 18,
     "metadata": {},
     "output_type": "execute_result"
    }
   ],
   "source": [
    "now = datetime.now()\n",
    "now.strftime('%a %b %d %H:%M:%S %Y')"
   ]
  },
  {
   "cell_type": "code",
   "execution_count": 19,
   "id": "543793cb",
   "metadata": {},
   "outputs": [
    {
     "data": {
      "text/plain": [
       "'Tue Jul 26 09:15:19 2022'"
      ]
     },
     "execution_count": 19,
     "metadata": {},
     "output_type": "execute_result"
    }
   ],
   "source": [
    "now.strftime('%c')"
   ]
  },
  {
   "cell_type": "code",
   "execution_count": 24,
   "id": "e697dbda",
   "metadata": {},
   "outputs": [],
   "source": [
    "t = time.time()"
   ]
  },
  {
   "cell_type": "code",
   "execution_count": 25,
   "id": "f69e5b2d",
   "metadata": {},
   "outputs": [
    {
     "data": {
      "text/plain": [
       "1658794842.6454797"
      ]
     },
     "execution_count": 25,
     "metadata": {},
     "output_type": "execute_result"
    }
   ],
   "source": [
    "t"
   ]
  },
  {
   "cell_type": "code",
   "execution_count": null,
   "id": "cc43792c",
   "metadata": {},
   "outputs": [],
   "source": [
    "datatime"
   ]
  },
  {
   "cell_type": "code",
   "execution_count": null,
   "id": "917c1195",
   "metadata": {},
   "outputs": [],
   "source": []
  },
  {
   "cell_type": "markdown",
   "id": "caa68795",
   "metadata": {},
   "source": [
    "# 0726"
   ]
  },
  {
   "cell_type": "markdown",
   "id": "1640a260",
   "metadata": {},
   "source": [
    "## Q36. 현재 시간을 년-월-일 시:분:초로 출력하세요."
   ]
  },
  {
   "cell_type": "code",
   "execution_count": 4,
   "id": "0a4e041a",
   "metadata": {},
   "outputs": [],
   "source": [
    "from datetime import datetime"
   ]
  },
  {
   "cell_type": "code",
   "execution_count": 5,
   "id": "732bedcb",
   "metadata": {},
   "outputs": [
    {
     "data": {
      "text/plain": [
       "datetime.datetime(2022, 7, 27, 9, 18, 36, 68831)"
      ]
     },
     "execution_count": 5,
     "metadata": {},
     "output_type": "execute_result"
    }
   ],
   "source": [
    "now = datetime.now()\n",
    "now"
   ]
  },
  {
   "cell_type": "code",
   "execution_count": 6,
   "id": "eeadc214",
   "metadata": {},
   "outputs": [
    {
     "name": "stdout",
     "output_type": "stream",
     "text": [
      "2022-07-27 09:18:36\n"
     ]
    }
   ],
   "source": [
    "print(now.strftime('%Y-%m-%d %H:%M:%S'))"
   ]
  },
  {
   "cell_type": "markdown",
   "id": "1b613256",
   "metadata": {},
   "source": [
    "## Q37. 현재 시간을 time.time을 불러와서 년-월-일 시:분:초로 출력하세요."
   ]
  },
  {
   "cell_type": "code",
   "execution_count": 7,
   "id": "eec14816",
   "metadata": {},
   "outputs": [
    {
     "data": {
      "text/plain": [
       "1658881116.958165"
      ]
     },
     "execution_count": 7,
     "metadata": {},
     "output_type": "execute_result"
    }
   ],
   "source": [
    "import time\n",
    "now = time.time()\n",
    "now"
   ]
  },
  {
   "cell_type": "code",
   "execution_count": 8,
   "id": "9c097c80",
   "metadata": {},
   "outputs": [
    {
     "data": {
      "text/plain": [
       "datetime.datetime(2022, 7, 27, 9, 18, 36, 958165)"
      ]
     },
     "execution_count": 8,
     "metadata": {},
     "output_type": "execute_result"
    }
   ],
   "source": [
    "dt = datetime.fromtimestamp(now)\n",
    "dt"
   ]
  },
  {
   "cell_type": "code",
   "execution_count": 9,
   "id": "0f271944",
   "metadata": {},
   "outputs": [
    {
     "name": "stdout",
     "output_type": "stream",
     "text": [
      "2022-07-27 09:18:36\n"
     ]
    }
   ],
   "source": [
    "print(dt.strftime('%Y-%m-%d %H:%M:%S'))"
   ]
  },
  {
   "cell_type": "markdown",
   "id": "21ea4eba",
   "metadata": {},
   "source": [
    "## Q38. 올해 경과된 날짜수 계산하세요 1/1 ~ 현재까지"
   ]
  },
  {
   "cell_type": "code",
   "execution_count": 10,
   "id": "fe1d7fd8",
   "metadata": {},
   "outputs": [],
   "source": [
    "from datetime import timedelta"
   ]
  },
  {
   "cell_type": "code",
   "execution_count": 11,
   "id": "08532024",
   "metadata": {},
   "outputs": [],
   "source": [
    "now = datetime.now()"
   ]
  },
  {
   "cell_type": "code",
   "execution_count": 12,
   "id": "f7f0e5c5",
   "metadata": {},
   "outputs": [],
   "source": [
    "td = now - datetime(2022, 1, 1)"
   ]
  },
  {
   "cell_type": "code",
   "execution_count": 13,
   "id": "f70db984",
   "metadata": {},
   "outputs": [
    {
     "data": {
      "text/plain": [
       "datetime.timedelta(days=207, seconds=33518, microseconds=648884)"
      ]
     },
     "execution_count": 13,
     "metadata": {},
     "output_type": "execute_result"
    }
   ],
   "source": [
    "td"
   ]
  },
  {
   "cell_type": "code",
   "execution_count": 14,
   "id": "eb4c5a5d",
   "metadata": {
    "scrolled": true
   },
   "outputs": [
    {
     "name": "stdout",
     "output_type": "stream",
     "text": [
      "207 일차\n"
     ]
    }
   ],
   "source": [
    "print(td.days, '일차')"
   ]
  },
  {
   "cell_type": "markdown",
   "id": "d49c5fc2",
   "metadata": {},
   "source": [
    "## Q39. 현재 요일을 \"2021-6-26 오늘은 토요일입니다.\"와 같은 형식으로 출력하세요.\n"
   ]
  },
  {
   "cell_type": "code",
   "execution_count": 15,
   "id": "3c4ba6b6",
   "metadata": {},
   "outputs": [],
   "source": [
    "from datetime import datetime"
   ]
  },
  {
   "cell_type": "code",
   "execution_count": 16,
   "id": "e062adc3",
   "metadata": {},
   "outputs": [
    {
     "data": {
      "text/plain": [
       "datetime.datetime(2022, 7, 27, 9, 19, 5, 702497)"
      ]
     },
     "execution_count": 16,
     "metadata": {},
     "output_type": "execute_result"
    }
   ],
   "source": [
    "dt = datetime.now()\n",
    "dt"
   ]
  },
  {
   "cell_type": "code",
   "execution_count": 17,
   "id": "9e395d30",
   "metadata": {},
   "outputs": [
    {
     "data": {
      "text/plain": [
       "['월', '화', '수', '목', '금', '토', '일']"
      ]
     },
     "execution_count": 17,
     "metadata": {},
     "output_type": "execute_result"
    }
   ],
   "source": [
    "weekday = ['월', '화', '수', '목', '금', '토', '일']\n",
    "weekday"
   ]
  },
  {
   "cell_type": "code",
   "execution_count": 18,
   "id": "1ec00841",
   "metadata": {},
   "outputs": [
    {
     "name": "stdout",
     "output_type": "stream",
     "text": [
      "2022-7-27 오늘은 수요일 입니다.\n"
     ]
    }
   ],
   "source": [
    "print(f'{dt.year}-{dt.month}-{dt.day} 오늘은 {weekday[dt.weekday()]}요일 입니다.')"
   ]
  },
  {
   "cell_type": "markdown",
   "id": "f775f24d",
   "metadata": {},
   "source": [
    "## Q40. 1에서 백만까지 더하는데 걸리는 프로그램 실행 시간을 밀리초(ms) 단위로 구하세요.\n"
   ]
  },
  {
   "cell_type": "code",
   "execution_count": 21,
   "id": "370a7bc3",
   "metadata": {},
   "outputs": [
    {
     "name": "stdout",
     "output_type": "stream",
     "text": [
      "CPU times: total: 125 ms\n",
      "Wall time: 122 ms\n"
     ]
    }
   ],
   "source": [
    "sum_ = 0\n",
    "\n",
    "%time for i in range(1, 10**6+1): sum_ += i"
   ]
  },
  {
   "cell_type": "code",
   "execution_count": 22,
   "id": "8cbbe0f9",
   "metadata": {},
   "outputs": [
    {
     "name": "stdout",
     "output_type": "stream",
     "text": [
      "걸린 시간 :  119 ms\n"
     ]
    }
   ],
   "source": [
    "from timeit import default_timer as timer\n",
    "\n",
    "start = timer()\n",
    "\n",
    "sum_ = 0\n",
    "for i in range(1, 10**6+1): \n",
    "    sum_ += i\n",
    "\n",
    "end = timer()\n",
    "\n",
    "print(\"걸린 시간 : \", round((end - start)*10**3), 'ms')  # seconds"
   ]
  },
  {
   "cell_type": "code",
   "execution_count": 23,
   "id": "701bc223",
   "metadata": {
    "scrolled": true
   },
   "outputs": [
    {
     "data": {
      "text/plain": [
       "'0.11885sec'"
      ]
     },
     "execution_count": 23,
     "metadata": {},
     "output_type": "execute_result"
    }
   ],
   "source": [
    "f\"{end-start:.5f}sec\""
   ]
  },
  {
   "cell_type": "code",
   "execution_count": 24,
   "id": "8c411780",
   "metadata": {},
   "outputs": [
    {
     "name": "stdout",
     "output_type": "stream",
     "text": [
      "CPU times: total: 46.9 ms\n",
      "Wall time: 40.5 ms\n"
     ]
    },
    {
     "data": {
      "text/plain": [
       "500000500000"
      ]
     },
     "execution_count": 24,
     "metadata": {},
     "output_type": "execute_result"
    }
   ],
   "source": [
    "%time sum(range(1, 10**6+1))"
   ]
  },
  {
   "cell_type": "code",
   "execution_count": null,
   "id": "ac6c566d",
   "metadata": {},
   "outputs": [],
   "source": []
  },
  {
   "cell_type": "code",
   "execution_count": null,
   "id": "cff146bc",
   "metadata": {},
   "outputs": [],
   "source": []
  },
  {
   "cell_type": "markdown",
   "id": "2f922a0d",
   "metadata": {},
   "source": [
    "# 0727"
   ]
  },
  {
   "cell_type": "markdown",
   "id": "28339eed",
   "metadata": {},
   "source": [
    "## Q41. 아래 코드를 보완하여 발생 가능한 모든 예외(정수, 인덱스, 미리 파악하지 못한 예외)를 처리한 후 마지막에  '모든 예외처리 완료'를 출력하세요."
   ]
  },
  {
   "cell_type": "code",
   "execution_count": 18,
   "id": "8a5453ad",
   "metadata": {},
   "outputs": [
    {
     "name": "stdout",
     "output_type": "stream",
     "text": [
      "정수 입력> 2\n",
      "2번째 요소: 273\n"
     ]
    }
   ],
   "source": [
    "list_num = [52,273,32,72,100]\n",
    "\n",
    "num_input = int(input('정수 입력> '))\n",
    "print(f'{num_input}번째 요소: {list_num[num_input-1]}')\n"
   ]
  },
  {
   "cell_type": "code",
   "execution_count": 19,
   "id": "1e3a186c",
   "metadata": {},
   "outputs": [
    {
     "name": "stdout",
     "output_type": "stream",
     "text": [
      "정수 입력>6591\n",
      "인덱스를 벗어났습니다.\n"
     ]
    }
   ],
   "source": [
    "list_num = [52, 273, 32, 72, 100]\n",
    "input_num = input(\"정수 입력>\")\n",
    "\n",
    "#==== 정수를 입력하기 전까진 못 나간다. ====#\n",
    "while True:\n",
    "    try:\n",
    "        input_num = int(input_num)\n",
    "        break;\n",
    "    except ValueError:\n",
    "        print(\"정수를 입력해 주세요.\")\n",
    "        input_num = input(\"정수 입력>\")\n",
    "\n",
    "try:\n",
    "    print(f'{input_num}번째 요소: {list_num[input_num-1]}')\n",
    "except IndexError:\n",
    "    print('인덱스를 벗어났습니다.')"
   ]
  },
  {
   "cell_type": "code",
   "execution_count": 20,
   "id": "5216f95b",
   "metadata": {},
   "outputs": [
    {
     "name": "stdout",
     "output_type": "stream",
     "text": [
      "정수 입력>yfuy\n",
      "정수를 입력해 주세요.\n",
      "\n",
      "정수 입력>5664\n",
      "인덱스를 벗어났습니다. 1이상 5이하의 값을 입력해주세요.\n",
      "\n",
      "정수 입력>4\n",
      "4번째 요소: 72\n"
     ]
    }
   ],
   "source": [
    "list_num = [52, 273, 32, 72, 100]\n",
    "input_num = input(\"정수 입력>\")\n",
    "\n",
    "while True:\n",
    "    try:\n",
    "        input_num = int(input_num)\n",
    "        print(f'{input_num}번째 요소: {list_num[input_num-1]}')\n",
    "        break;\n",
    "    except ValueError:\n",
    "        print(\"정수를 입력해 주세요.\\n\")\n",
    "        input_num = input(\"정수 입력>\")\n",
    "    except IndexError:\n",
    "        print(f'인덱스를 벗어났습니다. {1}이상 {len(list_num)}이하의 값을 입력해주세요.\\n')\n",
    "        input_num = input(\"정수 입력>\")"
   ]
  },
  {
   "cell_type": "code",
   "execution_count": null,
   "id": "8536b806",
   "metadata": {},
   "outputs": [],
   "source": []
  },
  {
   "cell_type": "markdown",
   "id": "02ab9459",
   "metadata": {},
   "source": [
    "## Q42. 기본가격 1000원인 2개의 상품에 대하여 임의의 추가 가격을 입력시 가격 조정한 결과를 반환하는 Price 클래스를 생성 후 객체를 만들어 price1, price2를 수행하세요. \n",
    "- price1 : 기본가격 + 추가가격\n",
    "- price2 : (기본가격 + 추가가격) * 90%\n"
   ]
  },
  {
   "cell_type": "code",
   "execution_count": 21,
   "id": "ac46c708",
   "metadata": {},
   "outputs": [],
   "source": [
    "class ModifyPrice:\n",
    "    oPrice = 1000\n",
    "    def price1(self, priceAdded):\n",
    "        return self.oPrice + priceAdded\n",
    "    def price2(self, priceAdded):\n",
    "        return round((self.oPrice + priceAdded)*0.9)"
   ]
  },
  {
   "cell_type": "code",
   "execution_count": 22,
   "id": "d440269b",
   "metadata": {},
   "outputs": [],
   "source": [
    "m = ModifyPrice()"
   ]
  },
  {
   "cell_type": "code",
   "execution_count": 23,
   "id": "fe6d283c",
   "metadata": {},
   "outputs": [
    {
     "data": {
      "text/plain": [
       "1000"
      ]
     },
     "execution_count": 23,
     "metadata": {},
     "output_type": "execute_result"
    }
   ],
   "source": [
    "m.oPrice"
   ]
  },
  {
   "cell_type": "code",
   "execution_count": 24,
   "id": "5e431958",
   "metadata": {},
   "outputs": [
    {
     "data": {
      "text/plain": [
       "1100"
      ]
     },
     "execution_count": 24,
     "metadata": {},
     "output_type": "execute_result"
    }
   ],
   "source": [
    "m.price1(100)"
   ]
  },
  {
   "cell_type": "code",
   "execution_count": 25,
   "id": "c3bac2d8",
   "metadata": {},
   "outputs": [
    {
     "data": {
      "text/plain": [
       "1080"
      ]
     },
     "execution_count": 25,
     "metadata": {},
     "output_type": "execute_result"
    }
   ],
   "source": [
    "m.price2(200)"
   ]
  },
  {
   "cell_type": "code",
   "execution_count": null,
   "id": "19067a04",
   "metadata": {},
   "outputs": [],
   "source": []
  },
  {
   "cell_type": "markdown",
   "id": "dde11e2b",
   "metadata": {},
   "source": [
    "## Q43. strings를 문자의 크기 순서로 내림차순 정렬하세요"
   ]
  },
  {
   "cell_type": "code",
   "execution_count": 38,
   "id": "4999eebb",
   "metadata": {},
   "outputs": [
    {
     "data": {
      "text/plain": [
       "['ababa', 'aaaa', 'bar', 'ca', 'a']"
      ]
     },
     "execution_count": 38,
     "metadata": {},
     "output_type": "execute_result"
    }
   ],
   "source": [
    "strings = ['a', 'ca', 'bar', 'aaaa', 'ababa']\n",
    "strings.sort(key=lambda e:len(e), reverse=True)\n",
    "strings"
   ]
  },
  {
   "cell_type": "code",
   "execution_count": 39,
   "id": "2445ff41",
   "metadata": {},
   "outputs": [
    {
     "name": "stdout",
     "output_type": "stream",
     "text": [
      "['ababa', 'aaaa', 'bar', 'ca', 'a']\n"
     ]
    }
   ],
   "source": [
    "strings = ['a', 'ca', 'bar', 'aaaa', 'ababa']\n",
    "strings.sort(key=len, reverse=True) # key 자체가 function을 넣는 것.\n",
    "print(strings)"
   ]
  },
  {
   "cell_type": "code",
   "execution_count": null,
   "id": "d123a0af",
   "metadata": {},
   "outputs": [],
   "source": []
  },
  {
   "cell_type": "markdown",
   "id": "244a5e16",
   "metadata": {},
   "source": [
    "## Q44. strings를 다양한 문자가 포함된 순서로 정렬하세요"
   ]
  },
  {
   "cell_type": "code",
   "execution_count": 29,
   "id": "bef5722d",
   "metadata": {},
   "outputs": [
    {
     "data": {
      "text/plain": [
       "['card', 'bar', 'foo', 'abab', 'aaaa']"
      ]
     },
     "execution_count": 29,
     "metadata": {},
     "output_type": "execute_result"
    }
   ],
   "source": [
    "strings = ['foo', 'card', 'bar', 'aaaa', 'abab']\n",
    "strings.sort(key = lambda x:len(set(x)), reverse=True)\n",
    "strings"
   ]
  },
  {
   "cell_type": "code",
   "execution_count": null,
   "id": "f7c6de39",
   "metadata": {},
   "outputs": [],
   "source": []
  },
  {
   "cell_type": "markdown",
   "id": "90ae4b28",
   "metadata": {},
   "source": [
    "## Q45. 'abcde' 를 'edcba'로 바꾸어 출력하세요.(5가지 방법)\n"
   ]
  },
  {
   "cell_type": "markdown",
   "id": "8f3ad96e",
   "metadata": {},
   "source": [
    "- indexing"
   ]
  },
  {
   "cell_type": "code",
   "execution_count": 30,
   "id": "033292f2",
   "metadata": {},
   "outputs": [
    {
     "data": {
      "text/plain": [
       "'edcba'"
      ]
     },
     "execution_count": 30,
     "metadata": {},
     "output_type": "execute_result"
    }
   ],
   "source": [
    "string = 'abcde'\n",
    "string[::-1]"
   ]
  },
  {
   "cell_type": "markdown",
   "id": "07979623",
   "metadata": {},
   "source": [
    " - sort"
   ]
  },
  {
   "cell_type": "code",
   "execution_count": 31,
   "id": "4c1f3d46",
   "metadata": {},
   "outputs": [
    {
     "data": {
      "text/plain": [
       "'edcba'"
      ]
     },
     "execution_count": 31,
     "metadata": {},
     "output_type": "execute_result"
    }
   ],
   "source": [
    "string = 'abcde'\n",
    "string = list(string)\n",
    "string.sort(reverse=True)\n",
    "string = \"\".join(string)\n",
    "string"
   ]
  },
  {
   "cell_type": "markdown",
   "id": "51e46d54",
   "metadata": {},
   "source": [
    "-  sorted"
   ]
  },
  {
   "cell_type": "code",
   "execution_count": 32,
   "id": "d84ae69d",
   "metadata": {},
   "outputs": [
    {
     "data": {
      "text/plain": [
       "'edcba'"
      ]
     },
     "execution_count": 32,
     "metadata": {},
     "output_type": "execute_result"
    }
   ],
   "source": [
    "string = 'abcde'\n",
    "string = list(string)\n",
    "string = sorted(string, reverse=True)\n",
    "string = \"\".join(string)\n",
    "string"
   ]
  },
  {
   "cell_type": "markdown",
   "id": "397f0264",
   "metadata": {},
   "source": [
    "- reverse"
   ]
  },
  {
   "cell_type": "code",
   "execution_count": 33,
   "id": "7c20d8fa",
   "metadata": {},
   "outputs": [
    {
     "data": {
      "text/plain": [
       "'edcba'"
      ]
     },
     "execution_count": 33,
     "metadata": {},
     "output_type": "execute_result"
    }
   ],
   "source": [
    "string = 'abcde'\n",
    "string = list(string)\n",
    "string.reverse()\n",
    "string = \"\".join(string)\n",
    "string"
   ]
  },
  {
   "cell_type": "markdown",
   "id": "a54baf47",
   "metadata": {},
   "source": [
    "- reversed"
   ]
  },
  {
   "cell_type": "code",
   "execution_count": 34,
   "id": "c2c142d1",
   "metadata": {
    "scrolled": true
   },
   "outputs": [
    {
     "data": {
      "text/plain": [
       "'edcba'"
      ]
     },
     "execution_count": 34,
     "metadata": {},
     "output_type": "execute_result"
    }
   ],
   "source": [
    "string = 'abcde'\n",
    "string = list(string)\n",
    "string = reversed(string)\n",
    "string = \"\".join(string)\n",
    "string"
   ]
  },
  {
   "cell_type": "markdown",
   "id": "489c95d9",
   "metadata": {},
   "source": [
    "# 0728"
   ]
  },
  {
   "cell_type": "markdown",
   "id": "dcc764e9",
   "metadata": {},
   "source": [
    "## Q46. numbers 내부에 들어 있는 숫자가 몇 번 등장하는지를 출력하는 코드를 작성하세요.\n",
    "numbers = [3,6,3,5,8,2,9,7,4,3,6,3,5,8,2,9,7,4]"
   ]
  },
  {
   "cell_type": "code",
   "execution_count": 17,
   "id": "d3aa818a",
   "metadata": {},
   "outputs": [],
   "source": [
    "numbers = [3,6,3,5,8,2,9,7,4,3,6,3,5,8,2,9,7,4]"
   ]
  },
  {
   "cell_type": "code",
   "execution_count": 18,
   "id": "b54cf19a",
   "metadata": {},
   "outputs": [],
   "source": [
    "set_num = set(numbers)"
   ]
  },
  {
   "cell_type": "code",
   "execution_count": 19,
   "id": "0f2b5039",
   "metadata": {},
   "outputs": [
    {
     "data": {
      "text/plain": [
       "{2, 3, 4, 5, 6, 7, 8, 9}"
      ]
     },
     "execution_count": 19,
     "metadata": {},
     "output_type": "execute_result"
    }
   ],
   "source": [
    "set_num"
   ]
  },
  {
   "cell_type": "code",
   "execution_count": 20,
   "id": "0366a203",
   "metadata": {},
   "outputs": [
    {
     "name": "stdout",
     "output_type": "stream",
     "text": [
      "2 는  2 개\n",
      "3 는  4 개\n",
      "4 는  2 개\n",
      "5 는  2 개\n",
      "6 는  2 개\n",
      "7 는  2 개\n",
      "8 는  2 개\n",
      "9 는  2 개\n"
     ]
    }
   ],
   "source": [
    "for num in set_num:\n",
    "    count = numbers.count(num)\n",
    "    print(f'{num} 는  {count} 개')"
   ]
  },
  {
   "cell_type": "markdown",
   "id": "c6ac22b0",
   "metadata": {},
   "source": [
    "## Q47. 코딩을 한줄로 작성해서 동일한 결과를 출력하세요\n"
   ]
  },
  {
   "cell_type": "code",
   "execution_count": 21,
   "id": "078d2108",
   "metadata": {},
   "outputs": [
    {
     "name": "stdout",
     "output_type": "stream",
     "text": [
      "[0, 4, 16, 36, 64, 100, 144, 196, 256, 324]\n"
     ]
    }
   ],
   "source": [
    "li = []\n",
    "for i in range(0,20,2):\n",
    "    li.append(i*i)\n",
    "print(li)"
   ]
  },
  {
   "cell_type": "code",
   "execution_count": 22,
   "id": "a7ee48a7",
   "metadata": {},
   "outputs": [
    {
     "name": "stdout",
     "output_type": "stream",
     "text": [
      "[0, 4, 16, 36, 64, 100, 144, 196, 256, 324]\n"
     ]
    }
   ],
   "source": [
    "print(list(map(lambda x : x**2, list(range(0, 20, 2)))))"
   ]
  },
  {
   "cell_type": "markdown",
   "id": "ae3ab90a",
   "metadata": {},
   "source": [
    "## Q48. 반복문으로 팩토리얼을 구하는 사용자 함수를 작성하고 5!, 10!를 구하세요."
   ]
  },
  {
   "cell_type": "code",
   "execution_count": 23,
   "id": "29d20b66",
   "metadata": {},
   "outputs": [],
   "source": [
    "def factorial(n):\n",
    "    if n < 0:\n",
    "        return None\n",
    "    result = 1\n",
    "    for i in range(1, n+1):\n",
    "        result *= i\n",
    "    return result"
   ]
  },
  {
   "cell_type": "code",
   "execution_count": 24,
   "id": "d4d761e2",
   "metadata": {},
   "outputs": [
    {
     "data": {
      "text/plain": [
       "(120, 3628800)"
      ]
     },
     "execution_count": 24,
     "metadata": {},
     "output_type": "execute_result"
    }
   ],
   "source": [
    "factorial(5), factorial(10)"
   ]
  },
  {
   "cell_type": "markdown",
   "id": "ce1532c9",
   "metadata": {},
   "source": [
    "## Q49. 재귀란 '자기자신을 호출하는 것'을 의미한다. 재귀함수를 이용해서 팩토리얼을 구하는 사용자 함수를 작성하고 1!, 5!, 10!를 구하세요.\n",
    "factorial(n) = n * factorial(n-1) (n >= 1)\n"
   ]
  },
  {
   "cell_type": "code",
   "execution_count": 25,
   "id": "904d0d53",
   "metadata": {},
   "outputs": [],
   "source": [
    "def factorialRec(n):\n",
    "    if n < 0:\n",
    "        return None\n",
    "    if (n == 1) or (n == 0):\n",
    "        return 1\n",
    "    return n*factorialRec(n - 1)"
   ]
  },
  {
   "cell_type": "code",
   "execution_count": 26,
   "id": "d5aaa89a",
   "metadata": {},
   "outputs": [
    {
     "data": {
      "text/plain": [
       "(1, 120, 3628800)"
      ]
     },
     "execution_count": 26,
     "metadata": {},
     "output_type": "execute_result"
    }
   ],
   "source": [
    "factorialRec(1), factorialRec(5), factorialRec(10)"
   ]
  },
  {
   "cell_type": "markdown",
   "id": "e207f308",
   "metadata": {},
   "source": [
    "## Q50. list a의 모든 원소를 실수형으로 바꾸어 출력하세요\n",
    "a = [1,2,3,4,5]"
   ]
  },
  {
   "cell_type": "code",
   "execution_count": 27,
   "id": "078870ff",
   "metadata": {},
   "outputs": [],
   "source": [
    "a = [1,2,3,4,5]"
   ]
  },
  {
   "cell_type": "code",
   "execution_count": 28,
   "id": "d6e70e32",
   "metadata": {},
   "outputs": [
    {
     "name": "stdout",
     "output_type": "stream",
     "text": [
      "[1.0, 2.0, 3.0, 4.0, 5.0]\n"
     ]
    }
   ],
   "source": [
    "print(a)"
   ]
  },
  {
   "cell_type": "markdown",
   "id": "9c79386b",
   "metadata": {},
   "source": [
    "### 예약어 사용시 처리"
   ]
  },
  {
   "cell_type": "code",
   "execution_count": 29,
   "id": "24e16a23",
   "metadata": {},
   "outputs": [],
   "source": [
    "list = [0, 1, 2]"
   ]
  },
  {
   "cell_type": "code",
   "execution_count": 31,
   "id": "a1cbd20b",
   "metadata": {},
   "outputs": [],
   "source": [
    "del list"
   ]
  },
  {
   "cell_type": "code",
   "execution_count": 32,
   "id": "fedbd800",
   "metadata": {},
   "outputs": [
    {
     "data": {
      "text/plain": [
       "[0, 1, 2, 3]"
      ]
     },
     "execution_count": 32,
     "metadata": {},
     "output_type": "execute_result"
    }
   ],
   "source": [
    "list([0, 1, 2, 3])"
   ]
  },
  {
   "cell_type": "code",
   "execution_count": null,
   "id": "24071e09",
   "metadata": {},
   "outputs": [],
   "source": []
  },
  {
   "cell_type": "code",
   "execution_count": null,
   "id": "4f4b4d1f",
   "metadata": {},
   "outputs": [],
   "source": []
  },
  {
   "cell_type": "markdown",
   "id": "90b24154",
   "metadata": {},
   "source": [
    "# 0729"
   ]
  },
  {
   "cell_type": "markdown",
   "id": "b46dcf89",
   "metadata": {},
   "source": [
    "## Q31. 문자열 리스트 states를 정형화하여 아래와 같이 출력하세요.\n",
    "```\n",
    "states = ['   Alabama ', 'Georgia!', 'Georgia', 'georgia', 'FlOrIda',\n",
    "          'south   carolina##', 'West virginia?']\n",
    "[출력]\n",
    "['Alabama',\n",
    " 'Georgia',\n",
    " 'Georgia',\n",
    " 'Georgia',\n",
    " 'Florida',\n",
    " 'South   Carolina',\n",
    " 'West Virginia']\n",
    "\n",
    "``` \n"
   ]
  },
  {
   "cell_type": "code",
   "execution_count": 1,
   "id": "602e70da",
   "metadata": {},
   "outputs": [],
   "source": [
    "states = ['   Alabama ', 'Georgia!', 'Georgia', 'georgia', 'FlOrIda',\n",
    "          'south   carolina##', 'West virginia?']"
   ]
  },
  {
   "cell_type": "code",
   "execution_count": 3,
   "id": "042892be",
   "metadata": {},
   "outputs": [],
   "source": [
    "import re"
   ]
  },
  {
   "cell_type": "code",
   "execution_count": 10,
   "id": "739ff3f1",
   "metadata": {},
   "outputs": [
    {
     "data": {
      "text/plain": [
       "'South Carolina'"
      ]
     },
     "execution_count": 10,
     "metadata": {},
     "output_type": "execute_result"
    }
   ],
   "source": [
    "def form(word):\n",
    "    word = word.strip()\n",
    "    word = re.sub('[^\\s*\\w*]+', \"\", word) # 특수기호 삭제\n",
    "    word = re.sub('\\s+', \" \", word) # 공백 문자는 space 1칸으로\n",
    "    word = word.title()\n",
    "    return word\n",
    "form(states[5])"
   ]
  },
  {
   "cell_type": "code",
   "execution_count": 7,
   "id": "dae1a08c",
   "metadata": {},
   "outputs": [],
   "source": [
    "states = ['   Alabama ', 'Georgia!', 'Georgia', 'georgia', 'FlOrIda',\n",
    "          'south   carolina##', 'West virginia?']"
   ]
  },
  {
   "cell_type": "code",
   "execution_count": 8,
   "id": "0e512d6e",
   "metadata": {},
   "outputs": [
    {
     "data": {
      "text/plain": [
       "'South   Carolina'"
      ]
     },
     "execution_count": 8,
     "metadata": {},
     "output_type": "execute_result"
    }
   ],
   "source": [
    "def form(word):\n",
    "    word = word.strip()\n",
    "    word = re.sub('[#!?]+', \"\", word) # 특수기호 삭제\n",
    "#     word = re.sub('\\s+', \" \", word) # 공백 문자는 space 1칸으로\n",
    "    word = word.title()\n",
    "    return word\n",
    "form(states[5])"
   ]
  },
  {
   "cell_type": "code",
   "execution_count": 9,
   "id": "c2444af3",
   "metadata": {},
   "outputs": [
    {
     "data": {
      "text/plain": [
       "['Alabama',\n",
       " 'Georgia',\n",
       " 'Georgia',\n",
       " 'Georgia',\n",
       " 'Florida',\n",
       " 'South   Carolina',\n",
       " 'West Virginia']"
      ]
     },
     "execution_count": 9,
     "metadata": {},
     "output_type": "execute_result"
    }
   ],
   "source": [
    "list(map(form, states))"
   ]
  },
  {
   "cell_type": "markdown",
   "id": "41761bb2",
   "metadata": {},
   "source": [
    "## Q51. 게시물의 총 건수와 한 페이지에 보여 줄 게시물 수를 입력시 총 페이지 수를 출력하는 프로그램\n"
   ]
  },
  {
   "cell_type": "code",
   "execution_count": 10,
   "id": "c1bda645",
   "metadata": {},
   "outputs": [],
   "source": [
    "def get_num_of_pages(total_post, per_page):\n",
    "    if total_post%per_page == 0:\n",
    "        return total_post//per_page\n",
    "    else:\n",
    "        return total_post//per_page + 1 "
   ]
  },
  {
   "cell_type": "code",
   "execution_count": 11,
   "id": "e0488bf5",
   "metadata": {},
   "outputs": [],
   "source": [
    "def get_nn_by_keybrd(inputMsg):\n",
    "    num = None\n",
    "    while type(num) !=  int:\n",
    "        num = input(inputMsg)\n",
    "        try:\n",
    "            num = int(num)\n",
    "        except ValueError:\n",
    "            print(\"자연수를 입력하세요.\")\n",
    "    return num"
   ]
  },
  {
   "cell_type": "code",
   "execution_count": 12,
   "id": "2b6b91de",
   "metadata": {},
   "outputs": [
    {
     "name": "stdout",
     "output_type": "stream",
     "text": [
      "총 게시물 수 입력>53\n",
      "페이지 당 게시물 수 입력>10\n",
      "총 페이지 수는 6입니다.\n"
     ]
    }
   ],
   "source": [
    "total_post = get_nn_by_keybrd(\"총 게시물 수 입력>\")\n",
    "per_page = get_nn_by_keybrd(\"페이지 당 게시물 수 입력>\")\n",
    "num_page = get_num_of_pages(total_post, per_page)\n",
    "print(f\"총 페이지 수는 {num_page}입니다.\")"
   ]
  },
  {
   "cell_type": "markdown",
   "id": "a9b8ca00",
   "metadata": {},
   "source": [
    "## Q52. 랜덤하게 1000명의 이름, 키와 몸무게 만들어 저장한 후 다시 불러내어 다음과 같이 출력하세요.\n",
    "\n",
    "- 이름 :라바\n",
    "- 몸무게: 80\n",
    "- 키: 146\n",
    "- BMI: 37.53049352598987\n",
    "- 결과: 과체중\n"
   ]
  },
  {
   "cell_type": "code",
   "execution_count": 60,
   "id": "c1023f3a",
   "metadata": {},
   "outputs": [
    {
     "name": "stdout",
     "output_type": "stream",
     "text": [
      "배 임 권 윤 허 함 조 박 안 민 홍 신 장 김 변 엄 이 차 나 원 천 채 노 방 진 공 문 정 백 심 전 우 서 현 구 남 지 한 고 염 송 황 류 성 손 강 곽 하 주 오 양 유 최 "
     ]
    }
   ],
   "source": [
    "# https://ko.wikipedia.org/wiki/대한민국의_인구순_성씨_목록\n",
    "familyNm = \"\"\"\n",
    "1\t김(金)\t10,689,959\t1\t9,925,949\t1\t8,785,341\n",
    "2\t이(李)\t7,306,828\t2\t6,794,637\t2\t5,985,056\n",
    "3\t박(朴)\t4,192,074\t3\t3,895,121\t3\t3,435,858\n",
    "4\t최(崔)\t2,333,927\t4\t2,169,704\t4\t1,913,329\n",
    "5\t정(鄭)\t2,151,879\t5\t2,010,117\t5\t1,780,734\n",
    "6\t강(姜)\t1,176,847\t6\t1,044,386\t6\t958,181\n",
    "7\t조(趙)\t1,055,567\t7\t984,913\t7\t877,058\n",
    "8\t윤(尹)\t1,020,547\t8\t948,600\t8\t834,121\n",
    "9\t장(張)\t992,721\t9\t919,339\t9\t810,235\n",
    "10\t임(林)\t823,921\t10\t762,767\t10\t672,782\n",
    "11\t한(韓)\t773,404\t12\t704,365\t11\t628,396\n",
    "12\t오(吳)\t763,281\t11\t706,908\t13\t619,774\n",
    "13\t서(徐)\t751,704\t14\t693,954\t14\t611,206\n",
    "14\t신(申)\t741,081\t13\t698,171\t12\t620,983\n",
    "15\t권(權)\t705,941\t15\t652,495\t15\t567,990\n",
    "16\t황(黃)\t697,171\t16\t644,294\t16\t564,292\n",
    "17\t안(安)\t685,639\t17\t637,786\t18\t556,429\n",
    "18\t송(宋)\t683,494\t18\t634,345\t17\t557,193\n",
    "19\t전(全)\t559,110\t21\t493,419\t21\t430,059\n",
    "20\t홍(洪)\t558,853\t20\t518,635\t20\t457,583\n",
    "21\t유(柳)*\t478,990\t19\t603,084\t19\t509,127\n",
    "22\t고(高)\t471,396\t22\t435,839\t22\t384,061\n",
    "23\t문(文)\t464,040\t23\t426,927\t23\t375,866\n",
    "24\t양(梁)\t460,600\t25\t389,152\t25\t344,209\n",
    "25\t손(孫)\t457,303\t24\t415,182\t24\t368,744\n",
    "26\t배(裵)\t400,641\t26\t372,064\t26\t323,031\n",
    "27\t조(曺)\t398,260\t27\t362,817\t28\t304,837\n",
    "28\t백(白)\t381,986\t28\t351,275\t27\t309,578\n",
    "29\t허(許)\t326,770\t29\t300,448\t29\t264,238\n",
    "30\t유(劉)\t302,511\t32\t242,889\t32\t218,449\n",
    "31\t남(南)\t275,648\t30\t257,178\t30\t222,269\n",
    "32\t심(沈)\t271,749\t31\t252,255\t31\t219,741\n",
    "33\t노(盧)\t256,229\t33\t220,354\t33\t196,285\n",
    "34\t정(丁)\t243,803\t36\t187,975\t36\t165,382\n",
    "35\t하(河)\t230,481\t34\t209,756\t34\t184,651\n",
    "36\t곽(郭)\t203,188\t37\t187,322\t38\t163,433\n",
    "37\t성(成)\t199,124\t38\t184,555\t37\t163,565\n",
    "38\t차(車)\t194,782\t39\t180,589\t39\t159,680\n",
    "39\t주(朱)\t194,766\t43\t176,232\t42\t153,508\n",
    "40\t우(禹)\t194,713\t42\t176,682\t41\t155,471\n",
    "41\t구(具)\t193,080\t41\t178,167\t40\t157,683\n",
    "42\t신(辛)\t192,877\t46\t167,621\t47\t137,874\n",
    "43\t임(任)\t191,261\t44\t172,726\t44\t147,700\n",
    "44\t전(田)\t186,469\t35\t188,354\t45\t146,664\n",
    "45\t민(閔)\t171,740\t47\t159,054\t46\t141,429\n",
    "46\t유(兪)\t167,927\t40\t178,209\t35\t168,082\n",
    "47\t류(柳)*\t163,703\t\t\t\t\n",
    "48\t나(羅)*\t160,946\t45\t172,022\t43\t150,012\n",
    "49\t진(陳)\t157,599\t48\t142,496\t49\t123,092\n",
    "50\t지(池)\t153,491\t49\t140,824\t48\t125,648\n",
    "51\t엄(嚴)\t144,425\t50\t132,990\t50\t116,039\n",
    "52\t채(蔡)\t131,557\t52\t114,069\t52\t97,650\n",
    "53\t원(元)\t129,522\t51\t119,356\t51\t104,535\n",
    "54\t천(千)\t121,780\t54\t103,811\t53\t97,419\n",
    "55\t방(方)\t94,831\t58\t81,710\t55\t81,469\n",
    "56\t공(孔)\t91,869\t56\t83,164\t56\t72,388\n",
    "57\t강(康)\t91,625\t53\t109,925\t58\t69,820\n",
    "58\t현(玄)\t88,824\t57\t81,807\t57\t72,164\n",
    "59\t함(咸)\t80,659\t60\t75,955\t59\t65,193\n",
    "60\t변(卞)\t78,156\t59\t78,685\t60\t64,147\n",
    "61\t염(廉)\t69,387\t62\t63,951\t61\t54,533\n",
    "62\t양(楊)\t69,101\t55\t93,416\t54\t81,589\n",
    "63\t변(邊)\t60,633\t65\t52,869\t63\t50,380\n",
    "\"\"\"\n",
    "\n",
    "import re\n",
    "\n",
    "familyNm = re.findall('[가-힣]+', familyNm)\n",
    "familyNm = list(set(familyNm))\n",
    "\n",
    "for fn in familyNm: print(fn, end=\" \")"
   ]
  },
  {
   "cell_type": "code",
   "execution_count": 61,
   "id": "6f5bd0da",
   "metadata": {
    "scrolled": true
   },
   "outputs": [
    {
     "name": "stdout",
     "output_type": "stream",
     "text": [
      "은경 영길 수빈 예진 민서 시우 수민 영미 서윤 화자 예은 순옥 영일 선영 준영 영진 서준 민석 영자 경자 영환 미숙 서현 성민 지원 옥순 종수 지연 동현 준혁 우진 민재 재호 영순 지영 민지 정식 정남 은주 명자 정훈 주원 미정 예지 하윤 현우 성수 정자 혜진 지우 도현 옥자 수진 예원 숙자 채원 춘자 미경 도윤 상현 민수 경수 정수 현지 중수 현정 순자 병철 아름 진호 준서 지민 지아 미영 영희 지훈 성진 예준 영철 정웅 현준 경숙 성호 승민 유진 상철 승현 지현 영식 지은 하은 은정 영호 상호 민준 진우 광수 준호 현주 서연 은영 성훈 영숙 은지 명숙 보람 은서 정순 정숙 지후 상훈 지혜 영수 정희 건우 윤서 현숙 경희 서영 정호 "
     ]
    }
   ],
   "source": [
    "# https://zetawiki.com/wiki/시대별_흔한_이름\n",
    "givenNm = \"\"\"\n",
    "영자\t순자\t영숙\t미경\t미영\t지영\t지혜\t유진\t서연\t서연\t서연\t서연\n",
    "2\t정자\t영자\t정숙\t미숙\t은정\t은정\t지은\t민지\t민서\t민서\t민서\t서윤\n",
    "3\t순자\t정순\t영희\t경희\t은주\t미영\t수진\t수빈\t서현\t지민\t서현\t지우\n",
    "4\t춘자\t정숙\t명숙\t경숙\t은영\t현정\t혜진\t지원\t수빈\t서현\t지우\t서현\n",
    "5\t경자\t영숙\t경숙\t영숙\t현주\t은주\t은지\t지현\t유진\t서윤\t서윤\t민서\n",
    "6\t옥자\t영순\t순자\t미영\t은경\t은영\t지영\t지은\t민지\t예은\t지민\t윤서\n",
    "7\t명자\t정자\t정희\t영미\t지영\t현주\t아름\t현지\t서영\t하은\t수빈\t채원\n",
    "8\t숙자\t영희\t순옥\t정희\t미경\t선영\t지현\t은지\t지원\t지우\t하은\t하윤\n",
    "9\t정순\t정희\t영순\t정숙\t현정\t지연\t지연\t예진\t수민\t수빈\t예은\t지아\n",
    "10\t화자\t옥순\t현숙\t현숙\t미정\t혜진\t보람\t예지\t예원\t윤서\t윤서\t은서\n",
    "1\t영수\t영수\t영수\t성호\t정훈\t정훈\t지훈\t동현\t민준\t민준\t민준\t민준\n",
    "2\t영호\t영호\t영철\t영수\t성호\t성훈\t성민\t지훈\t현우\t지훈\t지후\t서준\n",
    "3\t영식\t영식\t영호\t영호\t성훈\t상훈\t현우\t성민\t동현\t현우\t지훈\t주원\n",
    "4\t정웅\t영철\t영식\t영철\t성진\t성진\t정훈\t현우\t준혁\t준서\t준서\t예준\n",
    "5\t영길\t정수\t성수\t정호\t정호\t지훈\t동현\t준호\t민재\t우진\t현우\t시우\n",
    "6\t영일\t종수\t성호\t영진\t상훈\t성호\t준영\t민석\t도현\t건우\t예준\t준서\n",
    "7\t정수\t정식\t상철\t병철\t성민\t정호\t민수\t민수\t지훈\t예준\t건우\t도윤\n",
    "8\t정남\t정호\t종수\t진호\t영진\t준호\t준호\t준혁\t준영\t현준\t현준\t현우\n",
    "9\t광수\t영환\t경수\t성수\t상현\t성민\t상현\t준영\t현준\t도현\t민재\t건우\n",
    "10\t중수\t광수\t상호\t재호\t준호\t민수\t진우\t승현\t승민\t동현\t우진\t지훈\n",
    "\"\"\"\n",
    "\n",
    "givenNm = re.findall('[가-힣]+', givenNm)\n",
    "givenNm = list(set(givenNm))\n",
    "for gn in givenNm: print(gn, end=\" \")"
   ]
  },
  {
   "cell_type": "code",
   "execution_count": 62,
   "id": "9b8a7368",
   "metadata": {},
   "outputs": [],
   "source": [
    "import numpy as np\n",
    "import pandas as pd\n",
    "from numpy.random import randint"
   ]
  },
  {
   "cell_type": "code",
   "execution_count": 63,
   "id": "067711bf",
   "metadata": {},
   "outputs": [
    {
     "data": {
      "text/plain": [
       "(53, 120)"
      ]
     },
     "execution_count": 63,
     "metadata": {},
     "output_type": "execute_result"
    }
   ],
   "source": [
    "fnNum = len(familyNm) \n",
    "gnNum = len(givenNm)\n",
    "fnNum, gnNum"
   ]
  },
  {
   "cell_type": "code",
   "execution_count": 74,
   "id": "d625ba0e",
   "metadata": {},
   "outputs": [
    {
     "data": {
      "text/html": [
       "<div>\n",
       "<style scoped>\n",
       "    .dataframe tbody tr th:only-of-type {\n",
       "        vertical-align: middle;\n",
       "    }\n",
       "\n",
       "    .dataframe tbody tr th {\n",
       "        vertical-align: top;\n",
       "    }\n",
       "\n",
       "    .dataframe thead th {\n",
       "        text-align: right;\n",
       "    }\n",
       "</style>\n",
       "<table border=\"1\" class=\"dataframe\">\n",
       "  <thead>\n",
       "    <tr style=\"text-align: right;\">\n",
       "      <th></th>\n",
       "      <th>이름</th>\n",
       "      <th>키</th>\n",
       "      <th>몸무게</th>\n",
       "      <th>BMI</th>\n",
       "      <th>결과</th>\n",
       "    </tr>\n",
       "  </thead>\n",
       "  <tbody>\n",
       "    <tr>\n",
       "      <th>0</th>\n",
       "      <td>황광수</td>\n",
       "      <td>157</td>\n",
       "      <td>70</td>\n",
       "      <td>28.4</td>\n",
       "      <td>비만</td>\n",
       "    </tr>\n",
       "    <tr>\n",
       "      <th>1</th>\n",
       "      <td>주상훈</td>\n",
       "      <td>182</td>\n",
       "      <td>44</td>\n",
       "      <td>13.3</td>\n",
       "      <td>저체중</td>\n",
       "    </tr>\n",
       "    <tr>\n",
       "      <th>2</th>\n",
       "      <td>고옥자</td>\n",
       "      <td>152</td>\n",
       "      <td>75</td>\n",
       "      <td>32.5</td>\n",
       "      <td>고도비만</td>\n",
       "    </tr>\n",
       "    <tr>\n",
       "      <th>3</th>\n",
       "      <td>조영일</td>\n",
       "      <td>187</td>\n",
       "      <td>84</td>\n",
       "      <td>24.0</td>\n",
       "      <td>과체중</td>\n",
       "    </tr>\n",
       "    <tr>\n",
       "      <th>4</th>\n",
       "      <td>임민서</td>\n",
       "      <td>167</td>\n",
       "      <td>57</td>\n",
       "      <td>20.4</td>\n",
       "      <td>정상</td>\n",
       "    </tr>\n",
       "  </tbody>\n",
       "</table>\n",
       "</div>"
      ],
      "text/plain": [
       "    이름    키  몸무게   BMI    결과\n",
       "0  황광수  157   70  28.4    비만\n",
       "1  주상훈  182   44  13.3   저체중\n",
       "2  고옥자  152   75  32.5  고도비만\n",
       "3  조영일  187   84  24.0   과체중\n",
       "4  임민서  167   57  20.4    정상"
      ]
     },
     "execution_count": 74,
     "metadata": {},
     "output_type": "execute_result"
    }
   ],
   "source": [
    "familyName = pd.Series(randint(fnNum, size=1000))\n",
    "familyName = familyName.apply(lambda x : familyNm[x])\n",
    "givenName = pd.Series(randint(gnNum, size=1000))\n",
    "givenName = givenName.apply(lambda x : givenNm[x])\n",
    "\n",
    "Names = familyName + givenName\n",
    "weight = pd.Series(randint(40, 100, size=1000))\n",
    "height = pd.Series(randint(140, 190, size=1000))\n",
    "BMI = (weight/(height/100)**2).round(1)\n",
    "\n",
    "BMIcat =pd.cut(x = BMI, #데이터 배열\n",
    "                         bins=[0, 18.5, 23, 25, 30, 55], # 경계값 리스트\n",
    "                         labels=['저체중', '정상', '과체중', '비만', '고도비만'], #bin 이름\n",
    "                         include_lowest=True) #첫 경계값 포함\n",
    "\n",
    "df = pd.concat([Names, height, weight, BMI, BMIcat], axis=1)\n",
    "df.columns = ['이름', '키', '몸무게', 'BMI', '결과']\n",
    "df.head()"
   ]
  },
  {
   "cell_type": "code",
   "execution_count": 75,
   "id": "8e358da9",
   "metadata": {},
   "outputs": [
    {
     "name": "stdout",
     "output_type": "stream",
     "text": [
      "이름 : 조영일\n",
      "키 : 187\n",
      "몸무게 : 84\n",
      "BMI : 24.0\n",
      "결과 : 과체중\n"
     ]
    }
   ],
   "source": [
    "for col in df.columns:\n",
    "    print(col, ':', df.loc[idx, col])"
   ]
  },
  {
   "cell_type": "code",
   "execution_count": null,
   "id": "ccdb6be8",
   "metadata": {},
   "outputs": [],
   "source": []
  },
  {
   "cell_type": "markdown",
   "id": "93d21d2b",
   "metadata": {},
   "source": [
    "- 모든 한글 하려다가 궭 뒑뷁 이런게 많아서 안함"
   ]
  },
  {
   "cell_type": "code",
   "execution_count": 41,
   "id": "f038190b",
   "metadata": {},
   "outputs": [],
   "source": [
    "def nextKorLetterFrom(letter):\n",
    "    lastLetterInt = 15572643\n",
    "\n",
    "    if not letter:\n",
    "        return '가'\n",
    "\n",
    "    a = letter\n",
    "    b = a.encode('utf8')\n",
    "    c = int(b.hex(), 16)\n",
    "\n",
    "    if c == lastLetterInt:\n",
    "        return False\n",
    "\n",
    "    d = hex(c + 1)\n",
    "    e = bytearray.fromhex(d[2:])\n",
    "\n",
    "    flag = True\n",
    "    while flag:\n",
    "        try:\n",
    "            r = e.decode('utf-8')\n",
    "            flag = False\n",
    "        except UnicodeDecodeError:\n",
    "            c = c + 1\n",
    "            d = hex(c)\n",
    "            e = bytearray.fromhex(d[2:])\n",
    "\n",
    "    return e.decode()\n",
    "def all_letters_to_txt():\n",
    "\n",
    "    flag = True\n",
    "    k = ''\n",
    "\n",
    "    while flag:\n",
    "        k = nextKorLetterFrom(k)\n",
    "        if k is False:\n",
    "            flag = False\n",
    "        with open('output.txt', 'a') as out:\n",
    "            out.write(k + '\\n')\n",
    "# 출처: https://gafani.tistory.com/entry/python3"
   ]
  },
  {
   "cell_type": "code",
   "execution_count": 42,
   "id": "c7bcf061",
   "metadata": {},
   "outputs": [],
   "source": []
  }
 ],
 "metadata": {
  "kernelspec": {
   "display_name": "Python 3 (ipykernel)",
   "language": "python",
   "name": "python3"
  },
  "language_info": {
   "codemirror_mode": {
    "name": "ipython",
    "version": 3
   },
   "file_extension": ".py",
   "mimetype": "text/x-python",
   "name": "python",
   "nbconvert_exporter": "python",
   "pygments_lexer": "ipython3",
   "version": "3.8.13"
  },
  "toc": {
   "base_numbering": 1,
   "nav_menu": {},
   "number_sections": true,
   "sideBar": true,
   "skip_h1_title": false,
   "title_cell": "Table of Contents",
   "title_sidebar": "Contents",
   "toc_cell": false,
   "toc_position": {
    "height": "calc(100% - 180px)",
    "left": "10px",
    "top": "150px",
    "width": "299px"
   },
   "toc_section_display": true,
   "toc_window_display": true
  }
 },
 "nbformat": 4,
 "nbformat_minor": 5
}
