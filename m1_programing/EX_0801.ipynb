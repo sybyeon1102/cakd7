{
 "cells": [
  {
   "cell_type": "markdown",
   "id": "4599560d",
   "metadata": {},
   "source": [
    "# 0801"
   ]
  },
  {
   "cell_type": "markdown",
   "id": "47b91693",
   "metadata": {},
   "source": [
    "## Q53. 입력한 임의의 숫자를 천 단위로 구분하여 (ex, 1,526,842) 출력하세요."
   ]
  },
  {
   "cell_type": "code",
   "execution_count": 31,
   "id": "f5c0f4d8",
   "metadata": {},
   "outputs": [
    {
     "name": "stdout",
     "output_type": "stream",
     "text": [
      "1,526,842\n"
     ]
    }
   ],
   "source": [
    "num = 1526842\n",
    "\n",
    "li = list(str(num))\n",
    "li.reverse()\n",
    "\n",
    "total = []\n",
    "for i in range(len(li)//3): # 0,1\n",
    "    temp = []\n",
    "    temp = li[3*i : 3*i+3] \n",
    "    total.extend(temp)\n",
    "    total.append(',')\n",
    "    \n",
    "i += 1\n",
    "temp = []\n",
    "temp = li[3*i:]\n",
    "total.extend(temp)\n",
    "total.reverse()\n",
    "\n",
    "print(\"\".join(total))"
   ]
  },
  {
   "cell_type": "markdown",
   "id": "d861ac63",
   "metadata": {},
   "source": [
    "## Q54. 카운터에서 거스름돈으로 사용할 500원 100원 50원 10원짜리 동전 무한히 존재, 손님에게 거슬러줘야할 돈이 N원일때 거슬러줘야할 동전의 최소 개수를 구하세요 거슬러줘야할 돈 N은 항상 10의 배수 2750원으로 놓고 풀어보세요."
   ]
  },
  {
   "cell_type": "code",
   "execution_count": 61,
   "id": "6c659745",
   "metadata": {},
   "outputs": [
    {
     "name": "stdout",
     "output_type": "stream",
     "text": [
      "5 2 1 0\n",
      "8\n"
     ]
    }
   ],
   "source": [
    "change = 2750\n",
    "left = change\n",
    "\n",
    "coin_500 = left//500\n",
    "left = left%500\n",
    "\n",
    "coin_100 = left//100\n",
    "left = left%100\n",
    "\n",
    "coin_50 = left//50\n",
    "left = left%50\n",
    "\n",
    "coin_10 = left//10\n",
    "left = left%10\n",
    "\n",
    "print(coin_500, coin_100, coin_50, coin_10)\n",
    "print(sum([coin_500, coin_100, coin_50, coin_10]))"
   ]
  },
  {
   "cell_type": "code",
   "execution_count": null,
   "id": "cdbe04b8",
   "metadata": {},
   "outputs": [],
   "source": []
  },
  {
   "cell_type": "code",
   "execution_count": null,
   "id": "c8a8861c",
   "metadata": {},
   "outputs": [],
   "source": []
  }
 ],
 "metadata": {
  "kernelspec": {
   "display_name": "Python 3 (ipykernel)",
   "language": "python",
   "name": "python3"
  },
  "language_info": {
   "codemirror_mode": {
    "name": "ipython",
    "version": 3
   },
   "file_extension": ".py",
   "mimetype": "text/x-python",
   "name": "python",
   "nbconvert_exporter": "python",
   "pygments_lexer": "ipython3",
   "version": "3.8.13"
  },
  "toc": {
   "base_numbering": 1,
   "nav_menu": {},
   "number_sections": true,
   "sideBar": true,
   "skip_h1_title": false,
   "title_cell": "Table of Contents",
   "title_sidebar": "Contents",
   "toc_cell": false,
   "toc_position": {},
   "toc_section_display": true,
   "toc_window_display": false
  }
 },
 "nbformat": 4,
 "nbformat_minor": 5
}
