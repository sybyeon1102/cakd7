{
 "cells": [
  {
   "cell_type": "markdown",
   "id": "4599560d",
   "metadata": {},
   "source": [
    "# 0801"
   ]
  },
  {
   "cell_type": "markdown",
   "id": "47b91693",
   "metadata": {},
   "source": [
    "## Q53. 입력한 임의의 숫자를 천 단위로 구분하여 (ex, 1,526,842) 출력하세요."
   ]
  },
  {
   "cell_type": "code",
   "execution_count": 1,
   "id": "f5c0f4d8",
   "metadata": {},
   "outputs": [
    {
     "name": "stdout",
     "output_type": "stream",
     "text": [
      "1,526,842\n"
     ]
    }
   ],
   "source": [
    "num = 1526842\n",
    "\n",
    "li = list(str(num))\n",
    "li.reverse()\n",
    "\n",
    "total = []\n",
    "for i in range(len(li)//3):\n",
    "    temp = []\n",
    "    temp = li[3*i : 3*i+3] \n",
    "    total.extend(temp)\n",
    "    total.append(',')\n",
    "    \n",
    "i += 1\n",
    "temp = []\n",
    "temp = li[3*i:]\n",
    "total.extend(temp)\n",
    "total.reverse()\n",
    "\n",
    "print(\"\".join(total))"
   ]
  },
  {
   "cell_type": "markdown",
   "id": "d861ac63",
   "metadata": {},
   "source": [
    "## Q54. 카운터에서 거스름돈으로 사용할 500원 100원 50원 10원짜리 동전 무한히 존재, 손님에게 거슬러줘야할 돈이 N원일때 거슬러줘야할 동전의 최소 개수를 구하세요 거슬러줘야할 돈 N은 항상 10의 배수 2750원으로 놓고 풀어보세요."
   ]
  },
  {
   "cell_type": "code",
   "execution_count": 3,
   "id": "6c659745",
   "metadata": {},
   "outputs": [
    {
     "name": "stdout",
     "output_type": "stream",
     "text": [
      "8\n"
     ]
    }
   ],
   "source": [
    "change = 2750\n",
    "left = change\n",
    "\n",
    "coin_500 = left//500\n",
    "left = left%500\n",
    "\n",
    "coin_100 = left//100\n",
    "left = left%100\n",
    "\n",
    "coin_50 = left//50\n",
    "left = left%50\n",
    "\n",
    "coin_10 = left//10\n",
    "left = left%10\n",
    "\n",
    "# print(coin_500, coin_100, coin_50, coin_10)\n",
    "print(sum([coin_500, coin_100, coin_50, coin_10]))"
   ]
  },
  {
   "cell_type": "code",
   "execution_count": 4,
   "id": "cdbe04b8",
   "metadata": {},
   "outputs": [
    {
     "name": "stdout",
     "output_type": "stream",
     "text": [
      "8\n"
     ]
    }
   ],
   "source": [
    "n = 2750\n",
    "count = 0\n",
    "\n",
    "# 큰 단위의 화폐부터 차례대로 확인하기\n",
    "coin_types = [500, 100, 50, 10]\n",
    "\n",
    "for coin in coin_types:\n",
    "    count += n // coin # 해당 화폐로 거슬러 줄 수 있는 동전의 개수 세기\n",
    "    n %= coin\n",
    "\n",
    "print(count)"
   ]
  },
  {
   "cell_type": "markdown",
   "id": "8fc13e21",
   "metadata": {},
   "source": [
    "# 0802"
   ]
  },
  {
   "cell_type": "markdown",
   "id": "a5f8beb4",
   "metadata": {},
   "source": [
    "## Q55. data/mydata.txt 파일에 있는 단어 개수를 출력하세요.\n",
    "\n"
   ]
  },
  {
   "cell_type": "code",
   "execution_count": 10,
   "id": "e092130d",
   "metadata": {},
   "outputs": [
    {
     "name": "stdout",
     "output_type": "stream",
     "text": [
      "221\n"
     ]
    }
   ],
   "source": [
    "with open ('./dataset/mydata.txt', 'r') as fr:\n",
    "    lines = fr.readlines()\n",
    "text = \"\".join(lines)\n",
    "text = text.replace(\"\\n\", \" \")\n",
    "print(len(text.split(\" \")))"
   ]
  },
  {
   "cell_type": "markdown",
   "id": "15d7aa34",
   "metadata": {},
   "source": [
    "## Q56. 파일이름과 특정 단어을 인자로 입력하면 그 파일에 있는 특정 단어의 개수를 반환하는 사용자 함수를 이용하여 mydata 파일에서 how의 개수를 출력하세요."
   ]
  },
  {
   "cell_type": "code",
   "execution_count": 15,
   "id": "0a5a86af",
   "metadata": {},
   "outputs": [],
   "source": [
    "from collections import Counter"
   ]
  },
  {
   "cell_type": "code",
   "execution_count": 16,
   "id": "dd600197",
   "metadata": {},
   "outputs": [],
   "source": [
    "def count_word(word, path = './dataset/mydata.txt'):\n",
    "    \n",
    "    with open (path, 'r') as fr:\n",
    "        lines = fr.readlines()\n",
    "    \n",
    "    text = \"\".join(lines)\n",
    "    text = text.replace(\"\\n\", \" \")\n",
    "    text.lower()\n",
    "    words = text.split(\" \")\n",
    "    \n",
    "    count = Counter(words)\n",
    "    return  count[word]"
   ]
  },
  {
   "cell_type": "code",
   "execution_count": 17,
   "id": "cdffd473",
   "metadata": {
    "scrolled": true
   },
   "outputs": [
    {
     "data": {
      "text/plain": [
       "2"
      ]
     },
     "execution_count": 17,
     "metadata": {},
     "output_type": "execute_result"
    }
   ],
   "source": [
    "count_word('how')"
   ]
  },
  {
   "cell_type": "code",
   "execution_count": 19,
   "id": "348e5649",
   "metadata": {},
   "outputs": [
    {
     "name": "stdout",
     "output_type": "stream",
     "text": [
      "filename을 입력하세요: ./dataset/mydata.txt\n",
      "filename에서 개수를 구할 단어를 입력하세요: how\n",
      "how의 개수: 2\n"
     ]
    }
   ],
   "source": [
    "def countWord(filename, word):\n",
    "    with open(filename, 'r') as f:\n",
    "        text = f.read()\n",
    "        text = text.lower()\n",
    "        pos = text.find(word)\n",
    "        count = 0\n",
    "        while pos != -1:\n",
    "            count += 1\n",
    "            pos = text.find(word, pos+1)\n",
    "    return count\n",
    "\n",
    "filename = input('filename을 입력하세요: ')\n",
    "word = input('filename에서 개수를 구할 단어를 입력하세요: ')\n",
    "ret = countWord(filename, word)\n",
    "print(f'{word}의 개수: {ret}')"
   ]
  },
  {
   "cell_type": "code",
   "execution_count": null,
   "id": "ec1a7d38",
   "metadata": {},
   "outputs": [],
   "source": []
  },
  {
   "cell_type": "code",
   "execution_count": null,
   "id": "14d31878",
   "metadata": {},
   "outputs": [],
   "source": []
  },
  {
   "cell_type": "code",
   "execution_count": null,
   "id": "8cd89f71",
   "metadata": {},
   "outputs": [],
   "source": []
  },
  {
   "cell_type": "markdown",
   "id": "87ceac5e",
   "metadata": {},
   "source": [
    "# 0803"
   ]
  },
  {
   "cell_type": "markdown",
   "id": "f284fd20",
   "metadata": {},
   "source": [
    "## Q59.\n",
    "문자열을 입력받아 같은 문자가 연속적으로 반복되는 경우에 그 반복 횟수를 표시해 문자열을 압축하여 표시하세요.\n",
    "- 예) \"aaabbcccccca\" -> a3b2c6a1\n"
   ]
  },
  {
   "cell_type": "code",
   "execution_count": 66,
   "id": "f40d091f",
   "metadata": {},
   "outputs": [
    {
     "name": "stdout",
     "output_type": "stream",
     "text": [
      "3 : b\n",
      "5 : c\n",
      "11 : a\n",
      "\n",
      " a3b2c6a1\n"
     ]
    }
   ],
   "source": [
    "text = \"aaabbcccccca\"\n",
    "\n",
    "tmp = text[0]\n",
    "i_tmp = 0\n",
    "result = \"\"\n",
    "\n",
    "for i, t in enumerate(text):\n",
    "    if t != tmp: # 다른 문자가 시작되는 시작될때\n",
    "        print(i, ':', t)\n",
    "        result += tmp + str(i - i_tmp)\n",
    "        tmp = t\n",
    "        i_tmp = i\n",
    "        \n",
    "# 마지막 문자\n",
    "result += text[i_tmp] + str(len(text[i_tmp:]))\n",
    "print('\\n', result)"
   ]
  },
  {
   "cell_type": "code",
   "execution_count": null,
   "id": "3f29e2a6",
   "metadata": {},
   "outputs": [],
   "source": []
  },
  {
   "cell_type": "code",
   "execution_count": null,
   "id": "61b49ae6",
   "metadata": {},
   "outputs": [],
   "source": []
  },
  {
   "cell_type": "code",
   "execution_count": null,
   "id": "c01b386f",
   "metadata": {},
   "outputs": [],
   "source": []
  },
  {
   "cell_type": "code",
   "execution_count": null,
   "id": "ac149409",
   "metadata": {},
   "outputs": [],
   "source": []
  }
 ],
 "metadata": {
  "kernelspec": {
   "display_name": "Python 3 (ipykernel)",
   "language": "python",
   "name": "python3"
  },
  "language_info": {
   "codemirror_mode": {
    "name": "ipython",
    "version": 3
   },
   "file_extension": ".py",
   "mimetype": "text/x-python",
   "name": "python",
   "nbconvert_exporter": "python",
   "pygments_lexer": "ipython3",
   "version": "3.8.13"
  },
  "toc": {
   "base_numbering": 1,
   "nav_menu": {},
   "number_sections": true,
   "sideBar": true,
   "skip_h1_title": false,
   "title_cell": "Table of Contents",
   "title_sidebar": "Contents",
   "toc_cell": false,
   "toc_position": {},
   "toc_section_display": true,
   "toc_window_display": false
  }
 },
 "nbformat": 4,
 "nbformat_minor": 5
}
