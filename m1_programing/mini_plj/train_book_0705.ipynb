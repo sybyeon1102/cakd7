{
 "cells": [
  {
   "cell_type": "markdown",
   "id": "cc8d73e4",
   "metadata": {},
   "source": [
    "# later"
   ]
  },
  {
   "cell_type": "markdown",
   "id": "70cb95c4",
   "metadata": {},
   "source": [
    "user_pref\n",
    "\n",
    "- 사용자 preference를 반영하려면,  기록이 있어야한다. -> 가라로 만들기,\n",
    "추천 기차를 상단에 띄워줌"
   ]
  },
  {
   "cell_type": "markdown",
   "id": "17ee4682",
   "metadata": {},
   "source": [
    "train_att\n",
    "\n",
    " - preference 는 가격 vs. 빠름, 넓음,... 그러려면 각 기차에 대한 정보도 있어야 한다"
   ]
  },
  {
   "cell_type": "markdown",
   "id": "f66719d6",
   "metadata": {},
   "source": [
    "```\n",
    "1. 인원\n",
    "2. 출발역\n",
    "3. 도착역\n",
    "4. 날짜\n",
    "5. 출발|도착 시간\n",
    "```"
   ]
  },
  {
   "cell_type": "code",
   "execution_count": null,
   "id": "6190874c",
   "metadata": {},
   "outputs": [],
   "source": []
  },
  {
   "cell_type": "code",
   "execution_count": null,
   "id": "afb913b9",
   "metadata": {},
   "outputs": [],
   "source": []
  },
  {
   "cell_type": "code",
   "execution_count": null,
   "id": "6eb01413",
   "metadata": {},
   "outputs": [],
   "source": []
  },
  {
   "cell_type": "code",
   "execution_count": null,
   "id": "692d655e",
   "metadata": {},
   "outputs": [],
   "source": []
  },
  {
   "cell_type": "code",
   "execution_count": null,
   "id": "cf4cafe0",
   "metadata": {},
   "outputs": [],
   "source": []
  },
  {
   "cell_type": "code",
   "execution_count": null,
   "id": "d661ced2",
   "metadata": {},
   "outputs": [],
   "source": []
  },
  {
   "cell_type": "code",
   "execution_count": null,
   "id": "56b56c20",
   "metadata": {},
   "outputs": [],
   "source": []
  },
  {
   "cell_type": "code",
   "execution_count": null,
   "id": "34bfac42",
   "metadata": {},
   "outputs": [],
   "source": []
  },
  {
   "cell_type": "code",
   "execution_count": null,
   "id": "0ca8c5c8",
   "metadata": {},
   "outputs": [],
   "source": []
  },
  {
   "cell_type": "code",
   "execution_count": null,
   "id": "b607bc2b",
   "metadata": {},
   "outputs": [],
   "source": []
  }
 ],
 "metadata": {
  "kernelspec": {
   "display_name": "Python 3 (ipykernel)",
   "language": "python",
   "name": "python3"
  },
  "language_info": {
   "codemirror_mode": {
    "name": "ipython",
    "version": 3
   },
   "file_extension": ".py",
   "mimetype": "text/x-python",
   "name": "python",
   "nbconvert_exporter": "python",
   "pygments_lexer": "ipython3",
   "version": "3.8.13"
  },
  "toc": {
   "base_numbering": 1,
   "nav_menu": {},
   "number_sections": true,
   "sideBar": true,
   "skip_h1_title": false,
   "title_cell": "Table of Contents",
   "title_sidebar": "Contents",
   "toc_cell": false,
   "toc_position": {},
   "toc_section_display": true,
   "toc_window_display": false
  }
 },
 "nbformat": 4,
 "nbformat_minor": 5
}
