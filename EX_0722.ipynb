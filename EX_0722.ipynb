{
 "cells": [
  {
   "cell_type": "code",
   "execution_count": 1,
   "id": "39c6c089",
   "metadata": {},
   "outputs": [],
   "source": [
    "import warnings\n",
    "warnings.filterwarnings('ignore')"
   ]
  },
  {
   "cell_type": "code",
   "execution_count": 3,
   "id": "3b6dae6b",
   "metadata": {},
   "outputs": [],
   "source": [
    "import random"
   ]
  },
  {
   "cell_type": "markdown",
   "id": "81b2f009",
   "metadata": {},
   "source": [
    "# 0713"
   ]
  },
  {
   "cell_type": "markdown",
   "id": "e15d5891",
   "metadata": {},
   "source": [
    "## Q1. 남녀 파트너 정해주기 프로그램(zip 함수) \n",
    "- 같은 수의 남녀 모임에서 파트너를 랜덤하게 정해주는 프로그램을 만들어 보세요"
   ]
  },
  {
   "cell_type": "code",
   "execution_count": 4,
   "id": "5dc849d8",
   "metadata": {},
   "outputs": [],
   "source": [
    "male = ['철수','갑돌','로미오','이몽룡','온돌']\n",
    "female = ['미미','갑순','줄리엣','성춘향','평강']"
   ]
  },
  {
   "cell_type": "code",
   "execution_count": 5,
   "id": "4c36a31a",
   "metadata": {},
   "outputs": [
    {
     "name": "stdout",
     "output_type": "stream",
     "text": [
      "('갑돌', '줄리엣')\n",
      "('철수', '성춘향')\n",
      "('로미오', '갑순')\n",
      "('온돌', '미미')\n",
      "('이몽룡', '평강')\n"
     ]
    }
   ],
   "source": [
    "random.shuffle(male)\n",
    "random.shuffle(female)\n",
    "\n",
    "for i in zip(male, female):\n",
    "    print(i)"
   ]
  },
  {
   "cell_type": "markdown",
   "id": "d22f0321",
   "metadata": {},
   "source": [
    "## Q2. 사용자가 입력한 횟수만큼 로또 번호를 출력하는 프로그램을 작성하세요.\n",
    "- input 함수, 중복x\n",
    "- 1~45, 당첨번호 6개 + 보너스 번호 1개\n",
    "- 당첨번호는 정렬 되어 있음"
   ]
  },
  {
   "cell_type": "code",
   "execution_count": 6,
   "id": "4e3a0187",
   "metadata": {},
   "outputs": [
    {
     "name": "stdout",
     "output_type": "stream",
     "text": [
      "숫자를 입력하세요.>2\n",
      "\n",
      "7  11  14  19  22  33  + 29\n",
      "4  13  22  27  30  32  + 36\n"
     ]
    }
   ],
   "source": [
    "def print_win_nums():\n",
    "    nums = list(range(1, 46))\n",
    "\n",
    "    wins = random.sample(nums, k=7)\n",
    "\n",
    "    win_nums = wins[:-1]\n",
    "    win_nums.sort()\n",
    "\n",
    "    bonus_num = wins[-1]\n",
    "\n",
    "    for i in win_nums:\n",
    "        print(i, end='  ')\n",
    "    print(f\"+ {bonus_num}\")\n",
    "\n",
    "input_num = int(input(\"숫자를 입력하세요.>\"))\n",
    "print()\n",
    "for i in range(input_num):\n",
    "    print_win_nums()"
   ]
  },
  {
   "cell_type": "markdown",
   "id": "d9036df2",
   "metadata": {},
   "source": [
    "## (optional) Q3. 발표자 추첨\n",
    "- 발표자를 윈하는 수만큼 랜덤하게 출력하는 프로그램을 작성하세요."
   ]
  },
  {
   "cell_type": "code",
   "execution_count": 7,
   "id": "aa826e74",
   "metadata": {},
   "outputs": [],
   "source": [
    "cakd7 = ['변서연', '한지웅', '양주희', '이호원', '정지은', \n",
    "         '이정현A', '이명진', '이상윤', '조승현', '강유한',\n",
    "        '김영선', '최애림', '김민섭', '박혜린', '이정현B',\n",
    "        '윤정준', '김진형', '정승기', '진청아', '신창훈',\n",
    "        '김병석', '박세희', '김현지', '김덕현', '박영권']"
   ]
  },
  {
   "cell_type": "code",
   "execution_count": 8,
   "id": "82afdf8b",
   "metadata": {},
   "outputs": [
    {
     "name": "stdout",
     "output_type": "stream",
     "text": [
      "필요한 발표자 수를 입력하세요.>2\n",
      "['양주희', '이상윤']\n"
     ]
    }
   ],
   "source": [
    "input_num = int(input(\"필요한 발표자 수를 입력하세요.>\"))\n",
    "print(random.sample(cakd7, k=input_num))"
   ]
  },
  {
   "cell_type": "code",
   "execution_count": null,
   "id": "119f056d",
   "metadata": {},
   "outputs": [],
   "source": []
  },
  {
   "cell_type": "markdown",
   "id": "f265828d",
   "metadata": {},
   "source": [
    "# 0714"
   ]
  },
  {
   "cell_type": "code",
   "execution_count": 9,
   "id": "cbf37f10",
   "metadata": {},
   "outputs": [],
   "source": [
    "import re"
   ]
  },
  {
   "cell_type": "markdown",
   "id": "c756bca6",
   "metadata": {},
   "source": [
    "## Q3. 입력받은 문자열의 각 문자를 그 다음 문자로 변경하여 출력하세요. abc->bca"
   ]
  },
  {
   "cell_type": "code",
   "execution_count": 10,
   "id": "c933a0bc",
   "metadata": {},
   "outputs": [
    {
     "name": "stdout",
     "output_type": "stream",
     "text": [
      "문자열을 입력하세요.>2\n",
      "2\n"
     ]
    }
   ],
   "source": [
    "input_str = input(\"문자열을 입력하세요.>\")\n",
    "print(input_str[1:]+input_str[0])"
   ]
  },
  {
   "cell_type": "markdown",
   "id": "882e4d8c",
   "metadata": {},
   "source": [
    "## Q4. url에서 호스트 도메인을 추출하여 출력하세요.\n",
    "- url = 'http://news.naver.com/main/read.nhn?mode=LSD&mid=shm&sid1=105&oid=028&aid=0002334601'\n",
    "- news.naver.com 출력"
   ]
  },
  {
   "cell_type": "code",
   "execution_count": 11,
   "id": "94680550",
   "metadata": {},
   "outputs": [],
   "source": [
    "url = 'http://news.naver.com/main/read.nhn?mode=LSD&mid=shm&sid1=105&oid=028&aid=0002334601'"
   ]
  },
  {
   "cell_type": "code",
   "execution_count": 12,
   "id": "97f3547c",
   "metadata": {
    "scrolled": true
   },
   "outputs": [
    {
     "data": {
      "text/plain": [
       "'news.naver.com'"
      ]
     },
     "execution_count": 12,
     "metadata": {},
     "output_type": "execute_result"
    }
   ],
   "source": [
    "p = re.compile('https*://([a-z|A-Z|.]+)/')\n",
    "m = p.match(url)\n",
    "m.group(1)"
   ]
  },
  {
   "cell_type": "markdown",
   "id": "ad417f67",
   "metadata": {},
   "source": [
    " - split 사용"
   ]
  },
  {
   "cell_type": "code",
   "execution_count": 13,
   "id": "dc50f6e5",
   "metadata": {},
   "outputs": [
    {
     "data": {
      "text/plain": [
       "'news.naver.com'"
      ]
     },
     "execution_count": 13,
     "metadata": {},
     "output_type": "execute_result"
    }
   ],
   "source": [
    "tmp = url.split('/')\n",
    "tmp[2]"
   ]
  },
  {
   "cell_type": "markdown",
   "id": "ac119f53",
   "metadata": {},
   "source": [
    "# 0715"
   ]
  },
  {
   "cell_type": "markdown",
   "id": "9f46129d",
   "metadata": {},
   "source": [
    "## Q5 url에서 쿼리문을 추출하여 출력하세요."
   ]
  },
  {
   "cell_type": "code",
   "execution_count": 14,
   "id": "80d98414",
   "metadata": {},
   "outputs": [],
   "source": [
    "# url에서 '?'뒤에 표시되는 문자열을 쿼리 문자열이라고 하며 변수=값 사이 &로 \n",
    "# 구분되어 나열된다."
   ]
  },
  {
   "cell_type": "code",
   "execution_count": 15,
   "id": "3a6eb9b0",
   "metadata": {},
   "outputs": [],
   "source": [
    "url = 'http://news.naver.com/main/read.nhn?mode=LSD&mid=shm&sid1=105&oid=028&aid=0002334601'"
   ]
  },
  {
   "cell_type": "code",
   "execution_count": 16,
   "id": "de87dee8",
   "metadata": {},
   "outputs": [],
   "source": [
    "str_varval = url.split('?')[1].split('&')"
   ]
  },
  {
   "cell_type": "code",
   "execution_count": 17,
   "id": "f8bf1c9f",
   "metadata": {},
   "outputs": [
    {
     "name": "stdout",
     "output_type": "stream",
     "text": [
      "var = mode, val = LSD\n",
      "var = mid, val = shm\n",
      "var = sid1, val = 105\n",
      "var = oid, val = 028\n",
      "var = aid, val = 0002334601\n"
     ]
    }
   ],
   "source": [
    "for s in str_varval:\n",
    "    vv = s.split('=')\n",
    "    print(f'var = {vv[0]}, val = {vv[1]}')"
   ]
  },
  {
   "cell_type": "markdown",
   "id": "56b27542",
   "metadata": {},
   "source": [
    "## Q6 텍스트 파일(mydata.txt)을 읽고  파일의 내용에서 나타나는 문자들에 대해 자주 나타나는 문자들을 아래와 같이 순서대로 출력하세요.\n",
    "- \\[ \\] -> [177]회 나타남\n",
    "- [e] -> [97]회 나타남\n",
    "- [t] -> [85]회 나타남\n",
    "- :\n",
    "- :"
   ]
  },
  {
   "cell_type": "markdown",
   "id": "f0c86ba1",
   "metadata": {},
   "source": [
    "- how many tears"
   ]
  },
  {
   "cell_type": "code",
   "execution_count": 18,
   "id": "34c98993",
   "metadata": {},
   "outputs": [
    {
     "name": "stdout",
     "output_type": "stream",
     "text": [
      "[ ] -> [177]회 나타남\n",
      "[e] -> [97]회 나타남\n",
      "[t] -> [85]회 나타남\n",
      "[a] -> [78]회 나타남\n",
      "[o] -> [73]회 나타남\n",
      "[s] -> [60]회 나타남\n",
      "[n] -> [60]회 나타남\n",
      "[r] -> [54]회 나타남\n",
      "[i] -> [50]회 나타남\n",
      "[h] -> [48]회 나타남\n",
      "[\n",
      "] -> [43]회 나타남\n",
      "[l] -> [34]회 나타남\n",
      "[u] -> [27]회 나타남\n",
      "[d] -> [24]회 나타남\n",
      "[c] -> [23]회 나타남\n",
      "[w] -> [20]회 나타남\n",
      "[m] -> [20]회 나타남\n",
      "[f] -> [17]회 나타남\n",
      "[y] -> [15]회 나타남\n",
      "[p] -> [15]회 나타남\n",
      "[b] -> [13]회 나타남\n",
      "[g] -> [11]회 나타남\n",
      "[v] -> [9]회 나타남\n",
      "['] -> [8]회 나타남\n",
      "[k] -> [7]회 나타남\n",
      "[!] -> [2]회 나타남\n"
     ]
    }
   ],
   "source": [
    "with open('./dataset/mydata.txt', 'r') as fr:\n",
    "    lines = fr.readlines()\n",
    "\n",
    "text = ''.join(lines)\n",
    "\n",
    "letters = set(text)\n",
    "\n",
    "import re\n",
    "\n",
    "list_fl = []\n",
    "for l in letters:\n",
    "    fa = re.findall(l, text)\n",
    "    list_fl.append((len(fa), l))\n",
    "list_fl.sort(reverse=True)\n",
    "\n",
    "for f, l in list_fl:\n",
    "    print(f'[{l}] -> [{f}]회 나타남')"
   ]
  },
  {
   "cell_type": "markdown",
   "id": "386dcea0",
   "metadata": {},
   "source": [
    "# 0718"
   ]
  },
  {
   "cell_type": "markdown",
   "id": "b6866fb7",
   "metadata": {},
   "source": [
    "## Q7 두개의 수를 입력한 후 두개의 수에 대한 사칙연산을 수행하세요.(0을 입력한 경우 다시 입력하도록 조치)"
   ]
  },
  {
   "cell_type": "code",
   "execution_count": 19,
   "id": "b455c786",
   "metadata": {},
   "outputs": [],
   "source": [
    "# Cal4 클래스를 만들어서 작성"
   ]
  },
  {
   "cell_type": "code",
   "execution_count": 20,
   "id": "109c7191",
   "metadata": {},
   "outputs": [],
   "source": [
    "class Cal4:\n",
    "    \n",
    "    def add_two_num(self):\n",
    "        num1 = float(input(\"첫번째 숫자를 입력하세요.> \"))\n",
    "        while num1 == 0.0:\n",
    "            num1 = float(input(\"0이 아닌 숫자를 입력하세요.> \"))\n",
    "            \n",
    "        num2 = float(input(\"두번째 숫자를 입력하세요.> \"))\n",
    "        while num2 == 0.0:\n",
    "            num2 = float(input(\"0이 아닌 숫자를 입력하세요.> \"))\n",
    "            \n",
    "        return num1 + num2\n"
   ]
  },
  {
   "cell_type": "code",
   "execution_count": 21,
   "id": "d3d96ea8",
   "metadata": {},
   "outputs": [],
   "source": [
    "c = Cal4()"
   ]
  },
  {
   "cell_type": "code",
   "execution_count": 22,
   "id": "05a64c08",
   "metadata": {},
   "outputs": [
    {
     "name": "stdout",
     "output_type": "stream",
     "text": [
      "첫번째 숫자를 입력하세요.> 222\n",
      "두번째 숫자를 입력하세요.> 22\n"
     ]
    },
    {
     "data": {
      "text/plain": [
       "244.0"
      ]
     },
     "execution_count": 22,
     "metadata": {},
     "output_type": "execute_result"
    }
   ],
   "source": [
    "c.add_two_num()"
   ]
  },
  {
   "cell_type": "markdown",
   "id": "cae69acd",
   "metadata": {},
   "source": [
    "## Q8. Order 클래스를 상속받아 extraOrder 클래스에서 메소드 오버라이딩하여 출력가격에 원이 추가되도록 출력하세요."
   ]
  },
  {
   "cell_type": "code",
   "execution_count": 23,
   "id": "595b3c1a",
   "metadata": {},
   "outputs": [],
   "source": [
    "class Order: \n",
    "    \n",
    "    def __init__(self, name): \n",
    "        self.customer = 0 \n",
    "        self.name = name \n",
    "        \n",
    "    def order(self, price): \n",
    "        self.customer += price \n",
    "        return self.customer"
   ]
  },
  {
   "cell_type": "code",
   "execution_count": 24,
   "id": "3f8dee5d",
   "metadata": {},
   "outputs": [],
   "source": [
    "class ExtraOrder(Order):\n",
    "    \n",
    "    def order(self, price):\n",
    "        self.customer += price\n",
    "        return f'{self.customer} 원'"
   ]
  },
  {
   "cell_type": "code",
   "execution_count": 25,
   "id": "3b533fa6",
   "metadata": {
    "scrolled": true
   },
   "outputs": [
    {
     "name": "stdout",
     "output_type": "stream",
     "text": [
      "1000\n"
     ]
    }
   ],
   "source": [
    "order = Order('kevin')\n",
    "print(order.order(1000))"
   ]
  },
  {
   "cell_type": "code",
   "execution_count": 26,
   "id": "490f55b2",
   "metadata": {},
   "outputs": [
    {
     "name": "stdout",
     "output_type": "stream",
     "text": [
      "1000 원\n"
     ]
    }
   ],
   "source": [
    "eOrder = ExtraOrder('kevin')\n",
    "print(eOrder.order(1000))"
   ]
  },
  {
   "cell_type": "markdown",
   "id": "abc0acf2",
   "metadata": {},
   "source": [
    "## Q9. 업무미팅이 2시임을 알려주는 자동 이메일을 클래스 AutoEmail을 작성하여 아래와 같이 출력하세요.\n",
    "안녕하세요. Kevin님, 업무미팅은 2시입니다."
   ]
  },
  {
   "cell_type": "code",
   "execution_count": 27,
   "id": "2920ba45",
   "metadata": {},
   "outputs": [],
   "source": [
    "from datetime import datetime"
   ]
  },
  {
   "cell_type": "code",
   "execution_count": 28,
   "id": "f4cad0a7",
   "metadata": {},
   "outputs": [],
   "source": [
    "class AutoEmail:\n",
    "\n",
    "    def __init__(self, name):\n",
    "        self.name = name\n",
    "\n",
    "    def remind(self):\n",
    "        print(f'안녕하세요. {self.name}님, 업무미팅은 2시입니다.')"
   ]
  },
  {
   "cell_type": "code",
   "execution_count": 29,
   "id": "a9a89509",
   "metadata": {},
   "outputs": [],
   "source": [
    "email = AutoEmail('kevin')"
   ]
  },
  {
   "cell_type": "code",
   "execution_count": 30,
   "id": "5978a658",
   "metadata": {},
   "outputs": [
    {
     "name": "stdout",
     "output_type": "stream",
     "text": [
      "안녕하세요. kevin님, 업무미팅은 2시입니다.\n"
     ]
    }
   ],
   "source": [
    "email.remind()"
   ]
  },
  {
   "cell_type": "markdown",
   "id": "953658c6",
   "metadata": {},
   "source": [
    "# 0719"
   ]
  },
  {
   "cell_type": "code",
   "execution_count": 31,
   "id": "4c7be857",
   "metadata": {},
   "outputs": [],
   "source": [
    "import re"
   ]
  },
  {
   "cell_type": "markdown",
   "id": "84d201ce",
   "metadata": {},
   "source": [
    "## Q10 정규표현식을 사용하여 text에서 전화번호만 출력하세요."
   ]
  },
  {
   "cell_type": "code",
   "execution_count": 32,
   "id": "ea312d57",
   "metadata": {},
   "outputs": [],
   "source": [
    "text =\"문의 사항이 있으면 032-232-3245으로 연락주시기 바랍니다.\""
   ]
  },
  {
   "cell_type": "code",
   "execution_count": 33,
   "id": "2dcb71fa",
   "metadata": {},
   "outputs": [
    {
     "name": "stdout",
     "output_type": "stream",
     "text": [
      "032-232-3245\n"
     ]
    }
   ],
   "source": [
    "p = re.compile('\\d+[-]\\d+[-]\\d+')\n",
    "srch = p.search(text)\n",
    "print(srch.group())"
   ]
  },
  {
   "cell_type": "code",
   "execution_count": 34,
   "id": "ff8486b1",
   "metadata": {},
   "outputs": [
    {
     "name": "stdout",
     "output_type": "stream",
     "text": [
      "032-232-3245\n"
     ]
    }
   ],
   "source": [
    "p = re.compile('(\\d{3})[-](\\d{3})[-](\\d{4})')\n",
    "srch = p.search(text)\n",
    "print(srch.group())"
   ]
  },
  {
   "cell_type": "markdown",
   "id": "52286200",
   "metadata": {},
   "source": [
    "## Q11 정규표현식을 사용하여 text에서 에러가 들어간 부분만 포함하는 리스트를 출력하세요.\n",
    "text = \"에러 1122, 레퍼런스 오류, 에러 1033, 아규먼트 오류, 에러 xxx\"\n",
    "에러 어쩌구 만 출력"
   ]
  },
  {
   "cell_type": "code",
   "execution_count": 35,
   "id": "2684121b",
   "metadata": {},
   "outputs": [],
   "source": [
    "text = \"에러 1122, 레퍼런스 오류, 에러 1033, 아규먼트 오류, 에러 xxx\""
   ]
  },
  {
   "cell_type": "code",
   "execution_count": 36,
   "id": "7b3d3285",
   "metadata": {},
   "outputs": [
    {
     "name": "stdout",
     "output_type": "stream",
     "text": [
      "['에러 1122', '에러 1033', '에러 xxx']\n"
     ]
    }
   ],
   "source": [
    "p = re.compile('에러\\s*\\w+')\n",
    "fa = p.findall(text)\n",
    "print(fa)"
   ]
  },
  {
   "cell_type": "code",
   "execution_count": 37,
   "id": "529656f4",
   "metadata": {},
   "outputs": [
    {
     "name": "stdout",
     "output_type": "stream",
     "text": [
      "[' 1122', ' 1033', ' xxx']\n"
     ]
    }
   ],
   "source": [
    "p = '(?<=에러)\\s?\\w+'\n",
    "fa = re.findall(p, text)\n",
    "print(fa)"
   ]
  },
  {
   "cell_type": "markdown",
   "id": "9990e1d3",
   "metadata": {},
   "source": [
    "## Q12 정규표현식을 사용하여 text에서 지역코드만 출력하세요."
   ]
  },
  {
   "cell_type": "code",
   "execution_count": 38,
   "id": "305b2142",
   "metadata": {},
   "outputs": [],
   "source": [
    "text =\"문의 사항이 있으면 032-232-3245으로 연락주시기 바랍니다.\""
   ]
  },
  {
   "cell_type": "code",
   "execution_count": 39,
   "id": "d17dfee1",
   "metadata": {},
   "outputs": [
    {
     "name": "stdout",
     "output_type": "stream",
     "text": [
      "032\n"
     ]
    }
   ],
   "source": [
    "p = re.compile('(\\d+)[-](\\d+)[-](\\d+)')\n",
    "srch = p.search(text)\n",
    "print(srch.group(1))"
   ]
  },
  {
   "cell_type": "markdown",
   "id": "376ebd98",
   "metadata": {},
   "source": [
    "## Q13 정규표현식을 사용하여 text에서 지역코드를 제외한 번호만 출력하세요."
   ]
  },
  {
   "cell_type": "code",
   "execution_count": 40,
   "id": "a8fbcdba",
   "metadata": {},
   "outputs": [],
   "source": [
    "text =\"문의 사항이 있으면 032-232-3245으로 연락주시기 바랍니다.\""
   ]
  },
  {
   "cell_type": "code",
   "execution_count": 41,
   "id": "851d6e1a",
   "metadata": {},
   "outputs": [
    {
     "name": "stdout",
     "output_type": "stream",
     "text": [
      "232-3245\n"
     ]
    }
   ],
   "source": [
    "p = re.compile('(\\d+)[-](\\d+[-]\\d+)')\n",
    "srch = p.search(text)\n",
    "print(srch.group(2))"
   ]
  },
  {
   "cell_type": "markdown",
   "id": "9ad404e0",
   "metadata": {},
   "source": [
    "## Q14 'abcdefghij' 에 대하여 중첩을 적용한 서브그룹 5개로 컴파일하여 group()함수를 이용하여 'abcdefghi'와 e'를 출력하세요\n"
   ]
  },
  {
   "cell_type": "code",
   "execution_count": 42,
   "id": "da28c802",
   "metadata": {},
   "outputs": [],
   "source": [
    "str1 = 'abcdefghij'"
   ]
  },
  {
   "cell_type": "code",
   "execution_count": 43,
   "id": "c04610d5",
   "metadata": {},
   "outputs": [
    {
     "name": "stdout",
     "output_type": "stream",
     "text": [
      "abcdefghi\n",
      "e\n"
     ]
    }
   ],
   "source": [
    "p = re.compile('(([a-d]+)(e)([f-i]+))([j])')\n",
    "srch = p.search(str1)\n",
    "print(srch.group(1)) \n",
    "print(srch.group(3))"
   ]
  },
  {
   "cell_type": "markdown",
   "id": "d9d6c708",
   "metadata": {},
   "source": [
    "## Q15 위 문제 모든 서브그룹 문자열을 튜플로 출력"
   ]
  },
  {
   "cell_type": "code",
   "execution_count": 44,
   "id": "91ee3e97",
   "metadata": {},
   "outputs": [
    {
     "name": "stdout",
     "output_type": "stream",
     "text": [
      "('abcdefghi', 'abcd', 'e', 'fghi', 'j')\n"
     ]
    }
   ],
   "source": [
    "print(srch.groups())"
   ]
  },
  {
   "cell_type": "markdown",
   "id": "fed41892",
   "metadata": {},
   "source": [
    "# 0720"
   ]
  },
  {
   "cell_type": "markdown",
   "id": "766b0c47",
   "metadata": {},
   "source": [
    "## Q16 이름으로 그룹을 참조하여 'Lots of punctuation 에서 Lots를 출력하세요.\n"
   ]
  },
  {
   "cell_type": "markdown",
   "id": "e6d75afb",
   "metadata": {},
   "source": [
    "- 그룹에 이름을 붙여서~~"
   ]
  },
  {
   "cell_type": "code",
   "execution_count": 45,
   "id": "c6a5a450",
   "metadata": {},
   "outputs": [],
   "source": [
    "text = 'Lots of punctuation'"
   ]
  },
  {
   "cell_type": "code",
   "execution_count": 46,
   "id": "bbc7f907",
   "metadata": {},
   "outputs": [],
   "source": [
    "p = re.compile('(?P<name1>\\w+)\\s(?P<name2>\\w+)\\s(?P<name3>\\w+)')"
   ]
  },
  {
   "cell_type": "code",
   "execution_count": 47,
   "id": "37b19e60",
   "metadata": {},
   "outputs": [
    {
     "name": "stdout",
     "output_type": "stream",
     "text": [
      "Lots\n"
     ]
    }
   ],
   "source": [
    "srch = p.search(text)\n",
    "print(srch.group('name1'))"
   ]
  },
  {
   "cell_type": "markdown",
   "id": "f0362f01",
   "metadata": {},
   "source": [
    "## Q17 'Paris is very very beautiful.'에서 'very very'를 출력하세요."
   ]
  },
  {
   "cell_type": "code",
   "execution_count": 48,
   "id": "a09b0782",
   "metadata": {},
   "outputs": [],
   "source": [
    "text = 'Paris is very very beautiful.'"
   ]
  },
  {
   "cell_type": "code",
   "execution_count": 49,
   "id": "e2e95257",
   "metadata": {},
   "outputs": [
    {
     "name": "stdout",
     "output_type": "stream",
     "text": [
      "very very\n"
     ]
    }
   ],
   "source": [
    "p = re.compile('\\w+\\s+\\w+')\n",
    "fa = p.findall(text)\n",
    "print(fa[1])"
   ]
  },
  {
   "cell_type": "markdown",
   "id": "0e7b621d",
   "metadata": {},
   "source": [
    "## Q18 정규표현식을 작성하여 아래와 같이 출력하세요."
   ]
  },
  {
   "cell_type": "markdown",
   "id": "21bc25e9",
   "metadata": {},
   "source": [
    "- ['1 apple', '5 oranges', '3 boys', '4 girls', '10 army', '11 mr']"
   ]
  },
  {
   "cell_type": "code",
   "execution_count": 50,
   "id": "36f5c98a",
   "metadata": {},
   "outputs": [
    {
     "name": "stdout",
     "output_type": "stream",
     "text": [
      "['1 apple', '5 oranges', '3 boys', '4 girls', '10 army', '11 mr']\n"
     ]
    }
   ],
   "source": [
    "import re\n",
    "li = '1 apple, 5 oranges, 3 boys, 4 girls; 10 army| 11 mr'\n",
    "regex = re.compile('\\d+\\s\\w+')\n",
    "list_ = regex.findall(li)\n",
    "print(list_)"
   ]
  },
  {
   "cell_type": "markdown",
   "id": "71f874a8",
   "metadata": {},
   "source": [
    "## Q19. text에서 'H, h'만 출력하세요."
   ]
  },
  {
   "cell_type": "code",
   "execution_count": 51,
   "id": "e1a08f1c",
   "metadata": {},
   "outputs": [
    {
     "name": "stdout",
     "output_type": "stream",
     "text": [
      "H ,  h\n"
     ]
    }
   ],
   "source": [
    "text = 'Hello my friend! Life is short you need Python!'\n",
    "\n",
    "spl_text = text.split(\" \")\n",
    "print(spl_text[0][0], ', ', spl_text[5][1])"
   ]
  },
  {
   "cell_type": "markdown",
   "id": "98dddde3",
   "metadata": {},
   "source": [
    "## Q20. text에서 'H, h'가 아닌 것 모두를 출력하세요."
   ]
  },
  {
   "cell_type": "code",
   "execution_count": 52,
   "id": "472a64f6",
   "metadata": {},
   "outputs": [
    {
     "name": "stdout",
     "output_type": "stream",
     "text": [
      "ello my friend! Life is sort you need Pyton!\n"
     ]
    }
   ],
   "source": [
    "text = 'Hello my friend! Life is short you need Python!'\n",
    "\n",
    "tmp1 = text.replace('H', '')\n",
    "tmp2 = tmp1.replace('h', '')\n",
    "print(tmp2)"
   ]
  },
  {
   "cell_type": "markdown",
   "id": "9f27de57",
   "metadata": {},
   "source": [
    "# 0721"
   ]
  },
  {
   "cell_type": "markdown",
   "id": "f882f5d1",
   "metadata": {},
   "source": [
    "## Q21. 'we are going home'에서 home만 출력하세요.\n"
   ]
  },
  {
   "cell_type": "code",
   "execution_count": 53,
   "id": "c6d98f1b",
   "metadata": {},
   "outputs": [
    {
     "name": "stdout",
     "output_type": "stream",
     "text": [
      "home\n"
     ]
    }
   ],
   "source": [
    "text = 'we are going home'\n",
    "\n",
    "print(text.split(' ')[3])"
   ]
  },
  {
   "cell_type": "markdown",
   "id": "365d30aa",
   "metadata": {},
   "source": [
    "## Q22. '199305, 1923A, a93247'에서 '199305'만 출력하세요."
   ]
  },
  {
   "cell_type": "code",
   "execution_count": 54,
   "id": "94a2f24f",
   "metadata": {},
   "outputs": [
    {
     "name": "stdout",
     "output_type": "stream",
     "text": [
      "199305\n"
     ]
    }
   ],
   "source": [
    "text = '199305, 1923A, a93247'\n",
    "print(text.split(', ')[0])"
   ]
  },
  {
   "cell_type": "markdown",
   "id": "8caf258e",
   "metadata": {},
   "source": [
    "## Q23. '12345abc'에서 'abc'만 출력하세요.\n"
   ]
  },
  {
   "cell_type": "code",
   "execution_count": 55,
   "id": "18454191",
   "metadata": {},
   "outputs": [
    {
     "name": "stdout",
     "output_type": "stream",
     "text": [
      "abc\n"
     ]
    }
   ],
   "source": [
    "import re\n",
    "srch = re.search('\\D+', '12345abc')\n",
    "print(srch.group())"
   ]
  },
  {
   "cell_type": "markdown",
   "id": "89d6a538",
   "metadata": {},
   "source": [
    "## Q24. '12345abc'에서 a만 출력"
   ]
  },
  {
   "cell_type": "code",
   "execution_count": 56,
   "id": "1449193d",
   "metadata": {},
   "outputs": [
    {
     "name": "stdout",
     "output_type": "stream",
     "text": [
      "a\n"
     ]
    }
   ],
   "source": [
    "srch = re.search('\\D+', '12345abc')\n",
    "print(srch.group()[0])"
   ]
  },
  {
   "cell_type": "markdown",
   "id": "08675fcb",
   "metadata": {},
   "source": [
    "## Q25. 'abc12345Abc' 에서 A만 출력?"
   ]
  },
  {
   "cell_type": "code",
   "execution_count": 66,
   "id": "6b7e08ff",
   "metadata": {},
   "outputs": [
    {
     "name": "stdout",
     "output_type": "stream",
     "text": [
      "A\n"
     ]
    }
   ],
   "source": [
    "srch = re.search('\\D+$', 'abc12345Abc')\n",
    "print(srch.group()[0])"
   ]
  },
  {
   "cell_type": "markdown",
   "id": "76a50692",
   "metadata": {},
   "source": [
    "# 0722 \n",
    "- 정규식으로"
   ]
  },
  {
   "cell_type": "code",
   "execution_count": 2,
   "id": "8511a388",
   "metadata": {},
   "outputs": [],
   "source": [
    "import re"
   ]
  },
  {
   "cell_type": "markdown",
   "id": "217f84c8",
   "metadata": {},
   "source": [
    "## Q26. 'Banker'에서 'anker', 'banker123'에서 'banker'를 출력하세요"
   ]
  },
  {
   "cell_type": "code",
   "execution_count": 5,
   "id": "e863abb6",
   "metadata": {},
   "outputs": [
    {
     "name": "stdout",
     "output_type": "stream",
     "text": [
      "anker\n"
     ]
    }
   ],
   "source": [
    "srch = re.search('[a-z]+', 'Banker')\n",
    "print(srch.group())"
   ]
  },
  {
   "cell_type": "code",
   "execution_count": 6,
   "id": "beab1e8b",
   "metadata": {},
   "outputs": [
    {
     "name": "stdout",
     "output_type": "stream",
     "text": [
      "banker\n"
     ]
    }
   ],
   "source": [
    "srch = re.search('[a-z]+', 'banker123')\n",
    "print(srch.group())"
   ]
  },
  {
   "cell_type": "markdown",
   "id": "0c1d82cb",
   "metadata": {},
   "source": [
    "## Q27. 'KOREA 대한민국'에서 '대'만 출력하세요."
   ]
  },
  {
   "cell_type": "code",
   "execution_count": 7,
   "id": "2279f929",
   "metadata": {},
   "outputs": [
    {
     "name": "stdout",
     "output_type": "stream",
     "text": [
      "대\n"
     ]
    }
   ],
   "source": [
    "srch = re.search('[가-힣]', 'KOREA 대한민국')\n",
    "print(srch.group())"
   ]
  },
  {
   "cell_type": "markdown",
   "id": "78848eb3",
   "metadata": {},
   "source": [
    "## Q28. text 에서 'aaaaBBBcccDDDeee'을 모두 출력하세요."
   ]
  },
  {
   "cell_type": "code",
   "execution_count": 8,
   "id": "2f83ff72",
   "metadata": {},
   "outputs": [],
   "source": [
    "text = 'aaaBBccDDeeaaaaBBBcccDDDeeeeeeDDDcccBBBaaaa'"
   ]
  },
  {
   "cell_type": "code",
   "execution_count": 9,
   "id": "761611e0",
   "metadata": {},
   "outputs": [
    {
     "data": {
      "text/plain": [
       "'aaaaBBBcccDDDeee'"
      ]
     },
     "execution_count": 9,
     "metadata": {},
     "output_type": "execute_result"
    }
   ],
   "source": [
    "srch = re.search('a{4}B{3}c{3}D{3}e{3}', text)\n",
    "srch.group()"
   ]
  },
  {
   "cell_type": "markdown",
   "id": "b509cb3d",
   "metadata": {},
   "source": [
    "\n",
    "## Q29. 아래의 경우에서 \\<html>만 출력하세요"
   ]
  },
  {
   "cell_type": "code",
   "execution_count": 16,
   "id": "d8242605",
   "metadata": {},
   "outputs": [
    {
     "name": "stdout",
     "output_type": "stream",
     "text": [
      "59\n",
      "<html><head><title>Title</title></head><body></body></html>\n"
     ]
    }
   ],
   "source": [
    "# greedy\n",
    "pattern = re.compile('<.*>')\n",
    "text = '<html><head><title>Title</title></head><body></body></html>'\n",
    "\n",
    "print(len(text))\n",
    "s = pattern.search(text)\n",
    "print(s.group())"
   ]
  },
  {
   "cell_type": "code",
   "execution_count": 17,
   "id": "890e7b6a",
   "metadata": {},
   "outputs": [
    {
     "name": "stdout",
     "output_type": "stream",
     "text": [
      "59\n",
      "<html>\n"
     ]
    }
   ],
   "source": [
    "# lazy\n",
    "pattern = re.compile('<.*?>')\n",
    "text = '<html><head><title>Title</title></head><body></body></html>'\n",
    "\n",
    "print(len(text))\n",
    "s = pattern.search(text)\n",
    "print(s.group())"
   ]
  },
  {
   "cell_type": "markdown",
   "id": "7d77057f",
   "metadata": {},
   "source": [
    "## Q30. '1234a1234' 에서 '1', '2', '3', '4'를 모두 출력하세요"
   ]
  },
  {
   "cell_type": "code",
   "execution_count": 20,
   "id": "715eea49",
   "metadata": {},
   "outputs": [
    {
     "name": "stdout",
     "output_type": "stream",
     "text": [
      "['1', '2', '3', '4', '1', '2', '3', '4']\n"
     ]
    }
   ],
   "source": [
    "print(re.findall('\\d', '1234a1234'))"
   ]
  },
  {
   "cell_type": "code",
   "execution_count": 21,
   "id": "13cc77df",
   "metadata": {},
   "outputs": [
    {
     "name": "stdout",
     "output_type": "stream",
     "text": [
      "{'1', '4', '3', '2'}\n"
     ]
    }
   ],
   "source": [
    "print(set(re.findall('\\d', '1234a1234')))"
   ]
  },
  {
   "cell_type": "code",
   "execution_count": null,
   "id": "df99dc49",
   "metadata": {},
   "outputs": [],
   "source": []
  },
  {
   "cell_type": "code",
   "execution_count": null,
   "id": "37983dc9",
   "metadata": {},
   "outputs": [],
   "source": []
  },
  {
   "cell_type": "code",
   "execution_count": null,
   "id": "598c7e50",
   "metadata": {},
   "outputs": [],
   "source": []
  },
  {
   "cell_type": "code",
   "execution_count": null,
   "id": "4fbfc30d",
   "metadata": {},
   "outputs": [],
   "source": []
  },
  {
   "cell_type": "code",
   "execution_count": null,
   "id": "081205f4",
   "metadata": {},
   "outputs": [],
   "source": []
  },
  {
   "cell_type": "code",
   "execution_count": null,
   "id": "b1bc3af2",
   "metadata": {},
   "outputs": [],
   "source": []
  },
  {
   "cell_type": "code",
   "execution_count": null,
   "id": "5b6964d4",
   "metadata": {},
   "outputs": [],
   "source": []
  },
  {
   "cell_type": "code",
   "execution_count": null,
   "id": "b482f508",
   "metadata": {},
   "outputs": [],
   "source": []
  },
  {
   "cell_type": "code",
   "execution_count": null,
   "id": "3f5017bd",
   "metadata": {},
   "outputs": [],
   "source": []
  },
  {
   "cell_type": "code",
   "execution_count": null,
   "id": "75f0c332",
   "metadata": {},
   "outputs": [],
   "source": []
  },
  {
   "cell_type": "code",
   "execution_count": null,
   "id": "df4a93a2",
   "metadata": {},
   "outputs": [],
   "source": []
  },
  {
   "cell_type": "code",
   "execution_count": null,
   "id": "bf3c9143",
   "metadata": {},
   "outputs": [],
   "source": []
  },
  {
   "cell_type": "code",
   "execution_count": null,
   "id": "f46af30c",
   "metadata": {},
   "outputs": [],
   "source": []
  }
 ],
 "metadata": {
  "kernelspec": {
   "display_name": "Python 3 (ipykernel)",
   "language": "python",
   "name": "python3"
  },
  "language_info": {
   "codemirror_mode": {
    "name": "ipython",
    "version": 3
   },
   "file_extension": ".py",
   "mimetype": "text/x-python",
   "name": "python",
   "nbconvert_exporter": "python",
   "pygments_lexer": "ipython3",
   "version": "3.8.13"
  },
  "toc": {
   "base_numbering": 1,
   "nav_menu": {},
   "number_sections": true,
   "sideBar": true,
   "skip_h1_title": false,
   "title_cell": "Table of Contents",
   "title_sidebar": "Contents",
   "toc_cell": false,
   "toc_position": {
    "height": "calc(100% - 180px)",
    "left": "10px",
    "top": "150px",
    "width": "248.375px"
   },
   "toc_section_display": true,
   "toc_window_display": true
  }
 },
 "nbformat": 4,
 "nbformat_minor": 5
}
